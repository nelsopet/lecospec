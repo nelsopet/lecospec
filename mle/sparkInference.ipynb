{
 "cells": [
  {
   "cell_type": "code",
   "execution_count": 1,
   "metadata": {},
   "outputs": [],
   "source": [
    "import pandas as pd\n"
   ]
  },
  {
   "cell_type": "code",
   "execution_count": 3,
   "metadata": {},
   "outputs": [],
   "source": [
    "filepath = \"../Data/species_table_new.csv\"\n",
    "df = pd.read_csv(filepath)"
   ]
  },
  {
   "cell_type": "code",
   "execution_count": 7,
   "metadata": {},
   "outputs": [
    {
     "name": "stdout",
     "output_type": "stream",
     "text": [
      "Index(['Code_name', 'Species_name', 'Genus', 'Functionalgroup2',\n",
      "       'Functional_group1'],\n",
      "      dtype='object')\n"
     ]
    }
   ],
   "source": [
    "print(df.columns)"
   ]
  },
  {
   "cell_type": "code",
   "execution_count": 11,
   "metadata": {},
   "outputs": [],
   "source": [
    "fg2_key = \"./fg2_is.txt\"\n",
    "fg1_key = \"./fg1_is.txt\"\n",
    "genus_key = \"./genus_is.txt\"\n",
    "species_key = \"./species_is.txt\"\n",
    "\n",
    "fg2_key_rev = \"./fg2_si.txt\"\n",
    "fg1_key_rev = \"./fg1_si.txt\"\n",
    "genus_key_rev = \"./genus_si.txt\"\n",
    "species_key_rev = \"./species_si.txt\""
   ]
  },
  {
   "cell_type": "code",
   "execution_count": 9,
   "metadata": {},
   "outputs": [],
   "source": [
    "def write_lines_to_file(filepath, lines):\n",
    "    with open(filepath, \"a+\") as out_file:\n",
    "        out_file.writelines(lines)\n"
   ]
  },
  {
   "cell_type": "code",
   "execution_count": 16,
   "metadata": {},
   "outputs": [],
   "source": [
    "def create_lines(df, col):\n",
    "    levels = df[col].unique()\n",
    "    lines = [None] * levels.shape[0]\n",
    "    rev_lines = [None] * levels.shape[0]\n",
    "    for i, val in enumerate(levels):\n",
    "        lines[i] = f'z == \"{val}\" ~ {i},\\n'\n",
    "        rev_lines[i] = f'z == {i} ~ \"{val}\",\\n'\n",
    "    return lines, rev_lines"
   ]
  },
  {
   "cell_type": "code",
   "execution_count": 17,
   "metadata": {},
   "outputs": [],
   "source": [
    "fg2_lines, fg2_lines_rev = create_lines(df, \"Functionalgroup2\")\n",
    "write_lines_to_file(fg2_key, fg2_lines)\n",
    "write_lines_to_file(fg2_key_rev, fg2_lines_rev)"
   ]
  },
  {
   "cell_type": "code",
   "execution_count": 18,
   "metadata": {},
   "outputs": [],
   "source": [
    "fg1_lines, fg1_lines_rev = create_lines(df, \"Functional_group1\")\n",
    "write_lines_to_file(fg1_key, fg1_lines)\n",
    "write_lines_to_file(fg1_key_rev, fg1_lines_rev)"
   ]
  },
  {
   "cell_type": "code",
   "execution_count": 19,
   "metadata": {},
   "outputs": [],
   "source": [
    "genus_lines, genus_lines_rev = create_lines(df, \"Genus\")\n",
    "write_lines_to_file(genus_key, genus_lines)\n",
    "write_lines_to_file(genus_key_rev, genus_lines_rev)"
   ]
  },
  {
   "cell_type": "code",
   "execution_count": 20,
   "metadata": {},
   "outputs": [],
   "source": [
    "species_lines, species_lines_rev = create_lines(df, \"Species_name\")\n",
    "write_lines_to_file(species_key, species_lines)\n",
    "write_lines_to_file(species_key_rev, species_lines_rev)"
   ]
  }
 ],
 "metadata": {
  "interpreter": {
   "hash": "63fd5069d213b44bf678585dea6b12cceca9941eaf7f819626cde1f2670de90d"
  },
  "kernelspec": {
   "display_name": "Python 3.9.7 64-bit",
   "language": "python",
   "name": "python3"
  },
  "language_info": {
   "codemirror_mode": {
    "name": "ipython",
    "version": 3
   },
   "file_extension": ".py",
   "mimetype": "text/x-python",
   "name": "python",
   "nbconvert_exporter": "python",
   "pygments_lexer": "ipython3",
   "version": "3.9.7"
  },
  "orig_nbformat": 4
 },
 "nbformat": 4,
 "nbformat_minor": 2
}
