{
 "cells": [
  {
   "cell_type": "code",
   "execution_count": null,
   "metadata": {},
   "outputs": [],
   "source": [
    "import pandas as pd\n",
    "import numpy as np\n",
    "import copy\n",
    "import matplotlib.pyplot as plt\n",
    "import pickle\n",
    "import rasterio\n",
    "\n",
    "from sklearn.ensemble import RandomForestClassifier\n",
    "from sklearn.model_selection import train_test_split\n",
    "from sklearn.metrics import f1_score, accuracy_score, confusion_matrix, ConfusionMatrixDisplay"
   ]
  },
  {
   "cell_type": "code",
   "execution_count": null,
   "metadata": {},
   "outputs": [],
   "source": [
    "datacube_path = \"E:/Lecospec/raw_9105_rd_rf_or\"\n",
    "datacube = rasterio.open(datacube_path).read()\n",
    "datacube_arr = np.array(datacube)\n",
    "\n",
    "#avoid having more than 2 copies in memory, it's a big file\n",
    "del datacube\n",
    "\n",
    "datacube_df = pd.DataFrame(datacube_arr.reshape(datacube.count, -1).T)\n",
    "\n",
    "del datacube_arr"
   ]
  },
  {
   "cell_type": "code",
   "execution_count": null,
   "metadata": {},
   "outputs": [],
   "source": [
    "datacube_df.describe()"
   ]
  },
  {
   "cell_type": "code",
   "execution_count": null,
   "metadata": {},
   "outputs": [],
   "source": [
    "\n",
    "dropCols = datacube_df.columns[275:-1]\n",
    "datacube_df.drop(\n",
    "    axis='columns',\n",
    "    labels=dropCols,\n",
    "    inplace=True\n",
    ")\n",
    "datacube_df.dropna(\n",
    "    axis=0,\n",
    "    how='all',\n",
    "    inplace=True\n",
    ")"
   ]
  },
  {
   "cell_type": "markdown",
   "metadata": {},
   "source": [
    "## Agenda\n",
    "\n",
    "Peter - update on validation"
   ]
  },
  {
   "cell_type": "code",
   "execution_count": null,
   "metadata": {},
   "outputs": [],
   "source": []
  }
 ],
 "metadata": {
  "language_info": {
   "name": "python"
  },
  "orig_nbformat": 4
 },
 "nbformat": 4,
 "nbformat_minor": 2
}
