{
 "cells": [
  {
   "cell_type": "code",
   "execution_count": null,
   "metadata": {},
   "outputs": [],
   "source": [
    "import pandas as pd\n",
    "import numpy as np\n",
    "import copy\n",
    "import matplotlib.pyplot as plt\n",
    "import pickle\n",
    "import rasterio\n",
    "\n",
    "from sklearn.ensemble import RandomForestClassifier\n",
    "from sklearn.model_selection import train_test_split\n",
    "from sklearn.metrics import f1_score, accuracy_score, confusion_matrix, ConfusionMatrixDisplay"
   ]
  },
  {
   "cell_type": "code",
   "execution_count": null,
   "metadata": {},
   "outputs": [],
   "source": [
    "datacube_path = \"E:/Lecospec/raw_9105_rd_rf_or\"\n",
    "datacube = rasterio.open(datacube_path).read()\n",
    "datacube_arr = np.array(datacube)\n",
    "\n",
    "num_bands = 272\n",
    "#avoid having more than 2 copies in memory, it's a big file\n",
    "del datacube\n",
    "\n",
    "datacube_df = pd.DataFrame(datacube_arr.reshape(num_bands, -1).T)\n",
    "\n",
    "del datacube_arr\n"
   ]
  },
  {
   "cell_type": "code",
   "execution_count": null,
   "metadata": {},
   "outputs": [],
   "source": []
  }
 ],
 "metadata": {
  "language_info": {
   "name": "python"
  },
  "orig_nbformat": 4
 },
 "nbformat": 4,
 "nbformat_minor": 2
}
