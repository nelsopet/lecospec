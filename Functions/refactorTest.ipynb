{
 "cells": [
  {
   "cell_type": "code",
   "execution_count": 1,
   "metadata": {},
   "outputs": [
    {
     "name": "stdout",
     "output_type": "stream",
     "text": [
      "[1] \"c:/Users/kenne/Documents/GitHub/lecospec/Functions\"\n"
     ]
    }
   ],
   "source": [
    "print(getwd())\n"
   ]
  },
  {
   "cell_type": "code",
   "execution_count": 1,
   "metadata": {},
   "outputs": [
    {
     "name": "stderr",
     "output_type": "stream",
     "text": [
      "Loading required package: dplyr\n",
      "\n",
      "Warning message:\n",
      "\"package 'dplyr' was built under R version 4.1.1\"\n",
      "\n",
      "Attaching package: 'dplyr'\n",
      "\n",
      "\n",
      "The following objects are masked from 'package:stats':\n",
      "\n",
      "    filter, lag\n",
      "\n",
      "\n",
      "The following objects are masked from 'package:base':\n",
      "\n",
      "    intersect, setdiff, setequal, union\n",
      "\n",
      "\n",
      "Loading required package: compiler\n",
      "\n"
     ]
    }
   ],
   "source": [
    "source(\"./LandCoverEstimator_RF.R\")"
   ]
  },
  {
   "cell_type": "code",
   "execution_count": 2,
   "metadata": {},
   "outputs": [],
   "source": [
    "raster_data_path <- \"E:/Lecospec/raw_2000_rd_rf_or\"\n",
    "output_csv_filepath <- \"E:/Lecospec/raw_2000_converted.csv\"\n",
    "output_parquet_filepath <- \"../Data/raw_2000_converted.parquet\"\n"
   ]
  },
  {
   "cell_type": "code",
   "execution_count": 3,
   "metadata": {},
   "outputs": [
    {
     "name": "stdout",
     "output_type": "stream",
     "text": [
      "[1] \"rf_mod_ranger\"\n"
     ]
    }
   ],
   "source": [
    "model <- load(\"../Output/E_004_Best_Model_Ranger.rda\")\n",
    "print(model)"
   ]
  },
  {
   "cell_type": "code",
   "execution_count": 13,
   "metadata": {},
   "outputs": [
    {
     "ename": "ERROR",
     "evalue": "Error: cannot allocate vector of size 5.7 Gb\n",
     "output_type": "error",
     "traceback": [
      "Error: cannot allocate vector of size 5.7 Gb\nTraceback:\n",
      "1. preprocess_raster_to_parquet(raster_data_path, model, output_csv_filepath)",
      "2. preprocess_raster_to_df(raster_brick)",
      "3. raster::rasterToPoints(raster_obj)",
      "4. rbind(xyv, xyvr)"
     ]
    }
   ],
   "source": [
    "preprocess_raster_to_parquet(raster_data_path, model, output_csv_filepath)"
   ]
  },
  {
   "cell_type": "code",
   "execution_count": 4,
   "metadata": {},
   "outputs": [],
   "source": [
    "test_raster <- raster::brick(raster_data_path)\n"
   ]
  },
  {
   "cell_type": "code",
   "execution_count": 7,
   "metadata": {},
   "outputs": [
    {
     "data": {
      "text/html": [
       "<table class=\"dataframe\">\n",
       "<caption>A matrix: 2 × 6 of type dbl</caption>\n",
       "<thead>\n",
       "\t<tr><th></th><th scope=col>used</th><th scope=col>(Mb)</th><th scope=col>gc trigger</th><th scope=col>(Mb)</th><th scope=col>max used</th><th scope=col>(Mb)</th></tr>\n",
       "</thead>\n",
       "<tbody>\n",
       "\t<tr><th scope=row>Ncells</th><td> 1723207</td><td> 92.1</td><td>   3278928</td><td>  175.2</td><td>   2461038</td><td>  131.5</td></tr>\n",
       "\t<tr><th scope=row>Vcells</th><td>25629917</td><td>195.6</td><td>1877749243</td><td>14326.1</td><td>1572456475</td><td>11996.9</td></tr>\n",
       "</tbody>\n",
       "</table>\n"
      ],
      "text/latex": [
       "A matrix: 2 × 6 of type dbl\n",
       "\\begin{tabular}{r|llllll}\n",
       "  & used & (Mb) & gc trigger & (Mb) & max used & (Mb)\\\\\n",
       "\\hline\n",
       "\tNcells &  1723207 &  92.1 &    3278928 &   175.2 &    2461038 &   131.5\\\\\n",
       "\tVcells & 25629917 & 195.6 & 1877749243 & 14326.1 & 1572456475 & 11996.9\\\\\n",
       "\\end{tabular}\n"
      ],
      "text/markdown": [
       "\n",
       "A matrix: 2 × 6 of type dbl\n",
       "\n",
       "| <!--/--> | used | (Mb) | gc trigger | (Mb) | max used | (Mb) |\n",
       "|---|---|---|---|---|---|---|\n",
       "| Ncells |  1723207 |  92.1 |    3278928 |   175.2 |    2461038 |   131.5 |\n",
       "| Vcells | 25629917 | 195.6 | 1877749243 | 14326.1 | 1572456475 | 11996.9 |\n",
       "\n"
      ],
      "text/plain": [
       "       used     (Mb)  gc trigger (Mb)    max used   (Mb)   \n",
       "Ncells  1723207  92.1    3278928   175.2    2461038   131.5\n",
       "Vcells 25629917 195.6 1877749243 14326.1 1572456475 11996.9"
      ]
     },
     "metadata": {},
     "output_type": "display_data"
    },
    {
     "ename": "ERROR",
     "evalue": "Error: cannot allocate vector of size 5.6 Gb\n",
     "output_type": "error",
     "traceback": [
      "Error: cannot allocate vector of size 5.6 Gb\nTraceback:\n",
      "1. arrow::write_parquet(raster::rasterToPoints(test_raster), output_csv_filepath)",
      "2. raster::rasterToPoints(test_raster)",
      "3. rbind(xyv, xyvr)"
     ]
    }
   ],
   "source": [
    "gc()\n",
    "arrow::write_parquet(raster::rasterToPoints(test_raster), output_csv_filepath)"
   ]
  },
  {
   "cell_type": "code",
   "execution_count": 1,
   "metadata": {},
   "outputs": [],
   "source": [
    "av <- c(\"NDVI\",\"OSAVI\",\"SAVI\",\"MTVI\",\"NDWI\",\"PWI\",\n",
    "          \"MSI\", \"SRWI\",\"GMI1\",\"GMI2\",\"MCARI\",\"TVI\",\n",
    "          \"Vogelmann4\",\"Boochs\",\"Boochs2\",\n",
    "          \"CARI\",\"CI\",\"Carter\",\"Carter2\",\"Carter3\",\"Carter4\",\n",
    "          \"Carter5\",\"Carter6\",\"Datt\",\"Datt2\",\"Datt3\",\"Datt4\",\n",
    "          \"Datt5\",\"Datt6\",\"DD\",\"DDn\",\"D1\",\"D2\",\"EVI\",\"EGFR\",\"EGFN\",\n",
    "          \"GI\",\"Gitelson\",\"Gitelson2\",\"Green NDVI\",\"MCARI/OSAVI\",\n",
    "          \"MCARI2\",\"MCARI2/OSAVI2\",\"mNDVI\",\"mND705\",\"Maccioni\",\n",
    "          \"mREIP\",\"MSAVI\",\"mSR\",\"mSR705\",\"mSR2\",\"MTCI\",\"NDVI2\",\n",
    "          \"NDVI3\",\"NPCI\",\"OSAVI2\",\"RDVI\",\"REP_LE\",\"REP_Li\",\n",
    "          \"SIPI\",\"SPVI\",\"SR\",\"SR1\",\"SR2\",\"SR3\",\"SR4\",\"SR5\",\"SR6\",\n",
    "          \"SR7\", \"SR8\",\"SRPI\",\"Sum_Dr1\",\"Sum_Dr2\",\"TCARI\",\"TCARI2\",\n",
    "          \"TCARI/OSAVI\",\"TCARI2/OSAVI2\",\"Vogelmann\",\"NDLI\",\n",
    "          \"Vogelmann2\",\"Vogelmann3\",\"PRI\",\"CAI\",\"NDNI\",\n",
    "          \"PSSR\", \"PSND\", \"CRI1\", \"CRI2\", \"CRI3\",\n",
    "          \"CRI4\", \"MPRI\", \"PRI*CI2\", \"CI2\", \"PSRI\", \"ClAInt\", \n",
    "          \"TGI\", \"PRI_norm\",\"PARS\",\"DPI\",\"Datt7\",\"Datt8\",\n",
    "          \"GDVI_2\",\"GDVI_3\",\"GDVI_4\",\"LWVI1\",\"LWVI2\",\n",
    "          \"DWSI1\",\"DWSI2\",\"DWSI3\",\"DWSI4\",\"DWSI5\",\n",
    "          \"SWIR FI\", \"SWIR LI\", \"SWIR SI\", \"SWIR VI\"\n",
    "          )\n",
    "          "
   ]
  },
  {
   "cell_type": "code",
   "execution_count": 4,
   "metadata": {},
   "outputs": [
    {
     "name": "stdout",
     "output_type": "stream",
     "text": [
      " [1] \"Boochs\"        \"Boochs2\"       \"CARI\"          \"Carter\"       \n",
      " [5] \"Carter2\"       \"Carter3\"       \"Carter4\"       \"Carter5\"      \n",
      " [9] \"Carter6\"       \"CI\"            \"CI2\"           \"ClAInt\"       \n",
      "[13] \"CRI1\"          \"CRI2\"          \"CRI3\"          \"CRI4\"         \n",
      "[17] \"D1\"            \"D2\"            \"Datt\"          \"Datt2\"        \n",
      "[21] \"Datt3\"         \"Datt4\"         \"Datt5\"         \"Datt6\"        \n",
      "[25] \"DD\"            \"DDn\"           \"DPI\"           \"DWSI4\"        \n",
      "[29] \"EGFN\"          \"EGFR\"          \"EVI\"           \"GDVI_2\"       \n",
      "[33] \"GDVI_3\"        \"GDVI_4\"        \"GI\"            \"Gitelson\"     \n",
      "[37] \"Gitelson2\"     \"GMI1\"          \"GMI2\"          \"Green NDVI\"   \n",
      "[41] \"Maccioni\"      \"MCARI\"         \"MCARI/OSAVI\"   \"MCARI2\"       \n",
      "[45] \"MCARI2/OSAVI2\" \"mND705\"        \"mNDVI\"         \"MPRI\"         \n",
      "[49] \"MSAVI\"         \"mSR\"           \"mSR2\"          \"mSR705\"       \n",
      "[53] \"MTCI\"          \"MTVI\"          \"NDVI\"          \"NDVI2\"        \n",
      "[57] \"NDVI3\"         \"NPCI\"          \"OSAVI\"         \"OSAVI2\"       \n",
      "[61] \"PARS\"          \"PRI\"           \"PRI*CI2\"       \"PRI_norm\"     \n",
      "[65] \"PSND\"          \"PSRI\"          \"PSSR\"          \"RDVI\"         \n",
      "[69] \"REP_LE\"        \"REP_Li\"        \"SAVI\"          \"SIPI\"         \n",
      "[73] \"SPVI\"          \"SR\"            \"SR1\"           \"SR2\"          \n",
      "[77] \"SR3\"           \"SR4\"           \"SR5\"           \"SR6\"          \n",
      "[81] \"SR7\"           \"SR8\"           \"SRPI\"          \"Sum_Dr1\"      \n",
      "[85] \"Sum_Dr2\"       \"TCARI\"         \"TCARI/OSAVI\"   \"TCARI2\"       \n",
      "[89] \"TCARI2/OSAVI2\" \"TGI\"           \"TVI\"           \"Vogelmann\"    \n",
      "[93] \"Vogelmann2\"    \"Vogelmann3\"    \"Vogelmann4\"   \n"
     ]
    }
   ],
   "source": [
    "base_index <- hsdar::vegindex()\n",
    "AVIRIS_VI  <-base_index [-58]\n",
    "headwall_VI<-base_index [-c(3,26,27,31,32,33,35,48,49,58,60,66,67,71,82,99,102,103,104,105)]\n",
    "print(headwall_VI)\n",
    "write.csv(headwall_VI, \"../vegIndicesUsed.csv\")"
   ]
  },
  {
   "cell_type": "code",
   "execution_count": 5,
   "metadata": {},
   "outputs": [],
   "source": [
    "d_indexs <- c(\"Boochs\",\"Boochs2\",\"Datt3\",\"D1\",\"D2\",\"EGFR\",\"EGFN\",\n",
    "              \"Vogelmann3\",\"Sum_Dr1\",\"Sum_Dr2\",\"REP_LE\",\"DPI\")"
   ]
  },
  {
   "cell_type": "code",
   "execution_count": 6,
   "metadata": {},
   "outputs": [
    {
     "data": {
      "text/html": [
       "<style>\n",
       ".list-inline {list-style: none; margin:0; padding: 0}\n",
       ".list-inline>li {display: inline-block}\n",
       ".list-inline>li:not(:last-child)::after {content: \"\\00b7\"; padding: 0 .5ex}\n",
       "</style>\n",
       "<ol class=list-inline><li>'Boochs'</li><li>'Boochs2'</li><li>'Datt3'</li><li>'D1'</li><li>'D2'</li><li>'EGFR'</li><li>'EGFN'</li><li>'Vogelmann3'</li><li>'Sum_Dr1'</li><li>'Sum_Dr2'</li><li>'REP_LE'</li><li>'DPI'</li></ol>\n"
      ],
      "text/latex": [
       "\\begin{enumerate*}\n",
       "\\item 'Boochs'\n",
       "\\item 'Boochs2'\n",
       "\\item 'Datt3'\n",
       "\\item 'D1'\n",
       "\\item 'D2'\n",
       "\\item 'EGFR'\n",
       "\\item 'EGFN'\n",
       "\\item 'Vogelmann3'\n",
       "\\item 'Sum\\_Dr1'\n",
       "\\item 'Sum\\_Dr2'\n",
       "\\item 'REP\\_LE'\n",
       "\\item 'DPI'\n",
       "\\end{enumerate*}\n"
      ],
      "text/markdown": [
       "1. 'Boochs'\n",
       "2. 'Boochs2'\n",
       "3. 'Datt3'\n",
       "4. 'D1'\n",
       "5. 'D2'\n",
       "6. 'EGFR'\n",
       "7. 'EGFN'\n",
       "8. 'Vogelmann3'\n",
       "9. 'Sum_Dr1'\n",
       "10. 'Sum_Dr2'\n",
       "11. 'REP_LE'\n",
       "12. 'DPI'\n",
       "\n",
       "\n"
      ],
      "text/plain": [
       " [1] \"Boochs\"     \"Boochs2\"    \"Datt3\"      \"D1\"         \"D2\"        \n",
       " [6] \"EGFR\"       \"EGFN\"       \"Vogelmann3\" \"Sum_Dr1\"    \"Sum_Dr2\"   \n",
       "[11] \"REP_LE\"     \"DPI\"       "
      ]
     },
     "metadata": {},
     "output_type": "display_data"
    }
   ],
   "source": [
    "intersect(d_indexs, headwall_VI)"
   ]
  },
  {
   "cell_type": "code",
   "execution_count": null,
   "metadata": {},
   "outputs": [],
   "source": [
    "future::plan(multisession)\n",
    "\n",
    "prediction_future <- future::future({\n",
    "    raster_input <- \n",
    "\n",
    "}, lazy = TRUE)"
   ]
  }
 ],
 "metadata": {
  "kernelspec": {
   "display_name": "R",
   "language": "R",
   "name": "ir"
  },
  "language_info": {
   "codemirror_mode": "r",
   "file_extension": ".r",
   "mimetype": "text/x-r-source",
   "name": "R",
   "pygments_lexer": "r",
   "version": "4.1.0"
  },
  "orig_nbformat": 4
 },
 "nbformat": 4,
 "nbformat_minor": 2
}
