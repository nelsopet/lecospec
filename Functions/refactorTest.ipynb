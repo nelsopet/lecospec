{
 "cells": [
  {
   "cell_type": "code",
   "execution_count": 1,
   "metadata": {},
   "outputs": [
    {
     "name": "stdout",
     "output_type": "stream",
     "text": [
      "[1] \"c:/Users/kenne/Documents/GitHub/lecospec/Functions\"\n"
     ]
    }
   ],
   "source": [
    "print(getwd())\n"
   ]
  },
  {
   "cell_type": "code",
   "execution_count": 1,
   "metadata": {},
   "outputs": [
    {
     "name": "stderr",
     "output_type": "stream",
     "text": [
      "Loading required package: dplyr\n",
      "\n",
      "Warning message:\n",
      "\"package 'dplyr' was built under R version 4.1.1\"\n",
      "\n",
      "Attaching package: 'dplyr'\n",
      "\n",
      "\n",
      "The following objects are masked from 'package:stats':\n",
      "\n",
      "    filter, lag\n",
      "\n",
      "\n",
      "The following objects are masked from 'package:base':\n",
      "\n",
      "    intersect, setdiff, setequal, union\n",
      "\n",
      "\n",
      "Loading required package: compiler\n",
      "\n"
     ]
    }
   ],
   "source": [
    "source(\"./LandCoverEstimator_RF.R\")"
   ]
  },
  {
   "cell_type": "code",
   "execution_count": 2,
   "metadata": {},
   "outputs": [],
   "source": [
    "raster_data_path <- \"E:/Lecospec/raw_2000_rd_rf_or\"\n",
    "output_csv_filepath <- \"E:/Lecospec/raw_2000_converted.csv\"\n",
    "output_parquet_filepath <- \"../Data/raw_2000_converted.parquet\"\n"
   ]
  },
  {
   "cell_type": "code",
   "execution_count": 3,
   "metadata": {},
   "outputs": [
    {
     "name": "stdout",
     "output_type": "stream",
     "text": [
      "[1] \"rf_mod_ranger\"\n"
     ]
    }
   ],
   "source": [
    "model <- load(\"../Output/E_004_Best_Model_Ranger.rda\")\n",
    "print(model)"
   ]
  },
  {
   "cell_type": "code",
   "execution_count": 13,
   "metadata": {},
   "outputs": [
    {
     "ename": "ERROR",
     "evalue": "Error: cannot allocate vector of size 5.7 Gb\n",
     "output_type": "error",
     "traceback": [
      "Error: cannot allocate vector of size 5.7 Gb\nTraceback:\n",
      "1. preprocess_raster_to_parquet(raster_data_path, model, output_csv_filepath)",
      "2. preprocess_raster_to_df(raster_brick)",
      "3. raster::rasterToPoints(raster_obj)",
      "4. rbind(xyv, xyvr)"
     ]
    }
   ],
   "source": [
    "preprocess_raster_to_parquet(raster_data_path, model, output_csv_filepath)"
   ]
  },
  {
   "cell_type": "code",
   "execution_count": 4,
   "metadata": {},
   "outputs": [],
   "source": [
    "test_raster <- raster::brick(raster_data_path)\n"
   ]
  },
  {
   "cell_type": "code",
   "execution_count": 7,
   "metadata": {},
   "outputs": [
    {
     "data": {
      "text/html": [
       "<table class=\"dataframe\">\n",
       "<caption>A matrix: 2 × 6 of type dbl</caption>\n",
       "<thead>\n",
       "\t<tr><th></th><th scope=col>used</th><th scope=col>(Mb)</th><th scope=col>gc trigger</th><th scope=col>(Mb)</th><th scope=col>max used</th><th scope=col>(Mb)</th></tr>\n",
       "</thead>\n",
       "<tbody>\n",
       "\t<tr><th scope=row>Ncells</th><td> 1723207</td><td> 92.1</td><td>   3278928</td><td>  175.2</td><td>   2461038</td><td>  131.5</td></tr>\n",
       "\t<tr><th scope=row>Vcells</th><td>25629917</td><td>195.6</td><td>1877749243</td><td>14326.1</td><td>1572456475</td><td>11996.9</td></tr>\n",
       "</tbody>\n",
       "</table>\n"
      ],
      "text/latex": [
       "A matrix: 2 × 6 of type dbl\n",
       "\\begin{tabular}{r|llllll}\n",
       "  & used & (Mb) & gc trigger & (Mb) & max used & (Mb)\\\\\n",
       "\\hline\n",
       "\tNcells &  1723207 &  92.1 &    3278928 &   175.2 &    2461038 &   131.5\\\\\n",
       "\tVcells & 25629917 & 195.6 & 1877749243 & 14326.1 & 1572456475 & 11996.9\\\\\n",
       "\\end{tabular}\n"
      ],
      "text/markdown": [
       "\n",
       "A matrix: 2 × 6 of type dbl\n",
       "\n",
       "| <!--/--> | used | (Mb) | gc trigger | (Mb) | max used | (Mb) |\n",
       "|---|---|---|---|---|---|---|\n",
       "| Ncells |  1723207 |  92.1 |    3278928 |   175.2 |    2461038 |   131.5 |\n",
       "| Vcells | 25629917 | 195.6 | 1877749243 | 14326.1 | 1572456475 | 11996.9 |\n",
       "\n"
      ],
      "text/plain": [
       "       used     (Mb)  gc trigger (Mb)    max used   (Mb)   \n",
       "Ncells  1723207  92.1    3278928   175.2    2461038   131.5\n",
       "Vcells 25629917 195.6 1877749243 14326.1 1572456475 11996.9"
      ]
     },
     "metadata": {},
     "output_type": "display_data"
    },
    {
     "ename": "ERROR",
     "evalue": "Error: cannot allocate vector of size 5.6 Gb\n",
     "output_type": "error",
     "traceback": [
      "Error: cannot allocate vector of size 5.6 Gb\nTraceback:\n",
      "1. arrow::write_parquet(raster::rasterToPoints(test_raster), output_csv_filepath)",
      "2. raster::rasterToPoints(test_raster)",
      "3. rbind(xyv, xyvr)"
     ]
    }
   ],
   "source": [
    "gc()\n",
    "arrow::write_parquet(raster::rasterToPoints(test_raster), output_csv_filepath)"
   ]
  },
  {
   "cell_type": "code",
   "execution_count": null,
   "metadata": {},
   "outputs": [],
   "source": []
  }
 ],
 "metadata": {
  "kernelspec": {
   "display_name": "R",
   "language": "R",
   "name": "ir"
  },
  "language_info": {
   "codemirror_mode": "r",
   "file_extension": ".r",
   "mimetype": "text/x-r-source",
   "name": "R",
   "pygments_lexer": "r",
   "version": "4.1.0"
  },
  "orig_nbformat": 4
 },
 "nbformat": 4,
 "nbformat_minor": 2
}
