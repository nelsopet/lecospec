{
 "cells": [
  {
   "cell_type": "markdown",
   "metadata": {},
   "source": [
    "# LecoSpec Data Munging"
   ]
  },
  {
   "cell_type": "code",
   "execution_count": 30,
   "metadata": {
    "vscode": {
     "languageId": "r"
    }
   },
   "outputs": [
    {
     "ename": "ERROR",
     "evalue": "Error in parse(text = x, srcfile = src): <text>:6:14: unexpected ')'\n5: if(!dir.exists(\"Functions/\")){\n6:     setwd(../)\n                ^\n",
     "output_type": "error",
     "traceback": [
      "Error in parse(text = x, srcfile = src): <text>:6:14: unexpected ')'\n5: if(!dir.exists(\"Functions/\")){\n6:     setwd(../)\n                ^\nTraceback:\n"
     ]
    }
   ],
   "source": [
    "# notebooks use their location as their working directory, so\n",
    "# if we are in a subfolder, move to the main folder.  \n",
    "# This however can safely be run multiple times\n",
    "#setwd(M:/lecospec/lecospec)\n",
    "if(!dir.exists(\"Functions/\")){\n",
    "    setwd(\"../\")\n",
    "    if(!dir.exists(\"Functions\")){\n",
    "        setwd(\"M:/lecospec/lecospec/\")\n",
    "    }\n",
    "}\n",
    "source(\"Functions/lecospectR.R\", echo = FALSE)"
   ]
  },
  {
   "cell_type": "code",
   "execution_count": 29,
   "metadata": {
    "vscode": {
     "languageId": "r"
    }
   },
   "outputs": [
    {
     "data": {
      "text/html": [
       "53"
      ],
      "text/latex": [
       "53"
      ],
      "text/markdown": [
       "53"
      ],
      "text/plain": [
       "[1] 53"
      ]
     },
     "metadata": {},
     "output_type": "display_data"
    }
   ],
   "source": [
    "6+3+2+4+17+10+9+2"
   ]
  },
  {
   "cell_type": "markdown",
   "metadata": {},
   "source": [
    "## Notation\n",
    "\n",
    "Throughout the notebook, variables starting with `img_` are UAV image-based information (data, filepaths, etc).  Similarly, variables beginning with `grd_` related to data collected on the ground.  \n",
    "\n",
    "Also, some other naming conventions for variables with data transformations:\n",
    "* `robust` in a variable name refers to data treated by center according to the median and scaling by teh inter-quartile range (a la sklearns RobustScaler)\n",
    "* `minmax` (and its ilk) are min-max scaled data, i.e. scaled to the interval [0,1] by subtracting the minimum and dividing by the range.\n",
    "* `standard(ized)` refers to data treated with with the z-score transform by centring using the mean and scaling y the standard deviation (like sklearns StandardScaler)\n",
    "* `corrected` means that a linear transformation has been applied to account for differences in sensor calibration.\n",
    "* `raw` refers to having no transformations applied\n",
    "* `clipped` means that outliers have been clipped to the upper and lower fence values based on the Inter-Quartile Range method. \n",
    "* `imputed` means that outliers have been removed and imputed\n",
    "* `dropped` means that dataframe rows containing outliers have been removed\n",
    "\n",
    "Example: `img_robust_indices` refers to vegetation indices from the UAV images treated with the robust scaler. "
   ]
  },
  {
   "cell_type": "code",
   "execution_count": null,
   "metadata": {
    "vscode": {
     "languageId": "r"
    }
   },
   "outputs": [],
   "source": []
  },
  {
   "cell_type": "markdown",
   "metadata": {},
   "source": [
    "## Define data locations\n"
   ]
  },
  {
   "cell_type": "code",
   "execution_count": 23,
   "metadata": {
    "vscode": {
     "languageId": "r"
    }
   },
   "outputs": [
    {
     "data": {
      "text/html": [
       "<table class=\"dataframe\">\n",
       "<caption>A data.frame: 6 × 2186</caption>\n",
       "<thead>\n",
       "\t<tr><th></th><th scope=col>X</th><th scope=col>ScanID</th><th scope=col>Area</th><th scope=col>Code_name</th><th scope=col>Species_name</th><th scope=col>Functional_group1</th><th scope=col>Functional_group2</th><th scope=col>Species_name_Freq</th><th scope=col>Functional_group1_Freq</th><th scope=col>Functional_group2_Freq</th><th scope=col>⋯</th><th scope=col>Radiometric.Calibration</th><th scope=col>Units</th><th scope=col>Latitude</th><th scope=col>Longitude</th><th scope=col>Altitude</th><th scope=col>GPS.Time</th><th scope=col>Satellites</th><th scope=col>Calibrated.Reference.Correction.File</th><th scope=col>Channels</th><th scope=col>ScanNum</th></tr>\n",
       "\t<tr><th></th><th scope=col>&lt;int&gt;</th><th scope=col>&lt;chr&gt;</th><th scope=col>&lt;chr&gt;</th><th scope=col>&lt;chr&gt;</th><th scope=col>&lt;chr&gt;</th><th scope=col>&lt;chr&gt;</th><th scope=col>&lt;chr&gt;</th><th scope=col>&lt;int&gt;</th><th scope=col>&lt;int&gt;</th><th scope=col>&lt;int&gt;</th><th scope=col>⋯</th><th scope=col>&lt;chr&gt;</th><th scope=col>&lt;chr&gt;</th><th scope=col>&lt;dbl&gt;</th><th scope=col>&lt;dbl&gt;</th><th scope=col>&lt;dbl&gt;</th><th scope=col>&lt;chr&gt;</th><th scope=col>&lt;chr&gt;</th><th scope=col>&lt;chr&gt;</th><th scope=col>&lt;int&gt;</th><th scope=col>&lt;int&gt;</th></tr>\n",
       "</thead>\n",
       "<tbody>\n",
       "\t<tr><th scope=row>1</th><td>1</td><td>aleoch_Murph_061</td><td>Murphy     </td><td>aleoch</td><td>Alectoria ochroleuca</td><td>Lichen    </td><td>LightTerrestrialMacrolichen</td><td> 6</td><td>453</td><td>118</td><td>⋯</td><td>NA</td><td>NA</td><td>NA</td><td>NA</td><td>NA</td><td>NA</td><td>NA</td><td>NA</td><td>NA</td><td>NA</td></tr>\n",
       "\t<tr><th scope=row>2</th><td>2</td><td>aleoch_Murph_063</td><td>Murphy     </td><td>aleoch</td><td>Alectoria ochroleuca</td><td>Lichen    </td><td>LightTerrestrialMacrolichen</td><td> 6</td><td>453</td><td>118</td><td>⋯</td><td>NA</td><td>NA</td><td>NA</td><td>NA</td><td>NA</td><td>NA</td><td>NA</td><td>NA</td><td>NA</td><td>NA</td></tr>\n",
       "\t<tr><th scope=row>3</th><td>3</td><td>aleoch_Murph_064</td><td>Murphy     </td><td>aleoch</td><td>Alectoria ochroleuca</td><td>Lichen    </td><td>LightTerrestrialMacrolichen</td><td> 6</td><td>453</td><td>118</td><td>⋯</td><td>NA</td><td>NA</td><td>NA</td><td>NA</td><td>NA</td><td>NA</td><td>NA</td><td>NA</td><td>NA</td><td>NA</td></tr>\n",
       "\t<tr><th scope=row>4</th><td>4</td><td>aleoch_Murph_065</td><td>Murphy     </td><td>aleoch</td><td>Alectoria ochroleuca</td><td>Lichen    </td><td>LightTerrestrialMacrolichen</td><td> 6</td><td>453</td><td>118</td><td>⋯</td><td>NA</td><td>NA</td><td>NA</td><td>NA</td><td>NA</td><td>NA</td><td>NA</td><td>NA</td><td>NA</td><td>NA</td></tr>\n",
       "\t<tr><th scope=row>5</th><td>5</td><td>aleoch_Murph_066</td><td>Murphy     </td><td>aleoch</td><td>Alectoria ochroleuca</td><td>Lichen    </td><td>LightTerrestrialMacrolichen</td><td> 6</td><td>453</td><td>118</td><td>⋯</td><td>NA</td><td>NA</td><td>NA</td><td>NA</td><td>NA</td><td>NA</td><td>NA</td><td>NA</td><td>NA</td><td>NA</td></tr>\n",
       "\t<tr><th scope=row>6</th><td>6</td><td>alnfru_00003    </td><td>Yukon_Delta</td><td>alnfru</td><td>Alnus sp.           </td><td>ShrubDecid</td><td>ShrubAlder                 </td><td>82</td><td>360</td><td> 82</td><td>⋯</td><td>NA</td><td>NA</td><td>NA</td><td>NA</td><td>NA</td><td>NA</td><td>NA</td><td>NA</td><td>NA</td><td>NA</td></tr>\n",
       "</tbody>\n",
       "</table>\n"
      ],
      "text/latex": [
       "A data.frame: 6 × 2186\n",
       "\\begin{tabular}{r|lllllllllllllllllllll}\n",
       "  & X & ScanID & Area & Code\\_name & Species\\_name & Functional\\_group1 & Functional\\_group2 & Species\\_name\\_Freq & Functional\\_group1\\_Freq & Functional\\_group2\\_Freq & ⋯ & Radiometric.Calibration & Units & Latitude & Longitude & Altitude & GPS.Time & Satellites & Calibrated.Reference.Correction.File & Channels & ScanNum\\\\\n",
       "  & <int> & <chr> & <chr> & <chr> & <chr> & <chr> & <chr> & <int> & <int> & <int> & ⋯ & <chr> & <chr> & <dbl> & <dbl> & <dbl> & <chr> & <chr> & <chr> & <int> & <int>\\\\\n",
       "\\hline\n",
       "\t1 & 1 & aleoch\\_Murph\\_061 & Murphy      & aleoch & Alectoria ochroleuca & Lichen     & LightTerrestrialMacrolichen &  6 & 453 & 118 & ⋯ & NA & NA & NA & NA & NA & NA & NA & NA & NA & NA\\\\\n",
       "\t2 & 2 & aleoch\\_Murph\\_063 & Murphy      & aleoch & Alectoria ochroleuca & Lichen     & LightTerrestrialMacrolichen &  6 & 453 & 118 & ⋯ & NA & NA & NA & NA & NA & NA & NA & NA & NA & NA\\\\\n",
       "\t3 & 3 & aleoch\\_Murph\\_064 & Murphy      & aleoch & Alectoria ochroleuca & Lichen     & LightTerrestrialMacrolichen &  6 & 453 & 118 & ⋯ & NA & NA & NA & NA & NA & NA & NA & NA & NA & NA\\\\\n",
       "\t4 & 4 & aleoch\\_Murph\\_065 & Murphy      & aleoch & Alectoria ochroleuca & Lichen     & LightTerrestrialMacrolichen &  6 & 453 & 118 & ⋯ & NA & NA & NA & NA & NA & NA & NA & NA & NA & NA\\\\\n",
       "\t5 & 5 & aleoch\\_Murph\\_066 & Murphy      & aleoch & Alectoria ochroleuca & Lichen     & LightTerrestrialMacrolichen &  6 & 453 & 118 & ⋯ & NA & NA & NA & NA & NA & NA & NA & NA & NA & NA\\\\\n",
       "\t6 & 6 & alnfru\\_00003     & Yukon\\_Delta & alnfru & Alnus sp.            & ShrubDecid & ShrubAlder                  & 82 & 360 &  82 & ⋯ & NA & NA & NA & NA & NA & NA & NA & NA & NA & NA\\\\\n",
       "\\end{tabular}\n"
      ],
      "text/markdown": [
       "\n",
       "A data.frame: 6 × 2186\n",
       "\n",
       "| <!--/--> | X &lt;int&gt; | ScanID &lt;chr&gt; | Area &lt;chr&gt; | Code_name &lt;chr&gt; | Species_name &lt;chr&gt; | Functional_group1 &lt;chr&gt; | Functional_group2 &lt;chr&gt; | Species_name_Freq &lt;int&gt; | Functional_group1_Freq &lt;int&gt; | Functional_group2_Freq &lt;int&gt; | ⋯ ⋯ | Radiometric.Calibration &lt;chr&gt; | Units &lt;chr&gt; | Latitude &lt;dbl&gt; | Longitude &lt;dbl&gt; | Altitude &lt;dbl&gt; | GPS.Time &lt;chr&gt; | Satellites &lt;chr&gt; | Calibrated.Reference.Correction.File &lt;chr&gt; | Channels &lt;int&gt; | ScanNum &lt;int&gt; |\n",
       "|---|---|---|---|---|---|---|---|---|---|---|---|---|---|---|---|---|---|---|---|---|---|\n",
       "| 1 | 1 | aleoch_Murph_061 | Murphy      | aleoch | Alectoria ochroleuca | Lichen     | LightTerrestrialMacrolichen |  6 | 453 | 118 | ⋯ | NA | NA | NA | NA | NA | NA | NA | NA | NA | NA |\n",
       "| 2 | 2 | aleoch_Murph_063 | Murphy      | aleoch | Alectoria ochroleuca | Lichen     | LightTerrestrialMacrolichen |  6 | 453 | 118 | ⋯ | NA | NA | NA | NA | NA | NA | NA | NA | NA | NA |\n",
       "| 3 | 3 | aleoch_Murph_064 | Murphy      | aleoch | Alectoria ochroleuca | Lichen     | LightTerrestrialMacrolichen |  6 | 453 | 118 | ⋯ | NA | NA | NA | NA | NA | NA | NA | NA | NA | NA |\n",
       "| 4 | 4 | aleoch_Murph_065 | Murphy      | aleoch | Alectoria ochroleuca | Lichen     | LightTerrestrialMacrolichen |  6 | 453 | 118 | ⋯ | NA | NA | NA | NA | NA | NA | NA | NA | NA | NA |\n",
       "| 5 | 5 | aleoch_Murph_066 | Murphy      | aleoch | Alectoria ochroleuca | Lichen     | LightTerrestrialMacrolichen |  6 | 453 | 118 | ⋯ | NA | NA | NA | NA | NA | NA | NA | NA | NA | NA |\n",
       "| 6 | 6 | alnfru_00003     | Yukon_Delta | alnfru | Alnus sp.            | ShrubDecid | ShrubAlder                  | 82 | 360 |  82 | ⋯ | NA | NA | NA | NA | NA | NA | NA | NA | NA | NA |\n",
       "\n"
      ],
      "text/plain": [
       "  X ScanID           Area        Code_name Species_name        \n",
       "1 1 aleoch_Murph_061 Murphy      aleoch    Alectoria ochroleuca\n",
       "2 2 aleoch_Murph_063 Murphy      aleoch    Alectoria ochroleuca\n",
       "3 3 aleoch_Murph_064 Murphy      aleoch    Alectoria ochroleuca\n",
       "4 4 aleoch_Murph_065 Murphy      aleoch    Alectoria ochroleuca\n",
       "5 5 aleoch_Murph_066 Murphy      aleoch    Alectoria ochroleuca\n",
       "6 6 alnfru_00003     Yukon_Delta alnfru    Alnus sp.           \n",
       "  Functional_group1 Functional_group2           Species_name_Freq\n",
       "1 Lichen            LightTerrestrialMacrolichen  6               \n",
       "2 Lichen            LightTerrestrialMacrolichen  6               \n",
       "3 Lichen            LightTerrestrialMacrolichen  6               \n",
       "4 Lichen            LightTerrestrialMacrolichen  6               \n",
       "5 Lichen            LightTerrestrialMacrolichen  6               \n",
       "6 ShrubDecid        ShrubAlder                  82               \n",
       "  Functional_group1_Freq Functional_group2_Freq ⋯ Radiometric.Calibration Units\n",
       "1 453                    118                    ⋯ NA                      NA   \n",
       "2 453                    118                    ⋯ NA                      NA   \n",
       "3 453                    118                    ⋯ NA                      NA   \n",
       "4 453                    118                    ⋯ NA                      NA   \n",
       "5 453                    118                    ⋯ NA                      NA   \n",
       "6 360                     82                    ⋯ NA                      NA   \n",
       "  Latitude Longitude Altitude GPS.Time Satellites\n",
       "1 NA       NA        NA       NA       NA        \n",
       "2 NA       NA        NA       NA       NA        \n",
       "3 NA       NA        NA       NA       NA        \n",
       "4 NA       NA        NA       NA       NA        \n",
       "5 NA       NA        NA       NA       NA        \n",
       "6 NA       NA        NA       NA       NA        \n",
       "  Calibrated.Reference.Correction.File Channels ScanNum\n",
       "1 NA                                   NA       NA     \n",
       "2 NA                                   NA       NA     \n",
       "3 NA                                   NA       NA     \n",
       "4 NA                                   NA       NA     \n",
       "5 NA                                   NA       NA     \n",
       "6 NA                                   NA       NA     "
      ]
     },
     "metadata": {},
     "output_type": "display_data"
    }
   ],
   "source": [
    "# spectral library\n",
    "grd_base_path <- \"./Output/C_001_SC3_Cleaned_SpectralLib.csv\"\n",
    "grd_speclib <- read.csv(grd_base_path, header = TRUE)\n",
    "#grd_index_path <- ./Data/D_002_SpecLib_Derivs.csv\n",
    "#grd_indices <- read.csv(grd_index_path)\n",
    "# this data has some lines that have no labels, so we remove them \n",
    "grd_speclib <- grd_speclib[!is.na(grd_speclib$Functional_group1),]\n",
    "head(grd_speclib)"
   ]
  },
  {
   "cell_type": "code",
   "execution_count": 4,
   "metadata": {
    "vscode": {
     "languageId": "r"
    }
   },
   "outputs": [],
   "source": [
    "img_base_path <- Data/Ground_Validation/PFT_Image_spectra/PFT_Image_SpectralLib_Clean.csv\n",
    "img_speclib <- read.csv(img_base_path, header = TRUE)\n",
    "# currently, not using the old pre-proccessing scheme and just doing it here.\n",
    "#img_index_path <- Data/D_002_Image_SpecLib_Derivs.csv\n",
    "#img_speclib <- read.csv(img_base_path)\n",
    "head(img_speclib)"
   ]
  },
  {
   "cell_type": "markdown",
   "metadata": {},
   "source": [
    "Okay, there are some metadata columns that should not be there for the next step - lets remove them with `subset`"
   ]
  },
  {
   "cell_type": "code",
   "execution_count": 26,
   "metadata": {
    "vscode": {
     "languageId": "r"
    }
   },
   "outputs": [],
   "source": [
    "img_bands <- subset(\n",
    "    img_speclib, \n",
    "    select=-c(\n",
    "        X,\n",
    "    \tUID,\n",
    "        ScanNum,\n",
    "    \tsample_name,\n",
    "    \tPFT,\n",
    "    \tFncGrp1\n",
    "    ))\n",
    "\n",
    "\n",
    "grd_bands <- subset(\n",
    "    grd_speclib, \n",
    "    select=-c(\n",
    "        X,\n",
    "        ScanID,\n",
    "        Area,\n",
    "        Code_name,\n",
    "        Species_name,\n",
    "        Functional_group1,\n",
    "        Functional_group2,\n",
    "        Species_name_Freq,\n",
    "        Functional_group1_Freq,\n",
    "        Functional_group2_Freq,\n",
    "        Genus,\n",
    "        Version,\n",
    "        File.Name,\n",
    "        Instrument,\n",
    "        Detectors,\n",
    "        Measurement,\n",
    "        Date,\n",
    "        Time,\n",
    "        Battery.Voltage,\n",
    "        Averages,\n",
    "        Integration1,\n",
    "        Integration2,\n",
    "        Integration3,\n",
    "        Dark.Mode,\n",
    "        Foreoptic,\n",
    "        Radiometric.Calibration,\n",
    "        Units,\n",
    "        Latitude,\n",
    "        Longitude,\n",
    "        Altitude,\n",
    "        GPS.Time,\n",
    "        Satellites,\n",
    "        Calibrated.Reference.Correction.File,\n",
    "        Channels,\n",
    "        ScanNum\n",
    "    )\n",
    ")\n",
    "\n"
   ]
  },
  {
   "cell_type": "markdown",
   "metadata": {},
   "source": [
    "Calculate the vegetation indices from the spectral libraries - its easy with lecospectR!\n",
    "\n",
    "Note that the image-based scpectra are normalized from zero to one, and the ground specctra are on the range zero to one hundred.  "
   ]
  },
  {
   "cell_type": "code",
   "execution_count": 27,
   "metadata": {
    "vscode": {
     "languageId": "r"
    }
   },
   "outputs": [],
   "source": [
    "img_indices <- get_vegetation_indices(100*img_bands, NULL)# should have a default of NULL, you know?\n",
    "grd_indices <- get_vegetation_indices(grd_bands, NULL)"
   ]
  },
  {
   "cell_type": "code",
   "execution_count": 28,
   "metadata": {
    "vscode": {
     "languageId": "r"
    }
   },
   "outputs": [
    {
     "data": {
      "text/html": [
       "<table class=\"dataframe\">\n",
       "<caption>A data.frame: 6 × 95</caption>\n",
       "<thead>\n",
       "\t<tr><th></th><th scope=col>Boochs</th><th scope=col>Boochs2</th><th scope=col>CARI</th><th scope=col>Carter</th><th scope=col>Carter2</th><th scope=col>Carter3</th><th scope=col>Carter4</th><th scope=col>Carter5</th><th scope=col>Carter6</th><th scope=col>CI</th><th scope=col>⋯</th><th scope=col>TCARI</th><th scope=col>TCARIOSAVI</th><th scope=col>TCARI2</th><th scope=col>TCARI2OSAVI2</th><th scope=col>TGI</th><th scope=col>TVI</th><th scope=col>Vogelmann</th><th scope=col>Vogelmann2</th><th scope=col>Vogelmann3</th><th scope=col>Vogelmann4</th></tr>\n",
       "\t<tr><th></th><th scope=col>&lt;dbl&gt;</th><th scope=col>&lt;dbl&gt;</th><th scope=col>&lt;dbl&gt;</th><th scope=col>&lt;dbl&gt;</th><th scope=col>&lt;dbl&gt;</th><th scope=col>&lt;dbl&gt;</th><th scope=col>&lt;dbl&gt;</th><th scope=col>&lt;dbl&gt;</th><th scope=col>&lt;dbl&gt;</th><th scope=col>&lt;dbl&gt;</th><th scope=col>⋯</th><th scope=col>&lt;dbl&gt;</th><th scope=col>&lt;dbl&gt;</th><th scope=col>&lt;dbl&gt;</th><th scope=col>&lt;dbl&gt;</th><th scope=col>&lt;dbl&gt;</th><th scope=col>&lt;dbl&gt;</th><th scope=col>&lt;dbl&gt;</th><th scope=col>&lt;dbl&gt;</th><th scope=col>&lt;dbl&gt;</th><th scope=col>&lt;dbl&gt;</th></tr>\n",
       "</thead>\n",
       "<tbody>\n",
       "\t<tr><th scope=row>1</th><td>0.8972526</td><td>0.9977190</td><td>40.33337</td><td>2.606424</td><td>0.1919992</td><td>0.1823105</td><td>0.4513926</td><td>1.687375</td><td>10.546899</td><td>1.230143</td><td>⋯</td><td>18.58963</td><td>19.90055</td><td>29.37852</td><td>52.88288</td><td>571.6883</td><td>2750.790</td><td>1.502310</td><td>-0.10251539</td><td>0.8407581</td><td>-0.1132324</td></tr>\n",
       "\t<tr><th scope=row>2</th><td>0.7127460</td><td>0.8370667</td><td>49.29950</td><td>3.283496</td><td>0.2205629</td><td>0.1740857</td><td>0.4311880</td><td>2.110946</td><td>10.719907</td><td>1.103802</td><td>⋯</td><td>21.02478</td><td>22.30213</td><td>30.01417</td><td>55.92775</td><td>590.2966</td><td>2753.773</td><td>1.467985</td><td>-0.10410792</td><td>1.1292049</td><td>-0.1133074</td></tr>\n",
       "\t<tr><th scope=row>3</th><td>0.6906736</td><td>0.8058805</td><td>52.33677</td><td>3.940434</td><td>0.2402597</td><td>0.1788333</td><td>0.4415758</td><td>2.126987</td><td>10.846255</td><td>1.065731</td><td>⋯</td><td>21.37050</td><td>23.07520</td><td>30.62567</td><td>59.36034</td><td>578.1993</td><td>2743.007</td><td>1.452730</td><td>-0.10563757</td><td>1.1222517</td><td>-0.1144615</td></tr>\n",
       "\t<tr><th scope=row>4</th><td>0.8406272</td><td>0.9835800</td><td>38.36841</td><td>2.971831</td><td>0.1742222</td><td>0.1636471</td><td>0.4133345</td><td>1.643268</td><td>10.619240</td><td>1.165235</td><td>⋯</td><td>18.15420</td><td>19.32261</td><td>28.56205</td><td>48.69648</td><td>583.6640</td><td>2845.341</td><td>1.510704</td><td>-0.09834182</td><td>1.0664627</td><td>-0.1087631</td></tr>\n",
       "\t<tr><th scope=row>5</th><td>0.6519263</td><td>0.7834586</td><td>51.10986</td><td>3.397513</td><td>0.2156160</td><td>0.1586916</td><td>0.4100943</td><td>2.387455</td><td> 9.553940</td><td>1.056227</td><td>⋯</td><td>19.87457</td><td>20.37338</td><td>27.55717</td><td>50.37275</td><td>538.6860</td><td>2710.133</td><td>1.494922</td><td>-0.12274414</td><td>1.1404583</td><td>-0.1336822</td></tr>\n",
       "\t<tr><th scope=row>6</th><td>0.8973633</td><td>0.9081469</td><td>33.54324</td><td>2.065685</td><td>0.1621322</td><td>0.1601592</td><td>0.4241145</td><td>1.627772</td><td> 9.855188</td><td>1.589680</td><td>⋯</td><td>16.56562</td><td>17.29321</td><td>26.13624</td><td>43.84734</td><td>552.2945</td><td>2715.489</td><td>1.537855</td><td>-0.10372095</td><td>0.7253543</td><td>-0.1151156</td></tr>\n",
       "</tbody>\n",
       "</table>\n"
      ],
      "text/latex": [
       "A data.frame: 6 × 95\n",
       "\\begin{tabular}{r|lllllllllllllllllllll}\n",
       "  & Boochs & Boochs2 & CARI & Carter & Carter2 & Carter3 & Carter4 & Carter5 & Carter6 & CI & ⋯ & TCARI & TCARIOSAVI & TCARI2 & TCARI2OSAVI2 & TGI & TVI & Vogelmann & Vogelmann2 & Vogelmann3 & Vogelmann4\\\\\n",
       "  & <dbl> & <dbl> & <dbl> & <dbl> & <dbl> & <dbl> & <dbl> & <dbl> & <dbl> & <dbl> & ⋯ & <dbl> & <dbl> & <dbl> & <dbl> & <dbl> & <dbl> & <dbl> & <dbl> & <dbl> & <dbl>\\\\\n",
       "\\hline\n",
       "\t1 & 0.8972526 & 0.9977190 & 40.33337 & 2.606424 & 0.1919992 & 0.1823105 & 0.4513926 & 1.687375 & 10.546899 & 1.230143 & ⋯ & 18.58963 & 19.90055 & 29.37852 & 52.88288 & 571.6883 & 2750.790 & 1.502310 & -0.10251539 & 0.8407581 & -0.1132324\\\\\n",
       "\t2 & 0.7127460 & 0.8370667 & 49.29950 & 3.283496 & 0.2205629 & 0.1740857 & 0.4311880 & 2.110946 & 10.719907 & 1.103802 & ⋯ & 21.02478 & 22.30213 & 30.01417 & 55.92775 & 590.2966 & 2753.773 & 1.467985 & -0.10410792 & 1.1292049 & -0.1133074\\\\\n",
       "\t3 & 0.6906736 & 0.8058805 & 52.33677 & 3.940434 & 0.2402597 & 0.1788333 & 0.4415758 & 2.126987 & 10.846255 & 1.065731 & ⋯ & 21.37050 & 23.07520 & 30.62567 & 59.36034 & 578.1993 & 2743.007 & 1.452730 & -0.10563757 & 1.1222517 & -0.1144615\\\\\n",
       "\t4 & 0.8406272 & 0.9835800 & 38.36841 & 2.971831 & 0.1742222 & 0.1636471 & 0.4133345 & 1.643268 & 10.619240 & 1.165235 & ⋯ & 18.15420 & 19.32261 & 28.56205 & 48.69648 & 583.6640 & 2845.341 & 1.510704 & -0.09834182 & 1.0664627 & -0.1087631\\\\\n",
       "\t5 & 0.6519263 & 0.7834586 & 51.10986 & 3.397513 & 0.2156160 & 0.1586916 & 0.4100943 & 2.387455 &  9.553940 & 1.056227 & ⋯ & 19.87457 & 20.37338 & 27.55717 & 50.37275 & 538.6860 & 2710.133 & 1.494922 & -0.12274414 & 1.1404583 & -0.1336822\\\\\n",
       "\t6 & 0.8973633 & 0.9081469 & 33.54324 & 2.065685 & 0.1621322 & 0.1601592 & 0.4241145 & 1.627772 &  9.855188 & 1.589680 & ⋯ & 16.56562 & 17.29321 & 26.13624 & 43.84734 & 552.2945 & 2715.489 & 1.537855 & -0.10372095 & 0.7253543 & -0.1151156\\\\\n",
       "\\end{tabular}\n"
      ],
      "text/markdown": [
       "\n",
       "A data.frame: 6 × 95\n",
       "\n",
       "| <!--/--> | Boochs &lt;dbl&gt; | Boochs2 &lt;dbl&gt; | CARI &lt;dbl&gt; | Carter &lt;dbl&gt; | Carter2 &lt;dbl&gt; | Carter3 &lt;dbl&gt; | Carter4 &lt;dbl&gt; | Carter5 &lt;dbl&gt; | Carter6 &lt;dbl&gt; | CI &lt;dbl&gt; | ⋯ ⋯ | TCARI &lt;dbl&gt; | TCARIOSAVI &lt;dbl&gt; | TCARI2 &lt;dbl&gt; | TCARI2OSAVI2 &lt;dbl&gt; | TGI &lt;dbl&gt; | TVI &lt;dbl&gt; | Vogelmann &lt;dbl&gt; | Vogelmann2 &lt;dbl&gt; | Vogelmann3 &lt;dbl&gt; | Vogelmann4 &lt;dbl&gt; |\n",
       "|---|---|---|---|---|---|---|---|---|---|---|---|---|---|---|---|---|---|---|---|---|---|\n",
       "| 1 | 0.8972526 | 0.9977190 | 40.33337 | 2.606424 | 0.1919992 | 0.1823105 | 0.4513926 | 1.687375 | 10.546899 | 1.230143 | ⋯ | 18.58963 | 19.90055 | 29.37852 | 52.88288 | 571.6883 | 2750.790 | 1.502310 | -0.10251539 | 0.8407581 | -0.1132324 |\n",
       "| 2 | 0.7127460 | 0.8370667 | 49.29950 | 3.283496 | 0.2205629 | 0.1740857 | 0.4311880 | 2.110946 | 10.719907 | 1.103802 | ⋯ | 21.02478 | 22.30213 | 30.01417 | 55.92775 | 590.2966 | 2753.773 | 1.467985 | -0.10410792 | 1.1292049 | -0.1133074 |\n",
       "| 3 | 0.6906736 | 0.8058805 | 52.33677 | 3.940434 | 0.2402597 | 0.1788333 | 0.4415758 | 2.126987 | 10.846255 | 1.065731 | ⋯ | 21.37050 | 23.07520 | 30.62567 | 59.36034 | 578.1993 | 2743.007 | 1.452730 | -0.10563757 | 1.1222517 | -0.1144615 |\n",
       "| 4 | 0.8406272 | 0.9835800 | 38.36841 | 2.971831 | 0.1742222 | 0.1636471 | 0.4133345 | 1.643268 | 10.619240 | 1.165235 | ⋯ | 18.15420 | 19.32261 | 28.56205 | 48.69648 | 583.6640 | 2845.341 | 1.510704 | -0.09834182 | 1.0664627 | -0.1087631 |\n",
       "| 5 | 0.6519263 | 0.7834586 | 51.10986 | 3.397513 | 0.2156160 | 0.1586916 | 0.4100943 | 2.387455 |  9.553940 | 1.056227 | ⋯ | 19.87457 | 20.37338 | 27.55717 | 50.37275 | 538.6860 | 2710.133 | 1.494922 | -0.12274414 | 1.1404583 | -0.1336822 |\n",
       "| 6 | 0.8973633 | 0.9081469 | 33.54324 | 2.065685 | 0.1621322 | 0.1601592 | 0.4241145 | 1.627772 |  9.855188 | 1.589680 | ⋯ | 16.56562 | 17.29321 | 26.13624 | 43.84734 | 552.2945 | 2715.489 | 1.537855 | -0.10372095 | 0.7253543 | -0.1151156 |\n",
       "\n"
      ],
      "text/plain": [
       "  Boochs    Boochs2   CARI     Carter   Carter2   Carter3   Carter4   Carter5 \n",
       "1 0.8972526 0.9977190 40.33337 2.606424 0.1919992 0.1823105 0.4513926 1.687375\n",
       "2 0.7127460 0.8370667 49.29950 3.283496 0.2205629 0.1740857 0.4311880 2.110946\n",
       "3 0.6906736 0.8058805 52.33677 3.940434 0.2402597 0.1788333 0.4415758 2.126987\n",
       "4 0.8406272 0.9835800 38.36841 2.971831 0.1742222 0.1636471 0.4133345 1.643268\n",
       "5 0.6519263 0.7834586 51.10986 3.397513 0.2156160 0.1586916 0.4100943 2.387455\n",
       "6 0.8973633 0.9081469 33.54324 2.065685 0.1621322 0.1601592 0.4241145 1.627772\n",
       "  Carter6   CI       ⋯ TCARI    TCARIOSAVI TCARI2   TCARI2OSAVI2 TGI     \n",
       "1 10.546899 1.230143 ⋯ 18.58963 19.90055   29.37852 52.88288     571.6883\n",
       "2 10.719907 1.103802 ⋯ 21.02478 22.30213   30.01417 55.92775     590.2966\n",
       "3 10.846255 1.065731 ⋯ 21.37050 23.07520   30.62567 59.36034     578.1993\n",
       "4 10.619240 1.165235 ⋯ 18.15420 19.32261   28.56205 48.69648     583.6640\n",
       "5  9.553940 1.056227 ⋯ 19.87457 20.37338   27.55717 50.37275     538.6860\n",
       "6  9.855188 1.589680 ⋯ 16.56562 17.29321   26.13624 43.84734     552.2945\n",
       "  TVI      Vogelmann Vogelmann2  Vogelmann3 Vogelmann4\n",
       "1 2750.790 1.502310  -0.10251539 0.8407581  -0.1132324\n",
       "2 2753.773 1.467985  -0.10410792 1.1292049  -0.1133074\n",
       "3 2743.007 1.452730  -0.10563757 1.1222517  -0.1144615\n",
       "4 2845.341 1.510704  -0.09834182 1.0664627  -0.1087631\n",
       "5 2710.133 1.494922  -0.12274414 1.1404583  -0.1336822\n",
       "6 2715.489 1.537855  -0.10372095 0.7253543  -0.1151156"
      ]
     },
     "metadata": {},
     "output_type": "display_data"
    },
    {
     "data": {
      "text/html": [
       "<table class=\"dataframe\">\n",
       "<caption>A data.frame: 6 × 95</caption>\n",
       "<thead>\n",
       "\t<tr><th></th><th scope=col>Boochs</th><th scope=col>Boochs2</th><th scope=col>CARI</th><th scope=col>Carter</th><th scope=col>Carter2</th><th scope=col>Carter3</th><th scope=col>Carter4</th><th scope=col>Carter5</th><th scope=col>Carter6</th><th scope=col>CI</th><th scope=col>⋯</th><th scope=col>TCARI</th><th scope=col>TCARIOSAVI</th><th scope=col>TCARI2</th><th scope=col>TCARI2OSAVI2</th><th scope=col>TGI</th><th scope=col>TVI</th><th scope=col>Vogelmann</th><th scope=col>Vogelmann2</th><th scope=col>Vogelmann3</th><th scope=col>Vogelmann4</th></tr>\n",
       "\t<tr><th></th><th scope=col>&lt;dbl&gt;</th><th scope=col>&lt;dbl&gt;</th><th scope=col>&lt;dbl&gt;</th><th scope=col>&lt;dbl&gt;</th><th scope=col>&lt;dbl&gt;</th><th scope=col>&lt;dbl&gt;</th><th scope=col>&lt;dbl&gt;</th><th scope=col>&lt;dbl&gt;</th><th scope=col>&lt;dbl&gt;</th><th scope=col>&lt;dbl&gt;</th><th scope=col>⋯</th><th scope=col>&lt;dbl&gt;</th><th scope=col>&lt;dbl&gt;</th><th scope=col>&lt;dbl&gt;</th><th scope=col>&lt;dbl&gt;</th><th scope=col>&lt;dbl&gt;</th><th scope=col>&lt;dbl&gt;</th><th scope=col>&lt;dbl&gt;</th><th scope=col>&lt;dbl&gt;</th><th scope=col>&lt;dbl&gt;</th><th scope=col>&lt;dbl&gt;</th></tr>\n",
       "</thead>\n",
       "<tbody>\n",
       "\t<tr><th scope=row>1</th><td>0.1817917</td><td>0.1007417</td><td>38.29230</td><td>4.176483</td><td>0.7481783</td><td>0.6363165</td><td>0.8663692</td><td>1.117048</td><td>13.0818</td><td>1.0250352</td><td>⋯</td><td> 4.638595</td><td>17.90381</td><td> 4.142204</td><td>40.63212</td><td> 52.6595</td><td> 349.594</td><td>1.060078</td><td>-0.01470381</td><td>0.5351540</td><td>-0.01486024</td></tr>\n",
       "\t<tr><th scope=row>2</th><td>0.1779167</td><td>0.1020167</td><td>28.80530</td><td>2.891436</td><td>0.7004412</td><td>0.6404789</td><td>0.8394989</td><td>1.101463</td><td>11.0986</td><td>1.0235607</td><td>⋯</td><td> 4.149470</td><td>14.54173</td><td> 5.683206</td><td>43.93186</td><td> 68.5165</td><td> 370.886</td><td>1.075116</td><td>-0.01588072</td><td>0.6346180</td><td>-0.01612054</td></tr>\n",
       "\t<tr><th scope=row>3</th><td>0.2774667</td><td>0.1313083</td><td>51.02598</td><td>4.620200</td><td>0.7542897</td><td>0.7048361</td><td>0.8855345</td><td>1.091549</td><td>19.9382</td><td>1.0258505</td><td>⋯</td><td> 6.694479</td><td>29.33425</td><td> 7.017488</td><td>70.40367</td><td>145.4355</td><td> 525.456</td><td>1.052511</td><td>-0.01002383</td><td>0.5741911</td><td>-0.01013679</td></tr>\n",
       "\t<tr><th scope=row>4</th><td>0.3004500</td><td>0.1415583</td><td>53.56754</td><td>4.666115</td><td>0.7373047</td><td>0.6970615</td><td>0.8696484</td><td>1.085199</td><td>21.6759</td><td>1.0229248</td><td>⋯</td><td> 7.194374</td><td>30.89612</td><td> 8.706201</td><td>81.47926</td><td>169.6470</td><td> 597.240</td><td>1.053829</td><td>-0.01009181</td><td>0.6619406</td><td>-0.01021085</td></tr>\n",
       "\t<tr><th scope=row>5</th><td>0.2610000</td><td>0.1341917</td><td>45.44606</td><td>4.686466</td><td>0.7357233</td><td>0.6848281</td><td>0.8729010</td><td>1.083553</td><td>17.5634</td><td>1.0207577</td><td>⋯</td><td> 5.530025</td><td>23.44639</td><td> 6.766709</td><td>63.31335</td><td>121.1130</td><td> 475.050</td><td>1.053822</td><td>-0.01013896</td><td>0.5929445</td><td>-0.01025865</td></tr>\n",
       "\t<tr><th scope=row>6</th><td>0.9367000</td><td>1.1057000</td><td>33.48758</td><td>1.427278</td><td>0.1320466</td><td>0.1048420</td><td>0.4051465</td><td>1.673969</td><td> 9.2749</td><td>0.9921833</td><td>⋯</td><td>16.789948</td><td>16.99455</td><td>23.122057</td><td>36.94737</td><td>508.4790</td><td>2871.108</td><td>1.473918</td><td>-0.07409511</td><td>1.1003322</td><td>-0.08200649</td></tr>\n",
       "</tbody>\n",
       "</table>\n"
      ],
      "text/latex": [
       "A data.frame: 6 × 95\n",
       "\\begin{tabular}{r|lllllllllllllllllllll}\n",
       "  & Boochs & Boochs2 & CARI & Carter & Carter2 & Carter3 & Carter4 & Carter5 & Carter6 & CI & ⋯ & TCARI & TCARIOSAVI & TCARI2 & TCARI2OSAVI2 & TGI & TVI & Vogelmann & Vogelmann2 & Vogelmann3 & Vogelmann4\\\\\n",
       "  & <dbl> & <dbl> & <dbl> & <dbl> & <dbl> & <dbl> & <dbl> & <dbl> & <dbl> & <dbl> & ⋯ & <dbl> & <dbl> & <dbl> & <dbl> & <dbl> & <dbl> & <dbl> & <dbl> & <dbl> & <dbl>\\\\\n",
       "\\hline\n",
       "\t1 & 0.1817917 & 0.1007417 & 38.29230 & 4.176483 & 0.7481783 & 0.6363165 & 0.8663692 & 1.117048 & 13.0818 & 1.0250352 & ⋯ &  4.638595 & 17.90381 &  4.142204 & 40.63212 &  52.6595 &  349.594 & 1.060078 & -0.01470381 & 0.5351540 & -0.01486024\\\\\n",
       "\t2 & 0.1779167 & 0.1020167 & 28.80530 & 2.891436 & 0.7004412 & 0.6404789 & 0.8394989 & 1.101463 & 11.0986 & 1.0235607 & ⋯ &  4.149470 & 14.54173 &  5.683206 & 43.93186 &  68.5165 &  370.886 & 1.075116 & -0.01588072 & 0.6346180 & -0.01612054\\\\\n",
       "\t3 & 0.2774667 & 0.1313083 & 51.02598 & 4.620200 & 0.7542897 & 0.7048361 & 0.8855345 & 1.091549 & 19.9382 & 1.0258505 & ⋯ &  6.694479 & 29.33425 &  7.017488 & 70.40367 & 145.4355 &  525.456 & 1.052511 & -0.01002383 & 0.5741911 & -0.01013679\\\\\n",
       "\t4 & 0.3004500 & 0.1415583 & 53.56754 & 4.666115 & 0.7373047 & 0.6970615 & 0.8696484 & 1.085199 & 21.6759 & 1.0229248 & ⋯ &  7.194374 & 30.89612 &  8.706201 & 81.47926 & 169.6470 &  597.240 & 1.053829 & -0.01009181 & 0.6619406 & -0.01021085\\\\\n",
       "\t5 & 0.2610000 & 0.1341917 & 45.44606 & 4.686466 & 0.7357233 & 0.6848281 & 0.8729010 & 1.083553 & 17.5634 & 1.0207577 & ⋯ &  5.530025 & 23.44639 &  6.766709 & 63.31335 & 121.1130 &  475.050 & 1.053822 & -0.01013896 & 0.5929445 & -0.01025865\\\\\n",
       "\t6 & 0.9367000 & 1.1057000 & 33.48758 & 1.427278 & 0.1320466 & 0.1048420 & 0.4051465 & 1.673969 &  9.2749 & 0.9921833 & ⋯ & 16.789948 & 16.99455 & 23.122057 & 36.94737 & 508.4790 & 2871.108 & 1.473918 & -0.07409511 & 1.1003322 & -0.08200649\\\\\n",
       "\\end{tabular}\n"
      ],
      "text/markdown": [
       "\n",
       "A data.frame: 6 × 95\n",
       "\n",
       "| <!--/--> | Boochs &lt;dbl&gt; | Boochs2 &lt;dbl&gt; | CARI &lt;dbl&gt; | Carter &lt;dbl&gt; | Carter2 &lt;dbl&gt; | Carter3 &lt;dbl&gt; | Carter4 &lt;dbl&gt; | Carter5 &lt;dbl&gt; | Carter6 &lt;dbl&gt; | CI &lt;dbl&gt; | ⋯ ⋯ | TCARI &lt;dbl&gt; | TCARIOSAVI &lt;dbl&gt; | TCARI2 &lt;dbl&gt; | TCARI2OSAVI2 &lt;dbl&gt; | TGI &lt;dbl&gt; | TVI &lt;dbl&gt; | Vogelmann &lt;dbl&gt; | Vogelmann2 &lt;dbl&gt; | Vogelmann3 &lt;dbl&gt; | Vogelmann4 &lt;dbl&gt; |\n",
       "|---|---|---|---|---|---|---|---|---|---|---|---|---|---|---|---|---|---|---|---|---|---|\n",
       "| 1 | 0.1817917 | 0.1007417 | 38.29230 | 4.176483 | 0.7481783 | 0.6363165 | 0.8663692 | 1.117048 | 13.0818 | 1.0250352 | ⋯ |  4.638595 | 17.90381 |  4.142204 | 40.63212 |  52.6595 |  349.594 | 1.060078 | -0.01470381 | 0.5351540 | -0.01486024 |\n",
       "| 2 | 0.1779167 | 0.1020167 | 28.80530 | 2.891436 | 0.7004412 | 0.6404789 | 0.8394989 | 1.101463 | 11.0986 | 1.0235607 | ⋯ |  4.149470 | 14.54173 |  5.683206 | 43.93186 |  68.5165 |  370.886 | 1.075116 | -0.01588072 | 0.6346180 | -0.01612054 |\n",
       "| 3 | 0.2774667 | 0.1313083 | 51.02598 | 4.620200 | 0.7542897 | 0.7048361 | 0.8855345 | 1.091549 | 19.9382 | 1.0258505 | ⋯ |  6.694479 | 29.33425 |  7.017488 | 70.40367 | 145.4355 |  525.456 | 1.052511 | -0.01002383 | 0.5741911 | -0.01013679 |\n",
       "| 4 | 0.3004500 | 0.1415583 | 53.56754 | 4.666115 | 0.7373047 | 0.6970615 | 0.8696484 | 1.085199 | 21.6759 | 1.0229248 | ⋯ |  7.194374 | 30.89612 |  8.706201 | 81.47926 | 169.6470 |  597.240 | 1.053829 | -0.01009181 | 0.6619406 | -0.01021085 |\n",
       "| 5 | 0.2610000 | 0.1341917 | 45.44606 | 4.686466 | 0.7357233 | 0.6848281 | 0.8729010 | 1.083553 | 17.5634 | 1.0207577 | ⋯ |  5.530025 | 23.44639 |  6.766709 | 63.31335 | 121.1130 |  475.050 | 1.053822 | -0.01013896 | 0.5929445 | -0.01025865 |\n",
       "| 6 | 0.9367000 | 1.1057000 | 33.48758 | 1.427278 | 0.1320466 | 0.1048420 | 0.4051465 | 1.673969 |  9.2749 | 0.9921833 | ⋯ | 16.789948 | 16.99455 | 23.122057 | 36.94737 | 508.4790 | 2871.108 | 1.473918 | -0.07409511 | 1.1003322 | -0.08200649 |\n",
       "\n"
      ],
      "text/plain": [
       "  Boochs    Boochs2   CARI     Carter   Carter2   Carter3   Carter4   Carter5 \n",
       "1 0.1817917 0.1007417 38.29230 4.176483 0.7481783 0.6363165 0.8663692 1.117048\n",
       "2 0.1779167 0.1020167 28.80530 2.891436 0.7004412 0.6404789 0.8394989 1.101463\n",
       "3 0.2774667 0.1313083 51.02598 4.620200 0.7542897 0.7048361 0.8855345 1.091549\n",
       "4 0.3004500 0.1415583 53.56754 4.666115 0.7373047 0.6970615 0.8696484 1.085199\n",
       "5 0.2610000 0.1341917 45.44606 4.686466 0.7357233 0.6848281 0.8729010 1.083553\n",
       "6 0.9367000 1.1057000 33.48758 1.427278 0.1320466 0.1048420 0.4051465 1.673969\n",
       "  Carter6 CI        ⋯ TCARI     TCARIOSAVI TCARI2    TCARI2OSAVI2 TGI     \n",
       "1 13.0818 1.0250352 ⋯  4.638595 17.90381    4.142204 40.63212      52.6595\n",
       "2 11.0986 1.0235607 ⋯  4.149470 14.54173    5.683206 43.93186      68.5165\n",
       "3 19.9382 1.0258505 ⋯  6.694479 29.33425    7.017488 70.40367     145.4355\n",
       "4 21.6759 1.0229248 ⋯  7.194374 30.89612    8.706201 81.47926     169.6470\n",
       "5 17.5634 1.0207577 ⋯  5.530025 23.44639    6.766709 63.31335     121.1130\n",
       "6  9.2749 0.9921833 ⋯ 16.789948 16.99455   23.122057 36.94737     508.4790\n",
       "  TVI      Vogelmann Vogelmann2  Vogelmann3 Vogelmann4 \n",
       "1  349.594 1.060078  -0.01470381 0.5351540  -0.01486024\n",
       "2  370.886 1.075116  -0.01588072 0.6346180  -0.01612054\n",
       "3  525.456 1.052511  -0.01002383 0.5741911  -0.01013679\n",
       "4  597.240 1.053829  -0.01009181 0.6619406  -0.01021085\n",
       "5  475.050 1.053822  -0.01013896 0.5929445  -0.01025865\n",
       "6 2871.108 1.473918  -0.07409511 1.1003322  -0.08200649"
      ]
     },
     "metadata": {},
     "output_type": "display_data"
    }
   ],
   "source": [
    "head(img_indices)\n",
    "head(grd_indices)"
   ]
  },
  {
   "cell_type": "markdown",
   "metadata": {},
   "source": [
    "This is actually enough to start training models.  We have the vegetation indices, but instead of doing that, let's transform the data and write it to file.  Then we will proceed to creating the model corrections, etc."
   ]
  },
  {
   "cell_type": "code",
   "execution_count": null,
   "metadata": {
    "vscode": {
     "languageId": "r"
    }
   },
   "outputs": [],
   "source": []
  },
  {
   "cell_type": "code",
   "execution_count": null,
   "metadata": {
    "vscode": {
     "languageId": "r"
    }
   },
   "outputs": [],
   "source": []
  }
 ],
 "metadata": {
  "kernelspec": {
   "display_name": "R",
   "language": "R",
   "name": "ir"
  },
  "language_info": {
   "codemirror_mode": "r",
   "file_extension": ".r",
   "mimetype": "text/x-r-source",
   "name": "R",
   "pygments_lexer": "r",
   "version": "4.2.2"
  },
  "orig_nbformat": 4
 },
 "nbformat": 4,
 "nbformat_minor": 2
}
