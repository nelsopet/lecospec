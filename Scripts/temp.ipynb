{
 "cells": [
  {
   "cell_type": "code",
   "execution_count": 1,
   "metadata": {
    "vscode": {
     "languageId": "r"
    }
   },
   "outputs": [
    {
     "name": "stderr",
     "output_type": "stream",
     "text": [
      "Linking to GEOS 3.10.2, GDAL 3.4.1, PROJ 8.2.1; sf_use_s2() is TRUE\n",
      "\n",
      "terra 1.6.17\n",
      "\n"
     ]
    }
   ],
   "source": [
    "library(sf)\n",
    "library(sp)\n",
    "library(terra)"
   ]
  },
  {
   "cell_type": "code",
   "execution_count": 3,
   "metadata": {
    "vscode": {
     "languageId": "r"
    }
   },
   "outputs": [],
   "source": [
    "setwd(\"../\")\n",
    "source(\"Scripts/validation_defs.R\")"
   ]
  },
  {
   "cell_type": "code",
   "execution_count": 30,
   "metadata": {
    "vscode": {
     "languageId": "r"
    }
   },
   "outputs": [],
   "source": [
    "bg <- terra::vect(shape_path_9)"
   ]
  },
  {
   "cell_type": "code",
   "execution_count": 31,
   "metadata": {
    "vscode": {
     "languageId": "r"
    }
   },
   "outputs": [
    {
     "name": "stdout",
     "output_type": "stream",
     "text": [
      " class       : SpatVector \n",
      " geometry    : polygons \n",
      " dimensions  : 11, 3  (geometries, attributes)\n",
      " extent      : 438153.7, 438205.6, 7176051, 7176138  (xmin, xmax, ymin, ymax)\n",
      " source      : Bonanza_N_Quads.shp\n",
      " coord. ref. : WGS 84 / UTM zone 6N (EPSG:32606) \n",
      " names       :    CLASS_NAME CLASS_ID CLASS_CLRS\n",
      " type        :         <chr>    <chr>      <chr>\n",
      " values      :  Bonanza_Q60m        7    128,0,0\n",
      "               Bonanza_Q100m       11  127,255,0\n",
      "                Bonanza_Q90m       10 255,127,80\n"
     ]
    }
   ],
   "source": [
    "print(bg)"
   ]
  },
  {
   "cell_type": "code",
   "execution_count": 32,
   "metadata": {
    "vscode": {
     "languageId": "r"
    }
   },
   "outputs": [
    {
     "name": "stdout",
     "output_type": "stream",
     "text": [
      " [1] \"Bonanza_Q60m\"  \"Bonanza_Q100m\" \"Bonanza_Q90m\"  \"Bonanza_Q80m\" \n",
      " [5] \"Bonanza_Q50m\"  \"Bonanza_Q40m\"  \"Bonanza_Q30m\"  \"Bonanza_Q20m\" \n",
      " [9] \"Bonanza_Q10m\"  \"Bonanza_Q0m\"   \"Bonanza_Q70m\" \n"
     ]
    }
   ],
   "source": [
    "print(bg$CLASS_NAME)"
   ]
  },
  {
   "cell_type": "code",
   "execution_count": null,
   "metadata": {
    "vscode": {
     "languageId": "r"
    }
   },
   "outputs": [],
   "source": []
  },
  {
   "cell_type": "code",
   "execution_count": null,
   "metadata": {
    "vscode": {
     "languageId": "r"
    }
   },
   "outputs": [],
   "source": []
  }
 ],
 "metadata": {
  "kernelspec": {
   "display_name": "R",
   "language": "R",
   "name": "ir"
  },
  "language_info": {
   "codemirror_mode": "r",
   "file_extension": ".r",
   "mimetype": "text/x-r-source",
   "name": "R",
   "pygments_lexer": "r",
   "version": "4.2.3"
  },
  "orig_nbformat": 4
 },
 "nbformat": 4,
 "nbformat_minor": 2
}
