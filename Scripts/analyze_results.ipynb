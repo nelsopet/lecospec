{
 "cells": [
  {
   "cell_type": "code",
   "execution_count": 1,
   "metadata": {
    "vscode": {
     "languageId": "r"
    }
   },
   "outputs": [
    {
     "name": "stderr",
     "output_type": "stream",
     "text": [
      "── \u001b[1mAttaching core tidyverse packages\u001b[22m ──────────────────────── tidyverse 2.0.0 ──\n",
      "\u001b[32m✔\u001b[39m \u001b[34mdplyr    \u001b[39m 1.1.2     \u001b[32m✔\u001b[39m \u001b[34mreadr    \u001b[39m 2.1.4\n",
      "\u001b[32m✔\u001b[39m \u001b[34mforcats  \u001b[39m 1.0.0     \u001b[32m✔\u001b[39m \u001b[34mstringr  \u001b[39m 1.5.0\n",
      "\u001b[32m✔\u001b[39m \u001b[34mggplot2  \u001b[39m 3.4.2     \u001b[32m✔\u001b[39m \u001b[34mtibble   \u001b[39m 3.2.1\n",
      "\u001b[32m✔\u001b[39m \u001b[34mlubridate\u001b[39m 1.9.2     \u001b[32m✔\u001b[39m \u001b[34mtidyr    \u001b[39m 1.3.0\n",
      "\u001b[32m✔\u001b[39m \u001b[34mpurrr    \u001b[39m 1.0.1     \n",
      "── \u001b[1mConflicts\u001b[22m ────────────────────────────────────────── tidyverse_conflicts() ──\n",
      "\u001b[31m✖\u001b[39m \u001b[34mdplyr\u001b[39m::\u001b[32mfilter()\u001b[39m masks \u001b[34mstats\u001b[39m::filter()\n",
      "\u001b[31m✖\u001b[39m \u001b[34mdplyr\u001b[39m::\u001b[32mlag()\u001b[39m    masks \u001b[34mstats\u001b[39m::lag()\n",
      "\u001b[36mℹ\u001b[39m Use the conflicted package (\u001b[3m\u001b[34m<http://conflicted.r-lib.org/>\u001b[39m\u001b[23m) to force all conflicts to become errors\n"
     ]
    }
   ],
   "source": [
    "library(tidyverse)"
   ]
  },
  {
   "cell_type": "code",
   "execution_count": 4,
   "metadata": {
    "vscode": {
     "languageId": "r"
    }
   },
   "outputs": [
    {
     "data": {
      "text/plain": [
       "    source            outliers         preprocessing          weight     \n",
       " Length:376         Length:376         Length:376         Min.   :0.250  \n",
       " Class :character   Class :character   Class :character   1st Qu.:0.250  \n",
       " Mode  :character   Mode  :character   Mode  :character   Median :0.500  \n",
       "                                                          Mean   :0.623  \n",
       "                                                          3rd Qu.:0.750  \n",
       "                                                          Max.   :1.000  \n",
       "                                                                         \n",
       "       n            oob            accuracy            r2         \n",
       " Min.   :  2   Min.   :0.1400   Min.   :0.6500   Min.   :0.07878  \n",
       " 1st Qu.:  8   1st Qu.:0.1467   1st Qu.:0.8000   1st Qu.:0.10654  \n",
       " Median : 32   Median :0.2239   Median :0.8417   Median :0.21940  \n",
       " Mean   :131   Mean   :0.2092   Mean   :0.8171   Mean   :0.19507  \n",
       " 3rd Qu.:128   3rd Qu.:0.2327   3rd Qu.:0.8583   3rd Qu.:0.25307  \n",
       " Max.   :512   Max.   :0.3295   Max.   :0.8917   Max.   :0.32870  \n",
       "               NA's   :320                                        \n",
       "      rpd             seed         model_id        \n",
       " Min.   :1.126   Min.   :61718   Length:376        \n",
       " 1st Qu.:1.182   1st Qu.:61718   Class :character  \n",
       " Median :1.298   Median :61718   Mode  :character  \n",
       " Mean   :1.329   Mean   :61718                     \n",
       " 3rd Qu.:1.455   3rd Qu.:61718                     \n",
       " Max.   :1.636   Max.   :61718                     \n",
       "                                                   "
      ]
     },
     "metadata": {},
     "output_type": "display_data"
    }
   ],
   "source": [
    "rf_df <- read.csv(\"gs3_ranger.csv\")\n",
    "summary(rf_df)"
   ]
  },
  {
   "cell_type": "code",
   "execution_count": 15,
   "metadata": {
    "vscode": {
     "languageId": "r"
    }
   },
   "outputs": [
    {
     "data": {
      "image/png": "[encoded data removed]",
      "text/plain": [
       "plot without title"
      ]
     },
     "metadata": {
      "image/png": {
       "height": 420,
       "width": 420
      }
     },
     "output_type": "display_data"
    }
   ],
   "source": [
    "plot(rf_df$r2, rf_df$acc)"
   ]
  },
  {
   "cell_type": "code",
   "execution_count": 7,
   "metadata": {
    "vscode": {
     "languageId": "r"
    }
   },
   "outputs": [
    {
     "ename": "ERROR",
     "evalue": "Error in `contrasts<-`(`*tmp*`, value = contr.funs[1 + isOF[nn]]): contrasts can be applied only to factors with 2 or more levels\n",
     "output_type": "error",
     "traceback": [
      "Error in `contrasts<-`(`*tmp*`, value = contr.funs[1 + isOF[nn]]): contrasts can be applied only to factors with 2 or more levels\nTraceback:\n",
      "1. lm(\"r2~.\", rf_df)",
      "2. model.matrix(mt, mf, contrasts)",
      "3. model.matrix.default(mt, mf, contrasts)",
      "4. `contrasts<-`(`*tmp*`, value = contr.funs[1 + isOF[nn]])",
      "5. stop(\"contrasts can be applied only to factors with 2 or more levels\")"
     ]
    }
   ],
   "source": [
    "model <- lm(\"r2~.\", rf_df)"
   ]
  },
  {
   "cell_type": "code",
   "execution_count": 5,
   "metadata": {
    "vscode": {
     "languageId": "r"
    }
   },
   "outputs": [
    {
     "data": {
      "text/plain": [
       "    source            outliers         preprocessing         weight         \n",
       " Length:297         Length:297         Length:297         Length:297        \n",
       " Class :character   Class :character   Class :character   Class :character  \n",
       " Mode  :character   Mode  :character   Mode  :character   Mode  :character  \n",
       "                                                                            \n",
       "                                                                            \n",
       "                                                                            \n",
       "       n            oob             accuracy            r2        \n",
       " Min.   :   1.0   Mode:logical   Min.   :0.7750   Min.   :0.0862  \n",
       " 1st Qu.:   4.0   NA's:297       1st Qu.:0.7750   1st Qu.:0.1858  \n",
       " Median :  32.0                  Median :0.7750   Median :0.2731  \n",
       " Mean   : 186.1                  Mean   :0.8046   Mean   :0.2387  \n",
       " 3rd Qu.: 256.0                  3rd Qu.:0.8333   3rd Qu.:0.2731  \n",
       " Max.   :1024.0                  Max.   :0.8667   Max.   :0.3148  \n",
       "      rpd             seed         model_id        \n",
       " Min.   :1.166   Min.   :61718   Length:297        \n",
       " 1st Qu.:1.184   1st Qu.:61718   Class :character  \n",
       " Median :1.184   Median :61718   Mode  :character  \n",
       " Mean   :1.214   Mean   :61718                     \n",
       " 3rd Qu.:1.189   3rd Qu.:61718                     \n",
       " Max.   :1.412   Max.   :61718                     "
      ]
     },
     "metadata": {},
     "output_type": "display_data"
    }
   ],
   "source": [
    "adaboost_df <- read.csv(\"gs3_gbm.csv\")\n",
    "summary(adaboost_df)"
   ]
  },
  {
   "cell_type": "code",
   "execution_count": 11,
   "metadata": {
    "vscode": {
     "languageId": "r"
    }
   },
   "outputs": [],
   "source": [
    "data_path <- \"../Data/v2/train_5nm_150.csv\"\n",
    "training_data <- read.csv(data_path)\n",
    "\n"
   ]
  },
  {
   "cell_type": "code",
   "execution_count": 12,
   "metadata": {
    "vscode": {
     "languageId": "r"
    }
   },
   "outputs": [
    {
     "data": {
      "text/plain": [
       ".\n",
       "       Abiotic      Graminoid         Lichen           Moss     ShrubDecid \n",
       "           150            130             82             77             92 \n",
       "ShrubEvergreen  TreeBroadleaf    TreeConifer \n",
       "           122             85            150 "
      ]
     },
     "metadata": {},
     "output_type": "display_data"
    }
   ],
   "source": [
    "training_data$FncGrp1 %>% table()"
   ]
  },
  {
   "cell_type": "code",
   "execution_count": null,
   "metadata": {
    "vscode": {
     "languageId": "r"
    }
   },
   "outputs": [],
   "source": []
  },
  {
   "cell_type": "code",
   "execution_count": 13,
   "metadata": {
    "vscode": {
     "languageId": "r"
    }
   },
   "outputs": [],
   "source": [
    "svm_df <- read.csv(\"./gs3_svm.csv\")"
   ]
  },
  {
   "cell_type": "code",
   "execution_count": 14,
   "metadata": {
    "vscode": {
     "languageId": "r"
    }
   },
   "outputs": [
    {
     "data": {
      "text/plain": [
       "    source            outliers         preprocessing         weight         \n",
       " Length:22          Length:22          Length:22          Length:22         \n",
       " Class :character   Class :character   Class :character   Class :character  \n",
       " Mode  :character   Mode  :character   Mode  :character   Mode  :character  \n",
       "                                                                            \n",
       "                                                                            \n",
       "                                                                            \n",
       "       n              oob               accuracy          r2       \n",
       " Min.   :   1.0   Length:22          Min.   :0.55   Min.   :0.164  \n",
       " 1st Qu.:   5.0   Class :character   1st Qu.:0.55   1st Qu.:0.164  \n",
       " Median :  32.0   Mode  :character   Median :0.55   Median :0.164  \n",
       " Mean   : 186.1                      Mean   :0.55   Mean   :0.164  \n",
       " 3rd Qu.: 224.0                      3rd Qu.:0.55   3rd Qu.:0.164  \n",
       " Max.   :1024.0                      Max.   :0.55   Max.   :0.164  \n",
       "      rpd             seed         model_id        \n",
       " Min.   :1.321   Min.   :61718   Length:22         \n",
       " 1st Qu.:1.321   1st Qu.:61718   Class :character  \n",
       " Median :1.321   Median :61718   Mode  :character  \n",
       " Mean   :1.321   Mean   :61718                     \n",
       " 3rd Qu.:1.321   3rd Qu.:61718                     \n",
       " Max.   :1.321   Max.   :61718                     "
      ]
     },
     "metadata": {},
     "output_type": "display_data"
    }
   ],
   "source": [
    "summary(svm_df)"
   ]
  },
  {
   "cell_type": "code",
   "execution_count": null,
   "metadata": {
    "vscode": {
     "languageId": "r"
    }
   },
   "outputs": [],
   "source": []
  }
 ],
 "metadata": {
  "kernelspec": {
   "display_name": "R",
   "language": "R",
   "name": "ir"
  },
  "language_info": {
   "codemirror_mode": "r",
   "file_extension": ".r",
   "mimetype": "text/x-r-source",
   "name": "R",
   "pygments_lexer": "r",
   "version": "4.3.1"
  },
  "orig_nbformat": 4
 },
 "nbformat": 4,
 "nbformat_minor": 2
}
