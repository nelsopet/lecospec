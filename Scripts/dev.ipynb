{
 "cells": [
  {
   "cell_type": "code",
   "execution_count": 2,
   "metadata": {
    "vscode": {
     "languageId": "r"
    }
   },
   "outputs": [
    {
     "name": "stderr",
     "output_type": "stream",
     "text": [
      "Loading required package: tidyverse\n",
      "\n",
      "── \u001b[1mAttaching packages\u001b[22m ─────────────────────────────────────── tidyverse 1.3.2 ──\n",
      "\u001b[32m✔\u001b[39m \u001b[34mggplot2\u001b[39m 3.3.6      \u001b[32m✔\u001b[39m \u001b[34mpurrr  \u001b[39m 0.3.5 \n",
      "\u001b[32m✔\u001b[39m \u001b[34mtibble \u001b[39m 3.1.8      \u001b[32m✔\u001b[39m \u001b[34mdplyr  \u001b[39m 1.0.10\n",
      "\u001b[32m✔\u001b[39m \u001b[34mtidyr  \u001b[39m 1.2.1      \u001b[32m✔\u001b[39m \u001b[34mstringr\u001b[39m 1.4.1 \n",
      "\u001b[32m✔\u001b[39m \u001b[34mreadr  \u001b[39m 2.1.3      \u001b[32m✔\u001b[39m \u001b[34mforcats\u001b[39m 0.5.2 \n",
      "── \u001b[1mConflicts\u001b[22m ────────────────────────────────────────── tidyverse_conflicts() ──\n",
      "\u001b[31m✖\u001b[39m \u001b[34mdplyr\u001b[39m::\u001b[32mfilter()\u001b[39m masks \u001b[34mstats\u001b[39m::filter()\n",
      "\u001b[31m✖\u001b[39m \u001b[34mdplyr\u001b[39m::\u001b[32mlag()\u001b[39m    masks \u001b[34mstats\u001b[39m::lag()\n",
      "Loading required package: compiler\n",
      "\n",
      "Loading required package: raster\n",
      "\n",
      "Loading required package: sp\n",
      "\n",
      "\n",
      "Attaching package: ‘raster’\n",
      "\n",
      "\n",
      "The following object is masked from ‘package:dplyr’:\n",
      "\n",
      "    select\n",
      "\n",
      "\n",
      "Loading required package: hsdar\n",
      "\n",
      "Loading required package: rgdal\n",
      "\n",
      "Please note that rgdal will be retired by the end of 2023,\n",
      "plan transition to sf/stars/terra functions using GDAL and PROJ\n",
      "at your earliest convenience.\n",
      "\n",
      "rgdal: version: 1.5-32, (SVN revision 1176)\n",
      "Geospatial Data Abstraction Library extensions to R successfully loaded\n",
      "Loaded GDAL runtime: GDAL 3.4.1, released 2021/12/27\n",
      "Path to GDAL shared files: /usr/share/gdal\n",
      "GDAL binary built with GEOS: TRUE \n",
      "Loaded PROJ runtime: Rel. 8.2.1, January 1st, 2022, [PJ_VERSION: 821]\n",
      "Path to PROJ shared files: /home/krbundy/.local/share/proj:/usr/share/proj\n",
      "PROJ CDN enabled: FALSE\n",
      "Linking to sp version:1.5-0\n",
      "To mute warnings of possible GDAL/OSR exportToProj4() degradation,\n",
      "use options(\"rgdal_show_exportToProj4_warnings\"=\"none\") before loading sp or rgdal.\n",
      "\n",
      "Loading required package: signal\n",
      "\n",
      "\n",
      "Attaching package: ‘signal’\n",
      "\n",
      "\n",
      "The following object is masked from ‘package:raster’:\n",
      "\n",
      "    resample\n",
      "\n",
      "\n",
      "The following object is masked from ‘package:dplyr’:\n",
      "\n",
      "    filter\n",
      "\n",
      "\n",
      "The following objects are masked from ‘package:stats’:\n",
      "\n",
      "    filter, poly\n",
      "\n",
      "\n",
      "Loading required package: caret\n",
      "\n",
      "Loading required package: lattice\n",
      "\n",
      "\n",
      "Attaching package: ‘caret’\n",
      "\n",
      "\n",
      "The following object is masked from ‘package:purrr’:\n",
      "\n",
      "    lift\n",
      "\n",
      "\n",
      "Loading required package: Boruta\n",
      "\n",
      "\n",
      "###################################\n",
      "  This is hsdar 1.0.4\n",
      "  To get citation entry type\n",
      "      'citation(\"hsdar\")'\n",
      "###################################\n",
      "\n",
      "\n",
      "Attaching package: ‘hsdar’\n",
      "\n",
      "\n",
      "The following object is masked from ‘package:raster’:\n",
      "\n",
      "    nbands\n",
      "\n",
      "\n",
      "Loading required package: spectrolab\n",
      "\n",
      "spectrolab version: 0.0.17\n",
      "\n",
      "Please cite:\n",
      "Meireles J, Schweiger A, Cavender-Bares J (2017). spectrolab: Class\n",
      "and Methods for Spectral Data in R. doi:10.5281/zenodo.3934575\n",
      "<https://doi.org/10.5281/zenodo.3934575>, R package version 0.0.17,\n",
      "<https://CRAN.R-project.org/package=spectrolab>.DOI: https://doi.org/10.5281/zenodo.3934575\n",
      "\n",
      "\n",
      "Attaching package: ‘spectrolab’\n",
      "\n",
      "\n",
      "The following object is masked from ‘package:hsdar’:\n",
      "\n",
      "    spectra\n",
      "\n",
      "\n",
      "The following object is masked from ‘package:signal’:\n",
      "\n",
      "    resample\n",
      "\n",
      "\n",
      "The following object is masked from ‘package:raster’:\n",
      "\n",
      "    resample\n",
      "\n",
      "\n",
      "The following object is masked from ‘package:dplyr’:\n",
      "\n",
      "    combine\n",
      "\n",
      "\n",
      "The following objects are masked from ‘package:stats’:\n",
      "\n",
      "    sd, smooth, var\n",
      "\n",
      "\n",
      "Loading required package: ranger\n",
      "\n",
      "Loading required package: stringi\n",
      "\n",
      "Loading required package: rjson\n",
      "\n",
      "Loading required package: snow\n",
      "\n",
      "Loading required package: doSNOW\n",
      "\n",
      "Loading required package: foreach\n",
      "\n",
      "\n",
      "Attaching package: ‘foreach’\n",
      "\n",
      "\n",
      "The following objects are masked from ‘package:purrr’:\n",
      "\n",
      "    accumulate, when\n",
      "\n",
      "\n",
      "Loading required package: iterators\n",
      "\n",
      "Loading required package: rasterVis\n",
      "\n",
      "\n",
      "Attaching package: ‘plotly’\n",
      "\n",
      "\n",
      "The following object is masked from ‘package:signal’:\n",
      "\n",
      "    filter\n",
      "\n",
      "\n",
      "The following object is masked from ‘package:raster’:\n",
      "\n",
      "    select\n",
      "\n",
      "\n",
      "The following object is masked from ‘package:ggplot2’:\n",
      "\n",
      "    last_plot\n",
      "\n",
      "\n",
      "The following object is masked from ‘package:stats’:\n",
      "\n",
      "    filter\n",
      "\n",
      "\n",
      "The following object is masked from ‘package:graphics’:\n",
      "\n",
      "    layout\n",
      "\n",
      "\n"
     ]
    }
   ],
   "source": [
    "if(!dir.exists(\"Functions/\")){\n",
    "    setwd(\"../\")\n",
    "    if(!dir.exists(\"Functions\")){\n",
    "        setwd(\"M:/lecospec/lecospec/\")\n",
    "    }\n",
    "}\n",
    "source(\"Functions/lecospectR.R\", echo = FALSE)"
   ]
  },
  {
   "cell_type": "code",
   "execution_count": 3,
   "metadata": {
    "vscode": {
     "languageId": "r"
    }
   },
   "outputs": [],
   "source": [
    "grd_path <- \"Data/gs/x_train/grd_raw_corrected.csv\"\n",
    "img_path <- \"Data/gs/x_train/img_raw_raw.csv\""
   ]
  },
  {
   "cell_type": "code",
   "execution_count": 4,
   "metadata": {
    "vscode": {
     "languageId": "r"
    }
   },
   "outputs": [],
   "source": [
    "img <- read.csv(img_path)\n",
    "grd <- read.csv(grd_path)"
   ]
  },
  {
   "cell_type": "code",
   "execution_count": 5,
   "metadata": {
    "vscode": {
     "languageId": "r"
    }
   },
   "outputs": [
    {
     "data": {
      "text/html": [
       "<table class=\"dataframe\">\n",
       "<caption>A data.frame: 6 × 215</caption>\n",
       "<thead>\n",
       "\t<tr><th></th><th scope=col>X</th><th scope=col>X402.593_5nm</th><th scope=col>X407.593_5nm</th><th scope=col>X412.593_5nm</th><th scope=col>X417.593_5nm</th><th scope=col>X422.593_5nm</th><th scope=col>X427.593_5nm</th><th scope=col>X432.593_5nm</th><th scope=col>X437.593_5nm</th><th scope=col>X442.593_5nm</th><th scope=col>⋯</th><th scope=col>TCARI</th><th scope=col>TCARIOSAVI</th><th scope=col>TCARI2</th><th scope=col>TCARI2OSAVI2</th><th scope=col>TGI</th><th scope=col>TVI</th><th scope=col>Vogelmann</th><th scope=col>Vogelmann2</th><th scope=col>Vogelmann3</th><th scope=col>Vogelmann4</th></tr>\n",
       "\t<tr><th></th><th scope=col>&lt;int&gt;</th><th scope=col>&lt;dbl&gt;</th><th scope=col>&lt;dbl&gt;</th><th scope=col>&lt;dbl&gt;</th><th scope=col>&lt;dbl&gt;</th><th scope=col>&lt;dbl&gt;</th><th scope=col>&lt;dbl&gt;</th><th scope=col>&lt;dbl&gt;</th><th scope=col>&lt;dbl&gt;</th><th scope=col>&lt;dbl&gt;</th><th scope=col>⋯</th><th scope=col>&lt;dbl&gt;</th><th scope=col>&lt;dbl&gt;</th><th scope=col>&lt;dbl&gt;</th><th scope=col>&lt;dbl&gt;</th><th scope=col>&lt;dbl&gt;</th><th scope=col>&lt;dbl&gt;</th><th scope=col>&lt;dbl&gt;</th><th scope=col>&lt;dbl&gt;</th><th scope=col>&lt;dbl&gt;</th><th scope=col>&lt;dbl&gt;</th></tr>\n",
       "</thead>\n",
       "<tbody>\n",
       "\t<tr><th scope=row>1</th><td>2323</td><td>0.02762950</td><td>0.02918722</td><td>0.03074185</td><td>0.03228399</td><td>0.03380342</td><td>0.03527249</td><td>0.03666635</td><td>0.03795165</td><td>0.03907399</td><td>⋯</td><td>0.15344840</td><td>0.2196595</td><td>0.21985807</td><td>0.4777472</td><td>4.432056</td><td>22.000383</td><td>1.611559</td><td>-0.15610713</td><td>1.246065</td><td>-0.17269695</td></tr>\n",
       "\t<tr><th scope=row>2</th><td>1573</td><td>0.01533623</td><td>0.01552180</td><td>0.01571935</td><td>0.01593363</td><td>0.01617408</td><td>0.01644385</td><td>0.01674312</td><td>0.01707574</td><td>0.01743688</td><td>⋯</td><td>0.06967618</td><td>0.1254746</td><td>0.10177802</td><td>0.3349294</td><td>1.405833</td><td> 9.061371</td><td>1.502906</td><td>-0.14890057</td><td>1.170726</td><td>-0.16103353</td></tr>\n",
       "\t<tr><th scope=row>3</th><td> 232</td><td>0.04302270</td><td>0.04275670</td><td>0.04254037</td><td>0.04239005</td><td>0.04232247</td><td>0.04235422</td><td>0.04249037</td><td>0.04273396</td><td>0.04307974</td><td>⋯</td><td>0.08705838</td><td>0.2151788</td><td>0.11325191</td><td>0.5597871</td><td>1.090465</td><td> 8.403485</td><td>1.245043</td><td>-0.06266569</td><td>1.028528</td><td>-0.06533264</td></tr>\n",
       "\t<tr><th scope=row>4</th><td>1670</td><td>0.02544771</td><td>0.02303027</td><td>0.02112182</td><td>0.01981552</td><td>0.01910262</td><td>0.01894225</td><td>0.01918603</td><td>0.01961713</td><td>0.02010186</td><td>⋯</td><td>0.06151054</td><td>0.1081299</td><td>0.08570991</td><td>0.2227155</td><td>1.779364</td><td>10.409653</td><td>1.687824</td><td>-0.18946736</td><td>1.321845</td><td>-0.21139980</td></tr>\n",
       "\t<tr><th scope=row>5</th><td>4283</td><td>0.01997481</td><td>0.02049219</td><td>0.02090960</td><td>0.02123028</td><td>0.02146525</td><td>0.02162558</td><td>0.02173285</td><td>0.02180948</td><td>0.02187333</td><td>⋯</td><td>0.09200067</td><td>0.1815612</td><td>0.11871523</td><td>0.4451972</td><td>2.196559</td><td> 9.605719</td><td>1.373887</td><td>-0.09644190</td><td>1.068833</td><td>-0.10276801</td></tr>\n",
       "\t<tr><th scope=row>6</th><td>3961</td><td>0.01931844</td><td>0.01941683</td><td>0.01964067</td><td>0.02001486</td><td>0.02054380</td><td>0.02119869</td><td>0.02193446</td><td>0.02270658</td><td>0.02346866</td><td>⋯</td><td>0.12560464</td><td>0.2175637</td><td>0.18137872</td><td>0.5513599</td><td>3.826563</td><td>14.164129</td><td>1.410084</td><td>-0.09816937</td><td>1.089591</td><td>-0.10547435</td></tr>\n",
       "</tbody>\n",
       "</table>\n"
      ],
      "text/latex": [
       "A data.frame: 6 × 215\n",
       "\\begin{tabular}{r|lllllllllllllllllllll}\n",
       "  & X & X402.593\\_5nm & X407.593\\_5nm & X412.593\\_5nm & X417.593\\_5nm & X422.593\\_5nm & X427.593\\_5nm & X432.593\\_5nm & X437.593\\_5nm & X442.593\\_5nm & ⋯ & TCARI & TCARIOSAVI & TCARI2 & TCARI2OSAVI2 & TGI & TVI & Vogelmann & Vogelmann2 & Vogelmann3 & Vogelmann4\\\\\n",
       "  & <int> & <dbl> & <dbl> & <dbl> & <dbl> & <dbl> & <dbl> & <dbl> & <dbl> & <dbl> & ⋯ & <dbl> & <dbl> & <dbl> & <dbl> & <dbl> & <dbl> & <dbl> & <dbl> & <dbl> & <dbl>\\\\\n",
       "\\hline\n",
       "\t1 & 2323 & 0.02762950 & 0.02918722 & 0.03074185 & 0.03228399 & 0.03380342 & 0.03527249 & 0.03666635 & 0.03795165 & 0.03907399 & ⋯ & 0.15344840 & 0.2196595 & 0.21985807 & 0.4777472 & 4.432056 & 22.000383 & 1.611559 & -0.15610713 & 1.246065 & -0.17269695\\\\\n",
       "\t2 & 1573 & 0.01533623 & 0.01552180 & 0.01571935 & 0.01593363 & 0.01617408 & 0.01644385 & 0.01674312 & 0.01707574 & 0.01743688 & ⋯ & 0.06967618 & 0.1254746 & 0.10177802 & 0.3349294 & 1.405833 &  9.061371 & 1.502906 & -0.14890057 & 1.170726 & -0.16103353\\\\\n",
       "\t3 &  232 & 0.04302270 & 0.04275670 & 0.04254037 & 0.04239005 & 0.04232247 & 0.04235422 & 0.04249037 & 0.04273396 & 0.04307974 & ⋯ & 0.08705838 & 0.2151788 & 0.11325191 & 0.5597871 & 1.090465 &  8.403485 & 1.245043 & -0.06266569 & 1.028528 & -0.06533264\\\\\n",
       "\t4 & 1670 & 0.02544771 & 0.02303027 & 0.02112182 & 0.01981552 & 0.01910262 & 0.01894225 & 0.01918603 & 0.01961713 & 0.02010186 & ⋯ & 0.06151054 & 0.1081299 & 0.08570991 & 0.2227155 & 1.779364 & 10.409653 & 1.687824 & -0.18946736 & 1.321845 & -0.21139980\\\\\n",
       "\t5 & 4283 & 0.01997481 & 0.02049219 & 0.02090960 & 0.02123028 & 0.02146525 & 0.02162558 & 0.02173285 & 0.02180948 & 0.02187333 & ⋯ & 0.09200067 & 0.1815612 & 0.11871523 & 0.4451972 & 2.196559 &  9.605719 & 1.373887 & -0.09644190 & 1.068833 & -0.10276801\\\\\n",
       "\t6 & 3961 & 0.01931844 & 0.01941683 & 0.01964067 & 0.02001486 & 0.02054380 & 0.02119869 & 0.02193446 & 0.02270658 & 0.02346866 & ⋯ & 0.12560464 & 0.2175637 & 0.18137872 & 0.5513599 & 3.826563 & 14.164129 & 1.410084 & -0.09816937 & 1.089591 & -0.10547435\\\\\n",
       "\\end{tabular}\n"
      ],
      "text/markdown": [
       "\n",
       "A data.frame: 6 × 215\n",
       "\n",
       "| <!--/--> | X &lt;int&gt; | X402.593_5nm &lt;dbl&gt; | X407.593_5nm &lt;dbl&gt; | X412.593_5nm &lt;dbl&gt; | X417.593_5nm &lt;dbl&gt; | X422.593_5nm &lt;dbl&gt; | X427.593_5nm &lt;dbl&gt; | X432.593_5nm &lt;dbl&gt; | X437.593_5nm &lt;dbl&gt; | X442.593_5nm &lt;dbl&gt; | ⋯ ⋯ | TCARI &lt;dbl&gt; | TCARIOSAVI &lt;dbl&gt; | TCARI2 &lt;dbl&gt; | TCARI2OSAVI2 &lt;dbl&gt; | TGI &lt;dbl&gt; | TVI &lt;dbl&gt; | Vogelmann &lt;dbl&gt; | Vogelmann2 &lt;dbl&gt; | Vogelmann3 &lt;dbl&gt; | Vogelmann4 &lt;dbl&gt; |\n",
       "|---|---|---|---|---|---|---|---|---|---|---|---|---|---|---|---|---|---|---|---|---|---|\n",
       "| 1 | 2323 | 0.02762950 | 0.02918722 | 0.03074185 | 0.03228399 | 0.03380342 | 0.03527249 | 0.03666635 | 0.03795165 | 0.03907399 | ⋯ | 0.15344840 | 0.2196595 | 0.21985807 | 0.4777472 | 4.432056 | 22.000383 | 1.611559 | -0.15610713 | 1.246065 | -0.17269695 |\n",
       "| 2 | 1573 | 0.01533623 | 0.01552180 | 0.01571935 | 0.01593363 | 0.01617408 | 0.01644385 | 0.01674312 | 0.01707574 | 0.01743688 | ⋯ | 0.06967618 | 0.1254746 | 0.10177802 | 0.3349294 | 1.405833 |  9.061371 | 1.502906 | -0.14890057 | 1.170726 | -0.16103353 |\n",
       "| 3 |  232 | 0.04302270 | 0.04275670 | 0.04254037 | 0.04239005 | 0.04232247 | 0.04235422 | 0.04249037 | 0.04273396 | 0.04307974 | ⋯ | 0.08705838 | 0.2151788 | 0.11325191 | 0.5597871 | 1.090465 |  8.403485 | 1.245043 | -0.06266569 | 1.028528 | -0.06533264 |\n",
       "| 4 | 1670 | 0.02544771 | 0.02303027 | 0.02112182 | 0.01981552 | 0.01910262 | 0.01894225 | 0.01918603 | 0.01961713 | 0.02010186 | ⋯ | 0.06151054 | 0.1081299 | 0.08570991 | 0.2227155 | 1.779364 | 10.409653 | 1.687824 | -0.18946736 | 1.321845 | -0.21139980 |\n",
       "| 5 | 4283 | 0.01997481 | 0.02049219 | 0.02090960 | 0.02123028 | 0.02146525 | 0.02162558 | 0.02173285 | 0.02180948 | 0.02187333 | ⋯ | 0.09200067 | 0.1815612 | 0.11871523 | 0.4451972 | 2.196559 |  9.605719 | 1.373887 | -0.09644190 | 1.068833 | -0.10276801 |\n",
       "| 6 | 3961 | 0.01931844 | 0.01941683 | 0.01964067 | 0.02001486 | 0.02054380 | 0.02119869 | 0.02193446 | 0.02270658 | 0.02346866 | ⋯ | 0.12560464 | 0.2175637 | 0.18137872 | 0.5513599 | 3.826563 | 14.164129 | 1.410084 | -0.09816937 | 1.089591 | -0.10547435 |\n",
       "\n"
      ],
      "text/plain": [
       "  X    X402.593_5nm X407.593_5nm X412.593_5nm X417.593_5nm X422.593_5nm\n",
       "1 2323 0.02762950   0.02918722   0.03074185   0.03228399   0.03380342  \n",
       "2 1573 0.01533623   0.01552180   0.01571935   0.01593363   0.01617408  \n",
       "3  232 0.04302270   0.04275670   0.04254037   0.04239005   0.04232247  \n",
       "4 1670 0.02544771   0.02303027   0.02112182   0.01981552   0.01910262  \n",
       "5 4283 0.01997481   0.02049219   0.02090960   0.02123028   0.02146525  \n",
       "6 3961 0.01931844   0.01941683   0.01964067   0.02001486   0.02054380  \n",
       "  X427.593_5nm X432.593_5nm X437.593_5nm X442.593_5nm ⋯ TCARI      TCARIOSAVI\n",
       "1 0.03527249   0.03666635   0.03795165   0.03907399   ⋯ 0.15344840 0.2196595 \n",
       "2 0.01644385   0.01674312   0.01707574   0.01743688   ⋯ 0.06967618 0.1254746 \n",
       "3 0.04235422   0.04249037   0.04273396   0.04307974   ⋯ 0.08705838 0.2151788 \n",
       "4 0.01894225   0.01918603   0.01961713   0.02010186   ⋯ 0.06151054 0.1081299 \n",
       "5 0.02162558   0.02173285   0.02180948   0.02187333   ⋯ 0.09200067 0.1815612 \n",
       "6 0.02119869   0.02193446   0.02270658   0.02346866   ⋯ 0.12560464 0.2175637 \n",
       "  TCARI2     TCARI2OSAVI2 TGI      TVI       Vogelmann Vogelmann2  Vogelmann3\n",
       "1 0.21985807 0.4777472    4.432056 22.000383 1.611559  -0.15610713 1.246065  \n",
       "2 0.10177802 0.3349294    1.405833  9.061371 1.502906  -0.14890057 1.170726  \n",
       "3 0.11325191 0.5597871    1.090465  8.403485 1.245043  -0.06266569 1.028528  \n",
       "4 0.08570991 0.2227155    1.779364 10.409653 1.687824  -0.18946736 1.321845  \n",
       "5 0.11871523 0.4451972    2.196559  9.605719 1.373887  -0.09644190 1.068833  \n",
       "6 0.18137872 0.5513599    3.826563 14.164129 1.410084  -0.09816937 1.089591  \n",
       "  Vogelmann4 \n",
       "1 -0.17269695\n",
       "2 -0.16103353\n",
       "3 -0.06533264\n",
       "4 -0.21139980\n",
       "5 -0.10276801\n",
       "6 -0.10547435"
      ]
     },
     "metadata": {},
     "output_type": "display_data"
    }
   ],
   "source": [
    "head(img)"
   ]
  },
  {
   "cell_type": "code",
   "execution_count": 7,
   "metadata": {
    "vscode": {
     "languageId": "r"
    }
   },
   "outputs": [],
   "source": [
    "merged <- rbind(img, grd)"
   ]
  },
  {
   "cell_type": "code",
   "execution_count": null,
   "metadata": {
    "vscode": {
     "languageId": "r"
    }
   },
   "outputs": [],
   "source": [
    "write.csv(merged, file = \"Data/gs/x_train/corrected_and_img.csv\")"
   ]
  }
 ],
 "metadata": {
  "kernelspec": {
   "display_name": "R",
   "language": "R",
   "name": "ir"
  },
  "language_info": {
   "codemirror_mode": "r",
   "file_extension": ".r",
   "mimetype": "text/x-r-source",
   "name": "R",
   "pygments_lexer": "r",
   "version": "4.2.2"
  },
  "orig_nbformat": 4
 },
 "nbformat": 4,
 "nbformat_minor": 2
}
