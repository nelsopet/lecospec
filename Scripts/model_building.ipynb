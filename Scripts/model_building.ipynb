{
 "cells": [
  {
   "cell_type": "code",
   "execution_count": null,
   "metadata": {
    "vscode": {
     "languageId": "r"
    }
   },
   "outputs": [],
   "source": [
    "# notebooks use their location as their working directory, so\n",
    "# if we are in a subfolder, move to the main folder.  \n",
    "# This however can safely be run multiple times\n",
    "if(!dir.exists(\"Functions/\")){\n",
    "    setwd(\"../\")\n",
    "}\n",
    "source(\"Functions/lecospectR.R\", echo = FALSE)\n",
    "library(class)\n",
    "library(caret)\n",
    "library(vegan)"
   ]
  },
  {
   "cell_type": "markdown",
   "metadata": {},
   "source": [
    "## Load the Data"
   ]
  },
  {
   "cell_type": "code",
   "execution_count": null,
   "metadata": {
    "vscode": {
     "languageId": "r"
    }
   },
   "outputs": [],
   "source": [
    "# spectral library\n",
    "base_path <- \"./Output/C_001_SC3_Cleaned_SpectralLib.csv\"\n",
    "veg_index_path <- \"./Data/D_002_SpecLib_Derivs.csv\"\n",
    "speclib <- read.csv(base_path)\n",
    "veg_indices <- read.csv(veg_index_path)"
   ]
  },
  {
   "cell_type": "code",
   "execution_count": null,
   "metadata": {
    "vscode": {
     "languageId": "r"
    }
   },
   "outputs": [],
   "source": [
    "# Targets \n",
    "targets <- veg_indices[!is.na(veg_indices$Functional_group1),\"Functional_group1\"] %>% as.factor()\n",
    "# weights\n",
    "weights_by_pft <- targets_to_weights(targets)"
   ]
  },
  {
   "cell_type": "code",
   "execution_count": null,
   "metadata": {
    "vscode": {
     "languageId": "r"
    }
   },
   "outputs": [],
   "source": [
    "# image-based validation\n",
    "uav_speclib_df <- read.csv(\n",
    "    \"Data/Ground_Validation/PFT_image_spectra/PFT_Image_SpectralLib_Clean_unsmoothed.csv\", \n",
    "    header = TRUE)\n",
    "image_validation <- uav_speclib_df[,16:(ncol(uav_speclib_df) - 1)]\n",
    "validation_labels <- uav_speclib_df$FncGrp1 %>% as.factor()\n",
    "#levels(validation_labels) <- c(levels(validation_labels), \"Forb\") \n",
    "\n"
   ]
  },
  {
   "cell_type": "markdown",
   "metadata": {},
   "source": [
    "## Base transformation\n",
    "This removes infinity, outliers and NAs from the data.  "
   ]
  },
  {
   "cell_type": "code",
   "execution_count": 88,
   "metadata": {
    "vscode": {
     "languageId": "r"
    }
   },
   "outputs": [
    {
     "name": "stdout",
     "output_type": "stream",
     "text": [
      "[1] \"Imputing...\"\n",
      "[1] \"Imputing...\"\n"
     ]
    },
    {
     "data": {
      "image/png": "[encoded data removed]",
      "text/plain": [
       "Plot with title “Histogram of dist(as.matrix(imputed_data))”"
      ]
     },
     "metadata": {
      "image/png": {
       "height": 420,
       "width": 420
      }
     },
     "output_type": "display_data"
    }
   ],
   "source": [
    "numeric_data <- veg_indices[!is.na(veg_indices$Functional_group1),35:(ncol(veg_indices)-1)]\n",
    "numeric_data <- inf_to_na(numeric_data)\n",
    "imputed_data_1 <- impute_spectra(numeric_data)\n",
    "imputed_data_no_outliers <- outliers_to_na(imputed_data_1)\n",
    "imputed_data <- impute_spectra(imputed_data_no_outliers)\n",
    "outlier_indices <- detect_outliers_columnwise(imputed_data[,1:95])\n",
    "filtered_data <- imputed_data[!outlier_indices,]\n",
    "hist(dist(as.matrix(imputed_data)))\n",
    "min_max_scaled_data <- columnwise_min_max_scale(imputed_data)"
   ]
  },
  {
   "cell_type": "code",
   "execution_count": 74,
   "metadata": {
    "vscode": {
     "languageId": "r"
    }
   },
   "outputs": [
    {
     "name": "stdout",
     "output_type": "stream",
     "text": [
      "  [1] \"Boochs\"       \"Boochs2\"      \"CARI\"         \"Carter\"       \"Carter2\"     \n",
      "  [6] \"Carter3\"      \"Carter4\"      \"Carter5\"      \"Carter6\"      \"CI\"          \n",
      " [11] \"CI2\"          \"ClAInt\"       \"CRI1\"         \"CRI2\"         \"CRI3\"        \n",
      " [16] \"CRI4\"         \"D1\"           \"D2\"           \"Datt\"         \"Datt2\"       \n",
      " [21] \"Datt3\"        \"Datt4\"        \"Datt5\"        \"Datt6\"        \"DD\"          \n",
      " [26] \"DDn\"          \"DPI\"          \"DWSI4\"        \"EGFN\"         \"EGFR\"        \n",
      " [31] \"EVI\"          \"GDVI2\"        \"GDVI3\"        \"GDVI4\"        \"GI\"          \n",
      " [36] \"Gitelson\"     \"Gitelson2\"    \"GMI1\"         \"GMI2\"         \"GreenNDVI\"   \n",
      " [41] \"Maccioni\"     \"MCARI\"        \"MCARIOSAVI\"   \"MCARI2\"       \"MCARI2OSAVI2\"\n",
      " [46] \"mND705\"       \"mNDVI\"        \"MPRI\"         \"MSAVI\"        \"mSR\"         \n",
      " [51] \"mSR2\"         \"mSR705\"       \"MTCI\"         \"MTVI\"         \"NDVI\"        \n",
      " [56] \"NDVI2\"        \"NDVI3\"        \"NPCI\"         \"OSAVI\"        \"OSAVI2\"      \n",
      " [61] \"PARS\"         \"PRI\"          \"PRInorm\"      \"PRICI2\"       \"PSND\"        \n",
      " [66] \"PSRI\"         \"PSSR\"         \"RDVI\"         \"REPLE\"        \"REPLi\"       \n",
      " [71] \"SAVI\"         \"SIPI\"         \"SPVI\"         \"SR\"           \"SR1\"         \n",
      " [76] \"SR2\"          \"SR3\"          \"SR4\"          \"SR5\"          \"SR6\"         \n",
      " [81] \"SR7\"          \"SR8\"          \"SRPI\"         \"SumDr1\"       \"SumDr2\"      \n",
      " [86] \"TCARI\"        \"TCARIOSAVI\"   \"TCARI2\"       \"TCARI2OSAVI2\" \"TGI\"         \n",
      " [91] \"TVI\"          \"Vogelmann\"    \"Vogelmann2\"   \"Vogelmann3\"   \"Vogelmann4\"  \n",
      " [96] \"X397.593_5nm\" \"X402.593_5nm\" \"X407.593_5nm\" \"X412.593_5nm\" \"X417.593_5nm\"\n",
      "[101] \"X422.593_5nm\" \"X427.593_5nm\" \"X432.593_5nm\" \"X437.593_5nm\" \"X442.593_5nm\"\n",
      "[106] \"X447.593_5nm\" \"X452.593_5nm\" \"X457.593_5nm\" \"X462.593_5nm\" \"X467.593_5nm\"\n",
      "[111] \"X472.593_5nm\" \"X477.593_5nm\" \"X482.593_5nm\" \"X487.593_5nm\" \"X492.593_5nm\"\n",
      "[116] \"X497.593_5nm\" \"X502.593_5nm\" \"X507.593_5nm\" \"X512.593_5nm\" \"X517.593_5nm\"\n",
      "[121] \"X522.593_5nm\" \"X527.593_5nm\" \"X532.593_5nm\" \"X537.593_5nm\" \"X542.593_5nm\"\n",
      "[126] \"X547.593_5nm\" \"X552.593_5nm\" \"X557.593_5nm\" \"X562.593_5nm\" \"X567.593_5nm\"\n",
      "[131] \"X572.593_5nm\" \"X577.593_5nm\" \"X582.593_5nm\" \"X587.593_5nm\" \"X592.593_5nm\"\n",
      "[136] \"X597.593_5nm\" \"X602.593_5nm\" \"X607.593_5nm\" \"X612.593_5nm\" \"X617.593_5nm\"\n",
      "[141] \"X622.593_5nm\" \"X627.593_5nm\" \"X632.593_5nm\" \"X637.593_5nm\" \"X642.593_5nm\"\n",
      "[146] \"X647.593_5nm\" \"X652.593_5nm\" \"X657.593_5nm\" \"X662.593_5nm\" \"X667.593_5nm\"\n",
      "[151] \"X672.593_5nm\" \"X677.593_5nm\" \"X682.593_5nm\" \"X687.593_5nm\" \"X692.593_5nm\"\n",
      "[156] \"X697.593_5nm\" \"X702.593_5nm\" \"X707.593_5nm\" \"X712.593_5nm\" \"X717.593_5nm\"\n",
      "[161] \"X722.593_5nm\" \"X727.593_5nm\" \"X732.593_5nm\" \"X737.593_5nm\" \"X742.593_5nm\"\n",
      "[166] \"X747.593_5nm\" \"X752.593_5nm\" \"X757.593_5nm\" \"X762.593_5nm\" \"X767.593_5nm\"\n",
      "[171] \"X772.593_5nm\" \"X777.593_5nm\" \"X782.593_5nm\" \"X787.593_5nm\" \"X792.593_5nm\"\n",
      "[176] \"X797.593_5nm\" \"X802.593_5nm\" \"X807.593_5nm\" \"X812.593_5nm\" \"X817.593_5nm\"\n",
      "[181] \"X822.593_5nm\" \"X827.593_5nm\" \"X832.593_5nm\" \"X837.593_5nm\" \"X842.593_5nm\"\n",
      "[186] \"X847.593_5nm\" \"X852.593_5nm\" \"X857.593_5nm\" \"X862.593_5nm\" \"X867.593_5nm\"\n",
      "[191] \"X872.593_5nm\" \"X877.593_5nm\" \"X882.593_5nm\" \"X887.593_5nm\" \"X892.593_5nm\"\n",
      "[196] \"X897.593_5nm\" \"X902.593_5nm\" \"X907.593_5nm\" \"X912.593_5nm\" \"X917.593_5nm\"\n",
      "[201] \"X922.593_5nm\" \"X927.593_5nm\" \"X932.593_5nm\" \"X937.593_5nm\" \"X942.593_5nm\"\n",
      "[206] \"X947.593_5nm\" \"X952.593_5nm\" \"X957.593_5nm\" \"X962.593_5nm\" \"X967.593_5nm\"\n",
      "[211] \"X972.593_5nm\" \"X977.593_5nm\" \"X982.593_5nm\" \"X987.593_5nm\" \"X992.593_5nm\"\n"
     ]
    }
   ],
   "source": [
    "print(colnames(imputed_data))"
   ]
  },
  {
   "cell_type": "markdown",
   "metadata": {},
   "source": [
    "## Transform the Image-based Data"
   ]
  },
  {
   "cell_type": "code",
   "execution_count": null,
   "metadata": {
    "vscode": {
     "languageId": "r"
    }
   },
   "outputs": [],
   "source": [
    "veg_index_names <- read.csv(\"assets/vegIndicesUsed.csv\")$x\n",
    "validation_indices <- get_vegetation_indices(image_validation, NULL)\n",
    "# drop NAs\n",
    "\n",
    "validation_indices <- inf_to_na(validation_indices)\n",
    "validation_indices <- impute_spectra(validation_indices)\n",
    "validation_indices <- outliers_to_na(validation_indices)\n",
    "validation_indices <- impute_spectra(validation_indices)\n",
    "\n",
    "\n",
    "min_max_scaled_validation <- columnwise_min_max_scale(validation_indices)\n",
    "\n",
    "#hist(as.matrix(min_max_scaled_validation))"
   ]
  },
  {
   "cell_type": "code",
   "execution_count": 76,
   "metadata": {
    "vscode": {
     "languageId": "r"
    }
   },
   "outputs": [
    {
     "name": "stderr",
     "output_type": "stream",
     "text": [
      "Using spline to predict value at new bands...\n",
      "\n",
      "Beware the spectra are now partially smoothed.\n",
      "\n"
     ]
    }
   ],
   "source": [
    "validation_bands <- resample_df(image_validation,normalize = FALSE)"
   ]
  },
  {
   "cell_type": "code",
   "execution_count": 89,
   "metadata": {
    "vscode": {
     "languageId": "r"
    }
   },
   "outputs": [
    {
     "name": "stdout",
     "output_type": "stream",
     "text": [
      "  [1] \"X397.593\"     \"X399.444\"     \"X401.296\"     \"X403.148\"     \"X405\"        \n",
      "  [6] \"X406.851\"     \"X408.703\"     \"X410.555\"     \"X412.407\"     \"X414.258\"    \n",
      " [11] \"X416.11\"      \"X417.962\"     \"X419.814\"     \"X421.666\"     \"X423.517\"    \n",
      " [16] \"X425.369\"     \"X427.221\"     \"X429.073\"     \"X430.924\"     \"X432.776\"    \n",
      " [21] \"X434.628\"     \"X436.48\"      \"X438.332\"     \"X440.183\"     \"X442.035\"    \n",
      " [26] \"X443.887\"     \"X445.739\"     \"X447.59\"      \"X449.442\"     \"X451.294\"    \n",
      " [31] \"X453.146\"     \"X454.998\"     \"X456.849\"     \"X458.701\"     \"X460.553\"    \n",
      " [36] \"X462.405\"     \"X464.256\"     \"X466.108\"     \"X467.96\"      \"X469.812\"    \n",
      " [41] \"X471.664\"     \"X473.515\"     \"X475.367\"     \"X477.219\"     \"X479.071\"    \n",
      " [46] \"X480.922\"     \"X482.774\"     \"X484.626\"     \"X486.478\"     \"X488.33\"     \n",
      " [51] \"X490.181\"     \"X492.033\"     \"X493.885\"     \"X495.737\"     \"X497.588\"    \n",
      " [56] \"X499.44\"      \"X501.292\"     \"X503.144\"     \"X504.996\"     \"X506.847\"    \n",
      " [61] \"X508.699\"     \"X510.551\"     \"X512.403\"     \"X514.254\"     \"X516.106\"    \n",
      " [66] \"X517.958\"     \"X519.81\"      \"X521.662\"     \"X523.513\"     \"X525.365\"    \n",
      " [71] \"X527.217\"     \"X529.069\"     \"X530.92\"      \"X532.772\"     \"X534.624\"    \n",
      " [76] \"X536.476\"     \"X538.328\"     \"X540.179\"     \"X542.031\"     \"X543.883\"    \n",
      " [81] \"X545.735\"     \"X547.586\"     \"X549.438\"     \"X551.29\"      \"X553.142\"    \n",
      " [86] \"X554.994\"     \"X556.845\"     \"X558.697\"     \"X560.549\"     \"X562.401\"    \n",
      " [91] \"X564.252\"     \"X566.104\"     \"X567.956\"     \"X569.808\"     \"X571.659\"    \n",
      " [96] \"X573.511\"     \"X575.363\"     \"X577.215\"     \"X579.067\"     \"X580.918\"    \n",
      "[101] \"X582.77\"      \"X584.622\"     \"X586.474\"     \"X588.325\"     \"X590.177\"    \n",
      "[106] \"X592.029\"     \"X593.881\"     \"X595.733\"     \"X597.584\"     \"X599.436\"    \n",
      "[111] \"X601.288\"     \"X603.14\"      \"X604.991\"     \"X606.843\"     \"X608.695\"    \n",
      "[116] \"X610.547\"     \"X612.399\"     \"X614.25\"      \"X616.102\"     \"X617.954\"    \n",
      "[121] \"X619.806\"     \"X621.657\"     \"X623.509\"     \"X625.361\"     \"X627.213\"    \n",
      "[126] \"X629.065\"     \"X630.916\"     \"X632.768\"     \"X634.62\"      \"X636.472\"    \n",
      "[131] \"X638.323\"     \"X640.175\"     \"X642.027\"     \"X643.879\"     \"X645.731\"    \n",
      "[136] \"X647.582\"     \"X649.434\"     \"X651.286\"     \"X653.138\"     \"X654.989\"    \n",
      "[141] \"X656.841\"     \"X658.693\"     \"X660.545\"     \"X662.397\"     \"X664.248\"    \n",
      "[146] \"X666.1\"       \"X667.952\"     \"X669.804\"     \"X671.655\"     \"X673.507\"    \n",
      "[151] \"X675.359\"     \"X677.211\"     \"X679.063\"     \"X680.914\"     \"X682.766\"    \n",
      "[156] \"X684.618\"     \"X686.47\"      \"X688.321\"     \"X690.173\"     \"X692.025\"    \n",
      "[161] \"X693.877\"     \"X695.729\"     \"X697.58\"      \"X699.432\"     \"X701.284\"    \n",
      "[166] \"X703.136\"     \"X704.987\"     \"X706.839\"     \"X708.691\"     \"X710.543\"    \n",
      "[171] \"X712.395\"     \"X714.246\"     \"X716.098\"     \"X717.95\"      \"X719.802\"    \n",
      "[176] \"X721.653\"     \"X723.505\"     \"X725.357\"     \"X727.209\"     \"X729.061\"    \n",
      "[181] \"X730.912\"     \"X732.764\"     \"X734.616\"     \"X736.468\"     \"X738.319\"    \n",
      "[186] \"X740.171\"     \"X742.023\"     \"X743.875\"     \"X745.726\"     \"X747.578\"    \n",
      "[191] \"X749.43\"      \"X751.282\"     \"X753.134\"     \"X754.985\"     \"X756.837\"    \n",
      "[196] \"X758.689\"     \"X760.541\"     \"X762.392\"     \"X764.244\"     \"X766.096\"    \n",
      "[201] \"X767.948\"     \"X769.8\"       \"X771.651\"     \"X773.503\"     \"X775.355\"    \n",
      "[206] \"X777.207\"     \"X779.058\"     \"X780.91\"      \"X782.762\"     \"X784.614\"    \n",
      "[211] \"X786.466\"     \"X788.317\"     \"X790.169\"     \"X792.021\"     \"X793.873\"    \n",
      "[216] \"X795.724\"     \"X797.576\"     \"X799.428\"     \"X801.28\"      \"X803.132\"    \n",
      "[221] \"X804.983\"     \"X806.835\"     \"X808.687\"     \"X810.539\"     \"X812.39\"     \n",
      "[226] \"X814.242\"     \"X816.094\"     \"X817.946\"     \"X819.798\"     \"X821.649\"    \n",
      "[231] \"X823.501\"     \"X825.353\"     \"X827.205\"     \"X829.056\"     \"X830.908\"    \n",
      "[236] \"X832.76\"      \"X834.612\"     \"X836.464\"     \"X838.315\"     \"X840.167\"    \n",
      "[241] \"X842.019\"     \"X843.871\"     \"X845.722\"     \"X847.574\"     \"X849.426\"    \n",
      "[246] \"X851.278\"     \"X853.13\"      \"X854.981\"     \"X856.833\"     \"X858.685\"    \n",
      "[251] \"X860.537\"     \"X862.388\"     \"X864.24\"      \"X866.092\"     \"X867.944\"    \n",
      "[256] \"X869.796\"     \"X871.647\"     \"X873.499\"     \"X875.351\"     \"X877.203\"    \n",
      "[261] \"X879.054\"     \"X880.906\"     \"X882.758\"     \"X884.61\"      \"X886.462\"    \n",
      "[266] \"X888.313\"     \"X890.165\"     \"X892.017\"     \"X893.869\"     \"X895.72\"     \n",
      "[271] \"X897.572\"     \"X899.424\"     \"X901.276\"     \"X903.127\"     \"X904.979\"    \n",
      "[276] \"X906.831\"     \"X908.683\"     \"X910.535\"     \"X912.386\"     \"X914.238\"    \n",
      "[281] \"X916.09\"      \"X917.942\"     \"X919.793\"     \"X921.645\"     \"X923.497\"    \n",
      "[286] \"X925.349\"     \"X927.201\"     \"X929.052\"     \"X930.904\"     \"X932.756\"    \n",
      "[291] \"X934.608\"     \"X936.459\"     \"X938.311\"     \"X940.163\"     \"X942.015\"    \n",
      "[296] \"X943.867\"     \"X945.718\"     \"X947.57\"      \"X949.422\"     \"X951.274\"    \n",
      "[301] \"X953.125\"     \"X954.977\"     \"X956.829\"     \"X958.681\"     \"X960.533\"    \n",
      "[306] \"X962.384\"     \"X964.236\"     \"X966.088\"     \"X967.94\"      \"X969.791\"    \n",
      "[311] \"X971.643\"     \"X973.495\"     \"X975.347\"     \"X977.199\"     \"X979.05\"     \n",
      "[316] \"X980.902\"     \"X982.754\"     \"X984.606\"     \"X986.457\"     \"X988.309\"    \n",
      "[321] \"X990.161\"     \"X992.013\"     \"X993.865\"     \"X995.716\"     \"X997.568\"    \n",
      "[326] \"X999.42\"      \"X397.593_5nm\" \"X402.593_5nm\" \"X407.593_5nm\" \"X412.593_5nm\"\n",
      "[331] \"X417.593_5nm\" \"X422.593_5nm\" \"X427.593_5nm\" \"X432.593_5nm\" \"X437.593_5nm\"\n",
      "[336] \"X442.593_5nm\" \"X447.593_5nm\" \"X452.593_5nm\" \"X457.593_5nm\" \"X462.593_5nm\"\n",
      "[341] \"X467.593_5nm\" \"X472.593_5nm\" \"X477.593_5nm\" \"X482.593_5nm\" \"X487.593_5nm\"\n",
      "[346] \"X492.593_5nm\" \"X497.593_5nm\" \"X502.593_5nm\" \"X507.593_5nm\" \"X512.593_5nm\"\n",
      "[351] \"X517.593_5nm\" \"X522.593_5nm\" \"X527.593_5nm\" \"X532.593_5nm\" \"X537.593_5nm\"\n",
      "[356] \"X542.593_5nm\" \"X547.593_5nm\" \"X552.593_5nm\" \"X557.593_5nm\" \"X562.593_5nm\"\n",
      "[361] \"X567.593_5nm\" \"X572.593_5nm\" \"X577.593_5nm\" \"X582.593_5nm\" \"X587.593_5nm\"\n",
      "[366] \"X592.593_5nm\" \"X597.593_5nm\" \"X602.593_5nm\" \"X607.593_5nm\" \"X612.593_5nm\"\n",
      "[371] \"X617.593_5nm\" \"X622.593_5nm\" \"X627.593_5nm\" \"X632.593_5nm\" \"X637.593_5nm\"\n",
      "[376] \"X642.593_5nm\" \"X647.593_5nm\" \"X652.593_5nm\" \"X657.593_5nm\" \"X662.593_5nm\"\n",
      "[381] \"X667.593_5nm\" \"X672.593_5nm\" \"X677.593_5nm\" \"X682.593_5nm\" \"X687.593_5nm\"\n",
      "[386] \"X692.593_5nm\" \"X697.593_5nm\" \"X702.593_5nm\" \"X707.593_5nm\" \"X712.593_5nm\"\n",
      "[391] \"X717.593_5nm\" \"X722.593_5nm\" \"X727.593_5nm\" \"X732.593_5nm\" \"X737.593_5nm\"\n",
      "[396] \"X742.593_5nm\" \"X747.593_5nm\" \"X752.593_5nm\" \"X757.593_5nm\" \"X762.593_5nm\"\n",
      "[401] \"X767.593_5nm\" \"X772.593_5nm\" \"X777.593_5nm\" \"X782.593_5nm\" \"X787.593_5nm\"\n",
      "[406] \"X792.593_5nm\" \"X797.593_5nm\" \"X802.593_5nm\" \"X807.593_5nm\" \"X812.593_5nm\"\n",
      "[411] \"X817.593_5nm\" \"X822.593_5nm\" \"X827.593_5nm\" \"X832.593_5nm\" \"X837.593_5nm\"\n",
      "[416] \"X842.593_5nm\" \"X847.593_5nm\" \"X852.593_5nm\" \"X857.593_5nm\" \"X862.593_5nm\"\n",
      "[421] \"X867.593_5nm\" \"X872.593_5nm\" \"X877.593_5nm\" \"X882.593_5nm\" \"X887.593_5nm\"\n",
      "[426] \"X892.593_5nm\" \"X897.593_5nm\" \"X902.593_5nm\" \"X907.593_5nm\" \"X912.593_5nm\"\n",
      "[431] \"X917.593_5nm\" \"X922.593_5nm\" \"X927.593_5nm\" \"X932.593_5nm\" \"X937.593_5nm\"\n",
      "[436] \"X942.593_5nm\" \"X947.593_5nm\" \"X952.593_5nm\" \"X957.593_5nm\" \"X962.593_5nm\"\n",
      "[441] \"X967.593_5nm\" \"X972.593_5nm\" \"X977.593_5nm\" \"X982.593_5nm\" \"X987.593_5nm\"\n",
      "[446] \"X992.593_5nm\"\n"
     ]
    }
   ],
   "source": [
    "print(colnames(validation_bands))"
   ]
  },
  {
   "cell_type": "code",
   "execution_count": null,
   "metadata": {
    "vscode": {
     "languageId": "r"
    }
   },
   "outputs": [],
   "source": [
    "image_weights <- targets_to_weights(validation_labels %>% as.factor())"
   ]
  },
  {
   "cell_type": "markdown",
   "metadata": {},
   "source": [
    "## PCA \n",
    "This is where we calcuate PCA for the ground and image spectra"
   ]
  },
  {
   "cell_type": "code",
   "execution_count": null,
   "metadata": {
    "vscode": {
     "languageId": "r"
    }
   },
   "outputs": [],
   "source": [
    "# fit a PCA to the ground spectra\n",
    "pca_fit <- stats::prcomp(imputed_data[,1:(ncol(numeric_data) - 66)], center = FALSE, scale. = FALSE)\n",
    "print(summary(pca_fit))\n",
    "pca_training_data <- predict(pca_fit, imputed_data[,1:(ncol(numeric_data) - 66)])[,1:64]\n",
    "boxplot(vegan::scores(pca_training_data)[,2]~targets)"
   ]
  },
  {
   "cell_type": "markdown",
   "metadata": {},
   "source": [
    "## Standardization\n",
    "This cell standardizes the input to center at zero with standard deviation one."
   ]
  },
  {
   "cell_type": "code",
   "execution_count": null,
   "metadata": {
    "vscode": {
     "languageId": "r"
    }
   },
   "outputs": [],
   "source": [
    "# standardization\n",
    "indice_standardizer <- caret::preProcess(imputed_data[,1:95])\n",
    "standardized_indices <- predict(indice_standardizer, imputed_data[,1:95])\n",
    "\n",
    "val_standardizer <- caret::preProcess(validation_indices)\n",
    "standardized_validation <- predict(val_standardizer, validation_indices)"
   ]
  },
  {
   "cell_type": "code",
   "execution_count": null,
   "metadata": {
    "vscode": {
     "languageId": "r"
    }
   },
   "outputs": [],
   "source": [
    "hist(standardized_indices$Carter, breaks = 20)\n",
    "hist(standardized_validation$Carter, breaks = 20)"
   ]
  },
  {
   "cell_type": "markdown",
   "metadata": {},
   "source": [
    "## Min-Max Scaling\n",
    "This executes the min-man scalaing (to make the data on the scale [0,1])"
   ]
  },
  {
   "cell_type": "markdown",
   "metadata": {},
   "source": []
  },
  {
   "cell_type": "code",
   "execution_count": null,
   "metadata": {
    "vscode": {
     "languageId": "r"
    }
   },
   "outputs": [],
   "source": [
    "# plots\n",
    "hist(min_max_scaled_validation %>% as.matrix())\n",
    "hist(min_max_scaled_data %>% as.matrix())\n",
    "pca_validation_data <- predict(pca_fit, validation_indices)[,1:64] %>% as.data.frame()\n",
    "boxplot(vegan::scores(pca_validation_data)[,2]~validation_labels)"
   ]
  },
  {
   "cell_type": "markdown",
   "metadata": {},
   "source": [
    "## KS Tests of Transferrability\n",
    "These next few cells test whether the veg indices are similarly distributed (i.e. could be samples drawn from the same distribution)\n",
    "\n",
    "The hypothesis is that columns (veg indices) that pass this test can safely be used across models and conditions (are transferrable)"
   ]
  },
  {
   "cell_type": "code",
   "execution_count": null,
   "metadata": {
    "vscode": {
     "languageId": "r"
    }
   },
   "outputs": [],
   "source": [
    "source(\"Functions/lecospectR.R\")\n",
    "ks_test_results <- test_transferrability(min_max_scaled_data, min_max_scaled_validation)\n",
    "print(ks_test_results)"
   ]
  },
  {
   "cell_type": "markdown",
   "metadata": {},
   "source": [
    "## t-SNE\n",
    "Examine the clusters in the data via *t*-SNE"
   ]
  },
  {
   "cell_type": "code",
   "execution_count": null,
   "metadata": {
    "vscode": {
     "languageId": "r"
    }
   },
   "outputs": [],
   "source": [
    "library(Rtsne)\n",
    "unique_indices <- imputed_data[!duplicated(imputed_data),1:95]\n",
    "normalized_veg_indices <- Rtsne::normalize_input(\n",
    "    unique_indices %>% \n",
    "    as.matrix()\n",
    "    )\n",
    "embedding_2D <- Rtsne::Rtsne(normalized_veg_indices)\n",
    "print(names(embedding_2D))\n",
    "\n",
    "plot(embedding_2D$Y, col = as.factor(targets))\n",
    "par(xpd=T)\n",
    "legend(\"topright\", legend = unique(targets), col = seq_along(unique(targets)),pch = 1)"
   ]
  },
  {
   "cell_type": "markdown",
   "metadata": {},
   "source": [
    "## Vector Quantization Classifier\n",
    "This fits a LVQ classifier to the data and then "
   ]
  },
  {
   "cell_type": "code",
   "execution_count": null,
   "metadata": {
    "vscode": {
     "languageId": "r"
    }
   },
   "outputs": [],
   "source": [
    "print(length(validation_labels))\n",
    "print(nrow(min_max_scaled_validation))"
   ]
  },
  {
   "cell_type": "code",
   "execution_count": null,
   "metadata": {
    "vscode": {
     "languageId": "r"
    }
   },
   "outputs": [],
   "source": [
    "# method 1 - transfers with 23% accuracy, which is one of the best actually\n",
    "library(class)\n",
    "codeBook <-  lvqinit(\n",
    "    min_max_scaled_data[,1:95], \n",
    "    targets, \n",
    "10)\n",
    "code_book_train <- class::olvq1(min_max_scaled_data[,1:95], targets, codeBook)\n",
    "prediction <- class::lvqtest(code_book_train, min_max_scaled_data[,1:95])\n",
    "lvq_conf <- caret::confusionMatrix(prediction, targets, mode = \"everything\")\n",
    "\n",
    "#print(lvq_conf)\n",
    "\n",
    "image_prediction <- class::lvqtest(code_book_train, min_max_scaled_validation)\n",
    "\n",
    "lvq_validation_conf <- caret::confusionMatrix(image_prediction, validation_labels, mode = \"everything\")\n",
    "\n"
   ]
  },
  {
   "cell_type": "code",
   "execution_count": null,
   "metadata": {
    "vscode": {
     "languageId": "r"
    }
   },
   "outputs": [],
   "source": [
    "print(lvq_conf)"
   ]
  },
  {
   "cell_type": "code",
   "execution_count": null,
   "metadata": {
    "vscode": {
     "languageId": "r"
    }
   },
   "outputs": [],
   "source": [
    "print(lvq_validation_conf)"
   ]
  },
  {
   "cell_type": "markdown",
   "metadata": {},
   "source": [
    "## Train-Test Split\n",
    "\n",
    "Perform an 80-20 split on the data (use the split on the fly during the grid search)"
   ]
  },
  {
   "cell_type": "code",
   "execution_count": null,
   "metadata": {
    "vscode": {
     "languageId": "r"
    }
   },
   "outputs": [],
   "source": [
    "grd_train_idx <- caTools::sample.split(targets, SplitRatio = 0.8)"
   ]
  },
  {
   "cell_type": "code",
   "execution_count": null,
   "metadata": {
    "vscode": {
     "languageId": "r"
    }
   },
   "outputs": [],
   "source": [
    "img_train_idx <- caTools::sample.split(validation_labels, SplitRatio = 0.8)"
   ]
  },
  {
   "cell_type": "markdown",
   "metadata": {},
   "source": [
    "## Random Forest\n",
    "trains a random forest model"
   ]
  },
  {
   "cell_type": "code",
   "execution_count": null,
   "metadata": {
    "vscode": {
     "languageId": "r"
    }
   },
   "outputs": [],
   "source": [
    "\n",
    "rf_model <- ranger::ranger(\n",
    "    num.trees = 256,\n",
    "    case.weights = image_weights,\n",
    "    importance = \"impurity\",\n",
    "    classification = TRUE,\n",
    "    x = validation_indices,\n",
    "    y = validation_labels\n",
    ")\n",
    "\n",
    "print(rf_model)"
   ]
  },
  {
   "cell_type": "code",
   "execution_count": null,
   "metadata": {
    "vscode": {
     "languageId": "r"
    }
   },
   "outputs": [],
   "source": [
    "predictions <- predict(rf_model, validation_indices)$predictions %>% \n",
    "    as.factor()\n",
    "confusion_matrix <- caret::confusionMatrix(\n",
    "    predictions, \n",
    "    validation_labels, \n",
    "    mode = \"everything\")\n",
    "print(confusion_matrix)"
   ]
  },
  {
   "cell_type": "code",
   "execution_count": null,
   "metadata": {
    "vscode": {
     "languageId": "r"
    }
   },
   "outputs": [],
   "source": [
    "save(rf_model, file=\"mle/models/gs/rf_base_2.rda\")"
   ]
  },
  {
   "cell_type": "code",
   "execution_count": null,
   "metadata": {
    "vscode": {
     "languageId": "r"
    }
   },
   "outputs": [],
   "source": [
    "important_variables <- sort(rf_model$variable.importance, decreasing = TRUE)\n",
    "print(important_variables)"
   ]
  },
  {
   "cell_type": "code",
   "execution_count": null,
   "metadata": {
    "vscode": {
     "languageId": "r"
    }
   },
   "outputs": [],
   "source": [
    "important_variable_names<- names(important_variables)\n",
    "print(important_variable_names)"
   ]
  },
  {
   "cell_type": "code",
   "execution_count": null,
   "metadata": {
    "vscode": {
     "languageId": "r"
    }
   },
   "outputs": [],
   "source": [
    "# generate the test data\n",
    "set.seed(61718L)\n",
    "permutation <- permute::shuffle(validation_labels)\n",
    "val_t_chars <- validation_labels[permutation] %>% as.character()\n",
    "print(val_t_chars[1:5])\n",
    "counts <- c(0,0,0,0,0,0,0,0,0)\n",
    "samples <- vector(mode = \"logical\", length=length(validation_labels))\n",
    "\n",
    "for(i in seq_along(val_t_chars)){\n",
    "    samples[[i]] <- FALSE\n",
    "    if(val_t_chars[[i]] == \"Abiotic\"){\n",
    "        if(counts[[1]]<31){\n",
    "            samples[[i]] <-  TRUE\n",
    "            counts[[1]] <- counts[[1]] + 1\n",
    "        }\n",
    "\n",
    "    } else if (val_t_chars[[i]] == \"Graminoid\"){\n",
    "        if(counts[[2]] < 31){\n",
    "            samples[[i]] <-  TRUE\n",
    "            counts[[2]] <- counts[[2]] + 1\n",
    "        }\n",
    "    } else if (val_t_chars[[i]] == \"Forb\"){\n",
    "        if(counts[[3]] < 31){\n",
    "            samples[[i]] <-  TRUE\n",
    "            counts[[3]] <- counts[[3]] + 1\n",
    "        }\n",
    "    } else if (val_t_chars[[i]] == \"Lichen\"){\n",
    "        if(counts[[4]] < 31){\n",
    "            samples[[i]] <-  TRUE\n",
    "            counts[[4]] <- counts[[4]] + 1\n",
    "        }\n",
    "    } else if (val_t_chars[[i]] == \"Moss\"){\n",
    "        if(counts[[5]] < 31){\n",
    "            samples[[i]] <-  TRUE\n",
    "            counts[[5]] <- counts[[5]] + 1\n",
    "        }\n",
    "    } else if (val_t_chars[[i]] == \"ShrubDecid\"){\n",
    "        if(counts[[6]] < 31){\n",
    "            samples[[i]] <-  TRUE\n",
    "            counts[[6]] <- counts[[6]] + 1\n",
    "        }\n",
    "    } else if (val_t_chars[[i]] == \"ShrubEvergreen\"){\n",
    "        if(counts[[7]] < 31){\n",
    "            samples[[i]] <-  TRUE\n",
    "            counts[[7]] <- counts[[7]] + 1\n",
    "        }\n",
    "    } else if (val_t_chars[[i]] == \"TreeConifer\"){\n",
    "        if(counts[[8]] < 31){\n",
    "            samples[[i]] <-  TRUE\n",
    "            counts[[8]] <- counts[[8]] + 1\n",
    "        }\n",
    "    } else if (val_t_chars[[i]] == \"TreeBroadleaf\"){\n",
    "        if(counts[[9]] < 31){\n",
    "            samples[[i]] <-  TRUE\n",
    "            counts[[9]] <- counts[[9]] + 1\n",
    "        }\n",
    "    }\n",
    "}\n",
    "\n",
    "\n",
    "temp <- validation_labels[permutation] %>% as.factor()\n",
    "test_labels <- temp[as.vector(samples)]\n",
    "temp <- validation_indices[permutation,] %>% as.data.frame()\n",
    "test_data <- temp[as.vector(samples),]\n",
    "\n"
   ]
  },
  {
   "cell_type": "code",
   "execution_count": null,
   "metadata": {
    "vscode": {
     "languageId": "r"
    }
   },
   "outputs": [],
   "source": [
    "print(test_labels %>% table())"
   ]
  },
  {
   "cell_type": "markdown",
   "metadata": {},
   "source": [
    "# Grid Search\n",
    "\n",
    "This next section defines all the essentials for the grid search across our different candidate models. "
   ]
  },
  {
   "cell_type": "markdown",
   "metadata": {},
   "source": [
    "## Candidates\n",
    "\n",
    "### Models\n",
    "* Random Forest\n",
    "* Learned Vector Quantization (LVQ)\n",
    "* k-Nearest Neighbor (kNN)\n",
    "\n",
    "Could also consider Support Vector Machine (SVM), Gradient Boosted Trees (e.g. LightGBM, XGBoost), matched filtering, Logistic Regression, etc.\n",
    "\n",
    "### Data/Transformations\n",
    "\n",
    "For each of the image/training data sets, test the following:\n",
    "* raw, \n",
    "* raw (no outliers)\n",
    "* standardized (z-score standardization)\n",
    "* standardized (z-score standardization, no outliers)\n",
    "* min-max scaled\n",
    "* min-max scaled (no outliers)\n",
    "* PCA\n",
    "* PCA no outliers\n",
    "\n",
    "Need to also vary how many columns are included in the analysis"
   ]
  },
  {
   "cell_type": "code",
   "execution_count": 85,
   "metadata": {
    "vscode": {
     "languageId": "r"
    }
   },
   "outputs": [
    {
     "name": "stdout",
     "output_type": "stream",
     "text": [
      "[1] 1343  215\n",
      "[1] 1343   95\n",
      "[1] 1343  215\n",
      "[1] 4264   95\n",
      "[1] 4264   95\n",
      "[1] 4264   95\n"
     ]
    }
   ],
   "source": [
    "print(dim(imputed_data))\n",
    "print(dim(standardized_indices))\n",
    "print(dim(min_max_scaled_data))\n",
    "print(dim(validation_indices))\n",
    "print(dim(standardized_validation))\n",
    "print(dim(min_max_scaled_validation))\n"
   ]
  },
  {
   "cell_type": "code",
   "execution_count": 83,
   "metadata": {
    "vscode": {
     "languageId": "r"
    }
   },
   "outputs": [
    {
     "name": "stdout",
     "output_type": "stream",
     "text": [
      "  [1] \"Boochs\"       \"Boochs2\"      \"CARI\"         \"Carter\"       \"Carter2\"     \n",
      "  [6] \"Carter3\"      \"Carter4\"      \"Carter5\"      \"Carter6\"      \"CI\"          \n",
      " [11] \"CI2\"          \"ClAInt\"       \"CRI1\"         \"CRI2\"         \"CRI3\"        \n",
      " [16] \"CRI4\"         \"D1\"           \"D2\"           \"Datt\"         \"Datt2\"       \n",
      " [21] \"Datt3\"        \"Datt4\"        \"Datt5\"        \"Datt6\"        \"DD\"          \n",
      " [26] \"DDn\"          \"DPI\"          \"DWSI4\"        \"EGFN\"         \"EGFR\"        \n",
      " [31] \"EVI\"          \"GDVI2\"        \"GDVI3\"        \"GDVI4\"        \"GI\"          \n",
      " [36] \"Gitelson\"     \"Gitelson2\"    \"GMI1\"         \"GMI2\"         \"GreenNDVI\"   \n",
      " [41] \"Maccioni\"     \"MCARI\"        \"MCARIOSAVI\"   \"MCARI2\"       \"MCARI2OSAVI2\"\n",
      " [46] \"mND705\"       \"mNDVI\"        \"MPRI\"         \"MSAVI\"        \"mSR\"         \n",
      " [51] \"mSR2\"         \"mSR705\"       \"MTCI\"         \"MTVI\"         \"NDVI\"        \n",
      " [56] \"NDVI2\"        \"NDVI3\"        \"NPCI\"         \"OSAVI\"        \"OSAVI2\"      \n",
      " [61] \"PARS\"         \"PRI\"          \"PRInorm\"      \"PRICI2\"       \"PSND\"        \n",
      " [66] \"PSRI\"         \"PSSR\"         \"RDVI\"         \"REPLE\"        \"REPLi\"       \n",
      " [71] \"SAVI\"         \"SIPI\"         \"SPVI\"         \"SR\"           \"SR1\"         \n",
      " [76] \"SR2\"          \"SR3\"          \"SR4\"          \"SR5\"          \"SR6\"         \n",
      " [81] \"SR7\"          \"SR8\"          \"SRPI\"         \"SumDr1\"       \"SumDr2\"      \n",
      " [86] \"TCARI\"        \"TCARIOSAVI\"   \"TCARI2\"       \"TCARI2OSAVI2\" \"TGI\"         \n",
      " [91] \"TVI\"          \"Vogelmann\"    \"Vogelmann2\"   \"Vogelmann3\"   \"Vogelmann4\"  \n",
      " [96] \"X397.593_5nm\" \"X402.593_5nm\" \"X407.593_5nm\" \"X412.593_5nm\" \"X417.593_5nm\"\n",
      "[101] \"X422.593_5nm\" \"X427.593_5nm\" \"X432.593_5nm\" \"X437.593_5nm\" \"X442.593_5nm\"\n",
      "[106] \"X447.593_5nm\" \"X452.593_5nm\" \"X457.593_5nm\" \"X462.593_5nm\" \"X467.593_5nm\"\n",
      "[111] \"X472.593_5nm\" \"X477.593_5nm\" \"X482.593_5nm\" \"X487.593_5nm\" \"X492.593_5nm\"\n",
      "[116] \"X497.593_5nm\" \"X502.593_5nm\" \"X507.593_5nm\" \"X512.593_5nm\" \"X517.593_5nm\"\n",
      "[121] \"X522.593_5nm\" \"X527.593_5nm\" \"X532.593_5nm\" \"X537.593_5nm\" \"X542.593_5nm\"\n",
      "[126] \"X547.593_5nm\" \"X552.593_5nm\" \"X557.593_5nm\" \"X562.593_5nm\" \"X567.593_5nm\"\n",
      "[131] \"X572.593_5nm\" \"X577.593_5nm\" \"X582.593_5nm\" \"X587.593_5nm\" \"X592.593_5nm\"\n",
      "[136] \"X597.593_5nm\" \"X602.593_5nm\" \"X607.593_5nm\" \"X612.593_5nm\" \"X617.593_5nm\"\n",
      "[141] \"X622.593_5nm\" \"X627.593_5nm\" \"X632.593_5nm\" \"X637.593_5nm\" \"X642.593_5nm\"\n",
      "[146] \"X647.593_5nm\" \"X652.593_5nm\" \"X657.593_5nm\" \"X662.593_5nm\" \"X667.593_5nm\"\n",
      "[151] \"X672.593_5nm\" \"X677.593_5nm\" \"X682.593_5nm\" \"X687.593_5nm\" \"X692.593_5nm\"\n",
      "[156] \"X697.593_5nm\" \"X702.593_5nm\" \"X707.593_5nm\" \"X712.593_5nm\" \"X717.593_5nm\"\n",
      "[161] \"X722.593_5nm\" \"X727.593_5nm\" \"X732.593_5nm\" \"X737.593_5nm\" \"X742.593_5nm\"\n",
      "[166] \"X747.593_5nm\" \"X752.593_5nm\" \"X757.593_5nm\" \"X762.593_5nm\" \"X767.593_5nm\"\n",
      "[171] \"X772.593_5nm\" \"X777.593_5nm\" \"X782.593_5nm\" \"X787.593_5nm\" \"X792.593_5nm\"\n",
      "[176] \"X797.593_5nm\" \"X802.593_5nm\" \"X807.593_5nm\" \"X812.593_5nm\" \"X817.593_5nm\"\n",
      "[181] \"X822.593_5nm\" \"X827.593_5nm\" \"X832.593_5nm\" \"X837.593_5nm\" \"X842.593_5nm\"\n",
      "[186] \"X847.593_5nm\" \"X852.593_5nm\" \"X857.593_5nm\" \"X862.593_5nm\" \"X867.593_5nm\"\n",
      "[191] \"X872.593_5nm\" \"X877.593_5nm\" \"X882.593_5nm\" \"X887.593_5nm\" \"X892.593_5nm\"\n",
      "[196] \"X897.593_5nm\" \"X902.593_5nm\" \"X907.593_5nm\" \"X912.593_5nm\" \"X917.593_5nm\"\n",
      "[201] \"X922.593_5nm\" \"X927.593_5nm\" \"X932.593_5nm\" \"X937.593_5nm\" \"X942.593_5nm\"\n",
      "[206] \"X947.593_5nm\" \"X952.593_5nm\" \"X957.593_5nm\" \"X962.593_5nm\" \"X967.593_5nm\"\n",
      "[211] \"X972.593_5nm\" \"X977.593_5nm\" \"X982.593_5nm\" \"X987.593_5nm\" \"X992.593_5nm\"\n"
     ]
    }
   ],
   "source": [
    "print(colnames(imputed_data))"
   ]
  },
  {
   "cell_type": "code",
   "execution_count": 84,
   "metadata": {
    "vscode": {
     "languageId": "r"
    }
   },
   "outputs": [
    {
     "name": "stdout",
     "output_type": "stream",
     "text": [
      "  [1] \"X397.593\"     \"X399.444\"     \"X401.296\"     \"X403.148\"     \"X405\"        \n",
      "  [6] \"X406.851\"     \"X408.703\"     \"X410.555\"     \"X412.407\"     \"X414.258\"    \n",
      " [11] \"X416.11\"      \"X417.962\"     \"X419.814\"     \"X421.666\"     \"X423.517\"    \n",
      " [16] \"X425.369\"     \"X427.221\"     \"X429.073\"     \"X430.924\"     \"X432.776\"    \n",
      " [21] \"X434.628\"     \"X436.48\"      \"X438.332\"     \"X440.183\"     \"X442.035\"    \n",
      " [26] \"X443.887\"     \"X445.739\"     \"X447.59\"      \"X449.442\"     \"X451.294\"    \n",
      " [31] \"X453.146\"     \"X454.998\"     \"X456.849\"     \"X458.701\"     \"X460.553\"    \n",
      " [36] \"X462.405\"     \"X464.256\"     \"X466.108\"     \"X467.96\"      \"X469.812\"    \n",
      " [41] \"X471.664\"     \"X473.515\"     \"X475.367\"     \"X477.219\"     \"X479.071\"    \n",
      " [46] \"X480.922\"     \"X482.774\"     \"X484.626\"     \"X486.478\"     \"X488.33\"     \n",
      " [51] \"X490.181\"     \"X492.033\"     \"X493.885\"     \"X495.737\"     \"X497.588\"    \n",
      " [56] \"X499.44\"      \"X501.292\"     \"X503.144\"     \"X504.996\"     \"X506.847\"    \n",
      " [61] \"X508.699\"     \"X510.551\"     \"X512.403\"     \"X514.254\"     \"X516.106\"    \n",
      " [66] \"X517.958\"     \"X519.81\"      \"X521.662\"     \"X523.513\"     \"X525.365\"    \n",
      " [71] \"X527.217\"     \"X529.069\"     \"X530.92\"      \"X532.772\"     \"X534.624\"    \n",
      " [76] \"X536.476\"     \"X538.328\"     \"X540.179\"     \"X542.031\"     \"X543.883\"    \n",
      " [81] \"X545.735\"     \"X547.586\"     \"X549.438\"     \"X551.29\"      \"X553.142\"    \n",
      " [86] \"X554.994\"     \"X556.845\"     \"X558.697\"     \"X560.549\"     \"X562.401\"    \n",
      " [91] \"X564.252\"     \"X566.104\"     \"X567.956\"     \"X569.808\"     \"X571.659\"    \n",
      " [96] \"X573.511\"     \"X575.363\"     \"X577.215\"     \"X579.067\"     \"X580.918\"    \n",
      "[101] \"X582.77\"      \"X584.622\"     \"X586.474\"     \"X588.325\"     \"X590.177\"    \n",
      "[106] \"X592.029\"     \"X593.881\"     \"X595.733\"     \"X597.584\"     \"X599.436\"    \n",
      "[111] \"X601.288\"     \"X603.14\"      \"X604.991\"     \"X606.843\"     \"X608.695\"    \n",
      "[116] \"X610.547\"     \"X612.399\"     \"X614.25\"      \"X616.102\"     \"X617.954\"    \n",
      "[121] \"X619.806\"     \"X621.657\"     \"X623.509\"     \"X625.361\"     \"X627.213\"    \n",
      "[126] \"X629.065\"     \"X630.916\"     \"X632.768\"     \"X634.62\"      \"X636.472\"    \n",
      "[131] \"X638.323\"     \"X640.175\"     \"X642.027\"     \"X643.879\"     \"X645.731\"    \n",
      "[136] \"X647.582\"     \"X649.434\"     \"X651.286\"     \"X653.138\"     \"X654.989\"    \n",
      "[141] \"X656.841\"     \"X658.693\"     \"X660.545\"     \"X662.397\"     \"X664.248\"    \n",
      "[146] \"X666.1\"       \"X667.952\"     \"X669.804\"     \"X671.655\"     \"X673.507\"    \n",
      "[151] \"X675.359\"     \"X677.211\"     \"X679.063\"     \"X680.914\"     \"X682.766\"    \n",
      "[156] \"X684.618\"     \"X686.47\"      \"X688.321\"     \"X690.173\"     \"X692.025\"    \n",
      "[161] \"X693.877\"     \"X695.729\"     \"X697.58\"      \"X699.432\"     \"X701.284\"    \n",
      "[166] \"X703.136\"     \"X704.987\"     \"X706.839\"     \"X708.691\"     \"X710.543\"    \n",
      "[171] \"X712.395\"     \"X714.246\"     \"X716.098\"     \"X717.95\"      \"X719.802\"    \n",
      "[176] \"X721.653\"     \"X723.505\"     \"X725.357\"     \"X727.209\"     \"X729.061\"    \n",
      "[181] \"X730.912\"     \"X732.764\"     \"X734.616\"     \"X736.468\"     \"X738.319\"    \n",
      "[186] \"X740.171\"     \"X742.023\"     \"X743.875\"     \"X745.726\"     \"X747.578\"    \n",
      "[191] \"X749.43\"      \"X751.282\"     \"X753.134\"     \"X754.985\"     \"X756.837\"    \n",
      "[196] \"X758.689\"     \"X760.541\"     \"X762.392\"     \"X764.244\"     \"X766.096\"    \n",
      "[201] \"X767.948\"     \"X769.8\"       \"X771.651\"     \"X773.503\"     \"X775.355\"    \n",
      "[206] \"X777.207\"     \"X779.058\"     \"X780.91\"      \"X782.762\"     \"X784.614\"    \n",
      "[211] \"X786.466\"     \"X788.317\"     \"X790.169\"     \"X792.021\"     \"X793.873\"    \n",
      "[216] \"X795.724\"     \"X797.576\"     \"X799.428\"     \"X801.28\"      \"X803.132\"    \n",
      "[221] \"X804.983\"     \"X806.835\"     \"X808.687\"     \"X810.539\"     \"X812.39\"     \n",
      "[226] \"X814.242\"     \"X816.094\"     \"X817.946\"     \"X819.798\"     \"X821.649\"    \n",
      "[231] \"X823.501\"     \"X825.353\"     \"X827.205\"     \"X829.056\"     \"X830.908\"    \n",
      "[236] \"X832.76\"      \"X834.612\"     \"X836.464\"     \"X838.315\"     \"X840.167\"    \n",
      "[241] \"X842.019\"     \"X843.871\"     \"X845.722\"     \"X847.574\"     \"X849.426\"    \n",
      "[246] \"X851.278\"     \"X853.13\"      \"X854.981\"     \"X856.833\"     \"X858.685\"    \n",
      "[251] \"X860.537\"     \"X862.388\"     \"X864.24\"      \"X866.092\"     \"X867.944\"    \n",
      "[256] \"X869.796\"     \"X871.647\"     \"X873.499\"     \"X875.351\"     \"X877.203\"    \n",
      "[261] \"X879.054\"     \"X880.906\"     \"X882.758\"     \"X884.61\"      \"X886.462\"    \n",
      "[266] \"X888.313\"     \"X890.165\"     \"X892.017\"     \"X893.869\"     \"X895.72\"     \n",
      "[271] \"X897.572\"     \"X899.424\"     \"X901.276\"     \"X903.127\"     \"X904.979\"    \n",
      "[276] \"X906.831\"     \"X908.683\"     \"X910.535\"     \"X912.386\"     \"X914.238\"    \n",
      "[281] \"X916.09\"      \"X917.942\"     \"X919.793\"     \"X921.645\"     \"X923.497\"    \n",
      "[286] \"X925.349\"     \"X927.201\"     \"X929.052\"     \"X930.904\"     \"X932.756\"    \n",
      "[291] \"X934.608\"     \"X936.459\"     \"X938.311\"     \"X940.163\"     \"X942.015\"    \n",
      "[296] \"X943.867\"     \"X945.718\"     \"X947.57\"      \"X949.422\"     \"X951.274\"    \n",
      "[301] \"X953.125\"     \"X954.977\"     \"X956.829\"     \"X958.681\"     \"X960.533\"    \n",
      "[306] \"X962.384\"     \"X964.236\"     \"X966.088\"     \"X967.94\"      \"X969.791\"    \n",
      "[311] \"X971.643\"     \"X973.495\"     \"X975.347\"     \"X977.199\"     \"X979.05\"     \n",
      "[316] \"X980.902\"     \"X982.754\"     \"X984.606\"     \"X986.457\"     \"X988.309\"    \n",
      "[321] \"X990.161\"     \"X992.013\"     \"X993.865\"     \"X995.716\"     \"X997.568\"    \n",
      "[326] \"X999.42\"      \"X397.593_5nm\" \"X402.593_5nm\" \"X407.593_5nm\" \"X412.593_5nm\"\n",
      "[331] \"X417.593_5nm\" \"X422.593_5nm\" \"X427.593_5nm\" \"X432.593_5nm\" \"X437.593_5nm\"\n",
      "[336] \"X442.593_5nm\" \"X447.593_5nm\" \"X452.593_5nm\" \"X457.593_5nm\" \"X462.593_5nm\"\n",
      "[341] \"X467.593_5nm\" \"X472.593_5nm\" \"X477.593_5nm\" \"X482.593_5nm\" \"X487.593_5nm\"\n",
      "[346] \"X492.593_5nm\" \"X497.593_5nm\" \"X502.593_5nm\" \"X507.593_5nm\" \"X512.593_5nm\"\n",
      "[351] \"X517.593_5nm\" \"X522.593_5nm\" \"X527.593_5nm\" \"X532.593_5nm\" \"X537.593_5nm\"\n",
      "[356] \"X542.593_5nm\" \"X547.593_5nm\" \"X552.593_5nm\" \"X557.593_5nm\" \"X562.593_5nm\"\n",
      "[361] \"X567.593_5nm\" \"X572.593_5nm\" \"X577.593_5nm\" \"X582.593_5nm\" \"X587.593_5nm\"\n",
      "[366] \"X592.593_5nm\" \"X597.593_5nm\" \"X602.593_5nm\" \"X607.593_5nm\" \"X612.593_5nm\"\n",
      "[371] \"X617.593_5nm\" \"X622.593_5nm\" \"X627.593_5nm\" \"X632.593_5nm\" \"X637.593_5nm\"\n",
      "[376] \"X642.593_5nm\" \"X647.593_5nm\" \"X652.593_5nm\" \"X657.593_5nm\" \"X662.593_5nm\"\n",
      "[381] \"X667.593_5nm\" \"X672.593_5nm\" \"X677.593_5nm\" \"X682.593_5nm\" \"X687.593_5nm\"\n",
      "[386] \"X692.593_5nm\" \"X697.593_5nm\" \"X702.593_5nm\" \"X707.593_5nm\" \"X712.593_5nm\"\n",
      "[391] \"X717.593_5nm\" \"X722.593_5nm\" \"X727.593_5nm\" \"X732.593_5nm\" \"X737.593_5nm\"\n",
      "[396] \"X742.593_5nm\" \"X747.593_5nm\" \"X752.593_5nm\" \"X757.593_5nm\" \"X762.593_5nm\"\n",
      "[401] \"X767.593_5nm\" \"X772.593_5nm\" \"X777.593_5nm\" \"X782.593_5nm\" \"X787.593_5nm\"\n",
      "[406] \"X792.593_5nm\" \"X797.593_5nm\" \"X802.593_5nm\" \"X807.593_5nm\" \"X812.593_5nm\"\n",
      "[411] \"X817.593_5nm\" \"X822.593_5nm\" \"X827.593_5nm\" \"X832.593_5nm\" \"X837.593_5nm\"\n",
      "[416] \"X842.593_5nm\" \"X847.593_5nm\" \"X852.593_5nm\" \"X857.593_5nm\" \"X862.593_5nm\"\n",
      "[421] \"X867.593_5nm\" \"X872.593_5nm\" \"X877.593_5nm\" \"X882.593_5nm\" \"X887.593_5nm\"\n",
      "[426] \"X892.593_5nm\" \"X897.593_5nm\" \"X902.593_5nm\" \"X907.593_5nm\" \"X912.593_5nm\"\n",
      "[431] \"X917.593_5nm\" \"X922.593_5nm\" \"X927.593_5nm\" \"X932.593_5nm\" \"X937.593_5nm\"\n",
      "[436] \"X942.593_5nm\" \"X947.593_5nm\" \"X952.593_5nm\" \"X957.593_5nm\" \"X962.593_5nm\"\n",
      "[441] \"X967.593_5nm\" \"X972.593_5nm\" \"X977.593_5nm\" \"X982.593_5nm\" \"X987.593_5nm\"\n",
      "[446] \"X992.593_5nm\"\n"
     ]
    }
   ],
   "source": [
    "print(colnames(validation_bands))"
   ]
  },
  {
   "cell_type": "code",
   "execution_count": 104,
   "metadata": {
    "vscode": {
     "languageId": "r"
    }
   },
   "outputs": [],
   "source": [
    "# define the data sets to loop over\n",
    "gs_train <- list(\n",
    "    #pca_training_data,\n",
    "    imputed_data,\n",
    "    scale(imputed_data),\n",
    "    #standardized_indices[,important_variable_names],\n",
    "    min_max_scaled_data,\n",
    "    columnwise_robust_scale(imputed_data)\n",
    ")\n",
    "\n",
    "gs_test <- list(\n",
    "    cbind(validation_indices, validation_bands)[permutation,][samples,],\n",
    "    cbind(standardized_validation, scale(validation_bands))[permutation,][samples,],\n",
    "    cbind(min_max_scaled_validation, columnwise_min_max_scale(validation_bands))[permutation,][samples,],\n",
    "    columnwise_robust_scale(\n",
    "        cbind(validation_indices, validation_bands)[permutation,][samples,]\n",
    "    )\n",
    "    #pca_validation_data[permutation,][samples,],\n",
    "#    min_max_scaled_validation[permutation,][samples,],\n",
    " #   standardized_validation[permutation,][samples,]\n",
    "    #pca_validation_data[-img_train_idx]\n",
    "\n",
    ")\n",
    "\n",
    "gs_train_labels <- list(\n",
    "    targets,\n",
    "    targets,\n",
    "    targets,\n",
    "    targets,\n",
    "    targets,\n",
    "    targets\n",
    ")\n",
    "\n",
    "gs_samples <- list(\n",
    "    test_labels,\n",
    "    test_labels,\n",
    "    test_labels,\n",
    "    test_labels,\n",
    "    test_labels,\n",
    "    test_labels,\n",
    "    test_labels\n",
    ")"
   ]
  },
  {
   "cell_type": "code",
   "execution_count": 79,
   "metadata": {
    "vscode": {
     "languageId": "r"
    }
   },
   "outputs": [],
   "source": [
    "gs_methods <- list(\n",
    "    #\"svmLinear\",\n",
    "    #\"rmda\",\n",
    "    \"RFlda\",\n",
    "    #\"adaboost\",\n",
    "    #\"xgbLinear\",\n",
    "    #\"xgbTree\",\n",
    "    #\"xgbDART\",\n",
    "    \"svmRadialWeights\",\n",
    "    #\"mda\",\n",
    "    \"knn\",\n",
    "    #\"lda\",\n",
    "    \"ranger\"\n",
    "    #\"hda\"# heteroscedastic discriminant analysis\n",
    ")\n",
    "# add: PLS-LDA, kNN, SVM+poly Kernel, SVM+Exp Kernel, more boosting, "
   ]
  },
  {
   "cell_type": "code",
   "execution_count": 80,
   "metadata": {
    "vscode": {
     "languageId": "r"
    }
   },
   "outputs": [],
   "source": [
    "gs_weight_text <- c(\n",
    "    \"prior weights\",\n",
    "    NULL\n",
    ")\n",
    "\n",
    "gs_weights <- list(\n",
    "    weights_by_pft,\n",
    "    weights_by_pft,\n",
    "    weights_by_pft,\n",
    "    weights_by_pft,\n",
    "    weights_by_pft,\n",
    "    weights_by_pft,\n",
    "    weights_by_pft,\n",
    "    image_weights,\n",
    "    image_weights,\n",
    "    image_weights\n",
    ")\n",
    "\n",
    "fit_ctrl <- caret::trainControl(\n",
    "    method = \"repeatedcv\",\n",
    "    number = 10,\n",
    "    repeats = 10,\n",
    "    #classProbs = TRUE,\n",
    "    allowParallel = TRUE\n",
    ")"
   ]
  },
  {
   "cell_type": "code",
   "execution_count": 105,
   "metadata": {
    "vscode": {
     "languageId": "r"
    }
   },
   "outputs": [
    {
     "name": "stdout",
     "output_type": "stream",
     "text": [
      "[1] \"Beginning Training\"\n",
      "Ranger result\n",
      "\n",
      "Call:\n",
      " ranger::ranger(num.trees = 1000, case.weights = weights_by_pft,      classification = TRUE, x = df, y = gs_train_labels[[i]]) \n",
      "\n",
      "Type:                             Classification \n",
      "Number of trees:                  1000 \n",
      "Sample size:                      1343 \n",
      "Number of independent variables:  214 \n",
      "Mtry:                             14 \n",
      "Target node size:                 1 \n",
      "Variable importance mode:         none \n",
      "Splitrule:                        gini \n",
      "OOB prediction error:             18.68 % \n"
     ]
    },
    {
     "name": "stderr",
     "output_type": "stream",
     "text": [
      "Warning message in confusionMatrix.default(model_predictions, test_samples, mode = \"everything\"):\n",
      "“Levels are not in the same order for reference and data. Refactoring data to match.”\n"
     ]
    },
    {
     "name": "stdout",
     "output_type": "stream",
     "text": [
      "[1] \"Beginning Training\"\n",
      "Ranger result\n",
      "\n",
      "Call:\n",
      " ranger::ranger(num.trees = 1000, case.weights = weights_by_pft,      classification = TRUE, x = df, y = gs_train_labels[[i]]) \n",
      "\n",
      "Type:                             Classification \n",
      "Number of trees:                  1000 \n",
      "Sample size:                      1343 \n",
      "Number of independent variables:  214 \n",
      "Mtry:                             14 \n",
      "Target node size:                 1 \n",
      "Variable importance mode:         none \n",
      "Splitrule:                        gini \n",
      "OOB prediction error:             18.40 % \n"
     ]
    },
    {
     "name": "stderr",
     "output_type": "stream",
     "text": [
      "Warning message in confusionMatrix.default(model_predictions, test_samples, mode = \"everything\"):\n",
      "“Levels are not in the same order for reference and data. Refactoring data to match.”\n"
     ]
    },
    {
     "name": "stdout",
     "output_type": "stream",
     "text": [
      "[1] \"Beginning Training\"\n",
      "Ranger result\n",
      "\n",
      "Call:\n",
      " ranger::ranger(num.trees = 1000, case.weights = weights_by_pft,      classification = TRUE, x = df, y = gs_train_labels[[i]]) \n",
      "\n",
      "Type:                             Classification \n",
      "Number of trees:                  1000 \n",
      "Sample size:                      1343 \n",
      "Number of independent variables:  214 \n",
      "Mtry:                             14 \n",
      "Target node size:                 1 \n",
      "Variable importance mode:         none \n",
      "Splitrule:                        gini \n",
      "OOB prediction error:             18.77 % \n"
     ]
    },
    {
     "name": "stderr",
     "output_type": "stream",
     "text": [
      "Warning message in confusionMatrix.default(model_predictions, test_samples, mode = \"everything\"):\n",
      "“Levels are not in the same order for reference and data. Refactoring data to match.”\n"
     ]
    },
    {
     "name": "stdout",
     "output_type": "stream",
     "text": [
      "[1] \"Beginning Training\"\n",
      "Ranger result\n",
      "\n",
      "Call:\n",
      " ranger::ranger(num.trees = 1000, case.weights = weights_by_pft,      classification = TRUE, x = df, y = gs_train_labels[[i]]) \n",
      "\n",
      "Type:                             Classification \n",
      "Number of trees:                  1000 \n",
      "Sample size:                      1343 \n",
      "Number of independent variables:  214 \n",
      "Mtry:                             14 \n",
      "Target node size:                 1 \n",
      "Variable importance mode:         none \n",
      "Splitrule:                        gini \n",
      "OOB prediction error:             19.42 % \n"
     ]
    },
    {
     "name": "stderr",
     "output_type": "stream",
     "text": [
      "Warning message in confusionMatrix.default(model_predictions, test_samples, mode = \"everything\"):\n",
      "“Levels are not in the same order for reference and data. Refactoring data to match.”\n"
     ]
    }
   ],
   "source": [
    "for(i in seq_along(gs_train)){\n",
    "    df <- data.frame(gs_train[[i]])\n",
    "    test_df <- gs_test[[i]]\n",
    "        \n",
    "    # train and print intermediate results to console\n",
    "    print(\"Beginning Training\")\n",
    "    model <- ranger::ranger(\n",
    "        num.trees = 1000,\n",
    "        case.weights = weights_by_pft,\n",
    "        classification = TRUE,\n",
    "        x=df,\n",
    "        y=gs_train_labels[[i]]\n",
    "    )\n",
    "    print(model)\n",
    "\n",
    "    model_predictions <- predict(\n",
    "        model, \n",
    "        test_df\n",
    "    )$prediction %>% as.factor()\n",
    "    \n",
    "    test_samples <- gs_samples[[i]] %>% as.factor()\n",
    "    levels(test_samples) <- c(levels(test_samples), \"Forb\")\n",
    "\n",
    "    confusion_matrix <- caret::confusionMatrix(\n",
    "        model_predictions, \n",
    "        test_samples,\n",
    "        mode = \"everything\"\n",
    "    )\n",
    "\n",
    "    model_id <- uuid::UUIDgenerate()\n",
    "\n",
    "    # append performance data to the logs for later comparison\n",
    "    sink(file = \"mle/log_rf_bv.txt\", append = TRUE)\n",
    "    print(\"-------------------------------------------------------\")\n",
    "    print(\"---------------------- Model Data ---------------------\")\n",
    "    \n",
    "    print(paste0(\"Model Type: Ranger (Random Forest)\"))\n",
    "    print(paste0(\"Data Index: \",i))\n",
    "    print(paste0(\"Model UUID: \", model_id))\n",
    "    print(\"---------------------- Confusion Matrix ---------------------\")\n",
    "    print(confusion_matrix)\n",
    "    print(\"---------------------- Class Distribution ---------------------\")\n",
    "    print(model_predictions %>% as.factor() %>% table())\n",
    "    print(\"-------------------------------------------------------\")\n",
    "    sink(NULL)\n",
    "\n",
    "    \n",
    "    save(model, file = paste0(\"mle/models/gs/\", model_id, \".rda\"))\n",
    "\n",
    "\n",
    "    \n",
    "}"
   ]
  },
  {
   "cell_type": "code",
   "execution_count": 106,
   "metadata": {
    "vscode": {
     "languageId": "r"
    }
   },
   "outputs": [],
   "source": [
    "source(\"Functions/lecospectR.R\")"
   ]
  },
  {
   "cell_type": "code",
   "execution_count": 102,
   "metadata": {
    "vscode": {
     "languageId": "r"
    }
   },
   "outputs": [
    {
     "data": {
      "text/html": [
       "<table class=\"dataframe\">\n",
       "<caption>A data.frame: 1343 × 214</caption>\n",
       "<thead>\n",
       "\t<tr><th scope=col>Boochs</th><th scope=col>Boochs2</th><th scope=col>CARI</th><th scope=col>Carter</th><th scope=col>Carter2</th><th scope=col>Carter3</th><th scope=col>Carter4</th><th scope=col>Carter5</th><th scope=col>Carter6</th><th scope=col>CI</th><th scope=col>⋯</th><th scope=col>X942.593_5nm</th><th scope=col>X947.593_5nm</th><th scope=col>X952.593_5nm</th><th scope=col>X957.593_5nm</th><th scope=col>X962.593_5nm</th><th scope=col>X967.593_5nm</th><th scope=col>X972.593_5nm</th><th scope=col>X977.593_5nm</th><th scope=col>X982.593_5nm</th><th scope=col>X987.593_5nm</th></tr>\n",
       "\t<tr><th scope=col>&lt;dbl&gt;</th><th scope=col>&lt;dbl&gt;</th><th scope=col>&lt;dbl&gt;</th><th scope=col>&lt;dbl&gt;</th><th scope=col>&lt;dbl&gt;</th><th scope=col>&lt;dbl&gt;</th><th scope=col>&lt;dbl&gt;</th><th scope=col>&lt;dbl&gt;</th><th scope=col>&lt;dbl&gt;</th><th scope=col>&lt;dbl&gt;</th><th scope=col>⋯</th><th scope=col>&lt;dbl&gt;</th><th scope=col>&lt;dbl&gt;</th><th scope=col>&lt;dbl&gt;</th><th scope=col>&lt;dbl&gt;</th><th scope=col>&lt;dbl&gt;</th><th scope=col>&lt;dbl&gt;</th><th scope=col>&lt;dbl&gt;</th><th scope=col>&lt;dbl&gt;</th><th scope=col>&lt;dbl&gt;</th><th scope=col>&lt;dbl&gt;</th></tr>\n",
       "</thead>\n",
       "<tbody>\n",
       "\t<tr><td>-0.76846038</td><td>-0.5372457</td><td>-0.223839341</td><td> 0.82860142</td><td> 0.7968179</td><td> 0.8280780</td><td> 0.5424116</td><td>-0.5806553</td><td> 0.09992622</td><td>-0.483739370</td><td>⋯</td><td>-0.96357607</td><td>-0.95561661</td><td>-0.95645866</td><td>-0.94830690</td><td>-0.94446781</td><td>-0.94979260</td><td>-0.94150565</td><td>-0.92258338</td><td>-0.91148004</td><td>-0.90693523</td></tr>\n",
       "\t<tr><td>-0.77454231</td><td>-0.5357571</td><td>-0.497400716</td><td> 0.20830885</td><td> 0.7089907</td><td> 0.8371099</td><td> 0.4795027</td><td>-0.5981798</td><td>-0.08664286</td><td>-0.491678568</td><td>⋯</td><td>-1.20683934</td><td>-1.20066382</td><td>-1.20539401</td><td>-1.19855903</td><td>-1.19531678</td><td>-1.20139269</td><td>-1.19213686</td><td>-1.17401787</td><td>-1.16547870</td><td>-1.16210811</td></tr>\n",
       "\t<tr><td>-0.61829558</td><td>-0.5015597</td><td> 0.143341173</td><td> 1.04278327</td><td> 0.8080617</td><td> 0.9767590</td><td> 0.5872815</td><td>-0.6093265</td><td> 0.74494046</td><td>-0.479349708</td><td>⋯</td><td>-0.71323887</td><td>-0.70725207</td><td>-0.70701212</td><td>-0.69637901</td><td>-0.69036877</td><td>-0.69648949</td><td>-0.69357473</td><td>-0.67998655</td><td>-0.67291343</td><td>-0.67270010</td></tr>\n",
       "\t<tr><td>-0.58222254</td><td>-0.4895930</td><td> 0.216628247</td><td> 1.06494681</td><td> 0.7768125</td><td> 0.9598887</td><td> 0.5500888</td><td>-0.6164675</td><td> 0.90841418</td><td>-0.495102400</td><td>⋯</td><td>-0.60299473</td><td>-0.59679494</td><td>-0.59617037</td><td>-0.58722796</td><td>-0.58301243</td><td>-0.59001804</td><td>-0.58940618</td><td>-0.57913482</td><td>-0.57516667</td><td>-0.57765872</td></tr>\n",
       "\t<tr><td>-0.64414051</td><td>-0.4981934</td><td>-0.017557868</td><td> 1.07477002</td><td> 0.7739031</td><td> 0.9333435</td><td> 0.5577039</td><td>-0.6183180</td><td> 0.52153170</td><td>-0.506770098</td><td>⋯</td><td>-0.84101020</td><td>-0.83532197</td><td>-0.83664392</td><td>-0.82798576</td><td>-0.82399432</td><td>-0.83101629</td><td>-0.82606724</td><td>-0.80922208</td><td>-0.79879298</td><td>-0.79492490</td></tr>\n",
       "\t<tr><td> 0.41639104</td><td> 0.6360243</td><td>-0.362385295</td><td>-0.49844004</td><td>-0.3367462</td><td>-0.3251712</td><td>-0.5374065</td><td> 0.0455680</td><td>-0.25820702</td><td>-0.660619655</td><td>⋯</td><td> 0.04610180</td><td> 0.05018974</td><td> 0.05327911</td><td> 0.05974910</td><td> 0.06306154</td><td> 0.05857101</td><td> 0.05455537</td><td> 0.05826897</td><td> 0.05775155</td><td> 0.04950531</td></tr>\n",
       "\t<tr><td> 0.33146638</td><td> 0.7183512</td><td>-0.133186270</td><td> 0.49422873</td><td>-0.3758320</td><td>-0.3831287</td><td>-0.6859238</td><td> 0.6804455</td><td>-0.45143659</td><td> 0.506543753</td><td>⋯</td><td> 0.48143322</td><td> 0.49416407</td><td> 0.52399390</td><td> 0.56633299</td><td> 0.61225989</td><td> 0.65057849</td><td> 0.67276928</td><td> 0.68836575</td><td> 0.69841520</td><td> 0.70261233</td></tr>\n",
       "\t<tr><td> 0.17635756</td><td> 0.6621759</td><td>-0.238851721</td><td> 0.43441272</td><td>-0.3961852</td><td>-0.3977763</td><td>-0.7502802</td><td> 0.8023426</td><td>-0.52249126</td><td> 0.670928120</td><td>⋯</td><td> 0.33645926</td><td> 0.34406894</td><td> 0.36232379</td><td> 0.39059974</td><td> 0.42121130</td><td> 0.44576782</td><td> 0.46273110</td><td> 0.48118246</td><td> 0.49559064</td><td> 0.50251194</td></tr>\n",
       "\t<tr><td> 0.01310026</td><td> 0.6736853</td><td>-0.548991612</td><td> 0.29174428</td><td>-0.3920786</td><td>-0.4007978</td><td>-0.8193800</td><td> 0.1591539</td><td>-0.59322608</td><td> 0.032833458</td><td>⋯</td><td> 0.44100477</td><td> 0.44249180</td><td> 0.46280132</td><td> 0.50201468</td><td> 0.54715358</td><td> 0.58393639</td><td> 0.60765550</td><td> 0.62913634</td><td> 0.64573390</td><td> 0.65455262</td></tr>\n",
       "\t<tr><td> 0.27402157</td><td> 0.7606529</td><td>-0.299035103</td><td> 0.36253388</td><td>-0.4103369</td><td>-0.4083659</td><td>-0.7931232</td><td> 0.5490353</td><td>-0.52706329</td><td> 0.482717065</td><td>⋯</td><td> 0.83010253</td><td> 0.82819219</td><td> 0.83275093</td><td> 0.83973702</td><td> 0.84595799</td><td> 0.84535815</td><td> 0.83634058</td><td> 0.83585482</td><td> 0.83813696</td><td> 0.83534185</td></tr>\n",
       "\t<tr><td> 0.45773508</td><td> 0.7158703</td><td> 0.006617324</td><td> 0.64479318</td><td>-0.3704549</td><td>-0.3798994</td><td>-0.6660437</td><td> 0.7520179</td><td>-0.41906546</td><td> 0.652997731</td><td>⋯</td><td> 0.79233324</td><td> 0.79475904</td><td> 0.81043258</td><td> 0.83440118</td><td> 0.85503331</td><td> 0.86013984</td><td> 0.85191525</td><td> 0.85195896</td><td> 0.85512676</td><td> 0.85323669</td></tr>\n",
       "\t<tr><td> 0.20800975</td><td> 0.5790415</td><td>-0.311664829</td><td> 0.22510946</td><td>-0.3889475</td><td>-0.3884579</td><td>-0.6972832</td><td> 0.6467937</td><td>-0.54539847</td><td> 0.513202024</td><td>⋯</td><td> 0.18124028</td><td> 0.18425831</td><td> 0.19797137</td><td> 0.22365997</td><td> 0.25042186</td><td> 0.26855534</td><td> 0.28132041</td><td> 0.29783159</td><td> 0.31031625</td><td> 0.31539224</td></tr>\n",
       "\t<tr><td> 0.41115927</td><td> 0.9266785</td><td>-0.079259047</td><td> 0.45483117</td><td>-0.4070308</td><td>-0.4065548</td><td>-0.7741491</td><td> 0.8150593</td><td>-0.46440950</td><td> 0.718210590</td><td>⋯</td><td> 0.97119184</td><td> 0.97036830</td><td> 0.98084620</td><td> 0.99948410</td><td> 1.02491203</td><td> 1.04993457</td><td> 1.06414627</td><td> 1.08167703</td><td> 1.09827452</td><td> 1.10505721</td></tr>\n",
       "\t<tr><td> 0.15730084</td><td> 0.5722701</td><td>-0.316213825</td><td> 0.45870508</td><td>-0.3577018</td><td>-0.3631101</td><td>-0.6633302</td><td> 0.5163240</td><td>-0.50962183</td><td> 0.456769656</td><td>⋯</td><td> 0.08917472</td><td> 0.10009428</td><td> 0.12870148</td><td> 0.17113244</td><td> 0.21566344</td><td> 0.25221152</td><td> 0.28070207</td><td> 0.30753937</td><td> 0.32654319</td><td> 0.33585346</td></tr>\n",
       "\t<tr><td> 0.12600180</td><td> 0.5938004</td><td>-0.317181446</td><td> 0.59677347</td><td>-0.3586360</td><td>-0.3693725</td><td>-0.7019671</td><td> 0.4876449</td><td>-0.52900124</td><td> 0.478833909</td><td>⋯</td><td> 0.34027231</td><td> 0.34359639</td><td> 0.35975888</td><td> 0.38932880</td><td> 0.42181319</td><td> 0.44626191</td><td> 0.46151379</td><td> 0.47757777</td><td> 0.48977295</td><td> 0.49533144</td></tr>\n",
       "\t<tr><td> 0.13905506</td><td> 0.6916937</td><td>-0.438293163</td><td> 0.28443775</td><td>-0.4002275</td><td>-0.3998753</td><td>-0.7912930</td><td> 0.3577798</td><td>-0.55707315</td><td> 0.278211809</td><td>⋯</td><td> 0.56475848</td><td> 0.57234777</td><td> 0.58775936</td><td> 0.60473551</td><td> 0.62014595</td><td> 0.62981273</td><td> 0.63374827</td><td> 0.64493260</td><td> 0.65530315</td><td> 0.65744182</td></tr>\n",
       "\t<tr><td> 0.03273247</td><td> 0.8429701</td><td>-0.580373931</td><td> 0.04895235</td><td>-0.4214311</td><td>-0.4147502</td><td>-0.8826114</td><td> 0.1836606</td><td>-0.59745004</td><td> 0.003077206</td><td>⋯</td><td> 0.55103387</td><td> 0.55660841</td><td> 0.58742385</td><td> 0.63597483</td><td> 0.69135244</td><td> 0.74016343</td><td> 0.77132650</td><td> 0.79437919</td><td> 0.81059491</td><td> 0.81891830</td></tr>\n",
       "\t<tr><td> 0.20243792</td><td> 0.5910471</td><td>-0.267156399</td><td> 0.43686049</td><td>-0.3965800</td><td>-0.3993607</td><td>-0.7226917</td><td> 0.7875196</td><td>-0.57896434</td><td> 0.709428878</td><td>⋯</td><td> 0.42526149</td><td> 0.42336846</td><td> 0.42438865</td><td> 0.43026560</td><td> 0.43629976</td><td> 0.43689452</td><td> 0.43454184</td><td> 0.44040236</td><td> 0.44598161</td><td> 0.44584080</td></tr>\n",
       "\t<tr><td> 0.17450028</td><td> 0.4609410</td><td>-0.149072709</td><td> 0.63024258</td><td>-0.3525939</td><td>-0.3557271</td><td>-0.6318070</td><td> 0.9208336</td><td>-0.51669626</td><td> 1.006270342</td><td>⋯</td><td> 0.09873284</td><td> 0.09370523</td><td> 0.09080683</td><td> 0.09452194</td><td> 0.09912119</td><td> 0.09971534</td><td> 0.10158579</td><td> 0.11083078</td><td> 0.11769013</td><td> 0.11952824</td></tr>\n",
       "\t<tr><td> 0.38528818</td><td> 0.7649629</td><td>-0.126570781</td><td> 0.37811046</td><td>-0.3839734</td><td>-0.3840480</td><td>-0.7024158</td><td> 0.6511866</td><td>-0.44671404</td><td> 0.639826381</td><td>⋯</td><td> 0.71194264</td><td> 0.70725479</td><td> 0.70797273</td><td> 0.71151296</td><td> 0.71622028</td><td> 0.71767651</td><td> 0.71435146</td><td> 0.71988987</td><td> 0.72687496</td><td> 0.72760958</td></tr>\n",
       "\t<tr><td>-0.19431316</td><td> 0.2692990</td><td>-0.617067181</td><td> 0.31320256</td><td>-0.3824737</td><td>-0.3813774</td><td>-0.7472375</td><td> 0.5150564</td><td>-0.70202355</td><td> 0.594009270</td><td>⋯</td><td>-0.25770586</td><td>-0.26420631</td><td>-0.27187978</td><td>-0.26987993</td><td>-0.26837803</td><td>-0.27417477</td><td>-0.27591599</td><td>-0.27018683</td><td>-0.26832292</td><td>-0.27004421</td></tr>\n",
       "\t<tr><td> 0.08949714</td><td> 0.5428496</td><td>-0.487539376</td><td> 0.01572808</td><td>-0.3839648</td><td>-0.3753826</td><td>-0.7343606</td><td> 0.2908144</td><td>-0.55181437</td><td> 0.320464557</td><td>⋯</td><td> 0.24842462</td><td> 0.24727179</td><td> 0.24810326</td><td> 0.25489085</td><td> 0.25898567</td><td> 0.25331205</td><td> 0.24672765</td><td> 0.25146554</td><td> 0.25598303</td><td> 0.25418278</td></tr>\n",
       "\t<tr><td>-0.26899663</td><td> 0.2696492</td><td>-0.767890300</td><td> 0.03377801</td><td>-0.4326177</td><td>-0.4237380</td><td>-0.8350049</td><td> 0.4763594</td><td>-0.78370867</td><td> 0.368491743</td><td>⋯</td><td>-0.32818414</td><td>-0.33274372</td><td>-0.34050980</td><td>-0.33726650</td><td>-0.33459885</td><td>-0.34035971</td><td>-0.34169637</td><td>-0.33528731</td><td>-0.33305139</td><td>-0.33452751</td></tr>\n",
       "\t<tr><td>-0.05977826</td><td> 0.4927744</td><td>-0.636908983</td><td> 0.01453962</td><td>-0.4160929</td><td>-0.4085656</td><td>-0.8139046</td><td> 0.3211042</td><td>-0.67920101</td><td> 0.278062203</td><td>⋯</td><td> 0.15207816</td><td> 0.14758920</td><td> 0.14668750</td><td> 0.15583182</td><td> 0.16348179</td><td> 0.16005062</td><td> 0.15439957</td><td> 0.15757181</td><td> 0.15946761</td><td> 0.15623374</td></tr>\n",
       "\t<tr><td>-0.01453655</td><td> 0.4218985</td><td>-0.550825780</td><td> 0.11892970</td><td>-0.3975321</td><td>-0.3909282</td><td>-0.7435987</td><td> 0.4271650</td><td>-0.63671684</td><td> 0.397594099</td><td>⋯</td><td> 0.03263663</td><td> 0.03124970</td><td> 0.02884219</td><td> 0.03383183</td><td> 0.03722837</td><td> 0.03208234</td><td> 0.02809198</td><td> 0.03362271</td><td> 0.03725980</td><td> 0.03559384</td></tr>\n",
       "\t<tr><td> 0.35712820</td><td> 0.7338884</td><td>-0.071294845</td><td> 0.54758637</td><td>-0.3797597</td><td>-0.3824662</td><td>-0.6954621</td><td> 0.8204556</td><td>-0.44540640</td><td> 0.757097262</td><td>⋯</td><td> 0.64767073</td><td> 0.64541824</td><td> 0.65283676</td><td> 0.66946233</td><td> 0.68874816</td><td> 0.70194641</td><td> 0.70727778</td><td> 0.71859164</td><td> 0.72893627</td><td> 0.73105851</td></tr>\n",
       "\t<tr><td> 0.07013960</td><td> 0.6419493</td><td>-0.529893170</td><td> 0.08499001</td><td>-0.4149420</td><td>-0.4100893</td><td>-0.8116297</td><td> 0.3546705</td><td>-0.61929420</td><td> 0.231173420</td><td>⋯</td><td> 0.45198959</td><td> 0.45476814</td><td> 0.46435840</td><td> 0.47992533</td><td> 0.49533833</td><td> 0.50376585</td><td> 0.50646926</td><td> 0.51539463</td><td> 0.52301706</td><td> 0.52388222</td></tr>\n",
       "\t<tr><td> 0.16323890</td><td> 0.6797757</td><td>-0.368124872</td><td> 0.40099882</td><td>-0.4006108</td><td>-0.4026553</td><td>-0.7745960</td><td> 0.5372277</td><td>-0.56210615</td><td> 0.410459325</td><td>⋯</td><td> 0.60226214</td><td> 0.60184190</td><td> 0.60995189</td><td> 0.62585599</td><td> 0.64266743</td><td> 0.65180816</td><td> 0.65262525</td><td> 0.65924695</td><td> 0.66605272</td><td> 0.66730991</td></tr>\n",
       "\t<tr><td> 0.14342358</td><td> 0.7561970</td><td>-0.400380157</td><td> 0.29210818</td><td>-0.4336143</td><td>-0.4279028</td><td>-0.8571902</td><td> 0.6453963</td><td>-0.61377201</td><td> 0.567440508</td><td>⋯</td><td> 0.75731246</td><td> 0.75343067</td><td> 0.75631321</td><td> 0.76419081</td><td> 0.77262748</td><td> 0.77453782</td><td> 0.76864719</td><td> 0.77077717</td><td> 0.77491993</td><td> 0.77384533</td></tr>\n",
       "\t<tr><td> 0.03898443</td><td> 0.4454914</td><td>-0.576126344</td><td> 0.05258802</td><td>-0.3703050</td><td>-0.3467483</td><td>-0.6950188</td><td> 0.1310310</td><td>-0.64145821</td><td> 0.195269056</td><td>⋯</td><td> 0.08345264</td><td> 0.08519186</td><td> 0.08786975</td><td> 0.09654297</td><td> 0.10504679</td><td> 0.10741856</td><td> 0.10633614</td><td> 0.10682399</td><td> 0.10209349</td><td> 0.09239451</td></tr>\n",
       "\t<tr><td>⋮</td><td>⋮</td><td>⋮</td><td>⋮</td><td>⋮</td><td>⋮</td><td>⋮</td><td>⋮</td><td>⋮</td><td>⋮</td><td>⋱</td><td>⋮</td><td>⋮</td><td>⋮</td><td>⋮</td><td>⋮</td><td>⋮</td><td>⋮</td><td>⋮</td><td>⋮</td><td>⋮</td></tr>\n",
       "\t<tr><td>-0.985251735</td><td>-0.6322105</td><td> 1.95893324</td><td>-0.609266686</td><td>1.2700042</td><td>1.6615857</td><td>0.88205931</td><td>-0.714104724</td><td> 0.77308180</td><td>-0.61918151</td><td>⋯</td><td> 0.61975093</td><td> 0.62913082</td><td> 0.644855924</td><td> 0.66314666</td><td> 0.67708691</td><td> 0.68046262</td><td> 0.68055432</td><td> 0.69636732</td><td> 0.714014475</td><td> 0.718807100</td></tr>\n",
       "\t<tr><td>-0.805815196</td><td>-0.4979697</td><td> 0.15621526</td><td> 0.233139965</td><td>0.8693331</td><td>1.1250767</td><td>0.54087851</td><td>-0.665221352</td><td> 1.07604601</td><td>-0.54608792</td><td>⋯</td><td>-0.60547806</td><td>-0.59558161</td><td>-0.590922016</td><td>-0.57816518</td><td>-0.56954337</td><td>-0.57110270</td><td>-0.56554019</td><td>-0.55160708</td><td>-0.544516380</td><td>-0.544002858</td></tr>\n",
       "\t<tr><td>-0.844674148</td><td>-0.5543590</td><td>-0.20189337</td><td>-0.005079389</td><td>0.8852838</td><td>1.1912252</td><td>0.57837180</td><td>-0.664896800</td><td> 0.59941620</td><td>-0.52260394</td><td>⋯</td><td>-1.08361558</td><td>-1.08093193</td><td>-1.087738815</td><td>-1.08234341</td><td>-1.08055214</td><td>-1.08927832</td><td>-1.08476067</td><td>-1.07161668</td><td>-1.067893927</td><td>-1.069650085</td></tr>\n",
       "\t<tr><td>-0.810615343</td><td>-0.5166688</td><td> 0.13658364</td><td> 0.147878663</td><td>0.8982580</td><td>1.1634043</td><td>0.57479407</td><td>-0.666596034</td><td> 1.06061775</td><td>-0.53695252</td><td>⋯</td><td>-0.67475675</td><td>-0.66642297</td><td>-0.663971187</td><td>-0.65230447</td><td>-0.64415189</td><td>-0.64588233</td><td>-0.63981645</td><td>-0.62591991</td><td>-0.619496840</td><td>-0.619339856</td></tr>\n",
       "\t<tr><td>-0.894218984</td><td>-0.5956295</td><td>-0.50723782</td><td>-0.285954464</td><td>0.9127350</td><td>1.2123083</td><td>0.61952430</td><td>-0.654523988</td><td> 0.12073556</td><td>-0.51065158</td><td>⋯</td><td>-1.27094478</td><td>-1.26192474</td><td>-1.263979696</td><td>-1.25260289</td><td>-1.24360673</td><td>-1.24346599</td><td>-1.22824473</td><td>-1.20571695</td><td>-1.194011857</td><td>-1.187559392</td></tr>\n",
       "\t<tr><td>-0.869760472</td><td>-0.5755682</td><td>-0.32571787</td><td>-0.166512115</td><td>0.9248766</td><td>1.2053414</td><td>0.62785801</td><td>-0.653575351</td><td> 0.37060755</td><td>-0.51866885</td><td>⋯</td><td>-1.13233842</td><td>-1.12491923</td><td>-1.127260709</td><td>-1.11696105</td><td>-1.10932271</td><td>-1.11121184</td><td>-1.10093794</td><td>-1.08487779</td><td>-1.079274147</td><td>-1.078167381</td></tr>\n",
       "\t<tr><td>-0.884736406</td><td>-0.5932069</td><td>-0.38937862</td><td>-0.089852867</td><td>0.9370412</td><td>1.2262367</td><td>0.63760967</td><td>-0.659531998</td><td> 0.29754908</td><td>-0.52045707</td><td>⋯</td><td>-1.23101763</td><td>-1.22462045</td><td>-1.229264764</td><td>-1.22150876</td><td>-1.21631572</td><td>-1.21960042</td><td>-1.20801772</td><td>-1.18931236</td><td>-1.181179508</td><td>-1.177838511</td></tr>\n",
       "\t<tr><td>-0.874482142</td><td>-0.5842660</td><td>-0.02430943</td><td>-0.303847793</td><td>1.0063889</td><td>1.2830902</td><td>0.68097398</td><td>-0.671403909</td><td> 0.84299459</td><td>-0.55135253</td><td>⋯</td><td>-0.87729969</td><td>-0.86836254</td><td>-0.866720872</td><td>-0.85368143</td><td>-0.84380489</td><td>-0.84448832</td><td>-0.83687271</td><td>-0.82372669</td><td>-0.819766823</td><td>-0.820674988</td></tr>\n",
       "\t<tr><td>-0.806521485</td><td>-0.5605758</td><td> 0.17791617</td><td> 0.183839038</td><td>0.9417896</td><td>1.2416585</td><td>0.62977082</td><td>-0.666512600</td><td> 1.16905773</td><td>-0.53009782</td><td>⋯</td><td>-0.74182739</td><td>-0.73540260</td><td>-0.735384692</td><td>-0.72579907</td><td>-0.72009023</td><td>-0.72466231</td><td>-0.71997601</td><td>-0.70637515</td><td>-0.700446665</td><td>-0.701139990</td></tr>\n",
       "\t<tr><td>-0.693201405</td><td>-0.4615248</td><td> 0.26166379</td><td> 0.061792407</td><td>0.8060950</td><td>1.0724072</td><td>0.50563268</td><td>-0.653659076</td><td> 1.24667882</td><td>-0.51318256</td><td>⋯</td><td>-0.43657956</td><td>-0.42545645</td><td>-0.417838214</td><td>-0.40214962</td><td>-0.39086218</td><td>-0.39121497</td><td>-0.38817594</td><td>-0.37805436</td><td>-0.374315545</td><td>-0.376987991</td></tr>\n",
       "\t<tr><td>-0.832144065</td><td>-0.5639713</td><td>-0.04961483</td><td>-0.170418430</td><td>0.9266830</td><td>1.1877108</td><td>0.60660359</td><td>-0.662168114</td><td> 0.78268325</td><td>-0.53971649</td><td>⋯</td><td>-0.85096077</td><td>-0.84287763</td><td>-0.841549118</td><td>-0.82845770</td><td>-0.81932650</td><td>-0.82201538</td><td>-0.81516891</td><td>-0.79942877</td><td>-0.791542084</td><td>-0.789793094</td></tr>\n",
       "\t<tr><td>-0.883101478</td><td>-0.6193877</td><td>-0.15914320</td><td>-0.305220655</td><td>1.0471685</td><td>1.3806353</td><td>0.74056828</td><td>-0.668159251</td><td> 0.72636069</td><td>-0.53075762</td><td>⋯</td><td>-1.14300943</td><td>-1.13830283</td><td>-1.143741953</td><td>-1.13738570</td><td>-1.13371331</td><td>-1.13866749</td><td>-1.13010107</td><td>-1.11486494</td><td>-1.109792961</td><td>-1.109241195</td></tr>\n",
       "\t<tr><td>-0.746316923</td><td>-0.4775971</td><td> 0.02111772</td><td> 0.005836733</td><td>0.8122182</td><td>1.1013159</td><td>0.51818712</td><td>-0.653070032</td><td> 0.93642965</td><td>-0.50403502</td><td>⋯</td><td>-0.77886941</td><td>-0.77255983</td><td>-0.772846851</td><td>-0.76225002</td><td>-0.75519378</td><td>-0.75902844</td><td>-0.75429003</td><td>-0.74174397</td><td>-0.737155156</td><td>-0.738310731</td></tr>\n",
       "\t<tr><td>-0.851148460</td><td>-0.5761617</td><td>-0.30688364</td><td>-0.047467254</td><td>0.9181681</td><td>1.1953286</td><td>0.63378641</td><td>-0.644213381</td><td> 0.39877353</td><td>-0.50816845</td><td>⋯</td><td>-1.13998462</td><td>-1.13319121</td><td>-1.136312394</td><td>-1.12678991</td><td>-1.11962698</td><td>-1.12162201</td><td>-1.11185573</td><td>-1.09736204</td><td>-1.093524664</td><td>-1.093456178</td></tr>\n",
       "\t<tr><td>-0.857858201</td><td>-0.5682131</td><td>-0.42362183</td><td>-0.155133874</td><td>0.8505723</td><td>1.0240356</td><td>0.56204257</td><td>-0.629897310</td><td> 0.09233438</td><td>-0.51440013</td><td>⋯</td><td>-1.13088714</td><td>-1.12101101</td><td>-1.120737733</td><td>-1.10816181</td><td>-1.09846492</td><td>-1.09815548</td><td>-1.08490138</td><td>-1.06456214</td><td>-1.054305343</td><td>-1.049349738</td></tr>\n",
       "\t<tr><td>-0.283946409</td><td>-0.3381512</td><td>-0.13380653</td><td> 0.810035150</td><td>0.1685622</td><td>0.1350149</td><td>0.09243231</td><td> 0.035215301</td><td>-0.42569773</td><td> 0.71228524</td><td>⋯</td><td>-0.49508414</td><td>-0.48352319</td><td>-0.477190507</td><td>-0.46556898</td><td>-0.45931520</td><td>-0.46277985</td><td>-0.45732985</td><td>-0.43911621</td><td>-0.425368925</td><td>-0.419740718</td></tr>\n",
       "\t<tr><td>-0.202409316</td><td>-0.3340358</td><td> 0.31632193</td><td> 1.626684853</td><td>0.2925801</td><td>0.1403462</td><td>0.19356686</td><td> 0.013591229</td><td>-0.39763523</td><td> 0.78227568</td><td>⋯</td><td> 0.02064392</td><td> 0.03650849</td><td> 0.052065292</td><td> 0.06993901</td><td> 0.08025303</td><td> 0.07794882</td><td> 0.07957858</td><td> 0.09838058</td><td> 0.116467803</td><td> 0.123198188</td></tr>\n",
       "\t<tr><td> 0.005919658</td><td>-0.2785318</td><td> 0.52419180</td><td> 1.268234379</td><td>0.2170169</td><td>0.1449470</td><td>0.16892074</td><td> 0.225291797</td><td>-0.12846850</td><td> 0.88022662</td><td>⋯</td><td> 0.34085212</td><td> 0.36358668</td><td> 0.388495043</td><td> 0.41249879</td><td> 0.42810809</td><td> 0.43079483</td><td> 0.43255512</td><td> 0.45067578</td><td> 0.469842497</td><td> 0.477562382</td></tr>\n",
       "\t<tr><td>-0.285895242</td><td>-0.3860082</td><td> 0.30212051</td><td> 1.177429151</td><td>0.3528204</td><td>0.2728142</td><td>0.27916511</td><td> 0.080958250</td><td>-0.20174334</td><td> 0.81735235</td><td>⋯</td><td>-0.25844536</td><td>-0.24523608</td><td>-0.234381948</td><td>-0.21862789</td><td>-0.20898461</td><td>-0.21100334</td><td>-0.20778811</td><td>-0.19137525</td><td>-0.178288622</td><td>-0.174224262</td></tr>\n",
       "\t<tr><td>-0.308261047</td><td>-0.4063127</td><td> 0.21905150</td><td> 1.383168575</td><td>0.3757267</td><td>0.2367995</td><td>0.29037630</td><td> 0.004925978</td><td>-0.36225371</td><td> 0.61089341</td><td>⋯</td><td>-0.36013417</td><td>-0.34757496</td><td>-0.338526324</td><td>-0.32490087</td><td>-0.31798077</td><td>-0.32272045</td><td>-0.31997626</td><td>-0.30260377</td><td>-0.288398564</td><td>-0.283154331</td></tr>\n",
       "\t<tr><td>-0.232557375</td><td>-0.3384333</td><td> 0.22085310</td><td> 1.180641586</td><td>0.2867938</td><td>0.1912463</td><td>0.18857187</td><td> 0.006812019</td><td>-0.27968429</td><td> 0.58367563</td><td>⋯</td><td>-0.03311545</td><td>-0.01293650</td><td> 0.006882276</td><td> 0.02840944</td><td> 0.04178303</td><td> 0.04221471</td><td> 0.04607773</td><td> 0.06595237</td><td> 0.084947140</td><td> 0.093472621</td></tr>\n",
       "\t<tr><td> 0.019692285</td><td>-0.1693626</td><td> 0.58417311</td><td> 0.068176559</td><td>0.2947860</td><td>0.3384020</td><td>0.20408684</td><td>-0.113741070</td><td> 0.64606788</td><td> 0.27391412</td><td>⋯</td><td> 0.02861684</td><td> 0.02917192</td><td> 0.027590407</td><td> 0.03116456</td><td> 0.03322133</td><td> 0.02921351</td><td> 0.02950979</td><td> 0.04185319</td><td> 0.051924101</td><td> 0.054061053</td></tr>\n",
       "\t<tr><td> 0.031986938</td><td>-0.1514223</td><td> 0.78561246</td><td> 0.125445404</td><td>0.3200179</td><td>0.3749219</td><td>0.20813897</td><td>-0.089186855</td><td> 0.93600631</td><td> 0.34846317</td><td>⋯</td><td> 0.24534022</td><td> 0.23773120</td><td> 0.229343169</td><td> 0.22846518</td><td> 0.22894784</td><td> 0.22460656</td><td> 0.22147650</td><td> 0.22849321</td><td> 0.233733681</td><td> 0.232062911</td></tr>\n",
       "\t<tr><td>-0.076689948</td><td>-0.3026209</td><td> 1.11745794</td><td> 0.046313384</td><td>0.5652437</td><td>0.6521442</td><td>0.44768484</td><td>-0.292891941</td><td> 1.49101922</td><td> 0.01096159</td><td>⋯</td><td> 0.21324790</td><td> 0.21986826</td><td> 0.227050660</td><td> 0.23629657</td><td> 0.24183278</td><td> 0.23978749</td><td> 0.23962331</td><td> 0.25268945</td><td> 0.264971521</td><td> 0.268029217</td></tr>\n",
       "\t<tr><td>-0.325447403</td><td>-0.4473593</td><td> 0.95346509</td><td> 1.291409181</td><td>0.6177643</td><td>0.6150492</td><td>0.46720724</td><td>-0.179065354</td><td> 0.77922130</td><td> 0.42775647</td><td>⋯</td><td> 0.22696615</td><td> 0.24533522</td><td> 0.266325611</td><td> 0.28783172</td><td> 0.30197029</td><td> 0.30453355</td><td> 0.30893646</td><td> 0.33056427</td><td> 0.352494916</td><td> 0.361970302</td></tr>\n",
       "\t<tr><td>-0.367079191</td><td>-0.4455595</td><td> 0.25393207</td><td> 1.297021672</td><td>0.4521848</td><td>0.4029562</td><td>0.33101482</td><td>-0.167302213</td><td>-0.02900325</td><td> 0.47256632</td><td>⋯</td><td>-0.11975122</td><td>-0.10158672</td><td>-0.085082566</td><td>-0.06541271</td><td>-0.05255506</td><td>-0.05142957</td><td>-0.04559468</td><td>-0.02444610</td><td>-0.005222619</td><td> 0.003328373</td></tr>\n",
       "\t<tr><td>-0.974958233</td><td>-0.6171987</td><td>-1.03543903</td><td>-0.510869629</td><td>0.6818327</td><td>0.6788524</td><td>0.38678050</td><td>-0.584357132</td><td>-0.79943797</td><td>-0.55706353</td><td>⋯</td><td>-1.66206525</td><td>-1.65696893</td><td>-1.666734912</td><td>-1.66136710</td><td>-1.65867924</td><td>-1.66479224</td><td>-1.65023504</td><td>-1.62748472</td><td>-1.617081986</td><td>-1.610961695</td></tr>\n",
       "\t<tr><td>-1.010495012</td><td>-0.6328040</td><td>-1.06731128</td><td>-0.606593294</td><td>0.8089376</td><td>0.8980025</td><td>0.47155280</td><td>-0.623426723</td><td>-0.79349245</td><td>-0.54736951</td><td>⋯</td><td>-1.74019560</td><td>-1.73549857</td><td>-1.746156640</td><td>-1.74105136</td><td>-1.73845369</td><td>-1.74458262</td><td>-1.72933831</td><td>-1.70634683</td><td>-1.696314629</td><td>-1.690342936</td></tr>\n",
       "\t<tr><td>-0.991909159</td><td>-0.6243398</td><td>-1.07763978</td><td>-0.599928945</td><td>0.7218532</td><td>0.7524129</td><td>0.38998935</td><td>-0.607416446</td><td>-0.82520505</td><td>-0.57058338</td><td>⋯</td><td>-1.76382857</td><td>-1.76120486</td><td>-1.774514742</td><td>-1.77227137</td><td>-1.77233857</td><td>-1.78072299</td><td>-1.76795480</td><td>-1.74876182</td><td>-1.743046313</td><td>-1.740564850</td></tr>\n",
       "\t<tr><td>-0.987658348</td><td>-0.6263829</td><td>-1.07472265</td><td>-0.581707979</td><td>0.6876022</td><td>0.7125710</td><td>0.38918003</td><td>-0.594753867</td><td>-0.83142339</td><td>-0.52355599</td><td>⋯</td><td>-1.73252806</td><td>-1.72898105</td><td>-1.741004557</td><td>-1.73711840</td><td>-1.73557757</td><td>-1.74287138</td><td>-1.72964285</td><td>-1.70986596</td><td>-1.703464779</td><td>-1.700610705</td></tr>\n",
       "</tbody>\n",
       "</table>\n"
      ],
      "text/latex": [
       "A data.frame: 1343 × 214\n",
       "\\begin{tabular}{lllllllllllllllllllll}\n",
       " Boochs & Boochs2 & CARI & Carter & Carter2 & Carter3 & Carter4 & Carter5 & Carter6 & CI & ⋯ & X942.593\\_5nm & X947.593\\_5nm & X952.593\\_5nm & X957.593\\_5nm & X962.593\\_5nm & X967.593\\_5nm & X972.593\\_5nm & X977.593\\_5nm & X982.593\\_5nm & X987.593\\_5nm\\\\\n",
       " <dbl> & <dbl> & <dbl> & <dbl> & <dbl> & <dbl> & <dbl> & <dbl> & <dbl> & <dbl> & ⋯ & <dbl> & <dbl> & <dbl> & <dbl> & <dbl> & <dbl> & <dbl> & <dbl> & <dbl> & <dbl>\\\\\n",
       "\\hline\n",
       "\t -0.76846038 & -0.5372457 & -0.223839341 &  0.82860142 &  0.7968179 &  0.8280780 &  0.5424116 & -0.5806553 &  0.09992622 & -0.483739370 & ⋯ & -0.96357607 & -0.95561661 & -0.95645866 & -0.94830690 & -0.94446781 & -0.94979260 & -0.94150565 & -0.92258338 & -0.91148004 & -0.90693523\\\\\n",
       "\t -0.77454231 & -0.5357571 & -0.497400716 &  0.20830885 &  0.7089907 &  0.8371099 &  0.4795027 & -0.5981798 & -0.08664286 & -0.491678568 & ⋯ & -1.20683934 & -1.20066382 & -1.20539401 & -1.19855903 & -1.19531678 & -1.20139269 & -1.19213686 & -1.17401787 & -1.16547870 & -1.16210811\\\\\n",
       "\t -0.61829558 & -0.5015597 &  0.143341173 &  1.04278327 &  0.8080617 &  0.9767590 &  0.5872815 & -0.6093265 &  0.74494046 & -0.479349708 & ⋯ & -0.71323887 & -0.70725207 & -0.70701212 & -0.69637901 & -0.69036877 & -0.69648949 & -0.69357473 & -0.67998655 & -0.67291343 & -0.67270010\\\\\n",
       "\t -0.58222254 & -0.4895930 &  0.216628247 &  1.06494681 &  0.7768125 &  0.9598887 &  0.5500888 & -0.6164675 &  0.90841418 & -0.495102400 & ⋯ & -0.60299473 & -0.59679494 & -0.59617037 & -0.58722796 & -0.58301243 & -0.59001804 & -0.58940618 & -0.57913482 & -0.57516667 & -0.57765872\\\\\n",
       "\t -0.64414051 & -0.4981934 & -0.017557868 &  1.07477002 &  0.7739031 &  0.9333435 &  0.5577039 & -0.6183180 &  0.52153170 & -0.506770098 & ⋯ & -0.84101020 & -0.83532197 & -0.83664392 & -0.82798576 & -0.82399432 & -0.83101629 & -0.82606724 & -0.80922208 & -0.79879298 & -0.79492490\\\\\n",
       "\t  0.41639104 &  0.6360243 & -0.362385295 & -0.49844004 & -0.3367462 & -0.3251712 & -0.5374065 &  0.0455680 & -0.25820702 & -0.660619655 & ⋯ &  0.04610180 &  0.05018974 &  0.05327911 &  0.05974910 &  0.06306154 &  0.05857101 &  0.05455537 &  0.05826897 &  0.05775155 &  0.04950531\\\\\n",
       "\t  0.33146638 &  0.7183512 & -0.133186270 &  0.49422873 & -0.3758320 & -0.3831287 & -0.6859238 &  0.6804455 & -0.45143659 &  0.506543753 & ⋯ &  0.48143322 &  0.49416407 &  0.52399390 &  0.56633299 &  0.61225989 &  0.65057849 &  0.67276928 &  0.68836575 &  0.69841520 &  0.70261233\\\\\n",
       "\t  0.17635756 &  0.6621759 & -0.238851721 &  0.43441272 & -0.3961852 & -0.3977763 & -0.7502802 &  0.8023426 & -0.52249126 &  0.670928120 & ⋯ &  0.33645926 &  0.34406894 &  0.36232379 &  0.39059974 &  0.42121130 &  0.44576782 &  0.46273110 &  0.48118246 &  0.49559064 &  0.50251194\\\\\n",
       "\t  0.01310026 &  0.6736853 & -0.548991612 &  0.29174428 & -0.3920786 & -0.4007978 & -0.8193800 &  0.1591539 & -0.59322608 &  0.032833458 & ⋯ &  0.44100477 &  0.44249180 &  0.46280132 &  0.50201468 &  0.54715358 &  0.58393639 &  0.60765550 &  0.62913634 &  0.64573390 &  0.65455262\\\\\n",
       "\t  0.27402157 &  0.7606529 & -0.299035103 &  0.36253388 & -0.4103369 & -0.4083659 & -0.7931232 &  0.5490353 & -0.52706329 &  0.482717065 & ⋯ &  0.83010253 &  0.82819219 &  0.83275093 &  0.83973702 &  0.84595799 &  0.84535815 &  0.83634058 &  0.83585482 &  0.83813696 &  0.83534185\\\\\n",
       "\t  0.45773508 &  0.7158703 &  0.006617324 &  0.64479318 & -0.3704549 & -0.3798994 & -0.6660437 &  0.7520179 & -0.41906546 &  0.652997731 & ⋯ &  0.79233324 &  0.79475904 &  0.81043258 &  0.83440118 &  0.85503331 &  0.86013984 &  0.85191525 &  0.85195896 &  0.85512676 &  0.85323669\\\\\n",
       "\t  0.20800975 &  0.5790415 & -0.311664829 &  0.22510946 & -0.3889475 & -0.3884579 & -0.6972832 &  0.6467937 & -0.54539847 &  0.513202024 & ⋯ &  0.18124028 &  0.18425831 &  0.19797137 &  0.22365997 &  0.25042186 &  0.26855534 &  0.28132041 &  0.29783159 &  0.31031625 &  0.31539224\\\\\n",
       "\t  0.41115927 &  0.9266785 & -0.079259047 &  0.45483117 & -0.4070308 & -0.4065548 & -0.7741491 &  0.8150593 & -0.46440950 &  0.718210590 & ⋯ &  0.97119184 &  0.97036830 &  0.98084620 &  0.99948410 &  1.02491203 &  1.04993457 &  1.06414627 &  1.08167703 &  1.09827452 &  1.10505721\\\\\n",
       "\t  0.15730084 &  0.5722701 & -0.316213825 &  0.45870508 & -0.3577018 & -0.3631101 & -0.6633302 &  0.5163240 & -0.50962183 &  0.456769656 & ⋯ &  0.08917472 &  0.10009428 &  0.12870148 &  0.17113244 &  0.21566344 &  0.25221152 &  0.28070207 &  0.30753937 &  0.32654319 &  0.33585346\\\\\n",
       "\t  0.12600180 &  0.5938004 & -0.317181446 &  0.59677347 & -0.3586360 & -0.3693725 & -0.7019671 &  0.4876449 & -0.52900124 &  0.478833909 & ⋯ &  0.34027231 &  0.34359639 &  0.35975888 &  0.38932880 &  0.42181319 &  0.44626191 &  0.46151379 &  0.47757777 &  0.48977295 &  0.49533144\\\\\n",
       "\t  0.13905506 &  0.6916937 & -0.438293163 &  0.28443775 & -0.4002275 & -0.3998753 & -0.7912930 &  0.3577798 & -0.55707315 &  0.278211809 & ⋯ &  0.56475848 &  0.57234777 &  0.58775936 &  0.60473551 &  0.62014595 &  0.62981273 &  0.63374827 &  0.64493260 &  0.65530315 &  0.65744182\\\\\n",
       "\t  0.03273247 &  0.8429701 & -0.580373931 &  0.04895235 & -0.4214311 & -0.4147502 & -0.8826114 &  0.1836606 & -0.59745004 &  0.003077206 & ⋯ &  0.55103387 &  0.55660841 &  0.58742385 &  0.63597483 &  0.69135244 &  0.74016343 &  0.77132650 &  0.79437919 &  0.81059491 &  0.81891830\\\\\n",
       "\t  0.20243792 &  0.5910471 & -0.267156399 &  0.43686049 & -0.3965800 & -0.3993607 & -0.7226917 &  0.7875196 & -0.57896434 &  0.709428878 & ⋯ &  0.42526149 &  0.42336846 &  0.42438865 &  0.43026560 &  0.43629976 &  0.43689452 &  0.43454184 &  0.44040236 &  0.44598161 &  0.44584080\\\\\n",
       "\t  0.17450028 &  0.4609410 & -0.149072709 &  0.63024258 & -0.3525939 & -0.3557271 & -0.6318070 &  0.9208336 & -0.51669626 &  1.006270342 & ⋯ &  0.09873284 &  0.09370523 &  0.09080683 &  0.09452194 &  0.09912119 &  0.09971534 &  0.10158579 &  0.11083078 &  0.11769013 &  0.11952824\\\\\n",
       "\t  0.38528818 &  0.7649629 & -0.126570781 &  0.37811046 & -0.3839734 & -0.3840480 & -0.7024158 &  0.6511866 & -0.44671404 &  0.639826381 & ⋯ &  0.71194264 &  0.70725479 &  0.70797273 &  0.71151296 &  0.71622028 &  0.71767651 &  0.71435146 &  0.71988987 &  0.72687496 &  0.72760958\\\\\n",
       "\t -0.19431316 &  0.2692990 & -0.617067181 &  0.31320256 & -0.3824737 & -0.3813774 & -0.7472375 &  0.5150564 & -0.70202355 &  0.594009270 & ⋯ & -0.25770586 & -0.26420631 & -0.27187978 & -0.26987993 & -0.26837803 & -0.27417477 & -0.27591599 & -0.27018683 & -0.26832292 & -0.27004421\\\\\n",
       "\t  0.08949714 &  0.5428496 & -0.487539376 &  0.01572808 & -0.3839648 & -0.3753826 & -0.7343606 &  0.2908144 & -0.55181437 &  0.320464557 & ⋯ &  0.24842462 &  0.24727179 &  0.24810326 &  0.25489085 &  0.25898567 &  0.25331205 &  0.24672765 &  0.25146554 &  0.25598303 &  0.25418278\\\\\n",
       "\t -0.26899663 &  0.2696492 & -0.767890300 &  0.03377801 & -0.4326177 & -0.4237380 & -0.8350049 &  0.4763594 & -0.78370867 &  0.368491743 & ⋯ & -0.32818414 & -0.33274372 & -0.34050980 & -0.33726650 & -0.33459885 & -0.34035971 & -0.34169637 & -0.33528731 & -0.33305139 & -0.33452751\\\\\n",
       "\t -0.05977826 &  0.4927744 & -0.636908983 &  0.01453962 & -0.4160929 & -0.4085656 & -0.8139046 &  0.3211042 & -0.67920101 &  0.278062203 & ⋯ &  0.15207816 &  0.14758920 &  0.14668750 &  0.15583182 &  0.16348179 &  0.16005062 &  0.15439957 &  0.15757181 &  0.15946761 &  0.15623374\\\\\n",
       "\t -0.01453655 &  0.4218985 & -0.550825780 &  0.11892970 & -0.3975321 & -0.3909282 & -0.7435987 &  0.4271650 & -0.63671684 &  0.397594099 & ⋯ &  0.03263663 &  0.03124970 &  0.02884219 &  0.03383183 &  0.03722837 &  0.03208234 &  0.02809198 &  0.03362271 &  0.03725980 &  0.03559384\\\\\n",
       "\t  0.35712820 &  0.7338884 & -0.071294845 &  0.54758637 & -0.3797597 & -0.3824662 & -0.6954621 &  0.8204556 & -0.44540640 &  0.757097262 & ⋯ &  0.64767073 &  0.64541824 &  0.65283676 &  0.66946233 &  0.68874816 &  0.70194641 &  0.70727778 &  0.71859164 &  0.72893627 &  0.73105851\\\\\n",
       "\t  0.07013960 &  0.6419493 & -0.529893170 &  0.08499001 & -0.4149420 & -0.4100893 & -0.8116297 &  0.3546705 & -0.61929420 &  0.231173420 & ⋯ &  0.45198959 &  0.45476814 &  0.46435840 &  0.47992533 &  0.49533833 &  0.50376585 &  0.50646926 &  0.51539463 &  0.52301706 &  0.52388222\\\\\n",
       "\t  0.16323890 &  0.6797757 & -0.368124872 &  0.40099882 & -0.4006108 & -0.4026553 & -0.7745960 &  0.5372277 & -0.56210615 &  0.410459325 & ⋯ &  0.60226214 &  0.60184190 &  0.60995189 &  0.62585599 &  0.64266743 &  0.65180816 &  0.65262525 &  0.65924695 &  0.66605272 &  0.66730991\\\\\n",
       "\t  0.14342358 &  0.7561970 & -0.400380157 &  0.29210818 & -0.4336143 & -0.4279028 & -0.8571902 &  0.6453963 & -0.61377201 &  0.567440508 & ⋯ &  0.75731246 &  0.75343067 &  0.75631321 &  0.76419081 &  0.77262748 &  0.77453782 &  0.76864719 &  0.77077717 &  0.77491993 &  0.77384533\\\\\n",
       "\t  0.03898443 &  0.4454914 & -0.576126344 &  0.05258802 & -0.3703050 & -0.3467483 & -0.6950188 &  0.1310310 & -0.64145821 &  0.195269056 & ⋯ &  0.08345264 &  0.08519186 &  0.08786975 &  0.09654297 &  0.10504679 &  0.10741856 &  0.10633614 &  0.10682399 &  0.10209349 &  0.09239451\\\\\n",
       "\t ⋮ & ⋮ & ⋮ & ⋮ & ⋮ & ⋮ & ⋮ & ⋮ & ⋮ & ⋮ & ⋱ & ⋮ & ⋮ & ⋮ & ⋮ & ⋮ & ⋮ & ⋮ & ⋮ & ⋮ & ⋮\\\\\n",
       "\t -0.985251735 & -0.6322105 &  1.95893324 & -0.609266686 & 1.2700042 & 1.6615857 & 0.88205931 & -0.714104724 &  0.77308180 & -0.61918151 & ⋯ &  0.61975093 &  0.62913082 &  0.644855924 &  0.66314666 &  0.67708691 &  0.68046262 &  0.68055432 &  0.69636732 &  0.714014475 &  0.718807100\\\\\n",
       "\t -0.805815196 & -0.4979697 &  0.15621526 &  0.233139965 & 0.8693331 & 1.1250767 & 0.54087851 & -0.665221352 &  1.07604601 & -0.54608792 & ⋯ & -0.60547806 & -0.59558161 & -0.590922016 & -0.57816518 & -0.56954337 & -0.57110270 & -0.56554019 & -0.55160708 & -0.544516380 & -0.544002858\\\\\n",
       "\t -0.844674148 & -0.5543590 & -0.20189337 & -0.005079389 & 0.8852838 & 1.1912252 & 0.57837180 & -0.664896800 &  0.59941620 & -0.52260394 & ⋯ & -1.08361558 & -1.08093193 & -1.087738815 & -1.08234341 & -1.08055214 & -1.08927832 & -1.08476067 & -1.07161668 & -1.067893927 & -1.069650085\\\\\n",
       "\t -0.810615343 & -0.5166688 &  0.13658364 &  0.147878663 & 0.8982580 & 1.1634043 & 0.57479407 & -0.666596034 &  1.06061775 & -0.53695252 & ⋯ & -0.67475675 & -0.66642297 & -0.663971187 & -0.65230447 & -0.64415189 & -0.64588233 & -0.63981645 & -0.62591991 & -0.619496840 & -0.619339856\\\\\n",
       "\t -0.894218984 & -0.5956295 & -0.50723782 & -0.285954464 & 0.9127350 & 1.2123083 & 0.61952430 & -0.654523988 &  0.12073556 & -0.51065158 & ⋯ & -1.27094478 & -1.26192474 & -1.263979696 & -1.25260289 & -1.24360673 & -1.24346599 & -1.22824473 & -1.20571695 & -1.194011857 & -1.187559392\\\\\n",
       "\t -0.869760472 & -0.5755682 & -0.32571787 & -0.166512115 & 0.9248766 & 1.2053414 & 0.62785801 & -0.653575351 &  0.37060755 & -0.51866885 & ⋯ & -1.13233842 & -1.12491923 & -1.127260709 & -1.11696105 & -1.10932271 & -1.11121184 & -1.10093794 & -1.08487779 & -1.079274147 & -1.078167381\\\\\n",
       "\t -0.884736406 & -0.5932069 & -0.38937862 & -0.089852867 & 0.9370412 & 1.2262367 & 0.63760967 & -0.659531998 &  0.29754908 & -0.52045707 & ⋯ & -1.23101763 & -1.22462045 & -1.229264764 & -1.22150876 & -1.21631572 & -1.21960042 & -1.20801772 & -1.18931236 & -1.181179508 & -1.177838511\\\\\n",
       "\t -0.874482142 & -0.5842660 & -0.02430943 & -0.303847793 & 1.0063889 & 1.2830902 & 0.68097398 & -0.671403909 &  0.84299459 & -0.55135253 & ⋯ & -0.87729969 & -0.86836254 & -0.866720872 & -0.85368143 & -0.84380489 & -0.84448832 & -0.83687271 & -0.82372669 & -0.819766823 & -0.820674988\\\\\n",
       "\t -0.806521485 & -0.5605758 &  0.17791617 &  0.183839038 & 0.9417896 & 1.2416585 & 0.62977082 & -0.666512600 &  1.16905773 & -0.53009782 & ⋯ & -0.74182739 & -0.73540260 & -0.735384692 & -0.72579907 & -0.72009023 & -0.72466231 & -0.71997601 & -0.70637515 & -0.700446665 & -0.701139990\\\\\n",
       "\t -0.693201405 & -0.4615248 &  0.26166379 &  0.061792407 & 0.8060950 & 1.0724072 & 0.50563268 & -0.653659076 &  1.24667882 & -0.51318256 & ⋯ & -0.43657956 & -0.42545645 & -0.417838214 & -0.40214962 & -0.39086218 & -0.39121497 & -0.38817594 & -0.37805436 & -0.374315545 & -0.376987991\\\\\n",
       "\t -0.832144065 & -0.5639713 & -0.04961483 & -0.170418430 & 0.9266830 & 1.1877108 & 0.60660359 & -0.662168114 &  0.78268325 & -0.53971649 & ⋯ & -0.85096077 & -0.84287763 & -0.841549118 & -0.82845770 & -0.81932650 & -0.82201538 & -0.81516891 & -0.79942877 & -0.791542084 & -0.789793094\\\\\n",
       "\t -0.883101478 & -0.6193877 & -0.15914320 & -0.305220655 & 1.0471685 & 1.3806353 & 0.74056828 & -0.668159251 &  0.72636069 & -0.53075762 & ⋯ & -1.14300943 & -1.13830283 & -1.143741953 & -1.13738570 & -1.13371331 & -1.13866749 & -1.13010107 & -1.11486494 & -1.109792961 & -1.109241195\\\\\n",
       "\t -0.746316923 & -0.4775971 &  0.02111772 &  0.005836733 & 0.8122182 & 1.1013159 & 0.51818712 & -0.653070032 &  0.93642965 & -0.50403502 & ⋯ & -0.77886941 & -0.77255983 & -0.772846851 & -0.76225002 & -0.75519378 & -0.75902844 & -0.75429003 & -0.74174397 & -0.737155156 & -0.738310731\\\\\n",
       "\t -0.851148460 & -0.5761617 & -0.30688364 & -0.047467254 & 0.9181681 & 1.1953286 & 0.63378641 & -0.644213381 &  0.39877353 & -0.50816845 & ⋯ & -1.13998462 & -1.13319121 & -1.136312394 & -1.12678991 & -1.11962698 & -1.12162201 & -1.11185573 & -1.09736204 & -1.093524664 & -1.093456178\\\\\n",
       "\t -0.857858201 & -0.5682131 & -0.42362183 & -0.155133874 & 0.8505723 & 1.0240356 & 0.56204257 & -0.629897310 &  0.09233438 & -0.51440013 & ⋯ & -1.13088714 & -1.12101101 & -1.120737733 & -1.10816181 & -1.09846492 & -1.09815548 & -1.08490138 & -1.06456214 & -1.054305343 & -1.049349738\\\\\n",
       "\t -0.283946409 & -0.3381512 & -0.13380653 &  0.810035150 & 0.1685622 & 0.1350149 & 0.09243231 &  0.035215301 & -0.42569773 &  0.71228524 & ⋯ & -0.49508414 & -0.48352319 & -0.477190507 & -0.46556898 & -0.45931520 & -0.46277985 & -0.45732985 & -0.43911621 & -0.425368925 & -0.419740718\\\\\n",
       "\t -0.202409316 & -0.3340358 &  0.31632193 &  1.626684853 & 0.2925801 & 0.1403462 & 0.19356686 &  0.013591229 & -0.39763523 &  0.78227568 & ⋯ &  0.02064392 &  0.03650849 &  0.052065292 &  0.06993901 &  0.08025303 &  0.07794882 &  0.07957858 &  0.09838058 &  0.116467803 &  0.123198188\\\\\n",
       "\t  0.005919658 & -0.2785318 &  0.52419180 &  1.268234379 & 0.2170169 & 0.1449470 & 0.16892074 &  0.225291797 & -0.12846850 &  0.88022662 & ⋯ &  0.34085212 &  0.36358668 &  0.388495043 &  0.41249879 &  0.42810809 &  0.43079483 &  0.43255512 &  0.45067578 &  0.469842497 &  0.477562382\\\\\n",
       "\t -0.285895242 & -0.3860082 &  0.30212051 &  1.177429151 & 0.3528204 & 0.2728142 & 0.27916511 &  0.080958250 & -0.20174334 &  0.81735235 & ⋯ & -0.25844536 & -0.24523608 & -0.234381948 & -0.21862789 & -0.20898461 & -0.21100334 & -0.20778811 & -0.19137525 & -0.178288622 & -0.174224262\\\\\n",
       "\t -0.308261047 & -0.4063127 &  0.21905150 &  1.383168575 & 0.3757267 & 0.2367995 & 0.29037630 &  0.004925978 & -0.36225371 &  0.61089341 & ⋯ & -0.36013417 & -0.34757496 & -0.338526324 & -0.32490087 & -0.31798077 & -0.32272045 & -0.31997626 & -0.30260377 & -0.288398564 & -0.283154331\\\\\n",
       "\t -0.232557375 & -0.3384333 &  0.22085310 &  1.180641586 & 0.2867938 & 0.1912463 & 0.18857187 &  0.006812019 & -0.27968429 &  0.58367563 & ⋯ & -0.03311545 & -0.01293650 &  0.006882276 &  0.02840944 &  0.04178303 &  0.04221471 &  0.04607773 &  0.06595237 &  0.084947140 &  0.093472621\\\\\n",
       "\t  0.019692285 & -0.1693626 &  0.58417311 &  0.068176559 & 0.2947860 & 0.3384020 & 0.20408684 & -0.113741070 &  0.64606788 &  0.27391412 & ⋯ &  0.02861684 &  0.02917192 &  0.027590407 &  0.03116456 &  0.03322133 &  0.02921351 &  0.02950979 &  0.04185319 &  0.051924101 &  0.054061053\\\\\n",
       "\t  0.031986938 & -0.1514223 &  0.78561246 &  0.125445404 & 0.3200179 & 0.3749219 & 0.20813897 & -0.089186855 &  0.93600631 &  0.34846317 & ⋯ &  0.24534022 &  0.23773120 &  0.229343169 &  0.22846518 &  0.22894784 &  0.22460656 &  0.22147650 &  0.22849321 &  0.233733681 &  0.232062911\\\\\n",
       "\t -0.076689948 & -0.3026209 &  1.11745794 &  0.046313384 & 0.5652437 & 0.6521442 & 0.44768484 & -0.292891941 &  1.49101922 &  0.01096159 & ⋯ &  0.21324790 &  0.21986826 &  0.227050660 &  0.23629657 &  0.24183278 &  0.23978749 &  0.23962331 &  0.25268945 &  0.264971521 &  0.268029217\\\\\n",
       "\t -0.325447403 & -0.4473593 &  0.95346509 &  1.291409181 & 0.6177643 & 0.6150492 & 0.46720724 & -0.179065354 &  0.77922130 &  0.42775647 & ⋯ &  0.22696615 &  0.24533522 &  0.266325611 &  0.28783172 &  0.30197029 &  0.30453355 &  0.30893646 &  0.33056427 &  0.352494916 &  0.361970302\\\\\n",
       "\t -0.367079191 & -0.4455595 &  0.25393207 &  1.297021672 & 0.4521848 & 0.4029562 & 0.33101482 & -0.167302213 & -0.02900325 &  0.47256632 & ⋯ & -0.11975122 & -0.10158672 & -0.085082566 & -0.06541271 & -0.05255506 & -0.05142957 & -0.04559468 & -0.02444610 & -0.005222619 &  0.003328373\\\\\n",
       "\t -0.974958233 & -0.6171987 & -1.03543903 & -0.510869629 & 0.6818327 & 0.6788524 & 0.38678050 & -0.584357132 & -0.79943797 & -0.55706353 & ⋯ & -1.66206525 & -1.65696893 & -1.666734912 & -1.66136710 & -1.65867924 & -1.66479224 & -1.65023504 & -1.62748472 & -1.617081986 & -1.610961695\\\\\n",
       "\t -1.010495012 & -0.6328040 & -1.06731128 & -0.606593294 & 0.8089376 & 0.8980025 & 0.47155280 & -0.623426723 & -0.79349245 & -0.54736951 & ⋯ & -1.74019560 & -1.73549857 & -1.746156640 & -1.74105136 & -1.73845369 & -1.74458262 & -1.72933831 & -1.70634683 & -1.696314629 & -1.690342936\\\\\n",
       "\t -0.991909159 & -0.6243398 & -1.07763978 & -0.599928945 & 0.7218532 & 0.7524129 & 0.38998935 & -0.607416446 & -0.82520505 & -0.57058338 & ⋯ & -1.76382857 & -1.76120486 & -1.774514742 & -1.77227137 & -1.77233857 & -1.78072299 & -1.76795480 & -1.74876182 & -1.743046313 & -1.740564850\\\\\n",
       "\t -0.987658348 & -0.6263829 & -1.07472265 & -0.581707979 & 0.6876022 & 0.7125710 & 0.38918003 & -0.594753867 & -0.83142339 & -0.52355599 & ⋯ & -1.73252806 & -1.72898105 & -1.741004557 & -1.73711840 & -1.73557757 & -1.74287138 & -1.72964285 & -1.70986596 & -1.703464779 & -1.700610705\\\\\n",
       "\\end{tabular}\n"
      ],
      "text/markdown": [
       "\n",
       "A data.frame: 1343 × 214\n",
       "\n",
       "| Boochs &lt;dbl&gt; | Boochs2 &lt;dbl&gt; | CARI &lt;dbl&gt; | Carter &lt;dbl&gt; | Carter2 &lt;dbl&gt; | Carter3 &lt;dbl&gt; | Carter4 &lt;dbl&gt; | Carter5 &lt;dbl&gt; | Carter6 &lt;dbl&gt; | CI &lt;dbl&gt; | ⋯ ⋯ | X942.593_5nm &lt;dbl&gt; | X947.593_5nm &lt;dbl&gt; | X952.593_5nm &lt;dbl&gt; | X957.593_5nm &lt;dbl&gt; | X962.593_5nm &lt;dbl&gt; | X967.593_5nm &lt;dbl&gt; | X972.593_5nm &lt;dbl&gt; | X977.593_5nm &lt;dbl&gt; | X982.593_5nm &lt;dbl&gt; | X987.593_5nm &lt;dbl&gt; |\n",
       "|---|---|---|---|---|---|---|---|---|---|---|---|---|---|---|---|---|---|---|---|---|\n",
       "| -0.76846038 | -0.5372457 | -0.223839341 |  0.82860142 |  0.7968179 |  0.8280780 |  0.5424116 | -0.5806553 |  0.09992622 | -0.483739370 | ⋯ | -0.96357607 | -0.95561661 | -0.95645866 | -0.94830690 | -0.94446781 | -0.94979260 | -0.94150565 | -0.92258338 | -0.91148004 | -0.90693523 |\n",
       "| -0.77454231 | -0.5357571 | -0.497400716 |  0.20830885 |  0.7089907 |  0.8371099 |  0.4795027 | -0.5981798 | -0.08664286 | -0.491678568 | ⋯ | -1.20683934 | -1.20066382 | -1.20539401 | -1.19855903 | -1.19531678 | -1.20139269 | -1.19213686 | -1.17401787 | -1.16547870 | -1.16210811 |\n",
       "| -0.61829558 | -0.5015597 |  0.143341173 |  1.04278327 |  0.8080617 |  0.9767590 |  0.5872815 | -0.6093265 |  0.74494046 | -0.479349708 | ⋯ | -0.71323887 | -0.70725207 | -0.70701212 | -0.69637901 | -0.69036877 | -0.69648949 | -0.69357473 | -0.67998655 | -0.67291343 | -0.67270010 |\n",
       "| -0.58222254 | -0.4895930 |  0.216628247 |  1.06494681 |  0.7768125 |  0.9598887 |  0.5500888 | -0.6164675 |  0.90841418 | -0.495102400 | ⋯ | -0.60299473 | -0.59679494 | -0.59617037 | -0.58722796 | -0.58301243 | -0.59001804 | -0.58940618 | -0.57913482 | -0.57516667 | -0.57765872 |\n",
       "| -0.64414051 | -0.4981934 | -0.017557868 |  1.07477002 |  0.7739031 |  0.9333435 |  0.5577039 | -0.6183180 |  0.52153170 | -0.506770098 | ⋯ | -0.84101020 | -0.83532197 | -0.83664392 | -0.82798576 | -0.82399432 | -0.83101629 | -0.82606724 | -0.80922208 | -0.79879298 | -0.79492490 |\n",
       "|  0.41639104 |  0.6360243 | -0.362385295 | -0.49844004 | -0.3367462 | -0.3251712 | -0.5374065 |  0.0455680 | -0.25820702 | -0.660619655 | ⋯ |  0.04610180 |  0.05018974 |  0.05327911 |  0.05974910 |  0.06306154 |  0.05857101 |  0.05455537 |  0.05826897 |  0.05775155 |  0.04950531 |\n",
       "|  0.33146638 |  0.7183512 | -0.133186270 |  0.49422873 | -0.3758320 | -0.3831287 | -0.6859238 |  0.6804455 | -0.45143659 |  0.506543753 | ⋯ |  0.48143322 |  0.49416407 |  0.52399390 |  0.56633299 |  0.61225989 |  0.65057849 |  0.67276928 |  0.68836575 |  0.69841520 |  0.70261233 |\n",
       "|  0.17635756 |  0.6621759 | -0.238851721 |  0.43441272 | -0.3961852 | -0.3977763 | -0.7502802 |  0.8023426 | -0.52249126 |  0.670928120 | ⋯ |  0.33645926 |  0.34406894 |  0.36232379 |  0.39059974 |  0.42121130 |  0.44576782 |  0.46273110 |  0.48118246 |  0.49559064 |  0.50251194 |\n",
       "|  0.01310026 |  0.6736853 | -0.548991612 |  0.29174428 | -0.3920786 | -0.4007978 | -0.8193800 |  0.1591539 | -0.59322608 |  0.032833458 | ⋯ |  0.44100477 |  0.44249180 |  0.46280132 |  0.50201468 |  0.54715358 |  0.58393639 |  0.60765550 |  0.62913634 |  0.64573390 |  0.65455262 |\n",
       "|  0.27402157 |  0.7606529 | -0.299035103 |  0.36253388 | -0.4103369 | -0.4083659 | -0.7931232 |  0.5490353 | -0.52706329 |  0.482717065 | ⋯ |  0.83010253 |  0.82819219 |  0.83275093 |  0.83973702 |  0.84595799 |  0.84535815 |  0.83634058 |  0.83585482 |  0.83813696 |  0.83534185 |\n",
       "|  0.45773508 |  0.7158703 |  0.006617324 |  0.64479318 | -0.3704549 | -0.3798994 | -0.6660437 |  0.7520179 | -0.41906546 |  0.652997731 | ⋯ |  0.79233324 |  0.79475904 |  0.81043258 |  0.83440118 |  0.85503331 |  0.86013984 |  0.85191525 |  0.85195896 |  0.85512676 |  0.85323669 |\n",
       "|  0.20800975 |  0.5790415 | -0.311664829 |  0.22510946 | -0.3889475 | -0.3884579 | -0.6972832 |  0.6467937 | -0.54539847 |  0.513202024 | ⋯ |  0.18124028 |  0.18425831 |  0.19797137 |  0.22365997 |  0.25042186 |  0.26855534 |  0.28132041 |  0.29783159 |  0.31031625 |  0.31539224 |\n",
       "|  0.41115927 |  0.9266785 | -0.079259047 |  0.45483117 | -0.4070308 | -0.4065548 | -0.7741491 |  0.8150593 | -0.46440950 |  0.718210590 | ⋯ |  0.97119184 |  0.97036830 |  0.98084620 |  0.99948410 |  1.02491203 |  1.04993457 |  1.06414627 |  1.08167703 |  1.09827452 |  1.10505721 |\n",
       "|  0.15730084 |  0.5722701 | -0.316213825 |  0.45870508 | -0.3577018 | -0.3631101 | -0.6633302 |  0.5163240 | -0.50962183 |  0.456769656 | ⋯ |  0.08917472 |  0.10009428 |  0.12870148 |  0.17113244 |  0.21566344 |  0.25221152 |  0.28070207 |  0.30753937 |  0.32654319 |  0.33585346 |\n",
       "|  0.12600180 |  0.5938004 | -0.317181446 |  0.59677347 | -0.3586360 | -0.3693725 | -0.7019671 |  0.4876449 | -0.52900124 |  0.478833909 | ⋯ |  0.34027231 |  0.34359639 |  0.35975888 |  0.38932880 |  0.42181319 |  0.44626191 |  0.46151379 |  0.47757777 |  0.48977295 |  0.49533144 |\n",
       "|  0.13905506 |  0.6916937 | -0.438293163 |  0.28443775 | -0.4002275 | -0.3998753 | -0.7912930 |  0.3577798 | -0.55707315 |  0.278211809 | ⋯ |  0.56475848 |  0.57234777 |  0.58775936 |  0.60473551 |  0.62014595 |  0.62981273 |  0.63374827 |  0.64493260 |  0.65530315 |  0.65744182 |\n",
       "|  0.03273247 |  0.8429701 | -0.580373931 |  0.04895235 | -0.4214311 | -0.4147502 | -0.8826114 |  0.1836606 | -0.59745004 |  0.003077206 | ⋯ |  0.55103387 |  0.55660841 |  0.58742385 |  0.63597483 |  0.69135244 |  0.74016343 |  0.77132650 |  0.79437919 |  0.81059491 |  0.81891830 |\n",
       "|  0.20243792 |  0.5910471 | -0.267156399 |  0.43686049 | -0.3965800 | -0.3993607 | -0.7226917 |  0.7875196 | -0.57896434 |  0.709428878 | ⋯ |  0.42526149 |  0.42336846 |  0.42438865 |  0.43026560 |  0.43629976 |  0.43689452 |  0.43454184 |  0.44040236 |  0.44598161 |  0.44584080 |\n",
       "|  0.17450028 |  0.4609410 | -0.149072709 |  0.63024258 | -0.3525939 | -0.3557271 | -0.6318070 |  0.9208336 | -0.51669626 |  1.006270342 | ⋯ |  0.09873284 |  0.09370523 |  0.09080683 |  0.09452194 |  0.09912119 |  0.09971534 |  0.10158579 |  0.11083078 |  0.11769013 |  0.11952824 |\n",
       "|  0.38528818 |  0.7649629 | -0.126570781 |  0.37811046 | -0.3839734 | -0.3840480 | -0.7024158 |  0.6511866 | -0.44671404 |  0.639826381 | ⋯ |  0.71194264 |  0.70725479 |  0.70797273 |  0.71151296 |  0.71622028 |  0.71767651 |  0.71435146 |  0.71988987 |  0.72687496 |  0.72760958 |\n",
       "| -0.19431316 |  0.2692990 | -0.617067181 |  0.31320256 | -0.3824737 | -0.3813774 | -0.7472375 |  0.5150564 | -0.70202355 |  0.594009270 | ⋯ | -0.25770586 | -0.26420631 | -0.27187978 | -0.26987993 | -0.26837803 | -0.27417477 | -0.27591599 | -0.27018683 | -0.26832292 | -0.27004421 |\n",
       "|  0.08949714 |  0.5428496 | -0.487539376 |  0.01572808 | -0.3839648 | -0.3753826 | -0.7343606 |  0.2908144 | -0.55181437 |  0.320464557 | ⋯ |  0.24842462 |  0.24727179 |  0.24810326 |  0.25489085 |  0.25898567 |  0.25331205 |  0.24672765 |  0.25146554 |  0.25598303 |  0.25418278 |\n",
       "| -0.26899663 |  0.2696492 | -0.767890300 |  0.03377801 | -0.4326177 | -0.4237380 | -0.8350049 |  0.4763594 | -0.78370867 |  0.368491743 | ⋯ | -0.32818414 | -0.33274372 | -0.34050980 | -0.33726650 | -0.33459885 | -0.34035971 | -0.34169637 | -0.33528731 | -0.33305139 | -0.33452751 |\n",
       "| -0.05977826 |  0.4927744 | -0.636908983 |  0.01453962 | -0.4160929 | -0.4085656 | -0.8139046 |  0.3211042 | -0.67920101 |  0.278062203 | ⋯ |  0.15207816 |  0.14758920 |  0.14668750 |  0.15583182 |  0.16348179 |  0.16005062 |  0.15439957 |  0.15757181 |  0.15946761 |  0.15623374 |\n",
       "| -0.01453655 |  0.4218985 | -0.550825780 |  0.11892970 | -0.3975321 | -0.3909282 | -0.7435987 |  0.4271650 | -0.63671684 |  0.397594099 | ⋯ |  0.03263663 |  0.03124970 |  0.02884219 |  0.03383183 |  0.03722837 |  0.03208234 |  0.02809198 |  0.03362271 |  0.03725980 |  0.03559384 |\n",
       "|  0.35712820 |  0.7338884 | -0.071294845 |  0.54758637 | -0.3797597 | -0.3824662 | -0.6954621 |  0.8204556 | -0.44540640 |  0.757097262 | ⋯ |  0.64767073 |  0.64541824 |  0.65283676 |  0.66946233 |  0.68874816 |  0.70194641 |  0.70727778 |  0.71859164 |  0.72893627 |  0.73105851 |\n",
       "|  0.07013960 |  0.6419493 | -0.529893170 |  0.08499001 | -0.4149420 | -0.4100893 | -0.8116297 |  0.3546705 | -0.61929420 |  0.231173420 | ⋯ |  0.45198959 |  0.45476814 |  0.46435840 |  0.47992533 |  0.49533833 |  0.50376585 |  0.50646926 |  0.51539463 |  0.52301706 |  0.52388222 |\n",
       "|  0.16323890 |  0.6797757 | -0.368124872 |  0.40099882 | -0.4006108 | -0.4026553 | -0.7745960 |  0.5372277 | -0.56210615 |  0.410459325 | ⋯ |  0.60226214 |  0.60184190 |  0.60995189 |  0.62585599 |  0.64266743 |  0.65180816 |  0.65262525 |  0.65924695 |  0.66605272 |  0.66730991 |\n",
       "|  0.14342358 |  0.7561970 | -0.400380157 |  0.29210818 | -0.4336143 | -0.4279028 | -0.8571902 |  0.6453963 | -0.61377201 |  0.567440508 | ⋯ |  0.75731246 |  0.75343067 |  0.75631321 |  0.76419081 |  0.77262748 |  0.77453782 |  0.76864719 |  0.77077717 |  0.77491993 |  0.77384533 |\n",
       "|  0.03898443 |  0.4454914 | -0.576126344 |  0.05258802 | -0.3703050 | -0.3467483 | -0.6950188 |  0.1310310 | -0.64145821 |  0.195269056 | ⋯ |  0.08345264 |  0.08519186 |  0.08786975 |  0.09654297 |  0.10504679 |  0.10741856 |  0.10633614 |  0.10682399 |  0.10209349 |  0.09239451 |\n",
       "| ⋮ | ⋮ | ⋮ | ⋮ | ⋮ | ⋮ | ⋮ | ⋮ | ⋮ | ⋮ | ⋱ | ⋮ | ⋮ | ⋮ | ⋮ | ⋮ | ⋮ | ⋮ | ⋮ | ⋮ | ⋮ |\n",
       "| -0.985251735 | -0.6322105 |  1.95893324 | -0.609266686 | 1.2700042 | 1.6615857 | 0.88205931 | -0.714104724 |  0.77308180 | -0.61918151 | ⋯ |  0.61975093 |  0.62913082 |  0.644855924 |  0.66314666 |  0.67708691 |  0.68046262 |  0.68055432 |  0.69636732 |  0.714014475 |  0.718807100 |\n",
       "| -0.805815196 | -0.4979697 |  0.15621526 |  0.233139965 | 0.8693331 | 1.1250767 | 0.54087851 | -0.665221352 |  1.07604601 | -0.54608792 | ⋯ | -0.60547806 | -0.59558161 | -0.590922016 | -0.57816518 | -0.56954337 | -0.57110270 | -0.56554019 | -0.55160708 | -0.544516380 | -0.544002858 |\n",
       "| -0.844674148 | -0.5543590 | -0.20189337 | -0.005079389 | 0.8852838 | 1.1912252 | 0.57837180 | -0.664896800 |  0.59941620 | -0.52260394 | ⋯ | -1.08361558 | -1.08093193 | -1.087738815 | -1.08234341 | -1.08055214 | -1.08927832 | -1.08476067 | -1.07161668 | -1.067893927 | -1.069650085 |\n",
       "| -0.810615343 | -0.5166688 |  0.13658364 |  0.147878663 | 0.8982580 | 1.1634043 | 0.57479407 | -0.666596034 |  1.06061775 | -0.53695252 | ⋯ | -0.67475675 | -0.66642297 | -0.663971187 | -0.65230447 | -0.64415189 | -0.64588233 | -0.63981645 | -0.62591991 | -0.619496840 | -0.619339856 |\n",
       "| -0.894218984 | -0.5956295 | -0.50723782 | -0.285954464 | 0.9127350 | 1.2123083 | 0.61952430 | -0.654523988 |  0.12073556 | -0.51065158 | ⋯ | -1.27094478 | -1.26192474 | -1.263979696 | -1.25260289 | -1.24360673 | -1.24346599 | -1.22824473 | -1.20571695 | -1.194011857 | -1.187559392 |\n",
       "| -0.869760472 | -0.5755682 | -0.32571787 | -0.166512115 | 0.9248766 | 1.2053414 | 0.62785801 | -0.653575351 |  0.37060755 | -0.51866885 | ⋯ | -1.13233842 | -1.12491923 | -1.127260709 | -1.11696105 | -1.10932271 | -1.11121184 | -1.10093794 | -1.08487779 | -1.079274147 | -1.078167381 |\n",
       "| -0.884736406 | -0.5932069 | -0.38937862 | -0.089852867 | 0.9370412 | 1.2262367 | 0.63760967 | -0.659531998 |  0.29754908 | -0.52045707 | ⋯ | -1.23101763 | -1.22462045 | -1.229264764 | -1.22150876 | -1.21631572 | -1.21960042 | -1.20801772 | -1.18931236 | -1.181179508 | -1.177838511 |\n",
       "| -0.874482142 | -0.5842660 | -0.02430943 | -0.303847793 | 1.0063889 | 1.2830902 | 0.68097398 | -0.671403909 |  0.84299459 | -0.55135253 | ⋯ | -0.87729969 | -0.86836254 | -0.866720872 | -0.85368143 | -0.84380489 | -0.84448832 | -0.83687271 | -0.82372669 | -0.819766823 | -0.820674988 |\n",
       "| -0.806521485 | -0.5605758 |  0.17791617 |  0.183839038 | 0.9417896 | 1.2416585 | 0.62977082 | -0.666512600 |  1.16905773 | -0.53009782 | ⋯ | -0.74182739 | -0.73540260 | -0.735384692 | -0.72579907 | -0.72009023 | -0.72466231 | -0.71997601 | -0.70637515 | -0.700446665 | -0.701139990 |\n",
       "| -0.693201405 | -0.4615248 |  0.26166379 |  0.061792407 | 0.8060950 | 1.0724072 | 0.50563268 | -0.653659076 |  1.24667882 | -0.51318256 | ⋯ | -0.43657956 | -0.42545645 | -0.417838214 | -0.40214962 | -0.39086218 | -0.39121497 | -0.38817594 | -0.37805436 | -0.374315545 | -0.376987991 |\n",
       "| -0.832144065 | -0.5639713 | -0.04961483 | -0.170418430 | 0.9266830 | 1.1877108 | 0.60660359 | -0.662168114 |  0.78268325 | -0.53971649 | ⋯ | -0.85096077 | -0.84287763 | -0.841549118 | -0.82845770 | -0.81932650 | -0.82201538 | -0.81516891 | -0.79942877 | -0.791542084 | -0.789793094 |\n",
       "| -0.883101478 | -0.6193877 | -0.15914320 | -0.305220655 | 1.0471685 | 1.3806353 | 0.74056828 | -0.668159251 |  0.72636069 | -0.53075762 | ⋯ | -1.14300943 | -1.13830283 | -1.143741953 | -1.13738570 | -1.13371331 | -1.13866749 | -1.13010107 | -1.11486494 | -1.109792961 | -1.109241195 |\n",
       "| -0.746316923 | -0.4775971 |  0.02111772 |  0.005836733 | 0.8122182 | 1.1013159 | 0.51818712 | -0.653070032 |  0.93642965 | -0.50403502 | ⋯ | -0.77886941 | -0.77255983 | -0.772846851 | -0.76225002 | -0.75519378 | -0.75902844 | -0.75429003 | -0.74174397 | -0.737155156 | -0.738310731 |\n",
       "| -0.851148460 | -0.5761617 | -0.30688364 | -0.047467254 | 0.9181681 | 1.1953286 | 0.63378641 | -0.644213381 |  0.39877353 | -0.50816845 | ⋯ | -1.13998462 | -1.13319121 | -1.136312394 | -1.12678991 | -1.11962698 | -1.12162201 | -1.11185573 | -1.09736204 | -1.093524664 | -1.093456178 |\n",
       "| -0.857858201 | -0.5682131 | -0.42362183 | -0.155133874 | 0.8505723 | 1.0240356 | 0.56204257 | -0.629897310 |  0.09233438 | -0.51440013 | ⋯ | -1.13088714 | -1.12101101 | -1.120737733 | -1.10816181 | -1.09846492 | -1.09815548 | -1.08490138 | -1.06456214 | -1.054305343 | -1.049349738 |\n",
       "| -0.283946409 | -0.3381512 | -0.13380653 |  0.810035150 | 0.1685622 | 0.1350149 | 0.09243231 |  0.035215301 | -0.42569773 |  0.71228524 | ⋯ | -0.49508414 | -0.48352319 | -0.477190507 | -0.46556898 | -0.45931520 | -0.46277985 | -0.45732985 | -0.43911621 | -0.425368925 | -0.419740718 |\n",
       "| -0.202409316 | -0.3340358 |  0.31632193 |  1.626684853 | 0.2925801 | 0.1403462 | 0.19356686 |  0.013591229 | -0.39763523 |  0.78227568 | ⋯ |  0.02064392 |  0.03650849 |  0.052065292 |  0.06993901 |  0.08025303 |  0.07794882 |  0.07957858 |  0.09838058 |  0.116467803 |  0.123198188 |\n",
       "|  0.005919658 | -0.2785318 |  0.52419180 |  1.268234379 | 0.2170169 | 0.1449470 | 0.16892074 |  0.225291797 | -0.12846850 |  0.88022662 | ⋯ |  0.34085212 |  0.36358668 |  0.388495043 |  0.41249879 |  0.42810809 |  0.43079483 |  0.43255512 |  0.45067578 |  0.469842497 |  0.477562382 |\n",
       "| -0.285895242 | -0.3860082 |  0.30212051 |  1.177429151 | 0.3528204 | 0.2728142 | 0.27916511 |  0.080958250 | -0.20174334 |  0.81735235 | ⋯ | -0.25844536 | -0.24523608 | -0.234381948 | -0.21862789 | -0.20898461 | -0.21100334 | -0.20778811 | -0.19137525 | -0.178288622 | -0.174224262 |\n",
       "| -0.308261047 | -0.4063127 |  0.21905150 |  1.383168575 | 0.3757267 | 0.2367995 | 0.29037630 |  0.004925978 | -0.36225371 |  0.61089341 | ⋯ | -0.36013417 | -0.34757496 | -0.338526324 | -0.32490087 | -0.31798077 | -0.32272045 | -0.31997626 | -0.30260377 | -0.288398564 | -0.283154331 |\n",
       "| -0.232557375 | -0.3384333 |  0.22085310 |  1.180641586 | 0.2867938 | 0.1912463 | 0.18857187 |  0.006812019 | -0.27968429 |  0.58367563 | ⋯ | -0.03311545 | -0.01293650 |  0.006882276 |  0.02840944 |  0.04178303 |  0.04221471 |  0.04607773 |  0.06595237 |  0.084947140 |  0.093472621 |\n",
       "|  0.019692285 | -0.1693626 |  0.58417311 |  0.068176559 | 0.2947860 | 0.3384020 | 0.20408684 | -0.113741070 |  0.64606788 |  0.27391412 | ⋯ |  0.02861684 |  0.02917192 |  0.027590407 |  0.03116456 |  0.03322133 |  0.02921351 |  0.02950979 |  0.04185319 |  0.051924101 |  0.054061053 |\n",
       "|  0.031986938 | -0.1514223 |  0.78561246 |  0.125445404 | 0.3200179 | 0.3749219 | 0.20813897 | -0.089186855 |  0.93600631 |  0.34846317 | ⋯ |  0.24534022 |  0.23773120 |  0.229343169 |  0.22846518 |  0.22894784 |  0.22460656 |  0.22147650 |  0.22849321 |  0.233733681 |  0.232062911 |\n",
       "| -0.076689948 | -0.3026209 |  1.11745794 |  0.046313384 | 0.5652437 | 0.6521442 | 0.44768484 | -0.292891941 |  1.49101922 |  0.01096159 | ⋯ |  0.21324790 |  0.21986826 |  0.227050660 |  0.23629657 |  0.24183278 |  0.23978749 |  0.23962331 |  0.25268945 |  0.264971521 |  0.268029217 |\n",
       "| -0.325447403 | -0.4473593 |  0.95346509 |  1.291409181 | 0.6177643 | 0.6150492 | 0.46720724 | -0.179065354 |  0.77922130 |  0.42775647 | ⋯ |  0.22696615 |  0.24533522 |  0.266325611 |  0.28783172 |  0.30197029 |  0.30453355 |  0.30893646 |  0.33056427 |  0.352494916 |  0.361970302 |\n",
       "| -0.367079191 | -0.4455595 |  0.25393207 |  1.297021672 | 0.4521848 | 0.4029562 | 0.33101482 | -0.167302213 | -0.02900325 |  0.47256632 | ⋯ | -0.11975122 | -0.10158672 | -0.085082566 | -0.06541271 | -0.05255506 | -0.05142957 | -0.04559468 | -0.02444610 | -0.005222619 |  0.003328373 |\n",
       "| -0.974958233 | -0.6171987 | -1.03543903 | -0.510869629 | 0.6818327 | 0.6788524 | 0.38678050 | -0.584357132 | -0.79943797 | -0.55706353 | ⋯ | -1.66206525 | -1.65696893 | -1.666734912 | -1.66136710 | -1.65867924 | -1.66479224 | -1.65023504 | -1.62748472 | -1.617081986 | -1.610961695 |\n",
       "| -1.010495012 | -0.6328040 | -1.06731128 | -0.606593294 | 0.8089376 | 0.8980025 | 0.47155280 | -0.623426723 | -0.79349245 | -0.54736951 | ⋯ | -1.74019560 | -1.73549857 | -1.746156640 | -1.74105136 | -1.73845369 | -1.74458262 | -1.72933831 | -1.70634683 | -1.696314629 | -1.690342936 |\n",
       "| -0.991909159 | -0.6243398 | -1.07763978 | -0.599928945 | 0.7218532 | 0.7524129 | 0.38998935 | -0.607416446 | -0.82520505 | -0.57058338 | ⋯ | -1.76382857 | -1.76120486 | -1.774514742 | -1.77227137 | -1.77233857 | -1.78072299 | -1.76795480 | -1.74876182 | -1.743046313 | -1.740564850 |\n",
       "| -0.987658348 | -0.6263829 | -1.07472265 | -0.581707979 | 0.6876022 | 0.7125710 | 0.38918003 | -0.594753867 | -0.83142339 | -0.52355599 | ⋯ | -1.73252806 | -1.72898105 | -1.741004557 | -1.73711840 | -1.73557757 | -1.74287138 | -1.72964285 | -1.70986596 | -1.703464779 | -1.700610705 |\n",
       "\n"
      ],
      "text/plain": [
       "     Boochs       Boochs2    CARI         Carter       Carter2    Carter3   \n",
       "1    -0.76846038  -0.5372457 -0.223839341  0.82860142   0.7968179  0.8280780\n",
       "2    -0.77454231  -0.5357571 -0.497400716  0.20830885   0.7089907  0.8371099\n",
       "3    -0.61829558  -0.5015597  0.143341173  1.04278327   0.8080617  0.9767590\n",
       "4    -0.58222254  -0.4895930  0.216628247  1.06494681   0.7768125  0.9598887\n",
       "5    -0.64414051  -0.4981934 -0.017557868  1.07477002   0.7739031  0.9333435\n",
       "6     0.41639104   0.6360243 -0.362385295 -0.49844004  -0.3367462 -0.3251712\n",
       "7     0.33146638   0.7183512 -0.133186270  0.49422873  -0.3758320 -0.3831287\n",
       "8     0.17635756   0.6621759 -0.238851721  0.43441272  -0.3961852 -0.3977763\n",
       "9     0.01310026   0.6736853 -0.548991612  0.29174428  -0.3920786 -0.4007978\n",
       "10    0.27402157   0.7606529 -0.299035103  0.36253388  -0.4103369 -0.4083659\n",
       "11    0.45773508   0.7158703  0.006617324  0.64479318  -0.3704549 -0.3798994\n",
       "12    0.20800975   0.5790415 -0.311664829  0.22510946  -0.3889475 -0.3884579\n",
       "13    0.41115927   0.9266785 -0.079259047  0.45483117  -0.4070308 -0.4065548\n",
       "14    0.15730084   0.5722701 -0.316213825  0.45870508  -0.3577018 -0.3631101\n",
       "15    0.12600180   0.5938004 -0.317181446  0.59677347  -0.3586360 -0.3693725\n",
       "16    0.13905506   0.6916937 -0.438293163  0.28443775  -0.4002275 -0.3998753\n",
       "17    0.03273247   0.8429701 -0.580373931  0.04895235  -0.4214311 -0.4147502\n",
       "18    0.20243792   0.5910471 -0.267156399  0.43686049  -0.3965800 -0.3993607\n",
       "19    0.17450028   0.4609410 -0.149072709  0.63024258  -0.3525939 -0.3557271\n",
       "20    0.38528818   0.7649629 -0.126570781  0.37811046  -0.3839734 -0.3840480\n",
       "21   -0.19431316   0.2692990 -0.617067181  0.31320256  -0.3824737 -0.3813774\n",
       "22    0.08949714   0.5428496 -0.487539376  0.01572808  -0.3839648 -0.3753826\n",
       "23   -0.26899663   0.2696492 -0.767890300  0.03377801  -0.4326177 -0.4237380\n",
       "24   -0.05977826   0.4927744 -0.636908983  0.01453962  -0.4160929 -0.4085656\n",
       "25   -0.01453655   0.4218985 -0.550825780  0.11892970  -0.3975321 -0.3909282\n",
       "26    0.35712820   0.7338884 -0.071294845  0.54758637  -0.3797597 -0.3824662\n",
       "27    0.07013960   0.6419493 -0.529893170  0.08499001  -0.4149420 -0.4100893\n",
       "28    0.16323890   0.6797757 -0.368124872  0.40099882  -0.4006108 -0.4026553\n",
       "29    0.14342358   0.7561970 -0.400380157  0.29210818  -0.4336143 -0.4279028\n",
       "30    0.03898443   0.4454914 -0.576126344  0.05258802  -0.3703050 -0.3467483\n",
       "⋮    ⋮            ⋮          ⋮            ⋮            ⋮          ⋮         \n",
       "1314 -0.985251735 -0.6322105  1.95893324  -0.609266686 1.2700042  1.6615857 \n",
       "1315 -0.805815196 -0.4979697  0.15621526   0.233139965 0.8693331  1.1250767 \n",
       "1316 -0.844674148 -0.5543590 -0.20189337  -0.005079389 0.8852838  1.1912252 \n",
       "1317 -0.810615343 -0.5166688  0.13658364   0.147878663 0.8982580  1.1634043 \n",
       "1318 -0.894218984 -0.5956295 -0.50723782  -0.285954464 0.9127350  1.2123083 \n",
       "1319 -0.869760472 -0.5755682 -0.32571787  -0.166512115 0.9248766  1.2053414 \n",
       "1320 -0.884736406 -0.5932069 -0.38937862  -0.089852867 0.9370412  1.2262367 \n",
       "1321 -0.874482142 -0.5842660 -0.02430943  -0.303847793 1.0063889  1.2830902 \n",
       "1322 -0.806521485 -0.5605758  0.17791617   0.183839038 0.9417896  1.2416585 \n",
       "1323 -0.693201405 -0.4615248  0.26166379   0.061792407 0.8060950  1.0724072 \n",
       "1324 -0.832144065 -0.5639713 -0.04961483  -0.170418430 0.9266830  1.1877108 \n",
       "1325 -0.883101478 -0.6193877 -0.15914320  -0.305220655 1.0471685  1.3806353 \n",
       "1326 -0.746316923 -0.4775971  0.02111772   0.005836733 0.8122182  1.1013159 \n",
       "1327 -0.851148460 -0.5761617 -0.30688364  -0.047467254 0.9181681  1.1953286 \n",
       "1328 -0.857858201 -0.5682131 -0.42362183  -0.155133874 0.8505723  1.0240356 \n",
       "1329 -0.283946409 -0.3381512 -0.13380653   0.810035150 0.1685622  0.1350149 \n",
       "1330 -0.202409316 -0.3340358  0.31632193   1.626684853 0.2925801  0.1403462 \n",
       "1331  0.005919658 -0.2785318  0.52419180   1.268234379 0.2170169  0.1449470 \n",
       "1332 -0.285895242 -0.3860082  0.30212051   1.177429151 0.3528204  0.2728142 \n",
       "1333 -0.308261047 -0.4063127  0.21905150   1.383168575 0.3757267  0.2367995 \n",
       "1334 -0.232557375 -0.3384333  0.22085310   1.180641586 0.2867938  0.1912463 \n",
       "1335  0.019692285 -0.1693626  0.58417311   0.068176559 0.2947860  0.3384020 \n",
       "1336  0.031986938 -0.1514223  0.78561246   0.125445404 0.3200179  0.3749219 \n",
       "1337 -0.076689948 -0.3026209  1.11745794   0.046313384 0.5652437  0.6521442 \n",
       "1338 -0.325447403 -0.4473593  0.95346509   1.291409181 0.6177643  0.6150492 \n",
       "1339 -0.367079191 -0.4455595  0.25393207   1.297021672 0.4521848  0.4029562 \n",
       "1340 -0.974958233 -0.6171987 -1.03543903  -0.510869629 0.6818327  0.6788524 \n",
       "1341 -1.010495012 -0.6328040 -1.06731128  -0.606593294 0.8089376  0.8980025 \n",
       "1342 -0.991909159 -0.6243398 -1.07763978  -0.599928945 0.7218532  0.7524129 \n",
       "1343 -0.987658348 -0.6263829 -1.07472265  -0.581707979 0.6876022  0.7125710 \n",
       "     Carter4    Carter5      Carter6     CI           ⋯ X942.593_5nm\n",
       "1     0.5424116 -0.5806553    0.09992622 -0.483739370 ⋯ -0.96357607 \n",
       "2     0.4795027 -0.5981798   -0.08664286 -0.491678568 ⋯ -1.20683934 \n",
       "3     0.5872815 -0.6093265    0.74494046 -0.479349708 ⋯ -0.71323887 \n",
       "4     0.5500888 -0.6164675    0.90841418 -0.495102400 ⋯ -0.60299473 \n",
       "5     0.5577039 -0.6183180    0.52153170 -0.506770098 ⋯ -0.84101020 \n",
       "6    -0.5374065  0.0455680   -0.25820702 -0.660619655 ⋯  0.04610180 \n",
       "7    -0.6859238  0.6804455   -0.45143659  0.506543753 ⋯  0.48143322 \n",
       "8    -0.7502802  0.8023426   -0.52249126  0.670928120 ⋯  0.33645926 \n",
       "9    -0.8193800  0.1591539   -0.59322608  0.032833458 ⋯  0.44100477 \n",
       "10   -0.7931232  0.5490353   -0.52706329  0.482717065 ⋯  0.83010253 \n",
       "11   -0.6660437  0.7520179   -0.41906546  0.652997731 ⋯  0.79233324 \n",
       "12   -0.6972832  0.6467937   -0.54539847  0.513202024 ⋯  0.18124028 \n",
       "13   -0.7741491  0.8150593   -0.46440950  0.718210590 ⋯  0.97119184 \n",
       "14   -0.6633302  0.5163240   -0.50962183  0.456769656 ⋯  0.08917472 \n",
       "15   -0.7019671  0.4876449   -0.52900124  0.478833909 ⋯  0.34027231 \n",
       "16   -0.7912930  0.3577798   -0.55707315  0.278211809 ⋯  0.56475848 \n",
       "17   -0.8826114  0.1836606   -0.59745004  0.003077206 ⋯  0.55103387 \n",
       "18   -0.7226917  0.7875196   -0.57896434  0.709428878 ⋯  0.42526149 \n",
       "19   -0.6318070  0.9208336   -0.51669626  1.006270342 ⋯  0.09873284 \n",
       "20   -0.7024158  0.6511866   -0.44671404  0.639826381 ⋯  0.71194264 \n",
       "21   -0.7472375  0.5150564   -0.70202355  0.594009270 ⋯ -0.25770586 \n",
       "22   -0.7343606  0.2908144   -0.55181437  0.320464557 ⋯  0.24842462 \n",
       "23   -0.8350049  0.4763594   -0.78370867  0.368491743 ⋯ -0.32818414 \n",
       "24   -0.8139046  0.3211042   -0.67920101  0.278062203 ⋯  0.15207816 \n",
       "25   -0.7435987  0.4271650   -0.63671684  0.397594099 ⋯  0.03263663 \n",
       "26   -0.6954621  0.8204556   -0.44540640  0.757097262 ⋯  0.64767073 \n",
       "27   -0.8116297  0.3546705   -0.61929420  0.231173420 ⋯  0.45198959 \n",
       "28   -0.7745960  0.5372277   -0.56210615  0.410459325 ⋯  0.60226214 \n",
       "29   -0.8571902  0.6453963   -0.61377201  0.567440508 ⋯  0.75731246 \n",
       "30   -0.6950188  0.1310310   -0.64145821  0.195269056 ⋯  0.08345264 \n",
       "⋮    ⋮          ⋮            ⋮           ⋮            ⋱ ⋮           \n",
       "1314 0.88205931 -0.714104724  0.77308180 -0.61918151  ⋯  0.61975093 \n",
       "1315 0.54087851 -0.665221352  1.07604601 -0.54608792  ⋯ -0.60547806 \n",
       "1316 0.57837180 -0.664896800  0.59941620 -0.52260394  ⋯ -1.08361558 \n",
       "1317 0.57479407 -0.666596034  1.06061775 -0.53695252  ⋯ -0.67475675 \n",
       "1318 0.61952430 -0.654523988  0.12073556 -0.51065158  ⋯ -1.27094478 \n",
       "1319 0.62785801 -0.653575351  0.37060755 -0.51866885  ⋯ -1.13233842 \n",
       "1320 0.63760967 -0.659531998  0.29754908 -0.52045707  ⋯ -1.23101763 \n",
       "1321 0.68097398 -0.671403909  0.84299459 -0.55135253  ⋯ -0.87729969 \n",
       "1322 0.62977082 -0.666512600  1.16905773 -0.53009782  ⋯ -0.74182739 \n",
       "1323 0.50563268 -0.653659076  1.24667882 -0.51318256  ⋯ -0.43657956 \n",
       "1324 0.60660359 -0.662168114  0.78268325 -0.53971649  ⋯ -0.85096077 \n",
       "1325 0.74056828 -0.668159251  0.72636069 -0.53075762  ⋯ -1.14300943 \n",
       "1326 0.51818712 -0.653070032  0.93642965 -0.50403502  ⋯ -0.77886941 \n",
       "1327 0.63378641 -0.644213381  0.39877353 -0.50816845  ⋯ -1.13998462 \n",
       "1328 0.56204257 -0.629897310  0.09233438 -0.51440013  ⋯ -1.13088714 \n",
       "1329 0.09243231  0.035215301 -0.42569773  0.71228524  ⋯ -0.49508414 \n",
       "1330 0.19356686  0.013591229 -0.39763523  0.78227568  ⋯  0.02064392 \n",
       "1331 0.16892074  0.225291797 -0.12846850  0.88022662  ⋯  0.34085212 \n",
       "1332 0.27916511  0.080958250 -0.20174334  0.81735235  ⋯ -0.25844536 \n",
       "1333 0.29037630  0.004925978 -0.36225371  0.61089341  ⋯ -0.36013417 \n",
       "1334 0.18857187  0.006812019 -0.27968429  0.58367563  ⋯ -0.03311545 \n",
       "1335 0.20408684 -0.113741070  0.64606788  0.27391412  ⋯  0.02861684 \n",
       "1336 0.20813897 -0.089186855  0.93600631  0.34846317  ⋯  0.24534022 \n",
       "1337 0.44768484 -0.292891941  1.49101922  0.01096159  ⋯  0.21324790 \n",
       "1338 0.46720724 -0.179065354  0.77922130  0.42775647  ⋯  0.22696615 \n",
       "1339 0.33101482 -0.167302213 -0.02900325  0.47256632  ⋯ -0.11975122 \n",
       "1340 0.38678050 -0.584357132 -0.79943797 -0.55706353  ⋯ -1.66206525 \n",
       "1341 0.47155280 -0.623426723 -0.79349245 -0.54736951  ⋯ -1.74019560 \n",
       "1342 0.38998935 -0.607416446 -0.82520505 -0.57058338  ⋯ -1.76382857 \n",
       "1343 0.38918003 -0.594753867 -0.83142339 -0.52355599  ⋯ -1.73252806 \n",
       "     X947.593_5nm X952.593_5nm X957.593_5nm X962.593_5nm X967.593_5nm\n",
       "1    -0.95561661  -0.95645866  -0.94830690  -0.94446781  -0.94979260 \n",
       "2    -1.20066382  -1.20539401  -1.19855903  -1.19531678  -1.20139269 \n",
       "3    -0.70725207  -0.70701212  -0.69637901  -0.69036877  -0.69648949 \n",
       "4    -0.59679494  -0.59617037  -0.58722796  -0.58301243  -0.59001804 \n",
       "5    -0.83532197  -0.83664392  -0.82798576  -0.82399432  -0.83101629 \n",
       "6     0.05018974   0.05327911   0.05974910   0.06306154   0.05857101 \n",
       "7     0.49416407   0.52399390   0.56633299   0.61225989   0.65057849 \n",
       "8     0.34406894   0.36232379   0.39059974   0.42121130   0.44576782 \n",
       "9     0.44249180   0.46280132   0.50201468   0.54715358   0.58393639 \n",
       "10    0.82819219   0.83275093   0.83973702   0.84595799   0.84535815 \n",
       "11    0.79475904   0.81043258   0.83440118   0.85503331   0.86013984 \n",
       "12    0.18425831   0.19797137   0.22365997   0.25042186   0.26855534 \n",
       "13    0.97036830   0.98084620   0.99948410   1.02491203   1.04993457 \n",
       "14    0.10009428   0.12870148   0.17113244   0.21566344   0.25221152 \n",
       "15    0.34359639   0.35975888   0.38932880   0.42181319   0.44626191 \n",
       "16    0.57234777   0.58775936   0.60473551   0.62014595   0.62981273 \n",
       "17    0.55660841   0.58742385   0.63597483   0.69135244   0.74016343 \n",
       "18    0.42336846   0.42438865   0.43026560   0.43629976   0.43689452 \n",
       "19    0.09370523   0.09080683   0.09452194   0.09912119   0.09971534 \n",
       "20    0.70725479   0.70797273   0.71151296   0.71622028   0.71767651 \n",
       "21   -0.26420631  -0.27187978  -0.26987993  -0.26837803  -0.27417477 \n",
       "22    0.24727179   0.24810326   0.25489085   0.25898567   0.25331205 \n",
       "23   -0.33274372  -0.34050980  -0.33726650  -0.33459885  -0.34035971 \n",
       "24    0.14758920   0.14668750   0.15583182   0.16348179   0.16005062 \n",
       "25    0.03124970   0.02884219   0.03383183   0.03722837   0.03208234 \n",
       "26    0.64541824   0.65283676   0.66946233   0.68874816   0.70194641 \n",
       "27    0.45476814   0.46435840   0.47992533   0.49533833   0.50376585 \n",
       "28    0.60184190   0.60995189   0.62585599   0.64266743   0.65180816 \n",
       "29    0.75343067   0.75631321   0.76419081   0.77262748   0.77453782 \n",
       "30    0.08519186   0.08786975   0.09654297   0.10504679   0.10741856 \n",
       "⋮    ⋮            ⋮            ⋮            ⋮            ⋮           \n",
       "1314  0.62913082   0.644855924  0.66314666   0.67708691   0.68046262 \n",
       "1315 -0.59558161  -0.590922016 -0.57816518  -0.56954337  -0.57110270 \n",
       "1316 -1.08093193  -1.087738815 -1.08234341  -1.08055214  -1.08927832 \n",
       "1317 -0.66642297  -0.663971187 -0.65230447  -0.64415189  -0.64588233 \n",
       "1318 -1.26192474  -1.263979696 -1.25260289  -1.24360673  -1.24346599 \n",
       "1319 -1.12491923  -1.127260709 -1.11696105  -1.10932271  -1.11121184 \n",
       "1320 -1.22462045  -1.229264764 -1.22150876  -1.21631572  -1.21960042 \n",
       "1321 -0.86836254  -0.866720872 -0.85368143  -0.84380489  -0.84448832 \n",
       "1322 -0.73540260  -0.735384692 -0.72579907  -0.72009023  -0.72466231 \n",
       "1323 -0.42545645  -0.417838214 -0.40214962  -0.39086218  -0.39121497 \n",
       "1324 -0.84287763  -0.841549118 -0.82845770  -0.81932650  -0.82201538 \n",
       "1325 -1.13830283  -1.143741953 -1.13738570  -1.13371331  -1.13866749 \n",
       "1326 -0.77255983  -0.772846851 -0.76225002  -0.75519378  -0.75902844 \n",
       "1327 -1.13319121  -1.136312394 -1.12678991  -1.11962698  -1.12162201 \n",
       "1328 -1.12101101  -1.120737733 -1.10816181  -1.09846492  -1.09815548 \n",
       "1329 -0.48352319  -0.477190507 -0.46556898  -0.45931520  -0.46277985 \n",
       "1330  0.03650849   0.052065292  0.06993901   0.08025303   0.07794882 \n",
       "1331  0.36358668   0.388495043  0.41249879   0.42810809   0.43079483 \n",
       "1332 -0.24523608  -0.234381948 -0.21862789  -0.20898461  -0.21100334 \n",
       "1333 -0.34757496  -0.338526324 -0.32490087  -0.31798077  -0.32272045 \n",
       "1334 -0.01293650   0.006882276  0.02840944   0.04178303   0.04221471 \n",
       "1335  0.02917192   0.027590407  0.03116456   0.03322133   0.02921351 \n",
       "1336  0.23773120   0.229343169  0.22846518   0.22894784   0.22460656 \n",
       "1337  0.21986826   0.227050660  0.23629657   0.24183278   0.23978749 \n",
       "1338  0.24533522   0.266325611  0.28783172   0.30197029   0.30453355 \n",
       "1339 -0.10158672  -0.085082566 -0.06541271  -0.05255506  -0.05142957 \n",
       "1340 -1.65696893  -1.666734912 -1.66136710  -1.65867924  -1.66479224 \n",
       "1341 -1.73549857  -1.746156640 -1.74105136  -1.73845369  -1.74458262 \n",
       "1342 -1.76120486  -1.774514742 -1.77227137  -1.77233857  -1.78072299 \n",
       "1343 -1.72898105  -1.741004557 -1.73711840  -1.73557757  -1.74287138 \n",
       "     X972.593_5nm X977.593_5nm X982.593_5nm X987.593_5nm\n",
       "1    -0.94150565  -0.92258338  -0.91148004  -0.90693523 \n",
       "2    -1.19213686  -1.17401787  -1.16547870  -1.16210811 \n",
       "3    -0.69357473  -0.67998655  -0.67291343  -0.67270010 \n",
       "4    -0.58940618  -0.57913482  -0.57516667  -0.57765872 \n",
       "5    -0.82606724  -0.80922208  -0.79879298  -0.79492490 \n",
       "6     0.05455537   0.05826897   0.05775155   0.04950531 \n",
       "7     0.67276928   0.68836575   0.69841520   0.70261233 \n",
       "8     0.46273110   0.48118246   0.49559064   0.50251194 \n",
       "9     0.60765550   0.62913634   0.64573390   0.65455262 \n",
       "10    0.83634058   0.83585482   0.83813696   0.83534185 \n",
       "11    0.85191525   0.85195896   0.85512676   0.85323669 \n",
       "12    0.28132041   0.29783159   0.31031625   0.31539224 \n",
       "13    1.06414627   1.08167703   1.09827452   1.10505721 \n",
       "14    0.28070207   0.30753937   0.32654319   0.33585346 \n",
       "15    0.46151379   0.47757777   0.48977295   0.49533144 \n",
       "16    0.63374827   0.64493260   0.65530315   0.65744182 \n",
       "17    0.77132650   0.79437919   0.81059491   0.81891830 \n",
       "18    0.43454184   0.44040236   0.44598161   0.44584080 \n",
       "19    0.10158579   0.11083078   0.11769013   0.11952824 \n",
       "20    0.71435146   0.71988987   0.72687496   0.72760958 \n",
       "21   -0.27591599  -0.27018683  -0.26832292  -0.27004421 \n",
       "22    0.24672765   0.25146554   0.25598303   0.25418278 \n",
       "23   -0.34169637  -0.33528731  -0.33305139  -0.33452751 \n",
       "24    0.15439957   0.15757181   0.15946761   0.15623374 \n",
       "25    0.02809198   0.03362271   0.03725980   0.03559384 \n",
       "26    0.70727778   0.71859164   0.72893627   0.73105851 \n",
       "27    0.50646926   0.51539463   0.52301706   0.52388222 \n",
       "28    0.65262525   0.65924695   0.66605272   0.66730991 \n",
       "29    0.76864719   0.77077717   0.77491993   0.77384533 \n",
       "30    0.10633614   0.10682399   0.10209349   0.09239451 \n",
       "⋮    ⋮            ⋮            ⋮            ⋮           \n",
       "1314  0.68055432   0.69636732   0.714014475  0.718807100\n",
       "1315 -0.56554019  -0.55160708  -0.544516380 -0.544002858\n",
       "1316 -1.08476067  -1.07161668  -1.067893927 -1.069650085\n",
       "1317 -0.63981645  -0.62591991  -0.619496840 -0.619339856\n",
       "1318 -1.22824473  -1.20571695  -1.194011857 -1.187559392\n",
       "1319 -1.10093794  -1.08487779  -1.079274147 -1.078167381\n",
       "1320 -1.20801772  -1.18931236  -1.181179508 -1.177838511\n",
       "1321 -0.83687271  -0.82372669  -0.819766823 -0.820674988\n",
       "1322 -0.71997601  -0.70637515  -0.700446665 -0.701139990\n",
       "1323 -0.38817594  -0.37805436  -0.374315545 -0.376987991\n",
       "1324 -0.81516891  -0.79942877  -0.791542084 -0.789793094\n",
       "1325 -1.13010107  -1.11486494  -1.109792961 -1.109241195\n",
       "1326 -0.75429003  -0.74174397  -0.737155156 -0.738310731\n",
       "1327 -1.11185573  -1.09736204  -1.093524664 -1.093456178\n",
       "1328 -1.08490138  -1.06456214  -1.054305343 -1.049349738\n",
       "1329 -0.45732985  -0.43911621  -0.425368925 -0.419740718\n",
       "1330  0.07957858   0.09838058   0.116467803  0.123198188\n",
       "1331  0.43255512   0.45067578   0.469842497  0.477562382\n",
       "1332 -0.20778811  -0.19137525  -0.178288622 -0.174224262\n",
       "1333 -0.31997626  -0.30260377  -0.288398564 -0.283154331\n",
       "1334  0.04607773   0.06595237   0.084947140  0.093472621\n",
       "1335  0.02950979   0.04185319   0.051924101  0.054061053\n",
       "1336  0.22147650   0.22849321   0.233733681  0.232062911\n",
       "1337  0.23962331   0.25268945   0.264971521  0.268029217\n",
       "1338  0.30893646   0.33056427   0.352494916  0.361970302\n",
       "1339 -0.04559468  -0.02444610  -0.005222619  0.003328373\n",
       "1340 -1.65023504  -1.62748472  -1.617081986 -1.610961695\n",
       "1341 -1.72933831  -1.70634683  -1.696314629 -1.690342936\n",
       "1342 -1.76795480  -1.74876182  -1.743046313 -1.740564850\n",
       "1343 -1.72964285  -1.70986596  -1.703464779 -1.700610705"
      ]
     },
     "metadata": {},
     "output_type": "display_data"
    }
   ],
   "source": [
    "columnwise_robust_scale(imputed_data)"
   ]
  },
  {
   "cell_type": "code",
   "execution_count": 108,
   "metadata": {
    "vscode": {
     "languageId": "r"
    }
   },
   "outputs": [
    {
     "name": "stdout",
     "output_type": "stream",
     "text": [
      " [1] \"method\"       \"modelInfo\"    \"modelType\"    \"results\"      \"pred\"        \n",
      " [6] \"bestTune\"     \"call\"         \"dots\"         \"metric\"       \"control\"     \n",
      "[11] \"finalModel\"   \"preProcess\"   \"trainingData\" \"ptype\"        \"resample\"    \n",
      "[16] \"resampledCM\"  \"perfNames\"    \"maximize\"     \"yLimits\"      \"times\"       \n",
      "[21] \"levels\"       \"terms\"        \"coefnames\"    \"xlevels\"     \n",
      "[1] \"preprocessing raster at Data/Ground_Validation/Imagery/Quads/BisonGulchQuads.envi\"\n",
      "[1] \"Converted to Data frame?\"\n",
      "[1] TRUE\n",
      "[1] \"Noisy columns removed\"\n",
      "[1] TRUE\n",
      "[1] \"Filtered\"\n",
      "[1] TRUE\n",
      "[1] \"Imputing...\"\n"
     ]
    },
    {
     "name": "stderr",
     "output_type": "stream",
     "text": [
      "Using spline to predict value at new bands...\n",
      "\n",
      "Beware the spectra are now partially smoothed.\n",
      "\n"
     ]
    },
    {
     "name": "stdout",
     "output_type": "stream",
     "text": [
      "[1] \"Imputing...\"\n"
     ]
    },
    {
     "name": "stderr",
     "output_type": "stream",
     "text": [
      "\u001b[1m\u001b[22m`.cols` has been renamed and is deprecated, please use `.vars`\n"
     ]
    },
    {
     "name": "stdout",
     "output_type": "stream",
     "text": [
      "          x        y z\n",
      "1 -148.9508 63.80701 4\n",
      "2 -148.9508 63.80701 4\n",
      "3 -148.9508 63.80701 4\n",
      "4 -148.9508 63.80701 4\n",
      "5 -148.9508 63.80701 4\n",
      "6 -148.9508 63.80701 4\n",
      "          x        y z\n",
      "1 -148.9508 63.80701 4\n",
      "2 -148.9508 63.80701 4\n",
      "3 -148.9508 63.80701 4\n",
      "4 -148.9508 63.80701 4\n",
      "5 -148.9508 63.80701 4\n",
      "6 -148.9508 63.80701 4\n",
      "[1] \"Attempting to save to ./validation_saved_output.grd\"\n",
      "[1] \"Converted to Raster\"\n",
      "Reading layer `Bisoon_Quadrats_georeferenced' from data source \n",
      "  `/home/krbundy/GitHub/lecospec/Data/Vectors/Bisoon_Quadrats_georeferenced.shp' \n",
      "  using driver `ESRI Shapefile'\n",
      "Simple feature collection with 9 features and 3 fields\n",
      "Geometry type: POLYGON\n",
      "Dimension:     XY\n",
      "Bounding box:  xmin: -148.9524 ymin: 63.80698 xmax: -148.9508 ymax: 63.80701\n",
      "Geodetic CRS:  WGS 84\n",
      "[1] \"Bisongulch0\"  \"Bisongulch70\" \"Bisongulch80\" \"Bisongulch10\" \"Bisongulch90\"\n",
      "[6] \"Bisongulch20\" \"Bisongulch50\" \"Bisongulch30\" \"Bisongulch40\"\n",
      "Simple feature collection with 1 feature and 3 fields\n",
      "Geometry type: POLYGON\n",
      "Dimension:     XY\n",
      "Bounding box:  xmin: -148.9508 ymin: 63.807 xmax: -148.9508 ymax: 63.80701\n",
      "Geodetic CRS:  GCS_unknown\n",
      "  CLASS_ID  CLASS_NAME AREA                       geometry\n",
      "1        1 Bisongulch0  612 POLYGON ((-148.9508 63.807,...\n"
     ]
    },
    {
     "name": "stderr",
     "output_type": "stream",
     "text": [
      "Saving 6.67 x 6.67 in image\n",
      "\n"
     ]
    },
    {
     "name": "stdout",
     "output_type": "stream",
     "text": [
      "Simple feature collection with 1 feature and 3 fields\n",
      "Geometry type: POLYGON\n",
      "Dimension:     XY\n",
      "Bounding box:  xmin: -148.952 ymin: 63.80699 xmax: -148.952 ymax: 63.807\n",
      "Geodetic CRS:  GCS_unknown\n",
      "  CLASS_ID   CLASS_NAME AREA                       geometry\n",
      "2        7 Bisongulch70  649 POLYGON ((-148.952 63.80699...\n"
     ]
    },
    {
     "name": "stderr",
     "output_type": "stream",
     "text": [
      "Saving 6.67 x 6.67 in image\n",
      "\n"
     ]
    },
    {
     "name": "stdout",
     "output_type": "stream",
     "text": [
      "Simple feature collection with 1 feature and 3 fields\n",
      "Geometry type: POLYGON\n",
      "Dimension:     XY\n",
      "Bounding box:  xmin: -148.9522 ymin: 63.80699 xmax: -148.9522 ymax: 63.807\n",
      "Geodetic CRS:  GCS_unknown\n",
      "  CLASS_ID   CLASS_NAME AREA                       geometry\n",
      "3        8 Bisongulch80  661 POLYGON ((-148.9522 63.8069...\n"
     ]
    },
    {
     "name": "stderr",
     "output_type": "stream",
     "text": [
      "Saving 6.67 x 6.67 in image\n",
      "\n"
     ]
    },
    {
     "name": "stdout",
     "output_type": "stream",
     "text": [
      "Simple feature collection with 1 feature and 3 fields\n",
      "Geometry type: POLYGON\n",
      "Dimension:     XY\n",
      "Bounding box:  xmin: -148.951 ymin: 63.80699 xmax: -148.9509 ymax: 63.807\n",
      "Geodetic CRS:  GCS_unknown\n",
      "  CLASS_ID   CLASS_NAME AREA                       geometry\n",
      "4        2 Bisongulch10  649 POLYGON ((-148.9509 63.8069...\n"
     ]
    },
    {
     "name": "stderr",
     "output_type": "stream",
     "text": [
      "Saving 6.67 x 6.67 in image\n",
      "\n"
     ]
    },
    {
     "name": "stdout",
     "output_type": "stream",
     "text": [
      "Simple feature collection with 1 feature and 3 fields\n",
      "Geometry type: POLYGON\n",
      "Dimension:     XY\n",
      "Bounding box:  xmin: -148.9524 ymin: 63.80699 xmax: -148.9524 ymax: 63.807\n",
      "Geodetic CRS:  GCS_unknown\n",
      "  CLASS_ID   CLASS_NAME AREA                       geometry\n",
      "5        9 Bisongulch90  648 POLYGON ((-148.9524 63.8069...\n"
     ]
    },
    {
     "name": "stderr",
     "output_type": "stream",
     "text": [
      "Saving 6.67 x 6.67 in image\n",
      "\n"
     ]
    },
    {
     "name": "stdout",
     "output_type": "stream",
     "text": [
      "Simple feature collection with 1 feature and 3 fields\n",
      "Geometry type: POLYGON\n",
      "Dimension:     XY\n",
      "Bounding box:  xmin: -148.9512 ymin: 63.80699 xmax: -148.9512 ymax: 63.807\n",
      "Geodetic CRS:  GCS_unknown\n",
      "  CLASS_ID   CLASS_NAME AREA                       geometry\n",
      "6        3 Bisongulch20  574 POLYGON ((-148.9512 63.8069...\n"
     ]
    },
    {
     "name": "stderr",
     "output_type": "stream",
     "text": [
      "Saving 6.67 x 6.67 in image\n",
      "\n"
     ]
    },
    {
     "name": "stdout",
     "output_type": "stream",
     "text": [
      "Simple feature collection with 1 feature and 3 fields\n",
      "Geometry type: POLYGON\n",
      "Dimension:     XY\n",
      "Bounding box:  xmin: -148.9518 ymin: 63.80699 xmax: -148.9518 ymax: 63.807\n",
      "Geodetic CRS:  GCS_unknown\n",
      "  CLASS_ID   CLASS_NAME AREA                       geometry\n",
      "7        6 Bisongulch50  673 POLYGON ((-148.9518 63.8069...\n"
     ]
    },
    {
     "name": "stderr",
     "output_type": "stream",
     "text": [
      "Saving 6.67 x 6.67 in image\n",
      "\n"
     ]
    },
    {
     "name": "stdout",
     "output_type": "stream",
     "text": [
      "Simple feature collection with 1 feature and 3 fields\n",
      "Geometry type: POLYGON\n",
      "Dimension:     XY\n",
      "Bounding box:  xmin: -148.9514 ymin: 63.80699 xmax: -148.9514 ymax: 63.807\n",
      "Geodetic CRS:  GCS_unknown\n",
      "  CLASS_ID   CLASS_NAME AREA                       geometry\n",
      "8        4 Bisongulch30  673 POLYGON ((-148.9514 63.8069...\n"
     ]
    },
    {
     "name": "stderr",
     "output_type": "stream",
     "text": [
      "Saving 6.67 x 6.67 in image\n",
      "\n"
     ]
    },
    {
     "name": "stdout",
     "output_type": "stream",
     "text": [
      "Simple feature collection with 1 feature and 3 fields\n",
      "Geometry type: POLYGON\n",
      "Dimension:     XY\n",
      "Bounding box:  xmin: -148.9516 ymin: 63.80698 xmax: -148.9516 ymax: 63.80699\n",
      "Geodetic CRS:  GCS_unknown\n",
      "  CLASS_ID   CLASS_NAME AREA                       geometry\n",
      "9        5 Bisongulch40  674 POLYGON ((-148.9516 63.8069...\n"
     ]
    },
    {
     "name": "stderr",
     "output_type": "stream",
     "text": [
      "Saving 6.67 x 6.67 in image\n",
      "\n"
     ]
    },
    {
     "name": "stdout",
     "output_type": "stream",
     "text": [
      "[1] \"z\"\n"
     ]
    },
    {
     "name": "stderr",
     "output_type": "stream",
     "text": [
      "Saving 6.67 x 6.67 in image\n",
      "\n",
      "Saving 6.67 x 6.67 in image\n",
      "\n",
      "Saving 6.67 x 6.67 in image\n",
      "\n",
      "Saving 6.67 x 6.67 in image\n",
      "\n",
      "Saving 6.67 x 6.67 in image\n",
      "\n",
      "Saving 6.67 x 6.67 in image\n",
      "\n",
      "Saving 6.67 x 6.67 in image\n",
      "\n",
      "Saving 6.67 x 6.67 in image\n",
      "\n",
      "Saving 6.67 x 6.67 in image\n",
      "\n"
     ]
    },
    {
     "name": "stdout",
     "output_type": "stream",
     "text": [
      "[1] \"preprocessing raster at Data/Ground_Validation/Imagery/Quads/ChatanikaQuads.envi\"\n",
      "[1] \"Converted to Data frame?\"\n",
      "[1] TRUE\n",
      "[1] \"Noisy columns removed\"\n",
      "[1] TRUE\n",
      "[1] \"Filtered\"\n",
      "[1] TRUE\n",
      "[1] \"Imputing...\"\n"
     ]
    },
    {
     "name": "stderr",
     "output_type": "stream",
     "text": [
      "Using spline to predict value at new bands...\n",
      "\n",
      "Beware the spectra are now partially smoothed.\n",
      "\n"
     ]
    },
    {
     "name": "stdout",
     "output_type": "stream",
     "text": [
      "[1] \"Imputing...\"\n"
     ]
    },
    {
     "name": "stderr",
     "output_type": "stream",
     "text": [
      "\u001b[1m\u001b[22m`.cols` has been renamed and is deprecated, please use `.vars`\n"
     ]
    },
    {
     "name": "stdout",
     "output_type": "stream",
     "text": [
      "          x        y z\n",
      "1 -147.4827 65.15287 4\n",
      "2 -147.4827 65.15287 4\n",
      "3 -147.4827 65.15287 4\n",
      "4 -147.4827 65.15287 4\n",
      "5 -147.4827 65.15287 4\n",
      "6 -147.4827 65.15287 4\n",
      "          x        y z\n",
      "1 -147.4827 65.15287 4\n",
      "2 -147.4827 65.15287 4\n",
      "3 -147.4827 65.15287 4\n",
      "4 -147.4827 65.15287 4\n",
      "5 -147.4827 65.15287 4\n",
      "6 -147.4827 65.15287 4\n",
      "[1] \"Attempting to save to ./validation_saved_output.grd\"\n",
      "[1] \"Converted to Raster\"\n",
      "Reading layer `ChatanikaQuads_georeferenced' from data source \n",
      "  `/home/krbundy/GitHub/lecospec/Data/Vectors/ChatanikaQuads_georeferenced.shp' \n",
      "  using driver `ESRI Shapefile'\n",
      "Simple feature collection with 11 features and 3 fields\n",
      "Geometry type: POLYGON\n",
      "Dimension:     XY\n",
      "Bounding box:  xmin: -147.4827 ymin: 65.15281 xmax: -147.4806 ymax: 65.15287\n",
      "Geodetic CRS:  WGS 84\n",
      " [1] \"Chatanika100\" \"Chatanika90\"  \"Chatanika70\"  \"Chatanika80\"  \"Chatanika60\" \n",
      " [6] \"Chatanika50\"  \"Chatanika40\"  \"Chatanika30\"  \"Chatanika20\"  \"Chatanika10\" \n",
      "[11] \"Chatanika0\"  \n",
      "Simple feature collection with 1 feature and 3 fields\n",
      "Geometry type: POLYGON\n",
      "Dimension:     XY\n",
      "Bounding box:  xmin: -147.4827 ymin: 65.15286 xmax: -147.4827 ymax: 65.15287\n",
      "Geodetic CRS:  GCS_unknown\n",
      "    CLASS_NAME CLASS_ID CLASS_CLRS                       geometry\n",
      "1 Chatanika100       11    0,0,128 POLYGON ((-147.4827 65.1528...\n"
     ]
    },
    {
     "name": "stderr",
     "output_type": "stream",
     "text": [
      "Saving 6.67 x 6.67 in image\n",
      "\n"
     ]
    },
    {
     "name": "stdout",
     "output_type": "stream",
     "text": [
      "Simple feature collection with 1 feature and 3 fields\n",
      "Geometry type: POLYGON\n",
      "Dimension:     XY\n",
      "Bounding box:  xmin: -147.4825 ymin: 65.15285 xmax: -147.4825 ymax: 65.15286\n",
      "Geodetic CRS:  GCS_unknown\n",
      "   CLASS_NAME CLASS_ID CLASS_CLRS                       geometry\n",
      "2 Chatanika90       10    0,255,0 POLYGON ((-147.4825 65.1528...\n"
     ]
    },
    {
     "name": "stderr",
     "output_type": "stream",
     "text": [
      "Saving 6.67 x 6.67 in image\n",
      "\n"
     ]
    },
    {
     "name": "stdout",
     "output_type": "stream",
     "text": [
      "Simple feature collection with 1 feature and 3 fields\n",
      "Geometry type: POLYGON\n",
      "Dimension:     XY\n",
      "Bounding box:  xmin: -147.4821 ymin: 65.15285 xmax: -147.4821 ymax: 65.15286\n",
      "Geodetic CRS:  GCS_unknown\n",
      "   CLASS_NAME CLASS_ID CLASS_CLRS                       geometry\n",
      "3 Chatanika70        8  0,128,128 POLYGON ((-147.4821 65.1528...\n"
     ]
    },
    {
     "name": "stderr",
     "output_type": "stream",
     "text": [
      "Saving 6.67 x 6.67 in image\n",
      "\n"
     ]
    },
    {
     "name": "stdout",
     "output_type": "stream",
     "text": [
      "Simple feature collection with 1 feature and 3 fields\n",
      "Geometry type: POLYGON\n",
      "Dimension:     XY\n",
      "Bounding box:  xmin: -147.4823 ymin: 65.15285 xmax: -147.4823 ymax: 65.15286\n",
      "Geodetic CRS:  GCS_unknown\n",
      "   CLASS_NAME CLASS_ID CLASS_CLRS                       geometry\n",
      "4 Chatanika80        9    128,0,0 POLYGON ((-147.4823 65.1528...\n"
     ]
    },
    {
     "name": "stderr",
     "output_type": "stream",
     "text": [
      "Saving 6.67 x 6.67 in image\n",
      "\n"
     ]
    },
    {
     "name": "stdout",
     "output_type": "stream",
     "text": [
      "Simple feature collection with 1 feature and 3 fields\n",
      "Geometry type: POLYGON\n",
      "Dimension:     XY\n",
      "Bounding box:  xmin: -147.4819 ymin: 65.15285 xmax: -147.4819 ymax: 65.15286\n",
      "Geodetic CRS:  GCS_unknown\n",
      "   CLASS_NAME CLASS_ID CLASS_CLRS                       geometry\n",
      "5 Chatanika60        7  128,128,0 POLYGON ((-147.4819 65.1528...\n"
     ]
    },
    {
     "name": "stderr",
     "output_type": "stream",
     "text": [
      "Saving 6.67 x 6.67 in image\n",
      "\n"
     ]
    },
    {
     "name": "stdout",
     "output_type": "stream",
     "text": [
      "Simple feature collection with 1 feature and 3 fields\n",
      "Geometry type: POLYGON\n",
      "Dimension:     XY\n",
      "Bounding box:  xmin: -147.4817 ymin: 65.15284 xmax: -147.4816 ymax: 65.15285\n",
      "Geodetic CRS:  GCS_unknown\n",
      "   CLASS_NAME CLASS_ID CLASS_CLRS                       geometry\n",
      "6 Chatanika50        6  255,0,255 POLYGON ((-147.4816 65.1528...\n"
     ]
    },
    {
     "name": "stderr",
     "output_type": "stream",
     "text": [
      "Saving 6.67 x 6.67 in image\n",
      "\n"
     ]
    },
    {
     "name": "stdout",
     "output_type": "stream",
     "text": [
      "Simple feature collection with 1 feature and 3 fields\n",
      "Geometry type: POLYGON\n",
      "Dimension:     XY\n",
      "Bounding box:  xmin: -147.4815 ymin: 65.15283 xmax: -147.4814 ymax: 65.15284\n",
      "Geodetic CRS:  GCS_unknown\n",
      "   CLASS_NAME CLASS_ID CLASS_CLRS                       geometry\n",
      "7 Chatanika40        5  0,255,255 POLYGON ((-147.4814 65.1528...\n"
     ]
    },
    {
     "name": "stderr",
     "output_type": "stream",
     "text": [
      "Saving 6.67 x 6.67 in image\n",
      "\n"
     ]
    },
    {
     "name": "stdout",
     "output_type": "stream",
     "text": [
      "Simple feature collection with 1 feature and 3 fields\n",
      "Geometry type: POLYGON\n",
      "Dimension:     XY\n",
      "Bounding box:  xmin: -147.4812 ymin: 65.15282 xmax: -147.4812 ymax: 65.15283\n",
      "Geodetic CRS:  GCS_unknown\n",
      "   CLASS_NAME CLASS_ID CLASS_CLRS                       geometry\n",
      "8 Chatanika30        4  255,255,0 POLYGON ((-147.4812 65.1528...\n"
     ]
    },
    {
     "name": "stderr",
     "output_type": "stream",
     "text": [
      "Saving 6.67 x 6.67 in image\n",
      "\n"
     ]
    },
    {
     "name": "stdout",
     "output_type": "stream",
     "text": [
      "Simple feature collection with 1 feature and 3 fields\n",
      "Geometry type: POLYGON\n",
      "Dimension:     XY\n",
      "Bounding box:  xmin: -147.481 ymin: 65.15281 xmax: -147.481 ymax: 65.15282\n",
      "Geodetic CRS:  GCS_unknown\n",
      "   CLASS_NAME CLASS_ID CLASS_CLRS                       geometry\n",
      "9 Chatanika20        3    0,0,255 POLYGON ((-147.481 65.15282...\n"
     ]
    },
    {
     "name": "stderr",
     "output_type": "stream",
     "text": [
      "Saving 6.67 x 6.67 in image\n",
      "\n"
     ]
    },
    {
     "name": "stdout",
     "output_type": "stream",
     "text": [
      "Simple feature collection with 1 feature and 3 fields\n",
      "Geometry type: POLYGON\n",
      "Dimension:     XY\n",
      "Bounding box:  xmin: -147.4808 ymin: 65.15281 xmax: -147.4808 ymax: 65.15282\n",
      "Geodetic CRS:  GCS_unknown\n",
      "    CLASS_NAME CLASS_ID CLASS_CLRS                       geometry\n",
      "10 Chatanika10        2    0,128,0 POLYGON ((-147.4808 65.1528...\n"
     ]
    },
    {
     "name": "stderr",
     "output_type": "stream",
     "text": [
      "Saving 6.67 x 6.67 in image\n",
      "\n"
     ]
    },
    {
     "name": "stdout",
     "output_type": "stream",
     "text": [
      "Simple feature collection with 1 feature and 3 fields\n",
      "Geometry type: POLYGON\n",
      "Dimension:     XY\n",
      "Bounding box:  xmin: -147.4806 ymin: 65.15281 xmax: -147.4806 ymax: 65.15281\n",
      "Geodetic CRS:  GCS_unknown\n",
      "   CLASS_NAME CLASS_ID CLASS_CLRS                       geometry\n",
      "11 Chatanika0        1    255,0,0 POLYGON ((-147.4806 65.1528...\n"
     ]
    },
    {
     "name": "stderr",
     "output_type": "stream",
     "text": [
      "Saving 6.67 x 6.67 in image\n",
      "\n"
     ]
    },
    {
     "name": "stdout",
     "output_type": "stream",
     "text": [
      "[1] \"z\"\n"
     ]
    },
    {
     "name": "stderr",
     "output_type": "stream",
     "text": [
      "Saving 6.67 x 6.67 in image\n",
      "\n",
      "Saving 6.67 x 6.67 in image\n",
      "\n",
      "Saving 6.67 x 6.67 in image\n",
      "\n",
      "Saving 6.67 x 6.67 in image\n",
      "\n",
      "Saving 6.67 x 6.67 in image\n",
      "\n",
      "Saving 6.67 x 6.67 in image\n",
      "\n",
      "Saving 6.67 x 6.67 in image\n",
      "\n",
      "Saving 6.67 x 6.67 in image\n",
      "\n",
      "Saving 6.67 x 6.67 in image\n",
      "\n",
      "Saving 6.67 x 6.67 in image\n",
      "\n",
      "Saving 6.67 x 6.67 in image\n",
      "\n"
     ]
    },
    {
     "name": "stdout",
     "output_type": "stream",
     "text": [
      "[1] \"preprocessing raster at Data/Ground_Validation/Imagery/Quads/TwelveMileGulchQuads1.envi\"\n",
      "[1] \"Converted to Data frame?\"\n",
      "[1] TRUE\n",
      "[1] \"Noisy columns removed\"\n",
      "[1] TRUE\n",
      "[1] \"Filtered\"\n",
      "[1] TRUE\n",
      "[1] \"Imputing...\"\n"
     ]
    },
    {
     "name": "stderr",
     "output_type": "stream",
     "text": [
      "Using spline to predict value at new bands...\n",
      "\n",
      "Beware the spectra are now partially smoothed.\n",
      "\n"
     ]
    },
    {
     "name": "stdout",
     "output_type": "stream",
     "text": [
      "[1] \"Imputing...\"\n"
     ]
    },
    {
     "name": "stderr",
     "output_type": "stream",
     "text": [
      "\u001b[1m\u001b[22m`.cols` has been renamed and is deprecated, please use `.vars`\n"
     ]
    },
    {
     "name": "stdout",
     "output_type": "stream",
     "text": [
      "         x        y z\n",
      "1 -145.979 65.40191 6\n",
      "2 -145.979 65.40191 6\n",
      "3 -145.979 65.40191 5\n",
      "4 -145.979 65.40191 5\n",
      "5 -145.979 65.40191 4\n",
      "6 -145.979 65.40191 6\n",
      "         x        y z\n",
      "1 -145.979 65.40191 6\n",
      "2 -145.979 65.40191 6\n",
      "3 -145.979 65.40191 5\n",
      "4 -145.979 65.40191 5\n",
      "5 -145.979 65.40191 4\n",
      "6 -145.979 65.40191 6\n",
      "[1] \"Attempting to save to ./validation_saved_output.grd\"\n",
      "[1] \"Converted to Raster\"\n",
      "Reading layer `TwelveMileQ0_10_20_30_40m' from data source \n",
      "  `/home/krbundy/GitHub/lecospec/Data/Vectors/TwelveMileQ0_10_20_30_40m.shp' \n",
      "  using driver `ESRI Shapefile'\n",
      "Simple feature collection with 5 features and 3 fields\n",
      "Geometry type: POLYGON\n",
      "Dimension:     XY\n",
      "Bounding box:  xmin: -145.979 ymin: 65.4018 xmax: -145.9782 ymax: 65.40191\n",
      "Geodetic CRS:  WGS 84\n",
      "[1] \"Twelvemile40\" \"Twelvemile30\" \"Twelvemile20\" \"Twelvemile10\" \"Twelvemile0\" \n",
      "Simple feature collection with 1 feature and 3 fields\n",
      "Geometry type: POLYGON\n",
      "Dimension:     XY\n",
      "Bounding box:  xmin: -145.979 ymin: 65.4019 xmax: -145.979 ymax: 65.40191\n",
      "Geodetic CRS:  GCS_unknown\n",
      "  CLASS_ID   CLASS_NAME AREA                       geometry\n",
      "1        4 Twelvemile40  288 POLYGON ((-145.979 65.4019,...\n"
     ]
    },
    {
     "name": "stderr",
     "output_type": "stream",
     "text": [
      "Saving 6.67 x 6.67 in image\n",
      "\n"
     ]
    },
    {
     "name": "stdout",
     "output_type": "stream",
     "text": [
      "Simple feature collection with 1 feature and 3 fields\n",
      "Geometry type: POLYGON\n",
      "Dimension:     XY\n",
      "Bounding box:  xmin: -145.9788 ymin: 65.40187 xmax: -145.9788 ymax: 65.40188\n",
      "Geodetic CRS:  GCS_unknown\n",
      "  CLASS_ID   CLASS_NAME AREA                       geometry\n",
      "2        1 Twelvemile30  281 POLYGON ((-145.9788 65.4018...\n"
     ]
    },
    {
     "name": "stderr",
     "output_type": "stream",
     "text": [
      "Saving 6.67 x 6.67 in image\n",
      "\n"
     ]
    },
    {
     "name": "stdout",
     "output_type": "stream",
     "text": [
      "Simple feature collection with 1 feature and 3 fields\n",
      "Geometry type: POLYGON\n",
      "Dimension:     XY\n",
      "Bounding box:  xmin: -145.9786 ymin: 65.40185 xmax: -145.9786 ymax: 65.40186\n",
      "Geodetic CRS:  GCS_unknown\n",
      "  CLASS_ID   CLASS_NAME AREA                       geometry\n",
      "3        2 Twelvemile20  328 POLYGON ((-145.9786 65.4018...\n"
     ]
    },
    {
     "name": "stderr",
     "output_type": "stream",
     "text": [
      "Saving 6.67 x 6.67 in image\n",
      "\n"
     ]
    },
    {
     "name": "stdout",
     "output_type": "stream",
     "text": [
      "Simple feature collection with 1 feature and 3 fields\n",
      "Geometry type: POLYGON\n",
      "Dimension:     XY\n",
      "Bounding box:  xmin: -145.9784 ymin: 65.40183 xmax: -145.9784 ymax: 65.40184\n",
      "Geodetic CRS:  GCS_unknown\n",
      "  CLASS_ID   CLASS_NAME AREA                       geometry\n",
      "4        3 Twelvemile10  308 POLYGON ((-145.9784 65.4018...\n"
     ]
    },
    {
     "name": "stderr",
     "output_type": "stream",
     "text": [
      "Saving 6.67 x 6.67 in image\n",
      "\n"
     ]
    },
    {
     "name": "stdout",
     "output_type": "stream",
     "text": [
      "Simple feature collection with 1 feature and 3 fields\n",
      "Geometry type: POLYGON\n",
      "Dimension:     XY\n",
      "Bounding box:  xmin: -145.9782 ymin: 65.4018 xmax: -145.9782 ymax: 65.40181\n",
      "Geodetic CRS:  GCS_unknown\n",
      "  CLASS_ID  CLASS_NAME AREA                       geometry\n",
      "5        5 Twelvemile0  336 POLYGON ((-145.9782 65.4018...\n"
     ]
    },
    {
     "name": "stderr",
     "output_type": "stream",
     "text": [
      "Saving 6.67 x 6.67 in image\n",
      "\n"
     ]
    },
    {
     "name": "stdout",
     "output_type": "stream",
     "text": [
      "[1] \"z\"\n"
     ]
    },
    {
     "name": "stderr",
     "output_type": "stream",
     "text": [
      "Saving 6.67 x 6.67 in image\n",
      "\n",
      "Saving 6.67 x 6.67 in image\n",
      "\n",
      "Saving 6.67 x 6.67 in image\n",
      "\n",
      "Saving 6.67 x 6.67 in image\n",
      "\n",
      "Saving 6.67 x 6.67 in image\n",
      "\n"
     ]
    },
    {
     "name": "stdout",
     "output_type": "stream",
     "text": [
      "[1] \"preprocessing raster at Data/Ground_Validation/Imagery/Quads/TwelveMileGulchQuads2.envi\"\n",
      "[1] \"Converted to Data frame?\"\n",
      "[1] TRUE\n",
      "[1] \"Noisy columns removed\"\n",
      "[1] TRUE\n",
      "[1] \"Filtered\"\n",
      "[1] TRUE\n",
      "[1] \"Imputing...\"\n"
     ]
    },
    {
     "name": "stderr",
     "output_type": "stream",
     "text": [
      "Using spline to predict value at new bands...\n",
      "\n",
      "Beware the spectra are now partially smoothed.\n",
      "\n"
     ]
    },
    {
     "name": "stdout",
     "output_type": "stream",
     "text": [
      "[1] \"Imputing...\"\n"
     ]
    },
    {
     "name": "stderr",
     "output_type": "stream",
     "text": [
      "\u001b[1m\u001b[22m`.cols` has been renamed and is deprecated, please use `.vars`\n"
     ]
    },
    {
     "name": "stdout",
     "output_type": "stream",
     "text": [
      "          x        y z\n",
      "1 -145.9802 65.40203 4\n",
      "2 -145.9802 65.40203 4\n",
      "3 -145.9802 65.40203 6\n",
      "4 -145.9802 65.40203 6\n",
      "5 -145.9802 65.40203 4\n",
      "6 -145.9802 65.40203 4\n",
      "          x        y z\n",
      "1 -145.9802 65.40203 4\n",
      "2 -145.9802 65.40203 4\n",
      "3 -145.9802 65.40203 6\n",
      "4 -145.9802 65.40203 6\n",
      "5 -145.9802 65.40203 4\n",
      "6 -145.9802 65.40203 4\n",
      "[1] \"Attempting to save to ./validation_saved_output.grd\"\n",
      "[1] \"Converted to Raster\"\n",
      "Reading layer `TwelveMileQ70_80_90_100m' from data source \n",
      "  `/home/krbundy/GitHub/lecospec/Data/Vectors/TwelveMileQ70_80_90_100m.shp' \n",
      "  using driver `ESRI Shapefile'\n",
      "Simple feature collection with 4 features and 3 fields\n",
      "Geometry type: POLYGON\n",
      "Dimension:     XY\n",
      "Bounding box:  xmin: -145.9802 ymin: 65.40196 xmax: -145.9796 ymax: 65.40203\n",
      "Geodetic CRS:  WGS 84\n",
      "[1] \"Twelvemile100\" \"Twelvemile90\"  \"Twelvemile80\"  \"Twelvemile70\" \n",
      "Simple feature collection with 1 feature and 3 fields\n",
      "Geometry type: POLYGON\n",
      "Dimension:     XY\n",
      "Bounding box:  xmin: -145.9802 ymin: 65.40202 xmax: -145.9802 ymax: 65.40203\n",
      "Geodetic CRS:  GCS_unknown\n",
      "  CLASS_ID    CLASS_NAME AREA                       geometry\n",
      "1        4 Twelvemile100  492 POLYGON ((-145.9802 65.4020...\n"
     ]
    },
    {
     "name": "stderr",
     "output_type": "stream",
     "text": [
      "Saving 6.67 x 6.67 in image\n",
      "\n"
     ]
    },
    {
     "name": "stdout",
     "output_type": "stream",
     "text": [
      "Simple feature collection with 1 feature and 3 fields\n",
      "Geometry type: POLYGON\n",
      "Dimension:     XY\n",
      "Bounding box:  xmin: -145.98 ymin: 65.402 xmax: -145.98 ymax: 65.40201\n",
      "Geodetic CRS:  GCS_unknown\n",
      "  CLASS_ID   CLASS_NAME AREA                       geometry\n",
      "2        3 Twelvemile90  473 POLYGON ((-145.98 65.402, -...\n"
     ]
    },
    {
     "name": "stderr",
     "output_type": "stream",
     "text": [
      "Saving 6.67 x 6.67 in image\n",
      "\n"
     ]
    },
    {
     "name": "stdout",
     "output_type": "stream",
     "text": [
      "Simple feature collection with 1 feature and 3 fields\n",
      "Geometry type: POLYGON\n",
      "Dimension:     XY\n",
      "Bounding box:  xmin: -145.9798 ymin: 65.40198 xmax: -145.9798 ymax: 65.40199\n",
      "Geodetic CRS:  GCS_unknown\n",
      "  CLASS_ID   CLASS_NAME AREA                       geometry\n",
      "3        2 Twelvemile80  631 POLYGON ((-145.9798 65.4019...\n"
     ]
    },
    {
     "name": "stderr",
     "output_type": "stream",
     "text": [
      "Saving 6.67 x 6.67 in image\n",
      "\n"
     ]
    },
    {
     "name": "stdout",
     "output_type": "stream",
     "text": [
      "Simple feature collection with 1 feature and 3 fields\n",
      "Geometry type: POLYGON\n",
      "Dimension:     XY\n",
      "Bounding box:  xmin: -145.9796 ymin: 65.40196 xmax: -145.9796 ymax: 65.40197\n",
      "Geodetic CRS:  GCS_unknown\n",
      "  CLASS_ID   CLASS_NAME AREA                       geometry\n",
      "4        1 Twelvemile70  518 POLYGON ((-145.9796 65.4019...\n"
     ]
    },
    {
     "name": "stderr",
     "output_type": "stream",
     "text": [
      "Saving 6.67 x 6.67 in image\n",
      "\n"
     ]
    },
    {
     "name": "stdout",
     "output_type": "stream",
     "text": [
      "[1] \"z\"\n"
     ]
    },
    {
     "name": "stderr",
     "output_type": "stream",
     "text": [
      "Saving 6.67 x 6.67 in image\n",
      "\n",
      "Saving 6.67 x 6.67 in image\n",
      "\n",
      "Saving 6.67 x 6.67 in image\n",
      "\n",
      "Saving 6.67 x 6.67 in image\n",
      "\n"
     ]
    },
    {
     "name": "stdout",
     "output_type": "stream",
     "text": [
      "[1] \"preprocessing raster at Data/Ground_Validation/Imagery/Quads/EightMileQuads.envi\"\n",
      "[1] \"Converted to Data frame?\"\n",
      "[1] TRUE\n",
      "[1] \"Noisy columns removed\"\n",
      "[1] TRUE\n",
      "[1] \"Filtered\"\n",
      "[1] TRUE\n",
      "[1] \"Imputing...\"\n"
     ]
    },
    {
     "name": "stderr",
     "output_type": "stream",
     "text": [
      "Using spline to predict value at new bands...\n",
      "\n",
      "Beware the spectra are now partially smoothed.\n",
      "\n"
     ]
    },
    {
     "name": "stdout",
     "output_type": "stream",
     "text": [
      "[1] \"Imputing...\"\n"
     ]
    },
    {
     "name": "stderr",
     "output_type": "stream",
     "text": [
      "\u001b[1m\u001b[22m`.cols` has been renamed and is deprecated, please use `.vars`\n"
     ]
    },
    {
     "name": "stdout",
     "output_type": "stream",
     "text": [
      "          x        y z\n",
      "1 -149.2529 63.87686 4\n",
      "2 -149.2529 63.87686 4\n",
      "3 -149.2529 63.87686 4\n",
      "4 -149.2529 63.87686 4\n",
      "5 -149.2529 63.87686 4\n",
      "6 -149.2529 63.87686 4\n",
      "          x        y z\n",
      "1 -149.2529 63.87686 4\n",
      "2 -149.2529 63.87686 4\n",
      "3 -149.2529 63.87686 4\n",
      "4 -149.2529 63.87686 4\n",
      "5 -149.2529 63.87686 4\n",
      "6 -149.2529 63.87686 4\n",
      "[1] \"Attempting to save to ./validation_saved_output.grd\"\n",
      "[1] \"Converted to Raster\"\n",
      "Reading layer `EightMile_Quadrats_revised' from data source \n",
      "  `/home/krbundy/GitHub/lecospec/Data/Vectors/EightMile_Quadrats_revised.shp' \n",
      "  using driver `ESRI Shapefile'\n",
      "Simple feature collection with 11 features and 3 fields\n",
      "Geometry type: POLYGON\n",
      "Dimension:     XY\n",
      "Bounding box:  xmin: -149.2549 ymin: 63.87666 xmax: -149.2529 ymax: 63.87686\n",
      "Geodetic CRS:  WGS 84\n",
      " [1] \"Eightmile10\"  \"Eightmile0\"   \"Eightmile60\"  \"Eightmile50\"  \"Eightmile40\" \n",
      " [6] \"Eightmile30\"  \"Eightmile20\"  \"Eightmile100\" \"Eightmile90\"  \"Eightmile80\" \n",
      "[11] \"Eightmile70\" \n",
      "Simple feature collection with 1 feature and 3 fields\n",
      "Geometry type: POLYGON\n",
      "Dimension:     XY\n",
      "Bounding box:  xmin: -149.2547 ymin: 63.87667 xmax: -149.2546 ymax: 63.87669\n",
      "Geodetic CRS:  GCS_unknown\n",
      "   CLASS_NAME CLASS_ID CLASS_CLRS                       geometry\n",
      "1 Eightmile10        2    0,128,0 POLYGON ((-149.2547 63.8766...\n"
     ]
    },
    {
     "name": "stderr",
     "output_type": "stream",
     "text": [
      "Saving 6.67 x 6.67 in image\n",
      "\n"
     ]
    },
    {
     "name": "stdout",
     "output_type": "stream",
     "text": [
      "Simple feature collection with 1 feature and 3 fields\n",
      "Geometry type: POLYGON\n",
      "Dimension:     XY\n",
      "Bounding box:  xmin: -149.2549 ymin: 63.87666 xmax: -149.2548 ymax: 63.87667\n",
      "Geodetic CRS:  GCS_unknown\n",
      "  CLASS_NAME CLASS_ID CLASS_CLRS                       geometry\n",
      "2 Eightmile0        1    255,0,0 POLYGON ((-149.2548 63.8766...\n"
     ]
    },
    {
     "name": "stderr",
     "output_type": "stream",
     "text": [
      "Saving 6.67 x 6.67 in image\n",
      "\n"
     ]
    },
    {
     "name": "stdout",
     "output_type": "stream",
     "text": [
      "Simple feature collection with 1 feature and 3 fields\n",
      "Geometry type: POLYGON\n",
      "Dimension:     XY\n",
      "Bounding box:  xmin: -149.2537 ymin: 63.87675 xmax: -149.2537 ymax: 63.87677\n",
      "Geodetic CRS:  GCS_unknown\n",
      "   CLASS_NAME CLASS_ID CLASS_CLRS                       geometry\n",
      "3 Eightmile60        7  128,128,0 POLYGON ((-149.2537 63.8767...\n"
     ]
    },
    {
     "name": "stderr",
     "output_type": "stream",
     "text": [
      "Saving 6.67 x 6.67 in image\n",
      "\n"
     ]
    },
    {
     "name": "stdout",
     "output_type": "stream",
     "text": [
      "Simple feature collection with 1 feature and 3 fields\n",
      "Geometry type: POLYGON\n",
      "Dimension:     XY\n",
      "Bounding box:  xmin: -149.2539 ymin: 63.87673 xmax: -149.2539 ymax: 63.87674\n",
      "Geodetic CRS:  GCS_unknown\n",
      "   CLASS_NAME CLASS_ID CLASS_CLRS                       geometry\n",
      "4 Eightmile50        6  255,0,255 POLYGON ((-149.2539 63.8767...\n"
     ]
    },
    {
     "name": "stderr",
     "output_type": "stream",
     "text": [
      "Saving 6.67 x 6.67 in image\n",
      "\n"
     ]
    },
    {
     "name": "stdout",
     "output_type": "stream",
     "text": [
      "Simple feature collection with 1 feature and 3 fields\n",
      "Geometry type: POLYGON\n",
      "Dimension:     XY\n",
      "Bounding box:  xmin: -149.2541 ymin: 63.87672 xmax: -149.254 ymax: 63.87673\n",
      "Geodetic CRS:  GCS_unknown\n",
      "   CLASS_NAME CLASS_ID CLASS_CLRS                       geometry\n",
      "5 Eightmile40        5  0,255,255 POLYGON ((-149.254 63.87673...\n"
     ]
    },
    {
     "name": "stderr",
     "output_type": "stream",
     "text": [
      "Saving 6.67 x 6.67 in image\n",
      "\n"
     ]
    },
    {
     "name": "stdout",
     "output_type": "stream",
     "text": [
      "Simple feature collection with 1 feature and 3 fields\n",
      "Geometry type: POLYGON\n",
      "Dimension:     XY\n",
      "Bounding box:  xmin: -149.2543 ymin: 63.87671 xmax: -149.2542 ymax: 63.87672\n",
      "Geodetic CRS:  GCS_unknown\n",
      "   CLASS_NAME CLASS_ID CLASS_CLRS                       geometry\n",
      "6 Eightmile30        4  255,255,0 POLYGON ((-149.2542 63.8767...\n"
     ]
    },
    {
     "name": "stderr",
     "output_type": "stream",
     "text": [
      "Saving 6.67 x 6.67 in image\n",
      "\n"
     ]
    },
    {
     "name": "stdout",
     "output_type": "stream",
     "text": [
      "Simple feature collection with 1 feature and 3 fields\n",
      "Geometry type: POLYGON\n",
      "Dimension:     XY\n",
      "Bounding box:  xmin: -149.2545 ymin: 63.87669 xmax: -149.2544 ymax: 63.8767\n",
      "Geodetic CRS:  GCS_unknown\n",
      "   CLASS_NAME CLASS_ID CLASS_CLRS                       geometry\n",
      "7 Eightmile20        3    0,0,255 POLYGON ((-149.2544 63.8767...\n"
     ]
    },
    {
     "name": "stderr",
     "output_type": "stream",
     "text": [
      "Saving 6.67 x 6.67 in image\n",
      "\n"
     ]
    },
    {
     "name": "stdout",
     "output_type": "stream",
     "text": [
      "Simple feature collection with 1 feature and 3 fields\n",
      "Geometry type: POLYGON\n",
      "Dimension:     XY\n",
      "Bounding box:  xmin: -149.2529 ymin: 63.87685 xmax: -149.2529 ymax: 63.87686\n",
      "Geodetic CRS:  GCS_unknown\n",
      "    CLASS_NAME CLASS_ID CLASS_CLRS                       geometry\n",
      "8 Eightmile100       11    0,255,0 POLYGON ((-149.2529 63.8768...\n"
     ]
    },
    {
     "name": "stderr",
     "output_type": "stream",
     "text": [
      "Saving 6.67 x 6.67 in image\n",
      "\n"
     ]
    },
    {
     "name": "stdout",
     "output_type": "stream",
     "text": [
      "Simple feature collection with 1 feature and 3 fields\n",
      "Geometry type: POLYGON\n",
      "Dimension:     XY\n",
      "Bounding box:  xmin: -149.2531 ymin: 63.87682 xmax: -149.2531 ymax: 63.87684\n",
      "Geodetic CRS:  GCS_unknown\n",
      "   CLASS_NAME CLASS_ID CLASS_CLRS                       geometry\n",
      "9 Eightmile90       10    128,0,0 POLYGON ((-149.2531 63.8768...\n"
     ]
    },
    {
     "name": "stderr",
     "output_type": "stream",
     "text": [
      "Saving 6.67 x 6.67 in image\n",
      "\n"
     ]
    },
    {
     "name": "stdout",
     "output_type": "stream",
     "text": [
      "Simple feature collection with 1 feature and 3 fields\n",
      "Geometry type: POLYGON\n",
      "Dimension:     XY\n",
      "Bounding box:  xmin: -149.2533 ymin: 63.8768 xmax: -149.2533 ymax: 63.87681\n",
      "Geodetic CRS:  GCS_unknown\n",
      "    CLASS_NAME CLASS_ID CLASS_CLRS                       geometry\n",
      "10 Eightmile80        9  255,255,0 POLYGON ((-149.2533 63.8768...\n"
     ]
    },
    {
     "name": "stderr",
     "output_type": "stream",
     "text": [
      "Saving 6.67 x 6.67 in image\n",
      "\n"
     ]
    },
    {
     "name": "stdout",
     "output_type": "stream",
     "text": [
      "Simple feature collection with 1 feature and 3 fields\n",
      "Geometry type: POLYGON\n",
      "Dimension:     XY\n",
      "Bounding box:  xmin: -149.2535 ymin: 63.87678 xmax: -149.2535 ymax: 63.87679\n",
      "Geodetic CRS:  GCS_unknown\n",
      "    CLASS_NAME CLASS_ID CLASS_CLRS                       geometry\n",
      "11 Eightmile70        8  0,128,128 POLYGON ((-149.2535 63.8767...\n"
     ]
    },
    {
     "name": "stderr",
     "output_type": "stream",
     "text": [
      "Saving 6.67 x 6.67 in image\n",
      "\n"
     ]
    },
    {
     "name": "stdout",
     "output_type": "stream",
     "text": [
      "[1] \"z\"\n"
     ]
    },
    {
     "name": "stderr",
     "output_type": "stream",
     "text": [
      "Saving 6.67 x 6.67 in image\n",
      "\n",
      "Saving 6.67 x 6.67 in image\n",
      "\n",
      "Saving 6.67 x 6.67 in image\n",
      "\n",
      "Saving 6.67 x 6.67 in image\n",
      "\n",
      "Saving 6.67 x 6.67 in image\n",
      "\n",
      "Saving 6.67 x 6.67 in image\n",
      "\n",
      "Saving 6.67 x 6.67 in image\n",
      "\n",
      "Saving 6.67 x 6.67 in image\n",
      "\n",
      "Saving 6.67 x 6.67 in image\n",
      "\n",
      "Saving 6.67 x 6.67 in image\n",
      "\n",
      "Saving 6.67 x 6.67 in image\n",
      "\n"
     ]
    },
    {
     "name": "stdout",
     "output_type": "stream",
     "text": [
      "[1] \"preprocessing raster at Data/Ground_Validation/Imagery/Quads/MurphDomeQuads0_10.envi\"\n",
      "[1] \"Converted to Data frame?\"\n",
      "[1] TRUE\n",
      "[1] \"Noisy columns removed\"\n",
      "[1] TRUE\n",
      "[1] \"Filtered\"\n",
      "[1] TRUE\n",
      "[1] \"Imputing...\"\n"
     ]
    },
    {
     "name": "stderr",
     "output_type": "stream",
     "text": [
      "Using spline to predict value at new bands...\n",
      "\n",
      "Beware the spectra are now partially smoothed.\n",
      "\n"
     ]
    },
    {
     "name": "stdout",
     "output_type": "stream",
     "text": [
      "[1] \"Imputing...\"\n"
     ]
    },
    {
     "name": "stderr",
     "output_type": "stream",
     "text": [
      "\u001b[1m\u001b[22m`.cols` has been renamed and is deprecated, please use `.vars`\n"
     ]
    },
    {
     "name": "stdout",
     "output_type": "stream",
     "text": [
      "          x       y z\n",
      "1 -148.3535 64.9538 4\n",
      "2 -148.3535 64.9538 4\n",
      "3 -148.3535 64.9538 4\n",
      "4 -148.3535 64.9538 4\n",
      "5 -148.3535 64.9538 4\n",
      "6 -148.3535 64.9538 6\n",
      "          x       y z\n",
      "1 -148.3535 64.9538 4\n",
      "2 -148.3535 64.9538 4\n",
      "3 -148.3535 64.9538 4\n",
      "4 -148.3535 64.9538 4\n",
      "5 -148.3535 64.9538 4\n",
      "6 -148.3535 64.9538 6\n",
      "[1] \"Attempting to save to ./validation_saved_output.grd\"\n",
      "[1] \"Converted to Raster\"\n",
      "Reading layer `MurphyQuads0_10m' from data source \n",
      "  `/home/krbundy/GitHub/lecospec/Data/Vectors/MurphyQuads0_10m.shp' \n",
      "  using driver `ESRI Shapefile'\n",
      "Simple feature collection with 2 features and 3 fields\n",
      "Geometry type: POLYGON\n",
      "Dimension:     XY\n",
      "Bounding box:  xmin: -148.3535 ymin: 64.95372 xmax: -148.3533 ymax: 64.9538\n",
      "Geodetic CRS:  WGS 84\n",
      "[1] \"Murphydome10\" \"Murphydome0\" \n",
      "Simple feature collection with 1 feature and 3 fields\n",
      "Geometry type: POLYGON\n",
      "Dimension:     XY\n",
      "Bounding box:  xmin: -148.3535 ymin: 64.95379 xmax: -148.3535 ymax: 64.9538\n",
      "Geodetic CRS:  GCS_unknown\n",
      "    CLASS_NAME CLASS_ID CLASS_CLRS                       geometry\n",
      "1 Murphydome10        1    0,0,255 POLYGON ((-148.3535 64.9538...\n"
     ]
    },
    {
     "name": "stderr",
     "output_type": "stream",
     "text": [
      "Saving 6.67 x 6.67 in image\n",
      "\n"
     ]
    },
    {
     "name": "stdout",
     "output_type": "stream",
     "text": [
      "Simple feature collection with 1 feature and 3 fields\n",
      "Geometry type: POLYGON\n",
      "Dimension:     XY\n",
      "Bounding box:  xmin: -148.3534 ymin: 64.95372 xmax: -148.3533 ymax: 64.95373\n",
      "Geodetic CRS:  GCS_unknown\n",
      "   CLASS_NAME CLASS_ID CLASS_CLRS                       geometry\n",
      "2 Murphydome0        2    0,128,0 POLYGON ((-148.3534 64.9537...\n"
     ]
    },
    {
     "name": "stderr",
     "output_type": "stream",
     "text": [
      "Saving 6.67 x 6.67 in image\n",
      "\n"
     ]
    },
    {
     "name": "stdout",
     "output_type": "stream",
     "text": [
      "[1] \"z\"\n"
     ]
    },
    {
     "name": "stderr",
     "output_type": "stream",
     "text": [
      "Saving 6.67 x 6.67 in image\n",
      "\n",
      "Saving 6.67 x 6.67 in image\n",
      "\n"
     ]
    },
    {
     "name": "stdout",
     "output_type": "stream",
     "text": [
      "[1] \"preprocessing raster at Data/Ground_Validation/Imagery/Quads/MurphDomeQuads20_50.envi\"\n",
      "[1] \"Converted to Data frame?\"\n",
      "[1] TRUE\n",
      "[1] \"Noisy columns removed\"\n",
      "[1] TRUE\n",
      "[1] \"Filtered\"\n",
      "[1] TRUE\n",
      "[1] \"Imputing...\"\n"
     ]
    },
    {
     "name": "stderr",
     "output_type": "stream",
     "text": [
      "Using spline to predict value at new bands...\n",
      "\n",
      "Beware the spectra are now partially smoothed.\n",
      "\n"
     ]
    },
    {
     "name": "stdout",
     "output_type": "stream",
     "text": [
      "[1] \"Imputing...\"\n"
     ]
    },
    {
     "name": "stderr",
     "output_type": "stream",
     "text": [
      "\u001b[1m\u001b[22m`.cols` has been renamed and is deprecated, please use `.vars`\n"
     ]
    },
    {
     "name": "stdout",
     "output_type": "stream",
     "text": [
      "          x        y z\n",
      "1 -148.3540 64.95407 6\n",
      "2 -148.3541 64.95407 4\n",
      "3 -148.3540 64.95407 6\n",
      "4 -148.3540 64.95407 4\n",
      "5 -148.3541 64.95407 6\n",
      "6 -148.3541 64.95407 4\n",
      "          x        y z\n",
      "1 -148.3540 64.95407 6\n",
      "2 -148.3541 64.95407 4\n",
      "3 -148.3540 64.95407 6\n",
      "4 -148.3540 64.95407 4\n",
      "5 -148.3541 64.95407 6\n",
      "6 -148.3541 64.95407 4\n",
      "[1] \"Attempting to save to ./validation_saved_output.grd\"\n",
      "[1] \"Converted to Raster\"\n",
      "Reading layer `MurphyQuads20_50m' from data source \n",
      "  `/home/krbundy/GitHub/lecospec/Data/Vectors/MurphyQuads20_50m.shp' \n",
      "  using driver `ESRI Shapefile'\n",
      "Simple feature collection with 4 features and 3 fields\n",
      "Geometry type: POLYGON\n",
      "Dimension:     XY\n",
      "Bounding box:  xmin: -148.3541 ymin: 64.95384 xmax: -148.3536 ymax: 64.95407\n",
      "Geodetic CRS:  WGS 84\n",
      "[1] \"Murphydome50\" \"Murphydome40\" \"Murphydome30\" \"Murphydome20\"\n",
      "Simple feature collection with 1 feature and 3 fields\n",
      "Geometry type: POLYGON\n",
      "Dimension:     XY\n",
      "Bounding box:  xmin: -148.3541 ymin: 64.95406 xmax: -148.354 ymax: 64.95407\n",
      "Geodetic CRS:  GCS_unknown\n",
      "    CLASS_NAME CLASS_ID CLASS_CLRS                       geometry\n",
      "1 Murphydome50        1  128,128,0 POLYGON ((-148.354 64.95407...\n"
     ]
    },
    {
     "name": "stderr",
     "output_type": "stream",
     "text": [
      "Saving 6.67 x 6.67 in image\n",
      "\n"
     ]
    },
    {
     "name": "stdout",
     "output_type": "stream",
     "text": [
      "Simple feature collection with 1 feature and 3 fields\n",
      "Geometry type: POLYGON\n",
      "Dimension:     XY\n",
      "Bounding box:  xmin: -148.3539 ymin: 64.95399 xmax: -148.3539 ymax: 64.954\n",
      "Geodetic CRS:  GCS_unknown\n",
      "    CLASS_NAME CLASS_ID CLASS_CLRS                       geometry\n",
      "2 Murphydome40        2  255,0,255 POLYGON ((-148.3539 64.954,...\n"
     ]
    },
    {
     "name": "stderr",
     "output_type": "stream",
     "text": [
      "Saving 6.67 x 6.67 in image\n",
      "\n"
     ]
    },
    {
     "name": "stdout",
     "output_type": "stream",
     "text": [
      "Simple feature collection with 1 feature and 3 fields\n",
      "Geometry type: POLYGON\n",
      "Dimension:     XY\n",
      "Bounding box:  xmin: -148.3538 ymin: 64.95392 xmax: -148.3537 ymax: 64.95393\n",
      "Geodetic CRS:  GCS_unknown\n",
      "    CLASS_NAME CLASS_ID CLASS_CLRS                       geometry\n",
      "3 Murphydome30        3  0,255,255 POLYGON ((-148.3538 64.9539...\n"
     ]
    },
    {
     "name": "stderr",
     "output_type": "stream",
     "text": [
      "Saving 6.67 x 6.67 in image\n",
      "\n"
     ]
    },
    {
     "name": "stdout",
     "output_type": "stream",
     "text": [
      "Simple feature collection with 1 feature and 3 fields\n",
      "Geometry type: POLYGON\n",
      "Dimension:     XY\n",
      "Bounding box:  xmin: -148.3537 ymin: 64.95384 xmax: -148.3536 ymax: 64.95386\n",
      "Geodetic CRS:  GCS_unknown\n",
      "    CLASS_NAME CLASS_ID CLASS_CLRS                       geometry\n",
      "4 Murphydome20        4  255,255,0 POLYGON ((-148.3536 64.9538...\n"
     ]
    },
    {
     "name": "stderr",
     "output_type": "stream",
     "text": [
      "Saving 6.67 x 6.67 in image\n",
      "\n"
     ]
    },
    {
     "name": "stdout",
     "output_type": "stream",
     "text": [
      "[1] \"z\"\n"
     ]
    },
    {
     "name": "stderr",
     "output_type": "stream",
     "text": [
      "Saving 6.67 x 6.67 in image\n",
      "\n",
      "Saving 6.67 x 6.67 in image\n",
      "\n",
      "Saving 6.67 x 6.67 in image\n",
      "\n",
      "Saving 6.67 x 6.67 in image\n",
      "\n"
     ]
    },
    {
     "name": "stdout",
     "output_type": "stream",
     "text": [
      "[1] \"preprocessing raster at Data/Ground_Validation/Imagery/Quads/MurphDomeQuads60_100.envi\"\n",
      "[1] \"Converted to Data frame?\"\n",
      "[1] TRUE\n",
      "[1] \"Noisy columns removed\"\n",
      "[1] TRUE\n",
      "[1] \"Filtered\"\n",
      "[1] TRUE\n",
      "[1] \"Imputing...\"\n"
     ]
    },
    {
     "name": "stderr",
     "output_type": "stream",
     "text": [
      "Using spline to predict value at new bands...\n",
      "\n",
      "Beware the spectra are now partially smoothed.\n",
      "\n"
     ]
    },
    {
     "name": "stdout",
     "output_type": "stream",
     "text": [
      "[1] \"Imputing...\"\n"
     ]
    },
    {
     "name": "stderr",
     "output_type": "stream",
     "text": [
      "\u001b[1m\u001b[22m`.cols` has been renamed and is deprecated, please use `.vars`\n"
     ]
    },
    {
     "name": "stdout",
     "output_type": "stream",
     "text": [
      "          x        y z\n",
      "1 -148.3548 64.95441 6\n",
      "2 -148.3548 64.95441 4\n",
      "3 -148.3548 64.95441 6\n",
      "4 -148.3548 64.95441 6\n",
      "5 -148.3548 64.95441 4\n",
      "6 -148.3548 64.95441 4\n",
      "          x        y z\n",
      "1 -148.3548 64.95441 6\n",
      "2 -148.3548 64.95441 4\n",
      "3 -148.3548 64.95441 6\n",
      "4 -148.3548 64.95441 6\n",
      "5 -148.3548 64.95441 4\n",
      "6 -148.3548 64.95441 4\n",
      "[1] \"Attempting to save to ./validation_saved_output.grd\"\n",
      "[1] \"Converted to Raster\"\n",
      "Reading layer `MurphyQuads60_100m' from data source \n",
      "  `/home/krbundy/GitHub/lecospec/Data/Vectors/MurphyQuads60_100m.shp' \n",
      "  using driver `ESRI Shapefile'\n",
      "Simple feature collection with 5 features and 3 fields\n",
      "Geometry type: POLYGON\n",
      "Dimension:     XY\n",
      "Bounding box:  xmin: -148.3548 ymin: 64.95413 xmax: -148.3542 ymax: 64.95441\n",
      "Geodetic CRS:  WGS 84\n",
      "[1] \"Murphydome100\" \"Murphydome90\"  \"Murphydome80\"  \"Murphydome70\" \n",
      "[5] \"Murphydome60\" \n",
      "Simple feature collection with 1 feature and 3 fields\n",
      "Geometry type: POLYGON\n",
      "Dimension:     XY\n",
      "Bounding box:  xmin: -148.3548 ymin: 64.9544 xmax: -148.3547 ymax: 64.95441\n",
      "Geodetic CRS:  GCS_unknown\n",
      "     CLASS_NAME CLASS_ID CLASS_CLRS                       geometry\n",
      "1 Murphydome100        1 255,127,80 POLYGON ((-148.3548 64.9544...\n"
     ]
    },
    {
     "name": "stderr",
     "output_type": "stream",
     "text": [
      "Saving 6.67 x 6.67 in image\n",
      "\n"
     ]
    },
    {
     "name": "stdout",
     "output_type": "stream",
     "text": [
      "Simple feature collection with 1 feature and 3 fields\n",
      "Geometry type: POLYGON\n",
      "Dimension:     XY\n",
      "Bounding box:  xmin: -148.3546 ymin: 64.95433 xmax: -148.3546 ymax: 64.95434\n",
      "Geodetic CRS:  GCS_unknown\n",
      "    CLASS_NAME CLASS_ID CLASS_CLRS                       geometry\n",
      "2 Murphydome90        2    0,0,128 POLYGON ((-148.3546 64.9543...\n"
     ]
    },
    {
     "name": "stderr",
     "output_type": "stream",
     "text": [
      "Saving 6.67 x 6.67 in image\n",
      "\n"
     ]
    },
    {
     "name": "stdout",
     "output_type": "stream",
     "text": [
      "Simple feature collection with 1 feature and 3 fields\n",
      "Geometry type: POLYGON\n",
      "Dimension:     XY\n",
      "Bounding box:  xmin: -148.3545 ymin: 64.95426 xmax: -148.3544 ymax: 64.95427\n",
      "Geodetic CRS:  GCS_unknown\n",
      "    CLASS_NAME CLASS_ID CLASS_CLRS                       geometry\n",
      "3 Murphydome80        3    0,255,0 POLYGON ((-148.3545 64.9542...\n"
     ]
    },
    {
     "name": "stderr",
     "output_type": "stream",
     "text": [
      "Saving 6.67 x 6.67 in image\n",
      "\n"
     ]
    },
    {
     "name": "stdout",
     "output_type": "stream",
     "text": [
      "Simple feature collection with 1 feature and 3 fields\n",
      "Geometry type: POLYGON\n",
      "Dimension:     XY\n",
      "Bounding box:  xmin: -148.3543 ymin: 64.95419 xmax: -148.3543 ymax: 64.9542\n",
      "Geodetic CRS:  GCS_unknown\n",
      "    CLASS_NAME CLASS_ID CLASS_CLRS                       geometry\n",
      "4 Murphydome70        4    128,0,0 POLYGON ((-148.3543 64.9542...\n"
     ]
    },
    {
     "name": "stderr",
     "output_type": "stream",
     "text": [
      "Saving 6.67 x 6.67 in image\n",
      "\n"
     ]
    },
    {
     "name": "stdout",
     "output_type": "stream",
     "text": [
      "Simple feature collection with 1 feature and 3 fields\n",
      "Geometry type: POLYGON\n",
      "Dimension:     XY\n",
      "Bounding box:  xmin: -148.3542 ymin: 64.95413 xmax: -148.3542 ymax: 64.95414\n",
      "Geodetic CRS:  GCS_unknown\n",
      "    CLASS_NAME CLASS_ID CLASS_CLRS                       geometry\n",
      "5 Murphydome60        5  0,128,128 POLYGON ((-148.3542 64.9541...\n"
     ]
    },
    {
     "name": "stderr",
     "output_type": "stream",
     "text": [
      "Saving 6.67 x 6.67 in image\n",
      "\n"
     ]
    },
    {
     "name": "stdout",
     "output_type": "stream",
     "text": [
      "[1] \"z\"\n"
     ]
    },
    {
     "name": "stderr",
     "output_type": "stream",
     "text": [
      "Saving 6.67 x 6.67 in image\n",
      "\n",
      "Saving 6.67 x 6.67 in image\n",
      "\n",
      "Saving 6.67 x 6.67 in image\n",
      "\n",
      "Saving 6.67 x 6.67 in image\n",
      "\n",
      "Saving 6.67 x 6.67 in image\n",
      "\n"
     ]
    },
    {
     "name": "stdout",
     "output_type": "stream",
     "text": [
      "[1] \"preprocessing raster at Data/Ground_Validation/Imagery/Quads/BonanzaQuads.envi\"\n",
      "[1] \"Converted to Data frame?\"\n",
      "[1] TRUE\n",
      "[1] \"Noisy columns removed\"\n",
      "[1] TRUE\n",
      "[1] \"Filtered\"\n",
      "[1] TRUE\n",
      "[1] \"Imputing...\"\n"
     ]
    },
    {
     "name": "stderr",
     "output_type": "stream",
     "text": [
      "Using spline to predict value at new bands...\n",
      "\n",
      "Beware the spectra are now partially smoothed.\n",
      "\n"
     ]
    },
    {
     "name": "stdout",
     "output_type": "stream",
     "text": [
      "[1] \"Imputing...\"\n"
     ]
    },
    {
     "name": "stderr",
     "output_type": "stream",
     "text": [
      "\u001b[1m\u001b[22m`.cols` has been renamed and is deprecated, please use `.vars`\n"
     ]
    },
    {
     "name": "stdout",
     "output_type": "stream",
     "text": [
      "          x        y z\n",
      "1 -148.2962 64.70435 4\n",
      "2 -148.2962 64.70435 4\n",
      "3 -148.2962 64.70435 4\n",
      "4 -148.2962 64.70435 4\n",
      "5 -148.2962 64.70435 4\n",
      "6 -148.2962 64.70435 5\n",
      "          x        y z\n",
      "1 -148.2962 64.70435 4\n",
      "2 -148.2962 64.70435 4\n",
      "3 -148.2962 64.70435 4\n",
      "4 -148.2962 64.70435 4\n",
      "5 -148.2962 64.70435 4\n",
      "6 -148.2962 64.70435 5\n",
      "[1] \"Attempting to save to ./validation_saved_output.grd\"\n",
      "[1] \"Converted to Raster\"\n",
      "Reading layer `Bonanza_N_Quads' from data source \n",
      "  `/home/krbundy/GitHub/lecospec/Data/Vectors/Bonanza_N_Quads.shp' \n",
      "  using driver `ESRI Shapefile'\n",
      "Simple feature collection with 11 features and 3 fields\n",
      "Geometry type: POLYGON\n",
      "Dimension:     XY\n",
      "Bounding box:  xmin: 438153.7 ymin: 7176051 xmax: 438205.6 ymax: 7176138\n",
      "Projected CRS: WGS 84 / UTM zone 6N\n",
      " [1] \"Bonanza60\"  \"Bonanza100\" \"Bonanza90\"  \"Bonanza80\"  \"Bonanza50\" \n",
      " [6] \"Bonanza40\"  \"Bonanza30\"  \"Bonanza20\"  \"Bonanza10\"  \"Bonanza0\"  \n",
      "[11] \"Bonanza70\" \n",
      "Simple feature collection with 1 feature and 3 fields\n",
      "Geometry type: POLYGON\n",
      "Dimension:     XY\n",
      "Bounding box:  xmin: -148.2966 ymin: 64.70403 xmax: -148.2966 ymax: 64.70404\n",
      "Geodetic CRS:  GCS_unknown\n",
      "  CLASS_NAME CLASS_ID CLASS_CLRS                       geometry\n",
      "1  Bonanza60        7    128,0,0 POLYGON ((-148.2966 64.7040...\n"
     ]
    },
    {
     "name": "stderr",
     "output_type": "stream",
     "text": [
      "Saving 6.67 x 6.67 in image\n",
      "\n"
     ]
    },
    {
     "name": "stdout",
     "output_type": "stream",
     "text": [
      "Simple feature collection with 1 feature and 3 fields\n",
      "Geometry type: POLYGON\n",
      "Dimension:     XY\n",
      "Bounding box:  xmin: -148.2962 ymin: 64.70434 xmax: -148.2962 ymax: 64.70435\n",
      "Geodetic CRS:  GCS_unknown\n",
      "  CLASS_NAME CLASS_ID CLASS_CLRS                       geometry\n",
      "2 Bonanza100       11  127,255,0 POLYGON ((-148.2962 64.7043...\n"
     ]
    },
    {
     "name": "stderr",
     "output_type": "stream",
     "text": [
      "Saving 6.67 x 6.67 in image\n",
      "\n"
     ]
    },
    {
     "name": "stdout",
     "output_type": "stream",
     "text": [
      "Simple feature collection with 1 feature and 3 fields\n",
      "Geometry type: POLYGON\n",
      "Dimension:     XY\n",
      "Bounding box:  xmin: -148.2963 ymin: 64.70426 xmax: -148.2963 ymax: 64.70428\n",
      "Geodetic CRS:  GCS_unknown\n",
      "  CLASS_NAME CLASS_ID CLASS_CLRS                       geometry\n",
      "3  Bonanza90       10 255,127,80 POLYGON ((-148.2963 64.7042...\n"
     ]
    },
    {
     "name": "stderr",
     "output_type": "stream",
     "text": [
      "Saving 6.67 x 6.67 in image\n",
      "\n"
     ]
    },
    {
     "name": "stdout",
     "output_type": "stream",
     "text": [
      "Simple feature collection with 1 feature and 3 fields\n",
      "Geometry type: POLYGON\n",
      "Dimension:     XY\n",
      "Bounding box:  xmin: -148.2964 ymin: 64.70418 xmax: -148.2964 ymax: 64.7042\n",
      "Geodetic CRS:  GCS_unknown\n",
      "  CLASS_NAME CLASS_ID CLASS_CLRS                       geometry\n",
      "4  Bonanza80        9    0,0,128 POLYGON ((-148.2964 64.7042...\n"
     ]
    },
    {
     "name": "stderr",
     "output_type": "stream",
     "text": [
      "Saving 6.67 x 6.67 in image\n",
      "\n"
     ]
    },
    {
     "name": "stdout",
     "output_type": "stream",
     "text": [
      "Simple feature collection with 1 feature and 3 fields\n",
      "Geometry type: POLYGON\n",
      "Dimension:     XY\n",
      "Bounding box:  xmin: -148.2967 ymin: 64.70395 xmax: -148.2967 ymax: 64.70396\n",
      "Geodetic CRS:  GCS_unknown\n",
      "  CLASS_NAME CLASS_ID CLASS_CLRS                       geometry\n",
      "5  Bonanza50        6  255,0,255 POLYGON ((-148.2967 64.7039...\n"
     ]
    },
    {
     "name": "stderr",
     "output_type": "stream",
     "text": [
      "Saving 6.67 x 6.67 in image\n",
      "\n"
     ]
    },
    {
     "name": "stdout",
     "output_type": "stream",
     "text": [
      "Simple feature collection with 1 feature and 3 fields\n",
      "Geometry type: POLYGON\n",
      "Dimension:     XY\n",
      "Bounding box:  xmin: -148.2968 ymin: 64.70387 xmax: -148.2968 ymax: 64.70388\n",
      "Geodetic CRS:  GCS_unknown\n",
      "  CLASS_NAME CLASS_ID CLASS_CLRS                       geometry\n",
      "6  Bonanza40        5  0,255,255 POLYGON ((-148.2968 64.7038...\n"
     ]
    },
    {
     "name": "stderr",
     "output_type": "stream",
     "text": [
      "Saving 6.67 x 6.67 in image\n",
      "\n"
     ]
    },
    {
     "name": "stdout",
     "output_type": "stream",
     "text": [
      "Simple feature collection with 1 feature and 3 fields\n",
      "Geometry type: POLYGON\n",
      "Dimension:     XY\n",
      "Bounding box:  xmin: -148.2969 ymin: 64.70379 xmax: -148.2969 ymax: 64.7038\n",
      "Geodetic CRS:  GCS_unknown\n",
      "  CLASS_NAME CLASS_ID CLASS_CLRS                       geometry\n",
      "7  Bonanza30        4  255,255,0 POLYGON ((-148.2969 64.7038...\n"
     ]
    },
    {
     "name": "stderr",
     "output_type": "stream",
     "text": [
      "Saving 6.67 x 6.67 in image\n",
      "\n"
     ]
    },
    {
     "name": "stdout",
     "output_type": "stream",
     "text": [
      "Simple feature collection with 1 feature and 3 fields\n",
      "Geometry type: POLYGON\n",
      "Dimension:     XY\n",
      "Bounding box:  xmin: -148.297 ymin: 64.70371 xmax: -148.297 ymax: 64.70373\n",
      "Geodetic CRS:  GCS_unknown\n",
      "  CLASS_NAME CLASS_ID CLASS_CLRS                       geometry\n",
      "8  Bonanza20        3    0,0,255 POLYGON ((-148.297 64.70373...\n"
     ]
    },
    {
     "name": "stderr",
     "output_type": "stream",
     "text": [
      "Saving 6.67 x 6.67 in image\n",
      "\n"
     ]
    },
    {
     "name": "stdout",
     "output_type": "stream",
     "text": [
      "Simple feature collection with 1 feature and 3 fields\n",
      "Geometry type: POLYGON\n",
      "Dimension:     XY\n",
      "Bounding box:  xmin: -148.2971 ymin: 64.70364 xmax: -148.2971 ymax: 64.70365\n",
      "Geodetic CRS:  GCS_unknown\n",
      "  CLASS_NAME CLASS_ID CLASS_CLRS                       geometry\n",
      "9  Bonanza10        2    0,128,0 POLYGON ((-148.2971 64.7036...\n"
     ]
    },
    {
     "name": "stderr",
     "output_type": "stream",
     "text": [
      "Saving 6.67 x 6.67 in image\n",
      "\n"
     ]
    },
    {
     "name": "stdout",
     "output_type": "stream",
     "text": [
      "Simple feature collection with 1 feature and 3 fields\n",
      "Geometry type: POLYGON\n",
      "Dimension:     XY\n",
      "Bounding box:  xmin: -148.2972 ymin: 64.70356 xmax: -148.2972 ymax: 64.70357\n",
      "Geodetic CRS:  GCS_unknown\n",
      "   CLASS_NAME CLASS_ID CLASS_CLRS                       geometry\n",
      "10   Bonanza0        1    255,0,0 POLYGON ((-148.2972 64.7035...\n"
     ]
    },
    {
     "name": "stderr",
     "output_type": "stream",
     "text": [
      "Saving 6.67 x 6.67 in image\n",
      "\n"
     ]
    },
    {
     "name": "stdout",
     "output_type": "stream",
     "text": [
      "Simple feature collection with 1 feature and 3 fields\n",
      "Geometry type: POLYGON\n",
      "Dimension:     XY\n",
      "Bounding box:  xmin: -148.2965 ymin: 64.70411 xmax: -148.2965 ymax: 64.70412\n",
      "Geodetic CRS:  GCS_unknown\n",
      "   CLASS_NAME CLASS_ID CLASS_CLRS                       geometry\n",
      "11  Bonanza70        8    0,255,0 POLYGON ((-148.2965 64.7041...\n"
     ]
    },
    {
     "name": "stderr",
     "output_type": "stream",
     "text": [
      "Saving 6.67 x 6.67 in image\n",
      "\n"
     ]
    },
    {
     "name": "stdout",
     "output_type": "stream",
     "text": [
      "[1] \"z\"\n"
     ]
    },
    {
     "name": "stderr",
     "output_type": "stream",
     "text": [
      "Saving 6.67 x 6.67 in image\n",
      "\n",
      "Saving 6.67 x 6.67 in image\n",
      "\n",
      "Saving 6.67 x 6.67 in image\n",
      "\n",
      "Saving 6.67 x 6.67 in image\n",
      "\n",
      "Saving 6.67 x 6.67 in image\n",
      "\n",
      "Saving 6.67 x 6.67 in image\n",
      "\n",
      "Saving 6.67 x 6.67 in image\n",
      "\n",
      "Saving 6.67 x 6.67 in image\n",
      "\n",
      "Saving 6.67 x 6.67 in image\n",
      "\n",
      "Saving 6.67 x 6.67 in image\n",
      "\n",
      "Saving 6.67 x 6.67 in image\n",
      "\n"
     ]
    },
    {
     "name": "stdout",
     "output_type": "stream",
     "text": [
      " [1] \"method\"       \"modelInfo\"    \"modelType\"    \"results\"      \"pred\"        \n",
      " [6] \"bestTune\"     \"call\"         \"dots\"         \"metric\"       \"control\"     \n",
      "[11] \"finalModel\"   \"preProcess\"   \"trainingData\" \"ptype\"        \"resample\"    \n",
      "[16] \"resampledCM\"  \"perfNames\"    \"maximize\"     \"yLimits\"      \"times\"       \n",
      "[21] \"levels\"       \"terms\"        \"coefnames\"    \"xlevels\"     \n",
      "[1] \"preprocessing raster at Data/Ground_Validation/Imagery/Quads/BisonGulchQuads.envi\"\n",
      "[1] \"Converted to Data frame?\"\n",
      "[1] TRUE\n",
      "[1] \"Noisy columns removed\"\n",
      "[1] TRUE\n",
      "[1] \"Filtered\"\n",
      "[1] TRUE\n",
      "[1] \"Imputing...\"\n"
     ]
    },
    {
     "name": "stderr",
     "output_type": "stream",
     "text": [
      "Using spline to predict value at new bands...\n",
      "\n",
      "Beware the spectra are now partially smoothed.\n",
      "\n"
     ]
    },
    {
     "name": "stdout",
     "output_type": "stream",
     "text": [
      "[1] \"Imputing...\"\n"
     ]
    },
    {
     "name": "stderr",
     "output_type": "stream",
     "text": [
      "\u001b[1m\u001b[22m`.cols` has been renamed and is deprecated, please use `.vars`\n"
     ]
    },
    {
     "name": "stdout",
     "output_type": "stream",
     "text": [
      "          x        y z\n",
      "1 -148.9508 63.80701 3\n",
      "2 -148.9508 63.80701 3\n",
      "3 -148.9508 63.80701 3\n",
      "4 -148.9508 63.80701 3\n",
      "5 -148.9508 63.80701 3\n",
      "6 -148.9508 63.80701 3\n",
      "          x        y z\n",
      "1 -148.9508 63.80701 3\n",
      "2 -148.9508 63.80701 3\n",
      "3 -148.9508 63.80701 3\n",
      "4 -148.9508 63.80701 3\n",
      "5 -148.9508 63.80701 3\n",
      "6 -148.9508 63.80701 3\n",
      "[1] \"Attempting to save to ./validation_saved_output.grd\"\n",
      "[1] \"Converted to Raster\"\n",
      "Reading layer `Bisoon_Quadrats_georeferenced' from data source \n",
      "  `/home/krbundy/GitHub/lecospec/Data/Vectors/Bisoon_Quadrats_georeferenced.shp' \n",
      "  using driver `ESRI Shapefile'\n",
      "Simple feature collection with 9 features and 3 fields\n",
      "Geometry type: POLYGON\n",
      "Dimension:     XY\n",
      "Bounding box:  xmin: -148.9524 ymin: 63.80698 xmax: -148.9508 ymax: 63.80701\n",
      "Geodetic CRS:  WGS 84\n",
      "[1] \"Bisongulch0\"  \"Bisongulch70\" \"Bisongulch80\" \"Bisongulch10\" \"Bisongulch90\"\n",
      "[6] \"Bisongulch20\" \"Bisongulch50\" \"Bisongulch30\" \"Bisongulch40\"\n",
      "Simple feature collection with 1 feature and 3 fields\n",
      "Geometry type: POLYGON\n",
      "Dimension:     XY\n",
      "Bounding box:  xmin: -148.9508 ymin: 63.807 xmax: -148.9508 ymax: 63.80701\n",
      "Geodetic CRS:  GCS_unknown\n",
      "  CLASS_ID  CLASS_NAME AREA                       geometry\n",
      "1        1 Bisongulch0  612 POLYGON ((-148.9508 63.807,...\n"
     ]
    },
    {
     "name": "stderr",
     "output_type": "stream",
     "text": [
      "Saving 6.67 x 6.67 in image\n",
      "\n"
     ]
    },
    {
     "name": "stdout",
     "output_type": "stream",
     "text": [
      "Simple feature collection with 1 feature and 3 fields\n",
      "Geometry type: POLYGON\n",
      "Dimension:     XY\n",
      "Bounding box:  xmin: -148.952 ymin: 63.80699 xmax: -148.952 ymax: 63.807\n",
      "Geodetic CRS:  GCS_unknown\n",
      "  CLASS_ID   CLASS_NAME AREA                       geometry\n",
      "2        7 Bisongulch70  649 POLYGON ((-148.952 63.80699...\n"
     ]
    },
    {
     "name": "stderr",
     "output_type": "stream",
     "text": [
      "Saving 6.67 x 6.67 in image\n",
      "\n"
     ]
    },
    {
     "name": "stdout",
     "output_type": "stream",
     "text": [
      "Simple feature collection with 1 feature and 3 fields\n",
      "Geometry type: POLYGON\n",
      "Dimension:     XY\n",
      "Bounding box:  xmin: -148.9522 ymin: 63.80699 xmax: -148.9522 ymax: 63.807\n",
      "Geodetic CRS:  GCS_unknown\n",
      "  CLASS_ID   CLASS_NAME AREA                       geometry\n",
      "3        8 Bisongulch80  661 POLYGON ((-148.9522 63.8069...\n"
     ]
    },
    {
     "name": "stderr",
     "output_type": "stream",
     "text": [
      "Saving 6.67 x 6.67 in image\n",
      "\n"
     ]
    },
    {
     "name": "stdout",
     "output_type": "stream",
     "text": [
      "Simple feature collection with 1 feature and 3 fields\n",
      "Geometry type: POLYGON\n",
      "Dimension:     XY\n",
      "Bounding box:  xmin: -148.951 ymin: 63.80699 xmax: -148.9509 ymax: 63.807\n",
      "Geodetic CRS:  GCS_unknown\n",
      "  CLASS_ID   CLASS_NAME AREA                       geometry\n",
      "4        2 Bisongulch10  649 POLYGON ((-148.9509 63.8069...\n"
     ]
    },
    {
     "name": "stderr",
     "output_type": "stream",
     "text": [
      "Saving 6.67 x 6.67 in image\n",
      "\n"
     ]
    },
    {
     "name": "stdout",
     "output_type": "stream",
     "text": [
      "Simple feature collection with 1 feature and 3 fields\n",
      "Geometry type: POLYGON\n",
      "Dimension:     XY\n",
      "Bounding box:  xmin: -148.9524 ymin: 63.80699 xmax: -148.9524 ymax: 63.807\n",
      "Geodetic CRS:  GCS_unknown\n",
      "  CLASS_ID   CLASS_NAME AREA                       geometry\n",
      "5        9 Bisongulch90  648 POLYGON ((-148.9524 63.8069...\n"
     ]
    },
    {
     "name": "stderr",
     "output_type": "stream",
     "text": [
      "Saving 6.67 x 6.67 in image\n",
      "\n"
     ]
    },
    {
     "name": "stdout",
     "output_type": "stream",
     "text": [
      "Simple feature collection with 1 feature and 3 fields\n",
      "Geometry type: POLYGON\n",
      "Dimension:     XY\n",
      "Bounding box:  xmin: -148.9512 ymin: 63.80699 xmax: -148.9512 ymax: 63.807\n",
      "Geodetic CRS:  GCS_unknown\n",
      "  CLASS_ID   CLASS_NAME AREA                       geometry\n",
      "6        3 Bisongulch20  574 POLYGON ((-148.9512 63.8069...\n"
     ]
    },
    {
     "name": "stderr",
     "output_type": "stream",
     "text": [
      "Saving 6.67 x 6.67 in image\n",
      "\n"
     ]
    },
    {
     "name": "stdout",
     "output_type": "stream",
     "text": [
      "Simple feature collection with 1 feature and 3 fields\n",
      "Geometry type: POLYGON\n",
      "Dimension:     XY\n",
      "Bounding box:  xmin: -148.9518 ymin: 63.80699 xmax: -148.9518 ymax: 63.807\n",
      "Geodetic CRS:  GCS_unknown\n",
      "  CLASS_ID   CLASS_NAME AREA                       geometry\n",
      "7        6 Bisongulch50  673 POLYGON ((-148.9518 63.8069...\n"
     ]
    },
    {
     "name": "stderr",
     "output_type": "stream",
     "text": [
      "Saving 6.67 x 6.67 in image\n",
      "\n"
     ]
    },
    {
     "name": "stdout",
     "output_type": "stream",
     "text": [
      "Simple feature collection with 1 feature and 3 fields\n",
      "Geometry type: POLYGON\n",
      "Dimension:     XY\n",
      "Bounding box:  xmin: -148.9514 ymin: 63.80699 xmax: -148.9514 ymax: 63.807\n",
      "Geodetic CRS:  GCS_unknown\n",
      "  CLASS_ID   CLASS_NAME AREA                       geometry\n",
      "8        4 Bisongulch30  673 POLYGON ((-148.9514 63.8069...\n"
     ]
    },
    {
     "name": "stderr",
     "output_type": "stream",
     "text": [
      "Saving 6.67 x 6.67 in image\n",
      "\n"
     ]
    },
    {
     "name": "stdout",
     "output_type": "stream",
     "text": [
      "Simple feature collection with 1 feature and 3 fields\n",
      "Geometry type: POLYGON\n",
      "Dimension:     XY\n",
      "Bounding box:  xmin: -148.9516 ymin: 63.80698 xmax: -148.9516 ymax: 63.80699\n",
      "Geodetic CRS:  GCS_unknown\n",
      "  CLASS_ID   CLASS_NAME AREA                       geometry\n",
      "9        5 Bisongulch40  674 POLYGON ((-148.9516 63.8069...\n"
     ]
    },
    {
     "name": "stderr",
     "output_type": "stream",
     "text": [
      "Saving 6.67 x 6.67 in image\n",
      "\n"
     ]
    },
    {
     "name": "stdout",
     "output_type": "stream",
     "text": [
      "[1] \"z\"\n"
     ]
    },
    {
     "name": "stderr",
     "output_type": "stream",
     "text": [
      "Saving 6.67 x 6.67 in image\n",
      "\n",
      "Saving 6.67 x 6.67 in image\n",
      "\n",
      "Saving 6.67 x 6.67 in image\n",
      "\n",
      "Saving 6.67 x 6.67 in image\n",
      "\n",
      "Saving 6.67 x 6.67 in image\n",
      "\n",
      "Saving 6.67 x 6.67 in image\n",
      "\n",
      "Saving 6.67 x 6.67 in image\n",
      "\n",
      "Saving 6.67 x 6.67 in image\n",
      "\n",
      "Saving 6.67 x 6.67 in image\n",
      "\n"
     ]
    },
    {
     "name": "stdout",
     "output_type": "stream",
     "text": [
      "[1] \"preprocessing raster at Data/Ground_Validation/Imagery/Quads/ChatanikaQuads.envi\"\n",
      "[1] \"Converted to Data frame?\"\n",
      "[1] TRUE\n",
      "[1] \"Noisy columns removed\"\n",
      "[1] TRUE\n",
      "[1] \"Filtered\"\n",
      "[1] TRUE\n",
      "[1] \"Imputing...\"\n"
     ]
    },
    {
     "name": "stderr",
     "output_type": "stream",
     "text": [
      "Using spline to predict value at new bands...\n",
      "\n",
      "Beware the spectra are now partially smoothed.\n",
      "\n"
     ]
    },
    {
     "name": "stdout",
     "output_type": "stream",
     "text": [
      "[1] \"Imputing...\"\n"
     ]
    },
    {
     "name": "stderr",
     "output_type": "stream",
     "text": [
      "\u001b[1m\u001b[22m`.cols` has been renamed and is deprecated, please use `.vars`\n"
     ]
    },
    {
     "name": "stdout",
     "output_type": "stream",
     "text": [
      "          x        y z\n",
      "1 -147.4827 65.15287 3\n",
      "2 -147.4827 65.15287 3\n",
      "3 -147.4827 65.15287 3\n",
      "4 -147.4827 65.15287 3\n",
      "5 -147.4827 65.15287 3\n",
      "6 -147.4827 65.15287 3\n",
      "          x        y z\n",
      "1 -147.4827 65.15287 3\n",
      "2 -147.4827 65.15287 3\n",
      "3 -147.4827 65.15287 3\n",
      "4 -147.4827 65.15287 3\n",
      "5 -147.4827 65.15287 3\n",
      "6 -147.4827 65.15287 3\n",
      "[1] \"Attempting to save to ./validation_saved_output.grd\"\n",
      "[1] \"Converted to Raster\"\n",
      "Reading layer `ChatanikaQuads_georeferenced' from data source \n",
      "  `/home/krbundy/GitHub/lecospec/Data/Vectors/ChatanikaQuads_georeferenced.shp' \n",
      "  using driver `ESRI Shapefile'\n",
      "Simple feature collection with 11 features and 3 fields\n",
      "Geometry type: POLYGON\n",
      "Dimension:     XY\n",
      "Bounding box:  xmin: -147.4827 ymin: 65.15281 xmax: -147.4806 ymax: 65.15287\n",
      "Geodetic CRS:  WGS 84\n",
      " [1] \"Chatanika100\" \"Chatanika90\"  \"Chatanika70\"  \"Chatanika80\"  \"Chatanika60\" \n",
      " [6] \"Chatanika50\"  \"Chatanika40\"  \"Chatanika30\"  \"Chatanika20\"  \"Chatanika10\" \n",
      "[11] \"Chatanika0\"  \n",
      "Simple feature collection with 1 feature and 3 fields\n",
      "Geometry type: POLYGON\n",
      "Dimension:     XY\n",
      "Bounding box:  xmin: -147.4827 ymin: 65.15286 xmax: -147.4827 ymax: 65.15287\n",
      "Geodetic CRS:  GCS_unknown\n",
      "    CLASS_NAME CLASS_ID CLASS_CLRS                       geometry\n",
      "1 Chatanika100       11    0,0,128 POLYGON ((-147.4827 65.1528...\n"
     ]
    },
    {
     "name": "stderr",
     "output_type": "stream",
     "text": [
      "Saving 6.67 x 6.67 in image\n",
      "\n"
     ]
    },
    {
     "name": "stdout",
     "output_type": "stream",
     "text": [
      "Simple feature collection with 1 feature and 3 fields\n",
      "Geometry type: POLYGON\n",
      "Dimension:     XY\n",
      "Bounding box:  xmin: -147.4825 ymin: 65.15285 xmax: -147.4825 ymax: 65.15286\n",
      "Geodetic CRS:  GCS_unknown\n",
      "   CLASS_NAME CLASS_ID CLASS_CLRS                       geometry\n",
      "2 Chatanika90       10    0,255,0 POLYGON ((-147.4825 65.1528...\n"
     ]
    },
    {
     "name": "stderr",
     "output_type": "stream",
     "text": [
      "Saving 6.67 x 6.67 in image\n",
      "\n"
     ]
    },
    {
     "name": "stdout",
     "output_type": "stream",
     "text": [
      "Simple feature collection with 1 feature and 3 fields\n",
      "Geometry type: POLYGON\n",
      "Dimension:     XY\n",
      "Bounding box:  xmin: -147.4821 ymin: 65.15285 xmax: -147.4821 ymax: 65.15286\n",
      "Geodetic CRS:  GCS_unknown\n",
      "   CLASS_NAME CLASS_ID CLASS_CLRS                       geometry\n",
      "3 Chatanika70        8  0,128,128 POLYGON ((-147.4821 65.1528...\n"
     ]
    },
    {
     "name": "stderr",
     "output_type": "stream",
     "text": [
      "Saving 6.67 x 6.67 in image\n",
      "\n"
     ]
    },
    {
     "name": "stdout",
     "output_type": "stream",
     "text": [
      "Simple feature collection with 1 feature and 3 fields\n",
      "Geometry type: POLYGON\n",
      "Dimension:     XY\n",
      "Bounding box:  xmin: -147.4823 ymin: 65.15285 xmax: -147.4823 ymax: 65.15286\n",
      "Geodetic CRS:  GCS_unknown\n",
      "   CLASS_NAME CLASS_ID CLASS_CLRS                       geometry\n",
      "4 Chatanika80        9    128,0,0 POLYGON ((-147.4823 65.1528...\n"
     ]
    },
    {
     "name": "stderr",
     "output_type": "stream",
     "text": [
      "Saving 6.67 x 6.67 in image\n",
      "\n"
     ]
    },
    {
     "name": "stdout",
     "output_type": "stream",
     "text": [
      "Simple feature collection with 1 feature and 3 fields\n",
      "Geometry type: POLYGON\n",
      "Dimension:     XY\n",
      "Bounding box:  xmin: -147.4819 ymin: 65.15285 xmax: -147.4819 ymax: 65.15286\n",
      "Geodetic CRS:  GCS_unknown\n",
      "   CLASS_NAME CLASS_ID CLASS_CLRS                       geometry\n",
      "5 Chatanika60        7  128,128,0 POLYGON ((-147.4819 65.1528...\n"
     ]
    },
    {
     "name": "stderr",
     "output_type": "stream",
     "text": [
      "Saving 6.67 x 6.67 in image\n",
      "\n"
     ]
    },
    {
     "name": "stdout",
     "output_type": "stream",
     "text": [
      "Simple feature collection with 1 feature and 3 fields\n",
      "Geometry type: POLYGON\n",
      "Dimension:     XY\n",
      "Bounding box:  xmin: -147.4817 ymin: 65.15284 xmax: -147.4816 ymax: 65.15285\n",
      "Geodetic CRS:  GCS_unknown\n",
      "   CLASS_NAME CLASS_ID CLASS_CLRS                       geometry\n",
      "6 Chatanika50        6  255,0,255 POLYGON ((-147.4816 65.1528...\n"
     ]
    },
    {
     "name": "stderr",
     "output_type": "stream",
     "text": [
      "Saving 6.67 x 6.67 in image\n",
      "\n"
     ]
    },
    {
     "name": "stdout",
     "output_type": "stream",
     "text": [
      "Simple feature collection with 1 feature and 3 fields\n",
      "Geometry type: POLYGON\n",
      "Dimension:     XY\n",
      "Bounding box:  xmin: -147.4815 ymin: 65.15283 xmax: -147.4814 ymax: 65.15284\n",
      "Geodetic CRS:  GCS_unknown\n",
      "   CLASS_NAME CLASS_ID CLASS_CLRS                       geometry\n",
      "7 Chatanika40        5  0,255,255 POLYGON ((-147.4814 65.1528...\n"
     ]
    },
    {
     "name": "stderr",
     "output_type": "stream",
     "text": [
      "Saving 6.67 x 6.67 in image\n",
      "\n"
     ]
    },
    {
     "name": "stdout",
     "output_type": "stream",
     "text": [
      "Simple feature collection with 1 feature and 3 fields\n",
      "Geometry type: POLYGON\n",
      "Dimension:     XY\n",
      "Bounding box:  xmin: -147.4812 ymin: 65.15282 xmax: -147.4812 ymax: 65.15283\n",
      "Geodetic CRS:  GCS_unknown\n",
      "   CLASS_NAME CLASS_ID CLASS_CLRS                       geometry\n",
      "8 Chatanika30        4  255,255,0 POLYGON ((-147.4812 65.1528...\n"
     ]
    },
    {
     "name": "stderr",
     "output_type": "stream",
     "text": [
      "Saving 6.67 x 6.67 in image\n",
      "\n"
     ]
    },
    {
     "name": "stdout",
     "output_type": "stream",
     "text": [
      "Simple feature collection with 1 feature and 3 fields\n",
      "Geometry type: POLYGON\n",
      "Dimension:     XY\n",
      "Bounding box:  xmin: -147.481 ymin: 65.15281 xmax: -147.481 ymax: 65.15282\n",
      "Geodetic CRS:  GCS_unknown\n",
      "   CLASS_NAME CLASS_ID CLASS_CLRS                       geometry\n",
      "9 Chatanika20        3    0,0,255 POLYGON ((-147.481 65.15282...\n"
     ]
    },
    {
     "name": "stderr",
     "output_type": "stream",
     "text": [
      "Saving 6.67 x 6.67 in image\n",
      "\n"
     ]
    },
    {
     "name": "stdout",
     "output_type": "stream",
     "text": [
      "Simple feature collection with 1 feature and 3 fields\n",
      "Geometry type: POLYGON\n",
      "Dimension:     XY\n",
      "Bounding box:  xmin: -147.4808 ymin: 65.15281 xmax: -147.4808 ymax: 65.15282\n",
      "Geodetic CRS:  GCS_unknown\n",
      "    CLASS_NAME CLASS_ID CLASS_CLRS                       geometry\n",
      "10 Chatanika10        2    0,128,0 POLYGON ((-147.4808 65.1528...\n"
     ]
    },
    {
     "name": "stderr",
     "output_type": "stream",
     "text": [
      "Saving 6.67 x 6.67 in image\n",
      "\n"
     ]
    },
    {
     "name": "stdout",
     "output_type": "stream",
     "text": [
      "Simple feature collection with 1 feature and 3 fields\n",
      "Geometry type: POLYGON\n",
      "Dimension:     XY\n",
      "Bounding box:  xmin: -147.4806 ymin: 65.15281 xmax: -147.4806 ymax: 65.15281\n",
      "Geodetic CRS:  GCS_unknown\n",
      "   CLASS_NAME CLASS_ID CLASS_CLRS                       geometry\n",
      "11 Chatanika0        1    255,0,0 POLYGON ((-147.4806 65.1528...\n"
     ]
    },
    {
     "name": "stderr",
     "output_type": "stream",
     "text": [
      "Saving 6.67 x 6.67 in image\n",
      "\n"
     ]
    },
    {
     "name": "stdout",
     "output_type": "stream",
     "text": [
      "[1] \"z\"\n"
     ]
    },
    {
     "name": "stderr",
     "output_type": "stream",
     "text": [
      "Saving 6.67 x 6.67 in image\n",
      "\n",
      "Saving 6.67 x 6.67 in image\n",
      "\n",
      "Saving 6.67 x 6.67 in image\n",
      "\n",
      "Saving 6.67 x 6.67 in image\n",
      "\n",
      "Saving 6.67 x 6.67 in image\n",
      "\n",
      "Saving 6.67 x 6.67 in image\n",
      "\n",
      "Saving 6.67 x 6.67 in image\n",
      "\n",
      "Saving 6.67 x 6.67 in image\n",
      "\n",
      "Saving 6.67 x 6.67 in image\n",
      "\n",
      "Saving 6.67 x 6.67 in image\n",
      "\n",
      "Saving 6.67 x 6.67 in image\n",
      "\n"
     ]
    },
    {
     "name": "stdout",
     "output_type": "stream",
     "text": [
      "[1] \"preprocessing raster at Data/Ground_Validation/Imagery/Quads/TwelveMileGulchQuads1.envi\"\n",
      "[1] \"Converted to Data frame?\"\n",
      "[1] TRUE\n",
      "[1] \"Noisy columns removed\"\n",
      "[1] TRUE\n",
      "[1] \"Filtered\"\n",
      "[1] TRUE\n",
      "[1] \"Imputing...\"\n"
     ]
    },
    {
     "name": "stderr",
     "output_type": "stream",
     "text": [
      "Using spline to predict value at new bands...\n",
      "\n",
      "Beware the spectra are now partially smoothed.\n",
      "\n"
     ]
    },
    {
     "name": "stdout",
     "output_type": "stream",
     "text": [
      "[1] \"Imputing...\"\n"
     ]
    },
    {
     "name": "stderr",
     "output_type": "stream",
     "text": [
      "\u001b[1m\u001b[22m`.cols` has been renamed and is deprecated, please use `.vars`\n"
     ]
    },
    {
     "name": "stdout",
     "output_type": "stream",
     "text": [
      "         x        y z\n",
      "1 -145.979 65.40191 3\n",
      "2 -145.979 65.40191 3\n",
      "3 -145.979 65.40191 3\n",
      "4 -145.979 65.40191 3\n",
      "5 -145.979 65.40191 3\n",
      "6 -145.979 65.40191 3\n",
      "         x        y z\n",
      "1 -145.979 65.40191 3\n",
      "2 -145.979 65.40191 3\n",
      "3 -145.979 65.40191 3\n",
      "4 -145.979 65.40191 3\n",
      "5 -145.979 65.40191 3\n",
      "6 -145.979 65.40191 3\n",
      "[1] \"Attempting to save to ./validation_saved_output.grd\"\n",
      "[1] \"Converted to Raster\"\n",
      "Reading layer `TwelveMileQ0_10_20_30_40m' from data source \n",
      "  `/home/krbundy/GitHub/lecospec/Data/Vectors/TwelveMileQ0_10_20_30_40m.shp' \n",
      "  using driver `ESRI Shapefile'\n",
      "Simple feature collection with 5 features and 3 fields\n",
      "Geometry type: POLYGON\n",
      "Dimension:     XY\n",
      "Bounding box:  xmin: -145.979 ymin: 65.4018 xmax: -145.9782 ymax: 65.40191\n",
      "Geodetic CRS:  WGS 84\n",
      "[1] \"Twelvemile40\" \"Twelvemile30\" \"Twelvemile20\" \"Twelvemile10\" \"Twelvemile0\" \n",
      "Simple feature collection with 1 feature and 3 fields\n",
      "Geometry type: POLYGON\n",
      "Dimension:     XY\n",
      "Bounding box:  xmin: -145.979 ymin: 65.4019 xmax: -145.979 ymax: 65.40191\n",
      "Geodetic CRS:  GCS_unknown\n",
      "  CLASS_ID   CLASS_NAME AREA                       geometry\n",
      "1        4 Twelvemile40  288 POLYGON ((-145.979 65.4019,...\n"
     ]
    },
    {
     "name": "stderr",
     "output_type": "stream",
     "text": [
      "Saving 6.67 x 6.67 in image\n",
      "\n"
     ]
    },
    {
     "name": "stdout",
     "output_type": "stream",
     "text": [
      "Simple feature collection with 1 feature and 3 fields\n",
      "Geometry type: POLYGON\n",
      "Dimension:     XY\n",
      "Bounding box:  xmin: -145.9788 ymin: 65.40187 xmax: -145.9788 ymax: 65.40188\n",
      "Geodetic CRS:  GCS_unknown\n",
      "  CLASS_ID   CLASS_NAME AREA                       geometry\n",
      "2        1 Twelvemile30  281 POLYGON ((-145.9788 65.4018...\n"
     ]
    },
    {
     "name": "stderr",
     "output_type": "stream",
     "text": [
      "Saving 6.67 x 6.67 in image\n",
      "\n"
     ]
    },
    {
     "name": "stdout",
     "output_type": "stream",
     "text": [
      "Simple feature collection with 1 feature and 3 fields\n",
      "Geometry type: POLYGON\n",
      "Dimension:     XY\n",
      "Bounding box:  xmin: -145.9786 ymin: 65.40185 xmax: -145.9786 ymax: 65.40186\n",
      "Geodetic CRS:  GCS_unknown\n",
      "  CLASS_ID   CLASS_NAME AREA                       geometry\n",
      "3        2 Twelvemile20  328 POLYGON ((-145.9786 65.4018...\n"
     ]
    },
    {
     "name": "stderr",
     "output_type": "stream",
     "text": [
      "Saving 6.67 x 6.67 in image\n",
      "\n"
     ]
    },
    {
     "name": "stdout",
     "output_type": "stream",
     "text": [
      "Simple feature collection with 1 feature and 3 fields\n",
      "Geometry type: POLYGON\n",
      "Dimension:     XY\n",
      "Bounding box:  xmin: -145.9784 ymin: 65.40183 xmax: -145.9784 ymax: 65.40184\n",
      "Geodetic CRS:  GCS_unknown\n",
      "  CLASS_ID   CLASS_NAME AREA                       geometry\n",
      "4        3 Twelvemile10  308 POLYGON ((-145.9784 65.4018...\n"
     ]
    },
    {
     "name": "stderr",
     "output_type": "stream",
     "text": [
      "Saving 6.67 x 6.67 in image\n",
      "\n"
     ]
    },
    {
     "name": "stdout",
     "output_type": "stream",
     "text": [
      "Simple feature collection with 1 feature and 3 fields\n",
      "Geometry type: POLYGON\n",
      "Dimension:     XY\n",
      "Bounding box:  xmin: -145.9782 ymin: 65.4018 xmax: -145.9782 ymax: 65.40181\n",
      "Geodetic CRS:  GCS_unknown\n",
      "  CLASS_ID  CLASS_NAME AREA                       geometry\n",
      "5        5 Twelvemile0  336 POLYGON ((-145.9782 65.4018...\n"
     ]
    },
    {
     "name": "stderr",
     "output_type": "stream",
     "text": [
      "Saving 6.67 x 6.67 in image\n",
      "\n"
     ]
    },
    {
     "name": "stdout",
     "output_type": "stream",
     "text": [
      "[1] \"z\"\n"
     ]
    },
    {
     "name": "stderr",
     "output_type": "stream",
     "text": [
      "Saving 6.67 x 6.67 in image\n",
      "\n",
      "Saving 6.67 x 6.67 in image\n",
      "\n",
      "Saving 6.67 x 6.67 in image\n",
      "\n",
      "Saving 6.67 x 6.67 in image\n",
      "\n",
      "Saving 6.67 x 6.67 in image\n",
      "\n"
     ]
    },
    {
     "name": "stdout",
     "output_type": "stream",
     "text": [
      "[1] \"preprocessing raster at Data/Ground_Validation/Imagery/Quads/TwelveMileGulchQuads2.envi\"\n",
      "[1] \"Converted to Data frame?\"\n",
      "[1] TRUE\n",
      "[1] \"Noisy columns removed\"\n",
      "[1] TRUE\n",
      "[1] \"Filtered\"\n",
      "[1] TRUE\n",
      "[1] \"Imputing...\"\n"
     ]
    },
    {
     "name": "stderr",
     "output_type": "stream",
     "text": [
      "Using spline to predict value at new bands...\n",
      "\n",
      "Beware the spectra are now partially smoothed.\n",
      "\n"
     ]
    },
    {
     "name": "stdout",
     "output_type": "stream",
     "text": [
      "[1] \"Imputing...\"\n"
     ]
    },
    {
     "name": "stderr",
     "output_type": "stream",
     "text": [
      "\u001b[1m\u001b[22m`.cols` has been renamed and is deprecated, please use `.vars`\n"
     ]
    },
    {
     "name": "stdout",
     "output_type": "stream",
     "text": [
      "          x        y z\n",
      "1 -145.9802 65.40203 3\n",
      "2 -145.9802 65.40203 3\n",
      "3 -145.9802 65.40203 3\n",
      "4 -145.9802 65.40203 3\n",
      "5 -145.9802 65.40203 3\n",
      "6 -145.9802 65.40203 3\n",
      "          x        y z\n",
      "1 -145.9802 65.40203 3\n",
      "2 -145.9802 65.40203 3\n",
      "3 -145.9802 65.40203 3\n",
      "4 -145.9802 65.40203 3\n",
      "5 -145.9802 65.40203 3\n",
      "6 -145.9802 65.40203 3\n",
      "[1] \"Attempting to save to ./validation_saved_output.grd\"\n",
      "[1] \"Converted to Raster\"\n",
      "Reading layer `TwelveMileQ70_80_90_100m' from data source \n",
      "  `/home/krbundy/GitHub/lecospec/Data/Vectors/TwelveMileQ70_80_90_100m.shp' \n",
      "  using driver `ESRI Shapefile'\n",
      "Simple feature collection with 4 features and 3 fields\n",
      "Geometry type: POLYGON\n",
      "Dimension:     XY\n",
      "Bounding box:  xmin: -145.9802 ymin: 65.40196 xmax: -145.9796 ymax: 65.40203\n",
      "Geodetic CRS:  WGS 84\n",
      "[1] \"Twelvemile100\" \"Twelvemile90\"  \"Twelvemile80\"  \"Twelvemile70\" \n",
      "Simple feature collection with 1 feature and 3 fields\n",
      "Geometry type: POLYGON\n",
      "Dimension:     XY\n",
      "Bounding box:  xmin: -145.9802 ymin: 65.40202 xmax: -145.9802 ymax: 65.40203\n",
      "Geodetic CRS:  GCS_unknown\n",
      "  CLASS_ID    CLASS_NAME AREA                       geometry\n",
      "1        4 Twelvemile100  492 POLYGON ((-145.9802 65.4020...\n"
     ]
    },
    {
     "name": "stderr",
     "output_type": "stream",
     "text": [
      "Saving 6.67 x 6.67 in image\n",
      "\n"
     ]
    },
    {
     "name": "stdout",
     "output_type": "stream",
     "text": [
      "Simple feature collection with 1 feature and 3 fields\n",
      "Geometry type: POLYGON\n",
      "Dimension:     XY\n",
      "Bounding box:  xmin: -145.98 ymin: 65.402 xmax: -145.98 ymax: 65.40201\n",
      "Geodetic CRS:  GCS_unknown\n",
      "  CLASS_ID   CLASS_NAME AREA                       geometry\n",
      "2        3 Twelvemile90  473 POLYGON ((-145.98 65.402, -...\n"
     ]
    },
    {
     "name": "stderr",
     "output_type": "stream",
     "text": [
      "Saving 6.67 x 6.67 in image\n",
      "\n"
     ]
    },
    {
     "name": "stdout",
     "output_type": "stream",
     "text": [
      "Simple feature collection with 1 feature and 3 fields\n",
      "Geometry type: POLYGON\n",
      "Dimension:     XY\n",
      "Bounding box:  xmin: -145.9798 ymin: 65.40198 xmax: -145.9798 ymax: 65.40199\n",
      "Geodetic CRS:  GCS_unknown\n",
      "  CLASS_ID   CLASS_NAME AREA                       geometry\n",
      "3        2 Twelvemile80  631 POLYGON ((-145.9798 65.4019...\n"
     ]
    },
    {
     "name": "stderr",
     "output_type": "stream",
     "text": [
      "Saving 6.67 x 6.67 in image\n",
      "\n"
     ]
    },
    {
     "name": "stdout",
     "output_type": "stream",
     "text": [
      "Simple feature collection with 1 feature and 3 fields\n",
      "Geometry type: POLYGON\n",
      "Dimension:     XY\n",
      "Bounding box:  xmin: -145.9796 ymin: 65.40196 xmax: -145.9796 ymax: 65.40197\n",
      "Geodetic CRS:  GCS_unknown\n",
      "  CLASS_ID   CLASS_NAME AREA                       geometry\n",
      "4        1 Twelvemile70  518 POLYGON ((-145.9796 65.4019...\n"
     ]
    },
    {
     "name": "stderr",
     "output_type": "stream",
     "text": [
      "Saving 6.67 x 6.67 in image\n",
      "\n"
     ]
    },
    {
     "name": "stdout",
     "output_type": "stream",
     "text": [
      "[1] \"z\"\n"
     ]
    },
    {
     "name": "stderr",
     "output_type": "stream",
     "text": [
      "Saving 6.67 x 6.67 in image\n",
      "\n",
      "Saving 6.67 x 6.67 in image\n",
      "\n",
      "Saving 6.67 x 6.67 in image\n",
      "\n",
      "Saving 6.67 x 6.67 in image\n",
      "\n"
     ]
    },
    {
     "name": "stdout",
     "output_type": "stream",
     "text": [
      "[1] \"preprocessing raster at Data/Ground_Validation/Imagery/Quads/EightMileQuads.envi\"\n",
      "[1] \"Converted to Data frame?\"\n",
      "[1] TRUE\n",
      "[1] \"Noisy columns removed\"\n",
      "[1] TRUE\n",
      "[1] \"Filtered\"\n",
      "[1] TRUE\n",
      "[1] \"Imputing...\"\n"
     ]
    },
    {
     "name": "stderr",
     "output_type": "stream",
     "text": [
      "Using spline to predict value at new bands...\n",
      "\n",
      "Beware the spectra are now partially smoothed.\n",
      "\n"
     ]
    },
    {
     "name": "stdout",
     "output_type": "stream",
     "text": [
      "[1] \"Imputing...\"\n"
     ]
    },
    {
     "name": "stderr",
     "output_type": "stream",
     "text": [
      "\u001b[1m\u001b[22m`.cols` has been renamed and is deprecated, please use `.vars`\n"
     ]
    },
    {
     "name": "stdout",
     "output_type": "stream",
     "text": [
      "          x        y z\n",
      "1 -149.2529 63.87686 3\n",
      "2 -149.2529 63.87686 3\n",
      "3 -149.2529 63.87686 3\n",
      "4 -149.2529 63.87686 3\n",
      "5 -149.2529 63.87686 3\n",
      "6 -149.2529 63.87686 3\n",
      "          x        y z\n",
      "1 -149.2529 63.87686 3\n",
      "2 -149.2529 63.87686 3\n",
      "3 -149.2529 63.87686 3\n",
      "4 -149.2529 63.87686 3\n",
      "5 -149.2529 63.87686 3\n",
      "6 -149.2529 63.87686 3\n",
      "[1] \"Attempting to save to ./validation_saved_output.grd\"\n",
      "[1] \"Converted to Raster\"\n",
      "Reading layer `EightMile_Quadrats_revised' from data source \n",
      "  `/home/krbundy/GitHub/lecospec/Data/Vectors/EightMile_Quadrats_revised.shp' \n",
      "  using driver `ESRI Shapefile'\n",
      "Simple feature collection with 11 features and 3 fields\n",
      "Geometry type: POLYGON\n",
      "Dimension:     XY\n",
      "Bounding box:  xmin: -149.2549 ymin: 63.87666 xmax: -149.2529 ymax: 63.87686\n",
      "Geodetic CRS:  WGS 84\n",
      " [1] \"Eightmile10\"  \"Eightmile0\"   \"Eightmile60\"  \"Eightmile50\"  \"Eightmile40\" \n",
      " [6] \"Eightmile30\"  \"Eightmile20\"  \"Eightmile100\" \"Eightmile90\"  \"Eightmile80\" \n",
      "[11] \"Eightmile70\" \n",
      "Simple feature collection with 1 feature and 3 fields\n",
      "Geometry type: POLYGON\n",
      "Dimension:     XY\n",
      "Bounding box:  xmin: -149.2547 ymin: 63.87667 xmax: -149.2546 ymax: 63.87669\n",
      "Geodetic CRS:  GCS_unknown\n",
      "   CLASS_NAME CLASS_ID CLASS_CLRS                       geometry\n",
      "1 Eightmile10        2    0,128,0 POLYGON ((-149.2547 63.8766...\n"
     ]
    },
    {
     "name": "stderr",
     "output_type": "stream",
     "text": [
      "Saving 6.67 x 6.67 in image\n",
      "\n"
     ]
    },
    {
     "name": "stdout",
     "output_type": "stream",
     "text": [
      "Simple feature collection with 1 feature and 3 fields\n",
      "Geometry type: POLYGON\n",
      "Dimension:     XY\n",
      "Bounding box:  xmin: -149.2549 ymin: 63.87666 xmax: -149.2548 ymax: 63.87667\n",
      "Geodetic CRS:  GCS_unknown\n",
      "  CLASS_NAME CLASS_ID CLASS_CLRS                       geometry\n",
      "2 Eightmile0        1    255,0,0 POLYGON ((-149.2548 63.8766...\n"
     ]
    },
    {
     "name": "stderr",
     "output_type": "stream",
     "text": [
      "Saving 6.67 x 6.67 in image\n",
      "\n"
     ]
    },
    {
     "name": "stdout",
     "output_type": "stream",
     "text": [
      "Simple feature collection with 1 feature and 3 fields\n",
      "Geometry type: POLYGON\n",
      "Dimension:     XY\n",
      "Bounding box:  xmin: -149.2537 ymin: 63.87675 xmax: -149.2537 ymax: 63.87677\n",
      "Geodetic CRS:  GCS_unknown\n",
      "   CLASS_NAME CLASS_ID CLASS_CLRS                       geometry\n",
      "3 Eightmile60        7  128,128,0 POLYGON ((-149.2537 63.8767...\n"
     ]
    },
    {
     "name": "stderr",
     "output_type": "stream",
     "text": [
      "Saving 6.67 x 6.67 in image\n",
      "\n"
     ]
    },
    {
     "name": "stdout",
     "output_type": "stream",
     "text": [
      "Simple feature collection with 1 feature and 3 fields\n",
      "Geometry type: POLYGON\n",
      "Dimension:     XY\n",
      "Bounding box:  xmin: -149.2539 ymin: 63.87673 xmax: -149.2539 ymax: 63.87674\n",
      "Geodetic CRS:  GCS_unknown\n",
      "   CLASS_NAME CLASS_ID CLASS_CLRS                       geometry\n",
      "4 Eightmile50        6  255,0,255 POLYGON ((-149.2539 63.8767...\n"
     ]
    },
    {
     "name": "stderr",
     "output_type": "stream",
     "text": [
      "Saving 6.67 x 6.67 in image\n",
      "\n"
     ]
    },
    {
     "name": "stdout",
     "output_type": "stream",
     "text": [
      "Simple feature collection with 1 feature and 3 fields\n",
      "Geometry type: POLYGON\n",
      "Dimension:     XY\n",
      "Bounding box:  xmin: -149.2541 ymin: 63.87672 xmax: -149.254 ymax: 63.87673\n",
      "Geodetic CRS:  GCS_unknown\n",
      "   CLASS_NAME CLASS_ID CLASS_CLRS                       geometry\n",
      "5 Eightmile40        5  0,255,255 POLYGON ((-149.254 63.87673...\n"
     ]
    },
    {
     "name": "stderr",
     "output_type": "stream",
     "text": [
      "Saving 6.67 x 6.67 in image\n",
      "\n"
     ]
    },
    {
     "name": "stdout",
     "output_type": "stream",
     "text": [
      "Simple feature collection with 1 feature and 3 fields\n",
      "Geometry type: POLYGON\n",
      "Dimension:     XY\n",
      "Bounding box:  xmin: -149.2543 ymin: 63.87671 xmax: -149.2542 ymax: 63.87672\n",
      "Geodetic CRS:  GCS_unknown\n",
      "   CLASS_NAME CLASS_ID CLASS_CLRS                       geometry\n",
      "6 Eightmile30        4  255,255,0 POLYGON ((-149.2542 63.8767...\n"
     ]
    },
    {
     "name": "stderr",
     "output_type": "stream",
     "text": [
      "Saving 6.67 x 6.67 in image\n",
      "\n"
     ]
    },
    {
     "name": "stdout",
     "output_type": "stream",
     "text": [
      "Simple feature collection with 1 feature and 3 fields\n",
      "Geometry type: POLYGON\n",
      "Dimension:     XY\n",
      "Bounding box:  xmin: -149.2545 ymin: 63.87669 xmax: -149.2544 ymax: 63.8767\n",
      "Geodetic CRS:  GCS_unknown\n",
      "   CLASS_NAME CLASS_ID CLASS_CLRS                       geometry\n",
      "7 Eightmile20        3    0,0,255 POLYGON ((-149.2544 63.8767...\n"
     ]
    },
    {
     "name": "stderr",
     "output_type": "stream",
     "text": [
      "Saving 6.67 x 6.67 in image\n",
      "\n"
     ]
    },
    {
     "name": "stdout",
     "output_type": "stream",
     "text": [
      "Simple feature collection with 1 feature and 3 fields\n",
      "Geometry type: POLYGON\n",
      "Dimension:     XY\n",
      "Bounding box:  xmin: -149.2529 ymin: 63.87685 xmax: -149.2529 ymax: 63.87686\n",
      "Geodetic CRS:  GCS_unknown\n",
      "    CLASS_NAME CLASS_ID CLASS_CLRS                       geometry\n",
      "8 Eightmile100       11    0,255,0 POLYGON ((-149.2529 63.8768...\n"
     ]
    },
    {
     "name": "stderr",
     "output_type": "stream",
     "text": [
      "Saving 6.67 x 6.67 in image\n",
      "\n"
     ]
    },
    {
     "name": "stdout",
     "output_type": "stream",
     "text": [
      "Simple feature collection with 1 feature and 3 fields\n",
      "Geometry type: POLYGON\n",
      "Dimension:     XY\n",
      "Bounding box:  xmin: -149.2531 ymin: 63.87682 xmax: -149.2531 ymax: 63.87684\n",
      "Geodetic CRS:  GCS_unknown\n",
      "   CLASS_NAME CLASS_ID CLASS_CLRS                       geometry\n",
      "9 Eightmile90       10    128,0,0 POLYGON ((-149.2531 63.8768...\n"
     ]
    },
    {
     "name": "stderr",
     "output_type": "stream",
     "text": [
      "Saving 6.67 x 6.67 in image\n",
      "\n"
     ]
    },
    {
     "name": "stdout",
     "output_type": "stream",
     "text": [
      "Simple feature collection with 1 feature and 3 fields\n",
      "Geometry type: POLYGON\n",
      "Dimension:     XY\n",
      "Bounding box:  xmin: -149.2533 ymin: 63.8768 xmax: -149.2533 ymax: 63.87681\n",
      "Geodetic CRS:  GCS_unknown\n",
      "    CLASS_NAME CLASS_ID CLASS_CLRS                       geometry\n",
      "10 Eightmile80        9  255,255,0 POLYGON ((-149.2533 63.8768...\n"
     ]
    },
    {
     "name": "stderr",
     "output_type": "stream",
     "text": [
      "Saving 6.67 x 6.67 in image\n",
      "\n"
     ]
    },
    {
     "name": "stdout",
     "output_type": "stream",
     "text": [
      "Simple feature collection with 1 feature and 3 fields\n",
      "Geometry type: POLYGON\n",
      "Dimension:     XY\n",
      "Bounding box:  xmin: -149.2535 ymin: 63.87678 xmax: -149.2535 ymax: 63.87679\n",
      "Geodetic CRS:  GCS_unknown\n",
      "    CLASS_NAME CLASS_ID CLASS_CLRS                       geometry\n",
      "11 Eightmile70        8  0,128,128 POLYGON ((-149.2535 63.8767...\n"
     ]
    },
    {
     "name": "stderr",
     "output_type": "stream",
     "text": [
      "Saving 6.67 x 6.67 in image\n",
      "\n"
     ]
    },
    {
     "name": "stdout",
     "output_type": "stream",
     "text": [
      "[1] \"z\"\n"
     ]
    },
    {
     "name": "stderr",
     "output_type": "stream",
     "text": [
      "Saving 6.67 x 6.67 in image\n",
      "\n",
      "Saving 6.67 x 6.67 in image\n",
      "\n",
      "Saving 6.67 x 6.67 in image\n",
      "\n",
      "Saving 6.67 x 6.67 in image\n",
      "\n",
      "Saving 6.67 x 6.67 in image\n",
      "\n",
      "Saving 6.67 x 6.67 in image\n",
      "\n",
      "Saving 6.67 x 6.67 in image\n",
      "\n",
      "Saving 6.67 x 6.67 in image\n",
      "\n",
      "Saving 6.67 x 6.67 in image\n",
      "\n",
      "Saving 6.67 x 6.67 in image\n",
      "\n",
      "Saving 6.67 x 6.67 in image\n",
      "\n"
     ]
    },
    {
     "name": "stdout",
     "output_type": "stream",
     "text": [
      "[1] \"preprocessing raster at Data/Ground_Validation/Imagery/Quads/MurphDomeQuads0_10.envi\"\n",
      "[1] \"Converted to Data frame?\"\n",
      "[1] TRUE\n",
      "[1] \"Noisy columns removed\"\n",
      "[1] TRUE\n",
      "[1] \"Filtered\"\n",
      "[1] TRUE\n",
      "[1] \"Imputing...\"\n"
     ]
    },
    {
     "name": "stderr",
     "output_type": "stream",
     "text": [
      "Using spline to predict value at new bands...\n",
      "\n",
      "Beware the spectra are now partially smoothed.\n",
      "\n"
     ]
    },
    {
     "name": "stdout",
     "output_type": "stream",
     "text": [
      "[1] \"Imputing...\"\n"
     ]
    },
    {
     "name": "stderr",
     "output_type": "stream",
     "text": [
      "\u001b[1m\u001b[22m`.cols` has been renamed and is deprecated, please use `.vars`\n"
     ]
    },
    {
     "name": "stdout",
     "output_type": "stream",
     "text": [
      "          x       y z\n",
      "1 -148.3535 64.9538 3\n",
      "2 -148.3535 64.9538 3\n",
      "3 -148.3535 64.9538 3\n",
      "4 -148.3535 64.9538 3\n",
      "5 -148.3535 64.9538 3\n",
      "6 -148.3535 64.9538 3\n",
      "          x       y z\n",
      "1 -148.3535 64.9538 3\n",
      "2 -148.3535 64.9538 3\n",
      "3 -148.3535 64.9538 3\n",
      "4 -148.3535 64.9538 3\n",
      "5 -148.3535 64.9538 3\n",
      "6 -148.3535 64.9538 3\n",
      "[1] \"Attempting to save to ./validation_saved_output.grd\"\n",
      "[1] \"Converted to Raster\"\n",
      "Reading layer `MurphyQuads0_10m' from data source \n",
      "  `/home/krbundy/GitHub/lecospec/Data/Vectors/MurphyQuads0_10m.shp' \n",
      "  using driver `ESRI Shapefile'\n",
      "Simple feature collection with 2 features and 3 fields\n",
      "Geometry type: POLYGON\n",
      "Dimension:     XY\n",
      "Bounding box:  xmin: -148.3535 ymin: 64.95372 xmax: -148.3533 ymax: 64.9538\n",
      "Geodetic CRS:  WGS 84\n",
      "[1] \"Murphydome10\" \"Murphydome0\" \n",
      "Simple feature collection with 1 feature and 3 fields\n",
      "Geometry type: POLYGON\n",
      "Dimension:     XY\n",
      "Bounding box:  xmin: -148.3535 ymin: 64.95379 xmax: -148.3535 ymax: 64.9538\n",
      "Geodetic CRS:  GCS_unknown\n",
      "    CLASS_NAME CLASS_ID CLASS_CLRS                       geometry\n",
      "1 Murphydome10        1    0,0,255 POLYGON ((-148.3535 64.9538...\n"
     ]
    },
    {
     "name": "stderr",
     "output_type": "stream",
     "text": [
      "Saving 6.67 x 6.67 in image\n",
      "\n"
     ]
    },
    {
     "name": "stdout",
     "output_type": "stream",
     "text": [
      "Simple feature collection with 1 feature and 3 fields\n",
      "Geometry type: POLYGON\n",
      "Dimension:     XY\n",
      "Bounding box:  xmin: -148.3534 ymin: 64.95372 xmax: -148.3533 ymax: 64.95373\n",
      "Geodetic CRS:  GCS_unknown\n",
      "   CLASS_NAME CLASS_ID CLASS_CLRS                       geometry\n",
      "2 Murphydome0        2    0,128,0 POLYGON ((-148.3534 64.9537...\n"
     ]
    },
    {
     "name": "stderr",
     "output_type": "stream",
     "text": [
      "Saving 6.67 x 6.67 in image\n",
      "\n"
     ]
    },
    {
     "name": "stdout",
     "output_type": "stream",
     "text": [
      "[1] \"z\"\n"
     ]
    },
    {
     "name": "stderr",
     "output_type": "stream",
     "text": [
      "Saving 6.67 x 6.67 in image\n",
      "\n",
      "Saving 6.67 x 6.67 in image\n",
      "\n"
     ]
    },
    {
     "name": "stdout",
     "output_type": "stream",
     "text": [
      "[1] \"preprocessing raster at Data/Ground_Validation/Imagery/Quads/MurphDomeQuads20_50.envi\"\n",
      "[1] \"Converted to Data frame?\"\n",
      "[1] TRUE\n",
      "[1] \"Noisy columns removed\"\n",
      "[1] TRUE\n",
      "[1] \"Filtered\"\n",
      "[1] TRUE\n",
      "[1] \"Imputing...\"\n"
     ]
    },
    {
     "name": "stderr",
     "output_type": "stream",
     "text": [
      "Using spline to predict value at new bands...\n",
      "\n",
      "Beware the spectra are now partially smoothed.\n",
      "\n"
     ]
    },
    {
     "name": "stdout",
     "output_type": "stream",
     "text": [
      "[1] \"Imputing...\"\n"
     ]
    },
    {
     "name": "stderr",
     "output_type": "stream",
     "text": [
      "\u001b[1m\u001b[22m`.cols` has been renamed and is deprecated, please use `.vars`\n"
     ]
    },
    {
     "name": "stdout",
     "output_type": "stream",
     "text": [
      "          x        y  z\n",
      "1 -148.3540 64.95407 NA\n",
      "2 -148.3541 64.95407  3\n",
      "3 -148.3540 64.95407  3\n",
      "4 -148.3540 64.95407  3\n",
      "5 -148.3541 64.95407  3\n",
      "6 -148.3541 64.95407  3\n",
      "          x        y  z\n",
      "1 -148.3540 64.95407 NA\n",
      "2 -148.3541 64.95407  3\n",
      "3 -148.3540 64.95407  3\n",
      "4 -148.3540 64.95407  3\n",
      "5 -148.3541 64.95407  3\n",
      "6 -148.3541 64.95407  3\n",
      "[1] \"Attempting to save to ./validation_saved_output.grd\"\n",
      "[1] \"Converted to Raster\"\n",
      "Reading layer `MurphyQuads20_50m' from data source \n",
      "  `/home/krbundy/GitHub/lecospec/Data/Vectors/MurphyQuads20_50m.shp' \n",
      "  using driver `ESRI Shapefile'\n",
      "Simple feature collection with 4 features and 3 fields\n",
      "Geometry type: POLYGON\n",
      "Dimension:     XY\n",
      "Bounding box:  xmin: -148.3541 ymin: 64.95384 xmax: -148.3536 ymax: 64.95407\n",
      "Geodetic CRS:  WGS 84\n",
      "[1] \"Murphydome50\" \"Murphydome40\" \"Murphydome30\" \"Murphydome20\"\n",
      "Simple feature collection with 1 feature and 3 fields\n",
      "Geometry type: POLYGON\n",
      "Dimension:     XY\n",
      "Bounding box:  xmin: -148.3541 ymin: 64.95406 xmax: -148.354 ymax: 64.95407\n",
      "Geodetic CRS:  GCS_unknown\n",
      "    CLASS_NAME CLASS_ID CLASS_CLRS                       geometry\n",
      "1 Murphydome50        1  128,128,0 POLYGON ((-148.354 64.95407...\n"
     ]
    },
    {
     "name": "stderr",
     "output_type": "stream",
     "text": [
      "Saving 6.67 x 6.67 in image\n",
      "\n"
     ]
    },
    {
     "name": "stdout",
     "output_type": "stream",
     "text": [
      "Simple feature collection with 1 feature and 3 fields\n",
      "Geometry type: POLYGON\n",
      "Dimension:     XY\n",
      "Bounding box:  xmin: -148.3539 ymin: 64.95399 xmax: -148.3539 ymax: 64.954\n",
      "Geodetic CRS:  GCS_unknown\n",
      "    CLASS_NAME CLASS_ID CLASS_CLRS                       geometry\n",
      "2 Murphydome40        2  255,0,255 POLYGON ((-148.3539 64.954,...\n"
     ]
    },
    {
     "name": "stderr",
     "output_type": "stream",
     "text": [
      "Saving 6.67 x 6.67 in image\n",
      "\n"
     ]
    },
    {
     "name": "stdout",
     "output_type": "stream",
     "text": [
      "Simple feature collection with 1 feature and 3 fields\n",
      "Geometry type: POLYGON\n",
      "Dimension:     XY\n",
      "Bounding box:  xmin: -148.3538 ymin: 64.95392 xmax: -148.3537 ymax: 64.95393\n",
      "Geodetic CRS:  GCS_unknown\n",
      "    CLASS_NAME CLASS_ID CLASS_CLRS                       geometry\n",
      "3 Murphydome30        3  0,255,255 POLYGON ((-148.3538 64.9539...\n"
     ]
    },
    {
     "name": "stderr",
     "output_type": "stream",
     "text": [
      "Saving 6.67 x 6.67 in image\n",
      "\n"
     ]
    },
    {
     "name": "stdout",
     "output_type": "stream",
     "text": [
      "Simple feature collection with 1 feature and 3 fields\n",
      "Geometry type: POLYGON\n",
      "Dimension:     XY\n",
      "Bounding box:  xmin: -148.3537 ymin: 64.95384 xmax: -148.3536 ymax: 64.95386\n",
      "Geodetic CRS:  GCS_unknown\n",
      "    CLASS_NAME CLASS_ID CLASS_CLRS                       geometry\n",
      "4 Murphydome20        4  255,255,0 POLYGON ((-148.3536 64.9538...\n"
     ]
    },
    {
     "name": "stderr",
     "output_type": "stream",
     "text": [
      "Saving 6.67 x 6.67 in image\n",
      "\n"
     ]
    },
    {
     "name": "stdout",
     "output_type": "stream",
     "text": [
      "[1] \"z\"\n"
     ]
    },
    {
     "name": "stderr",
     "output_type": "stream",
     "text": [
      "Saving 6.67 x 6.67 in image\n",
      "\n",
      "Saving 6.67 x 6.67 in image\n",
      "\n",
      "Saving 6.67 x 6.67 in image\n",
      "\n",
      "Saving 6.67 x 6.67 in image\n",
      "\n"
     ]
    },
    {
     "name": "stdout",
     "output_type": "stream",
     "text": [
      "[1] \"preprocessing raster at Data/Ground_Validation/Imagery/Quads/MurphDomeQuads60_100.envi\"\n",
      "[1] \"Converted to Data frame?\"\n",
      "[1] TRUE\n",
      "[1] \"Noisy columns removed\"\n",
      "[1] TRUE\n",
      "[1] \"Filtered\"\n",
      "[1] TRUE\n",
      "[1] \"Imputing...\"\n"
     ]
    },
    {
     "name": "stderr",
     "output_type": "stream",
     "text": [
      "Using spline to predict value at new bands...\n",
      "\n",
      "Beware the spectra are now partially smoothed.\n",
      "\n"
     ]
    },
    {
     "name": "stdout",
     "output_type": "stream",
     "text": [
      "[1] \"Imputing...\"\n"
     ]
    },
    {
     "name": "stderr",
     "output_type": "stream",
     "text": [
      "\u001b[1m\u001b[22m`.cols` has been renamed and is deprecated, please use `.vars`\n"
     ]
    },
    {
     "name": "stdout",
     "output_type": "stream",
     "text": [
      "          x        y z\n",
      "1 -148.3548 64.95441 3\n",
      "2 -148.3548 64.95441 3\n",
      "3 -148.3548 64.95441 3\n",
      "4 -148.3548 64.95441 3\n",
      "5 -148.3548 64.95441 3\n",
      "6 -148.3548 64.95441 3\n",
      "          x        y z\n",
      "1 -148.3548 64.95441 3\n",
      "2 -148.3548 64.95441 3\n",
      "3 -148.3548 64.95441 3\n",
      "4 -148.3548 64.95441 3\n",
      "5 -148.3548 64.95441 3\n",
      "6 -148.3548 64.95441 3\n",
      "[1] \"Attempting to save to ./validation_saved_output.grd\"\n",
      "[1] \"Converted to Raster\"\n",
      "Reading layer `MurphyQuads60_100m' from data source \n",
      "  `/home/krbundy/GitHub/lecospec/Data/Vectors/MurphyQuads60_100m.shp' \n",
      "  using driver `ESRI Shapefile'\n",
      "Simple feature collection with 5 features and 3 fields\n",
      "Geometry type: POLYGON\n",
      "Dimension:     XY\n",
      "Bounding box:  xmin: -148.3548 ymin: 64.95413 xmax: -148.3542 ymax: 64.95441\n",
      "Geodetic CRS:  WGS 84\n",
      "[1] \"Murphydome100\" \"Murphydome90\"  \"Murphydome80\"  \"Murphydome70\" \n",
      "[5] \"Murphydome60\" \n",
      "Simple feature collection with 1 feature and 3 fields\n",
      "Geometry type: POLYGON\n",
      "Dimension:     XY\n",
      "Bounding box:  xmin: -148.3548 ymin: 64.9544 xmax: -148.3547 ymax: 64.95441\n",
      "Geodetic CRS:  GCS_unknown\n",
      "     CLASS_NAME CLASS_ID CLASS_CLRS                       geometry\n",
      "1 Murphydome100        1 255,127,80 POLYGON ((-148.3548 64.9544...\n"
     ]
    },
    {
     "name": "stderr",
     "output_type": "stream",
     "text": [
      "Saving 6.67 x 6.67 in image\n",
      "\n"
     ]
    },
    {
     "name": "stdout",
     "output_type": "stream",
     "text": [
      "Simple feature collection with 1 feature and 3 fields\n",
      "Geometry type: POLYGON\n",
      "Dimension:     XY\n",
      "Bounding box:  xmin: -148.3546 ymin: 64.95433 xmax: -148.3546 ymax: 64.95434\n",
      "Geodetic CRS:  GCS_unknown\n",
      "    CLASS_NAME CLASS_ID CLASS_CLRS                       geometry\n",
      "2 Murphydome90        2    0,0,128 POLYGON ((-148.3546 64.9543...\n"
     ]
    },
    {
     "name": "stderr",
     "output_type": "stream",
     "text": [
      "Saving 6.67 x 6.67 in image\n",
      "\n"
     ]
    },
    {
     "name": "stdout",
     "output_type": "stream",
     "text": [
      "Simple feature collection with 1 feature and 3 fields\n",
      "Geometry type: POLYGON\n",
      "Dimension:     XY\n",
      "Bounding box:  xmin: -148.3545 ymin: 64.95426 xmax: -148.3544 ymax: 64.95427\n",
      "Geodetic CRS:  GCS_unknown\n",
      "    CLASS_NAME CLASS_ID CLASS_CLRS                       geometry\n",
      "3 Murphydome80        3    0,255,0 POLYGON ((-148.3545 64.9542...\n"
     ]
    },
    {
     "name": "stderr",
     "output_type": "stream",
     "text": [
      "Saving 6.67 x 6.67 in image\n",
      "\n"
     ]
    },
    {
     "name": "stdout",
     "output_type": "stream",
     "text": [
      "Simple feature collection with 1 feature and 3 fields\n",
      "Geometry type: POLYGON\n",
      "Dimension:     XY\n",
      "Bounding box:  xmin: -148.3543 ymin: 64.95419 xmax: -148.3543 ymax: 64.9542\n",
      "Geodetic CRS:  GCS_unknown\n",
      "    CLASS_NAME CLASS_ID CLASS_CLRS                       geometry\n",
      "4 Murphydome70        4    128,0,0 POLYGON ((-148.3543 64.9542...\n"
     ]
    },
    {
     "name": "stderr",
     "output_type": "stream",
     "text": [
      "Saving 6.67 x 6.67 in image\n",
      "\n"
     ]
    },
    {
     "name": "stdout",
     "output_type": "stream",
     "text": [
      "Simple feature collection with 1 feature and 3 fields\n",
      "Geometry type: POLYGON\n",
      "Dimension:     XY\n",
      "Bounding box:  xmin: -148.3542 ymin: 64.95413 xmax: -148.3542 ymax: 64.95414\n",
      "Geodetic CRS:  GCS_unknown\n",
      "    CLASS_NAME CLASS_ID CLASS_CLRS                       geometry\n",
      "5 Murphydome60        5  0,128,128 POLYGON ((-148.3542 64.9541...\n"
     ]
    },
    {
     "name": "stderr",
     "output_type": "stream",
     "text": [
      "Saving 6.67 x 6.67 in image\n",
      "\n"
     ]
    },
    {
     "name": "stdout",
     "output_type": "stream",
     "text": [
      "[1] \"z\"\n"
     ]
    },
    {
     "name": "stderr",
     "output_type": "stream",
     "text": [
      "Saving 6.67 x 6.67 in image\n",
      "\n",
      "Saving 6.67 x 6.67 in image\n",
      "\n",
      "Saving 6.67 x 6.67 in image\n",
      "\n",
      "Saving 6.67 x 6.67 in image\n",
      "\n",
      "Saving 6.67 x 6.67 in image\n",
      "\n"
     ]
    },
    {
     "name": "stdout",
     "output_type": "stream",
     "text": [
      "[1] \"preprocessing raster at Data/Ground_Validation/Imagery/Quads/BonanzaQuads.envi\"\n",
      "[1] \"Converted to Data frame?\"\n",
      "[1] TRUE\n",
      "[1] \"Noisy columns removed\"\n",
      "[1] TRUE\n",
      "[1] \"Filtered\"\n",
      "[1] TRUE\n",
      "[1] \"Imputing...\"\n"
     ]
    },
    {
     "name": "stderr",
     "output_type": "stream",
     "text": [
      "Using spline to predict value at new bands...\n",
      "\n",
      "Beware the spectra are now partially smoothed.\n",
      "\n"
     ]
    },
    {
     "name": "stdout",
     "output_type": "stream",
     "text": [
      "[1] \"Imputing...\"\n"
     ]
    },
    {
     "name": "stderr",
     "output_type": "stream",
     "text": [
      "\u001b[1m\u001b[22m`.cols` has been renamed and is deprecated, please use `.vars`\n"
     ]
    },
    {
     "name": "stdout",
     "output_type": "stream",
     "text": [
      "          x        y z\n",
      "1 -148.2962 64.70435 3\n",
      "2 -148.2962 64.70435 3\n",
      "3 -148.2962 64.70435 3\n",
      "4 -148.2962 64.70435 3\n",
      "5 -148.2962 64.70435 3\n",
      "6 -148.2962 64.70435 3\n",
      "          x        y z\n",
      "1 -148.2962 64.70435 3\n",
      "2 -148.2962 64.70435 3\n",
      "3 -148.2962 64.70435 3\n",
      "4 -148.2962 64.70435 3\n",
      "5 -148.2962 64.70435 3\n",
      "6 -148.2962 64.70435 3\n",
      "[1] \"Attempting to save to ./validation_saved_output.grd\"\n",
      "[1] \"Converted to Raster\"\n",
      "Reading layer `Bonanza_N_Quads' from data source \n",
      "  `/home/krbundy/GitHub/lecospec/Data/Vectors/Bonanza_N_Quads.shp' \n",
      "  using driver `ESRI Shapefile'\n",
      "Simple feature collection with 11 features and 3 fields\n",
      "Geometry type: POLYGON\n",
      "Dimension:     XY\n",
      "Bounding box:  xmin: 438153.7 ymin: 7176051 xmax: 438205.6 ymax: 7176138\n",
      "Projected CRS: WGS 84 / UTM zone 6N\n",
      " [1] \"Bonanza60\"  \"Bonanza100\" \"Bonanza90\"  \"Bonanza80\"  \"Bonanza50\" \n",
      " [6] \"Bonanza40\"  \"Bonanza30\"  \"Bonanza20\"  \"Bonanza10\"  \"Bonanza0\"  \n",
      "[11] \"Bonanza70\" \n",
      "Simple feature collection with 1 feature and 3 fields\n",
      "Geometry type: POLYGON\n",
      "Dimension:     XY\n",
      "Bounding box:  xmin: -148.2966 ymin: 64.70403 xmax: -148.2966 ymax: 64.70404\n",
      "Geodetic CRS:  GCS_unknown\n",
      "  CLASS_NAME CLASS_ID CLASS_CLRS                       geometry\n",
      "1  Bonanza60        7    128,0,0 POLYGON ((-148.2966 64.7040...\n"
     ]
    },
    {
     "name": "stderr",
     "output_type": "stream",
     "text": [
      "Saving 6.67 x 6.67 in image\n",
      "\n"
     ]
    },
    {
     "name": "stdout",
     "output_type": "stream",
     "text": [
      "Simple feature collection with 1 feature and 3 fields\n",
      "Geometry type: POLYGON\n",
      "Dimension:     XY\n",
      "Bounding box:  xmin: -148.2962 ymin: 64.70434 xmax: -148.2962 ymax: 64.70435\n",
      "Geodetic CRS:  GCS_unknown\n",
      "  CLASS_NAME CLASS_ID CLASS_CLRS                       geometry\n",
      "2 Bonanza100       11  127,255,0 POLYGON ((-148.2962 64.7043...\n"
     ]
    },
    {
     "name": "stderr",
     "output_type": "stream",
     "text": [
      "Saving 6.67 x 6.67 in image\n",
      "\n"
     ]
    },
    {
     "name": "stdout",
     "output_type": "stream",
     "text": [
      "Simple feature collection with 1 feature and 3 fields\n",
      "Geometry type: POLYGON\n",
      "Dimension:     XY\n",
      "Bounding box:  xmin: -148.2963 ymin: 64.70426 xmax: -148.2963 ymax: 64.70428\n",
      "Geodetic CRS:  GCS_unknown\n",
      "  CLASS_NAME CLASS_ID CLASS_CLRS                       geometry\n",
      "3  Bonanza90       10 255,127,80 POLYGON ((-148.2963 64.7042...\n"
     ]
    },
    {
     "name": "stderr",
     "output_type": "stream",
     "text": [
      "Saving 6.67 x 6.67 in image\n",
      "\n"
     ]
    },
    {
     "name": "stdout",
     "output_type": "stream",
     "text": [
      "Simple feature collection with 1 feature and 3 fields\n",
      "Geometry type: POLYGON\n",
      "Dimension:     XY\n",
      "Bounding box:  xmin: -148.2964 ymin: 64.70418 xmax: -148.2964 ymax: 64.7042\n",
      "Geodetic CRS:  GCS_unknown\n",
      "  CLASS_NAME CLASS_ID CLASS_CLRS                       geometry\n",
      "4  Bonanza80        9    0,0,128 POLYGON ((-148.2964 64.7042...\n"
     ]
    },
    {
     "name": "stderr",
     "output_type": "stream",
     "text": [
      "Saving 6.67 x 6.67 in image\n",
      "\n"
     ]
    },
    {
     "name": "stdout",
     "output_type": "stream",
     "text": [
      "Simple feature collection with 1 feature and 3 fields\n",
      "Geometry type: POLYGON\n",
      "Dimension:     XY\n",
      "Bounding box:  xmin: -148.2967 ymin: 64.70395 xmax: -148.2967 ymax: 64.70396\n",
      "Geodetic CRS:  GCS_unknown\n",
      "  CLASS_NAME CLASS_ID CLASS_CLRS                       geometry\n",
      "5  Bonanza50        6  255,0,255 POLYGON ((-148.2967 64.7039...\n"
     ]
    },
    {
     "name": "stderr",
     "output_type": "stream",
     "text": [
      "Saving 6.67 x 6.67 in image\n",
      "\n"
     ]
    },
    {
     "name": "stdout",
     "output_type": "stream",
     "text": [
      "Simple feature collection with 1 feature and 3 fields\n",
      "Geometry type: POLYGON\n",
      "Dimension:     XY\n",
      "Bounding box:  xmin: -148.2968 ymin: 64.70387 xmax: -148.2968 ymax: 64.70388\n",
      "Geodetic CRS:  GCS_unknown\n",
      "  CLASS_NAME CLASS_ID CLASS_CLRS                       geometry\n",
      "6  Bonanza40        5  0,255,255 POLYGON ((-148.2968 64.7038...\n"
     ]
    },
    {
     "name": "stderr",
     "output_type": "stream",
     "text": [
      "Saving 6.67 x 6.67 in image\n",
      "\n"
     ]
    },
    {
     "name": "stdout",
     "output_type": "stream",
     "text": [
      "Simple feature collection with 1 feature and 3 fields\n",
      "Geometry type: POLYGON\n",
      "Dimension:     XY\n",
      "Bounding box:  xmin: -148.2969 ymin: 64.70379 xmax: -148.2969 ymax: 64.7038\n",
      "Geodetic CRS:  GCS_unknown\n",
      "  CLASS_NAME CLASS_ID CLASS_CLRS                       geometry\n",
      "7  Bonanza30        4  255,255,0 POLYGON ((-148.2969 64.7038...\n"
     ]
    },
    {
     "name": "stderr",
     "output_type": "stream",
     "text": [
      "Saving 6.67 x 6.67 in image\n",
      "\n"
     ]
    },
    {
     "name": "stdout",
     "output_type": "stream",
     "text": [
      "Simple feature collection with 1 feature and 3 fields\n",
      "Geometry type: POLYGON\n",
      "Dimension:     XY\n",
      "Bounding box:  xmin: -148.297 ymin: 64.70371 xmax: -148.297 ymax: 64.70373\n",
      "Geodetic CRS:  GCS_unknown\n",
      "  CLASS_NAME CLASS_ID CLASS_CLRS                       geometry\n",
      "8  Bonanza20        3    0,0,255 POLYGON ((-148.297 64.70373...\n"
     ]
    },
    {
     "name": "stderr",
     "output_type": "stream",
     "text": [
      "Saving 6.67 x 6.67 in image\n",
      "\n"
     ]
    },
    {
     "name": "stdout",
     "output_type": "stream",
     "text": [
      "Simple feature collection with 1 feature and 3 fields\n",
      "Geometry type: POLYGON\n",
      "Dimension:     XY\n",
      "Bounding box:  xmin: -148.2971 ymin: 64.70364 xmax: -148.2971 ymax: 64.70365\n",
      "Geodetic CRS:  GCS_unknown\n",
      "  CLASS_NAME CLASS_ID CLASS_CLRS                       geometry\n",
      "9  Bonanza10        2    0,128,0 POLYGON ((-148.2971 64.7036...\n"
     ]
    },
    {
     "name": "stderr",
     "output_type": "stream",
     "text": [
      "Saving 6.67 x 6.67 in image\n",
      "\n"
     ]
    },
    {
     "name": "stdout",
     "output_type": "stream",
     "text": [
      "Simple feature collection with 1 feature and 3 fields\n",
      "Geometry type: POLYGON\n",
      "Dimension:     XY\n",
      "Bounding box:  xmin: -148.2972 ymin: 64.70356 xmax: -148.2972 ymax: 64.70357\n",
      "Geodetic CRS:  GCS_unknown\n",
      "   CLASS_NAME CLASS_ID CLASS_CLRS                       geometry\n",
      "10   Bonanza0        1    255,0,0 POLYGON ((-148.2972 64.7035...\n"
     ]
    },
    {
     "name": "stderr",
     "output_type": "stream",
     "text": [
      "Saving 6.67 x 6.67 in image\n",
      "\n"
     ]
    },
    {
     "name": "stdout",
     "output_type": "stream",
     "text": [
      "Simple feature collection with 1 feature and 3 fields\n",
      "Geometry type: POLYGON\n",
      "Dimension:     XY\n",
      "Bounding box:  xmin: -148.2965 ymin: 64.70411 xmax: -148.2965 ymax: 64.70412\n",
      "Geodetic CRS:  GCS_unknown\n",
      "   CLASS_NAME CLASS_ID CLASS_CLRS                       geometry\n",
      "11  Bonanza70        8    0,255,0 POLYGON ((-148.2965 64.7041...\n"
     ]
    },
    {
     "name": "stderr",
     "output_type": "stream",
     "text": [
      "Saving 6.67 x 6.67 in image\n",
      "\n"
     ]
    },
    {
     "name": "stdout",
     "output_type": "stream",
     "text": [
      "[1] \"z\"\n"
     ]
    },
    {
     "name": "stderr",
     "output_type": "stream",
     "text": [
      "Saving 6.67 x 6.67 in image\n",
      "\n",
      "Saving 6.67 x 6.67 in image\n",
      "\n",
      "Saving 6.67 x 6.67 in image\n",
      "\n",
      "Saving 6.67 x 6.67 in image\n",
      "\n",
      "Saving 6.67 x 6.67 in image\n",
      "\n",
      "Saving 6.67 x 6.67 in image\n",
      "\n",
      "Saving 6.67 x 6.67 in image\n",
      "\n",
      "Saving 6.67 x 6.67 in image\n",
      "\n",
      "Saving 6.67 x 6.67 in image\n",
      "\n",
      "Saving 6.67 x 6.67 in image\n",
      "\n",
      "Saving 6.67 x 6.67 in image\n",
      "\n",
      "Warning message in summary.lm(linear_model):\n",
      "“essentially perfect fit: summary may be unreliable”\n",
      "Warning message in summary.lm(linear_model):\n",
      "“essentially perfect fit: summary may be unreliable”\n",
      "Warning message in summary.lm(linear_model):\n",
      "“essentially perfect fit: summary may be unreliable”\n",
      "Warning message in summary.lm(linear_model):\n",
      "“essentially perfect fit: summary may be unreliable”\n",
      "Warning message in summary.lm(linear_model):\n",
      "“essentially perfect fit: summary may be unreliable”\n"
     ]
    },
    {
     "name": "stdout",
     "output_type": "stream",
     "text": [
      " [1] \"method\"       \"modelInfo\"    \"modelType\"    \"results\"      \"pred\"        \n",
      " [6] \"bestTune\"     \"call\"         \"dots\"         \"metric\"       \"control\"     \n",
      "[11] \"finalModel\"   \"preProcess\"   \"trainingData\" \"ptype\"        \"resample\"    \n",
      "[16] \"resampledCM\"  \"perfNames\"    \"maximize\"     \"yLimits\"      \"times\"       \n",
      "[21] \"levels\"       \"terms\"        \"coefnames\"    \"xlevels\"     \n",
      "[1] \"preprocessing raster at Data/Ground_Validation/Imagery/Quads/BisonGulchQuads.envi\"\n",
      "[1] \"Converted to Data frame?\"\n",
      "[1] TRUE\n",
      "[1] \"Noisy columns removed\"\n",
      "[1] TRUE\n",
      "[1] \"Filtered\"\n",
      "[1] TRUE\n",
      "[1] \"Imputing...\"\n"
     ]
    },
    {
     "name": "stderr",
     "output_type": "stream",
     "text": [
      "Using spline to predict value at new bands...\n",
      "\n",
      "Beware the spectra are now partially smoothed.\n",
      "\n"
     ]
    },
    {
     "name": "stdout",
     "output_type": "stream",
     "text": [
      "[1] \"Imputing...\"\n"
     ]
    },
    {
     "name": "stderr",
     "output_type": "stream",
     "text": [
      "\u001b[1m\u001b[22m`.cols` has been renamed and is deprecated, please use `.vars`\n"
     ]
    },
    {
     "name": "stdout",
     "output_type": "stream",
     "text": [
      "          x        y z\n",
      "1 -148.9508 63.80701 4\n",
      "2 -148.9508 63.80701 3\n",
      "3 -148.9508 63.80701 3\n",
      "4 -148.9508 63.80701 3\n",
      "5 -148.9508 63.80701 4\n",
      "6 -148.9508 63.80701 3\n",
      "          x        y z\n",
      "1 -148.9508 63.80701 4\n",
      "2 -148.9508 63.80701 3\n",
      "3 -148.9508 63.80701 3\n",
      "4 -148.9508 63.80701 3\n",
      "5 -148.9508 63.80701 4\n",
      "6 -148.9508 63.80701 3\n",
      "[1] \"Attempting to save to ./validation_saved_output.grd\"\n",
      "[1] \"Converted to Raster\"\n",
      "Reading layer `Bisoon_Quadrats_georeferenced' from data source \n",
      "  `/home/krbundy/GitHub/lecospec/Data/Vectors/Bisoon_Quadrats_georeferenced.shp' \n",
      "  using driver `ESRI Shapefile'\n",
      "Simple feature collection with 9 features and 3 fields\n",
      "Geometry type: POLYGON\n",
      "Dimension:     XY\n",
      "Bounding box:  xmin: -148.9524 ymin: 63.80698 xmax: -148.9508 ymax: 63.80701\n",
      "Geodetic CRS:  WGS 84\n",
      "[1] \"Bisongulch0\"  \"Bisongulch70\" \"Bisongulch80\" \"Bisongulch10\" \"Bisongulch90\"\n",
      "[6] \"Bisongulch20\" \"Bisongulch50\" \"Bisongulch30\" \"Bisongulch40\"\n",
      "Simple feature collection with 1 feature and 3 fields\n",
      "Geometry type: POLYGON\n",
      "Dimension:     XY\n",
      "Bounding box:  xmin: -148.9508 ymin: 63.807 xmax: -148.9508 ymax: 63.80701\n",
      "Geodetic CRS:  GCS_unknown\n",
      "  CLASS_ID  CLASS_NAME AREA                       geometry\n",
      "1        1 Bisongulch0  612 POLYGON ((-148.9508 63.807,...\n"
     ]
    },
    {
     "name": "stderr",
     "output_type": "stream",
     "text": [
      "Saving 6.67 x 6.67 in image\n",
      "\n"
     ]
    },
    {
     "name": "stdout",
     "output_type": "stream",
     "text": [
      "Simple feature collection with 1 feature and 3 fields\n",
      "Geometry type: POLYGON\n",
      "Dimension:     XY\n",
      "Bounding box:  xmin: -148.952 ymin: 63.80699 xmax: -148.952 ymax: 63.807\n",
      "Geodetic CRS:  GCS_unknown\n",
      "  CLASS_ID   CLASS_NAME AREA                       geometry\n",
      "2        7 Bisongulch70  649 POLYGON ((-148.952 63.80699...\n"
     ]
    },
    {
     "name": "stderr",
     "output_type": "stream",
     "text": [
      "Saving 6.67 x 6.67 in image\n",
      "\n"
     ]
    },
    {
     "name": "stdout",
     "output_type": "stream",
     "text": [
      "Simple feature collection with 1 feature and 3 fields\n",
      "Geometry type: POLYGON\n",
      "Dimension:     XY\n",
      "Bounding box:  xmin: -148.9522 ymin: 63.80699 xmax: -148.9522 ymax: 63.807\n",
      "Geodetic CRS:  GCS_unknown\n",
      "  CLASS_ID   CLASS_NAME AREA                       geometry\n",
      "3        8 Bisongulch80  661 POLYGON ((-148.9522 63.8069...\n"
     ]
    },
    {
     "name": "stderr",
     "output_type": "stream",
     "text": [
      "Saving 6.67 x 6.67 in image\n",
      "\n"
     ]
    },
    {
     "name": "stdout",
     "output_type": "stream",
     "text": [
      "Simple feature collection with 1 feature and 3 fields\n",
      "Geometry type: POLYGON\n",
      "Dimension:     XY\n",
      "Bounding box:  xmin: -148.951 ymin: 63.80699 xmax: -148.9509 ymax: 63.807\n",
      "Geodetic CRS:  GCS_unknown\n",
      "  CLASS_ID   CLASS_NAME AREA                       geometry\n",
      "4        2 Bisongulch10  649 POLYGON ((-148.9509 63.8069...\n"
     ]
    },
    {
     "name": "stderr",
     "output_type": "stream",
     "text": [
      "Saving 6.67 x 6.67 in image\n",
      "\n"
     ]
    },
    {
     "name": "stdout",
     "output_type": "stream",
     "text": [
      "Simple feature collection with 1 feature and 3 fields\n",
      "Geometry type: POLYGON\n",
      "Dimension:     XY\n",
      "Bounding box:  xmin: -148.9524 ymin: 63.80699 xmax: -148.9524 ymax: 63.807\n",
      "Geodetic CRS:  GCS_unknown\n",
      "  CLASS_ID   CLASS_NAME AREA                       geometry\n",
      "5        9 Bisongulch90  648 POLYGON ((-148.9524 63.8069...\n"
     ]
    },
    {
     "name": "stderr",
     "output_type": "stream",
     "text": [
      "Saving 6.67 x 6.67 in image\n",
      "\n"
     ]
    },
    {
     "name": "stdout",
     "output_type": "stream",
     "text": [
      "Simple feature collection with 1 feature and 3 fields\n",
      "Geometry type: POLYGON\n",
      "Dimension:     XY\n",
      "Bounding box:  xmin: -148.9512 ymin: 63.80699 xmax: -148.9512 ymax: 63.807\n",
      "Geodetic CRS:  GCS_unknown\n",
      "  CLASS_ID   CLASS_NAME AREA                       geometry\n",
      "6        3 Bisongulch20  574 POLYGON ((-148.9512 63.8069...\n"
     ]
    },
    {
     "name": "stderr",
     "output_type": "stream",
     "text": [
      "Saving 6.67 x 6.67 in image\n",
      "\n"
     ]
    },
    {
     "name": "stdout",
     "output_type": "stream",
     "text": [
      "Simple feature collection with 1 feature and 3 fields\n",
      "Geometry type: POLYGON\n",
      "Dimension:     XY\n",
      "Bounding box:  xmin: -148.9518 ymin: 63.80699 xmax: -148.9518 ymax: 63.807\n",
      "Geodetic CRS:  GCS_unknown\n",
      "  CLASS_ID   CLASS_NAME AREA                       geometry\n",
      "7        6 Bisongulch50  673 POLYGON ((-148.9518 63.8069...\n"
     ]
    },
    {
     "name": "stderr",
     "output_type": "stream",
     "text": [
      "Saving 6.67 x 6.67 in image\n",
      "\n"
     ]
    },
    {
     "name": "stdout",
     "output_type": "stream",
     "text": [
      "Simple feature collection with 1 feature and 3 fields\n",
      "Geometry type: POLYGON\n",
      "Dimension:     XY\n",
      "Bounding box:  xmin: -148.9514 ymin: 63.80699 xmax: -148.9514 ymax: 63.807\n",
      "Geodetic CRS:  GCS_unknown\n",
      "  CLASS_ID   CLASS_NAME AREA                       geometry\n",
      "8        4 Bisongulch30  673 POLYGON ((-148.9514 63.8069...\n"
     ]
    },
    {
     "name": "stderr",
     "output_type": "stream",
     "text": [
      "Saving 6.67 x 6.67 in image\n",
      "\n"
     ]
    },
    {
     "name": "stdout",
     "output_type": "stream",
     "text": [
      "Simple feature collection with 1 feature and 3 fields\n",
      "Geometry type: POLYGON\n",
      "Dimension:     XY\n",
      "Bounding box:  xmin: -148.9516 ymin: 63.80698 xmax: -148.9516 ymax: 63.80699\n",
      "Geodetic CRS:  GCS_unknown\n",
      "  CLASS_ID   CLASS_NAME AREA                       geometry\n",
      "9        5 Bisongulch40  674 POLYGON ((-148.9516 63.8069...\n"
     ]
    },
    {
     "name": "stderr",
     "output_type": "stream",
     "text": [
      "Saving 6.67 x 6.67 in image\n",
      "\n"
     ]
    },
    {
     "name": "stdout",
     "output_type": "stream",
     "text": [
      "[1] \"z\"\n"
     ]
    },
    {
     "name": "stderr",
     "output_type": "stream",
     "text": [
      "Saving 6.67 x 6.67 in image\n",
      "\n",
      "Saving 6.67 x 6.67 in image\n",
      "\n",
      "Saving 6.67 x 6.67 in image\n",
      "\n",
      "Saving 6.67 x 6.67 in image\n",
      "\n",
      "Saving 6.67 x 6.67 in image\n",
      "\n",
      "Saving 6.67 x 6.67 in image\n",
      "\n",
      "Saving 6.67 x 6.67 in image\n",
      "\n",
      "Saving 6.67 x 6.67 in image\n",
      "\n",
      "Saving 6.67 x 6.67 in image\n",
      "\n"
     ]
    },
    {
     "name": "stdout",
     "output_type": "stream",
     "text": [
      "[1] \"preprocessing raster at Data/Ground_Validation/Imagery/Quads/ChatanikaQuads.envi\"\n",
      "[1] \"Converted to Data frame?\"\n",
      "[1] TRUE\n",
      "[1] \"Noisy columns removed\"\n",
      "[1] TRUE\n",
      "[1] \"Filtered\"\n",
      "[1] TRUE\n",
      "[1] \"Imputing...\"\n"
     ]
    },
    {
     "name": "stderr",
     "output_type": "stream",
     "text": [
      "Using spline to predict value at new bands...\n",
      "\n",
      "Beware the spectra are now partially smoothed.\n",
      "\n"
     ]
    },
    {
     "name": "stdout",
     "output_type": "stream",
     "text": [
      "[1] \"Imputing...\"\n"
     ]
    },
    {
     "name": "stderr",
     "output_type": "stream",
     "text": [
      "\u001b[1m\u001b[22m`.cols` has been renamed and is deprecated, please use `.vars`\n"
     ]
    },
    {
     "name": "stdout",
     "output_type": "stream",
     "text": [
      "          x        y z\n",
      "1 -147.4827 65.15287 4\n",
      "2 -147.4827 65.15287 4\n",
      "3 -147.4827 65.15287 4\n",
      "4 -147.4827 65.15287 4\n",
      "5 -147.4827 65.15287 4\n",
      "6 -147.4827 65.15287 4\n",
      "          x        y z\n",
      "1 -147.4827 65.15287 4\n",
      "2 -147.4827 65.15287 4\n",
      "3 -147.4827 65.15287 4\n",
      "4 -147.4827 65.15287 4\n",
      "5 -147.4827 65.15287 4\n",
      "6 -147.4827 65.15287 4\n",
      "[1] \"Attempting to save to ./validation_saved_output.grd\"\n",
      "[1] \"Converted to Raster\"\n",
      "Reading layer `ChatanikaQuads_georeferenced' from data source \n",
      "  `/home/krbundy/GitHub/lecospec/Data/Vectors/ChatanikaQuads_georeferenced.shp' \n",
      "  using driver `ESRI Shapefile'\n",
      "Simple feature collection with 11 features and 3 fields\n",
      "Geometry type: POLYGON\n",
      "Dimension:     XY\n",
      "Bounding box:  xmin: -147.4827 ymin: 65.15281 xmax: -147.4806 ymax: 65.15287\n",
      "Geodetic CRS:  WGS 84\n",
      " [1] \"Chatanika100\" \"Chatanika90\"  \"Chatanika70\"  \"Chatanika80\"  \"Chatanika60\" \n",
      " [6] \"Chatanika50\"  \"Chatanika40\"  \"Chatanika30\"  \"Chatanika20\"  \"Chatanika10\" \n",
      "[11] \"Chatanika0\"  \n",
      "Simple feature collection with 1 feature and 3 fields\n",
      "Geometry type: POLYGON\n",
      "Dimension:     XY\n",
      "Bounding box:  xmin: -147.4827 ymin: 65.15286 xmax: -147.4827 ymax: 65.15287\n",
      "Geodetic CRS:  GCS_unknown\n",
      "    CLASS_NAME CLASS_ID CLASS_CLRS                       geometry\n",
      "1 Chatanika100       11    0,0,128 POLYGON ((-147.4827 65.1528...\n"
     ]
    },
    {
     "name": "stderr",
     "output_type": "stream",
     "text": [
      "Saving 6.67 x 6.67 in image\n",
      "\n"
     ]
    },
    {
     "name": "stdout",
     "output_type": "stream",
     "text": [
      "Simple feature collection with 1 feature and 3 fields\n",
      "Geometry type: POLYGON\n",
      "Dimension:     XY\n",
      "Bounding box:  xmin: -147.4825 ymin: 65.15285 xmax: -147.4825 ymax: 65.15286\n",
      "Geodetic CRS:  GCS_unknown\n",
      "   CLASS_NAME CLASS_ID CLASS_CLRS                       geometry\n",
      "2 Chatanika90       10    0,255,0 POLYGON ((-147.4825 65.1528...\n"
     ]
    },
    {
     "name": "stderr",
     "output_type": "stream",
     "text": [
      "Saving 6.67 x 6.67 in image\n",
      "\n"
     ]
    },
    {
     "name": "stdout",
     "output_type": "stream",
     "text": [
      "Simple feature collection with 1 feature and 3 fields\n",
      "Geometry type: POLYGON\n",
      "Dimension:     XY\n",
      "Bounding box:  xmin: -147.4821 ymin: 65.15285 xmax: -147.4821 ymax: 65.15286\n",
      "Geodetic CRS:  GCS_unknown\n",
      "   CLASS_NAME CLASS_ID CLASS_CLRS                       geometry\n",
      "3 Chatanika70        8  0,128,128 POLYGON ((-147.4821 65.1528...\n"
     ]
    },
    {
     "name": "stderr",
     "output_type": "stream",
     "text": [
      "Saving 6.67 x 6.67 in image\n",
      "\n"
     ]
    },
    {
     "name": "stdout",
     "output_type": "stream",
     "text": [
      "Simple feature collection with 1 feature and 3 fields\n",
      "Geometry type: POLYGON\n",
      "Dimension:     XY\n",
      "Bounding box:  xmin: -147.4823 ymin: 65.15285 xmax: -147.4823 ymax: 65.15286\n",
      "Geodetic CRS:  GCS_unknown\n",
      "   CLASS_NAME CLASS_ID CLASS_CLRS                       geometry\n",
      "4 Chatanika80        9    128,0,0 POLYGON ((-147.4823 65.1528...\n"
     ]
    },
    {
     "name": "stderr",
     "output_type": "stream",
     "text": [
      "Saving 6.67 x 6.67 in image\n",
      "\n"
     ]
    },
    {
     "name": "stdout",
     "output_type": "stream",
     "text": [
      "Simple feature collection with 1 feature and 3 fields\n",
      "Geometry type: POLYGON\n",
      "Dimension:     XY\n",
      "Bounding box:  xmin: -147.4819 ymin: 65.15285 xmax: -147.4819 ymax: 65.15286\n",
      "Geodetic CRS:  GCS_unknown\n",
      "   CLASS_NAME CLASS_ID CLASS_CLRS                       geometry\n",
      "5 Chatanika60        7  128,128,0 POLYGON ((-147.4819 65.1528...\n"
     ]
    },
    {
     "name": "stderr",
     "output_type": "stream",
     "text": [
      "Saving 6.67 x 6.67 in image\n",
      "\n"
     ]
    },
    {
     "name": "stdout",
     "output_type": "stream",
     "text": [
      "Simple feature collection with 1 feature and 3 fields\n",
      "Geometry type: POLYGON\n",
      "Dimension:     XY\n",
      "Bounding box:  xmin: -147.4817 ymin: 65.15284 xmax: -147.4816 ymax: 65.15285\n",
      "Geodetic CRS:  GCS_unknown\n",
      "   CLASS_NAME CLASS_ID CLASS_CLRS                       geometry\n",
      "6 Chatanika50        6  255,0,255 POLYGON ((-147.4816 65.1528...\n"
     ]
    },
    {
     "name": "stderr",
     "output_type": "stream",
     "text": [
      "Saving 6.67 x 6.67 in image\n",
      "\n"
     ]
    },
    {
     "name": "stdout",
     "output_type": "stream",
     "text": [
      "Simple feature collection with 1 feature and 3 fields\n",
      "Geometry type: POLYGON\n",
      "Dimension:     XY\n",
      "Bounding box:  xmin: -147.4815 ymin: 65.15283 xmax: -147.4814 ymax: 65.15284\n",
      "Geodetic CRS:  GCS_unknown\n",
      "   CLASS_NAME CLASS_ID CLASS_CLRS                       geometry\n",
      "7 Chatanika40        5  0,255,255 POLYGON ((-147.4814 65.1528...\n"
     ]
    },
    {
     "name": "stderr",
     "output_type": "stream",
     "text": [
      "Saving 6.67 x 6.67 in image\n",
      "\n"
     ]
    },
    {
     "name": "stdout",
     "output_type": "stream",
     "text": [
      "Simple feature collection with 1 feature and 3 fields\n",
      "Geometry type: POLYGON\n",
      "Dimension:     XY\n",
      "Bounding box:  xmin: -147.4812 ymin: 65.15282 xmax: -147.4812 ymax: 65.15283\n",
      "Geodetic CRS:  GCS_unknown\n",
      "   CLASS_NAME CLASS_ID CLASS_CLRS                       geometry\n",
      "8 Chatanika30        4  255,255,0 POLYGON ((-147.4812 65.1528...\n"
     ]
    },
    {
     "name": "stderr",
     "output_type": "stream",
     "text": [
      "Saving 6.67 x 6.67 in image\n",
      "\n"
     ]
    },
    {
     "name": "stdout",
     "output_type": "stream",
     "text": [
      "Simple feature collection with 1 feature and 3 fields\n",
      "Geometry type: POLYGON\n",
      "Dimension:     XY\n",
      "Bounding box:  xmin: -147.481 ymin: 65.15281 xmax: -147.481 ymax: 65.15282\n",
      "Geodetic CRS:  GCS_unknown\n",
      "   CLASS_NAME CLASS_ID CLASS_CLRS                       geometry\n",
      "9 Chatanika20        3    0,0,255 POLYGON ((-147.481 65.15282...\n"
     ]
    },
    {
     "name": "stderr",
     "output_type": "stream",
     "text": [
      "Saving 6.67 x 6.67 in image\n",
      "\n"
     ]
    },
    {
     "name": "stdout",
     "output_type": "stream",
     "text": [
      "Simple feature collection with 1 feature and 3 fields\n",
      "Geometry type: POLYGON\n",
      "Dimension:     XY\n",
      "Bounding box:  xmin: -147.4808 ymin: 65.15281 xmax: -147.4808 ymax: 65.15282\n",
      "Geodetic CRS:  GCS_unknown\n",
      "    CLASS_NAME CLASS_ID CLASS_CLRS                       geometry\n",
      "10 Chatanika10        2    0,128,0 POLYGON ((-147.4808 65.1528...\n"
     ]
    },
    {
     "name": "stderr",
     "output_type": "stream",
     "text": [
      "Saving 6.67 x 6.67 in image\n",
      "\n"
     ]
    },
    {
     "name": "stdout",
     "output_type": "stream",
     "text": [
      "Simple feature collection with 1 feature and 3 fields\n",
      "Geometry type: POLYGON\n",
      "Dimension:     XY\n",
      "Bounding box:  xmin: -147.4806 ymin: 65.15281 xmax: -147.4806 ymax: 65.15281\n",
      "Geodetic CRS:  GCS_unknown\n",
      "   CLASS_NAME CLASS_ID CLASS_CLRS                       geometry\n",
      "11 Chatanika0        1    255,0,0 POLYGON ((-147.4806 65.1528...\n"
     ]
    },
    {
     "name": "stderr",
     "output_type": "stream",
     "text": [
      "Saving 6.67 x 6.67 in image\n",
      "\n"
     ]
    },
    {
     "name": "stdout",
     "output_type": "stream",
     "text": [
      "[1] \"z\"\n"
     ]
    },
    {
     "name": "stderr",
     "output_type": "stream",
     "text": [
      "Saving 6.67 x 6.67 in image\n",
      "\n",
      "Saving 6.67 x 6.67 in image\n",
      "\n",
      "Saving 6.67 x 6.67 in image\n",
      "\n",
      "Saving 6.67 x 6.67 in image\n",
      "\n",
      "Saving 6.67 x 6.67 in image\n",
      "\n",
      "Saving 6.67 x 6.67 in image\n",
      "\n",
      "Saving 6.67 x 6.67 in image\n",
      "\n",
      "Saving 6.67 x 6.67 in image\n",
      "\n",
      "Saving 6.67 x 6.67 in image\n",
      "\n",
      "Saving 6.67 x 6.67 in image\n",
      "\n",
      "Saving 6.67 x 6.67 in image\n",
      "\n"
     ]
    },
    {
     "name": "stdout",
     "output_type": "stream",
     "text": [
      "[1] \"preprocessing raster at Data/Ground_Validation/Imagery/Quads/TwelveMileGulchQuads1.envi\"\n",
      "[1] \"Converted to Data frame?\"\n",
      "[1] TRUE\n",
      "[1] \"Noisy columns removed\"\n",
      "[1] TRUE\n",
      "[1] \"Filtered\"\n",
      "[1] TRUE\n",
      "[1] \"Imputing...\"\n"
     ]
    },
    {
     "name": "stderr",
     "output_type": "stream",
     "text": [
      "Using spline to predict value at new bands...\n",
      "\n",
      "Beware the spectra are now partially smoothed.\n",
      "\n"
     ]
    },
    {
     "name": "stdout",
     "output_type": "stream",
     "text": [
      "[1] \"Imputing...\"\n"
     ]
    },
    {
     "name": "stderr",
     "output_type": "stream",
     "text": [
      "\u001b[1m\u001b[22m`.cols` has been renamed and is deprecated, please use `.vars`\n"
     ]
    },
    {
     "name": "stdout",
     "output_type": "stream",
     "text": [
      "         x        y z\n",
      "1 -145.979 65.40191 3\n",
      "2 -145.979 65.40191 4\n",
      "3 -145.979 65.40191 3\n",
      "4 -145.979 65.40191 4\n",
      "5 -145.979 65.40191 2\n",
      "6 -145.979 65.40191 3\n",
      "         x        y z\n",
      "1 -145.979 65.40191 3\n",
      "2 -145.979 65.40191 4\n",
      "3 -145.979 65.40191 3\n",
      "4 -145.979 65.40191 4\n",
      "5 -145.979 65.40191 2\n",
      "6 -145.979 65.40191 3\n",
      "[1] \"Attempting to save to ./validation_saved_output.grd\"\n",
      "[1] \"Converted to Raster\"\n",
      "Reading layer `TwelveMileQ0_10_20_30_40m' from data source \n",
      "  `/home/krbundy/GitHub/lecospec/Data/Vectors/TwelveMileQ0_10_20_30_40m.shp' \n",
      "  using driver `ESRI Shapefile'\n",
      "Simple feature collection with 5 features and 3 fields\n",
      "Geometry type: POLYGON\n",
      "Dimension:     XY\n",
      "Bounding box:  xmin: -145.979 ymin: 65.4018 xmax: -145.9782 ymax: 65.40191\n",
      "Geodetic CRS:  WGS 84\n",
      "[1] \"Twelvemile40\" \"Twelvemile30\" \"Twelvemile20\" \"Twelvemile10\" \"Twelvemile0\" \n",
      "Simple feature collection with 1 feature and 3 fields\n",
      "Geometry type: POLYGON\n",
      "Dimension:     XY\n",
      "Bounding box:  xmin: -145.979 ymin: 65.4019 xmax: -145.979 ymax: 65.40191\n",
      "Geodetic CRS:  GCS_unknown\n",
      "  CLASS_ID   CLASS_NAME AREA                       geometry\n",
      "1        4 Twelvemile40  288 POLYGON ((-145.979 65.4019,...\n"
     ]
    },
    {
     "name": "stderr",
     "output_type": "stream",
     "text": [
      "Saving 6.67 x 6.67 in image\n",
      "\n"
     ]
    },
    {
     "name": "stdout",
     "output_type": "stream",
     "text": [
      "Simple feature collection with 1 feature and 3 fields\n",
      "Geometry type: POLYGON\n",
      "Dimension:     XY\n",
      "Bounding box:  xmin: -145.9788 ymin: 65.40187 xmax: -145.9788 ymax: 65.40188\n",
      "Geodetic CRS:  GCS_unknown\n",
      "  CLASS_ID   CLASS_NAME AREA                       geometry\n",
      "2        1 Twelvemile30  281 POLYGON ((-145.9788 65.4018...\n"
     ]
    },
    {
     "name": "stderr",
     "output_type": "stream",
     "text": [
      "Saving 6.67 x 6.67 in image\n",
      "\n"
     ]
    },
    {
     "name": "stdout",
     "output_type": "stream",
     "text": [
      "Simple feature collection with 1 feature and 3 fields\n",
      "Geometry type: POLYGON\n",
      "Dimension:     XY\n",
      "Bounding box:  xmin: -145.9786 ymin: 65.40185 xmax: -145.9786 ymax: 65.40186\n",
      "Geodetic CRS:  GCS_unknown\n",
      "  CLASS_ID   CLASS_NAME AREA                       geometry\n",
      "3        2 Twelvemile20  328 POLYGON ((-145.9786 65.4018...\n"
     ]
    },
    {
     "name": "stderr",
     "output_type": "stream",
     "text": [
      "Saving 6.67 x 6.67 in image\n",
      "\n"
     ]
    },
    {
     "name": "stdout",
     "output_type": "stream",
     "text": [
      "Simple feature collection with 1 feature and 3 fields\n",
      "Geometry type: POLYGON\n",
      "Dimension:     XY\n",
      "Bounding box:  xmin: -145.9784 ymin: 65.40183 xmax: -145.9784 ymax: 65.40184\n",
      "Geodetic CRS:  GCS_unknown\n",
      "  CLASS_ID   CLASS_NAME AREA                       geometry\n",
      "4        3 Twelvemile10  308 POLYGON ((-145.9784 65.4018...\n"
     ]
    },
    {
     "name": "stderr",
     "output_type": "stream",
     "text": [
      "Saving 6.67 x 6.67 in image\n",
      "\n"
     ]
    },
    {
     "name": "stdout",
     "output_type": "stream",
     "text": [
      "Simple feature collection with 1 feature and 3 fields\n",
      "Geometry type: POLYGON\n",
      "Dimension:     XY\n",
      "Bounding box:  xmin: -145.9782 ymin: 65.4018 xmax: -145.9782 ymax: 65.40181\n",
      "Geodetic CRS:  GCS_unknown\n",
      "  CLASS_ID  CLASS_NAME AREA                       geometry\n",
      "5        5 Twelvemile0  336 POLYGON ((-145.9782 65.4018...\n"
     ]
    },
    {
     "name": "stderr",
     "output_type": "stream",
     "text": [
      "Saving 6.67 x 6.67 in image\n",
      "\n"
     ]
    },
    {
     "name": "stdout",
     "output_type": "stream",
     "text": [
      "[1] \"z\"\n"
     ]
    },
    {
     "name": "stderr",
     "output_type": "stream",
     "text": [
      "Saving 6.67 x 6.67 in image\n",
      "\n",
      "Saving 6.67 x 6.67 in image\n",
      "\n",
      "Saving 6.67 x 6.67 in image\n",
      "\n",
      "Saving 6.67 x 6.67 in image\n",
      "\n",
      "Saving 6.67 x 6.67 in image\n",
      "\n"
     ]
    },
    {
     "name": "stdout",
     "output_type": "stream",
     "text": [
      "[1] \"preprocessing raster at Data/Ground_Validation/Imagery/Quads/TwelveMileGulchQuads2.envi\"\n",
      "[1] \"Converted to Data frame?\"\n",
      "[1] TRUE\n",
      "[1] \"Noisy columns removed\"\n",
      "[1] TRUE\n",
      "[1] \"Filtered\"\n",
      "[1] TRUE\n",
      "[1] \"Imputing...\"\n"
     ]
    },
    {
     "name": "stderr",
     "output_type": "stream",
     "text": [
      "Using spline to predict value at new bands...\n",
      "\n",
      "Beware the spectra are now partially smoothed.\n",
      "\n"
     ]
    },
    {
     "name": "stdout",
     "output_type": "stream",
     "text": [
      "[1] \"Imputing...\"\n"
     ]
    },
    {
     "name": "stderr",
     "output_type": "stream",
     "text": [
      "\u001b[1m\u001b[22m`.cols` has been renamed and is deprecated, please use `.vars`\n"
     ]
    },
    {
     "name": "stdout",
     "output_type": "stream",
     "text": [
      "          x        y z\n",
      "1 -145.9802 65.40203 4\n",
      "2 -145.9802 65.40203 4\n",
      "3 -145.9802 65.40203 4\n",
      "4 -145.9802 65.40203 4\n",
      "5 -145.9802 65.40203 4\n",
      "6 -145.9802 65.40203 4\n",
      "          x        y z\n",
      "1 -145.9802 65.40203 4\n",
      "2 -145.9802 65.40203 4\n",
      "3 -145.9802 65.40203 4\n",
      "4 -145.9802 65.40203 4\n",
      "5 -145.9802 65.40203 4\n",
      "6 -145.9802 65.40203 4\n",
      "[1] \"Attempting to save to ./validation_saved_output.grd\"\n",
      "[1] \"Converted to Raster\"\n",
      "Reading layer `TwelveMileQ70_80_90_100m' from data source \n",
      "  `/home/krbundy/GitHub/lecospec/Data/Vectors/TwelveMileQ70_80_90_100m.shp' \n",
      "  using driver `ESRI Shapefile'\n",
      "Simple feature collection with 4 features and 3 fields\n",
      "Geometry type: POLYGON\n",
      "Dimension:     XY\n",
      "Bounding box:  xmin: -145.9802 ymin: 65.40196 xmax: -145.9796 ymax: 65.40203\n",
      "Geodetic CRS:  WGS 84\n",
      "[1] \"Twelvemile100\" \"Twelvemile90\"  \"Twelvemile80\"  \"Twelvemile70\" \n",
      "Simple feature collection with 1 feature and 3 fields\n",
      "Geometry type: POLYGON\n",
      "Dimension:     XY\n",
      "Bounding box:  xmin: -145.9802 ymin: 65.40202 xmax: -145.9802 ymax: 65.40203\n",
      "Geodetic CRS:  GCS_unknown\n",
      "  CLASS_ID    CLASS_NAME AREA                       geometry\n",
      "1        4 Twelvemile100  492 POLYGON ((-145.9802 65.4020...\n"
     ]
    },
    {
     "name": "stderr",
     "output_type": "stream",
     "text": [
      "Saving 6.67 x 6.67 in image\n",
      "\n"
     ]
    },
    {
     "name": "stdout",
     "output_type": "stream",
     "text": [
      "Simple feature collection with 1 feature and 3 fields\n",
      "Geometry type: POLYGON\n",
      "Dimension:     XY\n",
      "Bounding box:  xmin: -145.98 ymin: 65.402 xmax: -145.98 ymax: 65.40201\n",
      "Geodetic CRS:  GCS_unknown\n",
      "  CLASS_ID   CLASS_NAME AREA                       geometry\n",
      "2        3 Twelvemile90  473 POLYGON ((-145.98 65.402, -...\n"
     ]
    },
    {
     "name": "stderr",
     "output_type": "stream",
     "text": [
      "Saving 6.67 x 6.67 in image\n",
      "\n"
     ]
    },
    {
     "name": "stdout",
     "output_type": "stream",
     "text": [
      "Simple feature collection with 1 feature and 3 fields\n",
      "Geometry type: POLYGON\n",
      "Dimension:     XY\n",
      "Bounding box:  xmin: -145.9798 ymin: 65.40198 xmax: -145.9798 ymax: 65.40199\n",
      "Geodetic CRS:  GCS_unknown\n",
      "  CLASS_ID   CLASS_NAME AREA                       geometry\n",
      "3        2 Twelvemile80  631 POLYGON ((-145.9798 65.4019...\n"
     ]
    },
    {
     "name": "stderr",
     "output_type": "stream",
     "text": [
      "Saving 6.67 x 6.67 in image\n",
      "\n"
     ]
    },
    {
     "name": "stdout",
     "output_type": "stream",
     "text": [
      "Simple feature collection with 1 feature and 3 fields\n",
      "Geometry type: POLYGON\n",
      "Dimension:     XY\n",
      "Bounding box:  xmin: -145.9796 ymin: 65.40196 xmax: -145.9796 ymax: 65.40197\n",
      "Geodetic CRS:  GCS_unknown\n",
      "  CLASS_ID   CLASS_NAME AREA                       geometry\n",
      "4        1 Twelvemile70  518 POLYGON ((-145.9796 65.4019...\n"
     ]
    },
    {
     "name": "stderr",
     "output_type": "stream",
     "text": [
      "Saving 6.67 x 6.67 in image\n",
      "\n"
     ]
    },
    {
     "name": "stdout",
     "output_type": "stream",
     "text": [
      "[1] \"z\"\n"
     ]
    },
    {
     "name": "stderr",
     "output_type": "stream",
     "text": [
      "Saving 6.67 x 6.67 in image\n",
      "\n",
      "Saving 6.67 x 6.67 in image\n",
      "\n",
      "Saving 6.67 x 6.67 in image\n",
      "\n",
      "Saving 6.67 x 6.67 in image\n",
      "\n"
     ]
    },
    {
     "name": "stdout",
     "output_type": "stream",
     "text": [
      "[1] \"preprocessing raster at Data/Ground_Validation/Imagery/Quads/EightMileQuads.envi\"\n",
      "[1] \"Converted to Data frame?\"\n",
      "[1] TRUE\n",
      "[1] \"Noisy columns removed\"\n",
      "[1] TRUE\n",
      "[1] \"Filtered\"\n",
      "[1] TRUE\n",
      "[1] \"Imputing...\"\n"
     ]
    },
    {
     "name": "stderr",
     "output_type": "stream",
     "text": [
      "Using spline to predict value at new bands...\n",
      "\n",
      "Beware the spectra are now partially smoothed.\n",
      "\n"
     ]
    },
    {
     "name": "stdout",
     "output_type": "stream",
     "text": [
      "[1] \"Imputing...\"\n"
     ]
    },
    {
     "name": "stderr",
     "output_type": "stream",
     "text": [
      "\u001b[1m\u001b[22m`.cols` has been renamed and is deprecated, please use `.vars`\n"
     ]
    },
    {
     "name": "stdout",
     "output_type": "stream",
     "text": [
      "          x        y z\n",
      "1 -149.2529 63.87686 3\n",
      "2 -149.2529 63.87686 4\n",
      "3 -149.2529 63.87686 3\n",
      "4 -149.2529 63.87686 4\n",
      "5 -149.2529 63.87686 3\n",
      "6 -149.2529 63.87686 3\n",
      "          x        y z\n",
      "1 -149.2529 63.87686 3\n",
      "2 -149.2529 63.87686 4\n",
      "3 -149.2529 63.87686 3\n",
      "4 -149.2529 63.87686 4\n",
      "5 -149.2529 63.87686 3\n",
      "6 -149.2529 63.87686 3\n",
      "[1] \"Attempting to save to ./validation_saved_output.grd\"\n",
      "[1] \"Converted to Raster\"\n",
      "Reading layer `EightMile_Quadrats_revised' from data source \n",
      "  `/home/krbundy/GitHub/lecospec/Data/Vectors/EightMile_Quadrats_revised.shp' \n",
      "  using driver `ESRI Shapefile'\n",
      "Simple feature collection with 11 features and 3 fields\n",
      "Geometry type: POLYGON\n",
      "Dimension:     XY\n",
      "Bounding box:  xmin: -149.2549 ymin: 63.87666 xmax: -149.2529 ymax: 63.87686\n",
      "Geodetic CRS:  WGS 84\n",
      " [1] \"Eightmile10\"  \"Eightmile0\"   \"Eightmile60\"  \"Eightmile50\"  \"Eightmile40\" \n",
      " [6] \"Eightmile30\"  \"Eightmile20\"  \"Eightmile100\" \"Eightmile90\"  \"Eightmile80\" \n",
      "[11] \"Eightmile70\" \n",
      "Simple feature collection with 1 feature and 3 fields\n",
      "Geometry type: POLYGON\n",
      "Dimension:     XY\n",
      "Bounding box:  xmin: -149.2547 ymin: 63.87667 xmax: -149.2546 ymax: 63.87669\n",
      "Geodetic CRS:  GCS_unknown\n",
      "   CLASS_NAME CLASS_ID CLASS_CLRS                       geometry\n",
      "1 Eightmile10        2    0,128,0 POLYGON ((-149.2547 63.8766...\n"
     ]
    },
    {
     "name": "stderr",
     "output_type": "stream",
     "text": [
      "Saving 6.67 x 6.67 in image\n",
      "\n"
     ]
    },
    {
     "name": "stdout",
     "output_type": "stream",
     "text": [
      "Simple feature collection with 1 feature and 3 fields\n",
      "Geometry type: POLYGON\n",
      "Dimension:     XY\n",
      "Bounding box:  xmin: -149.2549 ymin: 63.87666 xmax: -149.2548 ymax: 63.87667\n",
      "Geodetic CRS:  GCS_unknown\n",
      "  CLASS_NAME CLASS_ID CLASS_CLRS                       geometry\n",
      "2 Eightmile0        1    255,0,0 POLYGON ((-149.2548 63.8766...\n"
     ]
    },
    {
     "name": "stderr",
     "output_type": "stream",
     "text": [
      "Saving 6.67 x 6.67 in image\n",
      "\n"
     ]
    },
    {
     "name": "stdout",
     "output_type": "stream",
     "text": [
      "Simple feature collection with 1 feature and 3 fields\n",
      "Geometry type: POLYGON\n",
      "Dimension:     XY\n",
      "Bounding box:  xmin: -149.2537 ymin: 63.87675 xmax: -149.2537 ymax: 63.87677\n",
      "Geodetic CRS:  GCS_unknown\n",
      "   CLASS_NAME CLASS_ID CLASS_CLRS                       geometry\n",
      "3 Eightmile60        7  128,128,0 POLYGON ((-149.2537 63.8767...\n"
     ]
    },
    {
     "name": "stderr",
     "output_type": "stream",
     "text": [
      "Saving 6.67 x 6.67 in image\n",
      "\n"
     ]
    },
    {
     "name": "stdout",
     "output_type": "stream",
     "text": [
      "Simple feature collection with 1 feature and 3 fields\n",
      "Geometry type: POLYGON\n",
      "Dimension:     XY\n",
      "Bounding box:  xmin: -149.2539 ymin: 63.87673 xmax: -149.2539 ymax: 63.87674\n",
      "Geodetic CRS:  GCS_unknown\n",
      "   CLASS_NAME CLASS_ID CLASS_CLRS                       geometry\n",
      "4 Eightmile50        6  255,0,255 POLYGON ((-149.2539 63.8767...\n"
     ]
    },
    {
     "name": "stderr",
     "output_type": "stream",
     "text": [
      "Saving 6.67 x 6.67 in image\n",
      "\n"
     ]
    },
    {
     "name": "stdout",
     "output_type": "stream",
     "text": [
      "Simple feature collection with 1 feature and 3 fields\n",
      "Geometry type: POLYGON\n",
      "Dimension:     XY\n",
      "Bounding box:  xmin: -149.2541 ymin: 63.87672 xmax: -149.254 ymax: 63.87673\n",
      "Geodetic CRS:  GCS_unknown\n",
      "   CLASS_NAME CLASS_ID CLASS_CLRS                       geometry\n",
      "5 Eightmile40        5  0,255,255 POLYGON ((-149.254 63.87673...\n"
     ]
    },
    {
     "name": "stderr",
     "output_type": "stream",
     "text": [
      "Saving 6.67 x 6.67 in image\n",
      "\n"
     ]
    },
    {
     "name": "stdout",
     "output_type": "stream",
     "text": [
      "Simple feature collection with 1 feature and 3 fields\n",
      "Geometry type: POLYGON\n",
      "Dimension:     XY\n",
      "Bounding box:  xmin: -149.2543 ymin: 63.87671 xmax: -149.2542 ymax: 63.87672\n",
      "Geodetic CRS:  GCS_unknown\n",
      "   CLASS_NAME CLASS_ID CLASS_CLRS                       geometry\n",
      "6 Eightmile30        4  255,255,0 POLYGON ((-149.2542 63.8767...\n"
     ]
    },
    {
     "name": "stderr",
     "output_type": "stream",
     "text": [
      "Saving 6.67 x 6.67 in image\n",
      "\n"
     ]
    },
    {
     "name": "stdout",
     "output_type": "stream",
     "text": [
      "Simple feature collection with 1 feature and 3 fields\n",
      "Geometry type: POLYGON\n",
      "Dimension:     XY\n",
      "Bounding box:  xmin: -149.2545 ymin: 63.87669 xmax: -149.2544 ymax: 63.8767\n",
      "Geodetic CRS:  GCS_unknown\n",
      "   CLASS_NAME CLASS_ID CLASS_CLRS                       geometry\n",
      "7 Eightmile20        3    0,0,255 POLYGON ((-149.2544 63.8767...\n"
     ]
    },
    {
     "name": "stderr",
     "output_type": "stream",
     "text": [
      "Saving 6.67 x 6.67 in image\n",
      "\n"
     ]
    },
    {
     "name": "stdout",
     "output_type": "stream",
     "text": [
      "Simple feature collection with 1 feature and 3 fields\n",
      "Geometry type: POLYGON\n",
      "Dimension:     XY\n",
      "Bounding box:  xmin: -149.2529 ymin: 63.87685 xmax: -149.2529 ymax: 63.87686\n",
      "Geodetic CRS:  GCS_unknown\n",
      "    CLASS_NAME CLASS_ID CLASS_CLRS                       geometry\n",
      "8 Eightmile100       11    0,255,0 POLYGON ((-149.2529 63.8768...\n"
     ]
    },
    {
     "name": "stderr",
     "output_type": "stream",
     "text": [
      "Saving 6.67 x 6.67 in image\n",
      "\n"
     ]
    },
    {
     "name": "stdout",
     "output_type": "stream",
     "text": [
      "Simple feature collection with 1 feature and 3 fields\n",
      "Geometry type: POLYGON\n",
      "Dimension:     XY\n",
      "Bounding box:  xmin: -149.2531 ymin: 63.87682 xmax: -149.2531 ymax: 63.87684\n",
      "Geodetic CRS:  GCS_unknown\n",
      "   CLASS_NAME CLASS_ID CLASS_CLRS                       geometry\n",
      "9 Eightmile90       10    128,0,0 POLYGON ((-149.2531 63.8768...\n"
     ]
    },
    {
     "name": "stderr",
     "output_type": "stream",
     "text": [
      "Saving 6.67 x 6.67 in image\n",
      "\n"
     ]
    },
    {
     "name": "stdout",
     "output_type": "stream",
     "text": [
      "Simple feature collection with 1 feature and 3 fields\n",
      "Geometry type: POLYGON\n",
      "Dimension:     XY\n",
      "Bounding box:  xmin: -149.2533 ymin: 63.8768 xmax: -149.2533 ymax: 63.87681\n",
      "Geodetic CRS:  GCS_unknown\n",
      "    CLASS_NAME CLASS_ID CLASS_CLRS                       geometry\n",
      "10 Eightmile80        9  255,255,0 POLYGON ((-149.2533 63.8768...\n"
     ]
    },
    {
     "name": "stderr",
     "output_type": "stream",
     "text": [
      "Saving 6.67 x 6.67 in image\n",
      "\n"
     ]
    },
    {
     "name": "stdout",
     "output_type": "stream",
     "text": [
      "Simple feature collection with 1 feature and 3 fields\n",
      "Geometry type: POLYGON\n",
      "Dimension:     XY\n",
      "Bounding box:  xmin: -149.2535 ymin: 63.87678 xmax: -149.2535 ymax: 63.87679\n",
      "Geodetic CRS:  GCS_unknown\n",
      "    CLASS_NAME CLASS_ID CLASS_CLRS                       geometry\n",
      "11 Eightmile70        8  0,128,128 POLYGON ((-149.2535 63.8767...\n"
     ]
    },
    {
     "name": "stderr",
     "output_type": "stream",
     "text": [
      "Saving 6.67 x 6.67 in image\n",
      "\n"
     ]
    },
    {
     "name": "stdout",
     "output_type": "stream",
     "text": [
      "[1] \"z\"\n"
     ]
    },
    {
     "name": "stderr",
     "output_type": "stream",
     "text": [
      "Saving 6.67 x 6.67 in image\n",
      "\n",
      "Saving 6.67 x 6.67 in image\n",
      "\n",
      "Saving 6.67 x 6.67 in image\n",
      "\n",
      "Saving 6.67 x 6.67 in image\n",
      "\n",
      "Saving 6.67 x 6.67 in image\n",
      "\n",
      "Saving 6.67 x 6.67 in image\n",
      "\n",
      "Saving 6.67 x 6.67 in image\n",
      "\n",
      "Saving 6.67 x 6.67 in image\n",
      "\n",
      "Saving 6.67 x 6.67 in image\n",
      "\n",
      "Saving 6.67 x 6.67 in image\n",
      "\n",
      "Saving 6.67 x 6.67 in image\n",
      "\n"
     ]
    },
    {
     "name": "stdout",
     "output_type": "stream",
     "text": [
      "[1] \"preprocessing raster at Data/Ground_Validation/Imagery/Quads/MurphDomeQuads0_10.envi\"\n",
      "[1] \"Converted to Data frame?\"\n",
      "[1] TRUE\n",
      "[1] \"Noisy columns removed\"\n",
      "[1] TRUE\n",
      "[1] \"Filtered\"\n",
      "[1] TRUE\n",
      "[1] \"Imputing...\"\n"
     ]
    },
    {
     "name": "stderr",
     "output_type": "stream",
     "text": [
      "Using spline to predict value at new bands...\n",
      "\n",
      "Beware the spectra are now partially smoothed.\n",
      "\n"
     ]
    },
    {
     "name": "stdout",
     "output_type": "stream",
     "text": [
      "[1] \"Imputing...\"\n"
     ]
    },
    {
     "name": "stderr",
     "output_type": "stream",
     "text": [
      "\u001b[1m\u001b[22m`.cols` has been renamed and is deprecated, please use `.vars`\n"
     ]
    },
    {
     "name": "stdout",
     "output_type": "stream",
     "text": [
      "          x       y z\n",
      "1 -148.3535 64.9538 4\n",
      "2 -148.3535 64.9538 4\n",
      "3 -148.3535 64.9538 4\n",
      "4 -148.3535 64.9538 4\n",
      "5 -148.3535 64.9538 4\n",
      "6 -148.3535 64.9538 4\n",
      "          x       y z\n",
      "1 -148.3535 64.9538 4\n",
      "2 -148.3535 64.9538 4\n",
      "3 -148.3535 64.9538 4\n",
      "4 -148.3535 64.9538 4\n",
      "5 -148.3535 64.9538 4\n",
      "6 -148.3535 64.9538 4\n",
      "[1] \"Attempting to save to ./validation_saved_output.grd\"\n",
      "[1] \"Converted to Raster\"\n",
      "Reading layer `MurphyQuads0_10m' from data source \n",
      "  `/home/krbundy/GitHub/lecospec/Data/Vectors/MurphyQuads0_10m.shp' \n",
      "  using driver `ESRI Shapefile'\n",
      "Simple feature collection with 2 features and 3 fields\n",
      "Geometry type: POLYGON\n",
      "Dimension:     XY\n",
      "Bounding box:  xmin: -148.3535 ymin: 64.95372 xmax: -148.3533 ymax: 64.9538\n",
      "Geodetic CRS:  WGS 84\n",
      "[1] \"Murphydome10\" \"Murphydome0\" \n",
      "Simple feature collection with 1 feature and 3 fields\n",
      "Geometry type: POLYGON\n",
      "Dimension:     XY\n",
      "Bounding box:  xmin: -148.3535 ymin: 64.95379 xmax: -148.3535 ymax: 64.9538\n",
      "Geodetic CRS:  GCS_unknown\n",
      "    CLASS_NAME CLASS_ID CLASS_CLRS                       geometry\n",
      "1 Murphydome10        1    0,0,255 POLYGON ((-148.3535 64.9538...\n"
     ]
    },
    {
     "name": "stderr",
     "output_type": "stream",
     "text": [
      "Saving 6.67 x 6.67 in image\n",
      "\n"
     ]
    },
    {
     "name": "stdout",
     "output_type": "stream",
     "text": [
      "Simple feature collection with 1 feature and 3 fields\n",
      "Geometry type: POLYGON\n",
      "Dimension:     XY\n",
      "Bounding box:  xmin: -148.3534 ymin: 64.95372 xmax: -148.3533 ymax: 64.95373\n",
      "Geodetic CRS:  GCS_unknown\n",
      "   CLASS_NAME CLASS_ID CLASS_CLRS                       geometry\n",
      "2 Murphydome0        2    0,128,0 POLYGON ((-148.3534 64.9537...\n"
     ]
    },
    {
     "name": "stderr",
     "output_type": "stream",
     "text": [
      "Saving 6.67 x 6.67 in image\n",
      "\n"
     ]
    },
    {
     "name": "stdout",
     "output_type": "stream",
     "text": [
      "[1] \"z\"\n"
     ]
    },
    {
     "name": "stderr",
     "output_type": "stream",
     "text": [
      "Saving 6.67 x 6.67 in image\n",
      "\n",
      "Saving 6.67 x 6.67 in image\n",
      "\n"
     ]
    },
    {
     "name": "stdout",
     "output_type": "stream",
     "text": [
      "[1] \"preprocessing raster at Data/Ground_Validation/Imagery/Quads/MurphDomeQuads20_50.envi\"\n",
      "[1] \"Converted to Data frame?\"\n",
      "[1] TRUE\n",
      "[1] \"Noisy columns removed\"\n",
      "[1] TRUE\n",
      "[1] \"Filtered\"\n",
      "[1] TRUE\n",
      "[1] \"Imputing...\"\n"
     ]
    },
    {
     "name": "stderr",
     "output_type": "stream",
     "text": [
      "Using spline to predict value at new bands...\n",
      "\n",
      "Beware the spectra are now partially smoothed.\n",
      "\n"
     ]
    },
    {
     "name": "stdout",
     "output_type": "stream",
     "text": [
      "[1] \"Imputing...\"\n"
     ]
    },
    {
     "name": "stderr",
     "output_type": "stream",
     "text": [
      "\u001b[1m\u001b[22m`.cols` has been renamed and is deprecated, please use `.vars`\n"
     ]
    },
    {
     "name": "stdout",
     "output_type": "stream",
     "text": [
      "          x        y z\n",
      "1 -148.3540 64.95407 4\n",
      "2 -148.3541 64.95407 4\n",
      "3 -148.3540 64.95407 4\n",
      "4 -148.3540 64.95407 4\n",
      "5 -148.3541 64.95407 4\n",
      "6 -148.3541 64.95407 4\n",
      "          x        y z\n",
      "1 -148.3540 64.95407 4\n",
      "2 -148.3541 64.95407 4\n",
      "3 -148.3540 64.95407 4\n",
      "4 -148.3540 64.95407 4\n",
      "5 -148.3541 64.95407 4\n",
      "6 -148.3541 64.95407 4\n",
      "[1] \"Attempting to save to ./validation_saved_output.grd\"\n",
      "[1] \"Converted to Raster\"\n",
      "Reading layer `MurphyQuads20_50m' from data source \n",
      "  `/home/krbundy/GitHub/lecospec/Data/Vectors/MurphyQuads20_50m.shp' \n",
      "  using driver `ESRI Shapefile'\n",
      "Simple feature collection with 4 features and 3 fields\n",
      "Geometry type: POLYGON\n",
      "Dimension:     XY\n",
      "Bounding box:  xmin: -148.3541 ymin: 64.95384 xmax: -148.3536 ymax: 64.95407\n",
      "Geodetic CRS:  WGS 84\n",
      "[1] \"Murphydome50\" \"Murphydome40\" \"Murphydome30\" \"Murphydome20\"\n",
      "Simple feature collection with 1 feature and 3 fields\n",
      "Geometry type: POLYGON\n",
      "Dimension:     XY\n",
      "Bounding box:  xmin: -148.3541 ymin: 64.95406 xmax: -148.354 ymax: 64.95407\n",
      "Geodetic CRS:  GCS_unknown\n",
      "    CLASS_NAME CLASS_ID CLASS_CLRS                       geometry\n",
      "1 Murphydome50        1  128,128,0 POLYGON ((-148.354 64.95407...\n"
     ]
    },
    {
     "name": "stderr",
     "output_type": "stream",
     "text": [
      "Saving 6.67 x 6.67 in image\n",
      "\n"
     ]
    },
    {
     "name": "stdout",
     "output_type": "stream",
     "text": [
      "Simple feature collection with 1 feature and 3 fields\n",
      "Geometry type: POLYGON\n",
      "Dimension:     XY\n",
      "Bounding box:  xmin: -148.3539 ymin: 64.95399 xmax: -148.3539 ymax: 64.954\n",
      "Geodetic CRS:  GCS_unknown\n",
      "    CLASS_NAME CLASS_ID CLASS_CLRS                       geometry\n",
      "2 Murphydome40        2  255,0,255 POLYGON ((-148.3539 64.954,...\n"
     ]
    },
    {
     "name": "stderr",
     "output_type": "stream",
     "text": [
      "Saving 6.67 x 6.67 in image\n",
      "\n"
     ]
    },
    {
     "name": "stdout",
     "output_type": "stream",
     "text": [
      "Simple feature collection with 1 feature and 3 fields\n",
      "Geometry type: POLYGON\n",
      "Dimension:     XY\n",
      "Bounding box:  xmin: -148.3538 ymin: 64.95392 xmax: -148.3537 ymax: 64.95393\n",
      "Geodetic CRS:  GCS_unknown\n",
      "    CLASS_NAME CLASS_ID CLASS_CLRS                       geometry\n",
      "3 Murphydome30        3  0,255,255 POLYGON ((-148.3538 64.9539...\n"
     ]
    },
    {
     "name": "stderr",
     "output_type": "stream",
     "text": [
      "Saving 6.67 x 6.67 in image\n",
      "\n"
     ]
    },
    {
     "name": "stdout",
     "output_type": "stream",
     "text": [
      "Simple feature collection with 1 feature and 3 fields\n",
      "Geometry type: POLYGON\n",
      "Dimension:     XY\n",
      "Bounding box:  xmin: -148.3537 ymin: 64.95384 xmax: -148.3536 ymax: 64.95386\n",
      "Geodetic CRS:  GCS_unknown\n",
      "    CLASS_NAME CLASS_ID CLASS_CLRS                       geometry\n",
      "4 Murphydome20        4  255,255,0 POLYGON ((-148.3536 64.9538...\n"
     ]
    },
    {
     "name": "stderr",
     "output_type": "stream",
     "text": [
      "Saving 6.67 x 6.67 in image\n",
      "\n"
     ]
    },
    {
     "name": "stdout",
     "output_type": "stream",
     "text": [
      "[1] \"z\"\n"
     ]
    },
    {
     "name": "stderr",
     "output_type": "stream",
     "text": [
      "Saving 6.67 x 6.67 in image\n",
      "\n",
      "Saving 6.67 x 6.67 in image\n",
      "\n",
      "Saving 6.67 x 6.67 in image\n",
      "\n",
      "Saving 6.67 x 6.67 in image\n",
      "\n"
     ]
    },
    {
     "name": "stdout",
     "output_type": "stream",
     "text": [
      "[1] \"preprocessing raster at Data/Ground_Validation/Imagery/Quads/MurphDomeQuads60_100.envi\"\n",
      "[1] \"Converted to Data frame?\"\n",
      "[1] TRUE\n",
      "[1] \"Noisy columns removed\"\n",
      "[1] TRUE\n",
      "[1] \"Filtered\"\n",
      "[1] TRUE\n",
      "[1] \"Imputing...\"\n"
     ]
    },
    {
     "name": "stderr",
     "output_type": "stream",
     "text": [
      "Using spline to predict value at new bands...\n",
      "\n",
      "Beware the spectra are now partially smoothed.\n",
      "\n"
     ]
    },
    {
     "name": "stdout",
     "output_type": "stream",
     "text": [
      "[1] \"Imputing...\"\n"
     ]
    },
    {
     "name": "stderr",
     "output_type": "stream",
     "text": [
      "\u001b[1m\u001b[22m`.cols` has been renamed and is deprecated, please use `.vars`\n"
     ]
    },
    {
     "name": "stdout",
     "output_type": "stream",
     "text": [
      "          x        y z\n",
      "1 -148.3548 64.95441 4\n",
      "2 -148.3548 64.95441 4\n",
      "3 -148.3548 64.95441 3\n",
      "4 -148.3548 64.95441 4\n",
      "5 -148.3548 64.95441 3\n",
      "6 -148.3548 64.95441 3\n",
      "          x        y z\n",
      "1 -148.3548 64.95441 4\n",
      "2 -148.3548 64.95441 4\n",
      "3 -148.3548 64.95441 3\n",
      "4 -148.3548 64.95441 4\n",
      "5 -148.3548 64.95441 3\n",
      "6 -148.3548 64.95441 3\n",
      "[1] \"Attempting to save to ./validation_saved_output.grd\"\n",
      "[1] \"Converted to Raster\"\n",
      "Reading layer `MurphyQuads60_100m' from data source \n",
      "  `/home/krbundy/GitHub/lecospec/Data/Vectors/MurphyQuads60_100m.shp' \n",
      "  using driver `ESRI Shapefile'\n",
      "Simple feature collection with 5 features and 3 fields\n",
      "Geometry type: POLYGON\n",
      "Dimension:     XY\n",
      "Bounding box:  xmin: -148.3548 ymin: 64.95413 xmax: -148.3542 ymax: 64.95441\n",
      "Geodetic CRS:  WGS 84\n",
      "[1] \"Murphydome100\" \"Murphydome90\"  \"Murphydome80\"  \"Murphydome70\" \n",
      "[5] \"Murphydome60\" \n",
      "Simple feature collection with 1 feature and 3 fields\n",
      "Geometry type: POLYGON\n",
      "Dimension:     XY\n",
      "Bounding box:  xmin: -148.3548 ymin: 64.9544 xmax: -148.3547 ymax: 64.95441\n",
      "Geodetic CRS:  GCS_unknown\n",
      "     CLASS_NAME CLASS_ID CLASS_CLRS                       geometry\n",
      "1 Murphydome100        1 255,127,80 POLYGON ((-148.3548 64.9544...\n"
     ]
    },
    {
     "name": "stderr",
     "output_type": "stream",
     "text": [
      "Saving 6.67 x 6.67 in image\n",
      "\n"
     ]
    },
    {
     "name": "stdout",
     "output_type": "stream",
     "text": [
      "Simple feature collection with 1 feature and 3 fields\n",
      "Geometry type: POLYGON\n",
      "Dimension:     XY\n",
      "Bounding box:  xmin: -148.3546 ymin: 64.95433 xmax: -148.3546 ymax: 64.95434\n",
      "Geodetic CRS:  GCS_unknown\n",
      "    CLASS_NAME CLASS_ID CLASS_CLRS                       geometry\n",
      "2 Murphydome90        2    0,0,128 POLYGON ((-148.3546 64.9543...\n"
     ]
    },
    {
     "name": "stderr",
     "output_type": "stream",
     "text": [
      "Saving 6.67 x 6.67 in image\n",
      "\n"
     ]
    },
    {
     "name": "stdout",
     "output_type": "stream",
     "text": [
      "Simple feature collection with 1 feature and 3 fields\n",
      "Geometry type: POLYGON\n",
      "Dimension:     XY\n",
      "Bounding box:  xmin: -148.3545 ymin: 64.95426 xmax: -148.3544 ymax: 64.95427\n",
      "Geodetic CRS:  GCS_unknown\n",
      "    CLASS_NAME CLASS_ID CLASS_CLRS                       geometry\n",
      "3 Murphydome80        3    0,255,0 POLYGON ((-148.3545 64.9542...\n"
     ]
    },
    {
     "name": "stderr",
     "output_type": "stream",
     "text": [
      "Saving 6.67 x 6.67 in image\n",
      "\n"
     ]
    },
    {
     "name": "stdout",
     "output_type": "stream",
     "text": [
      "Simple feature collection with 1 feature and 3 fields\n",
      "Geometry type: POLYGON\n",
      "Dimension:     XY\n",
      "Bounding box:  xmin: -148.3543 ymin: 64.95419 xmax: -148.3543 ymax: 64.9542\n",
      "Geodetic CRS:  GCS_unknown\n",
      "    CLASS_NAME CLASS_ID CLASS_CLRS                       geometry\n",
      "4 Murphydome70        4    128,0,0 POLYGON ((-148.3543 64.9542...\n"
     ]
    },
    {
     "name": "stderr",
     "output_type": "stream",
     "text": [
      "Saving 6.67 x 6.67 in image\n",
      "\n"
     ]
    },
    {
     "name": "stdout",
     "output_type": "stream",
     "text": [
      "Simple feature collection with 1 feature and 3 fields\n",
      "Geometry type: POLYGON\n",
      "Dimension:     XY\n",
      "Bounding box:  xmin: -148.3542 ymin: 64.95413 xmax: -148.3542 ymax: 64.95414\n",
      "Geodetic CRS:  GCS_unknown\n",
      "    CLASS_NAME CLASS_ID CLASS_CLRS                       geometry\n",
      "5 Murphydome60        5  0,128,128 POLYGON ((-148.3542 64.9541...\n"
     ]
    },
    {
     "name": "stderr",
     "output_type": "stream",
     "text": [
      "Saving 6.67 x 6.67 in image\n",
      "\n"
     ]
    },
    {
     "name": "stdout",
     "output_type": "stream",
     "text": [
      "[1] \"z\"\n"
     ]
    },
    {
     "name": "stderr",
     "output_type": "stream",
     "text": [
      "Saving 6.67 x 6.67 in image\n",
      "\n",
      "Saving 6.67 x 6.67 in image\n",
      "\n",
      "Saving 6.67 x 6.67 in image\n",
      "\n",
      "Saving 6.67 x 6.67 in image\n",
      "\n",
      "Saving 6.67 x 6.67 in image\n",
      "\n"
     ]
    },
    {
     "name": "stdout",
     "output_type": "stream",
     "text": [
      "[1] \"preprocessing raster at Data/Ground_Validation/Imagery/Quads/BonanzaQuads.envi\"\n",
      "[1] \"Converted to Data frame?\"\n",
      "[1] TRUE\n",
      "[1] \"Noisy columns removed\"\n",
      "[1] TRUE\n",
      "[1] \"Filtered\"\n",
      "[1] TRUE\n",
      "[1] \"Imputing...\"\n"
     ]
    },
    {
     "name": "stderr",
     "output_type": "stream",
     "text": [
      "Using spline to predict value at new bands...\n",
      "\n",
      "Beware the spectra are now partially smoothed.\n",
      "\n"
     ]
    },
    {
     "name": "stdout",
     "output_type": "stream",
     "text": [
      "[1] \"Imputing...\"\n"
     ]
    },
    {
     "name": "stderr",
     "output_type": "stream",
     "text": [
      "\u001b[1m\u001b[22m`.cols` has been renamed and is deprecated, please use `.vars`\n"
     ]
    },
    {
     "name": "stdout",
     "output_type": "stream",
     "text": [
      "          x        y z\n",
      "1 -148.2962 64.70435 4\n",
      "2 -148.2962 64.70435 4\n",
      "3 -148.2962 64.70435 4\n",
      "4 -148.2962 64.70435 4\n",
      "5 -148.2962 64.70435 4\n",
      "6 -148.2962 64.70435 4\n",
      "          x        y z\n",
      "1 -148.2962 64.70435 4\n",
      "2 -148.2962 64.70435 4\n",
      "3 -148.2962 64.70435 4\n",
      "4 -148.2962 64.70435 4\n",
      "5 -148.2962 64.70435 4\n",
      "6 -148.2962 64.70435 4\n",
      "[1] \"Attempting to save to ./validation_saved_output.grd\"\n",
      "[1] \"Converted to Raster\"\n",
      "Reading layer `Bonanza_N_Quads' from data source \n",
      "  `/home/krbundy/GitHub/lecospec/Data/Vectors/Bonanza_N_Quads.shp' \n",
      "  using driver `ESRI Shapefile'\n",
      "Simple feature collection with 11 features and 3 fields\n",
      "Geometry type: POLYGON\n",
      "Dimension:     XY\n",
      "Bounding box:  xmin: 438153.7 ymin: 7176051 xmax: 438205.6 ymax: 7176138\n",
      "Projected CRS: WGS 84 / UTM zone 6N\n",
      " [1] \"Bonanza60\"  \"Bonanza100\" \"Bonanza90\"  \"Bonanza80\"  \"Bonanza50\" \n",
      " [6] \"Bonanza40\"  \"Bonanza30\"  \"Bonanza20\"  \"Bonanza10\"  \"Bonanza0\"  \n",
      "[11] \"Bonanza70\" \n",
      "Simple feature collection with 1 feature and 3 fields\n",
      "Geometry type: POLYGON\n",
      "Dimension:     XY\n",
      "Bounding box:  xmin: -148.2966 ymin: 64.70403 xmax: -148.2966 ymax: 64.70404\n",
      "Geodetic CRS:  GCS_unknown\n",
      "  CLASS_NAME CLASS_ID CLASS_CLRS                       geometry\n",
      "1  Bonanza60        7    128,0,0 POLYGON ((-148.2966 64.7040...\n"
     ]
    },
    {
     "name": "stderr",
     "output_type": "stream",
     "text": [
      "Saving 6.67 x 6.67 in image\n",
      "\n"
     ]
    },
    {
     "name": "stdout",
     "output_type": "stream",
     "text": [
      "Simple feature collection with 1 feature and 3 fields\n",
      "Geometry type: POLYGON\n",
      "Dimension:     XY\n",
      "Bounding box:  xmin: -148.2962 ymin: 64.70434 xmax: -148.2962 ymax: 64.70435\n",
      "Geodetic CRS:  GCS_unknown\n",
      "  CLASS_NAME CLASS_ID CLASS_CLRS                       geometry\n",
      "2 Bonanza100       11  127,255,0 POLYGON ((-148.2962 64.7043...\n"
     ]
    },
    {
     "name": "stderr",
     "output_type": "stream",
     "text": [
      "Saving 6.67 x 6.67 in image\n",
      "\n"
     ]
    },
    {
     "name": "stdout",
     "output_type": "stream",
     "text": [
      "Simple feature collection with 1 feature and 3 fields\n",
      "Geometry type: POLYGON\n",
      "Dimension:     XY\n",
      "Bounding box:  xmin: -148.2963 ymin: 64.70426 xmax: -148.2963 ymax: 64.70428\n",
      "Geodetic CRS:  GCS_unknown\n",
      "  CLASS_NAME CLASS_ID CLASS_CLRS                       geometry\n",
      "3  Bonanza90       10 255,127,80 POLYGON ((-148.2963 64.7042...\n"
     ]
    },
    {
     "name": "stderr",
     "output_type": "stream",
     "text": [
      "Saving 6.67 x 6.67 in image\n",
      "\n"
     ]
    },
    {
     "name": "stdout",
     "output_type": "stream",
     "text": [
      "Simple feature collection with 1 feature and 3 fields\n",
      "Geometry type: POLYGON\n",
      "Dimension:     XY\n",
      "Bounding box:  xmin: -148.2964 ymin: 64.70418 xmax: -148.2964 ymax: 64.7042\n",
      "Geodetic CRS:  GCS_unknown\n",
      "  CLASS_NAME CLASS_ID CLASS_CLRS                       geometry\n",
      "4  Bonanza80        9    0,0,128 POLYGON ((-148.2964 64.7042...\n"
     ]
    },
    {
     "name": "stderr",
     "output_type": "stream",
     "text": [
      "Saving 6.67 x 6.67 in image\n",
      "\n"
     ]
    },
    {
     "name": "stdout",
     "output_type": "stream",
     "text": [
      "Simple feature collection with 1 feature and 3 fields\n",
      "Geometry type: POLYGON\n",
      "Dimension:     XY\n",
      "Bounding box:  xmin: -148.2967 ymin: 64.70395 xmax: -148.2967 ymax: 64.70396\n",
      "Geodetic CRS:  GCS_unknown\n",
      "  CLASS_NAME CLASS_ID CLASS_CLRS                       geometry\n",
      "5  Bonanza50        6  255,0,255 POLYGON ((-148.2967 64.7039...\n"
     ]
    },
    {
     "name": "stderr",
     "output_type": "stream",
     "text": [
      "Saving 6.67 x 6.67 in image\n",
      "\n"
     ]
    },
    {
     "name": "stdout",
     "output_type": "stream",
     "text": [
      "Simple feature collection with 1 feature and 3 fields\n",
      "Geometry type: POLYGON\n",
      "Dimension:     XY\n",
      "Bounding box:  xmin: -148.2968 ymin: 64.70387 xmax: -148.2968 ymax: 64.70388\n",
      "Geodetic CRS:  GCS_unknown\n",
      "  CLASS_NAME CLASS_ID CLASS_CLRS                       geometry\n",
      "6  Bonanza40        5  0,255,255 POLYGON ((-148.2968 64.7038...\n"
     ]
    },
    {
     "name": "stderr",
     "output_type": "stream",
     "text": [
      "Saving 6.67 x 6.67 in image\n",
      "\n"
     ]
    },
    {
     "name": "stdout",
     "output_type": "stream",
     "text": [
      "Simple feature collection with 1 feature and 3 fields\n",
      "Geometry type: POLYGON\n",
      "Dimension:     XY\n",
      "Bounding box:  xmin: -148.2969 ymin: 64.70379 xmax: -148.2969 ymax: 64.7038\n",
      "Geodetic CRS:  GCS_unknown\n",
      "  CLASS_NAME CLASS_ID CLASS_CLRS                       geometry\n",
      "7  Bonanza30        4  255,255,0 POLYGON ((-148.2969 64.7038...\n"
     ]
    },
    {
     "name": "stderr",
     "output_type": "stream",
     "text": [
      "Saving 6.67 x 6.67 in image\n",
      "\n"
     ]
    },
    {
     "name": "stdout",
     "output_type": "stream",
     "text": [
      "Simple feature collection with 1 feature and 3 fields\n",
      "Geometry type: POLYGON\n",
      "Dimension:     XY\n",
      "Bounding box:  xmin: -148.297 ymin: 64.70371 xmax: -148.297 ymax: 64.70373\n",
      "Geodetic CRS:  GCS_unknown\n",
      "  CLASS_NAME CLASS_ID CLASS_CLRS                       geometry\n",
      "8  Bonanza20        3    0,0,255 POLYGON ((-148.297 64.70373...\n"
     ]
    },
    {
     "name": "stderr",
     "output_type": "stream",
     "text": [
      "Saving 6.67 x 6.67 in image\n",
      "\n"
     ]
    },
    {
     "name": "stdout",
     "output_type": "stream",
     "text": [
      "Simple feature collection with 1 feature and 3 fields\n",
      "Geometry type: POLYGON\n",
      "Dimension:     XY\n",
      "Bounding box:  xmin: -148.2971 ymin: 64.70364 xmax: -148.2971 ymax: 64.70365\n",
      "Geodetic CRS:  GCS_unknown\n",
      "  CLASS_NAME CLASS_ID CLASS_CLRS                       geometry\n",
      "9  Bonanza10        2    0,128,0 POLYGON ((-148.2971 64.7036...\n"
     ]
    },
    {
     "name": "stderr",
     "output_type": "stream",
     "text": [
      "Saving 6.67 x 6.67 in image\n",
      "\n"
     ]
    },
    {
     "name": "stdout",
     "output_type": "stream",
     "text": [
      "Simple feature collection with 1 feature and 3 fields\n",
      "Geometry type: POLYGON\n",
      "Dimension:     XY\n",
      "Bounding box:  xmin: -148.2972 ymin: 64.70356 xmax: -148.2972 ymax: 64.70357\n",
      "Geodetic CRS:  GCS_unknown\n",
      "   CLASS_NAME CLASS_ID CLASS_CLRS                       geometry\n",
      "10   Bonanza0        1    255,0,0 POLYGON ((-148.2972 64.7035...\n"
     ]
    },
    {
     "name": "stderr",
     "output_type": "stream",
     "text": [
      "Saving 6.67 x 6.67 in image\n",
      "\n"
     ]
    },
    {
     "name": "stdout",
     "output_type": "stream",
     "text": [
      "Simple feature collection with 1 feature and 3 fields\n",
      "Geometry type: POLYGON\n",
      "Dimension:     XY\n",
      "Bounding box:  xmin: -148.2965 ymin: 64.70411 xmax: -148.2965 ymax: 64.70412\n",
      "Geodetic CRS:  GCS_unknown\n",
      "   CLASS_NAME CLASS_ID CLASS_CLRS                       geometry\n",
      "11  Bonanza70        8    0,255,0 POLYGON ((-148.2965 64.7041...\n"
     ]
    },
    {
     "name": "stderr",
     "output_type": "stream",
     "text": [
      "Saving 6.67 x 6.67 in image\n",
      "\n"
     ]
    },
    {
     "name": "stdout",
     "output_type": "stream",
     "text": [
      "[1] \"z\"\n"
     ]
    },
    {
     "name": "stderr",
     "output_type": "stream",
     "text": [
      "Saving 6.67 x 6.67 in image\n",
      "\n",
      "Saving 6.67 x 6.67 in image\n",
      "\n",
      "Saving 6.67 x 6.67 in image\n",
      "\n",
      "Saving 6.67 x 6.67 in image\n",
      "\n",
      "Saving 6.67 x 6.67 in image\n",
      "\n",
      "Saving 6.67 x 6.67 in image\n",
      "\n",
      "Saving 6.67 x 6.67 in image\n",
      "\n",
      "Saving 6.67 x 6.67 in image\n",
      "\n",
      "Saving 6.67 x 6.67 in image\n",
      "\n",
      "Saving 6.67 x 6.67 in image\n",
      "\n",
      "Saving 6.67 x 6.67 in image\n",
      "\n",
      "Warning message in readChar(con, 5L, useBytes = TRUE):\n",
      "“cannot open compressed file 'mle/models/gs/ab537b5-5141-4381-a464-5a0ff6cde137.rda', probable reason 'No such file or directory'”\n"
     ]
    },
    {
     "ename": "ERROR",
     "evalue": "Error in readChar(con, 5L, useBytes = TRUE): cannot open the connection\n",
     "output_type": "error",
     "traceback": [
      "Error in readChar(con, 5L, useBytes = TRUE): cannot open the connection\nTraceback:\n",
      "1. load_model(paste0(\"mle/models/gs/\", id, \".rda\"))",
      "2. eval(parse(text = load(filepath)))",
      "3. parse(text = load(filepath))",
      "4. load(filepath)",
      "5. readChar(con, 5L, useBytes = TRUE)"
     ]
    }
   ],
   "source": [
    "model_ids <- c(\n",
    "    \"2303a2d3-f479-48b7-9840-c9f74b73836d\",# ranger subset 10 >0.4\n",
    "    \"6b0a0987-ff68-4f17-a3ca-7aa56284d726\",# RFLDA >0.45, subset 11\n",
    "    \"9f8fcf59-571d-4472-8750-7370692a2794\",#RFLDA\n",
    "    \"ab537b5-5141-4381-a464-5a0ff6cde137\",#SVM\n",
    "    #\"58bee4bd-ea18-4fdb-823a-21463be3da41\",#KNN predictions failed, may be clash with parallel pkg\n",
    "    \"cf2b9f30-4956-4c0b-a1fe-79af7590cac9\",#Ranger\n",
    "    \"0c63dd43-79fe-45dd-b95f-ac8d6b2d7265\",#Ranger, subset 1\n",
    "    #\"f7d408d7-5cd5-4214-b31c-ec8f75e197dc\",# SVM, subset 3 <- issue, re-run\n",
    "    \"e335d595-c095-4356-b967-d15c37479527\",# ranger all\n",
    "    #\"b80328dd-9c40-4e99-8a9f-239121931fb4\",# ranger subset 8\n",
    "    #\"f8ad4263-8470-43db-856b-4476dfc83ccc\",# ranger subset 7\n",
    "    #\"1cd97e42-f7e1-4580-928b-1a42609a6549\",# Ranger subset 5\n",
    "    #\"2b9d4a04-0586-4743-83ff-39e77a7345c7\",#ranger subset 11\n",
    "    \"6c3bedc5-11ae-423e-a858-13240650f14b\",#RF-LDA substet 5\n",
    "    #\"f362ade9-43cd-4342-b62d-8f2f1d5c50b5\",#RFLDA subset 9 <- this particular model returns all NAs???\n",
    "    #\"9c496675-d6b4-46d1-a3cc-4da9f69c702\",# ranger subset 12, ~.4 <- wrong path\n",
    "    \"rf_base\",\n",
    "    #\"44e2506d-a587-4a27-acbb-1842f9fb421a\",# SVM all\n",
    "    #\"02cdc9a4-2265-432b-8010-170048a94c01\",# kNN, Subset 3\n",
    "    #\"7707394d-5755-4bf5-a8c9-e9f8d08e0aa8\",# SVM, subset 4\n",
    "    #\"53bb89e1-22a9-4199-ac24-22232063dd79\",# SVM subset 6\n",
    "    #\"cdb0d9c9-3f3e-4c3a-8277-336cc58fcaa8\",# svm subset 7\n",
    "    #\"bef61c5e-9458-41df-9ce5-a30e45299e8f\",# svm subset 10\n",
    "    #\"af392d97-067b-4391-8577-ead82f84fc08\"#knn subset 12\n",
    "    #\"e335392b-73af-478d-a7f8-e3eaacea9774\",#knn, subset 1 <- predictions failed, re-run\n",
    "    \"d41050ba-04b4-4507-a21e-d3743f59b793\"\n",
    "    #\"5059eb96-fe79-43b7-bcc6-9dd54fbc3e83\",\n",
    "    #\"654ae09e-666d-4eee-90a7-008b9b34b147\",\n",
    "    #\"7920d1b5-4fc7-4ba0-b282-23fbecbc889a\"\n",
    ")\n",
    "\n",
    "for(id in model_ids){\n",
    "    #id <- \"08f0b6e8-b73c-44ec-b96e-a1d13da81953\"\n",
    "    model <- load_model(\n",
    "        paste0(\"mle/models/gs/\", id, \".rda\")\n",
    "    )\n",
    "\n",
    "    save_path <- paste0(\"mle/experiments/gs/\", id, \"/\")\n",
    "    print(names(model))\n",
    "\n",
    "    if(!dir.exists(save_path)){\n",
    "        dir.create(save_path)\n",
    "    }\n",
    "\n",
    "    results <- validate_model(\n",
    "        model, \n",
    "        save_path, \n",
    "        standardize_input = TRUE,\n",
    "        scale_input = FALSE,\n",
    "        robust_scale_input = FALSE, \n",
    "        cluster = NULL)\n",
    "    aggregated_results <- aggregate_results(save_path)\n",
    "\n",
    "    plot_by_pft(\n",
    "        aggregated_results,\n",
    "        save_path = paste0(save_path, \"aggregate.html\"),\n",
    "        open = FALSE\n",
    "    )\n",
    "\n",
    "    write_validation_table(\n",
    "        aggregated_results,\n",
    "        save_path = paste0(save_path, \"table.html\"),\n",
    "        open = FALSE\n",
    "    )\n",
    "\n",
    "    \n",
    "}"
   ]
  },
  {
   "cell_type": "code",
   "execution_count": null,
   "metadata": {
    "vscode": {
     "languageId": "r"
    }
   },
   "outputs": [],
   "source": [
    "library(kernlab)\n",
    "sink(NULL)\n",
    "print(colnames(standardized_indices[,1:95]))"
   ]
  },
  {
   "cell_type": "code",
   "execution_count": null,
   "metadata": {
    "vscode": {
     "languageId": "r"
    }
   },
   "outputs": [],
   "source": [
    "# time to build the SVMs directly\n",
    "  # train and print intermediate results to console\n",
    "        include_top <- 35\n",
    "        df <- data.frame(standardized_indices[,1:95][,important_variable_names[1:include_top]])\n",
    "        #print(colnames(df))\n",
    "        #df$targets <-  as.factor(targets) \n",
    "        print(\"Beginning Training\")\n",
    "        model <- train(\n",
    "            x=standardized_validation[permutation,][samples,][,important_variable_names[1:include_top]] %>% as.matrix,\n",
    "            y=test_labels,\n",
    "            method=\"knn\",\n",
    "            trControl = fit_ctrl\n",
    "            #type = \"C-bsvc\",#\"spoc-svc\",\n",
    "            #kernel = \"rbfdot\",\n",
    "            #kpar = \"automatic\",\n",
    "            #C = 60,\n",
    "            #cross = 3\n",
    "        )\n",
    "        \n",
    "        #print(model)\n",
    "\n",
    "        model_predictions <- predict(\n",
    "            model, \n",
    "            newdata=standardized_validation[permutation,][samples,][,important_variable_names[1:include_top]] %>% as.matrix\n",
    "        )#$response %>% as.factor()\n",
    "        #print(model_predictions)\n",
    "        \n",
    "        test_samples <- test_labels %>% as.factor()\n",
    "        levels(test_samples) <- c(levels(test_samples), \"Forb\")\n",
    "\n",
    "        confusion_matrix <- caret::confusionMatrix(\n",
    "            model_predictions, \n",
    "            test_samples,\n",
    "            mode = \"everything\"\n",
    "        )\n",
    "\n",
    "        model_id <- uuid::UUIDgenerate()\n",
    "\n",
    "        # append performance data to the logs for later comparison\n",
    "        sink(file = \"mle/log_svm.txt\", append = TRUE, type = \"output\")\n",
    "        print(\"-------------------------------------------------------\")\n",
    "        print(\"---------------------- Model Data ---------------------\")\n",
    "        \n",
    "        print(paste0(\"Model Type: SVM\"))\n",
    "        print(paste0(\"Data Index: \",i))\n",
    "        print(paste0(\"Model UUID: \", model_id))\n",
    "        print(paste0(\"Selected Variables: \", colnames(df)))\n",
    "        print(\"---------------------- Confusion Matrix ---------------------\")\n",
    "        print(confusion_matrix)\n",
    "        print(\"---------------------- Class Distribution ---------------------\")\n",
    "        print(model_predictions %>% as.factor() %>% table())\n",
    "        print(\"-------------------------------------------------------\")\n",
    "        sink(NULL)\n",
    "\n",
    "        \n",
    "        save(model, file = paste0(\"mle/models/gs/\", model_id, \".rda\"))\n"
   ]
  },
  {
   "cell_type": "markdown",
   "metadata": {},
   "source": []
  },
  {
   "cell_type": "code",
   "execution_count": null,
   "metadata": {
    "vscode": {
     "languageId": "r"
    }
   },
   "outputs": [],
   "source": [
    "markdown_text <- \"# Grid Search Results\\n\"\n",
    "base_path <- \"mle/experiments/gs/\"\n",
    "\n",
    "dirs <- list.dirs(base_path, full.names = FALSE, recursive = FALSE)\n",
    "for(dir in dirs){\n",
    "    files <- list.files(paste0(base_path, dir), pattern = \".html\", full.names = TRUE)\n",
    "    md_str <- paste0(\n",
    "        dir,\n",
    "        \"\\t [Graph](\",\n",
    "        files[1],\n",
    "        \")\\t|\\t[Table](\",\n",
    "        files[2],\n",
    "        \")\\n\"\n",
    "    )\n",
    "    markdown_text <- paste0(markdown_text, md_str)\n",
    "    \n",
    "}\n",
    "\n",
    "write(markdown_text, file = \"gs.md\")"
   ]
  },
  {
   "cell_type": "code",
   "execution_count": null,
   "metadata": {
    "vscode": {
     "languageId": "r"
    }
   },
   "outputs": [],
   "source": [
    "source(\"Scripts/validation_defs.R\")\n",
    "\n",
    "bg_shape <- sf::st_read(shape_path_1)$CLASS_NAME"
   ]
  },
  {
   "cell_type": "code",
   "execution_count": null,
   "metadata": {
    "vscode": {
     "languageId": "r"
    }
   },
   "outputs": [],
   "source": [
    "bg_raster <- terra::rast(\"validation_saved_output.grd\")"
   ]
  },
  {
   "cell_type": "code",
   "execution_count": null,
   "metadata": {
    "vscode": {
     "languageId": "r"
    }
   },
   "outputs": [],
   "source": [
    "rasterVis::levelplot(bg_raster)\n",
    "#plot(bg_shape)"
   ]
  },
  {
   "cell_type": "code",
   "execution_count": null,
   "metadata": {
    "vscode": {
     "languageId": "r"
    }
   },
   "outputs": [],
   "source": [
    "write.csv(test_data, file=\"assets/test_data.csv\")\n",
    "write.csv(test_labels %>% as.data.frame(), file=\"assets/test_cl.csv\")"
   ]
  },
  {
   "cell_type": "code",
   "execution_count": null,
   "metadata": {
    "vscode": {
     "languageId": "r"
    }
   },
   "outputs": [],
   "source": [
    "knn_LSModel <- LSModel(\n",
    "    model = list(),\n",
    "    predict_function <- function(df, model, ...){\n",
    "        base_data <- read.csv(\"assets/test_data.csv\")\n",
    "        base_labels <- read.csv(\"assets/test_cl.csv\")\n",
    "        predictions <- class::knn(base_data, df, base_labels, k=5) %>% as.data.frame()\n",
    "        colnames(predictions) <- c(\"z\")\n",
    "        return(predictions)\n",
    "    }\n",
    ")"
   ]
  },
  {
   "cell_type": "markdown",
   "metadata": {},
   "source": []
  },
  {
   "cell_type": "markdown",
   "metadata": {},
   "source": [
    "# Results\n",
    "\n",
    "These are the results of the grid search on the basics.  High performing models get to go through validation\n",
    "\n",
    "## Top performers:\n",
    "* Architectures: Random Forest, SVM, kNN, and RF-LDA.  A 5th would be nice, maybe PLS.\n",
    "* variable selection can improve performance\n",
    "* "
   ]
  },
  {
   "cell_type": "markdown",
   "metadata": {},
   "source": []
  }
 ],
 "metadata": {
  "kernelspec": {
   "display_name": "R",
   "language": "R",
   "name": "ir"
  },
  "language_info": {
   "codemirror_mode": "r",
   "file_extension": ".r",
   "mimetype": "text/x-r-source",
   "name": "R",
   "pygments_lexer": "r",
   "version": "4.2.2"
  },
  "orig_nbformat": 4,
  "vscode": {
   "interpreter": {
    "hash": "916dbcbb3f70747c44a77c7bcd40155683ae19c65e1c03b4aa3499c5328201f1"
   }
  }
 },
 "nbformat": 4,
 "nbformat_minor": 2
}
