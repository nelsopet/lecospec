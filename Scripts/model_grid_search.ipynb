{
 "cells": [
  {
   "cell_type": "markdown",
   "metadata": {},
   "source": [
    "# Grid Search\n",
    "\n",
    "Calling all models, far and wide!  Now is the time to battle to the DEATH!!!!\n",
    "\n",
    "Just kidding, this is just a "
   ]
  },
  {
   "cell_type": "code",
   "execution_count": 18,
   "metadata": {
    "vscode": {
     "languageId": "r"
    }
   },
   "outputs": [],
   "source": [
    "# notebooks use their location as their working directory, so\n",
    "# if we are in a subfolder, move to the main folder.  \n",
    "# This however can safely be run multiple times\n",
    "#setwd(M:/lecospec/lecospec)\n",
    "if(!dir.exists(\"Functions/\")){\n",
    "    setwd(\"../\")\n",
    "    if(!dir.exists(\"Functions\")){\n",
    "        setwd(\"M:/lecospec/lecospec/\")\n",
    "    }\n",
    "}\n",
    "source(\"Functions/lecospectR.R\", echo = FALSE)\n",
    "# some features of this notebook will use this in the future, maybe.  I hope so, at least.\n",
    "library(IRdisplay)"
   ]
  },
  {
   "cell_type": "markdown",
   "metadata": {},
   "source": [
    "## Load the Data file names\n",
    "\n",
    "This loads the data file names.  These are assumed to be the same across training data, labels, test data and test labels"
   ]
  },
  {
   "cell_type": "code",
   "execution_count": 23,
   "metadata": {
    "vscode": {
     "languageId": "r"
    }
   },
   "outputs": [],
   "source": [
    "BASE_PATH <- \"Data/gs/\"\n",
    "X_TRAIN_PATH <- paste0(BASE_PATH, \"x_train/\")\n",
    "Y_TRAIN_PATH <- paste0(BASE_PATH, \"y_train/\")\n",
    "\n",
    "X_TEST_PATH <- paste0(BASE_PATH, \"x_test/\")\n",
    "Y_TEST_PATH <- paste0(BASE_PATH, \"y_test/\")"
   ]
  },
  {
   "cell_type": "code",
   "execution_count": 24,
   "metadata": {
    "vscode": {
     "languageId": "r"
    }
   },
   "outputs": [],
   "source": [
    "training_data <- list.files(X_TRAIN_PATH)\n",
    "#training_labels <- sort(list.files(\"Data/gs/y_train/\"))# sort alphabetically to keep the files in the same order"
   ]
  },
  {
   "cell_type": "code",
   "execution_count": 25,
   "metadata": {
    "vscode": {
     "languageId": "r"
    }
   },
   "outputs": [
    {
     "name": "stdout",
     "output_type": "stream",
     "text": [
      " [1] \"grd_clipped_corrected.csv\" \"grd_clipped_minmax.csv\"   \n",
      " [3] \"grd_clipped_raw.csv\"       \"grd_clipped_robust.csv\"   \n",
      " [5] \"grd_clipped_standard.csv\"  \"grd_dropped_minmax.csv\"   \n",
      " [7] \"grd_dropped_raw.csv\"       \"grd_dropped_robust.csv\"   \n",
      " [9] \"grd_dropped_standard.csv\"  \"grd_imputed_minmax.csv\"   \n",
      "[11] \"grd_imputed_raw.csv\"       \"grd_imputed_robust.csv\"   \n",
      "[13] \"grd_imputed_standard.csv\"  \"grd_raw_corrected.csv\"    \n",
      "[15] \"grd_raw_minmax.csv\"        \"grd_raw_raw.csv\"          \n",
      "[17] \"grd_raw_robust.csv\"        \"grd_raw_standard.csv\"     \n",
      "[19] \"img_clipped_minmax.csv\"    \"img_clipped_raw.csv\"      \n",
      "[21] \"img_clipped_robust.csv\"    \"img_clipped_standard.csv\" \n",
      "[23] \"img_dropped_minmax.csv\"    \"img_dropped_raw.csv\"      \n",
      "[25] \"img_dropped_robust.csv\"    \"img_dropped_standard.csv\" \n",
      "[27] \"img_imputed_minmax.csv\"    \"img_imputed_raw.csv\"      \n",
      "[29] \"img_imputed_robust.csv\"    \"img_imputed_standard.csv\" \n",
      "[31] \"img_raw_minmax.csv\"        \"img_raw_raw.csv\"          \n",
      "[33] \"img_raw_robust.csv\"        \"img_raw_standard.csv\"     \n"
     ]
    }
   ],
   "source": [
    "print(training_data)"
   ]
  },
  {
   "cell_type": "code",
   "execution_count": 26,
   "metadata": {
    "vscode": {
     "languageId": "r"
    }
   },
   "outputs": [],
   "source": [
    "load_data <- function(filepath){\n",
    "    data <- list()\n",
    "    train_data_path <- paste0(X_TRAIN_PATH, file)\n",
    "    train_labels_path <- paste0(Y_TRAIN_PATH, file)\n",
    "    test_labels_path <- paste0(Y_TEST_PATH, file)\n",
    "    test_data_path <- paste0(X_TEST_PATH, file)\n",
    "\n",
    "    # verify that all the paths are valid.  If not, return NULL\n",
    "    if(\n",
    "        file.exists(train_data_path) &&\n",
    "        file.exists(train_labels_path) &&\n",
    "        file.exists(test_data_path) &&\n",
    "        file.exists(test_labels_path)\n",
    "    ) {\n",
    "        # files all exist, so return the result\n",
    "        data$x_train <- subset(read.csv(train_data_path), select=-c(X))\n",
    "        data$y_train <- read.csv(train_labels_path, header = TRUE)$x %>% as.factor()\n",
    "        data$x_test <- read.csv(test_data_path)\n",
    "        data$y_test <- read.csv(test_labels_path, header = TRUE)$x %>% as.factor()\n",
    "\n",
    "        return(data)\n",
    "    } else {\n",
    "        # a file is missing, so return NULL\n",
    "        return( NULL )\n",
    "    }\n",
    "\n",
    "}"
   ]
  },
  {
   "cell_type": "code",
   "execution_count": 27,
   "metadata": {
    "vscode": {
     "languageId": "r"
    }
   },
   "outputs": [],
   "source": [
    "parse_name <- function(filepath){\n",
    "    name_no_extension <- stringi::stri_replace_last_fixed(filepath, \".csv\", \"\")\n",
    "    name_parts <-strsplit(name_no_extension, \"_\") %>% as.vector()\n",
    "    #print(name_parts)\n",
    "\n",
    "    variables <- list(\n",
    "        source = name_parts[[1]]\n",
    "    )\n",
    "\n",
    "    if(length(name_parts) > 1){\n",
    "        variables$outliers <- names_parts[[2]]\n",
    "    } else {\n",
    "        variables$outliers <- NULL\n",
    "    }\n",
    "\n",
    "    if(length(name_parts) > 2){\n",
    "        variables$preprocessing <- name_parts[[3]]\n",
    "    } else {\n",
    "        variables$preprocessing <- NULL\n",
    "    }\n",
    "\n",
    "    print(variables)\n",
    "    return(variables)\n",
    "}"
   ]
  },
  {
   "cell_type": "code",
   "execution_count": 28,
   "metadata": {
    "vscode": {
     "languageId": "r"
    }
   },
   "outputs": [],
   "source": [
    "add_model_to_manifest <- function(model_id, variables, logpath=\"./gs_manifest.csv\"){\n",
    "    if(!file.exists(logpath)){\n",
    "        header <- \"source,outliers,preprocessing,model_id\"\n",
    "        write(header, file = logpath)\n",
    "    }\n",
    "\n",
    "    line <- paste(\n",
    "        variables$source %>% as.character(),\n",
    "        collapse = \",\"\n",
    "    )\n",
    "    line <- paste0(line, \",\", model_id)\n",
    "\n",
    "    write(line, file=logpath, append = TRUE)\n",
    "}"
   ]
  },
  {
   "cell_type": "code",
   "execution_count": 29,
   "metadata": {
    "vscode": {
     "languageId": "r"
    }
   },
   "outputs": [],
   "source": [
    "log_model_results <- function(model_id, confusion_matrix, distribition, custom, logpath = \"./gs.log\"){\n",
    "    # append performance data to the logs for later comparison\n",
    "    sink(file = logpath, append = TRUE)\n",
    "    print(\"-------------------------------------------------------\")\n",
    "    print(\"---------------------- Model Data ---------------------\")\n",
    "    \n",
    "    print(paste0(\"Model Type: Ranger (Random Forest)\"))\n",
    "    print(paste0(\"Data Index: \",custom))\n",
    "    print(paste0(\"Model UUID: \", model_id))\n",
    "    print(\"---------------------- Confusion Matrix ---------------------\")\n",
    "    print(confusion_matrix)\n",
    "    print(\"---------------------- Class Distribution ---------------------\")\n",
    "    print(distribition)\n",
    "    print(\"-------------------------------------------------------\")\n",
    "    sink(NULL)\n",
    "}"
   ]
  },
  {
   "cell_type": "code",
   "execution_count": null,
   "metadata": {
    "vscode": {
     "languageId": "r"
    }
   },
   "outputs": [],
   "source": []
  },
  {
   "cell_type": "code",
   "execution_count": 31,
   "metadata": {
    "vscode": {
     "languageId": "r"
    }
   },
   "outputs": [
    {
     "name": "stdout",
     "output_type": "stream",
     "text": [
      "[1] \"grd_clipped_corrected.csv\"\n",
      "[1] \"grd_clipped_minmax.csv\"\n",
      "[1] \"Abiotic\"        \"Graminoid\"      \"Lichen\"         \"Moss\"          \n",
      "[5] \"ShrubDecid\"     \"ShrubEvergreen\" \"TreeBroadleaf\"  \"TreeConifer\"   \n",
      "[9] \"Forb\"          \n"
     ]
    },
    {
     "name": "stderr",
     "output_type": "stream",
     "text": [
      "Warning message in confusionMatrix.default(model_predictions, data$y_test, mode = \"everything\"):\n",
      "“Levels are not in the same order for reference and data. Refactoring data to match.”\n"
     ]
    },
    {
     "name": "stdout",
     "output_type": "stream",
     "text": [
      "$source\n",
      "[1] \"grd\"     \"clipped\" \"minmax\" \n",
      "\n",
      "[1] \"grd_clipped_raw.csv\"\n",
      "[1] \"Abiotic\"        \"Graminoid\"      \"Lichen\"         \"Moss\"          \n",
      "[5] \"ShrubDecid\"     \"ShrubEvergreen\" \"TreeBroadleaf\"  \"TreeConifer\"   \n",
      "[9] \"Forb\"          \n"
     ]
    },
    {
     "name": "stderr",
     "output_type": "stream",
     "text": [
      "Warning message in confusionMatrix.default(model_predictions, data$y_test, mode = \"everything\"):\n",
      "“Levels are not in the same order for reference and data. Refactoring data to match.”\n"
     ]
    },
    {
     "name": "stdout",
     "output_type": "stream",
     "text": [
      "$source\n",
      "[1] \"grd\"     \"clipped\" \"raw\"    \n",
      "\n",
      "[1] \"grd_clipped_robust.csv\"\n",
      "[1] \"Abiotic\"        \"Graminoid\"      \"Lichen\"         \"Moss\"          \n",
      "[5] \"ShrubDecid\"     \"ShrubEvergreen\" \"TreeBroadleaf\"  \"TreeConifer\"   \n",
      "[9] \"Forb\"          \n"
     ]
    },
    {
     "name": "stderr",
     "output_type": "stream",
     "text": [
      "Warning message in confusionMatrix.default(model_predictions, data$y_test, mode = \"everything\"):\n",
      "“Levels are not in the same order for reference and data. Refactoring data to match.”\n"
     ]
    },
    {
     "name": "stdout",
     "output_type": "stream",
     "text": [
      "$source\n",
      "[1] \"grd\"     \"clipped\" \"robust\" \n",
      "\n",
      "[1] \"grd_clipped_standard.csv\"\n",
      "[1] \"Abiotic\"        \"Graminoid\"      \"Lichen\"         \"Moss\"          \n",
      "[5] \"ShrubDecid\"     \"ShrubEvergreen\" \"TreeBroadleaf\"  \"TreeConifer\"   \n",
      "[9] \"Forb\"          \n"
     ]
    },
    {
     "name": "stderr",
     "output_type": "stream",
     "text": [
      "Warning message in confusionMatrix.default(model_predictions, data$y_test, mode = \"everything\"):\n",
      "“Levels are not in the same order for reference and data. Refactoring data to match.”\n"
     ]
    },
    {
     "name": "stdout",
     "output_type": "stream",
     "text": [
      "$source\n",
      "[1] \"grd\"      \"clipped\"  \"standard\"\n",
      "\n",
      "[1] \"grd_dropped_minmax.csv\"\n",
      "[1] \"Abiotic\"        \"Forb\"           \"Graminoid\"      \"Lichen\"        \n",
      "[5] \"Moss\"           \"ShrubDecid\"     \"ShrubEvergreen\" \"TreeBroadleaf\" \n",
      "[9] \"TreeConifer\"   \n",
      "Error in table(data, reference, dnn = dnn, ...) : \n",
      "  all arguments must have the same length\n",
      "[1] \"grd_dropped_raw.csv\"\n",
      "[1] \"Abiotic\"        \"Forb\"           \"Graminoid\"      \"Lichen\"        \n",
      "[5] \"Moss\"           \"ShrubDecid\"     \"ShrubEvergreen\" \"TreeBroadleaf\" \n",
      "[9] \"TreeConifer\"   \n",
      "Error in table(data, reference, dnn = dnn, ...) : \n",
      "  all arguments must have the same length\n",
      "[1] \"grd_dropped_robust.csv\"\n",
      "[1] \"Abiotic\"        \"Forb\"           \"Graminoid\"      \"Lichen\"        \n",
      "[5] \"Moss\"           \"ShrubDecid\"     \"ShrubEvergreen\" \"TreeBroadleaf\" \n",
      "[9] \"TreeConifer\"   \n",
      "Error in table(data, reference, dnn = dnn, ...) : \n",
      "  all arguments must have the same length\n",
      "[1] \"grd_dropped_standard.csv\"\n",
      "Error in ranger::ranger(num.trees = 1000, case.weights = targets_to_weights(data$y_train),  : \n",
      "  User interrupt or internal error.\n",
      "[1] \"grd_imputed_minmax.csv\"\n",
      "[1] \"Abiotic\"        \"Graminoid\"      \"Lichen\"         \"Moss\"          \n",
      "[5] \"ShrubDecid\"     \"ShrubEvergreen\" \"TreeBroadleaf\"  \"TreeConifer\"   \n",
      "[9] \"Forb\"          \n"
     ]
    },
    {
     "name": "stderr",
     "output_type": "stream",
     "text": [
      "Warning message in confusionMatrix.default(model_predictions, data$y_test, mode = \"everything\"):\n",
      "“Levels are not in the same order for reference and data. Refactoring data to match.”\n"
     ]
    },
    {
     "name": "stdout",
     "output_type": "stream",
     "text": [
      "$source\n",
      "[1] \"grd\"     \"imputed\" \"minmax\" \n",
      "\n",
      "[1] \"grd_imputed_raw.csv\"\n",
      "[1] \"Abiotic\"        \"Graminoid\"      \"Lichen\"         \"Moss\"          \n",
      "[5] \"ShrubDecid\"     \"ShrubEvergreen\" \"TreeBroadleaf\"  \"TreeConifer\"   \n",
      "[9] \"Forb\"          \n"
     ]
    },
    {
     "name": "stderr",
     "output_type": "stream",
     "text": [
      "Warning message in confusionMatrix.default(model_predictions, data$y_test, mode = \"everything\"):\n",
      "“Levels are not in the same order for reference and data. Refactoring data to match.”\n"
     ]
    },
    {
     "name": "stdout",
     "output_type": "stream",
     "text": [
      "$source\n",
      "[1] \"grd\"     \"imputed\" \"raw\"    \n",
      "\n",
      "[1] \"grd_imputed_robust.csv\"\n",
      "[1] \"Abiotic\"        \"Graminoid\"      \"Lichen\"         \"Moss\"          \n",
      "[5] \"ShrubDecid\"     \"ShrubEvergreen\" \"TreeBroadleaf\"  \"TreeConifer\"   \n",
      "[9] \"Forb\"          \n"
     ]
    },
    {
     "name": "stderr",
     "output_type": "stream",
     "text": [
      "Warning message in confusionMatrix.default(model_predictions, data$y_test, mode = \"everything\"):\n",
      "“Levels are not in the same order for reference and data. Refactoring data to match.”\n"
     ]
    },
    {
     "name": "stdout",
     "output_type": "stream",
     "text": [
      "$source\n",
      "[1] \"grd\"     \"imputed\" \"robust\" \n",
      "\n",
      "[1] \"grd_imputed_standard.csv\"\n",
      "[1] \"Abiotic\"        \"Graminoid\"      \"Lichen\"         \"Moss\"          \n",
      "[5] \"ShrubDecid\"     \"ShrubEvergreen\" \"TreeBroadleaf\"  \"TreeConifer\"   \n",
      "[9] \"Forb\"          \n"
     ]
    },
    {
     "name": "stderr",
     "output_type": "stream",
     "text": [
      "Warning message in confusionMatrix.default(model_predictions, data$y_test, mode = \"everything\"):\n",
      "“Levels are not in the same order for reference and data. Refactoring data to match.”\n"
     ]
    },
    {
     "name": "stdout",
     "output_type": "stream",
     "text": [
      "$source\n",
      "[1] \"grd\"      \"imputed\"  \"standard\"\n",
      "\n",
      "[1] \"grd_raw_corrected.csv\"\n",
      "[1] \"grd_raw_minmax.csv\"\n",
      "[1] \"Abiotic\"        \"Graminoid\"      \"Lichen\"         \"Moss\"          \n",
      "[5] \"ShrubDecid\"     \"ShrubEvergreen\" \"TreeBroadleaf\"  \"TreeConifer\"   \n",
      "[9] \"Forb\"          \n"
     ]
    },
    {
     "name": "stderr",
     "output_type": "stream",
     "text": [
      "Warning message in confusionMatrix.default(model_predictions, data$y_test, mode = \"everything\"):\n",
      "“Levels are not in the same order for reference and data. Refactoring data to match.”\n"
     ]
    },
    {
     "name": "stdout",
     "output_type": "stream",
     "text": [
      "$source\n",
      "[1] \"grd\"    \"raw\"    \"minmax\"\n",
      "\n",
      "[1] \"grd_raw_raw.csv\"\n",
      "[1] \"Abiotic\"        \"Graminoid\"      \"Lichen\"         \"Moss\"          \n",
      "[5] \"ShrubDecid\"     \"ShrubEvergreen\" \"TreeBroadleaf\"  \"TreeConifer\"   \n",
      "[9] \"Forb\"          \n"
     ]
    },
    {
     "name": "stderr",
     "output_type": "stream",
     "text": [
      "Warning message in confusionMatrix.default(model_predictions, data$y_test, mode = \"everything\"):\n",
      "“Levels are not in the same order for reference and data. Refactoring data to match.”\n"
     ]
    },
    {
     "name": "stdout",
     "output_type": "stream",
     "text": [
      "$source\n",
      "[1] \"grd\" \"raw\" \"raw\"\n",
      "\n",
      "[1] \"grd_raw_robust.csv\"\n",
      "[1] \"Abiotic\"        \"Graminoid\"      \"Lichen\"         \"Moss\"          \n",
      "[5] \"ShrubDecid\"     \"ShrubEvergreen\" \"TreeBroadleaf\"  \"TreeConifer\"   \n",
      "[9] \"Forb\"          \n"
     ]
    },
    {
     "name": "stderr",
     "output_type": "stream",
     "text": [
      "Warning message in confusionMatrix.default(model_predictions, data$y_test, mode = \"everything\"):\n",
      "“Levels are not in the same order for reference and data. Refactoring data to match.”\n"
     ]
    },
    {
     "name": "stdout",
     "output_type": "stream",
     "text": [
      "$source\n",
      "[1] \"grd\"    \"raw\"    \"robust\"\n",
      "\n",
      "[1] \"grd_raw_standard.csv\"\n",
      "[1] \"Abiotic\"        \"Graminoid\"      \"Lichen\"         \"Moss\"          \n",
      "[5] \"ShrubDecid\"     \"ShrubEvergreen\" \"TreeBroadleaf\"  \"TreeConifer\"   \n",
      "[9] \"Forb\"          \n"
     ]
    },
    {
     "name": "stderr",
     "output_type": "stream",
     "text": [
      "Warning message in confusionMatrix.default(model_predictions, data$y_test, mode = \"everything\"):\n",
      "“Levels are not in the same order for reference and data. Refactoring data to match.”\n"
     ]
    },
    {
     "name": "stdout",
     "output_type": "stream",
     "text": [
      "$source\n",
      "[1] \"grd\"      \"raw\"      \"standard\"\n",
      "\n",
      "[1] \"img_clipped_minmax.csv\"\n",
      "[1] \"Abiotic\"        \"Graminoid\"      \"Lichen\"         \"Moss\"          \n",
      "[5] \"ShrubDecid\"     \"ShrubEvergreen\" \"TreeBroadleaf\"  \"TreeConifer\"   \n",
      "$source\n",
      "[1] \"img\"     \"clipped\" \"minmax\" \n",
      "\n",
      "[1] \"img_clipped_raw.csv\"\n",
      "[1] \"Abiotic\"        \"Graminoid\"      \"Lichen\"         \"Moss\"          \n",
      "[5] \"ShrubDecid\"     \"ShrubEvergreen\" \"TreeBroadleaf\"  \"TreeConifer\"   \n",
      "$source\n",
      "[1] \"img\"     \"clipped\" \"raw\"    \n",
      "\n",
      "[1] \"img_clipped_robust.csv\"\n",
      "[1] \"Abiotic\"        \"Graminoid\"      \"Lichen\"         \"Moss\"          \n",
      "[5] \"ShrubDecid\"     \"ShrubEvergreen\" \"TreeBroadleaf\"  \"TreeConifer\"   \n",
      "$source\n",
      "[1] \"img\"     \"clipped\" \"robust\" \n",
      "\n",
      "[1] \"img_clipped_standard.csv\"\n",
      "Error in ranger::ranger(num.trees = 1000, case.weights = targets_to_weights(data$y_train),  : \n",
      "  User interrupt or internal error.\n",
      "[1] \"img_dropped_minmax.csv\"\n",
      "[1] \"Abiotic\"        \"Forb\"           \"Graminoid\"      \"Lichen\"        \n",
      "[5] \"Moss\"           \"ShrubDecid\"     \"ShrubEvergreen\" \"TreeBroadleaf\" \n",
      "[9] \"TreeConifer\"   \n"
     ]
    },
    {
     "name": "stderr",
     "output_type": "stream",
     "text": [
      "Warning message in levels(reference) != levels(data):\n",
      "“longer object length is not a multiple of shorter object length”\n",
      "Warning message in confusionMatrix.default(model_predictions, data$y_test, mode = \"everything\"):\n",
      "“Levels are not in the same order for reference and data. Refactoring data to match.”\n"
     ]
    },
    {
     "name": "stdout",
     "output_type": "stream",
     "text": [
      "Error in table(data, reference, dnn = dnn, ...) : \n",
      "  all arguments must have the same length\n",
      "[1] \"img_dropped_raw.csv\"\n",
      "[1] \"Abiotic\"        \"Forb\"           \"Graminoid\"      \"Lichen\"        \n",
      "[5] \"Moss\"           \"ShrubDecid\"     \"ShrubEvergreen\" \"TreeBroadleaf\" \n",
      "[9] \"TreeConifer\"   \n"
     ]
    },
    {
     "name": "stderr",
     "output_type": "stream",
     "text": [
      "Warning message in levels(reference) != levels(data):\n",
      "“longer object length is not a multiple of shorter object length”\n",
      "Warning message in confusionMatrix.default(model_predictions, data$y_test, mode = \"everything\"):\n",
      "“Levels are not in the same order for reference and data. Refactoring data to match.”\n"
     ]
    },
    {
     "name": "stdout",
     "output_type": "stream",
     "text": [
      "Error in table(data, reference, dnn = dnn, ...) : \n",
      "  all arguments must have the same length\n",
      "[1] \"img_dropped_robust.csv\"\n",
      "[1] \"Abiotic\"        \"Forb\"           \"Graminoid\"      \"Lichen\"        \n",
      "[5] \"Moss\"           \"ShrubDecid\"     \"ShrubEvergreen\" \"TreeBroadleaf\" \n",
      "[9] \"TreeConifer\"   \n"
     ]
    },
    {
     "name": "stderr",
     "output_type": "stream",
     "text": [
      "Warning message in levels(reference) != levels(data):\n",
      "“longer object length is not a multiple of shorter object length”\n",
      "Warning message in confusionMatrix.default(model_predictions, data$y_test, mode = \"everything\"):\n",
      "“Levels are not in the same order for reference and data. Refactoring data to match.”\n"
     ]
    },
    {
     "name": "stdout",
     "output_type": "stream",
     "text": [
      "Error in table(data, reference, dnn = dnn, ...) : \n",
      "  all arguments must have the same length\n",
      "[1] \"img_dropped_standard.csv\"\n",
      "[1] \"Abiotic\"        \"Forb\"           \"Graminoid\"      \"Lichen\"        \n",
      "[5] \"Moss\"           \"ShrubDecid\"     \"ShrubEvergreen\" \"TreeBroadleaf\" \n",
      "[9] \"TreeConifer\"   \n"
     ]
    },
    {
     "name": "stderr",
     "output_type": "stream",
     "text": [
      "Warning message in levels(reference) != levels(data):\n",
      "“longer object length is not a multiple of shorter object length”\n",
      "Warning message in confusionMatrix.default(model_predictions, data$y_test, mode = \"everything\"):\n",
      "“Levels are not in the same order for reference and data. Refactoring data to match.”\n"
     ]
    },
    {
     "name": "stdout",
     "output_type": "stream",
     "text": [
      "Error in table(data, reference, dnn = dnn, ...) : \n",
      "  all arguments must have the same length\n",
      "[1] \"img_imputed_minmax.csv\"\n",
      "[1] \"Abiotic\"        \"Graminoid\"      \"Lichen\"         \"Moss\"          \n",
      "[5] \"ShrubDecid\"     \"ShrubEvergreen\" \"TreeBroadleaf\"  \"TreeConifer\"   \n",
      "$source\n",
      "[1] \"img\"     \"imputed\" \"minmax\" \n",
      "\n",
      "[1] \"img_imputed_raw.csv\"\n",
      "[1] \"Abiotic\"        \"Graminoid\"      \"Lichen\"         \"Moss\"          \n",
      "[5] \"ShrubDecid\"     \"ShrubEvergreen\" \"TreeBroadleaf\"  \"TreeConifer\"   \n",
      "$source\n",
      "[1] \"img\"     \"imputed\" \"raw\"    \n",
      "\n",
      "[1] \"img_imputed_robust.csv\"\n",
      "[1] \"Abiotic\"        \"Graminoid\"      \"Lichen\"         \"Moss\"          \n",
      "[5] \"ShrubDecid\"     \"ShrubEvergreen\" \"TreeBroadleaf\"  \"TreeConifer\"   \n",
      "$source\n",
      "[1] \"img\"     \"imputed\" \"robust\" \n",
      "\n",
      "[1] \"img_imputed_standard.csv\"\n",
      "[1] \"Abiotic\"        \"Graminoid\"      \"Lichen\"         \"Moss\"          \n",
      "[5] \"ShrubDecid\"     \"ShrubEvergreen\" \"TreeBroadleaf\"  \"TreeConifer\"   \n",
      "$source\n",
      "[1] \"img\"      \"imputed\"  \"standard\"\n",
      "\n",
      "[1] \"img_raw_minmax.csv\"\n",
      "[1] \"Abiotic\"        \"Graminoid\"      \"Lichen\"         \"Moss\"          \n",
      "[5] \"ShrubDecid\"     \"ShrubEvergreen\" \"TreeBroadleaf\"  \"TreeConifer\"   \n",
      "$source\n",
      "[1] \"img\"    \"raw\"    \"minmax\"\n",
      "\n",
      "[1] \"img_raw_raw.csv\"\n",
      "[1] \"Abiotic\"        \"Graminoid\"      \"Lichen\"         \"Moss\"          \n",
      "[5] \"ShrubDecid\"     \"ShrubEvergreen\" \"TreeBroadleaf\"  \"TreeConifer\"   \n",
      "$source\n",
      "[1] \"img\" \"raw\" \"raw\"\n",
      "\n",
      "[1] \"img_raw_robust.csv\"\n",
      "[1] \"Abiotic\"        \"Graminoid\"      \"Lichen\"         \"Moss\"          \n",
      "[5] \"ShrubDecid\"     \"ShrubEvergreen\" \"TreeBroadleaf\"  \"TreeConifer\"   \n",
      "$source\n",
      "[1] \"img\"    \"raw\"    \"robust\"\n",
      "\n",
      "[1] \"img_raw_standard.csv\"\n",
      "Error in ranger::ranger(num.trees = 1000, case.weights = targets_to_weights(data$y_train),  : \n",
      "  User interrupt or internal error.\n"
     ]
    }
   ],
   "source": [
    "for(file in training_data){\n",
    "\n",
    "    print(file)\n",
    "    # load all the data\n",
    "    data <- load_data(file)\n",
    "    #print(colnames(data$x_train))\n",
    "    \n",
    "    if(!is.null(data)){\n",
    "        \n",
    "        try({\n",
    "        model <- ranger::ranger(\n",
    "            num.trees = 1000,\n",
    "            case.weights = targets_to_weights(data$y_train),\n",
    "            classification = TRUE,\n",
    "            x=data$x_train,\n",
    "            y=data$y_train\n",
    "        )\n",
    "\n",
    "        #add forb if it's in the training data to avoid mismatch\n",
    "        if((\"Forb\" %in% levels(data$y_train)) && !(\"Forb\"  %in% levels(data$y_test))){\n",
    "            levels(data$y_test) <- c(levels(data$y_test), \"Forb\")\n",
    "            }\n",
    "\n",
    "        print(levels(data$y_test))\n",
    "\n",
    "        # create predictions (ranger)\n",
    "        model_predictions <- predict(\n",
    "            model, \n",
    "            data$x_test\n",
    "        )$prediction %>% as.factor()\n",
    "\n",
    "        # generate the confusion matrix\n",
    "        confusion_matrix <- NULL\n",
    "\n",
    "        confusion_matrix <- caret::confusionMatrix(\n",
    "            model_predictions, \n",
    "            data$y_test,\n",
    "            mode = \"everything\"\n",
    "        )\n",
    "\n",
    "        # generate an id to uniquely identify the model\n",
    "        model_id <- uuid::UUIDgenerate()\n",
    "\n",
    "        # append performance data to the logs for later comparison\n",
    "        log_model_results(\n",
    "            model_id = model_id,\n",
    "            confusion_matrix = confusion_matrix,\n",
    "            custom = file,\n",
    "            distribition = model_predictions %>% as.factor() %>% table())\n",
    "\n",
    "        # track what levels are associated with the UUID\n",
    "        add_model_to_manifest(\n",
    "            model_id = model_id,\n",
    "            variables = parse_name(file)\n",
    "        )\n",
    "\n",
    "        # save the model using the model UUID\n",
    "        save(model, file = paste0(\"mle/models/gs/\", model_id, \".rda\"))\n",
    "        })\n",
    "    }\n",
    "}"
   ]
  },
  {
   "cell_type": "code",
   "execution_count": 12,
   "metadata": {
    "vscode": {
     "languageId": "r"
    }
   },
   "outputs": [
    {
     "name": "stdout",
     "output_type": "stream",
     "text": [
      "[1] 1\n"
     ]
    }
   ],
   "source": [
    "print((confusion_matrix$overall %>% as.list())$Accuracy)"
   ]
  },
  {
   "cell_type": "code",
   "execution_count": 13,
   "metadata": {
    "vscode": {
     "languageId": "r"
    }
   },
   "outputs": [
    {
     "data": {
      "text/html": [
       "120"
      ],
      "text/latex": [
       "120"
      ],
      "text/markdown": [
       "120"
      ],
      "text/plain": [
       "[1] 120"
      ]
     },
     "metadata": {},
     "output_type": "display_data"
    },
    {
     "data": {
      "text/html": [
       "120"
      ],
      "text/latex": [
       "120"
      ],
      "text/markdown": [
       "120"
      ],
      "text/plain": [
       "[1] 120"
      ]
     },
     "metadata": {},
     "output_type": "display_data"
    }
   ],
   "source": [
    "length(data$y_test)\n",
    "nrow(data$x_test)"
   ]
  },
  {
   "cell_type": "code",
   "execution_count": null,
   "metadata": {
    "vscode": {
     "languageId": "r"
    }
   },
   "outputs": [],
   "source": [
    "length(data$y_train)\n",
    "nrow(data$x_train)"
   ]
  },
  {
   "cell_type": "code",
   "execution_count": 15,
   "metadata": {
    "vscode": {
     "languageId": "r"
    }
   },
   "outputs": [],
   "source": [
    "clip_transform <- load_model(\n",
    "    \"./mle/clip_transform.rda\"\n",
    ")"
   ]
  },
  {
   "cell_type": "code",
   "execution_count": 16,
   "metadata": {
    "vscode": {
     "languageId": "r"
    }
   },
   "outputs": [
    {
     "data": {
      "text/html": [
       "<pre class=language-r><code>function (df, ignore_cols = NULL) \n",
       "{\n",
       "<span style=white-space:pre-wrap>    new_df &lt;- df %&gt;% as.data.frame()</span>\n",
       "<span style=white-space:pre-wrap>    cache_path &lt;- \"./assets/clip_data.json\"</span>\n",
       "<span style=white-space:pre-wrap>    fences &lt;- rjson::fromJSON(file = cache_path)</span>\n",
       "<span style=white-space:pre-wrap>    used_cols &lt;- colnames(df)</span>\n",
       "<span style=white-space:pre-wrap>    if (!is.null(ignore_cols)) {</span>\n",
       "<span style=white-space:pre-wrap>        used_cols &lt;- setdiff(intersect(names(fences), colnames(df)), </span>\n",
       "<span style=white-space:pre-wrap>            ignore_cols)</span>\n",
       "<span style=white-space:pre-wrap>    }</span>\n",
       "<span style=white-space:pre-wrap>    for (column_name in used_cols) {</span>\n",
       "<span style=white-space:pre-wrap>        upper_fence &lt;- fences[column_name]$upper</span>\n",
       "<span style=white-space:pre-wrap>        lower_fence &lt;- fences[column_name]$lower</span>\n",
       "<span style=white-space:pre-wrap>        high_outliers &lt;- df[, column_name] &gt; upper_fence</span>\n",
       "<span style=white-space:pre-wrap>        low_outliers &lt;- df[, column_name] &lt; lower_fence</span>\n",
       "<span style=white-space:pre-wrap>        new_df[high_outliers, column_name] = upper_fence</span>\n",
       "<span style=white-space:pre-wrap>        new_df[low_outliers, column_name] = lower_fence</span>\n",
       "<span style=white-space:pre-wrap>    }</span>\n",
       "<span style=white-space:pre-wrap>    return(new_df)</span>\n",
       "}</code></pre>"
      ],
      "text/latex": [
       "\\begin{minted}{r}\n",
       "function (df, ignore\\_cols = NULL) \n",
       "\\{\n",
       "    new\\_df <- df \\%>\\% as.data.frame()\n",
       "    cache\\_path <- \"./assets/clip\\_data.json\"\n",
       "    fences <- rjson::fromJSON(file = cache\\_path)\n",
       "    used\\_cols <- colnames(df)\n",
       "    if (!is.null(ignore\\_cols)) \\{\n",
       "        used\\_cols <- setdiff(intersect(names(fences), colnames(df)), \n",
       "            ignore\\_cols)\n",
       "    \\}\n",
       "    for (column\\_name in used\\_cols) \\{\n",
       "        upper\\_fence <- fences{[}column\\_name{]}\\$upper\n",
       "        lower\\_fence <- fences{[}column\\_name{]}\\$lower\n",
       "        high\\_outliers <- df{[}, column\\_name{]} > upper\\_fence\n",
       "        low\\_outliers <- df{[}, column\\_name{]} < lower\\_fence\n",
       "        new\\_df{[}high\\_outliers, column\\_name{]} = upper\\_fence\n",
       "        new\\_df{[}low\\_outliers, column\\_name{]} = lower\\_fence\n",
       "    \\}\n",
       "    return(new\\_df)\n",
       "\\}\n",
       "\\end{minted}"
      ],
      "text/markdown": [
       "```r\n",
       "function (df, ignore_cols = NULL) \n",
       "{\n",
       "    new_df <- df %>% as.data.frame()\n",
       "    cache_path <- \"./assets/clip_data.json\"\n",
       "    fences <- rjson::fromJSON(file = cache_path)\n",
       "    used_cols <- colnames(df)\n",
       "    if (!is.null(ignore_cols)) {\n",
       "        used_cols <- setdiff(intersect(names(fences), colnames(df)), \n",
       "            ignore_cols)\n",
       "    }\n",
       "    for (column_name in used_cols) {\n",
       "        upper_fence <- fences[column_name]$upper\n",
       "        lower_fence <- fences[column_name]$lower\n",
       "        high_outliers <- df[, column_name] > upper_fence\n",
       "        low_outliers <- df[, column_name] < lower_fence\n",
       "        new_df[high_outliers, column_name] = upper_fence\n",
       "        new_df[low_outliers, column_name] = lower_fence\n",
       "    }\n",
       "    return(new_df)\n",
       "}\n",
       "```"
      ],
      "text/plain": [
       "function (df, ignore_cols = NULL) \n",
       "{\n",
       "    new_df <- df %>% as.data.frame()\n",
       "    cache_path <- \"./assets/clip_data.json\"\n",
       "    fences <- rjson::fromJSON(file = cache_path)\n",
       "    used_cols <- colnames(df)\n",
       "    if (!is.null(ignore_cols)) {\n",
       "        used_cols <- setdiff(intersect(names(fences), colnames(df)), \n",
       "            ignore_cols)\n",
       "    }\n",
       "    for (column_name in used_cols) {\n",
       "        upper_fence <- fences[column_name]$upper\n",
       "        lower_fence <- fences[column_name]$lower\n",
       "        high_outliers <- df[, column_name] > upper_fence\n",
       "        low_outliers <- df[, column_name] < lower_fence\n",
       "        new_df[high_outliers, column_name] = upper_fence\n",
       "        new_df[low_outliers, column_name] = lower_fence\n",
       "    }\n",
       "    return(new_df)\n",
       "}\n",
       "<bytecode: 0x5557f7757058>\n",
       "<environment: 0x555801c17818>"
      ]
     },
     "metadata": {},
     "output_type": "display_data"
    }
   ],
   "source": [
    "clip_transform"
   ]
  },
  {
   "cell_type": "code",
   "execution_count": 32,
   "metadata": {
    "vscode": {
     "languageId": "r"
    }
   },
   "outputs": [
    {
     "data": {
      "text/html": [
       "<table class=\"dataframe\">\n",
       "<caption>A data.frame: 63 × 4</caption>\n",
       "<thead>\n",
       "\t<tr><th scope=col>source</th><th scope=col>outliers</th><th scope=col>preprocessing</th><th scope=col>model_id</th></tr>\n",
       "\t<tr><th scope=col>&lt;chr&gt;</th><th scope=col>&lt;chr&gt;</th><th scope=col>&lt;chr&gt;</th><th scope=col>&lt;chr&gt;</th></tr>\n",
       "</thead>\n",
       "<tbody>\n",
       "\t<tr><td>grd</td><td>clipped</td><td>minmax  </td><td>b5c8d838-c36c-4173-bb5b-7ddc91b685da</td></tr>\n",
       "\t<tr><td>grd</td><td>clipped</td><td>raw     </td><td>4750c1b3-54bd-44cf-be87-27694c109043</td></tr>\n",
       "\t<tr><td>grd</td><td>clipped</td><td>robust  </td><td>abc6db2a-23a5-40f8-bae7-2b82bccdc0dd</td></tr>\n",
       "\t<tr><td>grd</td><td>clipped</td><td>standard</td><td>d68c5641-4197-4ec0-8103-34a256fe3203</td></tr>\n",
       "\t<tr><td>grd</td><td>clipped</td><td>minmax  </td><td>8a5a9be2-23f8-4752-ba42-a0592c4ecdae</td></tr>\n",
       "\t<tr><td>grd</td><td>clipped</td><td>raw     </td><td>cd46c134-bfc9-4938-a995-6e3fda63fba6</td></tr>\n",
       "\t<tr><td>grd</td><td>clipped</td><td>robust  </td><td>6251e8eb-2176-4ea6-bff0-5d91fb307ee3</td></tr>\n",
       "\t<tr><td>grd</td><td>clipped</td><td>standard</td><td>41e7a280-412f-4aa7-a97b-15846d8b6b17</td></tr>\n",
       "\t<tr><td>grd</td><td>imputed</td><td>minmax  </td><td>b24c62a5-5bc9-4b32-98ee-7052773737e2</td></tr>\n",
       "\t<tr><td>grd</td><td>imputed</td><td>raw     </td><td>39f05ae1-9ca0-447e-880e-82c8756eb943</td></tr>\n",
       "\t<tr><td>grd</td><td>imputed</td><td>robust  </td><td>0e7979e9-fb87-4aa9-b265-5f1a6c4279e3</td></tr>\n",
       "\t<tr><td>grd</td><td>imputed</td><td>standard</td><td>94c8396c-bae8-4bd0-b49e-56ba2ca56af1</td></tr>\n",
       "\t<tr><td>grd</td><td>raw    </td><td>minmax  </td><td>47613d99-42c2-4145-8f31-c587adb3eb61</td></tr>\n",
       "\t<tr><td>grd</td><td>raw    </td><td>raw     </td><td>e7e8f519-3784-443c-8c69-9039556b499a</td></tr>\n",
       "\t<tr><td>grd</td><td>raw    </td><td>robust  </td><td>50bf7899-1f1c-458b-b10d-16736e44c8ff</td></tr>\n",
       "\t<tr><td>grd</td><td>raw    </td><td>standard</td><td>ad562f3f-029f-43da-8b64-0c1cfbc7a3b7</td></tr>\n",
       "\t<tr><td>img</td><td>clipped</td><td>minmax  </td><td>0831a1b8-80f1-43b0-98f6-878e5dbfbf57</td></tr>\n",
       "\t<tr><td>img</td><td>clipped</td><td>raw     </td><td>04905eb0-212f-4ac5-b910-13dd35d5f28b</td></tr>\n",
       "\t<tr><td>img</td><td>clipped</td><td>robust  </td><td>4860c51c-02ce-4530-aa65-517f1021e7af</td></tr>\n",
       "\t<tr><td>grd</td><td>clipped</td><td>minmax  </td><td>c8ac58de-b445-4543-b9c9-ca2ffac1eb65</td></tr>\n",
       "\t<tr><td>grd</td><td>clipped</td><td>raw     </td><td>fe9b48c4-0816-49a5-8e54-7e06f76622bb</td></tr>\n",
       "\t<tr><td>grd</td><td>clipped</td><td>robust  </td><td>7403d27e-1deb-47ef-960f-876f2b60c594</td></tr>\n",
       "\t<tr><td>grd</td><td>clipped</td><td>standard</td><td>802decbb-33e6-49d7-bfb9-af9f02c61301</td></tr>\n",
       "\t<tr><td>grd</td><td>imputed</td><td>minmax  </td><td>4a3a298b-321f-4909-91c4-6985d4c70e73</td></tr>\n",
       "\t<tr><td>grd</td><td>imputed</td><td>raw     </td><td>ec6c96d8-8485-497c-a2a7-04ed82cd6863</td></tr>\n",
       "\t<tr><td>grd</td><td>imputed</td><td>robust  </td><td>d3db55a7-c8b5-4a41-a9fd-37505f628610</td></tr>\n",
       "\t<tr><td>grd</td><td>imputed</td><td>standard</td><td>f5b930b7-ccc4-4f63-8462-319978fb33c1</td></tr>\n",
       "\t<tr><td>grd</td><td>raw    </td><td>minmax  </td><td>5781a1c4-0693-4adb-ae3e-1d5f7caf1a0a</td></tr>\n",
       "\t<tr><td>grd</td><td>raw    </td><td>raw     </td><td>50e1da6d-3b7f-47b4-8f9c-bfb4eada4388</td></tr>\n",
       "\t<tr><td>grd</td><td>raw    </td><td>robust  </td><td>cedd9578-96ca-4e9c-99c5-9ddf31b76803</td></tr>\n",
       "\t<tr><td>⋮</td><td>⋮</td><td>⋮</td><td>⋮</td></tr>\n",
       "\t<tr><td>img</td><td>clipped</td><td>robust  </td><td>54bc6f64-08cb-4fae-a17f-640cd52bf30c</td></tr>\n",
       "\t<tr><td>grd</td><td>clipped</td><td>minmax  </td><td>5e3c7fe9-69a2-45a6-be05-182499fef365</td></tr>\n",
       "\t<tr><td>grd</td><td>clipped</td><td>raw     </td><td>09c241d4-5e96-4d9e-8c8f-61cd004b8731</td></tr>\n",
       "\t<tr><td>grd</td><td>clipped</td><td>robust  </td><td>b3f37058-b79d-4833-b50b-633cf393eb36</td></tr>\n",
       "\t<tr><td>grd</td><td>clipped</td><td>standard</td><td>c0d4bd4d-ef52-4585-b87c-949eca88177a</td></tr>\n",
       "\t<tr><td>grd</td><td>dropped</td><td>minmax  </td><td>9513933a-c5bf-4288-a5c7-43d4ad078232</td></tr>\n",
       "\t<tr><td>grd</td><td>dropped</td><td>raw     </td><td>b1f0748e-480d-471f-aea9-74561a44394d</td></tr>\n",
       "\t<tr><td>grd</td><td>dropped</td><td>robust  </td><td>3c84d6e2-d497-4e9e-b367-c82dd67a7ce8</td></tr>\n",
       "\t<tr><td>grd</td><td>clipped</td><td>minmax  </td><td>9f5f3a72-089e-4286-b927-5b94f3a8385a</td></tr>\n",
       "\t<tr><td>grd</td><td>clipped</td><td>raw     </td><td>7afda170-8234-43d2-a58d-d4cf77a239c4</td></tr>\n",
       "\t<tr><td>grd</td><td>clipped</td><td>robust  </td><td>a90a2c96-221d-46c0-8b46-0796355d3971</td></tr>\n",
       "\t<tr><td>grd</td><td>clipped</td><td>standard</td><td>c44c4e30-c927-4afd-85f2-7c95e778d6bc</td></tr>\n",
       "\t<tr><td>grd</td><td>imputed</td><td>minmax  </td><td>ed29bccf-6101-4227-80e0-86b13a7b9651</td></tr>\n",
       "\t<tr><td>grd</td><td>imputed</td><td>raw     </td><td>836e920a-4438-4d01-b215-0a52c2d64315</td></tr>\n",
       "\t<tr><td>grd</td><td>imputed</td><td>robust  </td><td>f9318693-c1f9-4271-a19c-d615cd07b358</td></tr>\n",
       "\t<tr><td>grd</td><td>imputed</td><td>standard</td><td>daeb99c1-8f25-4fe3-ae35-01efb649c3e4</td></tr>\n",
       "\t<tr><td>grd</td><td>raw    </td><td>minmax  </td><td>1a06cca5-88a7-4d27-a420-d3489012bf42</td></tr>\n",
       "\t<tr><td>grd</td><td>raw    </td><td>raw     </td><td>f6cdee94-d3f5-43b5-8315-a26553785d0e</td></tr>\n",
       "\t<tr><td>grd</td><td>raw    </td><td>robust  </td><td>b0790e95-e37e-4678-b0d2-3d7b829c9c9d</td></tr>\n",
       "\t<tr><td>grd</td><td>raw    </td><td>standard</td><td>5b4227c4-3e65-45ab-9d4e-2d70ff771709</td></tr>\n",
       "\t<tr><td>img</td><td>clipped</td><td>minmax  </td><td>006ca09f-0ab9-48c1-a8b2-a1ffe64a4d1b</td></tr>\n",
       "\t<tr><td>img</td><td>clipped</td><td>raw     </td><td>06dcdf47-7e01-4f8c-9245-04f4823c9644</td></tr>\n",
       "\t<tr><td>img</td><td>clipped</td><td>robust  </td><td>0307ddeb-511c-4fb1-86e9-ee1a00520d5e</td></tr>\n",
       "\t<tr><td>img</td><td>imputed</td><td>minmax  </td><td>9d5e9753-8ece-482e-b621-06914adaab5f</td></tr>\n",
       "\t<tr><td>img</td><td>imputed</td><td>raw     </td><td>699dcbae-2266-49e5-976b-9215480aca62</td></tr>\n",
       "\t<tr><td>img</td><td>imputed</td><td>robust  </td><td>2b03e188-b5a0-4a3c-a913-a73be54dfcdd</td></tr>\n",
       "\t<tr><td>img</td><td>imputed</td><td>standard</td><td>13152030-cc1b-4e92-8b7e-4abf242ef5dd</td></tr>\n",
       "\t<tr><td>img</td><td>raw    </td><td>minmax  </td><td>c970912a-5d40-4c30-b897-6e886531b95d</td></tr>\n",
       "\t<tr><td>img</td><td>raw    </td><td>raw     </td><td>50434f36-62fd-4b57-8a1a-826c27ac92cc</td></tr>\n",
       "\t<tr><td>img</td><td>raw    </td><td>robust  </td><td>c54ad29b-f537-478b-9cda-038df131218f</td></tr>\n",
       "</tbody>\n",
       "</table>\n"
      ],
      "text/latex": [
       "A data.frame: 63 × 4\n",
       "\\begin{tabular}{llll}\n",
       " source & outliers & preprocessing & model\\_id\\\\\n",
       " <chr> & <chr> & <chr> & <chr>\\\\\n",
       "\\hline\n",
       "\t grd & clipped & minmax   & b5c8d838-c36c-4173-bb5b-7ddc91b685da\\\\\n",
       "\t grd & clipped & raw      & 4750c1b3-54bd-44cf-be87-27694c109043\\\\\n",
       "\t grd & clipped & robust   & abc6db2a-23a5-40f8-bae7-2b82bccdc0dd\\\\\n",
       "\t grd & clipped & standard & d68c5641-4197-4ec0-8103-34a256fe3203\\\\\n",
       "\t grd & clipped & minmax   & 8a5a9be2-23f8-4752-ba42-a0592c4ecdae\\\\\n",
       "\t grd & clipped & raw      & cd46c134-bfc9-4938-a995-6e3fda63fba6\\\\\n",
       "\t grd & clipped & robust   & 6251e8eb-2176-4ea6-bff0-5d91fb307ee3\\\\\n",
       "\t grd & clipped & standard & 41e7a280-412f-4aa7-a97b-15846d8b6b17\\\\\n",
       "\t grd & imputed & minmax   & b24c62a5-5bc9-4b32-98ee-7052773737e2\\\\\n",
       "\t grd & imputed & raw      & 39f05ae1-9ca0-447e-880e-82c8756eb943\\\\\n",
       "\t grd & imputed & robust   & 0e7979e9-fb87-4aa9-b265-5f1a6c4279e3\\\\\n",
       "\t grd & imputed & standard & 94c8396c-bae8-4bd0-b49e-56ba2ca56af1\\\\\n",
       "\t grd & raw     & minmax   & 47613d99-42c2-4145-8f31-c587adb3eb61\\\\\n",
       "\t grd & raw     & raw      & e7e8f519-3784-443c-8c69-9039556b499a\\\\\n",
       "\t grd & raw     & robust   & 50bf7899-1f1c-458b-b10d-16736e44c8ff\\\\\n",
       "\t grd & raw     & standard & ad562f3f-029f-43da-8b64-0c1cfbc7a3b7\\\\\n",
       "\t img & clipped & minmax   & 0831a1b8-80f1-43b0-98f6-878e5dbfbf57\\\\\n",
       "\t img & clipped & raw      & 04905eb0-212f-4ac5-b910-13dd35d5f28b\\\\\n",
       "\t img & clipped & robust   & 4860c51c-02ce-4530-aa65-517f1021e7af\\\\\n",
       "\t grd & clipped & minmax   & c8ac58de-b445-4543-b9c9-ca2ffac1eb65\\\\\n",
       "\t grd & clipped & raw      & fe9b48c4-0816-49a5-8e54-7e06f76622bb\\\\\n",
       "\t grd & clipped & robust   & 7403d27e-1deb-47ef-960f-876f2b60c594\\\\\n",
       "\t grd & clipped & standard & 802decbb-33e6-49d7-bfb9-af9f02c61301\\\\\n",
       "\t grd & imputed & minmax   & 4a3a298b-321f-4909-91c4-6985d4c70e73\\\\\n",
       "\t grd & imputed & raw      & ec6c96d8-8485-497c-a2a7-04ed82cd6863\\\\\n",
       "\t grd & imputed & robust   & d3db55a7-c8b5-4a41-a9fd-37505f628610\\\\\n",
       "\t grd & imputed & standard & f5b930b7-ccc4-4f63-8462-319978fb33c1\\\\\n",
       "\t grd & raw     & minmax   & 5781a1c4-0693-4adb-ae3e-1d5f7caf1a0a\\\\\n",
       "\t grd & raw     & raw      & 50e1da6d-3b7f-47b4-8f9c-bfb4eada4388\\\\\n",
       "\t grd & raw     & robust   & cedd9578-96ca-4e9c-99c5-9ddf31b76803\\\\\n",
       "\t ⋮ & ⋮ & ⋮ & ⋮\\\\\n",
       "\t img & clipped & robust   & 54bc6f64-08cb-4fae-a17f-640cd52bf30c\\\\\n",
       "\t grd & clipped & minmax   & 5e3c7fe9-69a2-45a6-be05-182499fef365\\\\\n",
       "\t grd & clipped & raw      & 09c241d4-5e96-4d9e-8c8f-61cd004b8731\\\\\n",
       "\t grd & clipped & robust   & b3f37058-b79d-4833-b50b-633cf393eb36\\\\\n",
       "\t grd & clipped & standard & c0d4bd4d-ef52-4585-b87c-949eca88177a\\\\\n",
       "\t grd & dropped & minmax   & 9513933a-c5bf-4288-a5c7-43d4ad078232\\\\\n",
       "\t grd & dropped & raw      & b1f0748e-480d-471f-aea9-74561a44394d\\\\\n",
       "\t grd & dropped & robust   & 3c84d6e2-d497-4e9e-b367-c82dd67a7ce8\\\\\n",
       "\t grd & clipped & minmax   & 9f5f3a72-089e-4286-b927-5b94f3a8385a\\\\\n",
       "\t grd & clipped & raw      & 7afda170-8234-43d2-a58d-d4cf77a239c4\\\\\n",
       "\t grd & clipped & robust   & a90a2c96-221d-46c0-8b46-0796355d3971\\\\\n",
       "\t grd & clipped & standard & c44c4e30-c927-4afd-85f2-7c95e778d6bc\\\\\n",
       "\t grd & imputed & minmax   & ed29bccf-6101-4227-80e0-86b13a7b9651\\\\\n",
       "\t grd & imputed & raw      & 836e920a-4438-4d01-b215-0a52c2d64315\\\\\n",
       "\t grd & imputed & robust   & f9318693-c1f9-4271-a19c-d615cd07b358\\\\\n",
       "\t grd & imputed & standard & daeb99c1-8f25-4fe3-ae35-01efb649c3e4\\\\\n",
       "\t grd & raw     & minmax   & 1a06cca5-88a7-4d27-a420-d3489012bf42\\\\\n",
       "\t grd & raw     & raw      & f6cdee94-d3f5-43b5-8315-a26553785d0e\\\\\n",
       "\t grd & raw     & robust   & b0790e95-e37e-4678-b0d2-3d7b829c9c9d\\\\\n",
       "\t grd & raw     & standard & 5b4227c4-3e65-45ab-9d4e-2d70ff771709\\\\\n",
       "\t img & clipped & minmax   & 006ca09f-0ab9-48c1-a8b2-a1ffe64a4d1b\\\\\n",
       "\t img & clipped & raw      & 06dcdf47-7e01-4f8c-9245-04f4823c9644\\\\\n",
       "\t img & clipped & robust   & 0307ddeb-511c-4fb1-86e9-ee1a00520d5e\\\\\n",
       "\t img & imputed & minmax   & 9d5e9753-8ece-482e-b621-06914adaab5f\\\\\n",
       "\t img & imputed & raw      & 699dcbae-2266-49e5-976b-9215480aca62\\\\\n",
       "\t img & imputed & robust   & 2b03e188-b5a0-4a3c-a913-a73be54dfcdd\\\\\n",
       "\t img & imputed & standard & 13152030-cc1b-4e92-8b7e-4abf242ef5dd\\\\\n",
       "\t img & raw     & minmax   & c970912a-5d40-4c30-b897-6e886531b95d\\\\\n",
       "\t img & raw     & raw      & 50434f36-62fd-4b57-8a1a-826c27ac92cc\\\\\n",
       "\t img & raw     & robust   & c54ad29b-f537-478b-9cda-038df131218f\\\\\n",
       "\\end{tabular}\n"
      ],
      "text/markdown": [
       "\n",
       "A data.frame: 63 × 4\n",
       "\n",
       "| source &lt;chr&gt; | outliers &lt;chr&gt; | preprocessing &lt;chr&gt; | model_id &lt;chr&gt; |\n",
       "|---|---|---|---|\n",
       "| grd | clipped | minmax   | b5c8d838-c36c-4173-bb5b-7ddc91b685da |\n",
       "| grd | clipped | raw      | 4750c1b3-54bd-44cf-be87-27694c109043 |\n",
       "| grd | clipped | robust   | abc6db2a-23a5-40f8-bae7-2b82bccdc0dd |\n",
       "| grd | clipped | standard | d68c5641-4197-4ec0-8103-34a256fe3203 |\n",
       "| grd | clipped | minmax   | 8a5a9be2-23f8-4752-ba42-a0592c4ecdae |\n",
       "| grd | clipped | raw      | cd46c134-bfc9-4938-a995-6e3fda63fba6 |\n",
       "| grd | clipped | robust   | 6251e8eb-2176-4ea6-bff0-5d91fb307ee3 |\n",
       "| grd | clipped | standard | 41e7a280-412f-4aa7-a97b-15846d8b6b17 |\n",
       "| grd | imputed | minmax   | b24c62a5-5bc9-4b32-98ee-7052773737e2 |\n",
       "| grd | imputed | raw      | 39f05ae1-9ca0-447e-880e-82c8756eb943 |\n",
       "| grd | imputed | robust   | 0e7979e9-fb87-4aa9-b265-5f1a6c4279e3 |\n",
       "| grd | imputed | standard | 94c8396c-bae8-4bd0-b49e-56ba2ca56af1 |\n",
       "| grd | raw     | minmax   | 47613d99-42c2-4145-8f31-c587adb3eb61 |\n",
       "| grd | raw     | raw      | e7e8f519-3784-443c-8c69-9039556b499a |\n",
       "| grd | raw     | robust   | 50bf7899-1f1c-458b-b10d-16736e44c8ff |\n",
       "| grd | raw     | standard | ad562f3f-029f-43da-8b64-0c1cfbc7a3b7 |\n",
       "| img | clipped | minmax   | 0831a1b8-80f1-43b0-98f6-878e5dbfbf57 |\n",
       "| img | clipped | raw      | 04905eb0-212f-4ac5-b910-13dd35d5f28b |\n",
       "| img | clipped | robust   | 4860c51c-02ce-4530-aa65-517f1021e7af |\n",
       "| grd | clipped | minmax   | c8ac58de-b445-4543-b9c9-ca2ffac1eb65 |\n",
       "| grd | clipped | raw      | fe9b48c4-0816-49a5-8e54-7e06f76622bb |\n",
       "| grd | clipped | robust   | 7403d27e-1deb-47ef-960f-876f2b60c594 |\n",
       "| grd | clipped | standard | 802decbb-33e6-49d7-bfb9-af9f02c61301 |\n",
       "| grd | imputed | minmax   | 4a3a298b-321f-4909-91c4-6985d4c70e73 |\n",
       "| grd | imputed | raw      | ec6c96d8-8485-497c-a2a7-04ed82cd6863 |\n",
       "| grd | imputed | robust   | d3db55a7-c8b5-4a41-a9fd-37505f628610 |\n",
       "| grd | imputed | standard | f5b930b7-ccc4-4f63-8462-319978fb33c1 |\n",
       "| grd | raw     | minmax   | 5781a1c4-0693-4adb-ae3e-1d5f7caf1a0a |\n",
       "| grd | raw     | raw      | 50e1da6d-3b7f-47b4-8f9c-bfb4eada4388 |\n",
       "| grd | raw     | robust   | cedd9578-96ca-4e9c-99c5-9ddf31b76803 |\n",
       "| ⋮ | ⋮ | ⋮ | ⋮ |\n",
       "| img | clipped | robust   | 54bc6f64-08cb-4fae-a17f-640cd52bf30c |\n",
       "| grd | clipped | minmax   | 5e3c7fe9-69a2-45a6-be05-182499fef365 |\n",
       "| grd | clipped | raw      | 09c241d4-5e96-4d9e-8c8f-61cd004b8731 |\n",
       "| grd | clipped | robust   | b3f37058-b79d-4833-b50b-633cf393eb36 |\n",
       "| grd | clipped | standard | c0d4bd4d-ef52-4585-b87c-949eca88177a |\n",
       "| grd | dropped | minmax   | 9513933a-c5bf-4288-a5c7-43d4ad078232 |\n",
       "| grd | dropped | raw      | b1f0748e-480d-471f-aea9-74561a44394d |\n",
       "| grd | dropped | robust   | 3c84d6e2-d497-4e9e-b367-c82dd67a7ce8 |\n",
       "| grd | clipped | minmax   | 9f5f3a72-089e-4286-b927-5b94f3a8385a |\n",
       "| grd | clipped | raw      | 7afda170-8234-43d2-a58d-d4cf77a239c4 |\n",
       "| grd | clipped | robust   | a90a2c96-221d-46c0-8b46-0796355d3971 |\n",
       "| grd | clipped | standard | c44c4e30-c927-4afd-85f2-7c95e778d6bc |\n",
       "| grd | imputed | minmax   | ed29bccf-6101-4227-80e0-86b13a7b9651 |\n",
       "| grd | imputed | raw      | 836e920a-4438-4d01-b215-0a52c2d64315 |\n",
       "| grd | imputed | robust   | f9318693-c1f9-4271-a19c-d615cd07b358 |\n",
       "| grd | imputed | standard | daeb99c1-8f25-4fe3-ae35-01efb649c3e4 |\n",
       "| grd | raw     | minmax   | 1a06cca5-88a7-4d27-a420-d3489012bf42 |\n",
       "| grd | raw     | raw      | f6cdee94-d3f5-43b5-8315-a26553785d0e |\n",
       "| grd | raw     | robust   | b0790e95-e37e-4678-b0d2-3d7b829c9c9d |\n",
       "| grd | raw     | standard | 5b4227c4-3e65-45ab-9d4e-2d70ff771709 |\n",
       "| img | clipped | minmax   | 006ca09f-0ab9-48c1-a8b2-a1ffe64a4d1b |\n",
       "| img | clipped | raw      | 06dcdf47-7e01-4f8c-9245-04f4823c9644 |\n",
       "| img | clipped | robust   | 0307ddeb-511c-4fb1-86e9-ee1a00520d5e |\n",
       "| img | imputed | minmax   | 9d5e9753-8ece-482e-b621-06914adaab5f |\n",
       "| img | imputed | raw      | 699dcbae-2266-49e5-976b-9215480aca62 |\n",
       "| img | imputed | robust   | 2b03e188-b5a0-4a3c-a913-a73be54dfcdd |\n",
       "| img | imputed | standard | 13152030-cc1b-4e92-8b7e-4abf242ef5dd |\n",
       "| img | raw     | minmax   | c970912a-5d40-4c30-b897-6e886531b95d |\n",
       "| img | raw     | raw      | 50434f36-62fd-4b57-8a1a-826c27ac92cc |\n",
       "| img | raw     | robust   | c54ad29b-f537-478b-9cda-038df131218f |\n",
       "\n"
      ],
      "text/plain": [
       "   source outliers preprocessing model_id                            \n",
       "1  grd    clipped  minmax        b5c8d838-c36c-4173-bb5b-7ddc91b685da\n",
       "2  grd    clipped  raw           4750c1b3-54bd-44cf-be87-27694c109043\n",
       "3  grd    clipped  robust        abc6db2a-23a5-40f8-bae7-2b82bccdc0dd\n",
       "4  grd    clipped  standard      d68c5641-4197-4ec0-8103-34a256fe3203\n",
       "5  grd    clipped  minmax        8a5a9be2-23f8-4752-ba42-a0592c4ecdae\n",
       "6  grd    clipped  raw           cd46c134-bfc9-4938-a995-6e3fda63fba6\n",
       "7  grd    clipped  robust        6251e8eb-2176-4ea6-bff0-5d91fb307ee3\n",
       "8  grd    clipped  standard      41e7a280-412f-4aa7-a97b-15846d8b6b17\n",
       "9  grd    imputed  minmax        b24c62a5-5bc9-4b32-98ee-7052773737e2\n",
       "10 grd    imputed  raw           39f05ae1-9ca0-447e-880e-82c8756eb943\n",
       "11 grd    imputed  robust        0e7979e9-fb87-4aa9-b265-5f1a6c4279e3\n",
       "12 grd    imputed  standard      94c8396c-bae8-4bd0-b49e-56ba2ca56af1\n",
       "13 grd    raw      minmax        47613d99-42c2-4145-8f31-c587adb3eb61\n",
       "14 grd    raw      raw           e7e8f519-3784-443c-8c69-9039556b499a\n",
       "15 grd    raw      robust        50bf7899-1f1c-458b-b10d-16736e44c8ff\n",
       "16 grd    raw      standard      ad562f3f-029f-43da-8b64-0c1cfbc7a3b7\n",
       "17 img    clipped  minmax        0831a1b8-80f1-43b0-98f6-878e5dbfbf57\n",
       "18 img    clipped  raw           04905eb0-212f-4ac5-b910-13dd35d5f28b\n",
       "19 img    clipped  robust        4860c51c-02ce-4530-aa65-517f1021e7af\n",
       "20 grd    clipped  minmax        c8ac58de-b445-4543-b9c9-ca2ffac1eb65\n",
       "21 grd    clipped  raw           fe9b48c4-0816-49a5-8e54-7e06f76622bb\n",
       "22 grd    clipped  robust        7403d27e-1deb-47ef-960f-876f2b60c594\n",
       "23 grd    clipped  standard      802decbb-33e6-49d7-bfb9-af9f02c61301\n",
       "24 grd    imputed  minmax        4a3a298b-321f-4909-91c4-6985d4c70e73\n",
       "25 grd    imputed  raw           ec6c96d8-8485-497c-a2a7-04ed82cd6863\n",
       "26 grd    imputed  robust        d3db55a7-c8b5-4a41-a9fd-37505f628610\n",
       "27 grd    imputed  standard      f5b930b7-ccc4-4f63-8462-319978fb33c1\n",
       "28 grd    raw      minmax        5781a1c4-0693-4adb-ae3e-1d5f7caf1a0a\n",
       "29 grd    raw      raw           50e1da6d-3b7f-47b4-8f9c-bfb4eada4388\n",
       "30 grd    raw      robust        cedd9578-96ca-4e9c-99c5-9ddf31b76803\n",
       "⋮  ⋮      ⋮        ⋮             ⋮                                   \n",
       "34 img    clipped  robust        54bc6f64-08cb-4fae-a17f-640cd52bf30c\n",
       "35 grd    clipped  minmax        5e3c7fe9-69a2-45a6-be05-182499fef365\n",
       "36 grd    clipped  raw           09c241d4-5e96-4d9e-8c8f-61cd004b8731\n",
       "37 grd    clipped  robust        b3f37058-b79d-4833-b50b-633cf393eb36\n",
       "38 grd    clipped  standard      c0d4bd4d-ef52-4585-b87c-949eca88177a\n",
       "39 grd    dropped  minmax        9513933a-c5bf-4288-a5c7-43d4ad078232\n",
       "40 grd    dropped  raw           b1f0748e-480d-471f-aea9-74561a44394d\n",
       "41 grd    dropped  robust        3c84d6e2-d497-4e9e-b367-c82dd67a7ce8\n",
       "42 grd    clipped  minmax        9f5f3a72-089e-4286-b927-5b94f3a8385a\n",
       "43 grd    clipped  raw           7afda170-8234-43d2-a58d-d4cf77a239c4\n",
       "44 grd    clipped  robust        a90a2c96-221d-46c0-8b46-0796355d3971\n",
       "45 grd    clipped  standard      c44c4e30-c927-4afd-85f2-7c95e778d6bc\n",
       "46 grd    imputed  minmax        ed29bccf-6101-4227-80e0-86b13a7b9651\n",
       "47 grd    imputed  raw           836e920a-4438-4d01-b215-0a52c2d64315\n",
       "48 grd    imputed  robust        f9318693-c1f9-4271-a19c-d615cd07b358\n",
       "49 grd    imputed  standard      daeb99c1-8f25-4fe3-ae35-01efb649c3e4\n",
       "50 grd    raw      minmax        1a06cca5-88a7-4d27-a420-d3489012bf42\n",
       "51 grd    raw      raw           f6cdee94-d3f5-43b5-8315-a26553785d0e\n",
       "52 grd    raw      robust        b0790e95-e37e-4678-b0d2-3d7b829c9c9d\n",
       "53 grd    raw      standard      5b4227c4-3e65-45ab-9d4e-2d70ff771709\n",
       "54 img    clipped  minmax        006ca09f-0ab9-48c1-a8b2-a1ffe64a4d1b\n",
       "55 img    clipped  raw           06dcdf47-7e01-4f8c-9245-04f4823c9644\n",
       "56 img    clipped  robust        0307ddeb-511c-4fb1-86e9-ee1a00520d5e\n",
       "57 img    imputed  minmax        9d5e9753-8ece-482e-b621-06914adaab5f\n",
       "58 img    imputed  raw           699dcbae-2266-49e5-976b-9215480aca62\n",
       "59 img    imputed  robust        2b03e188-b5a0-4a3c-a913-a73be54dfcdd\n",
       "60 img    imputed  standard      13152030-cc1b-4e92-8b7e-4abf242ef5dd\n",
       "61 img    raw      minmax        c970912a-5d40-4c30-b897-6e886531b95d\n",
       "62 img    raw      raw           50434f36-62fd-4b57-8a1a-826c27ac92cc\n",
       "63 img    raw      robust        c54ad29b-f537-478b-9cda-038df131218f"
      ]
     },
     "metadata": {},
     "output_type": "display_data"
    }
   ],
   "source": [
    "model_index <- read.csv(\"./gs_manifest.csv\")\n",
    "model_index"
   ]
  },
  {
   "cell_type": "code",
   "execution_count": 32,
   "metadata": {
    "vscode": {
     "languageId": "r"
    }
   },
   "outputs": [
    {
     "name": "stdout",
     "output_type": "stream",
     "text": [
      "   source outliers preprocessing                             model_id\n",
      "17    img  clipped        minmax 0831a1b8-80f1-43b0-98f6-878e5dbfbf57\n"
     ]
    }
   ],
   "source": [
    "print(model_index[17,])"
   ]
  },
  {
   "cell_type": "markdown",
   "metadata": {},
   "source": [
    "TO DO: Add preprocessing selection to the next cell!"
   ]
  },
  {
   "cell_type": "code",
   "execution_count": 38,
   "metadata": {
    "vscode": {
     "languageId": "r"
    }
   },
   "outputs": [
    {
     "name": "stdout",
     "output_type": "stream",
     "text": [
      "[1] \"f6cdee94-d3f5-43b5-8315-a26553785d0e\"\n",
      "[1] \"preprocessing raster at Data/Ground_Validation/Imagery/BisonGulchQuads.envi\"\n",
      "[1] \"Converted to Data frame?\"\n",
      "[1] TRUE\n",
      "[1] \"Noisy columns removed\"\n",
      "[1] TRUE\n",
      "[1] \"Filtered\"\n",
      "[1] TRUE\n"
     ]
    },
    {
     "name": "stderr",
     "output_type": "stream",
     "text": [
      "Using spline to predict value at new bands...\n",
      "\n",
      "Beware the spectra are now partially smoothed.\n",
      "\n"
     ]
    },
    {
     "name": "stdout",
     "output_type": "stream",
     "text": [
      "[1] \"Imputing...\"\n",
      "[1] \"Handling Outliers with method: none\"\n",
      "[1] \"Transforming the data with transform: none\"\n",
      "          x        y z\n",
      "1 -148.9508 63.80701 6\n",
      "2 -148.9508 63.80701 2\n",
      "3 -148.9508 63.80701 5\n",
      "4 -148.9508 63.80701 2\n",
      "5 -148.9508 63.80701 2\n",
      "6 -148.9508 63.80701 5\n",
      "          x        y z\n",
      "1 -148.9508 63.80701 6\n",
      "2 -148.9508 63.80701 2\n",
      "3 -148.9508 63.80701 5\n",
      "4 -148.9508 63.80701 2\n",
      "5 -148.9508 63.80701 2\n",
      "6 -148.9508 63.80701 5\n",
      "[1] \"Attempting to save to ./validation_saved_output.grd\"\n",
      "[1] \"Converted to Raster\"\n",
      "Reading layer `Bisoon_Quadrats_georeferenced' from data source \n",
      "  `/home/krbundy/GitHub/lecospec/Data/Vectors/Bisoon_Quadrats_georeferenced.shp' \n",
      "  using driver `ESRI Shapefile'\n",
      "Simple feature collection with 9 features and 3 fields\n",
      "Geometry type: POLYGON\n",
      "Dimension:     XY\n",
      "Bounding box:  xmin: -148.9524 ymin: 63.80698 xmax: -148.9508 ymax: 63.80701\n",
      "Geodetic CRS:  WGS 84\n",
      "Simple feature collection with 1 feature and 3 fields\n",
      "Geometry type: POLYGON\n",
      "Dimension:     XY\n",
      "Bounding box:  xmin: -148.9508 ymin: 63.807 xmax: -148.9508 ymax: 63.80701\n",
      "Geodetic CRS:  GCS_unknown\n",
      "  CLASS_ID  CLASS_NAME AREA                       geometry\n",
      "1        1 Bisongulch0  612 POLYGON ((-148.9508 63.807,...\n"
     ]
    },
    {
     "name": "stderr",
     "output_type": "stream",
     "text": [
      "Saving 6.67 x 6.67 in image\n",
      "\n"
     ]
    },
    {
     "name": "stdout",
     "output_type": "stream",
     "text": [
      "Simple feature collection with 1 feature and 3 fields\n",
      "Geometry type: POLYGON\n",
      "Dimension:     XY\n",
      "Bounding box:  xmin: -148.952 ymin: 63.80699 xmax: -148.952 ymax: 63.807\n",
      "Geodetic CRS:  GCS_unknown\n",
      "  CLASS_ID   CLASS_NAME AREA                       geometry\n",
      "2        7 Bisongulch70  649 POLYGON ((-148.952 63.80699...\n"
     ]
    },
    {
     "name": "stderr",
     "output_type": "stream",
     "text": [
      "Saving 6.67 x 6.67 in image\n",
      "\n"
     ]
    },
    {
     "name": "stdout",
     "output_type": "stream",
     "text": [
      "Simple feature collection with 1 feature and 3 fields\n",
      "Geometry type: POLYGON\n",
      "Dimension:     XY\n",
      "Bounding box:  xmin: -148.9522 ymin: 63.80699 xmax: -148.9522 ymax: 63.807\n",
      "Geodetic CRS:  GCS_unknown\n",
      "  CLASS_ID   CLASS_NAME AREA                       geometry\n",
      "3        8 Bisongulch80  661 POLYGON ((-148.9522 63.8069...\n"
     ]
    },
    {
     "name": "stderr",
     "output_type": "stream",
     "text": [
      "Saving 6.67 x 6.67 in image\n",
      "\n"
     ]
    },
    {
     "name": "stdout",
     "output_type": "stream",
     "text": [
      "Simple feature collection with 1 feature and 3 fields\n",
      "Geometry type: POLYGON\n",
      "Dimension:     XY\n",
      "Bounding box:  xmin: -148.951 ymin: 63.80699 xmax: -148.9509 ymax: 63.807\n",
      "Geodetic CRS:  GCS_unknown\n",
      "  CLASS_ID   CLASS_NAME AREA                       geometry\n",
      "4        2 Bisongulch10  649 POLYGON ((-148.9509 63.8069...\n"
     ]
    },
    {
     "name": "stderr",
     "output_type": "stream",
     "text": [
      "Saving 6.67 x 6.67 in image\n",
      "\n"
     ]
    },
    {
     "name": "stdout",
     "output_type": "stream",
     "text": [
      "Simple feature collection with 1 feature and 3 fields\n",
      "Geometry type: POLYGON\n",
      "Dimension:     XY\n",
      "Bounding box:  xmin: -148.9524 ymin: 63.80699 xmax: -148.9524 ymax: 63.807\n",
      "Geodetic CRS:  GCS_unknown\n",
      "  CLASS_ID   CLASS_NAME AREA                       geometry\n",
      "5        9 Bisongulch90  648 POLYGON ((-148.9524 63.8069...\n"
     ]
    },
    {
     "name": "stderr",
     "output_type": "stream",
     "text": [
      "Saving 6.67 x 6.67 in image\n",
      "\n"
     ]
    },
    {
     "name": "stdout",
     "output_type": "stream",
     "text": [
      "Simple feature collection with 1 feature and 3 fields\n",
      "Geometry type: POLYGON\n",
      "Dimension:     XY\n",
      "Bounding box:  xmin: -148.9512 ymin: 63.80699 xmax: -148.9512 ymax: 63.807\n",
      "Geodetic CRS:  GCS_unknown\n",
      "  CLASS_ID   CLASS_NAME AREA                       geometry\n",
      "6        3 Bisongulch20  574 POLYGON ((-148.9512 63.8069...\n"
     ]
    },
    {
     "name": "stderr",
     "output_type": "stream",
     "text": [
      "Saving 6.67 x 6.67 in image\n",
      "\n"
     ]
    },
    {
     "name": "stdout",
     "output_type": "stream",
     "text": [
      "Simple feature collection with 1 feature and 3 fields\n",
      "Geometry type: POLYGON\n",
      "Dimension:     XY\n",
      "Bounding box:  xmin: -148.9518 ymin: 63.80699 xmax: -148.9518 ymax: 63.807\n",
      "Geodetic CRS:  GCS_unknown\n",
      "  CLASS_ID   CLASS_NAME AREA                       geometry\n",
      "7        6 Bisongulch50  673 POLYGON ((-148.9518 63.8069...\n"
     ]
    },
    {
     "name": "stderr",
     "output_type": "stream",
     "text": [
      "Saving 6.67 x 6.67 in image\n",
      "\n"
     ]
    },
    {
     "name": "stdout",
     "output_type": "stream",
     "text": [
      "Simple feature collection with 1 feature and 3 fields\n",
      "Geometry type: POLYGON\n",
      "Dimension:     XY\n",
      "Bounding box:  xmin: -148.9514 ymin: 63.80699 xmax: -148.9514 ymax: 63.807\n",
      "Geodetic CRS:  GCS_unknown\n",
      "  CLASS_ID   CLASS_NAME AREA                       geometry\n",
      "8        4 Bisongulch30  673 POLYGON ((-148.9514 63.8069...\n"
     ]
    },
    {
     "name": "stderr",
     "output_type": "stream",
     "text": [
      "Saving 6.67 x 6.67 in image\n",
      "\n"
     ]
    },
    {
     "name": "stdout",
     "output_type": "stream",
     "text": [
      "Simple feature collection with 1 feature and 3 fields\n",
      "Geometry type: POLYGON\n",
      "Dimension:     XY\n",
      "Bounding box:  xmin: -148.9516 ymin: 63.80698 xmax: -148.9516 ymax: 63.80699\n",
      "Geodetic CRS:  GCS_unknown\n",
      "  CLASS_ID   CLASS_NAME AREA                       geometry\n",
      "9        5 Bisongulch40  674 POLYGON ((-148.9516 63.8069...\n"
     ]
    },
    {
     "name": "stderr",
     "output_type": "stream",
     "text": [
      "Saving 6.67 x 6.67 in image\n",
      "\n",
      "Saving 6.67 x 6.67 in image\n",
      "\n",
      "Saving 6.67 x 6.67 in image\n",
      "\n",
      "Saving 6.67 x 6.67 in image\n",
      "\n",
      "Saving 6.67 x 6.67 in image\n",
      "\n",
      "Saving 6.67 x 6.67 in image\n",
      "\n",
      "Saving 6.67 x 6.67 in image\n",
      "\n",
      "Saving 6.67 x 6.67 in image\n",
      "\n",
      "Saving 6.67 x 6.67 in image\n",
      "\n",
      "Saving 6.67 x 6.67 in image\n",
      "\n"
     ]
    },
    {
     "name": "stdout",
     "output_type": "stream",
     "text": [
      "[1] \"preprocessing raster at Data/Ground_Validation/Imagery/ChatanikaQuads.envi\"\n",
      "[1] \"Converted to Data frame?\"\n",
      "[1] TRUE\n",
      "[1] \"Noisy columns removed\"\n",
      "[1] TRUE\n",
      "[1] \"Filtered\"\n",
      "[1] TRUE\n"
     ]
    },
    {
     "name": "stderr",
     "output_type": "stream",
     "text": [
      "Using spline to predict value at new bands...\n",
      "\n",
      "Beware the spectra are now partially smoothed.\n",
      "\n"
     ]
    },
    {
     "name": "stdout",
     "output_type": "stream",
     "text": [
      "[1] \"Imputing...\"\n",
      "[1] \"Handling Outliers with method: none\"\n",
      "[1] \"Transforming the data with transform: none\"\n",
      "          x        y z\n",
      "1 -147.4827 65.15287 2\n",
      "2 -147.4827 65.15287 2\n",
      "3 -147.4827 65.15287 2\n",
      "4 -147.4827 65.15287 2\n",
      "5 -147.4827 65.15287 2\n",
      "6 -147.4827 65.15287 2\n",
      "          x        y z\n",
      "1 -147.4827 65.15287 2\n",
      "2 -147.4827 65.15287 2\n",
      "3 -147.4827 65.15287 2\n",
      "4 -147.4827 65.15287 2\n",
      "5 -147.4827 65.15287 2\n",
      "6 -147.4827 65.15287 2\n",
      "[1] \"Attempting to save to ./validation_saved_output.grd\"\n",
      "[1] \"Converted to Raster\"\n",
      "Reading layer `ChatanikaQuads_georeferenced' from data source \n",
      "  `/home/krbundy/GitHub/lecospec/Data/Vectors/ChatanikaQuads_georeferenced.shp' \n",
      "  using driver `ESRI Shapefile'\n",
      "Simple feature collection with 11 features and 3 fields\n",
      "Geometry type: POLYGON\n",
      "Dimension:     XY\n",
      "Bounding box:  xmin: -147.4827 ymin: 65.15281 xmax: -147.4806 ymax: 65.15287\n",
      "Geodetic CRS:  WGS 84\n",
      "Simple feature collection with 1 feature and 3 fields\n",
      "Geometry type: POLYGON\n",
      "Dimension:     XY\n",
      "Bounding box:  xmin: -147.4827 ymin: 65.15286 xmax: -147.4827 ymax: 65.15287\n",
      "Geodetic CRS:  GCS_unknown\n",
      "    CLASS_NAME CLASS_ID CLASS_CLRS                       geometry\n",
      "1 Chatanika100       11    0,0,128 POLYGON ((-147.4827 65.1528...\n"
     ]
    },
    {
     "name": "stderr",
     "output_type": "stream",
     "text": [
      "Saving 6.67 x 6.67 in image\n",
      "\n"
     ]
    },
    {
     "name": "stdout",
     "output_type": "stream",
     "text": [
      "Simple feature collection with 1 feature and 3 fields\n",
      "Geometry type: POLYGON\n",
      "Dimension:     XY\n",
      "Bounding box:  xmin: -147.4825 ymin: 65.15285 xmax: -147.4825 ymax: 65.15286\n",
      "Geodetic CRS:  GCS_unknown\n",
      "   CLASS_NAME CLASS_ID CLASS_CLRS                       geometry\n",
      "2 Chatanika90       10    0,255,0 POLYGON ((-147.4825 65.1528...\n"
     ]
    },
    {
     "name": "stderr",
     "output_type": "stream",
     "text": [
      "Saving 6.67 x 6.67 in image\n",
      "\n"
     ]
    },
    {
     "name": "stdout",
     "output_type": "stream",
     "text": [
      "Simple feature collection with 1 feature and 3 fields\n",
      "Geometry type: POLYGON\n",
      "Dimension:     XY\n",
      "Bounding box:  xmin: -147.4821 ymin: 65.15285 xmax: -147.4821 ymax: 65.15286\n",
      "Geodetic CRS:  GCS_unknown\n",
      "   CLASS_NAME CLASS_ID CLASS_CLRS                       geometry\n",
      "3 Chatanika70        8  0,128,128 POLYGON ((-147.4821 65.1528...\n"
     ]
    },
    {
     "name": "stderr",
     "output_type": "stream",
     "text": [
      "Saving 6.67 x 6.67 in image\n",
      "\n"
     ]
    },
    {
     "name": "stdout",
     "output_type": "stream",
     "text": [
      "Simple feature collection with 1 feature and 3 fields\n",
      "Geometry type: POLYGON\n",
      "Dimension:     XY\n",
      "Bounding box:  xmin: -147.4823 ymin: 65.15285 xmax: -147.4823 ymax: 65.15286\n",
      "Geodetic CRS:  GCS_unknown\n",
      "   CLASS_NAME CLASS_ID CLASS_CLRS                       geometry\n",
      "4 Chatanika80        9    128,0,0 POLYGON ((-147.4823 65.1528...\n"
     ]
    },
    {
     "name": "stderr",
     "output_type": "stream",
     "text": [
      "Saving 6.67 x 6.67 in image\n",
      "\n"
     ]
    },
    {
     "name": "stdout",
     "output_type": "stream",
     "text": [
      "Simple feature collection with 1 feature and 3 fields\n",
      "Geometry type: POLYGON\n",
      "Dimension:     XY\n",
      "Bounding box:  xmin: -147.4819 ymin: 65.15285 xmax: -147.4819 ymax: 65.15286\n",
      "Geodetic CRS:  GCS_unknown\n",
      "   CLASS_NAME CLASS_ID CLASS_CLRS                       geometry\n",
      "5 Chatanika60        7  128,128,0 POLYGON ((-147.4819 65.1528...\n"
     ]
    },
    {
     "name": "stderr",
     "output_type": "stream",
     "text": [
      "Saving 6.67 x 6.67 in image\n",
      "\n"
     ]
    },
    {
     "name": "stdout",
     "output_type": "stream",
     "text": [
      "Simple feature collection with 1 feature and 3 fields\n",
      "Geometry type: POLYGON\n",
      "Dimension:     XY\n",
      "Bounding box:  xmin: -147.4817 ymin: 65.15284 xmax: -147.4816 ymax: 65.15285\n",
      "Geodetic CRS:  GCS_unknown\n",
      "   CLASS_NAME CLASS_ID CLASS_CLRS                       geometry\n",
      "6 Chatanika50        6  255,0,255 POLYGON ((-147.4816 65.1528...\n"
     ]
    },
    {
     "name": "stderr",
     "output_type": "stream",
     "text": [
      "Saving 6.67 x 6.67 in image\n",
      "\n"
     ]
    },
    {
     "name": "stdout",
     "output_type": "stream",
     "text": [
      "Simple feature collection with 1 feature and 3 fields\n",
      "Geometry type: POLYGON\n",
      "Dimension:     XY\n",
      "Bounding box:  xmin: -147.4815 ymin: 65.15283 xmax: -147.4814 ymax: 65.15284\n",
      "Geodetic CRS:  GCS_unknown\n",
      "   CLASS_NAME CLASS_ID CLASS_CLRS                       geometry\n",
      "7 Chatanika40        5  0,255,255 POLYGON ((-147.4814 65.1528...\n"
     ]
    },
    {
     "name": "stderr",
     "output_type": "stream",
     "text": [
      "Saving 6.67 x 6.67 in image\n",
      "\n"
     ]
    },
    {
     "name": "stdout",
     "output_type": "stream",
     "text": [
      "Simple feature collection with 1 feature and 3 fields\n",
      "Geometry type: POLYGON\n",
      "Dimension:     XY\n",
      "Bounding box:  xmin: -147.4812 ymin: 65.15282 xmax: -147.4812 ymax: 65.15283\n",
      "Geodetic CRS:  GCS_unknown\n",
      "   CLASS_NAME CLASS_ID CLASS_CLRS                       geometry\n",
      "8 Chatanika30        4  255,255,0 POLYGON ((-147.4812 65.1528...\n"
     ]
    },
    {
     "name": "stderr",
     "output_type": "stream",
     "text": [
      "Saving 6.67 x 6.67 in image\n",
      "\n"
     ]
    },
    {
     "name": "stdout",
     "output_type": "stream",
     "text": [
      "Simple feature collection with 1 feature and 3 fields\n",
      "Geometry type: POLYGON\n",
      "Dimension:     XY\n",
      "Bounding box:  xmin: -147.481 ymin: 65.15281 xmax: -147.481 ymax: 65.15282\n",
      "Geodetic CRS:  GCS_unknown\n",
      "   CLASS_NAME CLASS_ID CLASS_CLRS                       geometry\n",
      "9 Chatanika20        3    0,0,255 POLYGON ((-147.481 65.15282...\n"
     ]
    },
    {
     "name": "stderr",
     "output_type": "stream",
     "text": [
      "Saving 6.67 x 6.67 in image\n",
      "\n"
     ]
    },
    {
     "name": "stdout",
     "output_type": "stream",
     "text": [
      "Simple feature collection with 1 feature and 3 fields\n",
      "Geometry type: POLYGON\n",
      "Dimension:     XY\n",
      "Bounding box:  xmin: -147.4808 ymin: 65.15281 xmax: -147.4808 ymax: 65.15282\n",
      "Geodetic CRS:  GCS_unknown\n",
      "    CLASS_NAME CLASS_ID CLASS_CLRS                       geometry\n",
      "10 Chatanika10        2    0,128,0 POLYGON ((-147.4808 65.1528...\n"
     ]
    },
    {
     "name": "stderr",
     "output_type": "stream",
     "text": [
      "Saving 6.67 x 6.67 in image\n",
      "\n"
     ]
    },
    {
     "name": "stdout",
     "output_type": "stream",
     "text": [
      "Simple feature collection with 1 feature and 3 fields\n",
      "Geometry type: POLYGON\n",
      "Dimension:     XY\n",
      "Bounding box:  xmin: -147.4806 ymin: 65.15281 xmax: -147.4806 ymax: 65.15281\n",
      "Geodetic CRS:  GCS_unknown\n",
      "   CLASS_NAME CLASS_ID CLASS_CLRS                       geometry\n",
      "11 Chatanika0        1    255,0,0 POLYGON ((-147.4806 65.1528...\n"
     ]
    },
    {
     "name": "stderr",
     "output_type": "stream",
     "text": [
      "Saving 6.67 x 6.67 in image\n",
      "\n",
      "Saving 6.67 x 6.67 in image\n",
      "\n",
      "Saving 6.67 x 6.67 in image\n",
      "\n",
      "Saving 6.67 x 6.67 in image\n",
      "\n",
      "Saving 6.67 x 6.67 in image\n",
      "\n",
      "Saving 6.67 x 6.67 in image\n",
      "\n",
      "Saving 6.67 x 6.67 in image\n",
      "\n",
      "Saving 6.67 x 6.67 in image\n",
      "\n",
      "Saving 6.67 x 6.67 in image\n",
      "\n",
      "Saving 6.67 x 6.67 in image\n",
      "\n",
      "Saving 6.67 x 6.67 in image\n",
      "\n",
      "Saving 6.67 x 6.67 in image\n",
      "\n"
     ]
    },
    {
     "name": "stdout",
     "output_type": "stream",
     "text": [
      "[1] \"preprocessing raster at Data/Ground_Validation/Imagery/TwelveMileGulchQuads1.envi\"\n",
      "[1] \"Converted to Data frame?\"\n",
      "[1] TRUE\n",
      "[1] \"Noisy columns removed\"\n",
      "[1] TRUE\n",
      "[1] \"Filtered\"\n",
      "[1] TRUE\n"
     ]
    },
    {
     "name": "stderr",
     "output_type": "stream",
     "text": [
      "Using spline to predict value at new bands...\n",
      "\n",
      "Beware the spectra are now partially smoothed.\n",
      "\n"
     ]
    },
    {
     "name": "stdout",
     "output_type": "stream",
     "text": [
      "[1] \"Imputing...\"\n",
      "[1] \"Handling Outliers with method: none\"\n",
      "[1] \"Transforming the data with transform: none\"\n",
      "         x        y z\n",
      "1 -145.979 65.40191 3\n",
      "2 -145.979 65.40191 1\n",
      "3 -145.979 65.40191 1\n",
      "4 -145.979 65.40191 5\n",
      "5 -145.979 65.40191 2\n",
      "6 -145.979 65.40191 1\n",
      "         x        y z\n",
      "1 -145.979 65.40191 3\n",
      "2 -145.979 65.40191 1\n",
      "3 -145.979 65.40191 1\n",
      "4 -145.979 65.40191 5\n",
      "5 -145.979 65.40191 2\n",
      "6 -145.979 65.40191 1\n",
      "[1] \"Attempting to save to ./validation_saved_output.grd\"\n",
      "[1] \"Converted to Raster\"\n",
      "Reading layer `TwelveMileQ0_10_20_30_40m' from data source \n",
      "  `/home/krbundy/GitHub/lecospec/Data/Vectors/TwelveMileQ0_10_20_30_40m.shp' \n",
      "  using driver `ESRI Shapefile'\n",
      "Simple feature collection with 5 features and 3 fields\n",
      "Geometry type: POLYGON\n",
      "Dimension:     XY\n",
      "Bounding box:  xmin: -145.979 ymin: 65.4018 xmax: -145.9782 ymax: 65.40191\n",
      "Geodetic CRS:  WGS 84\n",
      "Simple feature collection with 1 feature and 3 fields\n",
      "Geometry type: POLYGON\n",
      "Dimension:     XY\n",
      "Bounding box:  xmin: -145.979 ymin: 65.4019 xmax: -145.979 ymax: 65.40191\n",
      "Geodetic CRS:  GCS_unknown\n",
      "  CLASS_ID   CLASS_NAME AREA                       geometry\n",
      "1        4 Twelvemile40  288 POLYGON ((-145.979 65.4019,...\n"
     ]
    },
    {
     "name": "stderr",
     "output_type": "stream",
     "text": [
      "Saving 6.67 x 6.67 in image\n",
      "\n"
     ]
    },
    {
     "name": "stdout",
     "output_type": "stream",
     "text": [
      "Simple feature collection with 1 feature and 3 fields\n",
      "Geometry type: POLYGON\n",
      "Dimension:     XY\n",
      "Bounding box:  xmin: -145.9788 ymin: 65.40187 xmax: -145.9788 ymax: 65.40188\n",
      "Geodetic CRS:  GCS_unknown\n",
      "  CLASS_ID   CLASS_NAME AREA                       geometry\n",
      "2        1 Twelvemile30  281 POLYGON ((-145.9788 65.4018...\n"
     ]
    },
    {
     "name": "stderr",
     "output_type": "stream",
     "text": [
      "Saving 6.67 x 6.67 in image\n",
      "\n"
     ]
    },
    {
     "name": "stdout",
     "output_type": "stream",
     "text": [
      "Simple feature collection with 1 feature and 3 fields\n",
      "Geometry type: POLYGON\n",
      "Dimension:     XY\n",
      "Bounding box:  xmin: -145.9786 ymin: 65.40185 xmax: -145.9786 ymax: 65.40186\n",
      "Geodetic CRS:  GCS_unknown\n",
      "  CLASS_ID   CLASS_NAME AREA                       geometry\n",
      "3        2 Twelvemile20  328 POLYGON ((-145.9786 65.4018...\n"
     ]
    },
    {
     "name": "stderr",
     "output_type": "stream",
     "text": [
      "Saving 6.67 x 6.67 in image\n",
      "\n"
     ]
    },
    {
     "name": "stdout",
     "output_type": "stream",
     "text": [
      "Simple feature collection with 1 feature and 3 fields\n",
      "Geometry type: POLYGON\n",
      "Dimension:     XY\n",
      "Bounding box:  xmin: -145.9784 ymin: 65.40183 xmax: -145.9784 ymax: 65.40184\n",
      "Geodetic CRS:  GCS_unknown\n",
      "  CLASS_ID   CLASS_NAME AREA                       geometry\n",
      "4        3 Twelvemile10  308 POLYGON ((-145.9784 65.4018...\n"
     ]
    },
    {
     "name": "stderr",
     "output_type": "stream",
     "text": [
      "Saving 6.67 x 6.67 in image\n",
      "\n"
     ]
    },
    {
     "name": "stdout",
     "output_type": "stream",
     "text": [
      "Simple feature collection with 1 feature and 3 fields\n",
      "Geometry type: POLYGON\n",
      "Dimension:     XY\n",
      "Bounding box:  xmin: -145.9782 ymin: 65.4018 xmax: -145.9782 ymax: 65.40181\n",
      "Geodetic CRS:  GCS_unknown\n",
      "  CLASS_ID  CLASS_NAME AREA                       geometry\n",
      "5        5 Twelvemile0  336 POLYGON ((-145.9782 65.4018...\n"
     ]
    },
    {
     "name": "stderr",
     "output_type": "stream",
     "text": [
      "Saving 6.67 x 6.67 in image\n",
      "\n",
      "Saving 6.67 x 6.67 in image\n",
      "\n",
      "Saving 6.67 x 6.67 in image\n",
      "\n",
      "Saving 6.67 x 6.67 in image\n",
      "\n",
      "Saving 6.67 x 6.67 in image\n",
      "\n",
      "Saving 6.67 x 6.67 in image\n",
      "\n"
     ]
    },
    {
     "name": "stdout",
     "output_type": "stream",
     "text": [
      "[1] \"preprocessing raster at Data/Ground_Validation/Imagery/TwelveMileGulchQuads2.envi\"\n",
      "[1] \"Converted to Data frame?\"\n",
      "[1] TRUE\n",
      "[1] \"Noisy columns removed\"\n",
      "[1] TRUE\n",
      "[1] \"Filtered\"\n",
      "[1] TRUE\n"
     ]
    },
    {
     "name": "stderr",
     "output_type": "stream",
     "text": [
      "Using spline to predict value at new bands...\n",
      "\n",
      "Beware the spectra are now partially smoothed.\n",
      "\n"
     ]
    },
    {
     "name": "stdout",
     "output_type": "stream",
     "text": [
      "[1] \"Imputing...\"\n",
      "[1] \"Handling Outliers with method: none\"\n",
      "[1] \"Transforming the data with transform: none\"\n",
      "          x        y z\n",
      "1 -145.9802 65.40203 4\n",
      "2 -145.9802 65.40203 4\n",
      "3 -145.9802 65.40203 4\n",
      "4 -145.9802 65.40203 4\n",
      "5 -145.9802 65.40203 4\n",
      "6 -145.9802 65.40203 4\n",
      "          x        y z\n",
      "1 -145.9802 65.40203 4\n",
      "2 -145.9802 65.40203 4\n",
      "3 -145.9802 65.40203 4\n",
      "4 -145.9802 65.40203 4\n",
      "5 -145.9802 65.40203 4\n",
      "6 -145.9802 65.40203 4\n",
      "[1] \"Attempting to save to ./validation_saved_output.grd\"\n",
      "[1] \"Converted to Raster\"\n",
      "Reading layer `TwelveMileQ70_80_90_100m' from data source \n",
      "  `/home/krbundy/GitHub/lecospec/Data/Vectors/TwelveMileQ70_80_90_100m.shp' \n",
      "  using driver `ESRI Shapefile'\n",
      "Simple feature collection with 4 features and 3 fields\n",
      "Geometry type: POLYGON\n",
      "Dimension:     XY\n",
      "Bounding box:  xmin: -145.9802 ymin: 65.40196 xmax: -145.9796 ymax: 65.40203\n",
      "Geodetic CRS:  WGS 84\n",
      "Simple feature collection with 1 feature and 3 fields\n",
      "Geometry type: POLYGON\n",
      "Dimension:     XY\n",
      "Bounding box:  xmin: -145.9802 ymin: 65.40202 xmax: -145.9802 ymax: 65.40203\n",
      "Geodetic CRS:  GCS_unknown\n",
      "  CLASS_ID    CLASS_NAME AREA                       geometry\n",
      "1        4 Twelvemile100  492 POLYGON ((-145.9802 65.4020...\n"
     ]
    },
    {
     "name": "stderr",
     "output_type": "stream",
     "text": [
      "Saving 6.67 x 6.67 in image\n",
      "\n"
     ]
    },
    {
     "name": "stdout",
     "output_type": "stream",
     "text": [
      "Simple feature collection with 1 feature and 3 fields\n",
      "Geometry type: POLYGON\n",
      "Dimension:     XY\n",
      "Bounding box:  xmin: -145.98 ymin: 65.402 xmax: -145.98 ymax: 65.40201\n",
      "Geodetic CRS:  GCS_unknown\n",
      "  CLASS_ID   CLASS_NAME AREA                       geometry\n",
      "2        3 Twelvemile90  473 POLYGON ((-145.98 65.402, -...\n"
     ]
    },
    {
     "name": "stderr",
     "output_type": "stream",
     "text": [
      "Saving 6.67 x 6.67 in image\n",
      "\n"
     ]
    },
    {
     "name": "stdout",
     "output_type": "stream",
     "text": [
      "Simple feature collection with 1 feature and 3 fields\n",
      "Geometry type: POLYGON\n",
      "Dimension:     XY\n",
      "Bounding box:  xmin: -145.9798 ymin: 65.40198 xmax: -145.9798 ymax: 65.40199\n",
      "Geodetic CRS:  GCS_unknown\n",
      "  CLASS_ID   CLASS_NAME AREA                       geometry\n",
      "3        2 Twelvemile80  631 POLYGON ((-145.9798 65.4019...\n"
     ]
    },
    {
     "name": "stderr",
     "output_type": "stream",
     "text": [
      "Saving 6.67 x 6.67 in image\n",
      "\n"
     ]
    },
    {
     "name": "stdout",
     "output_type": "stream",
     "text": [
      "Simple feature collection with 1 feature and 3 fields\n",
      "Geometry type: POLYGON\n",
      "Dimension:     XY\n",
      "Bounding box:  xmin: -145.9796 ymin: 65.40196 xmax: -145.9796 ymax: 65.40197\n",
      "Geodetic CRS:  GCS_unknown\n",
      "  CLASS_ID   CLASS_NAME AREA                       geometry\n",
      "4        1 Twelvemile70  518 POLYGON ((-145.9796 65.4019...\n"
     ]
    },
    {
     "name": "stderr",
     "output_type": "stream",
     "text": [
      "Saving 6.67 x 6.67 in image\n",
      "\n",
      "Saving 6.67 x 6.67 in image\n",
      "\n",
      "Saving 6.67 x 6.67 in image\n",
      "\n",
      "Saving 6.67 x 6.67 in image\n",
      "\n",
      "Saving 6.67 x 6.67 in image\n",
      "\n"
     ]
    },
    {
     "name": "stdout",
     "output_type": "stream",
     "text": [
      "[1] \"preprocessing raster at Data/Ground_Validation/Imagery/EightMileQuads.envi\"\n",
      "[1] \"Converted to Data frame?\"\n",
      "[1] TRUE\n",
      "[1] \"Noisy columns removed\"\n",
      "[1] TRUE\n",
      "[1] \"Filtered\"\n",
      "[1] TRUE\n"
     ]
    },
    {
     "name": "stderr",
     "output_type": "stream",
     "text": [
      "Using spline to predict value at new bands...\n",
      "\n",
      "Beware the spectra are now partially smoothed.\n",
      "\n"
     ]
    },
    {
     "name": "stdout",
     "output_type": "stream",
     "text": [
      "[1] \"Imputing...\"\n",
      "[1] \"Handling Outliers with method: none\"\n",
      "[1] \"Transforming the data with transform: none\"\n",
      "          x        y z\n",
      "1 -149.2529 63.87686 6\n",
      "2 -149.2529 63.87686 6\n",
      "3 -149.2529 63.87686 6\n",
      "4 -149.2529 63.87686 6\n",
      "5 -149.2529 63.87686 6\n",
      "6 -149.2529 63.87686 6\n",
      "          x        y z\n",
      "1 -149.2529 63.87686 6\n",
      "2 -149.2529 63.87686 6\n",
      "3 -149.2529 63.87686 6\n",
      "4 -149.2529 63.87686 6\n",
      "5 -149.2529 63.87686 6\n",
      "6 -149.2529 63.87686 6\n",
      "[1] \"Attempting to save to ./validation_saved_output.grd\"\n",
      "[1] \"Converted to Raster\"\n",
      "Reading layer `EightMile_Quadrats_revised' from data source \n",
      "  `/home/krbundy/GitHub/lecospec/Data/Vectors/EightMile_Quadrats_revised.shp' \n",
      "  using driver `ESRI Shapefile'\n",
      "Simple feature collection with 11 features and 3 fields\n",
      "Geometry type: POLYGON\n",
      "Dimension:     XY\n",
      "Bounding box:  xmin: -149.2549 ymin: 63.87666 xmax: -149.2529 ymax: 63.87686\n",
      "Geodetic CRS:  WGS 84\n",
      "Simple feature collection with 1 feature and 3 fields\n",
      "Geometry type: POLYGON\n",
      "Dimension:     XY\n",
      "Bounding box:  xmin: -149.2547 ymin: 63.87667 xmax: -149.2546 ymax: 63.87669\n",
      "Geodetic CRS:  GCS_unknown\n",
      "   CLASS_NAME CLASS_ID CLASS_CLRS                       geometry\n",
      "1 Eightmile10        2    0,128,0 POLYGON ((-149.2547 63.8766...\n"
     ]
    },
    {
     "name": "stderr",
     "output_type": "stream",
     "text": [
      "Saving 6.67 x 6.67 in image\n",
      "\n"
     ]
    },
    {
     "name": "stdout",
     "output_type": "stream",
     "text": [
      "Simple feature collection with 1 feature and 3 fields\n",
      "Geometry type: POLYGON\n",
      "Dimension:     XY\n",
      "Bounding box:  xmin: -149.2549 ymin: 63.87666 xmax: -149.2548 ymax: 63.87667\n",
      "Geodetic CRS:  GCS_unknown\n",
      "  CLASS_NAME CLASS_ID CLASS_CLRS                       geometry\n",
      "2 Eightmile0        1    255,0,0 POLYGON ((-149.2548 63.8766...\n"
     ]
    },
    {
     "name": "stderr",
     "output_type": "stream",
     "text": [
      "Saving 6.67 x 6.67 in image\n",
      "\n"
     ]
    },
    {
     "name": "stdout",
     "output_type": "stream",
     "text": [
      "Simple feature collection with 1 feature and 3 fields\n",
      "Geometry type: POLYGON\n",
      "Dimension:     XY\n",
      "Bounding box:  xmin: -149.2537 ymin: 63.87675 xmax: -149.2537 ymax: 63.87677\n",
      "Geodetic CRS:  GCS_unknown\n",
      "   CLASS_NAME CLASS_ID CLASS_CLRS                       geometry\n",
      "3 Eightmile60        7  128,128,0 POLYGON ((-149.2537 63.8767...\n"
     ]
    },
    {
     "name": "stderr",
     "output_type": "stream",
     "text": [
      "Saving 6.67 x 6.67 in image\n",
      "\n"
     ]
    },
    {
     "name": "stdout",
     "output_type": "stream",
     "text": [
      "Simple feature collection with 1 feature and 3 fields\n",
      "Geometry type: POLYGON\n",
      "Dimension:     XY\n",
      "Bounding box:  xmin: -149.2539 ymin: 63.87673 xmax: -149.2539 ymax: 63.87674\n",
      "Geodetic CRS:  GCS_unknown\n",
      "   CLASS_NAME CLASS_ID CLASS_CLRS                       geometry\n",
      "4 Eightmile50        6  255,0,255 POLYGON ((-149.2539 63.8767...\n"
     ]
    },
    {
     "name": "stderr",
     "output_type": "stream",
     "text": [
      "Saving 6.67 x 6.67 in image\n",
      "\n"
     ]
    },
    {
     "name": "stdout",
     "output_type": "stream",
     "text": [
      "Simple feature collection with 1 feature and 3 fields\n",
      "Geometry type: POLYGON\n",
      "Dimension:     XY\n",
      "Bounding box:  xmin: -149.2541 ymin: 63.87672 xmax: -149.254 ymax: 63.87673\n",
      "Geodetic CRS:  GCS_unknown\n",
      "   CLASS_NAME CLASS_ID CLASS_CLRS                       geometry\n",
      "5 Eightmile40        5  0,255,255 POLYGON ((-149.254 63.87673...\n"
     ]
    },
    {
     "name": "stderr",
     "output_type": "stream",
     "text": [
      "Saving 6.67 x 6.67 in image\n",
      "\n"
     ]
    },
    {
     "name": "stdout",
     "output_type": "stream",
     "text": [
      "Simple feature collection with 1 feature and 3 fields\n",
      "Geometry type: POLYGON\n",
      "Dimension:     XY\n",
      "Bounding box:  xmin: -149.2543 ymin: 63.87671 xmax: -149.2542 ymax: 63.87672\n",
      "Geodetic CRS:  GCS_unknown\n",
      "   CLASS_NAME CLASS_ID CLASS_CLRS                       geometry\n",
      "6 Eightmile30        4  255,255,0 POLYGON ((-149.2542 63.8767...\n"
     ]
    },
    {
     "name": "stderr",
     "output_type": "stream",
     "text": [
      "Saving 6.67 x 6.67 in image\n",
      "\n"
     ]
    },
    {
     "name": "stdout",
     "output_type": "stream",
     "text": [
      "Simple feature collection with 1 feature and 3 fields\n",
      "Geometry type: POLYGON\n",
      "Dimension:     XY\n",
      "Bounding box:  xmin: -149.2545 ymin: 63.87669 xmax: -149.2544 ymax: 63.8767\n",
      "Geodetic CRS:  GCS_unknown\n",
      "   CLASS_NAME CLASS_ID CLASS_CLRS                       geometry\n",
      "7 Eightmile20        3    0,0,255 POLYGON ((-149.2544 63.8767...\n"
     ]
    },
    {
     "name": "stderr",
     "output_type": "stream",
     "text": [
      "Saving 6.67 x 6.67 in image\n",
      "\n"
     ]
    },
    {
     "name": "stdout",
     "output_type": "stream",
     "text": [
      "Simple feature collection with 1 feature and 3 fields\n",
      "Geometry type: POLYGON\n",
      "Dimension:     XY\n",
      "Bounding box:  xmin: -149.2529 ymin: 63.87685 xmax: -149.2529 ymax: 63.87686\n",
      "Geodetic CRS:  GCS_unknown\n",
      "    CLASS_NAME CLASS_ID CLASS_CLRS                       geometry\n",
      "8 Eightmile100       11    0,255,0 POLYGON ((-149.2529 63.8768...\n"
     ]
    },
    {
     "name": "stderr",
     "output_type": "stream",
     "text": [
      "Saving 6.67 x 6.67 in image\n",
      "\n"
     ]
    },
    {
     "name": "stdout",
     "output_type": "stream",
     "text": [
      "Simple feature collection with 1 feature and 3 fields\n",
      "Geometry type: POLYGON\n",
      "Dimension:     XY\n",
      "Bounding box:  xmin: -149.2531 ymin: 63.87682 xmax: -149.2531 ymax: 63.87684\n",
      "Geodetic CRS:  GCS_unknown\n",
      "   CLASS_NAME CLASS_ID CLASS_CLRS                       geometry\n",
      "9 Eightmile90       10    128,0,0 POLYGON ((-149.2531 63.8768...\n"
     ]
    },
    {
     "name": "stderr",
     "output_type": "stream",
     "text": [
      "Saving 6.67 x 6.67 in image\n",
      "\n"
     ]
    },
    {
     "name": "stdout",
     "output_type": "stream",
     "text": [
      "Simple feature collection with 1 feature and 3 fields\n",
      "Geometry type: POLYGON\n",
      "Dimension:     XY\n",
      "Bounding box:  xmin: -149.2533 ymin: 63.8768 xmax: -149.2533 ymax: 63.87681\n",
      "Geodetic CRS:  GCS_unknown\n",
      "    CLASS_NAME CLASS_ID CLASS_CLRS                       geometry\n",
      "10 Eightmile80        9  255,255,0 POLYGON ((-149.2533 63.8768...\n"
     ]
    },
    {
     "name": "stderr",
     "output_type": "stream",
     "text": [
      "Saving 6.67 x 6.67 in image\n",
      "\n"
     ]
    },
    {
     "name": "stdout",
     "output_type": "stream",
     "text": [
      "Simple feature collection with 1 feature and 3 fields\n",
      "Geometry type: POLYGON\n",
      "Dimension:     XY\n",
      "Bounding box:  xmin: -149.2535 ymin: 63.87678 xmax: -149.2535 ymax: 63.87679\n",
      "Geodetic CRS:  GCS_unknown\n",
      "    CLASS_NAME CLASS_ID CLASS_CLRS                       geometry\n",
      "11 Eightmile70        8  0,128,128 POLYGON ((-149.2535 63.8767...\n"
     ]
    },
    {
     "name": "stderr",
     "output_type": "stream",
     "text": [
      "Saving 6.67 x 6.67 in image\n",
      "\n",
      "Saving 6.67 x 6.67 in image\n",
      "\n",
      "Saving 6.67 x 6.67 in image\n",
      "\n",
      "Saving 6.67 x 6.67 in image\n",
      "\n",
      "Saving 6.67 x 6.67 in image\n",
      "\n",
      "Saving 6.67 x 6.67 in image\n",
      "\n",
      "Saving 6.67 x 6.67 in image\n",
      "\n",
      "Saving 6.67 x 6.67 in image\n",
      "\n",
      "Saving 6.67 x 6.67 in image\n",
      "\n",
      "Saving 6.67 x 6.67 in image\n",
      "\n",
      "Saving 6.67 x 6.67 in image\n",
      "\n",
      "Saving 6.67 x 6.67 in image\n",
      "\n"
     ]
    },
    {
     "name": "stdout",
     "output_type": "stream",
     "text": [
      "[1] \"preprocessing raster at Data/Ground_Validation/Imagery/MurphDomeQuads0_10.envi\"\n",
      "[1] \"Converted to Data frame?\"\n",
      "[1] TRUE\n",
      "[1] \"Noisy columns removed\"\n",
      "[1] TRUE\n",
      "[1] \"Filtered\"\n",
      "[1] TRUE\n"
     ]
    },
    {
     "name": "stderr",
     "output_type": "stream",
     "text": [
      "Using spline to predict value at new bands...\n",
      "\n",
      "Beware the spectra are now partially smoothed.\n",
      "\n"
     ]
    },
    {
     "name": "stdout",
     "output_type": "stream",
     "text": [
      "[1] \"Imputing...\"\n",
      "[1] \"Handling Outliers with method: none\"\n",
      "[1] \"Transforming the data with transform: none\"\n",
      "          x       y z\n",
      "1 -148.3535 64.9538 2\n",
      "2 -148.3535 64.9538 2\n",
      "3 -148.3535 64.9538 2\n",
      "4 -148.3535 64.9538 2\n",
      "5 -148.3535 64.9538 2\n",
      "6 -148.3535 64.9538 2\n",
      "          x       y z\n",
      "1 -148.3535 64.9538 2\n",
      "2 -148.3535 64.9538 2\n",
      "3 -148.3535 64.9538 2\n",
      "4 -148.3535 64.9538 2\n",
      "5 -148.3535 64.9538 2\n",
      "6 -148.3535 64.9538 2\n",
      "[1] \"Attempting to save to ./validation_saved_output.grd\"\n",
      "[1] \"Converted to Raster\"\n",
      "Reading layer `MurphyQuads0_10m' from data source \n",
      "  `/home/krbundy/GitHub/lecospec/Data/Vectors/MurphyQuads0_10m.shp' \n",
      "  using driver `ESRI Shapefile'\n",
      "Simple feature collection with 2 features and 3 fields\n",
      "Geometry type: POLYGON\n",
      "Dimension:     XY\n",
      "Bounding box:  xmin: -148.3535 ymin: 64.95372 xmax: -148.3533 ymax: 64.9538\n",
      "Geodetic CRS:  WGS 84\n",
      "Simple feature collection with 1 feature and 3 fields\n",
      "Geometry type: POLYGON\n",
      "Dimension:     XY\n",
      "Bounding box:  xmin: -148.3535 ymin: 64.95379 xmax: -148.3535 ymax: 64.9538\n",
      "Geodetic CRS:  GCS_unknown\n",
      "    CLASS_NAME CLASS_ID CLASS_CLRS                       geometry\n",
      "1 Murphydome10        1    0,0,255 POLYGON ((-148.3535 64.9538...\n"
     ]
    },
    {
     "name": "stderr",
     "output_type": "stream",
     "text": [
      "Saving 6.67 x 6.67 in image\n",
      "\n"
     ]
    },
    {
     "name": "stdout",
     "output_type": "stream",
     "text": [
      "Simple feature collection with 1 feature and 3 fields\n",
      "Geometry type: POLYGON\n",
      "Dimension:     XY\n",
      "Bounding box:  xmin: -148.3534 ymin: 64.95372 xmax: -148.3533 ymax: 64.95373\n",
      "Geodetic CRS:  GCS_unknown\n",
      "   CLASS_NAME CLASS_ID CLASS_CLRS                       geometry\n",
      "2 Murphydome0        2    0,128,0 POLYGON ((-148.3534 64.9537...\n"
     ]
    },
    {
     "name": "stderr",
     "output_type": "stream",
     "text": [
      "Saving 6.67 x 6.67 in image\n",
      "\n",
      "Saving 6.67 x 6.67 in image\n",
      "\n",
      "Saving 6.67 x 6.67 in image\n",
      "\n"
     ]
    },
    {
     "name": "stdout",
     "output_type": "stream",
     "text": [
      "[1] \"preprocessing raster at Data/Ground_Validation/Imagery/MurphDomeQuads20_50.envi\"\n",
      "[1] \"Converted to Data frame?\"\n",
      "[1] TRUE\n",
      "[1] \"Noisy columns removed\"\n",
      "[1] TRUE\n",
      "[1] \"Filtered\"\n",
      "[1] TRUE\n"
     ]
    },
    {
     "name": "stderr",
     "output_type": "stream",
     "text": [
      "Using spline to predict value at new bands...\n",
      "\n",
      "Beware the spectra are now partially smoothed.\n",
      "\n"
     ]
    },
    {
     "name": "stdout",
     "output_type": "stream",
     "text": [
      "[1] \"Imputing...\"\n",
      "[1] \"Handling Outliers with method: none\"\n",
      "[1] \"Transforming the data with transform: none\"\n",
      "          x        y z\n",
      "1 -148.3540 64.95407 2\n",
      "2 -148.3541 64.95407 2\n",
      "3 -148.3540 64.95407 2\n",
      "4 -148.3540 64.95407 2\n",
      "5 -148.3541 64.95407 2\n",
      "6 -148.3541 64.95407 2\n",
      "          x        y z\n",
      "1 -148.3540 64.95407 2\n",
      "2 -148.3541 64.95407 2\n",
      "3 -148.3540 64.95407 2\n",
      "4 -148.3540 64.95407 2\n",
      "5 -148.3541 64.95407 2\n",
      "6 -148.3541 64.95407 2\n",
      "[1] \"Attempting to save to ./validation_saved_output.grd\"\n",
      "[1] \"Converted to Raster\"\n",
      "Reading layer `MurphyQuads20_50m' from data source \n",
      "  `/home/krbundy/GitHub/lecospec/Data/Vectors/MurphyQuads20_50m.shp' \n",
      "  using driver `ESRI Shapefile'\n",
      "Simple feature collection with 4 features and 3 fields\n",
      "Geometry type: POLYGON\n",
      "Dimension:     XY\n",
      "Bounding box:  xmin: -148.3541 ymin: 64.95384 xmax: -148.3536 ymax: 64.95407\n",
      "Geodetic CRS:  WGS 84\n",
      "Simple feature collection with 1 feature and 3 fields\n",
      "Geometry type: POLYGON\n",
      "Dimension:     XY\n",
      "Bounding box:  xmin: -148.3541 ymin: 64.95406 xmax: -148.354 ymax: 64.95407\n",
      "Geodetic CRS:  GCS_unknown\n",
      "    CLASS_NAME CLASS_ID CLASS_CLRS                       geometry\n",
      "1 Murphydome50        1  128,128,0 POLYGON ((-148.354 64.95407...\n"
     ]
    },
    {
     "name": "stderr",
     "output_type": "stream",
     "text": [
      "Saving 6.67 x 6.67 in image\n",
      "\n"
     ]
    },
    {
     "name": "stdout",
     "output_type": "stream",
     "text": [
      "Simple feature collection with 1 feature and 3 fields\n",
      "Geometry type: POLYGON\n",
      "Dimension:     XY\n",
      "Bounding box:  xmin: -148.3539 ymin: 64.95399 xmax: -148.3539 ymax: 64.954\n",
      "Geodetic CRS:  GCS_unknown\n",
      "    CLASS_NAME CLASS_ID CLASS_CLRS                       geometry\n",
      "2 Murphydome40        2  255,0,255 POLYGON ((-148.3539 64.954,...\n"
     ]
    },
    {
     "name": "stderr",
     "output_type": "stream",
     "text": [
      "Saving 6.67 x 6.67 in image\n",
      "\n"
     ]
    },
    {
     "name": "stdout",
     "output_type": "stream",
     "text": [
      "Simple feature collection with 1 feature and 3 fields\n",
      "Geometry type: POLYGON\n",
      "Dimension:     XY\n",
      "Bounding box:  xmin: -148.3538 ymin: 64.95392 xmax: -148.3537 ymax: 64.95393\n",
      "Geodetic CRS:  GCS_unknown\n",
      "    CLASS_NAME CLASS_ID CLASS_CLRS                       geometry\n",
      "3 Murphydome30        3  0,255,255 POLYGON ((-148.3538 64.9539...\n"
     ]
    },
    {
     "name": "stderr",
     "output_type": "stream",
     "text": [
      "Saving 6.67 x 6.67 in image\n",
      "\n"
     ]
    },
    {
     "name": "stdout",
     "output_type": "stream",
     "text": [
      "Simple feature collection with 1 feature and 3 fields\n",
      "Geometry type: POLYGON\n",
      "Dimension:     XY\n",
      "Bounding box:  xmin: -148.3537 ymin: 64.95384 xmax: -148.3536 ymax: 64.95386\n",
      "Geodetic CRS:  GCS_unknown\n",
      "    CLASS_NAME CLASS_ID CLASS_CLRS                       geometry\n",
      "4 Murphydome20        4  255,255,0 POLYGON ((-148.3536 64.9538...\n"
     ]
    },
    {
     "name": "stderr",
     "output_type": "stream",
     "text": [
      "Saving 6.67 x 6.67 in image\n",
      "\n",
      "Saving 6.67 x 6.67 in image\n",
      "\n",
      "Saving 6.67 x 6.67 in image\n",
      "\n",
      "Saving 6.67 x 6.67 in image\n",
      "\n",
      "Saving 6.67 x 6.67 in image\n",
      "\n"
     ]
    },
    {
     "name": "stdout",
     "output_type": "stream",
     "text": [
      "[1] \"preprocessing raster at Data/Ground_Validation/Imagery/MurphDomeQuads60_100.envi\"\n",
      "[1] \"Converted to Data frame?\"\n",
      "[1] TRUE\n",
      "[1] \"Noisy columns removed\"\n",
      "[1] TRUE\n",
      "[1] \"Filtered\"\n",
      "[1] TRUE\n"
     ]
    },
    {
     "name": "stderr",
     "output_type": "stream",
     "text": [
      "Using spline to predict value at new bands...\n",
      "\n",
      "Beware the spectra are now partially smoothed.\n",
      "\n"
     ]
    },
    {
     "name": "stdout",
     "output_type": "stream",
     "text": [
      "[1] \"Imputing...\"\n",
      "[1] \"Handling Outliers with method: none\"\n",
      "[1] \"Transforming the data with transform: none\"\n",
      "          x        y z\n",
      "1 -148.3548 64.95441 6\n",
      "2 -148.3548 64.95441 4\n",
      "3 -148.3548 64.95441 6\n",
      "4 -148.3548 64.95441 6\n",
      "5 -148.3548 64.95441 4\n",
      "6 -148.3548 64.95441 6\n",
      "          x        y z\n",
      "1 -148.3548 64.95441 6\n",
      "2 -148.3548 64.95441 4\n",
      "3 -148.3548 64.95441 6\n",
      "4 -148.3548 64.95441 6\n",
      "5 -148.3548 64.95441 4\n",
      "6 -148.3548 64.95441 6\n",
      "[1] \"Attempting to save to ./validation_saved_output.grd\"\n",
      "[1] \"Converted to Raster\"\n",
      "Reading layer `MurphyQuads60_100m' from data source \n",
      "  `/home/krbundy/GitHub/lecospec/Data/Vectors/MurphyQuads60_100m.shp' \n",
      "  using driver `ESRI Shapefile'\n",
      "Simple feature collection with 5 features and 3 fields\n",
      "Geometry type: POLYGON\n",
      "Dimension:     XY\n",
      "Bounding box:  xmin: -148.3548 ymin: 64.95413 xmax: -148.3542 ymax: 64.95441\n",
      "Geodetic CRS:  WGS 84\n",
      "Simple feature collection with 1 feature and 3 fields\n",
      "Geometry type: POLYGON\n",
      "Dimension:     XY\n",
      "Bounding box:  xmin: -148.3548 ymin: 64.9544 xmax: -148.3547 ymax: 64.95441\n",
      "Geodetic CRS:  GCS_unknown\n",
      "     CLASS_NAME CLASS_ID CLASS_CLRS                       geometry\n",
      "1 Murphydome100        1 255,127,80 POLYGON ((-148.3548 64.9544...\n"
     ]
    },
    {
     "name": "stderr",
     "output_type": "stream",
     "text": [
      "Saving 6.67 x 6.67 in image\n",
      "\n"
     ]
    },
    {
     "name": "stdout",
     "output_type": "stream",
     "text": [
      "Simple feature collection with 1 feature and 3 fields\n",
      "Geometry type: POLYGON\n",
      "Dimension:     XY\n",
      "Bounding box:  xmin: -148.3546 ymin: 64.95433 xmax: -148.3546 ymax: 64.95434\n",
      "Geodetic CRS:  GCS_unknown\n",
      "    CLASS_NAME CLASS_ID CLASS_CLRS                       geometry\n",
      "2 Murphydome90        2    0,0,128 POLYGON ((-148.3546 64.9543...\n"
     ]
    },
    {
     "name": "stderr",
     "output_type": "stream",
     "text": [
      "Saving 6.67 x 6.67 in image\n",
      "\n"
     ]
    },
    {
     "name": "stdout",
     "output_type": "stream",
     "text": [
      "Simple feature collection with 1 feature and 3 fields\n",
      "Geometry type: POLYGON\n",
      "Dimension:     XY\n",
      "Bounding box:  xmin: -148.3545 ymin: 64.95426 xmax: -148.3544 ymax: 64.95427\n",
      "Geodetic CRS:  GCS_unknown\n",
      "    CLASS_NAME CLASS_ID CLASS_CLRS                       geometry\n",
      "3 Murphydome80        3    0,255,0 POLYGON ((-148.3545 64.9542...\n"
     ]
    },
    {
     "name": "stderr",
     "output_type": "stream",
     "text": [
      "Saving 6.67 x 6.67 in image\n",
      "\n"
     ]
    },
    {
     "name": "stdout",
     "output_type": "stream",
     "text": [
      "Simple feature collection with 1 feature and 3 fields\n",
      "Geometry type: POLYGON\n",
      "Dimension:     XY\n",
      "Bounding box:  xmin: -148.3543 ymin: 64.95419 xmax: -148.3543 ymax: 64.9542\n",
      "Geodetic CRS:  GCS_unknown\n",
      "    CLASS_NAME CLASS_ID CLASS_CLRS                       geometry\n",
      "4 Murphydome70        4    128,0,0 POLYGON ((-148.3543 64.9542...\n"
     ]
    },
    {
     "name": "stderr",
     "output_type": "stream",
     "text": [
      "Saving 6.67 x 6.67 in image\n",
      "\n"
     ]
    },
    {
     "name": "stdout",
     "output_type": "stream",
     "text": [
      "Simple feature collection with 1 feature and 3 fields\n",
      "Geometry type: POLYGON\n",
      "Dimension:     XY\n",
      "Bounding box:  xmin: -148.3542 ymin: 64.95413 xmax: -148.3542 ymax: 64.95414\n",
      "Geodetic CRS:  GCS_unknown\n",
      "    CLASS_NAME CLASS_ID CLASS_CLRS                       geometry\n",
      "5 Murphydome60        5  0,128,128 POLYGON ((-148.3542 64.9541...\n"
     ]
    },
    {
     "name": "stderr",
     "output_type": "stream",
     "text": [
      "Saving 6.67 x 6.67 in image\n",
      "\n",
      "Saving 6.67 x 6.67 in image\n",
      "\n",
      "Saving 6.67 x 6.67 in image\n",
      "\n",
      "Saving 6.67 x 6.67 in image\n",
      "\n",
      "Saving 6.67 x 6.67 in image\n",
      "\n",
      "Saving 6.67 x 6.67 in image\n",
      "\n"
     ]
    },
    {
     "name": "stdout",
     "output_type": "stream",
     "text": [
      "[1] \"preprocessing raster at Data/Ground_Validation/Imagery/BonanzaQuads.envi\"\n",
      "[1] \"Converted to Data frame?\"\n",
      "[1] TRUE\n",
      "[1] \"Noisy columns removed\"\n",
      "[1] TRUE\n",
      "[1] \"Filtered\"\n",
      "[1] TRUE\n"
     ]
    },
    {
     "name": "stderr",
     "output_type": "stream",
     "text": [
      "Using spline to predict value at new bands...\n",
      "\n",
      "Beware the spectra are now partially smoothed.\n",
      "\n"
     ]
    },
    {
     "name": "stdout",
     "output_type": "stream",
     "text": [
      "[1] \"Imputing...\"\n",
      "[1] \"Handling Outliers with method: none\"\n",
      "[1] \"Transforming the data with transform: none\"\n",
      "          x        y z\n",
      "1 -148.2962 64.70435 4\n",
      "2 -148.2962 64.70435 6\n",
      "3 -148.2962 64.70435 2\n",
      "4 -148.2962 64.70435 4\n",
      "5 -148.2962 64.70435 4\n",
      "6 -148.2962 64.70435 6\n",
      "          x        y z\n",
      "1 -148.2962 64.70435 4\n",
      "2 -148.2962 64.70435 6\n",
      "3 -148.2962 64.70435 2\n",
      "4 -148.2962 64.70435 4\n",
      "5 -148.2962 64.70435 4\n",
      "6 -148.2962 64.70435 6\n",
      "[1] \"Attempting to save to ./validation_saved_output.grd\"\n",
      "[1] \"Converted to Raster\"\n",
      "Reading layer `Bonanza_N_Quads' from data source \n",
      "  `/home/krbundy/GitHub/lecospec/Data/Vectors/Bonanza_N_Quads.shp' \n",
      "  using driver `ESRI Shapefile'\n",
      "Simple feature collection with 11 features and 3 fields\n",
      "Geometry type: POLYGON\n",
      "Dimension:     XY\n",
      "Bounding box:  xmin: 438153.7 ymin: 7176051 xmax: 438205.6 ymax: 7176138\n",
      "Projected CRS: WGS 84 / UTM zone 6N\n",
      "Simple feature collection with 1 feature and 3 fields\n",
      "Geometry type: POLYGON\n",
      "Dimension:     XY\n",
      "Bounding box:  xmin: -148.2966 ymin: 64.70403 xmax: -148.2966 ymax: 64.70404\n",
      "Geodetic CRS:  GCS_unknown\n",
      "  CLASS_NAME CLASS_ID CLASS_CLRS                       geometry\n",
      "1  Bonanza60        7    128,0,0 POLYGON ((-148.2966 64.7040...\n"
     ]
    },
    {
     "name": "stderr",
     "output_type": "stream",
     "text": [
      "Saving 6.67 x 6.67 in image\n",
      "\n"
     ]
    },
    {
     "name": "stdout",
     "output_type": "stream",
     "text": [
      "Simple feature collection with 1 feature and 3 fields\n",
      "Geometry type: POLYGON\n",
      "Dimension:     XY\n",
      "Bounding box:  xmin: -148.2962 ymin: 64.70434 xmax: -148.2962 ymax: 64.70435\n",
      "Geodetic CRS:  GCS_unknown\n",
      "  CLASS_NAME CLASS_ID CLASS_CLRS                       geometry\n",
      "2 Bonanza100       11  127,255,0 POLYGON ((-148.2962 64.7043...\n"
     ]
    },
    {
     "name": "stderr",
     "output_type": "stream",
     "text": [
      "Saving 6.67 x 6.67 in image\n",
      "\n"
     ]
    },
    {
     "name": "stdout",
     "output_type": "stream",
     "text": [
      "Simple feature collection with 1 feature and 3 fields\n",
      "Geometry type: POLYGON\n",
      "Dimension:     XY\n",
      "Bounding box:  xmin: -148.2963 ymin: 64.70426 xmax: -148.2963 ymax: 64.70428\n",
      "Geodetic CRS:  GCS_unknown\n",
      "  CLASS_NAME CLASS_ID CLASS_CLRS                       geometry\n",
      "3  Bonanza90       10 255,127,80 POLYGON ((-148.2963 64.7042...\n"
     ]
    },
    {
     "name": "stderr",
     "output_type": "stream",
     "text": [
      "Saving 6.67 x 6.67 in image\n",
      "\n"
     ]
    },
    {
     "name": "stdout",
     "output_type": "stream",
     "text": [
      "Simple feature collection with 1 feature and 3 fields\n",
      "Geometry type: POLYGON\n",
      "Dimension:     XY\n",
      "Bounding box:  xmin: -148.2964 ymin: 64.70418 xmax: -148.2964 ymax: 64.7042\n",
      "Geodetic CRS:  GCS_unknown\n",
      "  CLASS_NAME CLASS_ID CLASS_CLRS                       geometry\n",
      "4  Bonanza80        9    0,0,128 POLYGON ((-148.2964 64.7042...\n"
     ]
    },
    {
     "name": "stderr",
     "output_type": "stream",
     "text": [
      "Saving 6.67 x 6.67 in image\n",
      "\n"
     ]
    },
    {
     "name": "stdout",
     "output_type": "stream",
     "text": [
      "Simple feature collection with 1 feature and 3 fields\n",
      "Geometry type: POLYGON\n",
      "Dimension:     XY\n",
      "Bounding box:  xmin: -148.2967 ymin: 64.70395 xmax: -148.2967 ymax: 64.70396\n",
      "Geodetic CRS:  GCS_unknown\n",
      "  CLASS_NAME CLASS_ID CLASS_CLRS                       geometry\n",
      "5  Bonanza50        6  255,0,255 POLYGON ((-148.2967 64.7039...\n"
     ]
    },
    {
     "name": "stderr",
     "output_type": "stream",
     "text": [
      "Saving 6.67 x 6.67 in image\n",
      "\n"
     ]
    },
    {
     "name": "stdout",
     "output_type": "stream",
     "text": [
      "Simple feature collection with 1 feature and 3 fields\n",
      "Geometry type: POLYGON\n",
      "Dimension:     XY\n",
      "Bounding box:  xmin: -148.2968 ymin: 64.70387 xmax: -148.2968 ymax: 64.70388\n",
      "Geodetic CRS:  GCS_unknown\n",
      "  CLASS_NAME CLASS_ID CLASS_CLRS                       geometry\n",
      "6  Bonanza40        5  0,255,255 POLYGON ((-148.2968 64.7038...\n"
     ]
    },
    {
     "name": "stderr",
     "output_type": "stream",
     "text": [
      "Saving 6.67 x 6.67 in image\n",
      "\n"
     ]
    },
    {
     "name": "stdout",
     "output_type": "stream",
     "text": [
      "Simple feature collection with 1 feature and 3 fields\n",
      "Geometry type: POLYGON\n",
      "Dimension:     XY\n",
      "Bounding box:  xmin: -148.2969 ymin: 64.70379 xmax: -148.2969 ymax: 64.7038\n",
      "Geodetic CRS:  GCS_unknown\n",
      "  CLASS_NAME CLASS_ID CLASS_CLRS                       geometry\n",
      "7  Bonanza30        4  255,255,0 POLYGON ((-148.2969 64.7038...\n"
     ]
    },
    {
     "name": "stderr",
     "output_type": "stream",
     "text": [
      "Saving 6.67 x 6.67 in image\n",
      "\n"
     ]
    },
    {
     "name": "stdout",
     "output_type": "stream",
     "text": [
      "Simple feature collection with 1 feature and 3 fields\n",
      "Geometry type: POLYGON\n",
      "Dimension:     XY\n",
      "Bounding box:  xmin: -148.297 ymin: 64.70371 xmax: -148.297 ymax: 64.70373\n",
      "Geodetic CRS:  GCS_unknown\n",
      "  CLASS_NAME CLASS_ID CLASS_CLRS                       geometry\n",
      "8  Bonanza20        3    0,0,255 POLYGON ((-148.297 64.70373...\n"
     ]
    },
    {
     "name": "stderr",
     "output_type": "stream",
     "text": [
      "Saving 6.67 x 6.67 in image\n",
      "\n"
     ]
    },
    {
     "name": "stdout",
     "output_type": "stream",
     "text": [
      "Simple feature collection with 1 feature and 3 fields\n",
      "Geometry type: POLYGON\n",
      "Dimension:     XY\n",
      "Bounding box:  xmin: -148.2971 ymin: 64.70364 xmax: -148.2971 ymax: 64.70365\n",
      "Geodetic CRS:  GCS_unknown\n",
      "  CLASS_NAME CLASS_ID CLASS_CLRS                       geometry\n",
      "9  Bonanza10        2    0,128,0 POLYGON ((-148.2971 64.7036...\n"
     ]
    },
    {
     "name": "stderr",
     "output_type": "stream",
     "text": [
      "Saving 6.67 x 6.67 in image\n",
      "\n"
     ]
    },
    {
     "name": "stdout",
     "output_type": "stream",
     "text": [
      "Simple feature collection with 1 feature and 3 fields\n",
      "Geometry type: POLYGON\n",
      "Dimension:     XY\n",
      "Bounding box:  xmin: -148.2972 ymin: 64.70356 xmax: -148.2972 ymax: 64.70357\n",
      "Geodetic CRS:  GCS_unknown\n",
      "   CLASS_NAME CLASS_ID CLASS_CLRS                       geometry\n",
      "10   Bonanza0        1    255,0,0 POLYGON ((-148.2972 64.7035...\n"
     ]
    },
    {
     "name": "stderr",
     "output_type": "stream",
     "text": [
      "Saving 6.67 x 6.67 in image\n",
      "\n"
     ]
    },
    {
     "name": "stdout",
     "output_type": "stream",
     "text": [
      "Simple feature collection with 1 feature and 3 fields\n",
      "Geometry type: POLYGON\n",
      "Dimension:     XY\n",
      "Bounding box:  xmin: -148.2965 ymin: 64.70411 xmax: -148.2965 ymax: 64.70412\n",
      "Geodetic CRS:  GCS_unknown\n",
      "   CLASS_NAME CLASS_ID CLASS_CLRS                       geometry\n",
      "11  Bonanza70        8    0,255,0 POLYGON ((-148.2965 64.7041...\n"
     ]
    },
    {
     "name": "stderr",
     "output_type": "stream",
     "text": [
      "Saving 6.67 x 6.67 in image\n",
      "\n",
      "Saving 6.67 x 6.67 in image\n",
      "\n",
      "Saving 6.67 x 6.67 in image\n",
      "\n",
      "Saving 6.67 x 6.67 in image\n",
      "\n",
      "Saving 6.67 x 6.67 in image\n",
      "\n",
      "Saving 6.67 x 6.67 in image\n",
      "\n",
      "Saving 6.67 x 6.67 in image\n",
      "\n",
      "Saving 6.67 x 6.67 in image\n",
      "\n",
      "Saving 6.67 x 6.67 in image\n",
      "\n",
      "Saving 6.67 x 6.67 in image\n",
      "\n",
      "Saving 6.67 x 6.67 in image\n",
      "\n",
      "Saving 6.67 x 6.67 in image\n",
      "\n"
     ]
    }
   ],
   "source": [
    "#for(i in seq(nrow(model_index))){\n",
    "    #i <- 17\n",
    "    #sink(NULL)\n",
    "    #sink(file = \"./gs_validation.log\", append = TRUE)\n",
    "    \n",
    "    id <-\"f6cdee94-d3f5-43b5-8315-a26553785d0e\" #model_index[i,\"model_id\"]\n",
    "    model <- load_model(\n",
    "        paste0(\"mle/models/gs/\", id, \".rda\")\n",
    "    )\n",
    "\n",
    "    print(id)\n",
    "\n",
    "\n",
    "    save_path <- paste0(\"mle/experiments/gs/\", id, \"/\")\n",
    "    #print(names(model))\n",
    "    #print(model)\n",
    "    if(!dir.exists(save_path)){\n",
    "        dir.create(save_path)\n",
    "    } \n",
    "    #print(quadrats[[3]])\n",
    "    # keep the notebook tidy by writing the out\n",
    "    #print(id)\n",
    "    results <- validate_model(\n",
    "        model, \n",
    "        save_path, \n",
    "        outlier_processing = \"none\",\n",
    "        transform_type = \"none\",\n",
    "        cluster = NULL)\n",
    "    aggregated_results <- aggregate_results(save_path)\n",
    "\n",
    "    plot_by_pft(\n",
    "        aggregated_results,\n",
    "        save_path = paste0(save_path, \"aggregate.html\"),\n",
    "        open = FALSE\n",
    "    )\n",
    "#\n",
    "    write_validation_table(\n",
    "        aggregated_results,\n",
    "        save_path = paste0(save_path, \"table.html\"),\n",
    "        open = FALSE\n",
    "    )\n",
    "\n",
    "    #sink(NULL)\n",
    "#}"
   ]
  },
  {
   "cell_type": "code",
   "execution_count": null,
   "metadata": {
    "vscode": {
     "languageId": "r"
    }
   },
   "outputs": [],
   "source": []
  }
 ],
 "metadata": {
  "kernelspec": {
   "display_name": "R",
   "language": "R",
   "name": "ir"
  },
  "language_info": {
   "codemirror_mode": "r",
   "file_extension": ".r",
   "mimetype": "text/x-r-source",
   "name": "R",
   "pygments_lexer": "r",
   "version": "4.2.2"
  },
  "orig_nbformat": 4,
  "vscode": {
   "interpreter": {
    "hash": "e7370f93d1d0cde622a1f8e1c04877d8463912d04d973331ad4851f04de6915a"
   }
  }
 },
 "nbformat": 4,
 "nbformat_minor": 2
}
