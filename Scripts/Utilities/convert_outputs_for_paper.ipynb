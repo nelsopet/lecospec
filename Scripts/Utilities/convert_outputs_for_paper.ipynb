{
 "cells": [
  {
   "cell_type": "code",
   "execution_count": 14,
   "metadata": {
    "vscode": {
     "languageId": "r"
    }
   },
   "outputs": [
    {
     "name": "stderr",
     "output_type": "stream",
     "text": [
      "Loading required package: rasterVis\n",
      "\n",
      "Warning message:\n",
      "“version 0.22.5 of ‘lattice’ masked by 0.21.8 in /home/krbundy/R/x86_64-pc-linux-gnu-library/4.3”\n"
     ]
    }
   ],
   "source": [
    "if(!dir.exists(\"./Functions\")){\n",
    "    setwd(\"../\")\n",
    "    if(!dir.exists(\"./Functions\")){\n",
    "        setwd(\"../\")\n",
    "    }\n",
    "}\n",
    "source(\"Functions/lecospectR.R\")"
   ]
  },
  {
   "cell_type": "code",
   "execution_count": 15,
   "metadata": {
    "vscode": {
     "languageId": "r"
    }
   },
   "outputs": [],
   "source": [
    "bg_path <- \"Output/GridSearchFullDataCubePredictionsTIF/bg_1511_Adaboost_e5f4742be5ce.tif\"\n",
    "ca_path <- \"Output/GridSearchFullDataCubePredictionsTIF/ch_0_Adaboost_e5f4742be5ce.tif\"\n",
    "em_path <- \"Output/GridSearchFullDataCubePredictionsTIF/em_5968_Adaboost_e5f4742be5ce.tif\"\n",
    "bz_path <- \"Output/GridSearchFullDataCubePredictionsTIF/bz_6425_Adaboost_e5f4742be5ce.tif\""
   ]
  },
  {
   "cell_type": "code",
   "execution_count": 16,
   "metadata": {
    "vscode": {
     "languageId": "r"
    }
   },
   "outputs": [],
   "source": [
    "paths <- c(\n",
    "    bg_path,\n",
    "    ca_path,\n",
    "    em_path,\n",
    "    bz_path\n",
    ")\n",
    "\n",
    "save_paths <- c(\n",
    "    \"figures/converted/bg.jpg\",\n",
    "    \"figures/converted/ch.jpg\",\n",
    "    \"figures/converted/em.jpg\",\n",
    "    \"figures/converted/bz.jpg\"\n",
    ")"
   ]
  },
  {
   "cell_type": "code",
   "execution_count": 17,
   "metadata": {
    "vscode": {
     "languageId": "r"
    }
   },
   "outputs": [],
   "source": [
    "plt_opts <- define_plot_options(\n",
    "    title = \"\",\n",
    "    xLabel = \"\",\n",
    "    yLabel = \"\"\n",
    ")"
   ]
  },
  {
   "cell_type": "code",
   "execution_count": null,
   "metadata": {
    "vscode": {
     "languageId": "r"
    }
   },
   "outputs": [],
   "source": []
  },
  {
   "cell_type": "code",
   "execution_count": 18,
   "metadata": {
    "vscode": {
     "languageId": "r"
    }
   },
   "outputs": [],
   "source": [
    "for(i in seq_along(paths)){\n",
    "\n",
    "    predictions <- raster::raster(paths[[i]])\n",
    "    plt <- plot_categorical_raster(\n",
    "        change_prediction_aggregation(predictions),\n",
    "        plot_options = plt_opts,\n",
    "        use_fg0 = TRUE\n",
    "    )\n",
    "    ggplot2::ggsave(\n",
    "        filename = save_paths[[i]],\n",
    "        plot = plt,\n",
    "        width = 12, \n",
    "        height = 8,\n",
    "        dpi = 180\n",
    "    )\n",
    "}"
   ]
  },
  {
   "cell_type": "code",
   "execution_count": 19,
   "metadata": {
    "vscode": {
     "languageId": "r"
    }
   },
   "outputs": [],
   "source": [
    "for(i in seq_along(paths)){\n",
    "    predictions <- raster::raster(paths[[i]])\n",
    "    png(paste0(\"./test\", i, \".png\"))\n",
    "    plot(change_prediction_aggregation(predictions))\n",
    "    dev.off()\n",
    "}"
   ]
  },
  {
   "cell_type": "code",
   "execution_count": 20,
   "metadata": {
    "vscode": {
     "languageId": "r"
    }
   },
   "outputs": [],
   "source": [
    "X11();plt"
   ]
  }
 ],
 "metadata": {
  "kernelspec": {
   "display_name": "R",
   "language": "R",
   "name": "ir"
  },
  "language_info": {
   "codemirror_mode": "r",
   "file_extension": ".r",
   "mimetype": "text/x-r-source",
   "name": "R",
   "pygments_lexer": "r",
   "version": "4.3.2"
  }
 },
 "nbformat": 4,
 "nbformat_minor": 2
}
