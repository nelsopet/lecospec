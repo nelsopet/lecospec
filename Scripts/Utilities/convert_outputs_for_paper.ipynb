{
 "cells": [
  {
   "cell_type": "code",
   "execution_count": 25,
   "metadata": {
    "vscode": {
     "languageId": "r"
    }
   },
   "outputs": [],
   "source": [
    "if(!dir.exists(\"./Functions\")){\n",
    "    setwd(\"../\")\n",
    "    if(!dir.exists(\"./Functions\")){\n",
    "        setwd(\"../\")\n",
    "    }\n",
    "}\n",
    "source(\"Functions/lecospectR.R\")"
   ]
  },
  {
   "cell_type": "code",
   "execution_count": 26,
   "metadata": {
    "vscode": {
     "languageId": "r"
    }
   },
   "outputs": [],
   "source": [
    "bg_path <- \"Output/GridSearchFullDataCubePredictionsTIF/bg_1511_Adaboost_e5f4742be5ce.tif\"\n",
    "ca_path <- \"Output/GridSearchFullDataCubePredictionsTIF/ch_0_Adaboost_e5f4742be5ce.tif\"\n",
    "em_path <- \"Output/GridSearchFullDataCubePredictionsTIF/em_5968_Adaboost_e5f4742be5ce.tif\"\n",
    "bz_path <- \"Output/GridSearchFullDataCubePredictionsTIF/bz_6425_Adaboost_e5f4742be5ce.tif\""
   ]
  },
  {
   "cell_type": "code",
   "execution_count": 33,
   "metadata": {
    "vscode": {
     "languageId": "r"
    }
   },
   "outputs": [],
   "source": [
    "paths <- c(\n",
    "    bg_path,\n",
    "    ca_path,\n",
    "    em_path,\n",
    "    bz_path\n",
    ")\n",
    "\n",
    "save_paths <- c(\n",
    "    \"figures/converted/bg.png\",\n",
    "    \"figures/converted/ch.png\",\n",
    "    \"figures/converted/em.png\",\n",
    "    \"figures/converted/bz.png\"\n",
    ")"
   ]
  },
  {
   "cell_type": "code",
   "execution_count": 28,
   "metadata": {
    "vscode": {
     "languageId": "r"
    }
   },
   "outputs": [],
   "source": [
    "plt_opts <- define_plot_options(\n",
    "    title = \"\",\n",
    "    xLabel = \"\",\n",
    "    yLabel = \"\"\n",
    ")"
   ]
  },
  {
   "cell_type": "code",
   "execution_count": 34,
   "metadata": {
    "vscode": {
     "languageId": "r"
    }
   },
   "outputs": [
    {
     "name": "stderr",
     "output_type": "stream",
     "text": [
      "Warning message in jpeg(filename = save_paths[[i]], type = \"Xlib\", bg = \"transparent\", :\n",
      "“jpeg() does not support transparency: using white bg”\n",
      "Warning message in jpeg(filename = save_paths[[i]], type = \"Xlib\", bg = \"transparent\", :\n",
      "“jpeg() does not support transparency: using white bg”\n",
      "Warning message in jpeg(filename = save_paths[[i]], type = \"Xlib\", bg = \"transparent\", :\n",
      "“jpeg() does not support transparency: using white bg”\n",
      "Warning message in jpeg(filename = save_paths[[i]], type = \"Xlib\", bg = \"transparent\", :\n",
      "“jpeg() does not support transparency: using white bg”\n"
     ]
    }
   ],
   "source": [
    "for(i in seq_along(paths)){\n",
    "\n",
    "    predictions <- raster::raster(paths[[i]])\n",
    "    png(\n",
    "        filename = save_paths[[i]],\n",
    "        #type = \"Xlib\",\n",
    "        bg = \"transparent\",\n",
    "        width = 4096,\n",
    "        height = 4096\n",
    "        )\n",
    "    plt_result <- plot_categorical_raster(\n",
    "        change_prediction_aggregation(predictions),\n",
    "        plot_options = plt_opts,\n",
    "        use_fg0 = TRUE\n",
    "    )\n",
    "\n",
    "    dev.off()\n",
    "}"
   ]
  }
 ],
 "metadata": {
  "kernelspec": {
   "display_name": "R",
   "language": "R",
   "name": "ir"
  },
  "language_info": {
   "codemirror_mode": "r",
   "file_extension": ".r",
   "mimetype": "text/x-r-source",
   "name": "R",
   "pygments_lexer": "r",
   "version": "4.3.1"
  }
 },
 "nbformat": 4,
 "nbformat_minor": 2
}
