{
 "cells": [
  {
   "cell_type": "code",
   "execution_count": 47,
   "metadata": {},
   "outputs": [],
   "source": [
    "import pandas as pd\n",
    "import matplotlib.pyplot as plt\n",
    "from matplotlib import cm\n",
    "from matplotlib.colors import ListedColormap\n",
    "from pydantic import BaseModel\n",
    "from typing import Optional\n",
    "\n",
    "from sklearn.metrics import explained_variance_score, f1_score\n",
    "from sklearn.linear_model import LinearRegression\n",
    "from sklearn.preprocessing import LabelEncoder\n",
    "\n",
    "%matplotlib inline\n"
   ]
  },
  {
   "cell_type": "code",
   "execution_count": 3,
   "metadata": {},
   "outputs": [
    {
     "data": {
      "text/html": [
       "<div>\n",
       "<style scoped>\n",
       "    .dataframe tbody tr th:only-of-type {\n",
       "        vertical-align: middle;\n",
       "    }\n",
       "\n",
       "    .dataframe tbody tr th {\n",
       "        vertical-align: top;\n",
       "    }\n",
       "\n",
       "    .dataframe thead th {\n",
       "        text-align: right;\n",
       "    }\n",
       "</style>\n",
       "<table border=\"1\" class=\"dataframe\">\n",
       "  <thead>\n",
       "    <tr style=\"text-align: right;\">\n",
       "      <th></th>\n",
       "      <th>Unnamed: 0</th>\n",
       "      <th>X</th>\n",
       "      <th>predicted_counts</th>\n",
       "      <th>prediction_prop</th>\n",
       "      <th>validation_counts</th>\n",
       "      <th>validation_prop</th>\n",
       "    </tr>\n",
       "  </thead>\n",
       "  <tbody>\n",
       "    <tr>\n",
       "      <th>count</th>\n",
       "      <td>520.000000</td>\n",
       "      <td>520.000000</td>\n",
       "      <td>520.000000</td>\n",
       "      <td>520.000000</td>\n",
       "      <td>520.000000</td>\n",
       "      <td>520.000000</td>\n",
       "    </tr>\n",
       "    <tr>\n",
       "      <th>mean</th>\n",
       "      <td>260.500000</td>\n",
       "      <td>5.500000</td>\n",
       "      <td>49.867308</td>\n",
       "      <td>0.100000</td>\n",
       "      <td>49.546231</td>\n",
       "      <td>0.098731</td>\n",
       "    </tr>\n",
       "    <tr>\n",
       "      <th>std</th>\n",
       "      <td>150.255338</td>\n",
       "      <td>2.875047</td>\n",
       "      <td>98.735237</td>\n",
       "      <td>0.193300</td>\n",
       "      <td>86.083829</td>\n",
       "      <td>0.164911</td>\n",
       "    </tr>\n",
       "    <tr>\n",
       "      <th>min</th>\n",
       "      <td>1.000000</td>\n",
       "      <td>1.000000</td>\n",
       "      <td>0.000000</td>\n",
       "      <td>0.000000</td>\n",
       "      <td>0.000000</td>\n",
       "      <td>0.000000</td>\n",
       "    </tr>\n",
       "    <tr>\n",
       "      <th>25%</th>\n",
       "      <td>130.750000</td>\n",
       "      <td>3.000000</td>\n",
       "      <td>0.000000</td>\n",
       "      <td>0.000000</td>\n",
       "      <td>0.000000</td>\n",
       "      <td>0.000000</td>\n",
       "    </tr>\n",
       "    <tr>\n",
       "      <th>50%</th>\n",
       "      <td>260.500000</td>\n",
       "      <td>5.500000</td>\n",
       "      <td>0.000000</td>\n",
       "      <td>0.000000</td>\n",
       "      <td>3.830000</td>\n",
       "      <td>0.010000</td>\n",
       "    </tr>\n",
       "    <tr>\n",
       "      <th>75%</th>\n",
       "      <td>390.250000</td>\n",
       "      <td>8.000000</td>\n",
       "      <td>44.250000</td>\n",
       "      <td>0.089533</td>\n",
       "      <td>70.147500</td>\n",
       "      <td>0.150000</td>\n",
       "    </tr>\n",
       "    <tr>\n",
       "      <th>max</th>\n",
       "      <td>520.000000</td>\n",
       "      <td>10.000000</td>\n",
       "      <td>605.000000</td>\n",
       "      <td>0.891626</td>\n",
       "      <td>640.300000</td>\n",
       "      <td>0.950000</td>\n",
       "    </tr>\n",
       "  </tbody>\n",
       "</table>\n",
       "</div>"
      ],
      "text/plain": [
       "       Unnamed: 0           X  predicted_counts  prediction_prop  \\\n",
       "count  520.000000  520.000000        520.000000       520.000000   \n",
       "mean   260.500000    5.500000         49.867308         0.100000   \n",
       "std    150.255338    2.875047         98.735237         0.193300   \n",
       "min      1.000000    1.000000          0.000000         0.000000   \n",
       "25%    130.750000    3.000000          0.000000         0.000000   \n",
       "50%    260.500000    5.500000          0.000000         0.000000   \n",
       "75%    390.250000    8.000000         44.250000         0.089533   \n",
       "max    520.000000   10.000000        605.000000         0.891626   \n",
       "\n",
       "       validation_counts  validation_prop  \n",
       "count         520.000000       520.000000  \n",
       "mean           49.546231         0.098731  \n",
       "std            86.083829         0.164911  \n",
       "min             0.000000         0.000000  \n",
       "25%             0.000000         0.000000  \n",
       "50%             3.830000         0.010000  \n",
       "75%            70.147500         0.150000  \n",
       "max           640.300000         0.950000  "
      ]
     },
     "execution_count": 3,
     "metadata": {},
     "output_type": "execute_result"
    }
   ],
   "source": [
    "df = pd.read_csv(\"../figures/merged_validation.csv\")\n",
    "df.describe()"
   ]
  },
  {
   "cell_type": "code",
   "execution_count": 4,
   "metadata": {},
   "outputs": [
    {
     "data": {
      "text/html": [
       "<div>\n",
       "<style scoped>\n",
       "    .dataframe tbody tr th:only-of-type {\n",
       "        vertical-align: middle;\n",
       "    }\n",
       "\n",
       "    .dataframe tbody tr th {\n",
       "        vertical-align: top;\n",
       "    }\n",
       "\n",
       "    .dataframe thead th {\n",
       "        text-align: right;\n",
       "    }\n",
       "</style>\n",
       "<table border=\"1\" class=\"dataframe\">\n",
       "  <thead>\n",
       "    <tr style=\"text-align: right;\">\n",
       "      <th></th>\n",
       "      <th>Unnamed: 0</th>\n",
       "      <th>X</th>\n",
       "      <th>key</th>\n",
       "      <th>predicted_counts</th>\n",
       "      <th>prediction_prop</th>\n",
       "      <th>validation_counts</th>\n",
       "      <th>validation_prop</th>\n",
       "      <th>site</th>\n",
       "    </tr>\n",
       "  </thead>\n",
       "  <tbody>\n",
       "    <tr>\n",
       "      <th>0</th>\n",
       "      <td>1</td>\n",
       "      <td>1</td>\n",
       "      <td>Abiotic</td>\n",
       "      <td>0</td>\n",
       "      <td>0.000000</td>\n",
       "      <td>30.6</td>\n",
       "      <td>0.05</td>\n",
       "      <td>BisonGulch</td>\n",
       "    </tr>\n",
       "    <tr>\n",
       "      <th>1</th>\n",
       "      <td>2</td>\n",
       "      <td>2</td>\n",
       "      <td>Forb</td>\n",
       "      <td>36</td>\n",
       "      <td>0.058824</td>\n",
       "      <td>30.6</td>\n",
       "      <td>0.05</td>\n",
       "      <td>BisonGulch</td>\n",
       "    </tr>\n",
       "    <tr>\n",
       "      <th>2</th>\n",
       "      <td>3</td>\n",
       "      <td>3</td>\n",
       "      <td>Graminoid</td>\n",
       "      <td>220</td>\n",
       "      <td>0.359477</td>\n",
       "      <td>0.0</td>\n",
       "      <td>0.00</td>\n",
       "      <td>BisonGulch</td>\n",
       "    </tr>\n",
       "    <tr>\n",
       "      <th>3</th>\n",
       "      <td>4</td>\n",
       "      <td>4</td>\n",
       "      <td>Lichen</td>\n",
       "      <td>1</td>\n",
       "      <td>0.001634</td>\n",
       "      <td>30.6</td>\n",
       "      <td>0.05</td>\n",
       "      <td>BisonGulch</td>\n",
       "    </tr>\n",
       "    <tr>\n",
       "      <th>4</th>\n",
       "      <td>5</td>\n",
       "      <td>5</td>\n",
       "      <td>Moss</td>\n",
       "      <td>16</td>\n",
       "      <td>0.026144</td>\n",
       "      <td>30.6</td>\n",
       "      <td>0.05</td>\n",
       "      <td>BisonGulch</td>\n",
       "    </tr>\n",
       "  </tbody>\n",
       "</table>\n",
       "</div>"
      ],
      "text/plain": [
       "   Unnamed: 0  X        key  predicted_counts  prediction_prop  \\\n",
       "0           1  1    Abiotic                 0         0.000000   \n",
       "1           2  2       Forb                36         0.058824   \n",
       "2           3  3  Graminoid               220         0.359477   \n",
       "3           4  4     Lichen                 1         0.001634   \n",
       "4           5  5       Moss                16         0.026144   \n",
       "\n",
       "   validation_counts  validation_prop        site  \n",
       "0               30.6             0.05  BisonGulch  \n",
       "1               30.6             0.05  BisonGulch  \n",
       "2                0.0             0.00  BisonGulch  \n",
       "3               30.6             0.05  BisonGulch  \n",
       "4               30.6             0.05  BisonGulch  "
      ]
     },
     "execution_count": 4,
     "metadata": {},
     "output_type": "execute_result"
    }
   ],
   "source": [
    "df.head()"
   ]
  },
  {
   "cell_type": "code",
   "execution_count": 5,
   "metadata": {},
   "outputs": [
    {
     "data": {
      "text/plain": [
       "array(['Abiotic', 'Forb', 'Graminoid', 'Lichen', 'Moss', 'ShrubDecid',\n",
       "       'ShrubEvergreen', 'TreeBroadleaf', 'TreeConifer', 'Unknown'],\n",
       "      dtype=object)"
      ]
     },
     "execution_count": 5,
     "metadata": {},
     "output_type": "execute_result"
    }
   ],
   "source": [
    "df[\"key\"].unique()"
   ]
  },
  {
   "cell_type": "code",
   "execution_count": 7,
   "metadata": {},
   "outputs": [],
   "source": [
    "encoder = LabelEncoder()\n",
    "df[\"site_code\"] = encoder.fit_transform(df[\"site\"])"
   ]
  },
  {
   "cell_type": "code",
   "execution_count": 8,
   "metadata": {},
   "outputs": [
    {
     "data": {
      "text/plain": [
       "site         site_code\n",
       "MurphyDome   3            120\n",
       "Chatanika    1            110\n",
       "EightMile    2            110\n",
       "BisonGulch   0             90\n",
       "twelveMile1  4             50\n",
       "twelveMile2  5             40\n",
       "dtype: int64"
      ]
     },
     "execution_count": 8,
     "metadata": {},
     "output_type": "execute_result"
    }
   ],
   "source": [
    "df[[\"site\",\"site_code\"]].value_counts()"
   ]
  },
  {
   "cell_type": "code",
   "execution_count": 9,
   "metadata": {},
   "outputs": [
    {
     "name": "stdout",
     "output_type": "stream",
     "text": [
      "[0 1 2 3 4 5]\n",
      "6\n"
     ]
    }
   ],
   "source": [
    "nodes = df[\"site_code\"].unique()\n",
    "print(nodes)\n",
    "print(len(nodes))\n",
    "\n",
    "colors = ['red', 'blue', 'yellow', 'violet', 'cyan', 'cyan']\n",
    "\n",
    "cmap = ListedColormap(colors, name=\"sites\")"
   ]
  },
  {
   "cell_type": "code",
   "execution_count": 53,
   "metadata": {},
   "outputs": [
    {
     "name": "stderr",
     "output_type": "stream",
     "text": [
      "No artists with labels found to put in legend.  Note that artists whose label start with an underscore are ignored when legend() is called with no argument.\n"
     ]
    },
    {
     "data": {
      "image/png": "[encoded data removed]",
      "text/plain": [
       "<Figure size 1152x1152 with 9 Axes>"
      ]
     },
     "metadata": {
      "needs_background": "light"
     },
     "output_type": "display_data"
    }
   ],
   "source": [
    "fig, ax = plt.subplots(nrows=3, ncols=3, figsize=(16,16))\n",
    "\n",
    "\n",
    "ax[0][0].scatter(\n",
    "    df[df[\"key\"]==\"Abiotic\"][\"validation_prop\"], \n",
    "    df[df[\"key\"]==\"Abiotic\"][\"prediction_prop\"],\n",
    "    c=df[df[\"key\"]==\"Abiotic\"][\"site_code\"],\n",
    "    cmap=cmap)\n",
    "ax[0][0].set_title(\"Abiotic\")\n",
    "\n",
    "ax[0][1].scatter(\n",
    "    df[df[\"key\"]==\"Forb\"][\"validation_prop\"], \n",
    "    df[df[\"key\"]==\"Forb\"][\"prediction_prop\"],\n",
    "    c=df[df[\"key\"]==\"Forb\"][\"site_code\"])\n",
    "ax[0][1].set_title(\"Forb\")\n",
    "\n",
    "ax[0][2].scatter(\n",
    "    df[df[\"key\"]==\"Graminoid\"][\"validation_prop\"], \n",
    "    df[df[\"key\"]==\"Graminoid\"][\"prediction_prop\"],\n",
    "    c=df[df[\"key\"]==\"Graminoid\"][\"site_code\"],\n",
    "    cmap = cmap)\n",
    "ax[0][2].set_title(\"Graminoid\")\n",
    "\n",
    "ax[1][0].scatter(\n",
    "    df[df[\"key\"]==\"Lichen\"][\"validation_prop\"], \n",
    "    df[df[\"key\"]==\"Lichen\"][\"prediction_prop\"],\n",
    "    c=df[df[\"key\"]==\"Lichen\"][\"site_code\"],\n",
    "    cmap = cmap)\n",
    "ax[1][0].set_title(\"Lichen\")\n",
    "\n",
    "ax[1][1].scatter(\n",
    "    df[df[\"key\"]==\"Moss\"][\"validation_prop\"], \n",
    "    df[df[\"key\"]==\"Moss\"][\"prediction_prop\"],\n",
    "    c=df[df[\"key\"]==\"Moss\"][\"site_code\"],\n",
    "    cmap = cmap)\n",
    "ax[1][1].set_title(\"Moss\")\n",
    "\n",
    "ax[1][2].scatter(\n",
    "    df[df[\"key\"]==\"ShrubDecid\"][\"validation_prop\"], \n",
    "    df[df[\"key\"]==\"ShrubDecid\"][\"prediction_prop\"],\n",
    "    c=df[df[\"key\"]==\"ShrubDecid\"][\"site_code\"],\n",
    "    cmap = cmap)\n",
    "ax[1][2].set_title(\"ShrubDecid\")\n",
    "\n",
    "ax[2][0].scatter(\n",
    "    df[df[\"key\"]==\"ShrubEvergreen\"][\"validation_prop\"], \n",
    "    df[df[\"key\"]==\"ShrubEvergreen\"][\"prediction_prop\"],\n",
    "    c=df[df[\"key\"]==\"ShrubEvergreen\"][\"site_code\"],\n",
    "    cmap = cmap)\n",
    "ax[2][0].set_title(\"ShrubEvergreen\")\n",
    "\n",
    "ax[2][1].scatter(\n",
    "    df[df[\"key\"]==\"TreeBroadleaf\"][\"validation_prop\"], \n",
    "    df[df[\"key\"]==\"TreeBroadleaf\"][\"prediction_prop\"],\n",
    "    c=df[df[\"key\"]==\"TreeBroadleaf\"][\"site_code\"],\n",
    "    cmap = cmap)\n",
    "ax[2][1].set_title(\"TreeBroadleaf\")\n",
    "\n",
    "ax[2][2].scatter(\n",
    "    df[df[\"key\"]==\"TreeConifer\"][\"validation_prop\"], \n",
    "    df[df[\"key\"]==\"TreeConifer\"][\"prediction_prop\"],\n",
    "    c=df[df[\"key\"]==\"TreeConifer\"][\"site_code\"],\n",
    "    cmap = cmap)\n",
    "ax[2][2].set_title(\"TreeConifer\")\n",
    "\n",
    "plt.legend(\n",
    "    \n",
    ")\n",
    "\n",
    "plt.show()\n"
   ]
  },
  {
   "cell_type": "code",
   "execution_count": 38,
   "metadata": {},
   "outputs": [],
   "source": [
    "class ValidationResult(BaseModel):\n",
    "    r2: float\n",
    "    explained_variance: float\n",
    "    intercept: float\n",
    "    slope: float\n",
    "\n",
    "    "
   ]
  },
  {
   "cell_type": "code",
   "execution_count": 51,
   "metadata": {},
   "outputs": [],
   "source": [
    "def get_validation_stats(true: pd.Series, pred: pd.Series) -> ValidationResult:\n",
    "    model = LinearRegression()\n",
    "    model.fit(pred.values.reshape(-1,1), true.values.reshape(-1,1))\n",
    "    score = model.score(pred.values.reshape(-1,1), true.values.reshape(-1,1))\n",
    "    explained_variance = explained_variance_score(true.values.reshape(-1,1), pred.values.reshape(-1,1))\n",
    "    return ValidationResult(\n",
    "        r2 = score, \n",
    "        explained_variance = explained_variance, \n",
    "        intercept = model.intercept_,\n",
    "        slope = model.coef_\n",
    "    )\n",
    "\n",
    "def pretty_print_results(result: ValidationResult, header: Optional[str] = None) -> None:\n",
    "    indent = \"\"\n",
    "    if(header is not None):\n",
    "        print(header)\n",
    "        indent = \"\\t\"\n",
    "    print(f\"{indent}R-squared:\\t\\t{result.r2}\")\n",
    "    print(f\"{indent}Explained Variance:\\t{result.explained_variance}\")\n",
    "    print(f\"{indent}Intercept:\\t\\t{result.intercept}\")\n",
    "    print(f\"{indent}Slope:\\t\\t\\t{result.slope}\")\n"
   ]
  },
  {
   "cell_type": "code",
   "execution_count": 41,
   "metadata": {},
   "outputs": [],
   "source": [
    "result = get_validation_stats(df[df[\"key\"]==\"Abiotic\"][\"validation_prop\"], \n",
    "    df[df[\"key\"]==\"Abiotic\"][\"prediction_prop\"])"
   ]
  },
  {
   "cell_type": "code",
   "execution_count": 52,
   "metadata": {},
   "outputs": [
    {
     "name": "stdout",
     "output_type": "stream",
     "text": [
      "Test\n",
      "\tR-squared:\t\t0.6674914515220949\n",
      "\tExplained Variance:\t0.6669519967537643\n",
      "\tIntercept:\t\t0.10469216162209984\n",
      "\tSlope:\t\t\t1.0292603770624422\n"
     ]
    }
   ],
   "source": [
    "pretty_print_results(result, \"Test\")"
   ]
  },
  {
   "cell_type": "code",
   "execution_count": 54,
   "metadata": {},
   "outputs": [],
   "source": [
    "abiotic = get_validation_stats(df[df[\"key\"]==\"Abiotic\"][\"validation_prop\"], \n",
    "    df[df[\"key\"]==\"Abiotic\"][\"prediction_prop\"])\n",
    "\n",
    "forb = get_validation_stats( \n",
    "    df[df[\"key\"]==\"Forb\"][\"validation_prop\"], \n",
    "    df[df[\"key\"]==\"Forb\"][\"prediction_prop\"])\n",
    "\n",
    "graminoid = get_validation_stats(\n",
    "    df[df[\"key\"]==\"Graminoid\"][\"validation_prop\"], \n",
    "    df[df[\"key\"]==\"Graminoid\"][\"prediction_prop\"],\n",
    ")\n",
    "\n",
    "lichen = get_validation_stats(\n",
    "    df[df[\"key\"]==\"Lichen\"][\"validation_prop\"], \n",
    "    df[df[\"key\"]==\"Lichen\"][\"prediction_prop\"]\n",
    ")\n",
    "\n",
    "moss = get_validation_stats(\n",
    "    df[df[\"key\"]==\"Moss\"][\"validation_prop\"], \n",
    "    df[df[\"key\"]==\"Moss\"][\"prediction_prop\"],\n",
    ")\n",
    "\n",
    "shrub_decid = get_validation_stats(\n",
    "    df[df[\"key\"]==\"ShrubDecid\"][\"validation_prop\"], \n",
    "    df[df[\"key\"]==\"ShrubDecid\"][\"prediction_prop\"]\n",
    ")\n",
    "\n",
    "shrub_evergreen = get_validation_stats(\n",
    "    df[df[\"key\"]==\"ShrubEvergreen\"][\"validation_prop\"], \n",
    "    df[df[\"key\"]==\"ShrubEvergreen\"][\"prediction_prop\"]\n",
    ")\n",
    "\n",
    "tree_broadleaf = get_validation_stats(\n",
    "    df[df[\"key\"]==\"TreeBroadleaf\"][\"validation_prop\"], \n",
    "    df[df[\"key\"]==\"TreeBroadleaf\"][\"prediction_prop\"]\n",
    ")\n",
    "\n",
    "tree_conifer = get_validation_stats(\n",
    "    df[df[\"key\"]==\"TreeConifer\"][\"validation_prop\"], \n",
    "    df[df[\"key\"]==\"TreeConifer\"][\"prediction_prop\"]\n",
    ")"
   ]
  },
  {
   "cell_type": "code",
   "execution_count": 55,
   "metadata": {},
   "outputs": [
    {
     "name": "stdout",
     "output_type": "stream",
     "text": [
      "Abiotic:\n",
      "\tR-squared:\t\t0.6674914515220949\n",
      "\tExplained Variance:\t0.6669519967537643\n",
      "\tIntercept:\t\t0.10469216162209984\n",
      "\tSlope:\t\t\t1.0292603770624422\n",
      "Forb:\n",
      "\tR-squared:\t\t0.011269534742521126\n",
      "\tExplained Variance:\t-8.400532426567592\n",
      "\tIntercept:\t\t0.010065941874745788\n",
      "\tSlope:\t\t\t-0.037992937408379314\n",
      "Graminoid:\n",
      "\tR-squared:\t\t0.32223850074492155\n",
      "\tExplained Variance:\t-0.48579744930703916\n",
      "\tIntercept:\t\t0.02079776398551375\n",
      "\tSlope:\t\t\t0.38706712577452645\n",
      "Moss:\n",
      "\tR-squared:\t\t0.08447819420945768\n",
      "\tExplained Variance:\t-5.293915942649082\n",
      "\tIntercept:\t\t0.036753373454983695\n",
      "\tSlope:\t\t\t0.11136971509192897\n",
      "Deciduous Shrubs:\n",
      "\tR-squared:\t\t0.19665365506860355\n",
      "\tExplained Variance:\t0.18815466209071252\n",
      "\tIntercept:\t\t0.22625573914292868\n",
      "\tSlope:\t\t\t1.2624502543500549\n",
      "Evergreen Shrub\n",
      "\tR-squared:\t\t0.04090919145507088\n",
      "\tExplained Variance:\t-0.32074585865243344\n",
      "\tIntercept:\t\t0.18113356131002467\n",
      "\tSlope:\t\t\t0.2516807928830782\n",
      "Broadleaf Tree\n",
      "\tR-squared:\t\t0.0\n",
      "\tExplained Variance:\t0.0\n",
      "\tIntercept:\t\t0.01153846153846154\n",
      "\tSlope:\t\t\t0.0\n",
      "Coniferous Tree\n",
      "\tR-squared:\t\t0.0010897960416735852\n",
      "\tExplained Variance:\t-0.0013055602764675545\n",
      "\tIntercept:\t\t0.008104123816503314\n",
      "\tSlope:\t\t\t0.4028099077823086\n"
     ]
    }
   ],
   "source": [
    "pretty_print_results(abiotic, \"Abiotic:\")\n",
    "pretty_print_results(forb, \"Forb:\")\n",
    "pretty_print_results(graminoid, \"Graminoid:\")\n",
    "pretty_print_results(lichen, \"Lichen:\")\n",
    "pretty_print_results(moss, \"Moss:\")\n",
    "pretty_print_results(shrub_decid, \"Deciduous Shrubs:\")\n",
    "pretty_print_results(shrub_evergreen, \"Evergreen Shrub\")\n",
    "pretty_print_results(tree_broadleaf, \"Broadleaf Tree\")\n",
    "pretty_print_results(tree_conifer, \"Coniferous Tree\")"
   ]
  },
  {
   "cell_type": "code",
   "execution_count": 22,
   "metadata": {},
   "outputs": [
    {
     "name": "stdout",
     "output_type": "stream",
     "text": [
      "{'copy_X': True, 'fit_intercept': True, 'n_jobs': None, 'normalize': 'deprecated', 'positive': False}\n",
      "Explained Variance by PFT\n",
      "Abiotic:\n",
      "\tExplained Variance:\t0.6669519967537643\n",
      "\tR-Squared:\t\t0.6674914515220949\n",
      "Forb: \t\t\t-8.400532426567592\n"
     ]
    }
   ],
   "source": [
    "abiotic_evs = explained_variance_score( \n",
    "    df[df[\"key\"]==\"Abiotic\"][\"validation_prop\"], \n",
    "    df[df[\"key\"]==\"Abiotic\"][\"prediction_prop\"])\n",
    "\n",
    "abiotic_model = LinearRegression(fit_intercept = True)\n",
    "abiotic_model.fit(\n",
    "    df[df[\"key\"]==\"Abiotic\"][\"prediction_prop\"].values.reshape(-1,1),\n",
    "    df[df[\"key\"]==\"Abiotic\"][\"validation_prop\"].values.reshape(-1,1))\n",
    "\n",
    "print(abiotic_model.get_params())\n",
    "\n",
    "abiotic_r2 = abiotic_model.score(df[df[\"key\"]==\"Abiotic\"][\"prediction_prop\"].values.reshape(-1,1),\n",
    "    df[df[\"key\"]==\"Abiotic\"][\"validation_prop\"].values.reshape(-1,1))\n",
    "\n",
    "forb_r2 = explained_variance_score(\n",
    "    df[df[\"key\"]==\"Forb\"][\"validation_prop\"], \n",
    "    df[df[\"key\"]==\"Forb\"][\"prediction_prop\"]\n",
    ")\n",
    "\n",
    "print(\"Explained Variance by PFT\")\n",
    "print(\"Abiotic:\")\n",
    "print(f\"\\tExplained Variance:\\t{abiotic_evs}\")\n",
    "print(f\"\\tR-Squared:\\t\\t{abiotic_r2}\")\n",
    "print(f\"Forb: \\t\\t\\t{forb_r2}\")"
   ]
  },
  {
   "cell_type": "code",
   "execution_count": null,
   "metadata": {},
   "outputs": [],
   "source": []
  }
 ],
 "metadata": {
  "kernelspec": {
   "display_name": "Python 3.10.5 64-bit",
   "language": "python",
   "name": "python3"
  },
  "language_info": {
   "codemirror_mode": {
    "name": "ipython",
    "version": 3
   },
   "file_extension": ".py",
   "mimetype": "text/x-python",
   "name": "python",
   "nbconvert_exporter": "python",
   "pygments_lexer": "ipython3",
   "version": "3.10.5"
  },
  "orig_nbformat": 4,
  "vscode": {
   "interpreter": {
    "hash": "a93a32689d98fb423083dcc36955878f65c14b61b6ce2104170406059b1815ff"
   }
  }
 },
 "nbformat": 4,
 "nbformat_minor": 2
}
