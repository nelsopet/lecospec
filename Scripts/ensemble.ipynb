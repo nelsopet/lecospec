{
 "cells": [
  {
   "cell_type": "code",
   "execution_count": null,
   "metadata": {
    "vscode": {
     "languageId": "r"
    }
   },
   "outputs": [],
   "source": [
    "if (!dir.exists(\"./Functions\")) {\n",
    "    setwd(\"..\")\n",
    "}\n",
    "source(\"./Functions/lecospectR.R\")"
   ]
  },
  {
   "cell_type": "code",
   "execution_count": null,
   "metadata": {
    "vscode": {
     "languageId": "r"
    }
   },
   "outputs": [],
   "source": [
    "first_prediction_path <- system.file(\"\", package = \"raster\")\n",
    "second_prediction_path <- system.file(\"\", package = \"raster\")\n",
    "third_prediction_path <- system.file(\"\", package = \"raster\")"
   ]
  },
  {
   "cell_type": "code",
   "execution_count": null,
   "metadata": {
    "vscode": {
     "languageId": "r"
    }
   },
   "outputs": [],
   "source": [
    "weights <- c(1.0,1.0,1.0)\n",
    "target_cols <- 2:4"
   ]
  },
  {
   "cell_type": "code",
   "execution_count": null,
   "metadata": {
    "vscode": {
     "languageId": "r"
    }
   },
   "outputs": [],
   "source": [
    "predctions1_ras <- raster::raster(first_prediction_path)\n",
    "predctions2_ras <- raster::raster(second_prediction_path)\n",
    "predctions3_ras <- raster::raster(third_prediction_path)\n",
    "predictions_ras <- raster::brick(list(\n",
    "    predctions1_ras,\n",
    "    predctions2_ras,\n",
    "    predctions3_ras\n",
    "))"
   ]
  },
  {
   "cell_type": "code",
   "execution_count": null,
   "metadata": {
    "vscode": {
     "languageId": "r"
    }
   },
   "outputs": [],
   "source": [
    "rm(predctions1_ras)\n",
    "rm(predctions2_ras)\n",
    "rm(predctions3_ras)\n",
    "gc()"
   ]
  },
  {
   "cell_type": "code",
   "execution_count": null,
   "metadata": {
    "vscode": {
     "languageId": "r"
    }
   },
   "outputs": [],
   "source": []
  },
  {
   "cell_type": "code",
   "execution_count": null,
   "metadata": {
    "vscode": {
     "languageId": "r"
    }
   },
   "outputs": [],
   "source": [
    "prediction_df <- raster::rasterToPoints(predctions_ras)\n",
    "rm(predictions_ras)\n",
    "gc()"
   ]
  },
  {
   "cell_type": "markdown",
   "metadata": {},
   "source": [
    "# Weighting (and Christmas)\n",
    "Add Confusion matrix to manuscript\n",
    "\n",
    "Weight the model votes by PFT\n",
    "\n",
    "First do gloabl, then refine"
   ]
  },
  {
   "cell_type": "code",
   "execution_count": null,
   "metadata": {
    "vscode": {
     "languageId": "r"
    }
   },
   "outputs": [],
   "source": [
    "vote <- function(predictions, weights = NULL){\n",
    "    # get the weights from the user, or default to 1s\n",
    "    updated_weights <- weights\n",
    "    if(is.null(weights)){\n",
    "        updated_weights <- rep(1.0, times = length(predictions))\n",
    "    }\n",
    "    \n",
    "    classes <- unique(predictions %>% as.character())\n",
    "    vote_aggregator <- list()\n",
    "    for(class in classes){\n",
    "        vote_aggregator[[class]] <- 0\n",
    "    }\n",
    "\n",
    "    for(index in seq_along(predictions)){\n",
    "        vote_aggregator[[predctions[[index]]]] <- vote_aggregator[[predctions[[index]]]] + weights[[index]]\n",
    "    }\n",
    "\n",
    "\n",
    "    max_class <- NULL\n",
    "    max_vote <- -1\n",
    "    for(class in classes){\n",
    "        if(vote_aggregator[[class]] > max_vote){\n",
    "            max_vote <- vote_aggregator[[class]]\n",
    "            max_class <- class\n",
    "        }\n",
    "    }\n",
    "\n",
    "    return(class)\n",
    "}"
   ]
  },
  {
   "cell_type": "code",
   "execution_count": null,
   "metadata": {
    "vscode": {
     "languageId": "r"
    }
   },
   "outputs": [],
   "source": [
    "get_majority_predictions <- function(prediction_df, vote_weights = NULL){\n",
    "    predictions <- character(length = nrow(prediction_df))\n",
    "\n",
    "    for(row_index in seq(nrow(prediction_df))){\n",
    "        row <- vote(prediction_df[row_index], weights = vote_weights) %>% as.character()\n",
    "        predictions[[row_index]] <- vote(row, weights = vote_weights)\n",
    "    }\n",
    "\n",
    "    return(predictions)\n",
    "    \n",
    "}"
   ]
  },
  {
   "cell_type": "code",
   "execution_count": null,
   "metadata": {
    "vscode": {
     "languageId": "r"
    }
   },
   "outputs": [],
   "source": [
    "prediction_fac <- get_majority_predictions(\n",
    "    prediction_df = prediction_df[,target_cols], \n",
    "    vote_weights = weights)"
   ]
  },
  {
   "cell_type": "code",
   "execution_count": null,
   "metadata": {
    "vscode": {
     "languageId": "r"
    }
   },
   "outputs": [],
   "source": []
  }
 ],
 "metadata": {
  "kernelspec": {
   "display_name": "R",
   "language": "R",
   "name": "ir"
  },
  "language_info": {
   "name": "R"
  }
 },
 "nbformat": 4,
 "nbformat_minor": 2
}
