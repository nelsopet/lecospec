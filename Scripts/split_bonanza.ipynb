{
 "cells": [
  {
   "cell_type": "code",
   "execution_count": 2,
   "metadata": {
    "vscode": {
     "languageId": "r"
    }
   },
   "outputs": [],
   "source": [
    "setwd(\"../\")"
   ]
  },
  {
   "cell_type": "code",
   "execution_count": 4,
   "metadata": {
    "vscode": {
     "languageId": "r"
    }
   },
   "outputs": [
    {
     "name": "stderr",
     "output_type": "stream",
     "text": [
      "Loading required package: tidyverse\n",
      "\n"
     ]
    },
    {
     "name": "stderr",
     "output_type": "stream",
     "text": [
      "── \u001b[1mAttaching core tidyverse packages\u001b[22m ──────────────────────── tidyverse 2.0.0 ──\n",
      "\u001b[32m✔\u001b[39m \u001b[34mdplyr    \u001b[39m 1.1.2     \u001b[32m✔\u001b[39m \u001b[34mreadr    \u001b[39m 2.1.4\n",
      "\u001b[32m✔\u001b[39m \u001b[34mforcats  \u001b[39m 1.0.0     \u001b[32m✔\u001b[39m \u001b[34mstringr  \u001b[39m 1.5.0\n",
      "\u001b[32m✔\u001b[39m \u001b[34mggplot2  \u001b[39m 3.4.2     \u001b[32m✔\u001b[39m \u001b[34mtibble   \u001b[39m 3.2.1\n",
      "\u001b[32m✔\u001b[39m \u001b[34mlubridate\u001b[39m 1.9.2     \u001b[32m✔\u001b[39m \u001b[34mtidyr    \u001b[39m 1.3.0\n",
      "\u001b[32m✔\u001b[39m \u001b[34mpurrr    \u001b[39m 1.0.1     \n",
      "── \u001b[1mConflicts\u001b[22m ────────────────────────────────────────── tidyverse_conflicts() ──\n",
      "\u001b[31m✖\u001b[39m \u001b[34mdplyr\u001b[39m::\u001b[32mfilter()\u001b[39m masks \u001b[34mstats\u001b[39m::filter()\n",
      "\u001b[31m✖\u001b[39m \u001b[34mdplyr\u001b[39m::\u001b[32mlag()\u001b[39m    masks \u001b[34mstats\u001b[39m::lag()\n",
      "\u001b[36mℹ\u001b[39m Use the conflicted package (\u001b[3m\u001b[34m<http://conflicted.r-lib.org/>\u001b[39m\u001b[23m) to force all conflicts to become errors\n",
      "Loading required package: compiler\n",
      "\n",
      "Loading required package: raster\n",
      "\n",
      "Loading required package: sp\n",
      "\n",
      "\n",
      "Attaching package: ‘raster’\n",
      "\n",
      "\n",
      "The following object is masked from ‘package:dplyr’:\n",
      "\n",
      "    select\n",
      "\n",
      "\n",
      "Loading required package: hsdar\n",
      "\n",
      "Loading required package: rgdal\n",
      "\n",
      "Please note that rgdal will be retired during October 2023,\n",
      "plan transition to sf/stars/terra functions using GDAL and PROJ\n",
      "at your earliest convenience.\n",
      "See https://r-spatial.org/r/2023/05/15/evolution4.html and https://github.com/r-spatial/evolution\n",
      "rgdal: version: 1.6-7, (SVN revision 1203)\n",
      "Geospatial Data Abstraction Library extensions to R successfully loaded\n",
      "Loaded GDAL runtime: GDAL 3.4.3, released 2022/04/22\n",
      "Path to GDAL shared files: /usr/share/gdal\n",
      "GDAL binary built with GEOS: TRUE \n",
      "Loaded PROJ runtime: Rel. 8.2.1, January 1st, 2022, [PJ_VERSION: 821]\n",
      "Path to PROJ shared files: /home/krbundy/.local/share/proj:/usr/share/proj\n",
      "PROJ CDN enabled: TRUE\n",
      "Linking to sp version:1.6-1\n",
      "To mute warnings of possible GDAL/OSR exportToProj4() degradation,\n",
      "use options(\"rgdal_show_exportToProj4_warnings\"=\"none\") before loading sp or rgdal.\n",
      "\n",
      "Loading required package: signal\n",
      "\n",
      "\n",
      "Attaching package: ‘signal’\n",
      "\n",
      "\n",
      "The following object is masked from ‘package:raster’:\n",
      "\n",
      "    resample\n",
      "\n",
      "\n",
      "The following object is masked from ‘package:dplyr’:\n",
      "\n",
      "    filter\n",
      "\n",
      "\n",
      "The following objects are masked from ‘package:stats’:\n",
      "\n",
      "    filter, poly\n",
      "\n",
      "\n",
      "Loading required package: caret\n",
      "\n",
      "Loading required package: lattice\n",
      "\n",
      "\n",
      "Attaching package: ‘caret’\n",
      "\n",
      "\n",
      "The following object is masked from ‘package:purrr’:\n",
      "\n",
      "    lift\n",
      "\n",
      "\n",
      "Loading required package: Boruta\n",
      "\n",
      "\n",
      "###################################\n",
      "  This is hsdar 1.0.4\n",
      "  To get citation entry type\n",
      "      'citation(\"hsdar\")'\n",
      "###################################\n",
      "\n",
      "\n",
      "Attaching package: ‘hsdar’\n",
      "\n",
      "\n",
      "The following object is masked from ‘package:raster’:\n",
      "\n",
      "    nbands\n",
      "\n",
      "\n",
      "Loading required package: spectrolab\n",
      "\n",
      "spectrolab version: 0.0.18\n",
      "\n",
      "Please cite:\n",
      "Meireles J, Schweiger A, Cavender-Bares J (2017). spectrolab: Class\n",
      "and Methods for Spectral Data in R. doi:10.5281/zenodo.3934575\n",
      "<https://doi.org/10.5281/zenodo.3934575>, R package version 0.0.18,\n",
      "<https://CRAN.R-project.org/package=spectrolab>.DOI: https://doi.org/10.5281/zenodo.3934575\n",
      "\n",
      "\n",
      "Attaching package: ‘spectrolab’\n",
      "\n",
      "\n",
      "The following object is masked from ‘package:hsdar’:\n",
      "\n",
      "    spectra\n",
      "\n",
      "\n",
      "The following object is masked from ‘package:signal’:\n",
      "\n",
      "    resample\n",
      "\n",
      "\n",
      "The following object is masked from ‘package:raster’:\n",
      "\n",
      "    resample\n",
      "\n",
      "\n",
      "The following object is masked from ‘package:dplyr’:\n",
      "\n",
      "    combine\n",
      "\n",
      "\n",
      "The following objects are masked from ‘package:stats’:\n",
      "\n",
      "    sd, smooth, var\n",
      "\n",
      "\n",
      "Loading required package: ranger\n",
      "\n",
      "Loading required package: stringi\n",
      "\n",
      "Loading required package: rjson\n",
      "\n",
      "Loading required package: snow\n",
      "\n",
      "Loading required package: doSNOW\n",
      "\n",
      "Loading required package: foreach\n",
      "\n",
      "\n",
      "Attaching package: ‘foreach’\n",
      "\n",
      "\n",
      "The following objects are masked from ‘package:purrr’:\n",
      "\n",
      "    accumulate, when\n",
      "\n",
      "\n",
      "Loading required package: iterators\n",
      "\n",
      "Loading required package: rasterVis\n",
      "\n",
      "\n",
      "Attaching package: ‘plotly’\n",
      "\n",
      "\n",
      "The following object is masked from ‘package:signal’:\n",
      "\n",
      "    filter\n",
      "\n",
      "\n",
      "The following object is masked from ‘package:raster’:\n",
      "\n",
      "    select\n",
      "\n",
      "\n",
      "The following object is masked from ‘package:ggplot2’:\n",
      "\n",
      "    last_plot\n",
      "\n",
      "\n",
      "The following object is masked from ‘package:stats’:\n",
      "\n",
      "    filter\n",
      "\n",
      "\n",
      "The following object is masked from ‘package:graphics’:\n",
      "\n",
      "    layout\n",
      "\n",
      "\n"
     ]
    }
   ],
   "source": [
    "source(\"Functions/lecospectR.R\")"
   ]
  },
  {
   "cell_type": "code",
   "execution_count": 5,
   "metadata": {
    "vscode": {
     "languageId": "r"
    }
   },
   "outputs": [],
   "source": [
    "source(\"Scripts/validation_defs.R\")"
   ]
  },
  {
   "cell_type": "code",
   "execution_count": 10,
   "metadata": {
    "vscode": {
     "languageId": "r"
    }
   },
   "outputs": [],
   "source": [
    "bonanza_lower_shp <- terra::vect(shape_path_9)"
   ]
  },
  {
   "cell_type": "code",
   "execution_count": 11,
   "metadata": {
    "vscode": {
     "languageId": "r"
    }
   },
   "outputs": [
    {
     "data": {
      "text/html": [
       "<style>\n",
       ".list-inline {list-style: none; margin:0; padding: 0}\n",
       ".list-inline>li {display: inline-block}\n",
       ".list-inline>li:not(:last-child)::after {content: \"\\00b7\"; padding: 0 .5ex}\n",
       "</style>\n",
       "<ol class=list-inline><li>'CLASS_NAME'</li><li>'CLASS_ID'</li><li>'CLASS_CLRS'</li></ol>\n"
      ],
      "text/latex": [
       "\\begin{enumerate*}\n",
       "\\item 'CLASS\\_NAME'\n",
       "\\item 'CLASS\\_ID'\n",
       "\\item 'CLASS\\_CLRS'\n",
       "\\end{enumerate*}\n"
      ],
      "text/markdown": [
       "1. 'CLASS_NAME'\n",
       "2. 'CLASS_ID'\n",
       "3. 'CLASS_CLRS'\n",
       "\n",
       "\n"
      ],
      "text/plain": [
       "[1] \"CLASS_NAME\" \"CLASS_ID\"   \"CLASS_CLRS\""
      ]
     },
     "metadata": {},
     "output_type": "display_data"
    }
   ],
   "source": [
    "names(bonanza_lower_shp)"
   ]
  },
  {
   "cell_type": "code",
   "execution_count": 12,
   "metadata": {
    "vscode": {
     "languageId": "r"
    }
   },
   "outputs": [
    {
     "data": {
      "text/html": [
       "<style>\n",
       ".list-inline {list-style: none; margin:0; padding: 0}\n",
       ".list-inline>li {display: inline-block}\n",
       ".list-inline>li:not(:last-child)::after {content: \"\\00b7\"; padding: 0 .5ex}\n",
       "</style>\n",
       "<ol class=list-inline><li>'Bonanza_Q60m'</li><li>'Bonanza_Q100m'</li><li>'Bonanza_Q90m'</li><li>'Bonanza_Q80m'</li><li>'Bonanza_Q50m'</li><li>'Bonanza_Q70m'</li></ol>\n"
      ],
      "text/latex": [
       "\\begin{enumerate*}\n",
       "\\item 'Bonanza\\_Q60m'\n",
       "\\item 'Bonanza\\_Q100m'\n",
       "\\item 'Bonanza\\_Q90m'\n",
       "\\item 'Bonanza\\_Q80m'\n",
       "\\item 'Bonanza\\_Q50m'\n",
       "\\item 'Bonanza\\_Q70m'\n",
       "\\end{enumerate*}\n"
      ],
      "text/markdown": [
       "1. 'Bonanza_Q60m'\n",
       "2. 'Bonanza_Q100m'\n",
       "3. 'Bonanza_Q90m'\n",
       "4. 'Bonanza_Q80m'\n",
       "5. 'Bonanza_Q50m'\n",
       "6. 'Bonanza_Q70m'\n",
       "\n",
       "\n"
      ],
      "text/plain": [
       "[1] \"Bonanza_Q60m\"  \"Bonanza_Q100m\" \"Bonanza_Q90m\"  \"Bonanza_Q80m\" \n",
       "[5] \"Bonanza_Q50m\"  \"Bonanza_Q70m\" "
      ]
     },
     "metadata": {},
     "output_type": "display_data"
    }
   ],
   "source": [
    "bonanza_lower_shp$CLASS_NAME"
   ]
  },
  {
   "cell_type": "code",
   "execution_count": null,
   "metadata": {
    "vscode": {
     "languageId": "r"
    }
   },
   "outputs": [],
   "source": []
  }
 ],
 "metadata": {
  "kernelspec": {
   "display_name": "R",
   "language": "R",
   "name": "ir"
  },
  "language_info": {
   "codemirror_mode": "r",
   "file_extension": ".r",
   "mimetype": "text/x-r-source",
   "name": "R",
   "pygments_lexer": "r",
   "version": "4.3.1"
  },
  "orig_nbformat": 4
 },
 "nbformat": 4,
 "nbformat_minor": 2
}
