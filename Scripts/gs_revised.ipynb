{
 "cells": [
  {
   "cell_type": "code",
   "execution_count": 2,
   "metadata": {
    "vscode": {
     "languageId": "r"
    }
   },
   "outputs": [
    {
     "name": "stderr",
     "output_type": "stream",
     "text": [
      "Loading required package: tidyverse\n",
      "\n",
      "── \u001b[1mAttaching packages\u001b[22m ─────────────────────────────────────── tidyverse 1.3.2 ──\n",
      "\u001b[32m✔\u001b[39m \u001b[34mggplot2\u001b[39m 3.3.6      \u001b[32m✔\u001b[39m \u001b[34mpurrr  \u001b[39m 0.3.5 \n",
      "\u001b[32m✔\u001b[39m \u001b[34mtibble \u001b[39m 3.1.8      \u001b[32m✔\u001b[39m \u001b[34mdplyr  \u001b[39m 1.0.10\n",
      "\u001b[32m✔\u001b[39m \u001b[34mtidyr  \u001b[39m 1.2.1      \u001b[32m✔\u001b[39m \u001b[34mstringr\u001b[39m 1.4.1 \n",
      "\u001b[32m✔\u001b[39m \u001b[34mreadr  \u001b[39m 2.1.3      \u001b[32m✔\u001b[39m \u001b[34mforcats\u001b[39m 0.5.2 \n",
      "── \u001b[1mConflicts\u001b[22m ────────────────────────────────────────── tidyverse_conflicts() ──\n",
      "\u001b[31m✖\u001b[39m \u001b[34mdplyr\u001b[39m::\u001b[32mfilter()\u001b[39m masks \u001b[34mstats\u001b[39m::filter()\n",
      "\u001b[31m✖\u001b[39m \u001b[34mdplyr\u001b[39m::\u001b[32mlag()\u001b[39m    masks \u001b[34mstats\u001b[39m::lag()\n",
      "Loading required package: compiler\n",
      "\n",
      "Loading required package: raster\n",
      "\n",
      "Loading required package: sp\n",
      "\n",
      "\n",
      "Attaching package: ‘raster’\n",
      "\n",
      "\n",
      "The following object is masked from ‘package:dplyr’:\n",
      "\n",
      "    select\n",
      "\n",
      "\n",
      "Loading required package: hsdar\n",
      "\n",
      "Loading required package: rgdal\n",
      "\n",
      "Please note that rgdal will be retired by the end of 2023,\n",
      "plan transition to sf/stars/terra functions using GDAL and PROJ\n",
      "at your earliest convenience.\n",
      "\n",
      "rgdal: version: 1.5-32, (SVN revision 1176)\n",
      "Geospatial Data Abstraction Library extensions to R successfully loaded\n",
      "Loaded GDAL runtime: GDAL 3.4.1, released 2021/12/27\n",
      "Path to GDAL shared files: /usr/share/gdal\n",
      "GDAL binary built with GEOS: TRUE \n",
      "Loaded PROJ runtime: Rel. 8.2.1, January 1st, 2022, [PJ_VERSION: 821]\n",
      "Path to PROJ shared files: /home/krbundy/.local/share/proj:/usr/share/proj\n",
      "PROJ CDN enabled: FALSE\n",
      "Linking to sp version:1.5-0\n",
      "To mute warnings of possible GDAL/OSR exportToProj4() degradation,\n",
      "use options(\"rgdal_show_exportToProj4_warnings\"=\"none\") before loading sp or rgdal.\n",
      "\n",
      "Loading required package: signal\n",
      "\n",
      "\n",
      "Attaching package: ‘signal’\n",
      "\n",
      "\n",
      "The following object is masked from ‘package:raster’:\n",
      "\n",
      "    resample\n",
      "\n",
      "\n",
      "The following object is masked from ‘package:dplyr’:\n",
      "\n",
      "    filter\n",
      "\n",
      "\n",
      "The following objects are masked from ‘package:stats’:\n",
      "\n",
      "    filter, poly\n",
      "\n",
      "\n",
      "Loading required package: caret\n",
      "\n",
      "Loading required package: lattice\n",
      "\n",
      "\n",
      "Attaching package: ‘caret’\n",
      "\n",
      "\n",
      "The following object is masked from ‘package:purrr’:\n",
      "\n",
      "    lift\n",
      "\n",
      "\n",
      "Loading required package: Boruta\n",
      "\n",
      "\n",
      "###################################\n",
      "  This is hsdar 1.0.4\n",
      "  To get citation entry type\n",
      "      'citation(\"hsdar\")'\n",
      "###################################\n",
      "\n",
      "\n",
      "Attaching package: ‘hsdar’\n",
      "\n",
      "\n",
      "The following object is masked from ‘package:raster’:\n",
      "\n",
      "    nbands\n",
      "\n",
      "\n",
      "Loading required package: spectrolab\n",
      "\n",
      "spectrolab version: 0.0.17\n",
      "\n",
      "Please cite:\n",
      "Meireles J, Schweiger A, Cavender-Bares J (2017). spectrolab: Class\n",
      "and Methods for Spectral Data in R. doi:10.5281/zenodo.3934575\n",
      "<https://doi.org/10.5281/zenodo.3934575>, R package version 0.0.17,\n",
      "<https://CRAN.R-project.org/package=spectrolab>.DOI: https://doi.org/10.5281/zenodo.3934575\n",
      "\n",
      "\n",
      "Attaching package: ‘spectrolab’\n",
      "\n",
      "\n",
      "The following object is masked from ‘package:hsdar’:\n",
      "\n",
      "    spectra\n",
      "\n",
      "\n",
      "The following object is masked from ‘package:signal’:\n",
      "\n",
      "    resample\n",
      "\n",
      "\n",
      "The following object is masked from ‘package:raster’:\n",
      "\n",
      "    resample\n",
      "\n",
      "\n",
      "The following object is masked from ‘package:dplyr’:\n",
      "\n",
      "    combine\n",
      "\n",
      "\n",
      "The following objects are masked from ‘package:stats’:\n",
      "\n",
      "    sd, smooth, var\n",
      "\n",
      "\n",
      "Loading required package: ranger\n",
      "\n",
      "Loading required package: stringi\n",
      "\n",
      "Loading required package: rjson\n",
      "\n",
      "Loading required package: snow\n",
      "\n",
      "Loading required package: doSNOW\n",
      "\n",
      "Loading required package: foreach\n",
      "\n",
      "\n",
      "Attaching package: ‘foreach’\n",
      "\n",
      "\n",
      "The following objects are masked from ‘package:purrr’:\n",
      "\n",
      "    accumulate, when\n",
      "\n",
      "\n",
      "Loading required package: iterators\n",
      "\n",
      "Loading required package: rasterVis\n",
      "\n",
      "\n",
      "Attaching package: ‘plotly’\n",
      "\n",
      "\n",
      "The following object is masked from ‘package:signal’:\n",
      "\n",
      "    filter\n",
      "\n",
      "\n",
      "The following object is masked from ‘package:raster’:\n",
      "\n",
      "    select\n",
      "\n",
      "\n",
      "The following object is masked from ‘package:ggplot2’:\n",
      "\n",
      "    last_plot\n",
      "\n",
      "\n",
      "The following object is masked from ‘package:stats’:\n",
      "\n",
      "    filter\n",
      "\n",
      "\n",
      "The following object is masked from ‘package:graphics’:\n",
      "\n",
      "    layout\n",
      "\n",
      "\n"
     ]
    }
   ],
   "source": [
    "if(!dir.exists(\"Functions/\")){\n",
    "    setwd(\"../\")\n",
    "    if(!dir.exists(\"Functions\")){\n",
    "        setwd(\"M:/lecospec/lecospec/\")\n",
    "    }\n",
    "}\n",
    "source(\"Functions/lecospectR.R\", echo = FALSE)"
   ]
  },
  {
   "cell_type": "code",
   "execution_count": 3,
   "metadata": {
    "vscode": {
     "languageId": "r"
    }
   },
   "outputs": [],
   "source": [
    "log_model_results <- function(model_id, confusion_matrix, distribition, custom = NULL, logpath = \"./gs.log\"){\n",
    "    # append performance data to the logs for later comparison\n",
    "    sink(file = logpath, append = TRUE)\n",
    "    print(\"-------------------------------------------------------\")\n",
    "    print(\"---------------------- Model Data ---------------------\")\n",
    "    \n",
    "    print(paste0(\"Model Type: Ranger (Random Forest)\"))\n",
    "    print(paste0(\"Data Index: \",custom))\n",
    "    print(paste0(\"Model UUID: \", model_id))\n",
    "    print(\"---------------------- Confusion Matrix ---------------------\")\n",
    "    print(confusion_matrix)\n",
    "    print(\"---------------------- Class Distribution ---------------------\")\n",
    "    print(distribition)\n",
    "    print(\"-------------------------------------------------------\")\n",
    "    sink(NULL)\n",
    "}"
   ]
  },
  {
   "cell_type": "code",
   "execution_count": 13,
   "metadata": {
    "vscode": {
     "languageId": "r"
    }
   },
   "outputs": [],
   "source": [
    "add_model_to_manifest <- function(\n",
    "    model_id, \n",
    "    outlier = \"\", \n",
    "    preprocessing=\"\",\n",
    "    source=\"\", \n",
    "    weight = \"\",\n",
    "    logpath=\"./gs_manifest.csv\"){\n",
    "    if(!file.exists(logpath)){\n",
    "        header <- \"source,outliers,preprocessing,weight,model_id\"\n",
    "        write(header, file = logpath)\n",
    "    }\n",
    "\n",
    "    line <- paste(\n",
    "        source,\n",
    "        outlier,\n",
    "        preprocessing,\n",
    "        sep=\",\"\n",
    "    )\n",
    "    line <- paste0(line, \",\", model_id)\n",
    "\n",
    "    write(line, file=logpath, append = TRUE)\n",
    "}"
   ]
  },
  {
   "cell_type": "code",
   "execution_count": 14,
   "metadata": {
    "vscode": {
     "languageId": "r"
    }
   },
   "outputs": [],
   "source": [
    "train_model <- function(\n",
    "    train_df, \n",
    "    train_labels,\n",
    "    test_df, \n",
    "    test_labels,\n",
    "    outlier_fn = NULL,\n",
    "    preprocess_fn = NULL,\n",
    "    weight_fn = targets_to_weights,\n",
    "    model_id = uuid::UUIDgenerate(),\n",
    "    ignore_cols = NULL,\n",
    "    seed = NULL\n",
    "){\n",
    "    if(!is.null(seed)){\n",
    "        set.seed(seed)\n",
    "    }\n",
    "\n",
    "    x_train <- train_df %>% as.data.frame()\n",
    "    if(is.function(outlier_fn)){\n",
    "        x_train <- outlier_fn(x_train)\n",
    "    }\n",
    "    if(is.function(preprocess_fn)){\n",
    "        x_train <- preprocess_fn(x_train)\n",
    "    }\n",
    "\n",
    "    model <- ranger::ranger(\n",
    "            num.trees = 1000,\n",
    "            case.weights = weight_fn(train_labels),\n",
    "            classification = TRUE,\n",
    "            x=x_train,\n",
    "            y=train_labels\n",
    "        )\n",
    "\n",
    "    if((\"Forb\" %in% levels(train_labels)) && !(\"Forb\"  %in% levels(test_labels))){\n",
    "            levels(test_labels) <- c(levels(test_labels), \"Forb\")\n",
    "            }\n",
    "\n",
    "    # create predictions (ranger)\n",
    "        model_predictions <- predict(\n",
    "            model, \n",
    "            test_df\n",
    "        )$prediction %>% as.factor()\n",
    "\n",
    "        # generate the confusion matrix\n",
    "\n",
    "        confusion_matrix <- caret::confusionMatrix(\n",
    "            model_predictions, \n",
    "            test_labels,\n",
    "            mode = \"everything\"\n",
    "        )\n",
    "\n",
    "        # generate an id to uniquely identify the model\n",
    "        #model_id <- uuid::UUIDgenerate()\n",
    "\n",
    "        # append performance data to the logs for later comparison\n",
    "        log_model_results(\n",
    "            model_id = model_id,\n",
    "            confusion_matrix = confusion_matrix,\n",
    "            #custom = file,\n",
    "            distribition = model_predictions %>% as.factor() %>% table())\n",
    "\n",
    "        # track what levels are associated with the UUID\n",
    "\n",
    "        # save the model using the model UUID\n",
    "        save(model, file = paste0(\"mle/models/gs/\", model_id, \".rda\"))\n",
    "        \n",
    "        return(model)\n",
    "}"
   ]
  },
  {
   "cell_type": "code",
   "execution_count": 6,
   "metadata": {
    "vscode": {
     "languageId": "r"
    }
   },
   "outputs": [],
   "source": [
    "base_paths <- c(\n",
    "    \"grd_raw_raw.csv\",\n",
    "    \"grd_raw_corrected.csv\",\n",
    "    \"img_raw_raw.csv\",\n",
    "    \"img_indices_only.csv\",# include veg indices\n",
    "    \"grd_indices_only.csv\"\n",
    ")\n",
    "# "
   ]
  },
  {
   "cell_type": "code",
   "execution_count": 7,
   "metadata": {
    "vscode": {
     "languageId": "r"
    }
   },
   "outputs": [],
   "source": [
    "calculate_posterior_weights <- function(validation_path =\"figures/merged_validation_s.csv\" ){\n",
    "\n",
    "    validation_df <- read.csv(validation_path, header = TRUE)\n",
    "    print(head(validation_df))\n",
    "\n",
    "    total_observations <- sum(validation_df$validation_counts)\n",
    "    print(total_observations)\n",
    "    weights <- (1/ validation_df$validation_prop)\n",
    "    print(validation_df$validation_prop)\n",
    "\n",
    "    total_by_fg1 <- aggregate(\n",
    "        x = validation_df$validation_counts,\n",
    "        by = list(validation_df$key),\n",
    "        FUN = sum\n",
    "    )\n",
    "    print(total_by_fg1)\n",
    "}\n",
    "\n",
    "get_posterior_weights_from_targets <- function(target_factor, posterior_weight = calculate_posterior_weights()){\n",
    "    unbiased_weights <- targets_to_weights(target_vec)\n",
    "\n",
    "    target_name_char <- target_factor %>% as.character()\n",
    "\n",
    "    output_weights <- seq_along(target_factor)\n",
    "\n",
    "    for(i in seq_along(target_vec)){\n",
    "        if(posterior_weight[target_name_char[[i]]] > 0){\n",
    "            fg1_weight <- 1 / posterior_weight[target_name_char[[i]]]\n",
    "        } else {\n",
    "            fg1_weight <- 0\n",
    "        }\n",
    "        output_weights[[i]] <- unbiased_weights[[i]] * fg1_weight\n",
    "    }\n",
    "\n",
    "    return(output_weights)\n",
    "}"
   ]
  },
  {
   "cell_type": "code",
   "execution_count": 11,
   "metadata": {
    "vscode": {
     "languageId": "r"
    }
   },
   "outputs": [],
   "source": [
    "outlier_functions <- list(\n",
    "    clip = load_model(\"./mle/clip_transform.rda\"),\n",
    "    no_treatment = function(x){return(x)}# no transform\n",
    ")\n",
    "\n",
    "outlier_treatments <- c(\n",
    "    \"clip\",\n",
    "    \"no_treatment\"\n",
    ")\n",
    "\n",
    "preprocess_functions <- list(\n",
    "    no_treatment = function(x){return(x)},# no transform\n",
    "    min_max = columnwise_min_max_scale,\n",
    "    robust = columnwise_robust_scale,\n",
    "    standard = standardize_df\n",
    ")\n",
    "\n",
    "weight_functions <- list(\n",
    "    no_treatment = function(x){return(NULL)},# No weights\n",
    "    balanced = targets_to_weights,\n",
    "    posterior = get_posterior_weights_from_targets\n",
    ")\n",
    "weight_treatments <- c(\n",
    "    \"no_treatment\",\n",
    "    \"balanced\",\n",
    "    \"posterior\"\n",
    ")\n",
    "\n",
    "preprocessing_treatments <- c(\n",
    "    \"no_treatment\",\n",
    "    \"min_max\",\n",
    "    \"robust\",\n",
    "    \"standard\"\n",
    ")"
   ]
  },
  {
   "cell_type": "code",
   "execution_count": 12,
   "metadata": {
    "vscode": {
     "languageId": "r"
    }
   },
   "outputs": [],
   "source": [
    "test_data <- read.csv(\"Data/gs/x_test/img_raw_raw.csv\")\n",
    "test_labels <- read.csv(\"Data/gs/y_test/img_raw_raw.csv\")$x %>% as.factor()\n",
    "#train_labels <- read.csv(\"Data/gs/y_train/img_raw_raw.csv\")$x %>% as.factor()"
   ]
  },
  {
   "cell_type": "code",
   "execution_count": 25,
   "metadata": {
    "vscode": {
     "languageId": "r"
    }
   },
   "outputs": [
    {
     "name": "stderr",
     "output_type": "stream",
     "text": [
      "Warning message in confusionMatrix.default(model_predictions, test_labels, mode = \"everything\"):\n",
      "“Levels are not in the same order for reference and data. Refactoring data to match.”\n"
     ]
    },
    {
     "name": "stdout",
     "output_type": "stream",
     "text": [
      "[1] \"preprocessing raster at Data/Ground_Validation/Imagery/BisonGulchQuads.envi\"\n",
      "[1] \"Converted to Data frame?\"\n",
      "[1] TRUE\n",
      "[1] \"Noisy columns removed\"\n",
      "[1] TRUE\n",
      "[1] \"Filtered\"\n",
      "[1] TRUE\n"
     ]
    },
    {
     "name": "stderr",
     "output_type": "stream",
     "text": [
      "Using spline to predict value at new bands...\n",
      "\n",
      "Beware the spectra are now partially smoothed.\n",
      "\n"
     ]
    },
    {
     "name": "stdout",
     "output_type": "stream",
     "text": [
      "[1] \"Imputing...\"\n",
      "[1] \"Handling Outliers with method: none\"\n",
      "[1] \"Transforming the data with transform: none\"\n",
      "          x        y z\n",
      "1 -148.9508 63.80701 3\n",
      "2 -148.9508 63.80701 3\n",
      "3 -148.9508 63.80701 3\n",
      "4 -148.9508 63.80701 5\n",
      "5 -148.9508 63.80701 5\n",
      "6 -148.9508 63.80701 5\n",
      "          x        y z\n",
      "1 -148.9508 63.80701 3\n",
      "2 -148.9508 63.80701 3\n",
      "3 -148.9508 63.80701 3\n",
      "4 -148.9508 63.80701 5\n",
      "5 -148.9508 63.80701 5\n",
      "6 -148.9508 63.80701 5\n",
      "[1] \"Attempting to save to ./validation_saved_output.grd\"\n",
      "[1] \"Converted to Raster\"\n",
      "Reading layer `Bisoon_Quadrats_georeferenced' from data source \n",
      "  `/home/krbundy/GitHub/lecospec/Data/Vectors/Bisoon_Quadrats_georeferenced.shp' \n",
      "  using driver `ESRI Shapefile'\n",
      "Simple feature collection with 9 features and 3 fields\n",
      "Geometry type: POLYGON\n",
      "Dimension:     XY\n",
      "Bounding box:  xmin: -148.9524 ymin: 63.80698 xmax: -148.9508 ymax: 63.80701\n",
      "Geodetic CRS:  WGS 84\n",
      "Simple feature collection with 1 feature and 3 fields\n",
      "Geometry type: POLYGON\n",
      "Dimension:     XY\n",
      "Bounding box:  xmin: -148.9508 ymin: 63.807 xmax: -148.9508 ymax: 63.80701\n",
      "Geodetic CRS:  GCS_unknown\n",
      "  CLASS_ID  CLASS_NAME AREA                       geometry\n",
      "1        1 Bisongulch0  612 POLYGON ((-148.9508 63.807,...\n"
     ]
    },
    {
     "name": "stderr",
     "output_type": "stream",
     "text": [
      "Saving 6.67 x 6.67 in image\n",
      "\n"
     ]
    },
    {
     "name": "stdout",
     "output_type": "stream",
     "text": [
      "Simple feature collection with 1 feature and 3 fields\n",
      "Geometry type: POLYGON\n",
      "Dimension:     XY\n",
      "Bounding box:  xmin: -148.952 ymin: 63.80699 xmax: -148.952 ymax: 63.807\n",
      "Geodetic CRS:  GCS_unknown\n",
      "  CLASS_ID   CLASS_NAME AREA                       geometry\n",
      "2        7 Bisongulch70  649 POLYGON ((-148.952 63.80699...\n"
     ]
    },
    {
     "name": "stderr",
     "output_type": "stream",
     "text": [
      "Saving 6.67 x 6.67 in image\n",
      "\n"
     ]
    },
    {
     "name": "stdout",
     "output_type": "stream",
     "text": [
      "Simple feature collection with 1 feature and 3 fields\n",
      "Geometry type: POLYGON\n",
      "Dimension:     XY\n",
      "Bounding box:  xmin: -148.9522 ymin: 63.80699 xmax: -148.9522 ymax: 63.807\n",
      "Geodetic CRS:  GCS_unknown\n",
      "  CLASS_ID   CLASS_NAME AREA                       geometry\n",
      "3        8 Bisongulch80  661 POLYGON ((-148.9522 63.8069...\n"
     ]
    },
    {
     "name": "stderr",
     "output_type": "stream",
     "text": [
      "Saving 6.67 x 6.67 in image\n",
      "\n"
     ]
    },
    {
     "name": "stdout",
     "output_type": "stream",
     "text": [
      "Simple feature collection with 1 feature and 3 fields\n",
      "Geometry type: POLYGON\n",
      "Dimension:     XY\n",
      "Bounding box:  xmin: -148.951 ymin: 63.80699 xmax: -148.9509 ymax: 63.807\n",
      "Geodetic CRS:  GCS_unknown\n",
      "  CLASS_ID   CLASS_NAME AREA                       geometry\n",
      "4        2 Bisongulch10  649 POLYGON ((-148.9509 63.8069...\n"
     ]
    },
    {
     "name": "stderr",
     "output_type": "stream",
     "text": [
      "Saving 6.67 x 6.67 in image\n",
      "\n"
     ]
    },
    {
     "name": "stdout",
     "output_type": "stream",
     "text": [
      "Simple feature collection with 1 feature and 3 fields\n",
      "Geometry type: POLYGON\n",
      "Dimension:     XY\n",
      "Bounding box:  xmin: -148.9524 ymin: 63.80699 xmax: -148.9524 ymax: 63.807\n",
      "Geodetic CRS:  GCS_unknown\n",
      "  CLASS_ID   CLASS_NAME AREA                       geometry\n",
      "5        9 Bisongulch90  648 POLYGON ((-148.9524 63.8069...\n"
     ]
    },
    {
     "name": "stderr",
     "output_type": "stream",
     "text": [
      "Saving 6.67 x 6.67 in image\n",
      "\n"
     ]
    },
    {
     "name": "stdout",
     "output_type": "stream",
     "text": [
      "Simple feature collection with 1 feature and 3 fields\n",
      "Geometry type: POLYGON\n",
      "Dimension:     XY\n",
      "Bounding box:  xmin: -148.9512 ymin: 63.80699 xmax: -148.9512 ymax: 63.807\n",
      "Geodetic CRS:  GCS_unknown\n",
      "  CLASS_ID   CLASS_NAME AREA                       geometry\n",
      "6        3 Bisongulch20  574 POLYGON ((-148.9512 63.8069...\n"
     ]
    },
    {
     "name": "stderr",
     "output_type": "stream",
     "text": [
      "Saving 6.67 x 6.67 in image\n",
      "\n"
     ]
    },
    {
     "name": "stdout",
     "output_type": "stream",
     "text": [
      "Simple feature collection with 1 feature and 3 fields\n",
      "Geometry type: POLYGON\n",
      "Dimension:     XY\n",
      "Bounding box:  xmin: -148.9518 ymin: 63.80699 xmax: -148.9518 ymax: 63.807\n",
      "Geodetic CRS:  GCS_unknown\n",
      "  CLASS_ID   CLASS_NAME AREA                       geometry\n",
      "7        6 Bisongulch50  673 POLYGON ((-148.9518 63.8069...\n"
     ]
    },
    {
     "name": "stderr",
     "output_type": "stream",
     "text": [
      "Saving 6.67 x 6.67 in image\n",
      "\n"
     ]
    },
    {
     "name": "stdout",
     "output_type": "stream",
     "text": [
      "Simple feature collection with 1 feature and 3 fields\n",
      "Geometry type: POLYGON\n",
      "Dimension:     XY\n",
      "Bounding box:  xmin: -148.9514 ymin: 63.80699 xmax: -148.9514 ymax: 63.807\n",
      "Geodetic CRS:  GCS_unknown\n",
      "  CLASS_ID   CLASS_NAME AREA                       geometry\n",
      "8        4 Bisongulch30  673 POLYGON ((-148.9514 63.8069...\n"
     ]
    },
    {
     "name": "stderr",
     "output_type": "stream",
     "text": [
      "Saving 6.67 x 6.67 in image\n",
      "\n"
     ]
    },
    {
     "name": "stdout",
     "output_type": "stream",
     "text": [
      "Simple feature collection with 1 feature and 3 fields\n",
      "Geometry type: POLYGON\n",
      "Dimension:     XY\n",
      "Bounding box:  xmin: -148.9516 ymin: 63.80698 xmax: -148.9516 ymax: 63.80699\n",
      "Geodetic CRS:  GCS_unknown\n",
      "  CLASS_ID   CLASS_NAME AREA                       geometry\n",
      "9        5 Bisongulch40  674 POLYGON ((-148.9516 63.8069...\n"
     ]
    },
    {
     "name": "stderr",
     "output_type": "stream",
     "text": [
      "Saving 6.67 x 6.67 in image\n",
      "\n",
      "Saving 6.67 x 6.67 in image\n",
      "\n",
      "Saving 6.67 x 6.67 in image\n",
      "\n",
      "Saving 6.67 x 6.67 in image\n",
      "\n",
      "Saving 6.67 x 6.67 in image\n",
      "\n",
      "Saving 6.67 x 6.67 in image\n",
      "\n",
      "Saving 6.67 x 6.67 in image\n",
      "\n",
      "Saving 6.67 x 6.67 in image\n",
      "\n",
      "Saving 6.67 x 6.67 in image\n",
      "\n",
      "Saving 6.67 x 6.67 in image\n",
      "\n"
     ]
    },
    {
     "name": "stdout",
     "output_type": "stream",
     "text": [
      "[1] \"preprocessing raster at Data/Ground_Validation/Imagery/ChatanikaQuads.envi\"\n",
      "[1] \"Converted to Data frame?\"\n",
      "[1] TRUE\n",
      "[1] \"Noisy columns removed\"\n",
      "[1] TRUE\n",
      "[1] \"Filtered\"\n",
      "[1] TRUE\n"
     ]
    },
    {
     "name": "stderr",
     "output_type": "stream",
     "text": [
      "Using spline to predict value at new bands...\n",
      "\n",
      "Beware the spectra are now partially smoothed.\n",
      "\n"
     ]
    },
    {
     "name": "stdout",
     "output_type": "stream",
     "text": [
      "[1] \"Imputing...\"\n",
      "[1] \"Handling Outliers with method: none\"\n",
      "[1] \"Transforming the data with transform: none\"\n",
      "          x        y z\n",
      "1 -147.4827 65.15287 3\n",
      "2 -147.4827 65.15287 2\n",
      "3 -147.4827 65.15287 3\n",
      "4 -147.4827 65.15287 2\n",
      "5 -147.4827 65.15287 2\n",
      "6 -147.4827 65.15287 3\n",
      "          x        y z\n",
      "1 -147.4827 65.15287 3\n",
      "2 -147.4827 65.15287 2\n",
      "3 -147.4827 65.15287 3\n",
      "4 -147.4827 65.15287 2\n",
      "5 -147.4827 65.15287 2\n",
      "6 -147.4827 65.15287 3\n",
      "[1] \"Attempting to save to ./validation_saved_output.grd\"\n",
      "[1] \"Converted to Raster\"\n",
      "Reading layer `ChatanikaQuads_georeferenced' from data source \n",
      "  `/home/krbundy/GitHub/lecospec/Data/Vectors/ChatanikaQuads_georeferenced.shp' \n",
      "  using driver `ESRI Shapefile'\n",
      "Simple feature collection with 11 features and 3 fields\n",
      "Geometry type: POLYGON\n",
      "Dimension:     XY\n",
      "Bounding box:  xmin: -147.4827 ymin: 65.15281 xmax: -147.4806 ymax: 65.15287\n",
      "Geodetic CRS:  WGS 84\n",
      "Simple feature collection with 1 feature and 3 fields\n",
      "Geometry type: POLYGON\n",
      "Dimension:     XY\n",
      "Bounding box:  xmin: -147.4827 ymin: 65.15286 xmax: -147.4827 ymax: 65.15287\n",
      "Geodetic CRS:  GCS_unknown\n",
      "    CLASS_NAME CLASS_ID CLASS_CLRS                       geometry\n",
      "1 Chatanika100       11    0,0,128 POLYGON ((-147.4827 65.1528...\n"
     ]
    },
    {
     "name": "stderr",
     "output_type": "stream",
     "text": [
      "Saving 6.67 x 6.67 in image\n",
      "\n"
     ]
    },
    {
     "name": "stdout",
     "output_type": "stream",
     "text": [
      "Simple feature collection with 1 feature and 3 fields\n",
      "Geometry type: POLYGON\n",
      "Dimension:     XY\n",
      "Bounding box:  xmin: -147.4825 ymin: 65.15285 xmax: -147.4825 ymax: 65.15286\n",
      "Geodetic CRS:  GCS_unknown\n",
      "   CLASS_NAME CLASS_ID CLASS_CLRS                       geometry\n",
      "2 Chatanika90       10    0,255,0 POLYGON ((-147.4825 65.1528...\n"
     ]
    },
    {
     "name": "stderr",
     "output_type": "stream",
     "text": [
      "Saving 6.67 x 6.67 in image\n",
      "\n"
     ]
    },
    {
     "name": "stdout",
     "output_type": "stream",
     "text": [
      "Simple feature collection with 1 feature and 3 fields\n",
      "Geometry type: POLYGON\n",
      "Dimension:     XY\n",
      "Bounding box:  xmin: -147.4821 ymin: 65.15285 xmax: -147.4821 ymax: 65.15286\n",
      "Geodetic CRS:  GCS_unknown\n",
      "   CLASS_NAME CLASS_ID CLASS_CLRS                       geometry\n",
      "3 Chatanika70        8  0,128,128 POLYGON ((-147.4821 65.1528...\n"
     ]
    },
    {
     "name": "stderr",
     "output_type": "stream",
     "text": [
      "Saving 6.67 x 6.67 in image\n",
      "\n"
     ]
    },
    {
     "name": "stdout",
     "output_type": "stream",
     "text": [
      "Simple feature collection with 1 feature and 3 fields\n",
      "Geometry type: POLYGON\n",
      "Dimension:     XY\n",
      "Bounding box:  xmin: -147.4823 ymin: 65.15285 xmax: -147.4823 ymax: 65.15286\n",
      "Geodetic CRS:  GCS_unknown\n",
      "   CLASS_NAME CLASS_ID CLASS_CLRS                       geometry\n",
      "4 Chatanika80        9    128,0,0 POLYGON ((-147.4823 65.1528...\n"
     ]
    },
    {
     "name": "stderr",
     "output_type": "stream",
     "text": [
      "Saving 6.67 x 6.67 in image\n",
      "\n"
     ]
    },
    {
     "name": "stdout",
     "output_type": "stream",
     "text": [
      "Simple feature collection with 1 feature and 3 fields\n",
      "Geometry type: POLYGON\n",
      "Dimension:     XY\n",
      "Bounding box:  xmin: -147.4819 ymin: 65.15285 xmax: -147.4819 ymax: 65.15286\n",
      "Geodetic CRS:  GCS_unknown\n",
      "   CLASS_NAME CLASS_ID CLASS_CLRS                       geometry\n",
      "5 Chatanika60        7  128,128,0 POLYGON ((-147.4819 65.1528...\n"
     ]
    },
    {
     "name": "stderr",
     "output_type": "stream",
     "text": [
      "Saving 6.67 x 6.67 in image\n",
      "\n"
     ]
    },
    {
     "name": "stdout",
     "output_type": "stream",
     "text": [
      "Simple feature collection with 1 feature and 3 fields\n",
      "Geometry type: POLYGON\n",
      "Dimension:     XY\n",
      "Bounding box:  xmin: -147.4817 ymin: 65.15284 xmax: -147.4816 ymax: 65.15285\n",
      "Geodetic CRS:  GCS_unknown\n",
      "   CLASS_NAME CLASS_ID CLASS_CLRS                       geometry\n",
      "6 Chatanika50        6  255,0,255 POLYGON ((-147.4816 65.1528...\n"
     ]
    },
    {
     "name": "stderr",
     "output_type": "stream",
     "text": [
      "Saving 6.67 x 6.67 in image\n",
      "\n"
     ]
    },
    {
     "name": "stdout",
     "output_type": "stream",
     "text": [
      "Simple feature collection with 1 feature and 3 fields\n",
      "Geometry type: POLYGON\n",
      "Dimension:     XY\n",
      "Bounding box:  xmin: -147.4815 ymin: 65.15283 xmax: -147.4814 ymax: 65.15284\n",
      "Geodetic CRS:  GCS_unknown\n",
      "   CLASS_NAME CLASS_ID CLASS_CLRS                       geometry\n",
      "7 Chatanika40        5  0,255,255 POLYGON ((-147.4814 65.1528...\n"
     ]
    },
    {
     "name": "stderr",
     "output_type": "stream",
     "text": [
      "Saving 6.67 x 6.67 in image\n",
      "\n"
     ]
    },
    {
     "name": "stdout",
     "output_type": "stream",
     "text": [
      "Simple feature collection with 1 feature and 3 fields\n",
      "Geometry type: POLYGON\n",
      "Dimension:     XY\n",
      "Bounding box:  xmin: -147.4812 ymin: 65.15282 xmax: -147.4812 ymax: 65.15283\n",
      "Geodetic CRS:  GCS_unknown\n",
      "   CLASS_NAME CLASS_ID CLASS_CLRS                       geometry\n",
      "8 Chatanika30        4  255,255,0 POLYGON ((-147.4812 65.1528...\n"
     ]
    },
    {
     "name": "stderr",
     "output_type": "stream",
     "text": [
      "Saving 6.67 x 6.67 in image\n",
      "\n"
     ]
    },
    {
     "name": "stdout",
     "output_type": "stream",
     "text": [
      "Simple feature collection with 1 feature and 3 fields\n",
      "Geometry type: POLYGON\n",
      "Dimension:     XY\n",
      "Bounding box:  xmin: -147.481 ymin: 65.15281 xmax: -147.481 ymax: 65.15282\n",
      "Geodetic CRS:  GCS_unknown\n",
      "   CLASS_NAME CLASS_ID CLASS_CLRS                       geometry\n",
      "9 Chatanika20        3    0,0,255 POLYGON ((-147.481 65.15282...\n"
     ]
    },
    {
     "name": "stderr",
     "output_type": "stream",
     "text": [
      "Saving 6.67 x 6.67 in image\n",
      "\n"
     ]
    },
    {
     "name": "stdout",
     "output_type": "stream",
     "text": [
      "Simple feature collection with 1 feature and 3 fields\n",
      "Geometry type: POLYGON\n",
      "Dimension:     XY\n",
      "Bounding box:  xmin: -147.4808 ymin: 65.15281 xmax: -147.4808 ymax: 65.15282\n",
      "Geodetic CRS:  GCS_unknown\n",
      "    CLASS_NAME CLASS_ID CLASS_CLRS                       geometry\n",
      "10 Chatanika10        2    0,128,0 POLYGON ((-147.4808 65.1528...\n"
     ]
    },
    {
     "name": "stderr",
     "output_type": "stream",
     "text": [
      "Saving 6.67 x 6.67 in image\n",
      "\n"
     ]
    },
    {
     "name": "stdout",
     "output_type": "stream",
     "text": [
      "Simple feature collection with 1 feature and 3 fields\n",
      "Geometry type: POLYGON\n",
      "Dimension:     XY\n",
      "Bounding box:  xmin: -147.4806 ymin: 65.15281 xmax: -147.4806 ymax: 65.15281\n",
      "Geodetic CRS:  GCS_unknown\n",
      "   CLASS_NAME CLASS_ID CLASS_CLRS                       geometry\n",
      "11 Chatanika0        1    255,0,0 POLYGON ((-147.4806 65.1528...\n"
     ]
    },
    {
     "name": "stderr",
     "output_type": "stream",
     "text": [
      "Saving 6.67 x 6.67 in image\n",
      "\n",
      "Saving 6.67 x 6.67 in image\n",
      "\n",
      "Saving 6.67 x 6.67 in image\n",
      "\n",
      "Saving 6.67 x 6.67 in image\n",
      "\n",
      "Saving 6.67 x 6.67 in image\n",
      "\n",
      "Saving 6.67 x 6.67 in image\n",
      "\n",
      "Saving 6.67 x 6.67 in image\n",
      "\n",
      "Saving 6.67 x 6.67 in image\n",
      "\n",
      "Saving 6.67 x 6.67 in image\n",
      "\n",
      "Saving 6.67 x 6.67 in image\n",
      "\n",
      "Saving 6.67 x 6.67 in image\n",
      "\n",
      "Saving 6.67 x 6.67 in image\n",
      "\n"
     ]
    },
    {
     "name": "stdout",
     "output_type": "stream",
     "text": [
      "[1] \"preprocessing raster at Data/Ground_Validation/Imagery/TwelveMileGulchQuads1.envi\"\n",
      "[1] \"Converted to Data frame?\"\n",
      "[1] TRUE\n",
      "[1] \"Noisy columns removed\"\n",
      "[1] TRUE\n",
      "[1] \"Filtered\"\n",
      "[1] TRUE\n"
     ]
    },
    {
     "name": "stderr",
     "output_type": "stream",
     "text": [
      "Using spline to predict value at new bands...\n",
      "\n",
      "Beware the spectra are now partially smoothed.\n",
      "\n"
     ]
    },
    {
     "name": "stdout",
     "output_type": "stream",
     "text": [
      "[1] \"Imputing...\"\n",
      "[1] \"Handling Outliers with method: none\"\n",
      "[1] \"Transforming the data with transform: none\"\n",
      "         x        y z\n",
      "1 -145.979 65.40191 3\n",
      "2 -145.979 65.40191 3\n",
      "3 -145.979 65.40191 3\n",
      "4 -145.979 65.40191 3\n",
      "5 -145.979 65.40191 3\n",
      "6 -145.979 65.40191 5\n",
      "         x        y z\n",
      "1 -145.979 65.40191 3\n",
      "2 -145.979 65.40191 3\n",
      "3 -145.979 65.40191 3\n",
      "4 -145.979 65.40191 3\n",
      "5 -145.979 65.40191 3\n",
      "6 -145.979 65.40191 5\n",
      "[1] \"Attempting to save to ./validation_saved_output.grd\"\n",
      "[1] \"Converted to Raster\"\n",
      "Reading layer `TwelveMileQ0_10_20_30_40m' from data source \n",
      "  `/home/krbundy/GitHub/lecospec/Data/Vectors/TwelveMileQ0_10_20_30_40m.shp' \n",
      "  using driver `ESRI Shapefile'\n",
      "Simple feature collection with 5 features and 3 fields\n",
      "Geometry type: POLYGON\n",
      "Dimension:     XY\n",
      "Bounding box:  xmin: -145.979 ymin: 65.4018 xmax: -145.9782 ymax: 65.40191\n",
      "Geodetic CRS:  WGS 84\n",
      "Simple feature collection with 1 feature and 3 fields\n",
      "Geometry type: POLYGON\n",
      "Dimension:     XY\n",
      "Bounding box:  xmin: -145.979 ymin: 65.4019 xmax: -145.979 ymax: 65.40191\n",
      "Geodetic CRS:  GCS_unknown\n",
      "  CLASS_ID   CLASS_NAME AREA                       geometry\n",
      "1        4 Twelvemile40  288 POLYGON ((-145.979 65.4019,...\n"
     ]
    },
    {
     "name": "stderr",
     "output_type": "stream",
     "text": [
      "Saving 6.67 x 6.67 in image\n",
      "\n"
     ]
    },
    {
     "name": "stdout",
     "output_type": "stream",
     "text": [
      "Simple feature collection with 1 feature and 3 fields\n",
      "Geometry type: POLYGON\n",
      "Dimension:     XY\n",
      "Bounding box:  xmin: -145.9788 ymin: 65.40187 xmax: -145.9788 ymax: 65.40188\n",
      "Geodetic CRS:  GCS_unknown\n",
      "  CLASS_ID   CLASS_NAME AREA                       geometry\n",
      "2        1 Twelvemile30  281 POLYGON ((-145.9788 65.4018...\n"
     ]
    },
    {
     "name": "stderr",
     "output_type": "stream",
     "text": [
      "Saving 6.67 x 6.67 in image\n",
      "\n"
     ]
    },
    {
     "name": "stdout",
     "output_type": "stream",
     "text": [
      "Simple feature collection with 1 feature and 3 fields\n",
      "Geometry type: POLYGON\n",
      "Dimension:     XY\n",
      "Bounding box:  xmin: -145.9786 ymin: 65.40185 xmax: -145.9786 ymax: 65.40186\n",
      "Geodetic CRS:  GCS_unknown\n",
      "  CLASS_ID   CLASS_NAME AREA                       geometry\n",
      "3        2 Twelvemile20  328 POLYGON ((-145.9786 65.4018...\n"
     ]
    },
    {
     "name": "stderr",
     "output_type": "stream",
     "text": [
      "Saving 6.67 x 6.67 in image\n",
      "\n"
     ]
    },
    {
     "name": "stdout",
     "output_type": "stream",
     "text": [
      "Simple feature collection with 1 feature and 3 fields\n",
      "Geometry type: POLYGON\n",
      "Dimension:     XY\n",
      "Bounding box:  xmin: -145.9784 ymin: 65.40183 xmax: -145.9784 ymax: 65.40184\n",
      "Geodetic CRS:  GCS_unknown\n",
      "  CLASS_ID   CLASS_NAME AREA                       geometry\n",
      "4        3 Twelvemile10  308 POLYGON ((-145.9784 65.4018...\n"
     ]
    },
    {
     "name": "stderr",
     "output_type": "stream",
     "text": [
      "Saving 6.67 x 6.67 in image\n",
      "\n"
     ]
    },
    {
     "name": "stdout",
     "output_type": "stream",
     "text": [
      "Simple feature collection with 1 feature and 3 fields\n",
      "Geometry type: POLYGON\n",
      "Dimension:     XY\n",
      "Bounding box:  xmin: -145.9782 ymin: 65.4018 xmax: -145.9782 ymax: 65.40181\n",
      "Geodetic CRS:  GCS_unknown\n",
      "  CLASS_ID  CLASS_NAME AREA                       geometry\n",
      "5        5 Twelvemile0  336 POLYGON ((-145.9782 65.4018...\n"
     ]
    },
    {
     "name": "stderr",
     "output_type": "stream",
     "text": [
      "Saving 6.67 x 6.67 in image\n",
      "\n",
      "Saving 6.67 x 6.67 in image\n",
      "\n",
      "Saving 6.67 x 6.67 in image\n",
      "\n",
      "Saving 6.67 x 6.67 in image\n",
      "\n",
      "Saving 6.67 x 6.67 in image\n",
      "\n",
      "Saving 6.67 x 6.67 in image\n",
      "\n"
     ]
    },
    {
     "name": "stdout",
     "output_type": "stream",
     "text": [
      "[1] \"preprocessing raster at Data/Ground_Validation/Imagery/TwelveMileGulchQuads2.envi\"\n",
      "[1] \"Converted to Data frame?\"\n",
      "[1] TRUE\n",
      "[1] \"Noisy columns removed\"\n",
      "[1] TRUE\n",
      "[1] \"Filtered\"\n",
      "[1] TRUE\n"
     ]
    },
    {
     "name": "stderr",
     "output_type": "stream",
     "text": [
      "Using spline to predict value at new bands...\n",
      "\n",
      "Beware the spectra are now partially smoothed.\n",
      "\n"
     ]
    },
    {
     "name": "stdout",
     "output_type": "stream",
     "text": [
      "[1] \"Imputing...\"\n",
      "[1] \"Handling Outliers with method: none\"\n",
      "[1] \"Transforming the data with transform: none\"\n",
      "          x        y z\n",
      "1 -145.9802 65.40203 3\n",
      "2 -145.9802 65.40203 3\n",
      "3 -145.9802 65.40203 3\n",
      "4 -145.9802 65.40203 3\n",
      "5 -145.9802 65.40203 3\n",
      "6 -145.9802 65.40203 3\n",
      "          x        y z\n",
      "1 -145.9802 65.40203 3\n",
      "2 -145.9802 65.40203 3\n",
      "3 -145.9802 65.40203 3\n",
      "4 -145.9802 65.40203 3\n",
      "5 -145.9802 65.40203 3\n",
      "6 -145.9802 65.40203 3\n",
      "[1] \"Attempting to save to ./validation_saved_output.grd\"\n",
      "[1] \"Converted to Raster\"\n",
      "Reading layer `TwelveMileQ70_80_90_100m' from data source \n",
      "  `/home/krbundy/GitHub/lecospec/Data/Vectors/TwelveMileQ70_80_90_100m.shp' \n",
      "  using driver `ESRI Shapefile'\n",
      "Simple feature collection with 4 features and 3 fields\n",
      "Geometry type: POLYGON\n",
      "Dimension:     XY\n",
      "Bounding box:  xmin: -145.9802 ymin: 65.40196 xmax: -145.9796 ymax: 65.40203\n",
      "Geodetic CRS:  WGS 84\n",
      "Simple feature collection with 1 feature and 3 fields\n",
      "Geometry type: POLYGON\n",
      "Dimension:     XY\n",
      "Bounding box:  xmin: -145.9802 ymin: 65.40202 xmax: -145.9802 ymax: 65.40203\n",
      "Geodetic CRS:  GCS_unknown\n",
      "  CLASS_ID    CLASS_NAME AREA                       geometry\n",
      "1        4 Twelvemile100  492 POLYGON ((-145.9802 65.4020...\n"
     ]
    },
    {
     "name": "stderr",
     "output_type": "stream",
     "text": [
      "Saving 6.67 x 6.67 in image\n",
      "\n"
     ]
    },
    {
     "name": "stdout",
     "output_type": "stream",
     "text": [
      "Simple feature collection with 1 feature and 3 fields\n",
      "Geometry type: POLYGON\n",
      "Dimension:     XY\n",
      "Bounding box:  xmin: -145.98 ymin: 65.402 xmax: -145.98 ymax: 65.40201\n",
      "Geodetic CRS:  GCS_unknown\n",
      "  CLASS_ID   CLASS_NAME AREA                       geometry\n",
      "2        3 Twelvemile90  473 POLYGON ((-145.98 65.402, -...\n"
     ]
    },
    {
     "name": "stderr",
     "output_type": "stream",
     "text": [
      "Saving 6.67 x 6.67 in image\n",
      "\n"
     ]
    },
    {
     "name": "stdout",
     "output_type": "stream",
     "text": [
      "Simple feature collection with 1 feature and 3 fields\n",
      "Geometry type: POLYGON\n",
      "Dimension:     XY\n",
      "Bounding box:  xmin: -145.9798 ymin: 65.40198 xmax: -145.9798 ymax: 65.40199\n",
      "Geodetic CRS:  GCS_unknown\n",
      "  CLASS_ID   CLASS_NAME AREA                       geometry\n",
      "3        2 Twelvemile80  631 POLYGON ((-145.9798 65.4019...\n"
     ]
    },
    {
     "name": "stderr",
     "output_type": "stream",
     "text": [
      "Saving 6.67 x 6.67 in image\n",
      "\n"
     ]
    },
    {
     "name": "stdout",
     "output_type": "stream",
     "text": [
      "Simple feature collection with 1 feature and 3 fields\n",
      "Geometry type: POLYGON\n",
      "Dimension:     XY\n",
      "Bounding box:  xmin: -145.9796 ymin: 65.40196 xmax: -145.9796 ymax: 65.40197\n",
      "Geodetic CRS:  GCS_unknown\n",
      "  CLASS_ID   CLASS_NAME AREA                       geometry\n",
      "4        1 Twelvemile70  518 POLYGON ((-145.9796 65.4019...\n"
     ]
    },
    {
     "name": "stderr",
     "output_type": "stream",
     "text": [
      "Saving 6.67 x 6.67 in image\n",
      "\n",
      "Saving 6.67 x 6.67 in image\n",
      "\n",
      "Saving 6.67 x 6.67 in image\n",
      "\n",
      "Saving 6.67 x 6.67 in image\n",
      "\n",
      "Saving 6.67 x 6.67 in image\n",
      "\n"
     ]
    },
    {
     "name": "stdout",
     "output_type": "stream",
     "text": [
      "[1] \"preprocessing raster at Data/Ground_Validation/Imagery/EightMileQuads.envi\"\n",
      "[1] \"Converted to Data frame?\"\n",
      "[1] TRUE\n",
      "[1] \"Noisy columns removed\"\n",
      "[1] TRUE\n",
      "[1] \"Filtered\"\n",
      "[1] TRUE\n"
     ]
    },
    {
     "name": "stderr",
     "output_type": "stream",
     "text": [
      "Using spline to predict value at new bands...\n",
      "\n",
      "Beware the spectra are now partially smoothed.\n",
      "\n"
     ]
    },
    {
     "name": "stdout",
     "output_type": "stream",
     "text": [
      "[1] \"Imputing...\"\n",
      "[1] \"Handling Outliers with method: none\"\n",
      "[1] \"Transforming the data with transform: none\"\n",
      "          x        y z\n",
      "1 -149.2529 63.87686 3\n",
      "2 -149.2529 63.87686 3\n",
      "3 -149.2529 63.87686 3\n",
      "4 -149.2529 63.87686 3\n",
      "5 -149.2529 63.87686 3\n",
      "6 -149.2529 63.87686 3\n",
      "          x        y z\n",
      "1 -149.2529 63.87686 3\n",
      "2 -149.2529 63.87686 3\n",
      "3 -149.2529 63.87686 3\n",
      "4 -149.2529 63.87686 3\n",
      "5 -149.2529 63.87686 3\n",
      "6 -149.2529 63.87686 3\n",
      "[1] \"Attempting to save to ./validation_saved_output.grd\"\n",
      "[1] \"Converted to Raster\"\n",
      "Reading layer `EightMile_Quadrats_revised' from data source \n",
      "  `/home/krbundy/GitHub/lecospec/Data/Vectors/EightMile_Quadrats_revised.shp' \n",
      "  using driver `ESRI Shapefile'\n",
      "Simple feature collection with 11 features and 3 fields\n",
      "Geometry type: POLYGON\n",
      "Dimension:     XY\n",
      "Bounding box:  xmin: -149.2549 ymin: 63.87666 xmax: -149.2529 ymax: 63.87686\n",
      "Geodetic CRS:  WGS 84\n",
      "Simple feature collection with 1 feature and 3 fields\n",
      "Geometry type: POLYGON\n",
      "Dimension:     XY\n",
      "Bounding box:  xmin: -149.2547 ymin: 63.87667 xmax: -149.2546 ymax: 63.87669\n",
      "Geodetic CRS:  GCS_unknown\n",
      "   CLASS_NAME CLASS_ID CLASS_CLRS                       geometry\n",
      "1 Eightmile10        2    0,128,0 POLYGON ((-149.2547 63.8766...\n"
     ]
    },
    {
     "name": "stderr",
     "output_type": "stream",
     "text": [
      "Saving 6.67 x 6.67 in image\n",
      "\n"
     ]
    },
    {
     "name": "stdout",
     "output_type": "stream",
     "text": [
      "Simple feature collection with 1 feature and 3 fields\n",
      "Geometry type: POLYGON\n",
      "Dimension:     XY\n",
      "Bounding box:  xmin: -149.2549 ymin: 63.87666 xmax: -149.2548 ymax: 63.87667\n",
      "Geodetic CRS:  GCS_unknown\n",
      "  CLASS_NAME CLASS_ID CLASS_CLRS                       geometry\n",
      "2 Eightmile0        1    255,0,0 POLYGON ((-149.2548 63.8766...\n"
     ]
    },
    {
     "name": "stderr",
     "output_type": "stream",
     "text": [
      "Saving 6.67 x 6.67 in image\n",
      "\n"
     ]
    },
    {
     "name": "stdout",
     "output_type": "stream",
     "text": [
      "Simple feature collection with 1 feature and 3 fields\n",
      "Geometry type: POLYGON\n",
      "Dimension:     XY\n",
      "Bounding box:  xmin: -149.2537 ymin: 63.87675 xmax: -149.2537 ymax: 63.87677\n",
      "Geodetic CRS:  GCS_unknown\n",
      "   CLASS_NAME CLASS_ID CLASS_CLRS                       geometry\n",
      "3 Eightmile60        7  128,128,0 POLYGON ((-149.2537 63.8767...\n"
     ]
    },
    {
     "name": "stderr",
     "output_type": "stream",
     "text": [
      "Saving 6.67 x 6.67 in image\n",
      "\n"
     ]
    },
    {
     "name": "stdout",
     "output_type": "stream",
     "text": [
      "Simple feature collection with 1 feature and 3 fields\n",
      "Geometry type: POLYGON\n",
      "Dimension:     XY\n",
      "Bounding box:  xmin: -149.2539 ymin: 63.87673 xmax: -149.2539 ymax: 63.87674\n",
      "Geodetic CRS:  GCS_unknown\n",
      "   CLASS_NAME CLASS_ID CLASS_CLRS                       geometry\n",
      "4 Eightmile50        6  255,0,255 POLYGON ((-149.2539 63.8767...\n"
     ]
    },
    {
     "name": "stderr",
     "output_type": "stream",
     "text": [
      "Saving 6.67 x 6.67 in image\n",
      "\n"
     ]
    },
    {
     "name": "stdout",
     "output_type": "stream",
     "text": [
      "Simple feature collection with 1 feature and 3 fields\n",
      "Geometry type: POLYGON\n",
      "Dimension:     XY\n",
      "Bounding box:  xmin: -149.2541 ymin: 63.87672 xmax: -149.254 ymax: 63.87673\n",
      "Geodetic CRS:  GCS_unknown\n",
      "   CLASS_NAME CLASS_ID CLASS_CLRS                       geometry\n",
      "5 Eightmile40        5  0,255,255 POLYGON ((-149.254 63.87673...\n"
     ]
    },
    {
     "name": "stderr",
     "output_type": "stream",
     "text": [
      "Saving 6.67 x 6.67 in image\n",
      "\n"
     ]
    },
    {
     "name": "stdout",
     "output_type": "stream",
     "text": [
      "Simple feature collection with 1 feature and 3 fields\n",
      "Geometry type: POLYGON\n",
      "Dimension:     XY\n",
      "Bounding box:  xmin: -149.2543 ymin: 63.87671 xmax: -149.2542 ymax: 63.87672\n",
      "Geodetic CRS:  GCS_unknown\n",
      "   CLASS_NAME CLASS_ID CLASS_CLRS                       geometry\n",
      "6 Eightmile30        4  255,255,0 POLYGON ((-149.2542 63.8767...\n"
     ]
    },
    {
     "name": "stderr",
     "output_type": "stream",
     "text": [
      "Saving 6.67 x 6.67 in image\n",
      "\n"
     ]
    },
    {
     "name": "stdout",
     "output_type": "stream",
     "text": [
      "Simple feature collection with 1 feature and 3 fields\n",
      "Geometry type: POLYGON\n",
      "Dimension:     XY\n",
      "Bounding box:  xmin: -149.2545 ymin: 63.87669 xmax: -149.2544 ymax: 63.8767\n",
      "Geodetic CRS:  GCS_unknown\n",
      "   CLASS_NAME CLASS_ID CLASS_CLRS                       geometry\n",
      "7 Eightmile20        3    0,0,255 POLYGON ((-149.2544 63.8767...\n"
     ]
    },
    {
     "name": "stderr",
     "output_type": "stream",
     "text": [
      "Saving 6.67 x 6.67 in image\n",
      "\n"
     ]
    },
    {
     "name": "stdout",
     "output_type": "stream",
     "text": [
      "Simple feature collection with 1 feature and 3 fields\n",
      "Geometry type: POLYGON\n",
      "Dimension:     XY\n",
      "Bounding box:  xmin: -149.2529 ymin: 63.87685 xmax: -149.2529 ymax: 63.87686\n",
      "Geodetic CRS:  GCS_unknown\n",
      "    CLASS_NAME CLASS_ID CLASS_CLRS                       geometry\n",
      "8 Eightmile100       11    0,255,0 POLYGON ((-149.2529 63.8768...\n"
     ]
    },
    {
     "name": "stderr",
     "output_type": "stream",
     "text": [
      "Saving 6.67 x 6.67 in image\n",
      "\n"
     ]
    },
    {
     "name": "stdout",
     "output_type": "stream",
     "text": [
      "Simple feature collection with 1 feature and 3 fields\n",
      "Geometry type: POLYGON\n",
      "Dimension:     XY\n",
      "Bounding box:  xmin: -149.2531 ymin: 63.87682 xmax: -149.2531 ymax: 63.87684\n",
      "Geodetic CRS:  GCS_unknown\n",
      "   CLASS_NAME CLASS_ID CLASS_CLRS                       geometry\n",
      "9 Eightmile90       10    128,0,0 POLYGON ((-149.2531 63.8768...\n"
     ]
    },
    {
     "name": "stderr",
     "output_type": "stream",
     "text": [
      "Saving 6.67 x 6.67 in image\n",
      "\n"
     ]
    },
    {
     "name": "stdout",
     "output_type": "stream",
     "text": [
      "Simple feature collection with 1 feature and 3 fields\n",
      "Geometry type: POLYGON\n",
      "Dimension:     XY\n",
      "Bounding box:  xmin: -149.2533 ymin: 63.8768 xmax: -149.2533 ymax: 63.87681\n",
      "Geodetic CRS:  GCS_unknown\n",
      "    CLASS_NAME CLASS_ID CLASS_CLRS                       geometry\n",
      "10 Eightmile80        9  255,255,0 POLYGON ((-149.2533 63.8768...\n"
     ]
    },
    {
     "name": "stderr",
     "output_type": "stream",
     "text": [
      "Saving 6.67 x 6.67 in image\n",
      "\n"
     ]
    },
    {
     "name": "stdout",
     "output_type": "stream",
     "text": [
      "Simple feature collection with 1 feature and 3 fields\n",
      "Geometry type: POLYGON\n",
      "Dimension:     XY\n",
      "Bounding box:  xmin: -149.2535 ymin: 63.87678 xmax: -149.2535 ymax: 63.87679\n",
      "Geodetic CRS:  GCS_unknown\n",
      "    CLASS_NAME CLASS_ID CLASS_CLRS                       geometry\n",
      "11 Eightmile70        8  0,128,128 POLYGON ((-149.2535 63.8767...\n"
     ]
    },
    {
     "name": "stderr",
     "output_type": "stream",
     "text": [
      "Saving 6.67 x 6.67 in image\n",
      "\n",
      "Saving 6.67 x 6.67 in image\n",
      "\n",
      "Saving 6.67 x 6.67 in image\n",
      "\n",
      "Saving 6.67 x 6.67 in image\n",
      "\n",
      "Saving 6.67 x 6.67 in image\n",
      "\n",
      "Saving 6.67 x 6.67 in image\n",
      "\n",
      "Saving 6.67 x 6.67 in image\n",
      "\n",
      "Saving 6.67 x 6.67 in image\n",
      "\n",
      "Saving 6.67 x 6.67 in image\n",
      "\n",
      "Saving 6.67 x 6.67 in image\n",
      "\n",
      "Saving 6.67 x 6.67 in image\n",
      "\n",
      "Saving 6.67 x 6.67 in image\n",
      "\n"
     ]
    },
    {
     "name": "stdout",
     "output_type": "stream",
     "text": [
      "[1] \"preprocessing raster at Data/Ground_Validation/Imagery/MurphDomeQuads0_10.envi\"\n",
      "[1] \"Converted to Data frame?\"\n",
      "[1] TRUE\n",
      "[1] \"Noisy columns removed\"\n",
      "[1] TRUE\n",
      "[1] \"Filtered\"\n",
      "[1] TRUE\n"
     ]
    },
    {
     "name": "stderr",
     "output_type": "stream",
     "text": [
      "Using spline to predict value at new bands...\n",
      "\n",
      "Beware the spectra are now partially smoothed.\n",
      "\n"
     ]
    },
    {
     "name": "stdout",
     "output_type": "stream",
     "text": [
      "[1] \"Imputing...\"\n",
      "[1] \"Handling Outliers with method: none\"\n",
      "[1] \"Transforming the data with transform: none\"\n",
      "          x       y z\n",
      "1 -148.3535 64.9538 3\n",
      "2 -148.3535 64.9538 3\n",
      "3 -148.3535 64.9538 3\n",
      "4 -148.3535 64.9538 3\n",
      "5 -148.3535 64.9538 3\n",
      "6 -148.3535 64.9538 3\n",
      "          x       y z\n",
      "1 -148.3535 64.9538 3\n",
      "2 -148.3535 64.9538 3\n",
      "3 -148.3535 64.9538 3\n",
      "4 -148.3535 64.9538 3\n",
      "5 -148.3535 64.9538 3\n",
      "6 -148.3535 64.9538 3\n",
      "[1] \"Attempting to save to ./validation_saved_output.grd\"\n",
      "[1] \"Converted to Raster\"\n",
      "Reading layer `MurphyQuads0_10m' from data source \n",
      "  `/home/krbundy/GitHub/lecospec/Data/Vectors/MurphyQuads0_10m.shp' \n",
      "  using driver `ESRI Shapefile'\n",
      "Simple feature collection with 2 features and 3 fields\n",
      "Geometry type: POLYGON\n",
      "Dimension:     XY\n",
      "Bounding box:  xmin: -148.3535 ymin: 64.95372 xmax: -148.3533 ymax: 64.9538\n",
      "Geodetic CRS:  WGS 84\n",
      "Simple feature collection with 1 feature and 3 fields\n",
      "Geometry type: POLYGON\n",
      "Dimension:     XY\n",
      "Bounding box:  xmin: -148.3535 ymin: 64.95379 xmax: -148.3535 ymax: 64.9538\n",
      "Geodetic CRS:  GCS_unknown\n",
      "    CLASS_NAME CLASS_ID CLASS_CLRS                       geometry\n",
      "1 Murphydome10        1    0,0,255 POLYGON ((-148.3535 64.9538...\n"
     ]
    },
    {
     "name": "stderr",
     "output_type": "stream",
     "text": [
      "Saving 6.67 x 6.67 in image\n",
      "\n"
     ]
    },
    {
     "name": "stdout",
     "output_type": "stream",
     "text": [
      "Simple feature collection with 1 feature and 3 fields\n",
      "Geometry type: POLYGON\n",
      "Dimension:     XY\n",
      "Bounding box:  xmin: -148.3534 ymin: 64.95372 xmax: -148.3533 ymax: 64.95373\n",
      "Geodetic CRS:  GCS_unknown\n",
      "   CLASS_NAME CLASS_ID CLASS_CLRS                       geometry\n",
      "2 Murphydome0        2    0,128,0 POLYGON ((-148.3534 64.9537...\n"
     ]
    },
    {
     "name": "stderr",
     "output_type": "stream",
     "text": [
      "Saving 6.67 x 6.67 in image\n",
      "\n",
      "Saving 6.67 x 6.67 in image\n",
      "\n",
      "Saving 6.67 x 6.67 in image\n",
      "\n"
     ]
    },
    {
     "name": "stdout",
     "output_type": "stream",
     "text": [
      "[1] \"preprocessing raster at Data/Ground_Validation/Imagery/MurphDomeQuads20_50.envi\"\n",
      "[1] \"Converted to Data frame?\"\n",
      "[1] TRUE\n",
      "[1] \"Noisy columns removed\"\n",
      "[1] TRUE\n",
      "[1] \"Filtered\"\n",
      "[1] TRUE\n"
     ]
    },
    {
     "name": "stderr",
     "output_type": "stream",
     "text": [
      "Using spline to predict value at new bands...\n",
      "\n",
      "Beware the spectra are now partially smoothed.\n",
      "\n"
     ]
    },
    {
     "name": "stdout",
     "output_type": "stream",
     "text": [
      "[1] \"Imputing...\"\n",
      "[1] \"Handling Outliers with method: none\"\n",
      "[1] \"Transforming the data with transform: none\"\n",
      "          x        y z\n",
      "1 -148.3540 64.95407 3\n",
      "2 -148.3541 64.95407 3\n",
      "3 -148.3540 64.95407 3\n",
      "4 -148.3540 64.95407 3\n",
      "5 -148.3541 64.95407 3\n",
      "6 -148.3541 64.95407 2\n",
      "          x        y z\n",
      "1 -148.3540 64.95407 3\n",
      "2 -148.3541 64.95407 3\n",
      "3 -148.3540 64.95407 3\n",
      "4 -148.3540 64.95407 3\n",
      "5 -148.3541 64.95407 3\n",
      "6 -148.3541 64.95407 2\n",
      "[1] \"Attempting to save to ./validation_saved_output.grd\"\n",
      "[1] \"Converted to Raster\"\n",
      "Reading layer `MurphyQuads20_50m' from data source \n",
      "  `/home/krbundy/GitHub/lecospec/Data/Vectors/MurphyQuads20_50m.shp' \n",
      "  using driver `ESRI Shapefile'\n",
      "Simple feature collection with 4 features and 3 fields\n",
      "Geometry type: POLYGON\n",
      "Dimension:     XY\n",
      "Bounding box:  xmin: -148.3541 ymin: 64.95384 xmax: -148.3536 ymax: 64.95407\n",
      "Geodetic CRS:  WGS 84\n",
      "Simple feature collection with 1 feature and 3 fields\n",
      "Geometry type: POLYGON\n",
      "Dimension:     XY\n",
      "Bounding box:  xmin: -148.3541 ymin: 64.95406 xmax: -148.354 ymax: 64.95407\n",
      "Geodetic CRS:  GCS_unknown\n",
      "    CLASS_NAME CLASS_ID CLASS_CLRS                       geometry\n",
      "1 Murphydome50        1  128,128,0 POLYGON ((-148.354 64.95407...\n"
     ]
    },
    {
     "name": "stderr",
     "output_type": "stream",
     "text": [
      "Saving 6.67 x 6.67 in image\n",
      "\n"
     ]
    },
    {
     "name": "stdout",
     "output_type": "stream",
     "text": [
      "Simple feature collection with 1 feature and 3 fields\n",
      "Geometry type: POLYGON\n",
      "Dimension:     XY\n",
      "Bounding box:  xmin: -148.3539 ymin: 64.95399 xmax: -148.3539 ymax: 64.954\n",
      "Geodetic CRS:  GCS_unknown\n",
      "    CLASS_NAME CLASS_ID CLASS_CLRS                       geometry\n",
      "2 Murphydome40        2  255,0,255 POLYGON ((-148.3539 64.954,...\n"
     ]
    },
    {
     "name": "stderr",
     "output_type": "stream",
     "text": [
      "Saving 6.67 x 6.67 in image\n",
      "\n"
     ]
    },
    {
     "name": "stdout",
     "output_type": "stream",
     "text": [
      "Simple feature collection with 1 feature and 3 fields\n",
      "Geometry type: POLYGON\n",
      "Dimension:     XY\n",
      "Bounding box:  xmin: -148.3538 ymin: 64.95392 xmax: -148.3537 ymax: 64.95393\n",
      "Geodetic CRS:  GCS_unknown\n",
      "    CLASS_NAME CLASS_ID CLASS_CLRS                       geometry\n",
      "3 Murphydome30        3  0,255,255 POLYGON ((-148.3538 64.9539...\n"
     ]
    },
    {
     "name": "stderr",
     "output_type": "stream",
     "text": [
      "Saving 6.67 x 6.67 in image\n",
      "\n"
     ]
    },
    {
     "name": "stdout",
     "output_type": "stream",
     "text": [
      "Simple feature collection with 1 feature and 3 fields\n",
      "Geometry type: POLYGON\n",
      "Dimension:     XY\n",
      "Bounding box:  xmin: -148.3537 ymin: 64.95384 xmax: -148.3536 ymax: 64.95386\n",
      "Geodetic CRS:  GCS_unknown\n",
      "    CLASS_NAME CLASS_ID CLASS_CLRS                       geometry\n",
      "4 Murphydome20        4  255,255,0 POLYGON ((-148.3536 64.9538...\n"
     ]
    },
    {
     "name": "stderr",
     "output_type": "stream",
     "text": [
      "Saving 6.67 x 6.67 in image\n",
      "\n",
      "Saving 6.67 x 6.67 in image\n",
      "\n",
      "Saving 6.67 x 6.67 in image\n",
      "\n",
      "Saving 6.67 x 6.67 in image\n",
      "\n",
      "Saving 6.67 x 6.67 in image\n",
      "\n"
     ]
    },
    {
     "name": "stdout",
     "output_type": "stream",
     "text": [
      "[1] \"preprocessing raster at Data/Ground_Validation/Imagery/MurphDomeQuads60_100.envi\"\n",
      "[1] \"Converted to Data frame?\"\n",
      "[1] TRUE\n",
      "[1] \"Noisy columns removed\"\n",
      "[1] TRUE\n",
      "[1] \"Filtered\"\n",
      "[1] TRUE\n"
     ]
    },
    {
     "name": "stderr",
     "output_type": "stream",
     "text": [
      "Using spline to predict value at new bands...\n",
      "\n",
      "Beware the spectra are now partially smoothed.\n",
      "\n"
     ]
    },
    {
     "name": "stdout",
     "output_type": "stream",
     "text": [
      "[1] \"Imputing...\"\n",
      "[1] \"Handling Outliers with method: none\"\n",
      "[1] \"Transforming the data with transform: none\"\n",
      "          x        y z\n",
      "1 -148.3548 64.95441 3\n",
      "2 -148.3548 64.95441 3\n",
      "3 -148.3548 64.95441 3\n",
      "4 -148.3548 64.95441 3\n",
      "5 -148.3548 64.95441 3\n",
      "6 -148.3548 64.95441 3\n",
      "          x        y z\n",
      "1 -148.3548 64.95441 3\n",
      "2 -148.3548 64.95441 3\n",
      "3 -148.3548 64.95441 3\n",
      "4 -148.3548 64.95441 3\n",
      "5 -148.3548 64.95441 3\n",
      "6 -148.3548 64.95441 3\n",
      "[1] \"Attempting to save to ./validation_saved_output.grd\"\n",
      "[1] \"Converted to Raster\"\n",
      "Reading layer `MurphyQuads60_100m' from data source \n",
      "  `/home/krbundy/GitHub/lecospec/Data/Vectors/MurphyQuads60_100m.shp' \n",
      "  using driver `ESRI Shapefile'\n",
      "Simple feature collection with 5 features and 3 fields\n",
      "Geometry type: POLYGON\n",
      "Dimension:     XY\n",
      "Bounding box:  xmin: -148.3548 ymin: 64.95413 xmax: -148.3542 ymax: 64.95441\n",
      "Geodetic CRS:  WGS 84\n",
      "Simple feature collection with 1 feature and 3 fields\n",
      "Geometry type: POLYGON\n",
      "Dimension:     XY\n",
      "Bounding box:  xmin: -148.3548 ymin: 64.9544 xmax: -148.3547 ymax: 64.95441\n",
      "Geodetic CRS:  GCS_unknown\n",
      "     CLASS_NAME CLASS_ID CLASS_CLRS                       geometry\n",
      "1 Murphydome100        1 255,127,80 POLYGON ((-148.3548 64.9544...\n"
     ]
    },
    {
     "name": "stderr",
     "output_type": "stream",
     "text": [
      "Saving 6.67 x 6.67 in image\n",
      "\n"
     ]
    },
    {
     "name": "stdout",
     "output_type": "stream",
     "text": [
      "Simple feature collection with 1 feature and 3 fields\n",
      "Geometry type: POLYGON\n",
      "Dimension:     XY\n",
      "Bounding box:  xmin: -148.3546 ymin: 64.95433 xmax: -148.3546 ymax: 64.95434\n",
      "Geodetic CRS:  GCS_unknown\n",
      "    CLASS_NAME CLASS_ID CLASS_CLRS                       geometry\n",
      "2 Murphydome90        2    0,0,128 POLYGON ((-148.3546 64.9543...\n"
     ]
    },
    {
     "name": "stderr",
     "output_type": "stream",
     "text": [
      "Saving 6.67 x 6.67 in image\n",
      "\n"
     ]
    },
    {
     "name": "stdout",
     "output_type": "stream",
     "text": [
      "Simple feature collection with 1 feature and 3 fields\n",
      "Geometry type: POLYGON\n",
      "Dimension:     XY\n",
      "Bounding box:  xmin: -148.3545 ymin: 64.95426 xmax: -148.3544 ymax: 64.95427\n",
      "Geodetic CRS:  GCS_unknown\n",
      "    CLASS_NAME CLASS_ID CLASS_CLRS                       geometry\n",
      "3 Murphydome80        3    0,255,0 POLYGON ((-148.3545 64.9542...\n"
     ]
    },
    {
     "name": "stderr",
     "output_type": "stream",
     "text": [
      "Saving 6.67 x 6.67 in image\n",
      "\n"
     ]
    },
    {
     "name": "stdout",
     "output_type": "stream",
     "text": [
      "Simple feature collection with 1 feature and 3 fields\n",
      "Geometry type: POLYGON\n",
      "Dimension:     XY\n",
      "Bounding box:  xmin: -148.3543 ymin: 64.95419 xmax: -148.3543 ymax: 64.9542\n",
      "Geodetic CRS:  GCS_unknown\n",
      "    CLASS_NAME CLASS_ID CLASS_CLRS                       geometry\n",
      "4 Murphydome70        4    128,0,0 POLYGON ((-148.3543 64.9542...\n"
     ]
    },
    {
     "name": "stderr",
     "output_type": "stream",
     "text": [
      "Saving 6.67 x 6.67 in image\n",
      "\n"
     ]
    },
    {
     "name": "stdout",
     "output_type": "stream",
     "text": [
      "Simple feature collection with 1 feature and 3 fields\n",
      "Geometry type: POLYGON\n",
      "Dimension:     XY\n",
      "Bounding box:  xmin: -148.3542 ymin: 64.95413 xmax: -148.3542 ymax: 64.95414\n",
      "Geodetic CRS:  GCS_unknown\n",
      "    CLASS_NAME CLASS_ID CLASS_CLRS                       geometry\n",
      "5 Murphydome60        5  0,128,128 POLYGON ((-148.3542 64.9541...\n"
     ]
    },
    {
     "name": "stderr",
     "output_type": "stream",
     "text": [
      "Saving 6.67 x 6.67 in image\n",
      "\n",
      "Saving 6.67 x 6.67 in image\n",
      "\n",
      "Saving 6.67 x 6.67 in image\n",
      "\n",
      "Saving 6.67 x 6.67 in image\n",
      "\n",
      "Saving 6.67 x 6.67 in image\n",
      "\n",
      "Saving 6.67 x 6.67 in image\n",
      "\n"
     ]
    },
    {
     "name": "stdout",
     "output_type": "stream",
     "text": [
      "[1] \"preprocessing raster at Data/Ground_Validation/Imagery/BonanzaQuads.envi\"\n",
      "[1] \"Converted to Data frame?\"\n",
      "[1] TRUE\n",
      "[1] \"Noisy columns removed\"\n",
      "[1] TRUE\n",
      "[1] \"Filtered\"\n",
      "[1] TRUE\n"
     ]
    },
    {
     "name": "stderr",
     "output_type": "stream",
     "text": [
      "Using spline to predict value at new bands...\n",
      "\n",
      "Beware the spectra are now partially smoothed.\n",
      "\n"
     ]
    },
    {
     "name": "stdout",
     "output_type": "stream",
     "text": [
      "[1] \"Imputing...\"\n",
      "[1] \"Handling Outliers with method: none\"\n",
      "[1] \"Transforming the data with transform: none\"\n",
      "          x        y z\n",
      "1 -148.2962 64.70435 3\n",
      "2 -148.2962 64.70435 3\n",
      "3 -148.2962 64.70435 3\n",
      "4 -148.2962 64.70435 3\n",
      "5 -148.2962 64.70435 3\n",
      "6 -148.2962 64.70435 6\n",
      "          x        y z\n",
      "1 -148.2962 64.70435 3\n",
      "2 -148.2962 64.70435 3\n",
      "3 -148.2962 64.70435 3\n",
      "4 -148.2962 64.70435 3\n",
      "5 -148.2962 64.70435 3\n",
      "6 -148.2962 64.70435 6\n",
      "[1] \"Attempting to save to ./validation_saved_output.grd\"\n",
      "[1] \"Converted to Raster\"\n",
      "Reading layer `Bonanza_N_Quads' from data source \n",
      "  `/home/krbundy/GitHub/lecospec/Data/Vectors/Bonanza_N_Quads.shp' \n",
      "  using driver `ESRI Shapefile'\n",
      "Simple feature collection with 11 features and 3 fields\n",
      "Geometry type: POLYGON\n",
      "Dimension:     XY\n",
      "Bounding box:  xmin: 438153.7 ymin: 7176051 xmax: 438205.6 ymax: 7176138\n",
      "Projected CRS: WGS 84 / UTM zone 6N\n",
      "Simple feature collection with 1 feature and 3 fields\n",
      "Geometry type: POLYGON\n",
      "Dimension:     XY\n",
      "Bounding box:  xmin: -148.2966 ymin: 64.70403 xmax: -148.2966 ymax: 64.70404\n",
      "Geodetic CRS:  GCS_unknown\n",
      "  CLASS_NAME CLASS_ID CLASS_CLRS                       geometry\n",
      "1  Bonanza60        7    128,0,0 POLYGON ((-148.2966 64.7040...\n"
     ]
    },
    {
     "name": "stderr",
     "output_type": "stream",
     "text": [
      "Saving 6.67 x 6.67 in image\n",
      "\n"
     ]
    },
    {
     "name": "stdout",
     "output_type": "stream",
     "text": [
      "Simple feature collection with 1 feature and 3 fields\n",
      "Geometry type: POLYGON\n",
      "Dimension:     XY\n",
      "Bounding box:  xmin: -148.2962 ymin: 64.70434 xmax: -148.2962 ymax: 64.70435\n",
      "Geodetic CRS:  GCS_unknown\n",
      "  CLASS_NAME CLASS_ID CLASS_CLRS                       geometry\n",
      "2 Bonanza100       11  127,255,0 POLYGON ((-148.2962 64.7043...\n"
     ]
    },
    {
     "name": "stderr",
     "output_type": "stream",
     "text": [
      "Saving 6.67 x 6.67 in image\n",
      "\n"
     ]
    },
    {
     "name": "stdout",
     "output_type": "stream",
     "text": [
      "Simple feature collection with 1 feature and 3 fields\n",
      "Geometry type: POLYGON\n",
      "Dimension:     XY\n",
      "Bounding box:  xmin: -148.2963 ymin: 64.70426 xmax: -148.2963 ymax: 64.70428\n",
      "Geodetic CRS:  GCS_unknown\n",
      "  CLASS_NAME CLASS_ID CLASS_CLRS                       geometry\n",
      "3  Bonanza90       10 255,127,80 POLYGON ((-148.2963 64.7042...\n"
     ]
    },
    {
     "name": "stderr",
     "output_type": "stream",
     "text": [
      "Saving 6.67 x 6.67 in image\n",
      "\n"
     ]
    },
    {
     "name": "stdout",
     "output_type": "stream",
     "text": [
      "Simple feature collection with 1 feature and 3 fields\n",
      "Geometry type: POLYGON\n",
      "Dimension:     XY\n",
      "Bounding box:  xmin: -148.2964 ymin: 64.70418 xmax: -148.2964 ymax: 64.7042\n",
      "Geodetic CRS:  GCS_unknown\n",
      "  CLASS_NAME CLASS_ID CLASS_CLRS                       geometry\n",
      "4  Bonanza80        9    0,0,128 POLYGON ((-148.2964 64.7042...\n"
     ]
    },
    {
     "name": "stderr",
     "output_type": "stream",
     "text": [
      "Saving 6.67 x 6.67 in image\n",
      "\n"
     ]
    },
    {
     "name": "stdout",
     "output_type": "stream",
     "text": [
      "Simple feature collection with 1 feature and 3 fields\n",
      "Geometry type: POLYGON\n",
      "Dimension:     XY\n",
      "Bounding box:  xmin: -148.2967 ymin: 64.70395 xmax: -148.2967 ymax: 64.70396\n",
      "Geodetic CRS:  GCS_unknown\n",
      "  CLASS_NAME CLASS_ID CLASS_CLRS                       geometry\n",
      "5  Bonanza50        6  255,0,255 POLYGON ((-148.2967 64.7039...\n"
     ]
    },
    {
     "name": "stderr",
     "output_type": "stream",
     "text": [
      "Saving 6.67 x 6.67 in image\n",
      "\n"
     ]
    },
    {
     "name": "stdout",
     "output_type": "stream",
     "text": [
      "Simple feature collection with 1 feature and 3 fields\n",
      "Geometry type: POLYGON\n",
      "Dimension:     XY\n",
      "Bounding box:  xmin: -148.2968 ymin: 64.70387 xmax: -148.2968 ymax: 64.70388\n",
      "Geodetic CRS:  GCS_unknown\n",
      "  CLASS_NAME CLASS_ID CLASS_CLRS                       geometry\n",
      "6  Bonanza40        5  0,255,255 POLYGON ((-148.2968 64.7038...\n"
     ]
    },
    {
     "name": "stderr",
     "output_type": "stream",
     "text": [
      "Saving 6.67 x 6.67 in image\n",
      "\n"
     ]
    },
    {
     "name": "stdout",
     "output_type": "stream",
     "text": [
      "Simple feature collection with 1 feature and 3 fields\n",
      "Geometry type: POLYGON\n",
      "Dimension:     XY\n",
      "Bounding box:  xmin: -148.2969 ymin: 64.70379 xmax: -148.2969 ymax: 64.7038\n",
      "Geodetic CRS:  GCS_unknown\n",
      "  CLASS_NAME CLASS_ID CLASS_CLRS                       geometry\n",
      "7  Bonanza30        4  255,255,0 POLYGON ((-148.2969 64.7038...\n"
     ]
    },
    {
     "name": "stderr",
     "output_type": "stream",
     "text": [
      "Saving 6.67 x 6.67 in image\n",
      "\n"
     ]
    },
    {
     "name": "stdout",
     "output_type": "stream",
     "text": [
      "Simple feature collection with 1 feature and 3 fields\n",
      "Geometry type: POLYGON\n",
      "Dimension:     XY\n",
      "Bounding box:  xmin: -148.297 ymin: 64.70371 xmax: -148.297 ymax: 64.70373\n",
      "Geodetic CRS:  GCS_unknown\n",
      "  CLASS_NAME CLASS_ID CLASS_CLRS                       geometry\n",
      "8  Bonanza20        3    0,0,255 POLYGON ((-148.297 64.70373...\n"
     ]
    },
    {
     "name": "stderr",
     "output_type": "stream",
     "text": [
      "Saving 6.67 x 6.67 in image\n",
      "\n"
     ]
    },
    {
     "name": "stdout",
     "output_type": "stream",
     "text": [
      "Simple feature collection with 1 feature and 3 fields\n",
      "Geometry type: POLYGON\n",
      "Dimension:     XY\n",
      "Bounding box:  xmin: -148.2971 ymin: 64.70364 xmax: -148.2971 ymax: 64.70365\n",
      "Geodetic CRS:  GCS_unknown\n",
      "  CLASS_NAME CLASS_ID CLASS_CLRS                       geometry\n",
      "9  Bonanza10        2    0,128,0 POLYGON ((-148.2971 64.7036...\n"
     ]
    },
    {
     "name": "stderr",
     "output_type": "stream",
     "text": [
      "Saving 6.67 x 6.67 in image\n",
      "\n"
     ]
    },
    {
     "name": "stdout",
     "output_type": "stream",
     "text": [
      "Simple feature collection with 1 feature and 3 fields\n",
      "Geometry type: POLYGON\n",
      "Dimension:     XY\n",
      "Bounding box:  xmin: -148.2972 ymin: 64.70356 xmax: -148.2972 ymax: 64.70357\n",
      "Geodetic CRS:  GCS_unknown\n",
      "   CLASS_NAME CLASS_ID CLASS_CLRS                       geometry\n",
      "10   Bonanza0        1    255,0,0 POLYGON ((-148.2972 64.7035...\n"
     ]
    },
    {
     "name": "stderr",
     "output_type": "stream",
     "text": [
      "Saving 6.67 x 6.67 in image\n",
      "\n"
     ]
    },
    {
     "name": "stdout",
     "output_type": "stream",
     "text": [
      "Simple feature collection with 1 feature and 3 fields\n",
      "Geometry type: POLYGON\n",
      "Dimension:     XY\n",
      "Bounding box:  xmin: -148.2965 ymin: 64.70411 xmax: -148.2965 ymax: 64.70412\n",
      "Geodetic CRS:  GCS_unknown\n",
      "   CLASS_NAME CLASS_ID CLASS_CLRS                       geometry\n",
      "11  Bonanza70        8    0,255,0 POLYGON ((-148.2965 64.7041...\n"
     ]
    },
    {
     "name": "stderr",
     "output_type": "stream",
     "text": [
      "Saving 6.67 x 6.67 in image\n",
      "\n",
      "Saving 6.67 x 6.67 in image\n",
      "\n",
      "Saving 6.67 x 6.67 in image\n",
      "\n",
      "Saving 6.67 x 6.67 in image\n",
      "\n",
      "Saving 6.67 x 6.67 in image\n",
      "\n",
      "Saving 6.67 x 6.67 in image\n",
      "\n",
      "Saving 6.67 x 6.67 in image\n",
      "\n",
      "Saving 6.67 x 6.67 in image\n",
      "\n",
      "Saving 6.67 x 6.67 in image\n",
      "\n",
      "Saving 6.67 x 6.67 in image\n",
      "\n",
      "Saving 6.67 x 6.67 in image\n",
      "\n",
      "Saving 6.67 x 6.67 in image\n",
      "\n",
      "Warning message in confusionMatrix.default(model_predictions, test_labels, mode = \"everything\"):\n",
      "“Levels are not in the same order for reference and data. Refactoring data to match.”\n"
     ]
    },
    {
     "name": "stdout",
     "output_type": "stream",
     "text": [
      "[1] \"preprocessing raster at Data/Ground_Validation/Imagery/BisonGulchQuads.envi\"\n",
      "[1] \"Converted to Data frame?\"\n",
      "[1] TRUE\n",
      "[1] \"Noisy columns removed\"\n",
      "[1] TRUE\n",
      "[1] \"Filtered\"\n",
      "[1] TRUE\n"
     ]
    },
    {
     "name": "stderr",
     "output_type": "stream",
     "text": [
      "Using spline to predict value at new bands...\n",
      "\n",
      "Beware the spectra are now partially smoothed.\n",
      "\n"
     ]
    },
    {
     "name": "stdout",
     "output_type": "stream",
     "text": [
      "[1] \"Imputing...\"\n",
      "[1] \"Handling Outliers with method: none\"\n",
      "[1] \"Transforming the data with transform: none\"\n",
      "          x        y z\n",
      "1 -148.9508 63.80701 5\n",
      "2 -148.9508 63.80701 1\n",
      "3 -148.9508 63.80701 1\n",
      "4 -148.9508 63.80701 1\n",
      "5 -148.9508 63.80701 1\n",
      "6 -148.9508 63.80701 5\n",
      "          x        y z\n",
      "1 -148.9508 63.80701 5\n",
      "2 -148.9508 63.80701 1\n",
      "3 -148.9508 63.80701 1\n",
      "4 -148.9508 63.80701 1\n",
      "5 -148.9508 63.80701 1\n",
      "6 -148.9508 63.80701 5\n",
      "[1] \"Attempting to save to ./validation_saved_output.grd\"\n",
      "[1] \"Converted to Raster\"\n",
      "Reading layer `Bisoon_Quadrats_georeferenced' from data source \n",
      "  `/home/krbundy/GitHub/lecospec/Data/Vectors/Bisoon_Quadrats_georeferenced.shp' \n",
      "  using driver `ESRI Shapefile'\n",
      "Simple feature collection with 9 features and 3 fields\n",
      "Geometry type: POLYGON\n",
      "Dimension:     XY\n",
      "Bounding box:  xmin: -148.9524 ymin: 63.80698 xmax: -148.9508 ymax: 63.80701\n",
      "Geodetic CRS:  WGS 84\n",
      "Simple feature collection with 1 feature and 3 fields\n",
      "Geometry type: POLYGON\n",
      "Dimension:     XY\n",
      "Bounding box:  xmin: -148.9508 ymin: 63.807 xmax: -148.9508 ymax: 63.80701\n",
      "Geodetic CRS:  GCS_unknown\n",
      "  CLASS_ID  CLASS_NAME AREA                       geometry\n",
      "1        1 Bisongulch0  612 POLYGON ((-148.9508 63.807,...\n"
     ]
    },
    {
     "name": "stderr",
     "output_type": "stream",
     "text": [
      "Saving 6.67 x 6.67 in image\n",
      "\n"
     ]
    },
    {
     "name": "stdout",
     "output_type": "stream",
     "text": [
      "Simple feature collection with 1 feature and 3 fields\n",
      "Geometry type: POLYGON\n",
      "Dimension:     XY\n",
      "Bounding box:  xmin: -148.952 ymin: 63.80699 xmax: -148.952 ymax: 63.807\n",
      "Geodetic CRS:  GCS_unknown\n",
      "  CLASS_ID   CLASS_NAME AREA                       geometry\n",
      "2        7 Bisongulch70  649 POLYGON ((-148.952 63.80699...\n"
     ]
    },
    {
     "name": "stderr",
     "output_type": "stream",
     "text": [
      "Saving 6.67 x 6.67 in image\n",
      "\n"
     ]
    },
    {
     "name": "stdout",
     "output_type": "stream",
     "text": [
      "Simple feature collection with 1 feature and 3 fields\n",
      "Geometry type: POLYGON\n",
      "Dimension:     XY\n",
      "Bounding box:  xmin: -148.9522 ymin: 63.80699 xmax: -148.9522 ymax: 63.807\n",
      "Geodetic CRS:  GCS_unknown\n",
      "  CLASS_ID   CLASS_NAME AREA                       geometry\n",
      "3        8 Bisongulch80  661 POLYGON ((-148.9522 63.8069...\n"
     ]
    },
    {
     "name": "stderr",
     "output_type": "stream",
     "text": [
      "Saving 6.67 x 6.67 in image\n",
      "\n"
     ]
    },
    {
     "name": "stdout",
     "output_type": "stream",
     "text": [
      "Simple feature collection with 1 feature and 3 fields\n",
      "Geometry type: POLYGON\n",
      "Dimension:     XY\n",
      "Bounding box:  xmin: -148.951 ymin: 63.80699 xmax: -148.9509 ymax: 63.807\n",
      "Geodetic CRS:  GCS_unknown\n",
      "  CLASS_ID   CLASS_NAME AREA                       geometry\n",
      "4        2 Bisongulch10  649 POLYGON ((-148.9509 63.8069...\n"
     ]
    },
    {
     "name": "stderr",
     "output_type": "stream",
     "text": [
      "Saving 6.67 x 6.67 in image\n",
      "\n"
     ]
    },
    {
     "name": "stdout",
     "output_type": "stream",
     "text": [
      "Simple feature collection with 1 feature and 3 fields\n",
      "Geometry type: POLYGON\n",
      "Dimension:     XY\n",
      "Bounding box:  xmin: -148.9524 ymin: 63.80699 xmax: -148.9524 ymax: 63.807\n",
      "Geodetic CRS:  GCS_unknown\n",
      "  CLASS_ID   CLASS_NAME AREA                       geometry\n",
      "5        9 Bisongulch90  648 POLYGON ((-148.9524 63.8069...\n"
     ]
    },
    {
     "name": "stderr",
     "output_type": "stream",
     "text": [
      "Saving 6.67 x 6.67 in image\n",
      "\n"
     ]
    },
    {
     "name": "stdout",
     "output_type": "stream",
     "text": [
      "Simple feature collection with 1 feature and 3 fields\n",
      "Geometry type: POLYGON\n",
      "Dimension:     XY\n",
      "Bounding box:  xmin: -148.9512 ymin: 63.80699 xmax: -148.9512 ymax: 63.807\n",
      "Geodetic CRS:  GCS_unknown\n",
      "  CLASS_ID   CLASS_NAME AREA                       geometry\n",
      "6        3 Bisongulch20  574 POLYGON ((-148.9512 63.8069...\n"
     ]
    },
    {
     "name": "stderr",
     "output_type": "stream",
     "text": [
      "Saving 6.67 x 6.67 in image\n",
      "\n"
     ]
    },
    {
     "name": "stdout",
     "output_type": "stream",
     "text": [
      "Simple feature collection with 1 feature and 3 fields\n",
      "Geometry type: POLYGON\n",
      "Dimension:     XY\n",
      "Bounding box:  xmin: -148.9518 ymin: 63.80699 xmax: -148.9518 ymax: 63.807\n",
      "Geodetic CRS:  GCS_unknown\n",
      "  CLASS_ID   CLASS_NAME AREA                       geometry\n",
      "7        6 Bisongulch50  673 POLYGON ((-148.9518 63.8069...\n"
     ]
    },
    {
     "name": "stderr",
     "output_type": "stream",
     "text": [
      "Saving 6.67 x 6.67 in image\n",
      "\n"
     ]
    },
    {
     "name": "stdout",
     "output_type": "stream",
     "text": [
      "Simple feature collection with 1 feature and 3 fields\n",
      "Geometry type: POLYGON\n",
      "Dimension:     XY\n",
      "Bounding box:  xmin: -148.9514 ymin: 63.80699 xmax: -148.9514 ymax: 63.807\n",
      "Geodetic CRS:  GCS_unknown\n",
      "  CLASS_ID   CLASS_NAME AREA                       geometry\n",
      "8        4 Bisongulch30  673 POLYGON ((-148.9514 63.8069...\n"
     ]
    },
    {
     "name": "stderr",
     "output_type": "stream",
     "text": [
      "Saving 6.67 x 6.67 in image\n",
      "\n"
     ]
    },
    {
     "name": "stdout",
     "output_type": "stream",
     "text": [
      "Simple feature collection with 1 feature and 3 fields\n",
      "Geometry type: POLYGON\n",
      "Dimension:     XY\n",
      "Bounding box:  xmin: -148.9516 ymin: 63.80698 xmax: -148.9516 ymax: 63.80699\n",
      "Geodetic CRS:  GCS_unknown\n",
      "  CLASS_ID   CLASS_NAME AREA                       geometry\n",
      "9        5 Bisongulch40  674 POLYGON ((-148.9516 63.8069...\n"
     ]
    },
    {
     "name": "stderr",
     "output_type": "stream",
     "text": [
      "Saving 6.67 x 6.67 in image\n",
      "\n",
      "Saving 6.67 x 6.67 in image\n",
      "\n",
      "Saving 6.67 x 6.67 in image\n",
      "\n",
      "Saving 6.67 x 6.67 in image\n",
      "\n",
      "Saving 6.67 x 6.67 in image\n",
      "\n",
      "Saving 6.67 x 6.67 in image\n",
      "\n",
      "Saving 6.67 x 6.67 in image\n",
      "\n",
      "Saving 6.67 x 6.67 in image\n",
      "\n",
      "Saving 6.67 x 6.67 in image\n",
      "\n",
      "Saving 6.67 x 6.67 in image\n",
      "\n"
     ]
    },
    {
     "name": "stdout",
     "output_type": "stream",
     "text": [
      "[1] \"preprocessing raster at Data/Ground_Validation/Imagery/ChatanikaQuads.envi\"\n",
      "[1] \"Converted to Data frame?\"\n",
      "[1] TRUE\n",
      "[1] \"Noisy columns removed\"\n",
      "[1] TRUE\n",
      "[1] \"Filtered\"\n",
      "[1] TRUE\n"
     ]
    },
    {
     "name": "stderr",
     "output_type": "stream",
     "text": [
      "Using spline to predict value at new bands...\n",
      "\n",
      "Beware the spectra are now partially smoothed.\n",
      "\n"
     ]
    },
    {
     "name": "stdout",
     "output_type": "stream",
     "text": [
      "[1] \"Imputing...\"\n",
      "[1] \"Handling Outliers with method: none\"\n",
      "[1] \"Transforming the data with transform: none\"\n",
      "          x        y z\n",
      "1 -147.4827 65.15287 5\n",
      "2 -147.4827 65.15287 2\n",
      "3 -147.4827 65.15287 3\n",
      "4 -147.4827 65.15287 2\n",
      "5 -147.4827 65.15287 2\n",
      "6 -147.4827 65.15287 2\n",
      "          x        y z\n",
      "1 -147.4827 65.15287 5\n",
      "2 -147.4827 65.15287 2\n",
      "3 -147.4827 65.15287 3\n",
      "4 -147.4827 65.15287 2\n",
      "5 -147.4827 65.15287 2\n",
      "6 -147.4827 65.15287 2\n",
      "[1] \"Attempting to save to ./validation_saved_output.grd\"\n",
      "[1] \"Converted to Raster\"\n",
      "Reading layer `ChatanikaQuads_georeferenced' from data source \n",
      "  `/home/krbundy/GitHub/lecospec/Data/Vectors/ChatanikaQuads_georeferenced.shp' \n",
      "  using driver `ESRI Shapefile'\n",
      "Simple feature collection with 11 features and 3 fields\n",
      "Geometry type: POLYGON\n",
      "Dimension:     XY\n",
      "Bounding box:  xmin: -147.4827 ymin: 65.15281 xmax: -147.4806 ymax: 65.15287\n",
      "Geodetic CRS:  WGS 84\n",
      "Simple feature collection with 1 feature and 3 fields\n",
      "Geometry type: POLYGON\n",
      "Dimension:     XY\n",
      "Bounding box:  xmin: -147.4827 ymin: 65.15286 xmax: -147.4827 ymax: 65.15287\n",
      "Geodetic CRS:  GCS_unknown\n",
      "    CLASS_NAME CLASS_ID CLASS_CLRS                       geometry\n",
      "1 Chatanika100       11    0,0,128 POLYGON ((-147.4827 65.1528...\n"
     ]
    },
    {
     "name": "stderr",
     "output_type": "stream",
     "text": [
      "Saving 6.67 x 6.67 in image\n",
      "\n"
     ]
    },
    {
     "name": "stdout",
     "output_type": "stream",
     "text": [
      "Simple feature collection with 1 feature and 3 fields\n",
      "Geometry type: POLYGON\n",
      "Dimension:     XY\n",
      "Bounding box:  xmin: -147.4825 ymin: 65.15285 xmax: -147.4825 ymax: 65.15286\n",
      "Geodetic CRS:  GCS_unknown\n",
      "   CLASS_NAME CLASS_ID CLASS_CLRS                       geometry\n",
      "2 Chatanika90       10    0,255,0 POLYGON ((-147.4825 65.1528...\n"
     ]
    },
    {
     "name": "stderr",
     "output_type": "stream",
     "text": [
      "Saving 6.67 x 6.67 in image\n",
      "\n"
     ]
    },
    {
     "name": "stdout",
     "output_type": "stream",
     "text": [
      "Simple feature collection with 1 feature and 3 fields\n",
      "Geometry type: POLYGON\n",
      "Dimension:     XY\n",
      "Bounding box:  xmin: -147.4821 ymin: 65.15285 xmax: -147.4821 ymax: 65.15286\n",
      "Geodetic CRS:  GCS_unknown\n",
      "   CLASS_NAME CLASS_ID CLASS_CLRS                       geometry\n",
      "3 Chatanika70        8  0,128,128 POLYGON ((-147.4821 65.1528...\n"
     ]
    },
    {
     "name": "stderr",
     "output_type": "stream",
     "text": [
      "Saving 6.67 x 6.67 in image\n",
      "\n"
     ]
    },
    {
     "name": "stdout",
     "output_type": "stream",
     "text": [
      "Simple feature collection with 1 feature and 3 fields\n",
      "Geometry type: POLYGON\n",
      "Dimension:     XY\n",
      "Bounding box:  xmin: -147.4823 ymin: 65.15285 xmax: -147.4823 ymax: 65.15286\n",
      "Geodetic CRS:  GCS_unknown\n",
      "   CLASS_NAME CLASS_ID CLASS_CLRS                       geometry\n",
      "4 Chatanika80        9    128,0,0 POLYGON ((-147.4823 65.1528...\n"
     ]
    },
    {
     "name": "stderr",
     "output_type": "stream",
     "text": [
      "Saving 6.67 x 6.67 in image\n",
      "\n"
     ]
    },
    {
     "name": "stdout",
     "output_type": "stream",
     "text": [
      "Simple feature collection with 1 feature and 3 fields\n",
      "Geometry type: POLYGON\n",
      "Dimension:     XY\n",
      "Bounding box:  xmin: -147.4819 ymin: 65.15285 xmax: -147.4819 ymax: 65.15286\n",
      "Geodetic CRS:  GCS_unknown\n",
      "   CLASS_NAME CLASS_ID CLASS_CLRS                       geometry\n",
      "5 Chatanika60        7  128,128,0 POLYGON ((-147.4819 65.1528...\n"
     ]
    },
    {
     "name": "stderr",
     "output_type": "stream",
     "text": [
      "Saving 6.67 x 6.67 in image\n",
      "\n"
     ]
    },
    {
     "name": "stdout",
     "output_type": "stream",
     "text": [
      "Simple feature collection with 1 feature and 3 fields\n",
      "Geometry type: POLYGON\n",
      "Dimension:     XY\n",
      "Bounding box:  xmin: -147.4817 ymin: 65.15284 xmax: -147.4816 ymax: 65.15285\n",
      "Geodetic CRS:  GCS_unknown\n",
      "   CLASS_NAME CLASS_ID CLASS_CLRS                       geometry\n",
      "6 Chatanika50        6  255,0,255 POLYGON ((-147.4816 65.1528...\n"
     ]
    },
    {
     "name": "stderr",
     "output_type": "stream",
     "text": [
      "Saving 6.67 x 6.67 in image\n",
      "\n"
     ]
    },
    {
     "name": "stdout",
     "output_type": "stream",
     "text": [
      "Simple feature collection with 1 feature and 3 fields\n",
      "Geometry type: POLYGON\n",
      "Dimension:     XY\n",
      "Bounding box:  xmin: -147.4815 ymin: 65.15283 xmax: -147.4814 ymax: 65.15284\n",
      "Geodetic CRS:  GCS_unknown\n",
      "   CLASS_NAME CLASS_ID CLASS_CLRS                       geometry\n",
      "7 Chatanika40        5  0,255,255 POLYGON ((-147.4814 65.1528...\n"
     ]
    },
    {
     "name": "stderr",
     "output_type": "stream",
     "text": [
      "Saving 6.67 x 6.67 in image\n",
      "\n"
     ]
    },
    {
     "name": "stdout",
     "output_type": "stream",
     "text": [
      "Simple feature collection with 1 feature and 3 fields\n",
      "Geometry type: POLYGON\n",
      "Dimension:     XY\n",
      "Bounding box:  xmin: -147.4812 ymin: 65.15282 xmax: -147.4812 ymax: 65.15283\n",
      "Geodetic CRS:  GCS_unknown\n",
      "   CLASS_NAME CLASS_ID CLASS_CLRS                       geometry\n",
      "8 Chatanika30        4  255,255,0 POLYGON ((-147.4812 65.1528...\n"
     ]
    },
    {
     "name": "stderr",
     "output_type": "stream",
     "text": [
      "Saving 6.67 x 6.67 in image\n",
      "\n"
     ]
    },
    {
     "name": "stdout",
     "output_type": "stream",
     "text": [
      "Simple feature collection with 1 feature and 3 fields\n",
      "Geometry type: POLYGON\n",
      "Dimension:     XY\n",
      "Bounding box:  xmin: -147.481 ymin: 65.15281 xmax: -147.481 ymax: 65.15282\n",
      "Geodetic CRS:  GCS_unknown\n",
      "   CLASS_NAME CLASS_ID CLASS_CLRS                       geometry\n",
      "9 Chatanika20        3    0,0,255 POLYGON ((-147.481 65.15282...\n"
     ]
    },
    {
     "name": "stderr",
     "output_type": "stream",
     "text": [
      "Saving 6.67 x 6.67 in image\n",
      "\n"
     ]
    },
    {
     "name": "stdout",
     "output_type": "stream",
     "text": [
      "Simple feature collection with 1 feature and 3 fields\n",
      "Geometry type: POLYGON\n",
      "Dimension:     XY\n",
      "Bounding box:  xmin: -147.4808 ymin: 65.15281 xmax: -147.4808 ymax: 65.15282\n",
      "Geodetic CRS:  GCS_unknown\n",
      "    CLASS_NAME CLASS_ID CLASS_CLRS                       geometry\n",
      "10 Chatanika10        2    0,128,0 POLYGON ((-147.4808 65.1528...\n"
     ]
    },
    {
     "name": "stderr",
     "output_type": "stream",
     "text": [
      "Saving 6.67 x 6.67 in image\n",
      "\n"
     ]
    },
    {
     "name": "stdout",
     "output_type": "stream",
     "text": [
      "Simple feature collection with 1 feature and 3 fields\n",
      "Geometry type: POLYGON\n",
      "Dimension:     XY\n",
      "Bounding box:  xmin: -147.4806 ymin: 65.15281 xmax: -147.4806 ymax: 65.15281\n",
      "Geodetic CRS:  GCS_unknown\n",
      "   CLASS_NAME CLASS_ID CLASS_CLRS                       geometry\n",
      "11 Chatanika0        1    255,0,0 POLYGON ((-147.4806 65.1528...\n"
     ]
    },
    {
     "name": "stderr",
     "output_type": "stream",
     "text": [
      "Saving 6.67 x 6.67 in image\n",
      "\n",
      "Saving 6.67 x 6.67 in image\n",
      "\n",
      "Saving 6.67 x 6.67 in image\n",
      "\n",
      "Saving 6.67 x 6.67 in image\n",
      "\n",
      "Saving 6.67 x 6.67 in image\n",
      "\n",
      "Saving 6.67 x 6.67 in image\n",
      "\n",
      "Saving 6.67 x 6.67 in image\n",
      "\n",
      "Saving 6.67 x 6.67 in image\n",
      "\n",
      "Saving 6.67 x 6.67 in image\n",
      "\n",
      "Saving 6.67 x 6.67 in image\n",
      "\n",
      "Saving 6.67 x 6.67 in image\n",
      "\n",
      "Saving 6.67 x 6.67 in image\n",
      "\n"
     ]
    },
    {
     "name": "stdout",
     "output_type": "stream",
     "text": [
      "[1] \"preprocessing raster at Data/Ground_Validation/Imagery/TwelveMileGulchQuads1.envi\"\n",
      "[1] \"Converted to Data frame?\"\n",
      "[1] TRUE\n",
      "[1] \"Noisy columns removed\"\n",
      "[1] TRUE\n",
      "[1] \"Filtered\"\n",
      "[1] TRUE\n"
     ]
    },
    {
     "name": "stderr",
     "output_type": "stream",
     "text": [
      "Using spline to predict value at new bands...\n",
      "\n",
      "Beware the spectra are now partially smoothed.\n",
      "\n"
     ]
    },
    {
     "name": "stdout",
     "output_type": "stream",
     "text": [
      "[1] \"Imputing...\"\n",
      "[1] \"Handling Outliers with method: none\"\n",
      "[1] \"Transforming the data with transform: none\"\n",
      "         x        y z\n",
      "1 -145.979 65.40191 3\n",
      "2 -145.979 65.40191 3\n",
      "3 -145.979 65.40191 3\n",
      "4 -145.979 65.40191 5\n",
      "5 -145.979 65.40191 3\n",
      "6 -145.979 65.40191 1\n",
      "         x        y z\n",
      "1 -145.979 65.40191 3\n",
      "2 -145.979 65.40191 3\n",
      "3 -145.979 65.40191 3\n",
      "4 -145.979 65.40191 5\n",
      "5 -145.979 65.40191 3\n",
      "6 -145.979 65.40191 1\n",
      "[1] \"Attempting to save to ./validation_saved_output.grd\"\n",
      "[1] \"Converted to Raster\"\n",
      "Reading layer `TwelveMileQ0_10_20_30_40m' from data source \n",
      "  `/home/krbundy/GitHub/lecospec/Data/Vectors/TwelveMileQ0_10_20_30_40m.shp' \n",
      "  using driver `ESRI Shapefile'\n",
      "Simple feature collection with 5 features and 3 fields\n",
      "Geometry type: POLYGON\n",
      "Dimension:     XY\n",
      "Bounding box:  xmin: -145.979 ymin: 65.4018 xmax: -145.9782 ymax: 65.40191\n",
      "Geodetic CRS:  WGS 84\n",
      "Simple feature collection with 1 feature and 3 fields\n",
      "Geometry type: POLYGON\n",
      "Dimension:     XY\n",
      "Bounding box:  xmin: -145.979 ymin: 65.4019 xmax: -145.979 ymax: 65.40191\n",
      "Geodetic CRS:  GCS_unknown\n",
      "  CLASS_ID   CLASS_NAME AREA                       geometry\n",
      "1        4 Twelvemile40  288 POLYGON ((-145.979 65.4019,...\n"
     ]
    },
    {
     "name": "stderr",
     "output_type": "stream",
     "text": [
      "Saving 6.67 x 6.67 in image\n",
      "\n"
     ]
    },
    {
     "name": "stdout",
     "output_type": "stream",
     "text": [
      "Simple feature collection with 1 feature and 3 fields\n",
      "Geometry type: POLYGON\n",
      "Dimension:     XY\n",
      "Bounding box:  xmin: -145.9788 ymin: 65.40187 xmax: -145.9788 ymax: 65.40188\n",
      "Geodetic CRS:  GCS_unknown\n",
      "  CLASS_ID   CLASS_NAME AREA                       geometry\n",
      "2        1 Twelvemile30  281 POLYGON ((-145.9788 65.4018...\n"
     ]
    },
    {
     "name": "stderr",
     "output_type": "stream",
     "text": [
      "Saving 6.67 x 6.67 in image\n",
      "\n"
     ]
    },
    {
     "name": "stdout",
     "output_type": "stream",
     "text": [
      "Simple feature collection with 1 feature and 3 fields\n",
      "Geometry type: POLYGON\n",
      "Dimension:     XY\n",
      "Bounding box:  xmin: -145.9786 ymin: 65.40185 xmax: -145.9786 ymax: 65.40186\n",
      "Geodetic CRS:  GCS_unknown\n",
      "  CLASS_ID   CLASS_NAME AREA                       geometry\n",
      "3        2 Twelvemile20  328 POLYGON ((-145.9786 65.4018...\n"
     ]
    },
    {
     "name": "stderr",
     "output_type": "stream",
     "text": [
      "Saving 6.67 x 6.67 in image\n",
      "\n"
     ]
    },
    {
     "name": "stdout",
     "output_type": "stream",
     "text": [
      "Simple feature collection with 1 feature and 3 fields\n",
      "Geometry type: POLYGON\n",
      "Dimension:     XY\n",
      "Bounding box:  xmin: -145.9784 ymin: 65.40183 xmax: -145.9784 ymax: 65.40184\n",
      "Geodetic CRS:  GCS_unknown\n",
      "  CLASS_ID   CLASS_NAME AREA                       geometry\n",
      "4        3 Twelvemile10  308 POLYGON ((-145.9784 65.4018...\n"
     ]
    },
    {
     "name": "stderr",
     "output_type": "stream",
     "text": [
      "Saving 6.67 x 6.67 in image\n",
      "\n"
     ]
    },
    {
     "name": "stdout",
     "output_type": "stream",
     "text": [
      "Simple feature collection with 1 feature and 3 fields\n",
      "Geometry type: POLYGON\n",
      "Dimension:     XY\n",
      "Bounding box:  xmin: -145.9782 ymin: 65.4018 xmax: -145.9782 ymax: 65.40181\n",
      "Geodetic CRS:  GCS_unknown\n",
      "  CLASS_ID  CLASS_NAME AREA                       geometry\n",
      "5        5 Twelvemile0  336 POLYGON ((-145.9782 65.4018...\n"
     ]
    },
    {
     "name": "stderr",
     "output_type": "stream",
     "text": [
      "Saving 6.67 x 6.67 in image\n",
      "\n",
      "Saving 6.67 x 6.67 in image\n",
      "\n",
      "Saving 6.67 x 6.67 in image\n",
      "\n",
      "Saving 6.67 x 6.67 in image\n",
      "\n",
      "Saving 6.67 x 6.67 in image\n",
      "\n",
      "Saving 6.67 x 6.67 in image\n",
      "\n"
     ]
    },
    {
     "name": "stdout",
     "output_type": "stream",
     "text": [
      "[1] \"preprocessing raster at Data/Ground_Validation/Imagery/TwelveMileGulchQuads2.envi\"\n",
      "[1] \"Converted to Data frame?\"\n",
      "[1] TRUE\n",
      "[1] \"Noisy columns removed\"\n",
      "[1] TRUE\n",
      "[1] \"Filtered\"\n",
      "[1] TRUE\n"
     ]
    },
    {
     "name": "stderr",
     "output_type": "stream",
     "text": [
      "Using spline to predict value at new bands...\n",
      "\n",
      "Beware the spectra are now partially smoothed.\n",
      "\n"
     ]
    },
    {
     "name": "stdout",
     "output_type": "stream",
     "text": [
      "[1] \"Imputing...\"\n",
      "[1] \"Handling Outliers with method: none\"\n",
      "[1] \"Transforming the data with transform: none\"\n",
      "          x        y z\n",
      "1 -145.9802 65.40203 3\n",
      "2 -145.9802 65.40203 3\n",
      "3 -145.9802 65.40203 3\n",
      "4 -145.9802 65.40203 3\n",
      "5 -145.9802 65.40203 3\n",
      "6 -145.9802 65.40203 3\n",
      "          x        y z\n",
      "1 -145.9802 65.40203 3\n",
      "2 -145.9802 65.40203 3\n",
      "3 -145.9802 65.40203 3\n",
      "4 -145.9802 65.40203 3\n",
      "5 -145.9802 65.40203 3\n",
      "6 -145.9802 65.40203 3\n",
      "[1] \"Attempting to save to ./validation_saved_output.grd\"\n",
      "[1] \"Converted to Raster\"\n",
      "Reading layer `TwelveMileQ70_80_90_100m' from data source \n",
      "  `/home/krbundy/GitHub/lecospec/Data/Vectors/TwelveMileQ70_80_90_100m.shp' \n",
      "  using driver `ESRI Shapefile'\n",
      "Simple feature collection with 4 features and 3 fields\n",
      "Geometry type: POLYGON\n",
      "Dimension:     XY\n",
      "Bounding box:  xmin: -145.9802 ymin: 65.40196 xmax: -145.9796 ymax: 65.40203\n",
      "Geodetic CRS:  WGS 84\n",
      "Simple feature collection with 1 feature and 3 fields\n",
      "Geometry type: POLYGON\n",
      "Dimension:     XY\n",
      "Bounding box:  xmin: -145.9802 ymin: 65.40202 xmax: -145.9802 ymax: 65.40203\n",
      "Geodetic CRS:  GCS_unknown\n",
      "  CLASS_ID    CLASS_NAME AREA                       geometry\n",
      "1        4 Twelvemile100  492 POLYGON ((-145.9802 65.4020...\n"
     ]
    },
    {
     "name": "stderr",
     "output_type": "stream",
     "text": [
      "Saving 6.67 x 6.67 in image\n",
      "\n"
     ]
    },
    {
     "name": "stdout",
     "output_type": "stream",
     "text": [
      "Simple feature collection with 1 feature and 3 fields\n",
      "Geometry type: POLYGON\n",
      "Dimension:     XY\n",
      "Bounding box:  xmin: -145.98 ymin: 65.402 xmax: -145.98 ymax: 65.40201\n",
      "Geodetic CRS:  GCS_unknown\n",
      "  CLASS_ID   CLASS_NAME AREA                       geometry\n",
      "2        3 Twelvemile90  473 POLYGON ((-145.98 65.402, -...\n"
     ]
    },
    {
     "name": "stderr",
     "output_type": "stream",
     "text": [
      "Saving 6.67 x 6.67 in image\n",
      "\n"
     ]
    },
    {
     "name": "stdout",
     "output_type": "stream",
     "text": [
      "Simple feature collection with 1 feature and 3 fields\n",
      "Geometry type: POLYGON\n",
      "Dimension:     XY\n",
      "Bounding box:  xmin: -145.9798 ymin: 65.40198 xmax: -145.9798 ymax: 65.40199\n",
      "Geodetic CRS:  GCS_unknown\n",
      "  CLASS_ID   CLASS_NAME AREA                       geometry\n",
      "3        2 Twelvemile80  631 POLYGON ((-145.9798 65.4019...\n"
     ]
    },
    {
     "name": "stderr",
     "output_type": "stream",
     "text": [
      "Saving 6.67 x 6.67 in image\n",
      "\n"
     ]
    },
    {
     "name": "stdout",
     "output_type": "stream",
     "text": [
      "Simple feature collection with 1 feature and 3 fields\n",
      "Geometry type: POLYGON\n",
      "Dimension:     XY\n",
      "Bounding box:  xmin: -145.9796 ymin: 65.40196 xmax: -145.9796 ymax: 65.40197\n",
      "Geodetic CRS:  GCS_unknown\n",
      "  CLASS_ID   CLASS_NAME AREA                       geometry\n",
      "4        1 Twelvemile70  518 POLYGON ((-145.9796 65.4019...\n"
     ]
    },
    {
     "name": "stderr",
     "output_type": "stream",
     "text": [
      "Saving 6.67 x 6.67 in image\n",
      "\n",
      "Saving 6.67 x 6.67 in image\n",
      "\n",
      "Saving 6.67 x 6.67 in image\n",
      "\n",
      "Saving 6.67 x 6.67 in image\n",
      "\n",
      "Saving 6.67 x 6.67 in image\n",
      "\n"
     ]
    },
    {
     "name": "stdout",
     "output_type": "stream",
     "text": [
      "[1] \"preprocessing raster at Data/Ground_Validation/Imagery/EightMileQuads.envi\"\n",
      "[1] \"Converted to Data frame?\"\n",
      "[1] TRUE\n",
      "[1] \"Noisy columns removed\"\n",
      "[1] TRUE\n",
      "[1] \"Filtered\"\n",
      "[1] TRUE\n"
     ]
    },
    {
     "name": "stderr",
     "output_type": "stream",
     "text": [
      "Using spline to predict value at new bands...\n",
      "\n",
      "Beware the spectra are now partially smoothed.\n",
      "\n"
     ]
    },
    {
     "name": "stdout",
     "output_type": "stream",
     "text": [
      "[1] \"Imputing...\"\n",
      "[1] \"Handling Outliers with method: none\"\n",
      "[1] \"Transforming the data with transform: none\"\n",
      "          x        y z\n",
      "1 -149.2529 63.87686 3\n",
      "2 -149.2529 63.87686 3\n",
      "3 -149.2529 63.87686 3\n",
      "4 -149.2529 63.87686 3\n",
      "5 -149.2529 63.87686 3\n",
      "6 -149.2529 63.87686 3\n",
      "          x        y z\n",
      "1 -149.2529 63.87686 3\n",
      "2 -149.2529 63.87686 3\n",
      "3 -149.2529 63.87686 3\n",
      "4 -149.2529 63.87686 3\n",
      "5 -149.2529 63.87686 3\n",
      "6 -149.2529 63.87686 3\n",
      "[1] \"Attempting to save to ./validation_saved_output.grd\"\n",
      "[1] \"Converted to Raster\"\n",
      "Reading layer `EightMile_Quadrats_revised' from data source \n",
      "  `/home/krbundy/GitHub/lecospec/Data/Vectors/EightMile_Quadrats_revised.shp' \n",
      "  using driver `ESRI Shapefile'\n",
      "Simple feature collection with 11 features and 3 fields\n",
      "Geometry type: POLYGON\n",
      "Dimension:     XY\n",
      "Bounding box:  xmin: -149.2549 ymin: 63.87666 xmax: -149.2529 ymax: 63.87686\n",
      "Geodetic CRS:  WGS 84\n",
      "Simple feature collection with 1 feature and 3 fields\n",
      "Geometry type: POLYGON\n",
      "Dimension:     XY\n",
      "Bounding box:  xmin: -149.2547 ymin: 63.87667 xmax: -149.2546 ymax: 63.87669\n",
      "Geodetic CRS:  GCS_unknown\n",
      "   CLASS_NAME CLASS_ID CLASS_CLRS                       geometry\n",
      "1 Eightmile10        2    0,128,0 POLYGON ((-149.2547 63.8766...\n"
     ]
    },
    {
     "name": "stderr",
     "output_type": "stream",
     "text": [
      "Saving 6.67 x 6.67 in image\n",
      "\n"
     ]
    },
    {
     "name": "stdout",
     "output_type": "stream",
     "text": [
      "Simple feature collection with 1 feature and 3 fields\n",
      "Geometry type: POLYGON\n",
      "Dimension:     XY\n",
      "Bounding box:  xmin: -149.2549 ymin: 63.87666 xmax: -149.2548 ymax: 63.87667\n",
      "Geodetic CRS:  GCS_unknown\n",
      "  CLASS_NAME CLASS_ID CLASS_CLRS                       geometry\n",
      "2 Eightmile0        1    255,0,0 POLYGON ((-149.2548 63.8766...\n"
     ]
    },
    {
     "name": "stderr",
     "output_type": "stream",
     "text": [
      "Saving 6.67 x 6.67 in image\n",
      "\n"
     ]
    },
    {
     "name": "stdout",
     "output_type": "stream",
     "text": [
      "Simple feature collection with 1 feature and 3 fields\n",
      "Geometry type: POLYGON\n",
      "Dimension:     XY\n",
      "Bounding box:  xmin: -149.2537 ymin: 63.87675 xmax: -149.2537 ymax: 63.87677\n",
      "Geodetic CRS:  GCS_unknown\n",
      "   CLASS_NAME CLASS_ID CLASS_CLRS                       geometry\n",
      "3 Eightmile60        7  128,128,0 POLYGON ((-149.2537 63.8767...\n"
     ]
    },
    {
     "name": "stderr",
     "output_type": "stream",
     "text": [
      "Saving 6.67 x 6.67 in image\n",
      "\n"
     ]
    },
    {
     "name": "stdout",
     "output_type": "stream",
     "text": [
      "Simple feature collection with 1 feature and 3 fields\n",
      "Geometry type: POLYGON\n",
      "Dimension:     XY\n",
      "Bounding box:  xmin: -149.2539 ymin: 63.87673 xmax: -149.2539 ymax: 63.87674\n",
      "Geodetic CRS:  GCS_unknown\n",
      "   CLASS_NAME CLASS_ID CLASS_CLRS                       geometry\n",
      "4 Eightmile50        6  255,0,255 POLYGON ((-149.2539 63.8767...\n"
     ]
    },
    {
     "name": "stderr",
     "output_type": "stream",
     "text": [
      "Saving 6.67 x 6.67 in image\n",
      "\n"
     ]
    },
    {
     "name": "stdout",
     "output_type": "stream",
     "text": [
      "Simple feature collection with 1 feature and 3 fields\n",
      "Geometry type: POLYGON\n",
      "Dimension:     XY\n",
      "Bounding box:  xmin: -149.2541 ymin: 63.87672 xmax: -149.254 ymax: 63.87673\n",
      "Geodetic CRS:  GCS_unknown\n",
      "   CLASS_NAME CLASS_ID CLASS_CLRS                       geometry\n",
      "5 Eightmile40        5  0,255,255 POLYGON ((-149.254 63.87673...\n"
     ]
    },
    {
     "name": "stderr",
     "output_type": "stream",
     "text": [
      "Saving 6.67 x 6.67 in image\n",
      "\n"
     ]
    },
    {
     "name": "stdout",
     "output_type": "stream",
     "text": [
      "Simple feature collection with 1 feature and 3 fields\n",
      "Geometry type: POLYGON\n",
      "Dimension:     XY\n",
      "Bounding box:  xmin: -149.2543 ymin: 63.87671 xmax: -149.2542 ymax: 63.87672\n",
      "Geodetic CRS:  GCS_unknown\n",
      "   CLASS_NAME CLASS_ID CLASS_CLRS                       geometry\n",
      "6 Eightmile30        4  255,255,0 POLYGON ((-149.2542 63.8767...\n"
     ]
    },
    {
     "name": "stderr",
     "output_type": "stream",
     "text": [
      "Saving 6.67 x 6.67 in image\n",
      "\n"
     ]
    },
    {
     "name": "stdout",
     "output_type": "stream",
     "text": [
      "Simple feature collection with 1 feature and 3 fields\n",
      "Geometry type: POLYGON\n",
      "Dimension:     XY\n",
      "Bounding box:  xmin: -149.2545 ymin: 63.87669 xmax: -149.2544 ymax: 63.8767\n",
      "Geodetic CRS:  GCS_unknown\n",
      "   CLASS_NAME CLASS_ID CLASS_CLRS                       geometry\n",
      "7 Eightmile20        3    0,0,255 POLYGON ((-149.2544 63.8767...\n"
     ]
    },
    {
     "name": "stderr",
     "output_type": "stream",
     "text": [
      "Saving 6.67 x 6.67 in image\n",
      "\n"
     ]
    },
    {
     "name": "stdout",
     "output_type": "stream",
     "text": [
      "Simple feature collection with 1 feature and 3 fields\n",
      "Geometry type: POLYGON\n",
      "Dimension:     XY\n",
      "Bounding box:  xmin: -149.2529 ymin: 63.87685 xmax: -149.2529 ymax: 63.87686\n",
      "Geodetic CRS:  GCS_unknown\n",
      "    CLASS_NAME CLASS_ID CLASS_CLRS                       geometry\n",
      "8 Eightmile100       11    0,255,0 POLYGON ((-149.2529 63.8768...\n"
     ]
    },
    {
     "name": "stderr",
     "output_type": "stream",
     "text": [
      "Saving 6.67 x 6.67 in image\n",
      "\n"
     ]
    },
    {
     "name": "stdout",
     "output_type": "stream",
     "text": [
      "Simple feature collection with 1 feature and 3 fields\n",
      "Geometry type: POLYGON\n",
      "Dimension:     XY\n",
      "Bounding box:  xmin: -149.2531 ymin: 63.87682 xmax: -149.2531 ymax: 63.87684\n",
      "Geodetic CRS:  GCS_unknown\n",
      "   CLASS_NAME CLASS_ID CLASS_CLRS                       geometry\n",
      "9 Eightmile90       10    128,0,0 POLYGON ((-149.2531 63.8768...\n"
     ]
    },
    {
     "name": "stderr",
     "output_type": "stream",
     "text": [
      "Saving 6.67 x 6.67 in image\n",
      "\n"
     ]
    },
    {
     "name": "stdout",
     "output_type": "stream",
     "text": [
      "Simple feature collection with 1 feature and 3 fields\n",
      "Geometry type: POLYGON\n",
      "Dimension:     XY\n",
      "Bounding box:  xmin: -149.2533 ymin: 63.8768 xmax: -149.2533 ymax: 63.87681\n",
      "Geodetic CRS:  GCS_unknown\n",
      "    CLASS_NAME CLASS_ID CLASS_CLRS                       geometry\n",
      "10 Eightmile80        9  255,255,0 POLYGON ((-149.2533 63.8768...\n"
     ]
    },
    {
     "name": "stderr",
     "output_type": "stream",
     "text": [
      "Saving 6.67 x 6.67 in image\n",
      "\n"
     ]
    },
    {
     "name": "stdout",
     "output_type": "stream",
     "text": [
      "Simple feature collection with 1 feature and 3 fields\n",
      "Geometry type: POLYGON\n",
      "Dimension:     XY\n",
      "Bounding box:  xmin: -149.2535 ymin: 63.87678 xmax: -149.2535 ymax: 63.87679\n",
      "Geodetic CRS:  GCS_unknown\n",
      "    CLASS_NAME CLASS_ID CLASS_CLRS                       geometry\n",
      "11 Eightmile70        8  0,128,128 POLYGON ((-149.2535 63.8767...\n"
     ]
    },
    {
     "name": "stderr",
     "output_type": "stream",
     "text": [
      "Saving 6.67 x 6.67 in image\n",
      "\n",
      "Saving 6.67 x 6.67 in image\n",
      "\n",
      "Saving 6.67 x 6.67 in image\n",
      "\n",
      "Saving 6.67 x 6.67 in image\n",
      "\n",
      "Saving 6.67 x 6.67 in image\n",
      "\n",
      "Saving 6.67 x 6.67 in image\n",
      "\n",
      "Saving 6.67 x 6.67 in image\n",
      "\n",
      "Saving 6.67 x 6.67 in image\n",
      "\n",
      "Saving 6.67 x 6.67 in image\n",
      "\n",
      "Saving 6.67 x 6.67 in image\n",
      "\n",
      "Saving 6.67 x 6.67 in image\n",
      "\n",
      "Saving 6.67 x 6.67 in image\n",
      "\n"
     ]
    },
    {
     "name": "stdout",
     "output_type": "stream",
     "text": [
      "[1] \"preprocessing raster at Data/Ground_Validation/Imagery/MurphDomeQuads0_10.envi\"\n",
      "[1] \"Converted to Data frame?\"\n",
      "[1] TRUE\n",
      "[1] \"Noisy columns removed\"\n",
      "[1] TRUE\n",
      "[1] \"Filtered\"\n",
      "[1] TRUE\n"
     ]
    },
    {
     "name": "stderr",
     "output_type": "stream",
     "text": [
      "Using spline to predict value at new bands...\n",
      "\n",
      "Beware the spectra are now partially smoothed.\n",
      "\n"
     ]
    },
    {
     "name": "stdout",
     "output_type": "stream",
     "text": [
      "[1] \"Imputing...\"\n",
      "[1] \"Handling Outliers with method: none\"\n",
      "[1] \"Transforming the data with transform: none\"\n",
      "          x       y z\n",
      "1 -148.3535 64.9538 3\n",
      "2 -148.3535 64.9538 1\n",
      "3 -148.3535 64.9538 1\n",
      "4 -148.3535 64.9538 3\n",
      "5 -148.3535 64.9538 2\n",
      "6 -148.3535 64.9538 1\n",
      "          x       y z\n",
      "1 -148.3535 64.9538 3\n",
      "2 -148.3535 64.9538 1\n",
      "3 -148.3535 64.9538 1\n",
      "4 -148.3535 64.9538 3\n",
      "5 -148.3535 64.9538 2\n",
      "6 -148.3535 64.9538 1\n",
      "[1] \"Attempting to save to ./validation_saved_output.grd\"\n",
      "[1] \"Converted to Raster\"\n",
      "Reading layer `MurphyQuads0_10m' from data source \n",
      "  `/home/krbundy/GitHub/lecospec/Data/Vectors/MurphyQuads0_10m.shp' \n",
      "  using driver `ESRI Shapefile'\n",
      "Simple feature collection with 2 features and 3 fields\n",
      "Geometry type: POLYGON\n",
      "Dimension:     XY\n",
      "Bounding box:  xmin: -148.3535 ymin: 64.95372 xmax: -148.3533 ymax: 64.9538\n",
      "Geodetic CRS:  WGS 84\n",
      "Simple feature collection with 1 feature and 3 fields\n",
      "Geometry type: POLYGON\n",
      "Dimension:     XY\n",
      "Bounding box:  xmin: -148.3535 ymin: 64.95379 xmax: -148.3535 ymax: 64.9538\n",
      "Geodetic CRS:  GCS_unknown\n",
      "    CLASS_NAME CLASS_ID CLASS_CLRS                       geometry\n",
      "1 Murphydome10        1    0,0,255 POLYGON ((-148.3535 64.9538...\n"
     ]
    },
    {
     "name": "stderr",
     "output_type": "stream",
     "text": [
      "Saving 6.67 x 6.67 in image\n",
      "\n"
     ]
    },
    {
     "name": "stdout",
     "output_type": "stream",
     "text": [
      "Simple feature collection with 1 feature and 3 fields\n",
      "Geometry type: POLYGON\n",
      "Dimension:     XY\n",
      "Bounding box:  xmin: -148.3534 ymin: 64.95372 xmax: -148.3533 ymax: 64.95373\n",
      "Geodetic CRS:  GCS_unknown\n",
      "   CLASS_NAME CLASS_ID CLASS_CLRS                       geometry\n",
      "2 Murphydome0        2    0,128,0 POLYGON ((-148.3534 64.9537...\n"
     ]
    },
    {
     "name": "stderr",
     "output_type": "stream",
     "text": [
      "Saving 6.67 x 6.67 in image\n",
      "\n",
      "Saving 6.67 x 6.67 in image\n",
      "\n",
      "Saving 6.67 x 6.67 in image\n",
      "\n"
     ]
    },
    {
     "name": "stdout",
     "output_type": "stream",
     "text": [
      "[1] \"preprocessing raster at Data/Ground_Validation/Imagery/MurphDomeQuads20_50.envi\"\n",
      "[1] \"Converted to Data frame?\"\n",
      "[1] TRUE\n",
      "[1] \"Noisy columns removed\"\n",
      "[1] TRUE\n",
      "[1] \"Filtered\"\n",
      "[1] TRUE\n"
     ]
    },
    {
     "name": "stderr",
     "output_type": "stream",
     "text": [
      "Using spline to predict value at new bands...\n",
      "\n",
      "Beware the spectra are now partially smoothed.\n",
      "\n"
     ]
    },
    {
     "name": "stdout",
     "output_type": "stream",
     "text": [
      "[1] \"Imputing...\"\n",
      "[1] \"Handling Outliers with method: none\"\n",
      "[1] \"Transforming the data with transform: none\"\n",
      "          x        y z\n",
      "1 -148.3540 64.95407 3\n",
      "2 -148.3541 64.95407 2\n",
      "3 -148.3540 64.95407 3\n",
      "4 -148.3540 64.95407 3\n",
      "5 -148.3541 64.95407 3\n",
      "6 -148.3541 64.95407 2\n",
      "          x        y z\n",
      "1 -148.3540 64.95407 3\n",
      "2 -148.3541 64.95407 2\n",
      "3 -148.3540 64.95407 3\n",
      "4 -148.3540 64.95407 3\n",
      "5 -148.3541 64.95407 3\n",
      "6 -148.3541 64.95407 2\n",
      "[1] \"Attempting to save to ./validation_saved_output.grd\"\n",
      "[1] \"Converted to Raster\"\n",
      "Reading layer `MurphyQuads20_50m' from data source \n",
      "  `/home/krbundy/GitHub/lecospec/Data/Vectors/MurphyQuads20_50m.shp' \n",
      "  using driver `ESRI Shapefile'\n",
      "Simple feature collection with 4 features and 3 fields\n",
      "Geometry type: POLYGON\n",
      "Dimension:     XY\n",
      "Bounding box:  xmin: -148.3541 ymin: 64.95384 xmax: -148.3536 ymax: 64.95407\n",
      "Geodetic CRS:  WGS 84\n",
      "Simple feature collection with 1 feature and 3 fields\n",
      "Geometry type: POLYGON\n",
      "Dimension:     XY\n",
      "Bounding box:  xmin: -148.3541 ymin: 64.95406 xmax: -148.354 ymax: 64.95407\n",
      "Geodetic CRS:  GCS_unknown\n",
      "    CLASS_NAME CLASS_ID CLASS_CLRS                       geometry\n",
      "1 Murphydome50        1  128,128,0 POLYGON ((-148.354 64.95407...\n"
     ]
    },
    {
     "name": "stderr",
     "output_type": "stream",
     "text": [
      "Saving 6.67 x 6.67 in image\n",
      "\n"
     ]
    },
    {
     "name": "stdout",
     "output_type": "stream",
     "text": [
      "Simple feature collection with 1 feature and 3 fields\n",
      "Geometry type: POLYGON\n",
      "Dimension:     XY\n",
      "Bounding box:  xmin: -148.3539 ymin: 64.95399 xmax: -148.3539 ymax: 64.954\n",
      "Geodetic CRS:  GCS_unknown\n",
      "    CLASS_NAME CLASS_ID CLASS_CLRS                       geometry\n",
      "2 Murphydome40        2  255,0,255 POLYGON ((-148.3539 64.954,...\n"
     ]
    },
    {
     "name": "stderr",
     "output_type": "stream",
     "text": [
      "Saving 6.67 x 6.67 in image\n",
      "\n"
     ]
    },
    {
     "name": "stdout",
     "output_type": "stream",
     "text": [
      "Simple feature collection with 1 feature and 3 fields\n",
      "Geometry type: POLYGON\n",
      "Dimension:     XY\n",
      "Bounding box:  xmin: -148.3538 ymin: 64.95392 xmax: -148.3537 ymax: 64.95393\n",
      "Geodetic CRS:  GCS_unknown\n",
      "    CLASS_NAME CLASS_ID CLASS_CLRS                       geometry\n",
      "3 Murphydome30        3  0,255,255 POLYGON ((-148.3538 64.9539...\n"
     ]
    },
    {
     "name": "stderr",
     "output_type": "stream",
     "text": [
      "Saving 6.67 x 6.67 in image\n",
      "\n"
     ]
    },
    {
     "name": "stdout",
     "output_type": "stream",
     "text": [
      "Simple feature collection with 1 feature and 3 fields\n",
      "Geometry type: POLYGON\n",
      "Dimension:     XY\n",
      "Bounding box:  xmin: -148.3537 ymin: 64.95384 xmax: -148.3536 ymax: 64.95386\n",
      "Geodetic CRS:  GCS_unknown\n",
      "    CLASS_NAME CLASS_ID CLASS_CLRS                       geometry\n",
      "4 Murphydome20        4  255,255,0 POLYGON ((-148.3536 64.9538...\n"
     ]
    },
    {
     "name": "stderr",
     "output_type": "stream",
     "text": [
      "Saving 6.67 x 6.67 in image\n",
      "\n",
      "Saving 6.67 x 6.67 in image\n",
      "\n",
      "Saving 6.67 x 6.67 in image\n",
      "\n",
      "Saving 6.67 x 6.67 in image\n",
      "\n",
      "Saving 6.67 x 6.67 in image\n",
      "\n"
     ]
    },
    {
     "name": "stdout",
     "output_type": "stream",
     "text": [
      "[1] \"preprocessing raster at Data/Ground_Validation/Imagery/MurphDomeQuads60_100.envi\"\n",
      "[1] \"Converted to Data frame?\"\n",
      "[1] TRUE\n",
      "[1] \"Noisy columns removed\"\n",
      "[1] TRUE\n",
      "[1] \"Filtered\"\n",
      "[1] TRUE\n"
     ]
    },
    {
     "name": "stderr",
     "output_type": "stream",
     "text": [
      "Using spline to predict value at new bands...\n",
      "\n",
      "Beware the spectra are now partially smoothed.\n",
      "\n"
     ]
    },
    {
     "name": "stdout",
     "output_type": "stream",
     "text": [
      "[1] \"Imputing...\"\n",
      "[1] \"Handling Outliers with method: none\"\n",
      "[1] \"Transforming the data with transform: none\"\n",
      "          x        y z\n",
      "1 -148.3548 64.95441 3\n",
      "2 -148.3548 64.95441 3\n",
      "3 -148.3548 64.95441 3\n",
      "4 -148.3548 64.95441 1\n",
      "5 -148.3548 64.95441 3\n",
      "6 -148.3548 64.95441 3\n",
      "          x        y z\n",
      "1 -148.3548 64.95441 3\n",
      "2 -148.3548 64.95441 3\n",
      "3 -148.3548 64.95441 3\n",
      "4 -148.3548 64.95441 1\n",
      "5 -148.3548 64.95441 3\n",
      "6 -148.3548 64.95441 3\n",
      "[1] \"Attempting to save to ./validation_saved_output.grd\"\n",
      "[1] \"Converted to Raster\"\n",
      "Reading layer `MurphyQuads60_100m' from data source \n",
      "  `/home/krbundy/GitHub/lecospec/Data/Vectors/MurphyQuads60_100m.shp' \n",
      "  using driver `ESRI Shapefile'\n",
      "Simple feature collection with 5 features and 3 fields\n",
      "Geometry type: POLYGON\n",
      "Dimension:     XY\n",
      "Bounding box:  xmin: -148.3548 ymin: 64.95413 xmax: -148.3542 ymax: 64.95441\n",
      "Geodetic CRS:  WGS 84\n",
      "Simple feature collection with 1 feature and 3 fields\n",
      "Geometry type: POLYGON\n",
      "Dimension:     XY\n",
      "Bounding box:  xmin: -148.3548 ymin: 64.9544 xmax: -148.3547 ymax: 64.95441\n",
      "Geodetic CRS:  GCS_unknown\n",
      "     CLASS_NAME CLASS_ID CLASS_CLRS                       geometry\n",
      "1 Murphydome100        1 255,127,80 POLYGON ((-148.3548 64.9544...\n"
     ]
    },
    {
     "name": "stderr",
     "output_type": "stream",
     "text": [
      "Saving 6.67 x 6.67 in image\n",
      "\n"
     ]
    },
    {
     "name": "stdout",
     "output_type": "stream",
     "text": [
      "Simple feature collection with 1 feature and 3 fields\n",
      "Geometry type: POLYGON\n",
      "Dimension:     XY\n",
      "Bounding box:  xmin: -148.3546 ymin: 64.95433 xmax: -148.3546 ymax: 64.95434\n",
      "Geodetic CRS:  GCS_unknown\n",
      "    CLASS_NAME CLASS_ID CLASS_CLRS                       geometry\n",
      "2 Murphydome90        2    0,0,128 POLYGON ((-148.3546 64.9543...\n"
     ]
    },
    {
     "name": "stderr",
     "output_type": "stream",
     "text": [
      "Saving 6.67 x 6.67 in image\n",
      "\n"
     ]
    },
    {
     "name": "stdout",
     "output_type": "stream",
     "text": [
      "Simple feature collection with 1 feature and 3 fields\n",
      "Geometry type: POLYGON\n",
      "Dimension:     XY\n",
      "Bounding box:  xmin: -148.3545 ymin: 64.95426 xmax: -148.3544 ymax: 64.95427\n",
      "Geodetic CRS:  GCS_unknown\n",
      "    CLASS_NAME CLASS_ID CLASS_CLRS                       geometry\n",
      "3 Murphydome80        3    0,255,0 POLYGON ((-148.3545 64.9542...\n"
     ]
    },
    {
     "name": "stderr",
     "output_type": "stream",
     "text": [
      "Saving 6.67 x 6.67 in image\n",
      "\n"
     ]
    },
    {
     "name": "stdout",
     "output_type": "stream",
     "text": [
      "Simple feature collection with 1 feature and 3 fields\n",
      "Geometry type: POLYGON\n",
      "Dimension:     XY\n",
      "Bounding box:  xmin: -148.3543 ymin: 64.95419 xmax: -148.3543 ymax: 64.9542\n",
      "Geodetic CRS:  GCS_unknown\n",
      "    CLASS_NAME CLASS_ID CLASS_CLRS                       geometry\n",
      "4 Murphydome70        4    128,0,0 POLYGON ((-148.3543 64.9542...\n"
     ]
    },
    {
     "name": "stderr",
     "output_type": "stream",
     "text": [
      "Saving 6.67 x 6.67 in image\n",
      "\n"
     ]
    },
    {
     "name": "stdout",
     "output_type": "stream",
     "text": [
      "Simple feature collection with 1 feature and 3 fields\n",
      "Geometry type: POLYGON\n",
      "Dimension:     XY\n",
      "Bounding box:  xmin: -148.3542 ymin: 64.95413 xmax: -148.3542 ymax: 64.95414\n",
      "Geodetic CRS:  GCS_unknown\n",
      "    CLASS_NAME CLASS_ID CLASS_CLRS                       geometry\n",
      "5 Murphydome60        5  0,128,128 POLYGON ((-148.3542 64.9541...\n"
     ]
    },
    {
     "name": "stderr",
     "output_type": "stream",
     "text": [
      "Saving 6.67 x 6.67 in image\n",
      "\n",
      "Saving 6.67 x 6.67 in image\n",
      "\n",
      "Saving 6.67 x 6.67 in image\n",
      "\n",
      "Saving 6.67 x 6.67 in image\n",
      "\n",
      "Saving 6.67 x 6.67 in image\n",
      "\n",
      "Saving 6.67 x 6.67 in image\n",
      "\n"
     ]
    },
    {
     "name": "stdout",
     "output_type": "stream",
     "text": [
      "[1] \"preprocessing raster at Data/Ground_Validation/Imagery/BonanzaQuads.envi\"\n",
      "[1] \"Converted to Data frame?\"\n",
      "[1] TRUE\n",
      "[1] \"Noisy columns removed\"\n",
      "[1] TRUE\n",
      "[1] \"Filtered\"\n",
      "[1] TRUE\n"
     ]
    },
    {
     "name": "stderr",
     "output_type": "stream",
     "text": [
      "Using spline to predict value at new bands...\n",
      "\n",
      "Beware the spectra are now partially smoothed.\n",
      "\n"
     ]
    },
    {
     "name": "stdout",
     "output_type": "stream",
     "text": [
      "[1] \"Imputing...\"\n",
      "[1] \"Handling Outliers with method: none\"\n",
      "[1] \"Transforming the data with transform: none\"\n",
      "          x        y z\n",
      "1 -148.2962 64.70435 3\n",
      "2 -148.2962 64.70435 6\n",
      "3 -148.2962 64.70435 3\n",
      "4 -148.2962 64.70435 3\n",
      "5 -148.2962 64.70435 3\n",
      "6 -148.2962 64.70435 3\n",
      "          x        y z\n",
      "1 -148.2962 64.70435 3\n",
      "2 -148.2962 64.70435 6\n",
      "3 -148.2962 64.70435 3\n",
      "4 -148.2962 64.70435 3\n",
      "5 -148.2962 64.70435 3\n",
      "6 -148.2962 64.70435 3\n",
      "[1] \"Attempting to save to ./validation_saved_output.grd\"\n",
      "[1] \"Converted to Raster\"\n",
      "Reading layer `Bonanza_N_Quads' from data source \n",
      "  `/home/krbundy/GitHub/lecospec/Data/Vectors/Bonanza_N_Quads.shp' \n",
      "  using driver `ESRI Shapefile'\n",
      "Simple feature collection with 11 features and 3 fields\n",
      "Geometry type: POLYGON\n",
      "Dimension:     XY\n",
      "Bounding box:  xmin: 438153.7 ymin: 7176051 xmax: 438205.6 ymax: 7176138\n",
      "Projected CRS: WGS 84 / UTM zone 6N\n",
      "Simple feature collection with 1 feature and 3 fields\n",
      "Geometry type: POLYGON\n",
      "Dimension:     XY\n",
      "Bounding box:  xmin: -148.2966 ymin: 64.70403 xmax: -148.2966 ymax: 64.70404\n",
      "Geodetic CRS:  GCS_unknown\n",
      "  CLASS_NAME CLASS_ID CLASS_CLRS                       geometry\n",
      "1  Bonanza60        7    128,0,0 POLYGON ((-148.2966 64.7040...\n"
     ]
    },
    {
     "name": "stderr",
     "output_type": "stream",
     "text": [
      "Saving 6.67 x 6.67 in image\n",
      "\n"
     ]
    },
    {
     "name": "stdout",
     "output_type": "stream",
     "text": [
      "Simple feature collection with 1 feature and 3 fields\n",
      "Geometry type: POLYGON\n",
      "Dimension:     XY\n",
      "Bounding box:  xmin: -148.2962 ymin: 64.70434 xmax: -148.2962 ymax: 64.70435\n",
      "Geodetic CRS:  GCS_unknown\n",
      "  CLASS_NAME CLASS_ID CLASS_CLRS                       geometry\n",
      "2 Bonanza100       11  127,255,0 POLYGON ((-148.2962 64.7043...\n"
     ]
    },
    {
     "name": "stderr",
     "output_type": "stream",
     "text": [
      "Saving 6.67 x 6.67 in image\n",
      "\n"
     ]
    },
    {
     "name": "stdout",
     "output_type": "stream",
     "text": [
      "Simple feature collection with 1 feature and 3 fields\n",
      "Geometry type: POLYGON\n",
      "Dimension:     XY\n",
      "Bounding box:  xmin: -148.2963 ymin: 64.70426 xmax: -148.2963 ymax: 64.70428\n",
      "Geodetic CRS:  GCS_unknown\n",
      "  CLASS_NAME CLASS_ID CLASS_CLRS                       geometry\n",
      "3  Bonanza90       10 255,127,80 POLYGON ((-148.2963 64.7042...\n"
     ]
    },
    {
     "name": "stderr",
     "output_type": "stream",
     "text": [
      "Saving 6.67 x 6.67 in image\n",
      "\n"
     ]
    },
    {
     "name": "stdout",
     "output_type": "stream",
     "text": [
      "Simple feature collection with 1 feature and 3 fields\n",
      "Geometry type: POLYGON\n",
      "Dimension:     XY\n",
      "Bounding box:  xmin: -148.2964 ymin: 64.70418 xmax: -148.2964 ymax: 64.7042\n",
      "Geodetic CRS:  GCS_unknown\n",
      "  CLASS_NAME CLASS_ID CLASS_CLRS                       geometry\n",
      "4  Bonanza80        9    0,0,128 POLYGON ((-148.2964 64.7042...\n"
     ]
    },
    {
     "name": "stderr",
     "output_type": "stream",
     "text": [
      "Saving 6.67 x 6.67 in image\n",
      "\n"
     ]
    },
    {
     "name": "stdout",
     "output_type": "stream",
     "text": [
      "Simple feature collection with 1 feature and 3 fields\n",
      "Geometry type: POLYGON\n",
      "Dimension:     XY\n",
      "Bounding box:  xmin: -148.2967 ymin: 64.70395 xmax: -148.2967 ymax: 64.70396\n",
      "Geodetic CRS:  GCS_unknown\n",
      "  CLASS_NAME CLASS_ID CLASS_CLRS                       geometry\n",
      "5  Bonanza50        6  255,0,255 POLYGON ((-148.2967 64.7039...\n"
     ]
    },
    {
     "name": "stderr",
     "output_type": "stream",
     "text": [
      "Saving 6.67 x 6.67 in image\n",
      "\n"
     ]
    },
    {
     "name": "stdout",
     "output_type": "stream",
     "text": [
      "Simple feature collection with 1 feature and 3 fields\n",
      "Geometry type: POLYGON\n",
      "Dimension:     XY\n",
      "Bounding box:  xmin: -148.2968 ymin: 64.70387 xmax: -148.2968 ymax: 64.70388\n",
      "Geodetic CRS:  GCS_unknown\n",
      "  CLASS_NAME CLASS_ID CLASS_CLRS                       geometry\n",
      "6  Bonanza40        5  0,255,255 POLYGON ((-148.2968 64.7038...\n"
     ]
    },
    {
     "name": "stderr",
     "output_type": "stream",
     "text": [
      "Saving 6.67 x 6.67 in image\n",
      "\n"
     ]
    },
    {
     "name": "stdout",
     "output_type": "stream",
     "text": [
      "Simple feature collection with 1 feature and 3 fields\n",
      "Geometry type: POLYGON\n",
      "Dimension:     XY\n",
      "Bounding box:  xmin: -148.2969 ymin: 64.70379 xmax: -148.2969 ymax: 64.7038\n",
      "Geodetic CRS:  GCS_unknown\n",
      "  CLASS_NAME CLASS_ID CLASS_CLRS                       geometry\n",
      "7  Bonanza30        4  255,255,0 POLYGON ((-148.2969 64.7038...\n"
     ]
    },
    {
     "name": "stderr",
     "output_type": "stream",
     "text": [
      "Saving 6.67 x 6.67 in image\n",
      "\n"
     ]
    },
    {
     "name": "stdout",
     "output_type": "stream",
     "text": [
      "Simple feature collection with 1 feature and 3 fields\n",
      "Geometry type: POLYGON\n",
      "Dimension:     XY\n",
      "Bounding box:  xmin: -148.297 ymin: 64.70371 xmax: -148.297 ymax: 64.70373\n",
      "Geodetic CRS:  GCS_unknown\n",
      "  CLASS_NAME CLASS_ID CLASS_CLRS                       geometry\n",
      "8  Bonanza20        3    0,0,255 POLYGON ((-148.297 64.70373...\n"
     ]
    },
    {
     "name": "stderr",
     "output_type": "stream",
     "text": [
      "Saving 6.67 x 6.67 in image\n",
      "\n"
     ]
    },
    {
     "name": "stdout",
     "output_type": "stream",
     "text": [
      "Simple feature collection with 1 feature and 3 fields\n",
      "Geometry type: POLYGON\n",
      "Dimension:     XY\n",
      "Bounding box:  xmin: -148.2971 ymin: 64.70364 xmax: -148.2971 ymax: 64.70365\n",
      "Geodetic CRS:  GCS_unknown\n",
      "  CLASS_NAME CLASS_ID CLASS_CLRS                       geometry\n",
      "9  Bonanza10        2    0,128,0 POLYGON ((-148.2971 64.7036...\n"
     ]
    },
    {
     "name": "stderr",
     "output_type": "stream",
     "text": [
      "Saving 6.67 x 6.67 in image\n",
      "\n"
     ]
    },
    {
     "name": "stdout",
     "output_type": "stream",
     "text": [
      "Simple feature collection with 1 feature and 3 fields\n",
      "Geometry type: POLYGON\n",
      "Dimension:     XY\n",
      "Bounding box:  xmin: -148.2972 ymin: 64.70356 xmax: -148.2972 ymax: 64.70357\n",
      "Geodetic CRS:  GCS_unknown\n",
      "   CLASS_NAME CLASS_ID CLASS_CLRS                       geometry\n",
      "10   Bonanza0        1    255,0,0 POLYGON ((-148.2972 64.7035...\n"
     ]
    },
    {
     "name": "stderr",
     "output_type": "stream",
     "text": [
      "Saving 6.67 x 6.67 in image\n",
      "\n"
     ]
    },
    {
     "name": "stdout",
     "output_type": "stream",
     "text": [
      "Simple feature collection with 1 feature and 3 fields\n",
      "Geometry type: POLYGON\n",
      "Dimension:     XY\n",
      "Bounding box:  xmin: -148.2965 ymin: 64.70411 xmax: -148.2965 ymax: 64.70412\n",
      "Geodetic CRS:  GCS_unknown\n",
      "   CLASS_NAME CLASS_ID CLASS_CLRS                       geometry\n",
      "11  Bonanza70        8    0,255,0 POLYGON ((-148.2965 64.7041...\n"
     ]
    },
    {
     "name": "stderr",
     "output_type": "stream",
     "text": [
      "Saving 6.67 x 6.67 in image\n",
      "\n",
      "Saving 6.67 x 6.67 in image\n",
      "\n",
      "Saving 6.67 x 6.67 in image\n",
      "\n",
      "Saving 6.67 x 6.67 in image\n",
      "\n",
      "Saving 6.67 x 6.67 in image\n",
      "\n",
      "Saving 6.67 x 6.67 in image\n",
      "\n",
      "Saving 6.67 x 6.67 in image\n",
      "\n",
      "Saving 6.67 x 6.67 in image\n",
      "\n",
      "Saving 6.67 x 6.67 in image\n",
      "\n",
      "Saving 6.67 x 6.67 in image\n",
      "\n",
      "Saving 6.67 x 6.67 in image\n",
      "\n",
      "Saving 6.67 x 6.67 in image\n",
      "\n",
      "Warning message in confusionMatrix.default(model_predictions, test_labels, mode = \"everything\"):\n",
      "“Levels are not in the same order for reference and data. Refactoring data to match.”\n"
     ]
    },
    {
     "name": "stdout",
     "output_type": "stream",
     "text": [
      "[1] \"preprocessing raster at Data/Ground_Validation/Imagery/BisonGulchQuads.envi\"\n",
      "[1] \"Converted to Data frame?\"\n",
      "[1] TRUE\n",
      "[1] \"Noisy columns removed\"\n",
      "[1] TRUE\n",
      "[1] \"Filtered\"\n",
      "[1] TRUE\n"
     ]
    },
    {
     "name": "stderr",
     "output_type": "stream",
     "text": [
      "Using spline to predict value at new bands...\n",
      "\n",
      "Beware the spectra are now partially smoothed.\n",
      "\n"
     ]
    },
    {
     "name": "stdout",
     "output_type": "stream",
     "text": [
      "[1] \"Imputing...\"\n",
      "[1] \"Handling Outliers with method: none\"\n",
      "[1] \"Transforming the data with transform: none\"\n",
      "          x        y z\n",
      "1 -148.9508 63.80701 3\n",
      "2 -148.9508 63.80701 3\n",
      "3 -148.9508 63.80701 3\n",
      "4 -148.9508 63.80701 1\n",
      "5 -148.9508 63.80701 5\n",
      "6 -148.9508 63.80701 5\n",
      "          x        y z\n",
      "1 -148.9508 63.80701 3\n",
      "2 -148.9508 63.80701 3\n",
      "3 -148.9508 63.80701 3\n",
      "4 -148.9508 63.80701 1\n",
      "5 -148.9508 63.80701 5\n",
      "6 -148.9508 63.80701 5\n",
      "[1] \"Attempting to save to ./validation_saved_output.grd\"\n",
      "[1] \"Converted to Raster\"\n",
      "Reading layer `Bisoon_Quadrats_georeferenced' from data source \n",
      "  `/home/krbundy/GitHub/lecospec/Data/Vectors/Bisoon_Quadrats_georeferenced.shp' \n",
      "  using driver `ESRI Shapefile'\n",
      "Simple feature collection with 9 features and 3 fields\n",
      "Geometry type: POLYGON\n",
      "Dimension:     XY\n",
      "Bounding box:  xmin: -148.9524 ymin: 63.80698 xmax: -148.9508 ymax: 63.80701\n",
      "Geodetic CRS:  WGS 84\n",
      "Simple feature collection with 1 feature and 3 fields\n",
      "Geometry type: POLYGON\n",
      "Dimension:     XY\n",
      "Bounding box:  xmin: -148.9508 ymin: 63.807 xmax: -148.9508 ymax: 63.80701\n",
      "Geodetic CRS:  GCS_unknown\n",
      "  CLASS_ID  CLASS_NAME AREA                       geometry\n",
      "1        1 Bisongulch0  612 POLYGON ((-148.9508 63.807,...\n"
     ]
    },
    {
     "name": "stderr",
     "output_type": "stream",
     "text": [
      "Saving 6.67 x 6.67 in image\n",
      "\n"
     ]
    },
    {
     "name": "stdout",
     "output_type": "stream",
     "text": [
      "Simple feature collection with 1 feature and 3 fields\n",
      "Geometry type: POLYGON\n",
      "Dimension:     XY\n",
      "Bounding box:  xmin: -148.952 ymin: 63.80699 xmax: -148.952 ymax: 63.807\n",
      "Geodetic CRS:  GCS_unknown\n",
      "  CLASS_ID   CLASS_NAME AREA                       geometry\n",
      "2        7 Bisongulch70  649 POLYGON ((-148.952 63.80699...\n"
     ]
    },
    {
     "name": "stderr",
     "output_type": "stream",
     "text": [
      "Saving 6.67 x 6.67 in image\n",
      "\n"
     ]
    },
    {
     "name": "stdout",
     "output_type": "stream",
     "text": [
      "Simple feature collection with 1 feature and 3 fields\n",
      "Geometry type: POLYGON\n",
      "Dimension:     XY\n",
      "Bounding box:  xmin: -148.9522 ymin: 63.80699 xmax: -148.9522 ymax: 63.807\n",
      "Geodetic CRS:  GCS_unknown\n",
      "  CLASS_ID   CLASS_NAME AREA                       geometry\n",
      "3        8 Bisongulch80  661 POLYGON ((-148.9522 63.8069...\n"
     ]
    },
    {
     "name": "stderr",
     "output_type": "stream",
     "text": [
      "Saving 6.67 x 6.67 in image\n",
      "\n"
     ]
    },
    {
     "name": "stdout",
     "output_type": "stream",
     "text": [
      "Simple feature collection with 1 feature and 3 fields\n",
      "Geometry type: POLYGON\n",
      "Dimension:     XY\n",
      "Bounding box:  xmin: -148.951 ymin: 63.80699 xmax: -148.9509 ymax: 63.807\n",
      "Geodetic CRS:  GCS_unknown\n",
      "  CLASS_ID   CLASS_NAME AREA                       geometry\n",
      "4        2 Bisongulch10  649 POLYGON ((-148.9509 63.8069...\n"
     ]
    },
    {
     "name": "stderr",
     "output_type": "stream",
     "text": [
      "Saving 6.67 x 6.67 in image\n",
      "\n"
     ]
    },
    {
     "name": "stdout",
     "output_type": "stream",
     "text": [
      "Simple feature collection with 1 feature and 3 fields\n",
      "Geometry type: POLYGON\n",
      "Dimension:     XY\n",
      "Bounding box:  xmin: -148.9524 ymin: 63.80699 xmax: -148.9524 ymax: 63.807\n",
      "Geodetic CRS:  GCS_unknown\n",
      "  CLASS_ID   CLASS_NAME AREA                       geometry\n",
      "5        9 Bisongulch90  648 POLYGON ((-148.9524 63.8069...\n"
     ]
    },
    {
     "name": "stderr",
     "output_type": "stream",
     "text": [
      "Saving 6.67 x 6.67 in image\n",
      "\n"
     ]
    },
    {
     "name": "stdout",
     "output_type": "stream",
     "text": [
      "Simple feature collection with 1 feature and 3 fields\n",
      "Geometry type: POLYGON\n",
      "Dimension:     XY\n",
      "Bounding box:  xmin: -148.9512 ymin: 63.80699 xmax: -148.9512 ymax: 63.807\n",
      "Geodetic CRS:  GCS_unknown\n",
      "  CLASS_ID   CLASS_NAME AREA                       geometry\n",
      "6        3 Bisongulch20  574 POLYGON ((-148.9512 63.8069...\n"
     ]
    },
    {
     "name": "stderr",
     "output_type": "stream",
     "text": [
      "Saving 6.67 x 6.67 in image\n",
      "\n"
     ]
    },
    {
     "name": "stdout",
     "output_type": "stream",
     "text": [
      "Simple feature collection with 1 feature and 3 fields\n",
      "Geometry type: POLYGON\n",
      "Dimension:     XY\n",
      "Bounding box:  xmin: -148.9518 ymin: 63.80699 xmax: -148.9518 ymax: 63.807\n",
      "Geodetic CRS:  GCS_unknown\n",
      "  CLASS_ID   CLASS_NAME AREA                       geometry\n",
      "7        6 Bisongulch50  673 POLYGON ((-148.9518 63.8069...\n"
     ]
    },
    {
     "name": "stderr",
     "output_type": "stream",
     "text": [
      "Saving 6.67 x 6.67 in image\n",
      "\n"
     ]
    },
    {
     "name": "stdout",
     "output_type": "stream",
     "text": [
      "Simple feature collection with 1 feature and 3 fields\n",
      "Geometry type: POLYGON\n",
      "Dimension:     XY\n",
      "Bounding box:  xmin: -148.9514 ymin: 63.80699 xmax: -148.9514 ymax: 63.807\n",
      "Geodetic CRS:  GCS_unknown\n",
      "  CLASS_ID   CLASS_NAME AREA                       geometry\n",
      "8        4 Bisongulch30  673 POLYGON ((-148.9514 63.8069...\n"
     ]
    },
    {
     "name": "stderr",
     "output_type": "stream",
     "text": [
      "Saving 6.67 x 6.67 in image\n",
      "\n"
     ]
    },
    {
     "name": "stdout",
     "output_type": "stream",
     "text": [
      "Simple feature collection with 1 feature and 3 fields\n",
      "Geometry type: POLYGON\n",
      "Dimension:     XY\n",
      "Bounding box:  xmin: -148.9516 ymin: 63.80698 xmax: -148.9516 ymax: 63.80699\n",
      "Geodetic CRS:  GCS_unknown\n",
      "  CLASS_ID   CLASS_NAME AREA                       geometry\n",
      "9        5 Bisongulch40  674 POLYGON ((-148.9516 63.8069...\n"
     ]
    },
    {
     "name": "stderr",
     "output_type": "stream",
     "text": [
      "Saving 6.67 x 6.67 in image\n",
      "\n",
      "Saving 6.67 x 6.67 in image\n",
      "\n",
      "Saving 6.67 x 6.67 in image\n",
      "\n",
      "Saving 6.67 x 6.67 in image\n",
      "\n",
      "Saving 6.67 x 6.67 in image\n",
      "\n",
      "Saving 6.67 x 6.67 in image\n",
      "\n",
      "Saving 6.67 x 6.67 in image\n",
      "\n",
      "Saving 6.67 x 6.67 in image\n",
      "\n",
      "Saving 6.67 x 6.67 in image\n",
      "\n",
      "Saving 6.67 x 6.67 in image\n",
      "\n"
     ]
    },
    {
     "name": "stdout",
     "output_type": "stream",
     "text": [
      "[1] \"preprocessing raster at Data/Ground_Validation/Imagery/ChatanikaQuads.envi\"\n",
      "[1] \"Converted to Data frame?\"\n",
      "[1] TRUE\n",
      "[1] \"Noisy columns removed\"\n",
      "[1] TRUE\n",
      "[1] \"Filtered\"\n",
      "[1] TRUE\n"
     ]
    },
    {
     "name": "stderr",
     "output_type": "stream",
     "text": [
      "Using spline to predict value at new bands...\n",
      "\n",
      "Beware the spectra are now partially smoothed.\n",
      "\n"
     ]
    },
    {
     "name": "stdout",
     "output_type": "stream",
     "text": [
      "[1] \"Imputing...\"\n",
      "[1] \"Handling Outliers with method: none\"\n",
      "[1] \"Transforming the data with transform: none\"\n",
      "          x        y z\n",
      "1 -147.4827 65.15287 3\n",
      "2 -147.4827 65.15287 2\n",
      "3 -147.4827 65.15287 3\n",
      "4 -147.4827 65.15287 2\n",
      "5 -147.4827 65.15287 2\n",
      "6 -147.4827 65.15287 3\n",
      "          x        y z\n",
      "1 -147.4827 65.15287 3\n",
      "2 -147.4827 65.15287 2\n",
      "3 -147.4827 65.15287 3\n",
      "4 -147.4827 65.15287 2\n",
      "5 -147.4827 65.15287 2\n",
      "6 -147.4827 65.15287 3\n",
      "[1] \"Attempting to save to ./validation_saved_output.grd\"\n",
      "[1] \"Converted to Raster\"\n",
      "Reading layer `ChatanikaQuads_georeferenced' from data source \n",
      "  `/home/krbundy/GitHub/lecospec/Data/Vectors/ChatanikaQuads_georeferenced.shp' \n",
      "  using driver `ESRI Shapefile'\n",
      "Simple feature collection with 11 features and 3 fields\n",
      "Geometry type: POLYGON\n",
      "Dimension:     XY\n",
      "Bounding box:  xmin: -147.4827 ymin: 65.15281 xmax: -147.4806 ymax: 65.15287\n",
      "Geodetic CRS:  WGS 84\n",
      "Simple feature collection with 1 feature and 3 fields\n",
      "Geometry type: POLYGON\n",
      "Dimension:     XY\n",
      "Bounding box:  xmin: -147.4827 ymin: 65.15286 xmax: -147.4827 ymax: 65.15287\n",
      "Geodetic CRS:  GCS_unknown\n",
      "    CLASS_NAME CLASS_ID CLASS_CLRS                       geometry\n",
      "1 Chatanika100       11    0,0,128 POLYGON ((-147.4827 65.1528...\n"
     ]
    },
    {
     "name": "stderr",
     "output_type": "stream",
     "text": [
      "Saving 6.67 x 6.67 in image\n",
      "\n"
     ]
    },
    {
     "name": "stdout",
     "output_type": "stream",
     "text": [
      "Simple feature collection with 1 feature and 3 fields\n",
      "Geometry type: POLYGON\n",
      "Dimension:     XY\n",
      "Bounding box:  xmin: -147.4825 ymin: 65.15285 xmax: -147.4825 ymax: 65.15286\n",
      "Geodetic CRS:  GCS_unknown\n",
      "   CLASS_NAME CLASS_ID CLASS_CLRS                       geometry\n",
      "2 Chatanika90       10    0,255,0 POLYGON ((-147.4825 65.1528...\n"
     ]
    },
    {
     "name": "stderr",
     "output_type": "stream",
     "text": [
      "Saving 6.67 x 6.67 in image\n",
      "\n"
     ]
    },
    {
     "name": "stdout",
     "output_type": "stream",
     "text": [
      "Simple feature collection with 1 feature and 3 fields\n",
      "Geometry type: POLYGON\n",
      "Dimension:     XY\n",
      "Bounding box:  xmin: -147.4821 ymin: 65.15285 xmax: -147.4821 ymax: 65.15286\n",
      "Geodetic CRS:  GCS_unknown\n",
      "   CLASS_NAME CLASS_ID CLASS_CLRS                       geometry\n",
      "3 Chatanika70        8  0,128,128 POLYGON ((-147.4821 65.1528...\n"
     ]
    },
    {
     "name": "stderr",
     "output_type": "stream",
     "text": [
      "Saving 6.67 x 6.67 in image\n",
      "\n"
     ]
    },
    {
     "name": "stdout",
     "output_type": "stream",
     "text": [
      "Simple feature collection with 1 feature and 3 fields\n",
      "Geometry type: POLYGON\n",
      "Dimension:     XY\n",
      "Bounding box:  xmin: -147.4823 ymin: 65.15285 xmax: -147.4823 ymax: 65.15286\n",
      "Geodetic CRS:  GCS_unknown\n",
      "   CLASS_NAME CLASS_ID CLASS_CLRS                       geometry\n",
      "4 Chatanika80        9    128,0,0 POLYGON ((-147.4823 65.1528...\n"
     ]
    },
    {
     "name": "stderr",
     "output_type": "stream",
     "text": [
      "Saving 6.67 x 6.67 in image\n",
      "\n"
     ]
    },
    {
     "name": "stdout",
     "output_type": "stream",
     "text": [
      "Simple feature collection with 1 feature and 3 fields\n",
      "Geometry type: POLYGON\n",
      "Dimension:     XY\n",
      "Bounding box:  xmin: -147.4819 ymin: 65.15285 xmax: -147.4819 ymax: 65.15286\n",
      "Geodetic CRS:  GCS_unknown\n",
      "   CLASS_NAME CLASS_ID CLASS_CLRS                       geometry\n",
      "5 Chatanika60        7  128,128,0 POLYGON ((-147.4819 65.1528...\n"
     ]
    },
    {
     "name": "stderr",
     "output_type": "stream",
     "text": [
      "Saving 6.67 x 6.67 in image\n",
      "\n"
     ]
    },
    {
     "name": "stdout",
     "output_type": "stream",
     "text": [
      "Simple feature collection with 1 feature and 3 fields\n",
      "Geometry type: POLYGON\n",
      "Dimension:     XY\n",
      "Bounding box:  xmin: -147.4817 ymin: 65.15284 xmax: -147.4816 ymax: 65.15285\n",
      "Geodetic CRS:  GCS_unknown\n",
      "   CLASS_NAME CLASS_ID CLASS_CLRS                       geometry\n",
      "6 Chatanika50        6  255,0,255 POLYGON ((-147.4816 65.1528...\n"
     ]
    },
    {
     "name": "stderr",
     "output_type": "stream",
     "text": [
      "Saving 6.67 x 6.67 in image\n",
      "\n"
     ]
    },
    {
     "name": "stdout",
     "output_type": "stream",
     "text": [
      "Simple feature collection with 1 feature and 3 fields\n",
      "Geometry type: POLYGON\n",
      "Dimension:     XY\n",
      "Bounding box:  xmin: -147.4815 ymin: 65.15283 xmax: -147.4814 ymax: 65.15284\n",
      "Geodetic CRS:  GCS_unknown\n",
      "   CLASS_NAME CLASS_ID CLASS_CLRS                       geometry\n",
      "7 Chatanika40        5  0,255,255 POLYGON ((-147.4814 65.1528...\n"
     ]
    },
    {
     "name": "stderr",
     "output_type": "stream",
     "text": [
      "Saving 6.67 x 6.67 in image\n",
      "\n"
     ]
    },
    {
     "name": "stdout",
     "output_type": "stream",
     "text": [
      "Simple feature collection with 1 feature and 3 fields\n",
      "Geometry type: POLYGON\n",
      "Dimension:     XY\n",
      "Bounding box:  xmin: -147.4812 ymin: 65.15282 xmax: -147.4812 ymax: 65.15283\n",
      "Geodetic CRS:  GCS_unknown\n",
      "   CLASS_NAME CLASS_ID CLASS_CLRS                       geometry\n",
      "8 Chatanika30        4  255,255,0 POLYGON ((-147.4812 65.1528...\n"
     ]
    },
    {
     "name": "stderr",
     "output_type": "stream",
     "text": [
      "Saving 6.67 x 6.67 in image\n",
      "\n"
     ]
    },
    {
     "name": "stdout",
     "output_type": "stream",
     "text": [
      "Simple feature collection with 1 feature and 3 fields\n",
      "Geometry type: POLYGON\n",
      "Dimension:     XY\n",
      "Bounding box:  xmin: -147.481 ymin: 65.15281 xmax: -147.481 ymax: 65.15282\n",
      "Geodetic CRS:  GCS_unknown\n",
      "   CLASS_NAME CLASS_ID CLASS_CLRS                       geometry\n",
      "9 Chatanika20        3    0,0,255 POLYGON ((-147.481 65.15282...\n"
     ]
    },
    {
     "name": "stderr",
     "output_type": "stream",
     "text": [
      "Saving 6.67 x 6.67 in image\n",
      "\n"
     ]
    },
    {
     "name": "stdout",
     "output_type": "stream",
     "text": [
      "Simple feature collection with 1 feature and 3 fields\n",
      "Geometry type: POLYGON\n",
      "Dimension:     XY\n",
      "Bounding box:  xmin: -147.4808 ymin: 65.15281 xmax: -147.4808 ymax: 65.15282\n",
      "Geodetic CRS:  GCS_unknown\n",
      "    CLASS_NAME CLASS_ID CLASS_CLRS                       geometry\n",
      "10 Chatanika10        2    0,128,0 POLYGON ((-147.4808 65.1528...\n"
     ]
    },
    {
     "name": "stderr",
     "output_type": "stream",
     "text": [
      "Saving 6.67 x 6.67 in image\n",
      "\n"
     ]
    },
    {
     "name": "stdout",
     "output_type": "stream",
     "text": [
      "Simple feature collection with 1 feature and 3 fields\n",
      "Geometry type: POLYGON\n",
      "Dimension:     XY\n",
      "Bounding box:  xmin: -147.4806 ymin: 65.15281 xmax: -147.4806 ymax: 65.15281\n",
      "Geodetic CRS:  GCS_unknown\n",
      "   CLASS_NAME CLASS_ID CLASS_CLRS                       geometry\n",
      "11 Chatanika0        1    255,0,0 POLYGON ((-147.4806 65.1528...\n"
     ]
    },
    {
     "name": "stderr",
     "output_type": "stream",
     "text": [
      "Saving 6.67 x 6.67 in image\n",
      "\n",
      "Saving 6.67 x 6.67 in image\n",
      "\n",
      "Saving 6.67 x 6.67 in image\n",
      "\n",
      "Saving 6.67 x 6.67 in image\n",
      "\n",
      "Saving 6.67 x 6.67 in image\n",
      "\n",
      "Saving 6.67 x 6.67 in image\n",
      "\n",
      "Saving 6.67 x 6.67 in image\n",
      "\n",
      "Saving 6.67 x 6.67 in image\n",
      "\n",
      "Saving 6.67 x 6.67 in image\n",
      "\n",
      "Saving 6.67 x 6.67 in image\n",
      "\n",
      "Saving 6.67 x 6.67 in image\n",
      "\n",
      "Saving 6.67 x 6.67 in image\n",
      "\n"
     ]
    },
    {
     "name": "stdout",
     "output_type": "stream",
     "text": [
      "[1] \"preprocessing raster at Data/Ground_Validation/Imagery/TwelveMileGulchQuads1.envi\"\n",
      "[1] \"Converted to Data frame?\"\n",
      "[1] TRUE\n",
      "[1] \"Noisy columns removed\"\n",
      "[1] TRUE\n",
      "[1] \"Filtered\"\n",
      "[1] TRUE\n"
     ]
    },
    {
     "name": "stderr",
     "output_type": "stream",
     "text": [
      "Using spline to predict value at new bands...\n",
      "\n",
      "Beware the spectra are now partially smoothed.\n",
      "\n"
     ]
    },
    {
     "name": "stdout",
     "output_type": "stream",
     "text": [
      "[1] \"Imputing...\"\n",
      "[1] \"Handling Outliers with method: none\"\n",
      "[1] \"Transforming the data with transform: none\"\n",
      "         x        y z\n",
      "1 -145.979 65.40191 3\n",
      "2 -145.979 65.40191 3\n",
      "3 -145.979 65.40191 3\n",
      "4 -145.979 65.40191 5\n",
      "5 -145.979 65.40191 3\n",
      "6 -145.979 65.40191 5\n",
      "         x        y z\n",
      "1 -145.979 65.40191 3\n",
      "2 -145.979 65.40191 3\n",
      "3 -145.979 65.40191 3\n",
      "4 -145.979 65.40191 5\n",
      "5 -145.979 65.40191 3\n",
      "6 -145.979 65.40191 5\n",
      "[1] \"Attempting to save to ./validation_saved_output.grd\"\n",
      "[1] \"Converted to Raster\"\n",
      "Reading layer `TwelveMileQ0_10_20_30_40m' from data source \n",
      "  `/home/krbundy/GitHub/lecospec/Data/Vectors/TwelveMileQ0_10_20_30_40m.shp' \n",
      "  using driver `ESRI Shapefile'\n",
      "Simple feature collection with 5 features and 3 fields\n",
      "Geometry type: POLYGON\n",
      "Dimension:     XY\n",
      "Bounding box:  xmin: -145.979 ymin: 65.4018 xmax: -145.9782 ymax: 65.40191\n",
      "Geodetic CRS:  WGS 84\n",
      "Simple feature collection with 1 feature and 3 fields\n",
      "Geometry type: POLYGON\n",
      "Dimension:     XY\n",
      "Bounding box:  xmin: -145.979 ymin: 65.4019 xmax: -145.979 ymax: 65.40191\n",
      "Geodetic CRS:  GCS_unknown\n",
      "  CLASS_ID   CLASS_NAME AREA                       geometry\n",
      "1        4 Twelvemile40  288 POLYGON ((-145.979 65.4019,...\n"
     ]
    },
    {
     "name": "stderr",
     "output_type": "stream",
     "text": [
      "Saving 6.67 x 6.67 in image\n",
      "\n"
     ]
    },
    {
     "name": "stdout",
     "output_type": "stream",
     "text": [
      "Simple feature collection with 1 feature and 3 fields\n",
      "Geometry type: POLYGON\n",
      "Dimension:     XY\n",
      "Bounding box:  xmin: -145.9788 ymin: 65.40187 xmax: -145.9788 ymax: 65.40188\n",
      "Geodetic CRS:  GCS_unknown\n",
      "  CLASS_ID   CLASS_NAME AREA                       geometry\n",
      "2        1 Twelvemile30  281 POLYGON ((-145.9788 65.4018...\n"
     ]
    },
    {
     "name": "stderr",
     "output_type": "stream",
     "text": [
      "Saving 6.67 x 6.67 in image\n",
      "\n"
     ]
    },
    {
     "name": "stdout",
     "output_type": "stream",
     "text": [
      "Simple feature collection with 1 feature and 3 fields\n",
      "Geometry type: POLYGON\n",
      "Dimension:     XY\n",
      "Bounding box:  xmin: -145.9786 ymin: 65.40185 xmax: -145.9786 ymax: 65.40186\n",
      "Geodetic CRS:  GCS_unknown\n",
      "  CLASS_ID   CLASS_NAME AREA                       geometry\n",
      "3        2 Twelvemile20  328 POLYGON ((-145.9786 65.4018...\n"
     ]
    },
    {
     "name": "stderr",
     "output_type": "stream",
     "text": [
      "Saving 6.67 x 6.67 in image\n",
      "\n"
     ]
    },
    {
     "name": "stdout",
     "output_type": "stream",
     "text": [
      "Simple feature collection with 1 feature and 3 fields\n",
      "Geometry type: POLYGON\n",
      "Dimension:     XY\n",
      "Bounding box:  xmin: -145.9784 ymin: 65.40183 xmax: -145.9784 ymax: 65.40184\n",
      "Geodetic CRS:  GCS_unknown\n",
      "  CLASS_ID   CLASS_NAME AREA                       geometry\n",
      "4        3 Twelvemile10  308 POLYGON ((-145.9784 65.4018...\n"
     ]
    },
    {
     "name": "stderr",
     "output_type": "stream",
     "text": [
      "Saving 6.67 x 6.67 in image\n",
      "\n"
     ]
    },
    {
     "name": "stdout",
     "output_type": "stream",
     "text": [
      "Simple feature collection with 1 feature and 3 fields\n",
      "Geometry type: POLYGON\n",
      "Dimension:     XY\n",
      "Bounding box:  xmin: -145.9782 ymin: 65.4018 xmax: -145.9782 ymax: 65.40181\n",
      "Geodetic CRS:  GCS_unknown\n",
      "  CLASS_ID  CLASS_NAME AREA                       geometry\n",
      "5        5 Twelvemile0  336 POLYGON ((-145.9782 65.4018...\n"
     ]
    },
    {
     "name": "stderr",
     "output_type": "stream",
     "text": [
      "Saving 6.67 x 6.67 in image\n",
      "\n",
      "Saving 6.67 x 6.67 in image\n",
      "\n",
      "Saving 6.67 x 6.67 in image\n",
      "\n",
      "Saving 6.67 x 6.67 in image\n",
      "\n",
      "Saving 6.67 x 6.67 in image\n",
      "\n",
      "Saving 6.67 x 6.67 in image\n",
      "\n"
     ]
    },
    {
     "name": "stdout",
     "output_type": "stream",
     "text": [
      "[1] \"preprocessing raster at Data/Ground_Validation/Imagery/TwelveMileGulchQuads2.envi\"\n",
      "[1] \"Converted to Data frame?\"\n",
      "[1] TRUE\n",
      "[1] \"Noisy columns removed\"\n",
      "[1] TRUE\n",
      "[1] \"Filtered\"\n",
      "[1] TRUE\n"
     ]
    },
    {
     "name": "stderr",
     "output_type": "stream",
     "text": [
      "Using spline to predict value at new bands...\n",
      "\n",
      "Beware the spectra are now partially smoothed.\n",
      "\n"
     ]
    },
    {
     "name": "stdout",
     "output_type": "stream",
     "text": [
      "[1] \"Imputing...\"\n",
      "[1] \"Handling Outliers with method: none\"\n",
      "[1] \"Transforming the data with transform: none\"\n",
      "          x        y z\n",
      "1 -145.9802 65.40203 3\n",
      "2 -145.9802 65.40203 3\n",
      "3 -145.9802 65.40203 3\n",
      "4 -145.9802 65.40203 3\n",
      "5 -145.9802 65.40203 3\n",
      "6 -145.9802 65.40203 3\n",
      "          x        y z\n",
      "1 -145.9802 65.40203 3\n",
      "2 -145.9802 65.40203 3\n",
      "3 -145.9802 65.40203 3\n",
      "4 -145.9802 65.40203 3\n",
      "5 -145.9802 65.40203 3\n",
      "6 -145.9802 65.40203 3\n",
      "[1] \"Attempting to save to ./validation_saved_output.grd\"\n",
      "[1] \"Converted to Raster\"\n",
      "Reading layer `TwelveMileQ70_80_90_100m' from data source \n",
      "  `/home/krbundy/GitHub/lecospec/Data/Vectors/TwelveMileQ70_80_90_100m.shp' \n",
      "  using driver `ESRI Shapefile'\n",
      "Simple feature collection with 4 features and 3 fields\n",
      "Geometry type: POLYGON\n",
      "Dimension:     XY\n",
      "Bounding box:  xmin: -145.9802 ymin: 65.40196 xmax: -145.9796 ymax: 65.40203\n",
      "Geodetic CRS:  WGS 84\n",
      "Simple feature collection with 1 feature and 3 fields\n",
      "Geometry type: POLYGON\n",
      "Dimension:     XY\n",
      "Bounding box:  xmin: -145.9802 ymin: 65.40202 xmax: -145.9802 ymax: 65.40203\n",
      "Geodetic CRS:  GCS_unknown\n",
      "  CLASS_ID    CLASS_NAME AREA                       geometry\n",
      "1        4 Twelvemile100  492 POLYGON ((-145.9802 65.4020...\n"
     ]
    },
    {
     "name": "stderr",
     "output_type": "stream",
     "text": [
      "Saving 6.67 x 6.67 in image\n",
      "\n"
     ]
    },
    {
     "name": "stdout",
     "output_type": "stream",
     "text": [
      "Simple feature collection with 1 feature and 3 fields\n",
      "Geometry type: POLYGON\n",
      "Dimension:     XY\n",
      "Bounding box:  xmin: -145.98 ymin: 65.402 xmax: -145.98 ymax: 65.40201\n",
      "Geodetic CRS:  GCS_unknown\n",
      "  CLASS_ID   CLASS_NAME AREA                       geometry\n",
      "2        3 Twelvemile90  473 POLYGON ((-145.98 65.402, -...\n"
     ]
    },
    {
     "name": "stderr",
     "output_type": "stream",
     "text": [
      "Saving 6.67 x 6.67 in image\n",
      "\n"
     ]
    },
    {
     "name": "stdout",
     "output_type": "stream",
     "text": [
      "Simple feature collection with 1 feature and 3 fields\n",
      "Geometry type: POLYGON\n",
      "Dimension:     XY\n",
      "Bounding box:  xmin: -145.9798 ymin: 65.40198 xmax: -145.9798 ymax: 65.40199\n",
      "Geodetic CRS:  GCS_unknown\n",
      "  CLASS_ID   CLASS_NAME AREA                       geometry\n",
      "3        2 Twelvemile80  631 POLYGON ((-145.9798 65.4019...\n"
     ]
    },
    {
     "name": "stderr",
     "output_type": "stream",
     "text": [
      "Saving 6.67 x 6.67 in image\n",
      "\n"
     ]
    },
    {
     "name": "stdout",
     "output_type": "stream",
     "text": [
      "Simple feature collection with 1 feature and 3 fields\n",
      "Geometry type: POLYGON\n",
      "Dimension:     XY\n",
      "Bounding box:  xmin: -145.9796 ymin: 65.40196 xmax: -145.9796 ymax: 65.40197\n",
      "Geodetic CRS:  GCS_unknown\n",
      "  CLASS_ID   CLASS_NAME AREA                       geometry\n",
      "4        1 Twelvemile70  518 POLYGON ((-145.9796 65.4019...\n"
     ]
    },
    {
     "name": "stderr",
     "output_type": "stream",
     "text": [
      "Saving 6.67 x 6.67 in image\n",
      "\n",
      "Saving 6.67 x 6.67 in image\n",
      "\n",
      "Saving 6.67 x 6.67 in image\n",
      "\n",
      "Saving 6.67 x 6.67 in image\n",
      "\n",
      "Saving 6.67 x 6.67 in image\n",
      "\n"
     ]
    },
    {
     "name": "stdout",
     "output_type": "stream",
     "text": [
      "[1] \"preprocessing raster at Data/Ground_Validation/Imagery/EightMileQuads.envi\"\n",
      "[1] \"Converted to Data frame?\"\n",
      "[1] TRUE\n",
      "[1] \"Noisy columns removed\"\n",
      "[1] TRUE\n",
      "[1] \"Filtered\"\n",
      "[1] TRUE\n"
     ]
    },
    {
     "name": "stderr",
     "output_type": "stream",
     "text": [
      "Using spline to predict value at new bands...\n",
      "\n",
      "Beware the spectra are now partially smoothed.\n",
      "\n"
     ]
    },
    {
     "name": "stdout",
     "output_type": "stream",
     "text": [
      "[1] \"Imputing...\"\n",
      "[1] \"Handling Outliers with method: none\"\n",
      "[1] \"Transforming the data with transform: none\"\n",
      "          x        y z\n",
      "1 -149.2529 63.87686 3\n",
      "2 -149.2529 63.87686 3\n",
      "3 -149.2529 63.87686 3\n",
      "4 -149.2529 63.87686 3\n",
      "5 -149.2529 63.87686 3\n",
      "6 -149.2529 63.87686 3\n",
      "          x        y z\n",
      "1 -149.2529 63.87686 3\n",
      "2 -149.2529 63.87686 3\n",
      "3 -149.2529 63.87686 3\n",
      "4 -149.2529 63.87686 3\n",
      "5 -149.2529 63.87686 3\n",
      "6 -149.2529 63.87686 3\n",
      "[1] \"Attempting to save to ./validation_saved_output.grd\"\n",
      "[1] \"Converted to Raster\"\n",
      "Reading layer `EightMile_Quadrats_revised' from data source \n",
      "  `/home/krbundy/GitHub/lecospec/Data/Vectors/EightMile_Quadrats_revised.shp' \n",
      "  using driver `ESRI Shapefile'\n",
      "Simple feature collection with 11 features and 3 fields\n",
      "Geometry type: POLYGON\n",
      "Dimension:     XY\n",
      "Bounding box:  xmin: -149.2549 ymin: 63.87666 xmax: -149.2529 ymax: 63.87686\n",
      "Geodetic CRS:  WGS 84\n",
      "Simple feature collection with 1 feature and 3 fields\n",
      "Geometry type: POLYGON\n",
      "Dimension:     XY\n",
      "Bounding box:  xmin: -149.2547 ymin: 63.87667 xmax: -149.2546 ymax: 63.87669\n",
      "Geodetic CRS:  GCS_unknown\n",
      "   CLASS_NAME CLASS_ID CLASS_CLRS                       geometry\n",
      "1 Eightmile10        2    0,128,0 POLYGON ((-149.2547 63.8766...\n"
     ]
    },
    {
     "name": "stderr",
     "output_type": "stream",
     "text": [
      "Saving 6.67 x 6.67 in image\n",
      "\n"
     ]
    },
    {
     "name": "stdout",
     "output_type": "stream",
     "text": [
      "Simple feature collection with 1 feature and 3 fields\n",
      "Geometry type: POLYGON\n",
      "Dimension:     XY\n",
      "Bounding box:  xmin: -149.2549 ymin: 63.87666 xmax: -149.2548 ymax: 63.87667\n",
      "Geodetic CRS:  GCS_unknown\n",
      "  CLASS_NAME CLASS_ID CLASS_CLRS                       geometry\n",
      "2 Eightmile0        1    255,0,0 POLYGON ((-149.2548 63.8766...\n"
     ]
    },
    {
     "name": "stderr",
     "output_type": "stream",
     "text": [
      "Saving 6.67 x 6.67 in image\n",
      "\n"
     ]
    },
    {
     "name": "stdout",
     "output_type": "stream",
     "text": [
      "Simple feature collection with 1 feature and 3 fields\n",
      "Geometry type: POLYGON\n",
      "Dimension:     XY\n",
      "Bounding box:  xmin: -149.2537 ymin: 63.87675 xmax: -149.2537 ymax: 63.87677\n",
      "Geodetic CRS:  GCS_unknown\n",
      "   CLASS_NAME CLASS_ID CLASS_CLRS                       geometry\n",
      "3 Eightmile60        7  128,128,0 POLYGON ((-149.2537 63.8767...\n"
     ]
    },
    {
     "name": "stderr",
     "output_type": "stream",
     "text": [
      "Saving 6.67 x 6.67 in image\n",
      "\n"
     ]
    },
    {
     "name": "stdout",
     "output_type": "stream",
     "text": [
      "Simple feature collection with 1 feature and 3 fields\n",
      "Geometry type: POLYGON\n",
      "Dimension:     XY\n",
      "Bounding box:  xmin: -149.2539 ymin: 63.87673 xmax: -149.2539 ymax: 63.87674\n",
      "Geodetic CRS:  GCS_unknown\n",
      "   CLASS_NAME CLASS_ID CLASS_CLRS                       geometry\n",
      "4 Eightmile50        6  255,0,255 POLYGON ((-149.2539 63.8767...\n"
     ]
    },
    {
     "name": "stderr",
     "output_type": "stream",
     "text": [
      "Saving 6.67 x 6.67 in image\n",
      "\n"
     ]
    },
    {
     "name": "stdout",
     "output_type": "stream",
     "text": [
      "Simple feature collection with 1 feature and 3 fields\n",
      "Geometry type: POLYGON\n",
      "Dimension:     XY\n",
      "Bounding box:  xmin: -149.2541 ymin: 63.87672 xmax: -149.254 ymax: 63.87673\n",
      "Geodetic CRS:  GCS_unknown\n",
      "   CLASS_NAME CLASS_ID CLASS_CLRS                       geometry\n",
      "5 Eightmile40        5  0,255,255 POLYGON ((-149.254 63.87673...\n"
     ]
    },
    {
     "name": "stderr",
     "output_type": "stream",
     "text": [
      "Saving 6.67 x 6.67 in image\n",
      "\n"
     ]
    },
    {
     "name": "stdout",
     "output_type": "stream",
     "text": [
      "Simple feature collection with 1 feature and 3 fields\n",
      "Geometry type: POLYGON\n",
      "Dimension:     XY\n",
      "Bounding box:  xmin: -149.2543 ymin: 63.87671 xmax: -149.2542 ymax: 63.87672\n",
      "Geodetic CRS:  GCS_unknown\n",
      "   CLASS_NAME CLASS_ID CLASS_CLRS                       geometry\n",
      "6 Eightmile30        4  255,255,0 POLYGON ((-149.2542 63.8767...\n"
     ]
    },
    {
     "name": "stderr",
     "output_type": "stream",
     "text": [
      "Saving 6.67 x 6.67 in image\n",
      "\n"
     ]
    },
    {
     "name": "stdout",
     "output_type": "stream",
     "text": [
      "Simple feature collection with 1 feature and 3 fields\n",
      "Geometry type: POLYGON\n",
      "Dimension:     XY\n",
      "Bounding box:  xmin: -149.2545 ymin: 63.87669 xmax: -149.2544 ymax: 63.8767\n",
      "Geodetic CRS:  GCS_unknown\n",
      "   CLASS_NAME CLASS_ID CLASS_CLRS                       geometry\n",
      "7 Eightmile20        3    0,0,255 POLYGON ((-149.2544 63.8767...\n"
     ]
    },
    {
     "name": "stderr",
     "output_type": "stream",
     "text": [
      "Saving 6.67 x 6.67 in image\n",
      "\n"
     ]
    },
    {
     "name": "stdout",
     "output_type": "stream",
     "text": [
      "Simple feature collection with 1 feature and 3 fields\n",
      "Geometry type: POLYGON\n",
      "Dimension:     XY\n",
      "Bounding box:  xmin: -149.2529 ymin: 63.87685 xmax: -149.2529 ymax: 63.87686\n",
      "Geodetic CRS:  GCS_unknown\n",
      "    CLASS_NAME CLASS_ID CLASS_CLRS                       geometry\n",
      "8 Eightmile100       11    0,255,0 POLYGON ((-149.2529 63.8768...\n"
     ]
    },
    {
     "name": "stderr",
     "output_type": "stream",
     "text": [
      "Saving 6.67 x 6.67 in image\n",
      "\n"
     ]
    },
    {
     "name": "stdout",
     "output_type": "stream",
     "text": [
      "Simple feature collection with 1 feature and 3 fields\n",
      "Geometry type: POLYGON\n",
      "Dimension:     XY\n",
      "Bounding box:  xmin: -149.2531 ymin: 63.87682 xmax: -149.2531 ymax: 63.87684\n",
      "Geodetic CRS:  GCS_unknown\n",
      "   CLASS_NAME CLASS_ID CLASS_CLRS                       geometry\n",
      "9 Eightmile90       10    128,0,0 POLYGON ((-149.2531 63.8768...\n"
     ]
    },
    {
     "name": "stderr",
     "output_type": "stream",
     "text": [
      "Saving 6.67 x 6.67 in image\n",
      "\n"
     ]
    },
    {
     "name": "stdout",
     "output_type": "stream",
     "text": [
      "Simple feature collection with 1 feature and 3 fields\n",
      "Geometry type: POLYGON\n",
      "Dimension:     XY\n",
      "Bounding box:  xmin: -149.2533 ymin: 63.8768 xmax: -149.2533 ymax: 63.87681\n",
      "Geodetic CRS:  GCS_unknown\n",
      "    CLASS_NAME CLASS_ID CLASS_CLRS                       geometry\n",
      "10 Eightmile80        9  255,255,0 POLYGON ((-149.2533 63.8768...\n"
     ]
    },
    {
     "name": "stderr",
     "output_type": "stream",
     "text": [
      "Saving 6.67 x 6.67 in image\n",
      "\n"
     ]
    },
    {
     "name": "stdout",
     "output_type": "stream",
     "text": [
      "Simple feature collection with 1 feature and 3 fields\n",
      "Geometry type: POLYGON\n",
      "Dimension:     XY\n",
      "Bounding box:  xmin: -149.2535 ymin: 63.87678 xmax: -149.2535 ymax: 63.87679\n",
      "Geodetic CRS:  GCS_unknown\n",
      "    CLASS_NAME CLASS_ID CLASS_CLRS                       geometry\n",
      "11 Eightmile70        8  0,128,128 POLYGON ((-149.2535 63.8767...\n"
     ]
    },
    {
     "name": "stderr",
     "output_type": "stream",
     "text": [
      "Saving 6.67 x 6.67 in image\n",
      "\n",
      "Saving 6.67 x 6.67 in image\n",
      "\n",
      "Saving 6.67 x 6.67 in image\n",
      "\n",
      "Saving 6.67 x 6.67 in image\n",
      "\n",
      "Saving 6.67 x 6.67 in image\n",
      "\n",
      "Saving 6.67 x 6.67 in image\n",
      "\n",
      "Saving 6.67 x 6.67 in image\n",
      "\n",
      "Saving 6.67 x 6.67 in image\n",
      "\n",
      "Saving 6.67 x 6.67 in image\n",
      "\n",
      "Saving 6.67 x 6.67 in image\n",
      "\n",
      "Saving 6.67 x 6.67 in image\n",
      "\n",
      "Saving 6.67 x 6.67 in image\n",
      "\n"
     ]
    },
    {
     "name": "stdout",
     "output_type": "stream",
     "text": [
      "[1] \"preprocessing raster at Data/Ground_Validation/Imagery/MurphDomeQuads0_10.envi\"\n",
      "[1] \"Converted to Data frame?\"\n",
      "[1] TRUE\n",
      "[1] \"Noisy columns removed\"\n",
      "[1] TRUE\n",
      "[1] \"Filtered\"\n",
      "[1] TRUE\n"
     ]
    },
    {
     "name": "stderr",
     "output_type": "stream",
     "text": [
      "Using spline to predict value at new bands...\n",
      "\n",
      "Beware the spectra are now partially smoothed.\n",
      "\n"
     ]
    },
    {
     "name": "stdout",
     "output_type": "stream",
     "text": [
      "[1] \"Imputing...\"\n",
      "[1] \"Handling Outliers with method: none\"\n",
      "[1] \"Transforming the data with transform: none\"\n",
      "          x       y z\n",
      "1 -148.3535 64.9538 3\n",
      "2 -148.3535 64.9538 3\n",
      "3 -148.3535 64.9538 3\n",
      "4 -148.3535 64.9538 3\n",
      "5 -148.3535 64.9538 3\n",
      "6 -148.3535 64.9538 3\n",
      "          x       y z\n",
      "1 -148.3535 64.9538 3\n",
      "2 -148.3535 64.9538 3\n",
      "3 -148.3535 64.9538 3\n",
      "4 -148.3535 64.9538 3\n",
      "5 -148.3535 64.9538 3\n",
      "6 -148.3535 64.9538 3\n",
      "[1] \"Attempting to save to ./validation_saved_output.grd\"\n",
      "[1] \"Converted to Raster\"\n",
      "Reading layer `MurphyQuads0_10m' from data source \n",
      "  `/home/krbundy/GitHub/lecospec/Data/Vectors/MurphyQuads0_10m.shp' \n",
      "  using driver `ESRI Shapefile'\n",
      "Simple feature collection with 2 features and 3 fields\n",
      "Geometry type: POLYGON\n",
      "Dimension:     XY\n",
      "Bounding box:  xmin: -148.3535 ymin: 64.95372 xmax: -148.3533 ymax: 64.9538\n",
      "Geodetic CRS:  WGS 84\n",
      "Simple feature collection with 1 feature and 3 fields\n",
      "Geometry type: POLYGON\n",
      "Dimension:     XY\n",
      "Bounding box:  xmin: -148.3535 ymin: 64.95379 xmax: -148.3535 ymax: 64.9538\n",
      "Geodetic CRS:  GCS_unknown\n",
      "    CLASS_NAME CLASS_ID CLASS_CLRS                       geometry\n",
      "1 Murphydome10        1    0,0,255 POLYGON ((-148.3535 64.9538...\n"
     ]
    },
    {
     "name": "stderr",
     "output_type": "stream",
     "text": [
      "Saving 6.67 x 6.67 in image\n",
      "\n"
     ]
    },
    {
     "name": "stdout",
     "output_type": "stream",
     "text": [
      "Simple feature collection with 1 feature and 3 fields\n",
      "Geometry type: POLYGON\n",
      "Dimension:     XY\n",
      "Bounding box:  xmin: -148.3534 ymin: 64.95372 xmax: -148.3533 ymax: 64.95373\n",
      "Geodetic CRS:  GCS_unknown\n",
      "   CLASS_NAME CLASS_ID CLASS_CLRS                       geometry\n",
      "2 Murphydome0        2    0,128,0 POLYGON ((-148.3534 64.9537...\n"
     ]
    },
    {
     "name": "stderr",
     "output_type": "stream",
     "text": [
      "Saving 6.67 x 6.67 in image\n",
      "\n",
      "Saving 6.67 x 6.67 in image\n",
      "\n",
      "Saving 6.67 x 6.67 in image\n",
      "\n"
     ]
    },
    {
     "name": "stdout",
     "output_type": "stream",
     "text": [
      "[1] \"preprocessing raster at Data/Ground_Validation/Imagery/MurphDomeQuads20_50.envi\"\n",
      "[1] \"Converted to Data frame?\"\n",
      "[1] TRUE\n",
      "[1] \"Noisy columns removed\"\n",
      "[1] TRUE\n",
      "[1] \"Filtered\"\n",
      "[1] TRUE\n"
     ]
    },
    {
     "name": "stderr",
     "output_type": "stream",
     "text": [
      "Using spline to predict value at new bands...\n",
      "\n",
      "Beware the spectra are now partially smoothed.\n",
      "\n"
     ]
    },
    {
     "name": "stdout",
     "output_type": "stream",
     "text": [
      "[1] \"Imputing...\"\n",
      "[1] \"Handling Outliers with method: none\"\n",
      "[1] \"Transforming the data with transform: none\"\n",
      "          x        y z\n",
      "1 -148.3540 64.95407 3\n",
      "2 -148.3541 64.95407 3\n",
      "3 -148.3540 64.95407 3\n",
      "4 -148.3540 64.95407 3\n",
      "5 -148.3541 64.95407 3\n",
      "6 -148.3541 64.95407 2\n",
      "          x        y z\n",
      "1 -148.3540 64.95407 3\n",
      "2 -148.3541 64.95407 3\n",
      "3 -148.3540 64.95407 3\n",
      "4 -148.3540 64.95407 3\n",
      "5 -148.3541 64.95407 3\n",
      "6 -148.3541 64.95407 2\n",
      "[1] \"Attempting to save to ./validation_saved_output.grd\"\n",
      "[1] \"Converted to Raster\"\n",
      "Reading layer `MurphyQuads20_50m' from data source \n",
      "  `/home/krbundy/GitHub/lecospec/Data/Vectors/MurphyQuads20_50m.shp' \n",
      "  using driver `ESRI Shapefile'\n",
      "Simple feature collection with 4 features and 3 fields\n",
      "Geometry type: POLYGON\n",
      "Dimension:     XY\n",
      "Bounding box:  xmin: -148.3541 ymin: 64.95384 xmax: -148.3536 ymax: 64.95407\n",
      "Geodetic CRS:  WGS 84\n",
      "Simple feature collection with 1 feature and 3 fields\n",
      "Geometry type: POLYGON\n",
      "Dimension:     XY\n",
      "Bounding box:  xmin: -148.3541 ymin: 64.95406 xmax: -148.354 ymax: 64.95407\n",
      "Geodetic CRS:  GCS_unknown\n",
      "    CLASS_NAME CLASS_ID CLASS_CLRS                       geometry\n",
      "1 Murphydome50        1  128,128,0 POLYGON ((-148.354 64.95407...\n"
     ]
    },
    {
     "name": "stderr",
     "output_type": "stream",
     "text": [
      "Saving 6.67 x 6.67 in image\n",
      "\n"
     ]
    },
    {
     "name": "stdout",
     "output_type": "stream",
     "text": [
      "Simple feature collection with 1 feature and 3 fields\n",
      "Geometry type: POLYGON\n",
      "Dimension:     XY\n",
      "Bounding box:  xmin: -148.3539 ymin: 64.95399 xmax: -148.3539 ymax: 64.954\n",
      "Geodetic CRS:  GCS_unknown\n",
      "    CLASS_NAME CLASS_ID CLASS_CLRS                       geometry\n",
      "2 Murphydome40        2  255,0,255 POLYGON ((-148.3539 64.954,...\n"
     ]
    },
    {
     "name": "stderr",
     "output_type": "stream",
     "text": [
      "Saving 6.67 x 6.67 in image\n",
      "\n"
     ]
    },
    {
     "name": "stdout",
     "output_type": "stream",
     "text": [
      "Simple feature collection with 1 feature and 3 fields\n",
      "Geometry type: POLYGON\n",
      "Dimension:     XY\n",
      "Bounding box:  xmin: -148.3538 ymin: 64.95392 xmax: -148.3537 ymax: 64.95393\n",
      "Geodetic CRS:  GCS_unknown\n",
      "    CLASS_NAME CLASS_ID CLASS_CLRS                       geometry\n",
      "3 Murphydome30        3  0,255,255 POLYGON ((-148.3538 64.9539...\n"
     ]
    },
    {
     "name": "stderr",
     "output_type": "stream",
     "text": [
      "Saving 6.67 x 6.67 in image\n",
      "\n"
     ]
    },
    {
     "name": "stdout",
     "output_type": "stream",
     "text": [
      "Simple feature collection with 1 feature and 3 fields\n",
      "Geometry type: POLYGON\n",
      "Dimension:     XY\n",
      "Bounding box:  xmin: -148.3537 ymin: 64.95384 xmax: -148.3536 ymax: 64.95386\n",
      "Geodetic CRS:  GCS_unknown\n",
      "    CLASS_NAME CLASS_ID CLASS_CLRS                       geometry\n",
      "4 Murphydome20        4  255,255,0 POLYGON ((-148.3536 64.9538...\n"
     ]
    },
    {
     "name": "stderr",
     "output_type": "stream",
     "text": [
      "Saving 6.67 x 6.67 in image\n",
      "\n",
      "Saving 6.67 x 6.67 in image\n",
      "\n",
      "Saving 6.67 x 6.67 in image\n",
      "\n",
      "Saving 6.67 x 6.67 in image\n",
      "\n",
      "Saving 6.67 x 6.67 in image\n",
      "\n"
     ]
    },
    {
     "name": "stdout",
     "output_type": "stream",
     "text": [
      "[1] \"preprocessing raster at Data/Ground_Validation/Imagery/MurphDomeQuads60_100.envi\"\n",
      "[1] \"Converted to Data frame?\"\n",
      "[1] TRUE\n",
      "[1] \"Noisy columns removed\"\n",
      "[1] TRUE\n",
      "[1] \"Filtered\"\n",
      "[1] TRUE\n"
     ]
    },
    {
     "name": "stderr",
     "output_type": "stream",
     "text": [
      "Using spline to predict value at new bands...\n",
      "\n",
      "Beware the spectra are now partially smoothed.\n",
      "\n"
     ]
    },
    {
     "name": "stdout",
     "output_type": "stream",
     "text": [
      "[1] \"Imputing...\"\n",
      "[1] \"Handling Outliers with method: none\"\n",
      "[1] \"Transforming the data with transform: none\"\n",
      "          x        y z\n",
      "1 -148.3548 64.95441 3\n",
      "2 -148.3548 64.95441 3\n",
      "3 -148.3548 64.95441 3\n",
      "4 -148.3548 64.95441 3\n",
      "5 -148.3548 64.95441 3\n",
      "6 -148.3548 64.95441 3\n",
      "          x        y z\n",
      "1 -148.3548 64.95441 3\n",
      "2 -148.3548 64.95441 3\n",
      "3 -148.3548 64.95441 3\n",
      "4 -148.3548 64.95441 3\n",
      "5 -148.3548 64.95441 3\n",
      "6 -148.3548 64.95441 3\n",
      "[1] \"Attempting to save to ./validation_saved_output.grd\"\n",
      "[1] \"Converted to Raster\"\n",
      "Reading layer `MurphyQuads60_100m' from data source \n",
      "  `/home/krbundy/GitHub/lecospec/Data/Vectors/MurphyQuads60_100m.shp' \n",
      "  using driver `ESRI Shapefile'\n",
      "Simple feature collection with 5 features and 3 fields\n",
      "Geometry type: POLYGON\n",
      "Dimension:     XY\n",
      "Bounding box:  xmin: -148.3548 ymin: 64.95413 xmax: -148.3542 ymax: 64.95441\n",
      "Geodetic CRS:  WGS 84\n",
      "Simple feature collection with 1 feature and 3 fields\n",
      "Geometry type: POLYGON\n",
      "Dimension:     XY\n",
      "Bounding box:  xmin: -148.3548 ymin: 64.9544 xmax: -148.3547 ymax: 64.95441\n",
      "Geodetic CRS:  GCS_unknown\n",
      "     CLASS_NAME CLASS_ID CLASS_CLRS                       geometry\n",
      "1 Murphydome100        1 255,127,80 POLYGON ((-148.3548 64.9544...\n"
     ]
    },
    {
     "name": "stderr",
     "output_type": "stream",
     "text": [
      "Saving 6.67 x 6.67 in image\n",
      "\n"
     ]
    },
    {
     "name": "stdout",
     "output_type": "stream",
     "text": [
      "Simple feature collection with 1 feature and 3 fields\n",
      "Geometry type: POLYGON\n",
      "Dimension:     XY\n",
      "Bounding box:  xmin: -148.3546 ymin: 64.95433 xmax: -148.3546 ymax: 64.95434\n",
      "Geodetic CRS:  GCS_unknown\n",
      "    CLASS_NAME CLASS_ID CLASS_CLRS                       geometry\n",
      "2 Murphydome90        2    0,0,128 POLYGON ((-148.3546 64.9543...\n"
     ]
    },
    {
     "name": "stderr",
     "output_type": "stream",
     "text": [
      "Saving 6.67 x 6.67 in image\n",
      "\n"
     ]
    },
    {
     "name": "stdout",
     "output_type": "stream",
     "text": [
      "Simple feature collection with 1 feature and 3 fields\n",
      "Geometry type: POLYGON\n",
      "Dimension:     XY\n",
      "Bounding box:  xmin: -148.3545 ymin: 64.95426 xmax: -148.3544 ymax: 64.95427\n",
      "Geodetic CRS:  GCS_unknown\n",
      "    CLASS_NAME CLASS_ID CLASS_CLRS                       geometry\n",
      "3 Murphydome80        3    0,255,0 POLYGON ((-148.3545 64.9542...\n"
     ]
    },
    {
     "name": "stderr",
     "output_type": "stream",
     "text": [
      "Saving 6.67 x 6.67 in image\n",
      "\n"
     ]
    },
    {
     "name": "stdout",
     "output_type": "stream",
     "text": [
      "Simple feature collection with 1 feature and 3 fields\n",
      "Geometry type: POLYGON\n",
      "Dimension:     XY\n",
      "Bounding box:  xmin: -148.3543 ymin: 64.95419 xmax: -148.3543 ymax: 64.9542\n",
      "Geodetic CRS:  GCS_unknown\n",
      "    CLASS_NAME CLASS_ID CLASS_CLRS                       geometry\n",
      "4 Murphydome70        4    128,0,0 POLYGON ((-148.3543 64.9542...\n"
     ]
    },
    {
     "name": "stderr",
     "output_type": "stream",
     "text": [
      "Saving 6.67 x 6.67 in image\n",
      "\n"
     ]
    },
    {
     "name": "stdout",
     "output_type": "stream",
     "text": [
      "Simple feature collection with 1 feature and 3 fields\n",
      "Geometry type: POLYGON\n",
      "Dimension:     XY\n",
      "Bounding box:  xmin: -148.3542 ymin: 64.95413 xmax: -148.3542 ymax: 64.95414\n",
      "Geodetic CRS:  GCS_unknown\n",
      "    CLASS_NAME CLASS_ID CLASS_CLRS                       geometry\n",
      "5 Murphydome60        5  0,128,128 POLYGON ((-148.3542 64.9541...\n"
     ]
    },
    {
     "name": "stderr",
     "output_type": "stream",
     "text": [
      "Saving 6.67 x 6.67 in image\n",
      "\n",
      "Saving 6.67 x 6.67 in image\n",
      "\n",
      "Saving 6.67 x 6.67 in image\n",
      "\n",
      "Saving 6.67 x 6.67 in image\n",
      "\n",
      "Saving 6.67 x 6.67 in image\n",
      "\n",
      "Saving 6.67 x 6.67 in image\n",
      "\n"
     ]
    },
    {
     "name": "stdout",
     "output_type": "stream",
     "text": [
      "[1] \"preprocessing raster at Data/Ground_Validation/Imagery/BonanzaQuads.envi\"\n",
      "[1] \"Converted to Data frame?\"\n",
      "[1] TRUE\n",
      "[1] \"Noisy columns removed\"\n",
      "[1] TRUE\n",
      "[1] \"Filtered\"\n",
      "[1] TRUE\n"
     ]
    },
    {
     "name": "stderr",
     "output_type": "stream",
     "text": [
      "Using spline to predict value at new bands...\n",
      "\n",
      "Beware the spectra are now partially smoothed.\n",
      "\n"
     ]
    },
    {
     "name": "stdout",
     "output_type": "stream",
     "text": [
      "[1] \"Imputing...\"\n",
      "[1] \"Handling Outliers with method: none\"\n",
      "[1] \"Transforming the data with transform: none\"\n",
      "          x        y z\n",
      "1 -148.2962 64.70435 3\n",
      "2 -148.2962 64.70435 3\n",
      "3 -148.2962 64.70435 3\n",
      "4 -148.2962 64.70435 3\n",
      "5 -148.2962 64.70435 3\n",
      "6 -148.2962 64.70435 3\n",
      "          x        y z\n",
      "1 -148.2962 64.70435 3\n",
      "2 -148.2962 64.70435 3\n",
      "3 -148.2962 64.70435 3\n",
      "4 -148.2962 64.70435 3\n",
      "5 -148.2962 64.70435 3\n",
      "6 -148.2962 64.70435 3\n",
      "[1] \"Attempting to save to ./validation_saved_output.grd\"\n",
      "[1] \"Converted to Raster\"\n",
      "Reading layer `Bonanza_N_Quads' from data source \n",
      "  `/home/krbundy/GitHub/lecospec/Data/Vectors/Bonanza_N_Quads.shp' \n",
      "  using driver `ESRI Shapefile'\n",
      "Simple feature collection with 11 features and 3 fields\n",
      "Geometry type: POLYGON\n",
      "Dimension:     XY\n",
      "Bounding box:  xmin: 438153.7 ymin: 7176051 xmax: 438205.6 ymax: 7176138\n",
      "Projected CRS: WGS 84 / UTM zone 6N\n",
      "Simple feature collection with 1 feature and 3 fields\n",
      "Geometry type: POLYGON\n",
      "Dimension:     XY\n",
      "Bounding box:  xmin: -148.2966 ymin: 64.70403 xmax: -148.2966 ymax: 64.70404\n",
      "Geodetic CRS:  GCS_unknown\n",
      "  CLASS_NAME CLASS_ID CLASS_CLRS                       geometry\n",
      "1  Bonanza60        7    128,0,0 POLYGON ((-148.2966 64.7040...\n"
     ]
    },
    {
     "name": "stderr",
     "output_type": "stream",
     "text": [
      "Saving 6.67 x 6.67 in image\n",
      "\n"
     ]
    },
    {
     "name": "stdout",
     "output_type": "stream",
     "text": [
      "Simple feature collection with 1 feature and 3 fields\n",
      "Geometry type: POLYGON\n",
      "Dimension:     XY\n",
      "Bounding box:  xmin: -148.2962 ymin: 64.70434 xmax: -148.2962 ymax: 64.70435\n",
      "Geodetic CRS:  GCS_unknown\n",
      "  CLASS_NAME CLASS_ID CLASS_CLRS                       geometry\n",
      "2 Bonanza100       11  127,255,0 POLYGON ((-148.2962 64.7043...\n"
     ]
    },
    {
     "name": "stderr",
     "output_type": "stream",
     "text": [
      "Saving 6.67 x 6.67 in image\n",
      "\n"
     ]
    },
    {
     "name": "stdout",
     "output_type": "stream",
     "text": [
      "Simple feature collection with 1 feature and 3 fields\n",
      "Geometry type: POLYGON\n",
      "Dimension:     XY\n",
      "Bounding box:  xmin: -148.2963 ymin: 64.70426 xmax: -148.2963 ymax: 64.70428\n",
      "Geodetic CRS:  GCS_unknown\n",
      "  CLASS_NAME CLASS_ID CLASS_CLRS                       geometry\n",
      "3  Bonanza90       10 255,127,80 POLYGON ((-148.2963 64.7042...\n"
     ]
    },
    {
     "name": "stderr",
     "output_type": "stream",
     "text": [
      "Saving 6.67 x 6.67 in image\n",
      "\n"
     ]
    },
    {
     "name": "stdout",
     "output_type": "stream",
     "text": [
      "Simple feature collection with 1 feature and 3 fields\n",
      "Geometry type: POLYGON\n",
      "Dimension:     XY\n",
      "Bounding box:  xmin: -148.2964 ymin: 64.70418 xmax: -148.2964 ymax: 64.7042\n",
      "Geodetic CRS:  GCS_unknown\n",
      "  CLASS_NAME CLASS_ID CLASS_CLRS                       geometry\n",
      "4  Bonanza80        9    0,0,128 POLYGON ((-148.2964 64.7042...\n"
     ]
    },
    {
     "name": "stderr",
     "output_type": "stream",
     "text": [
      "Saving 6.67 x 6.67 in image\n",
      "\n"
     ]
    },
    {
     "name": "stdout",
     "output_type": "stream",
     "text": [
      "Simple feature collection with 1 feature and 3 fields\n",
      "Geometry type: POLYGON\n",
      "Dimension:     XY\n",
      "Bounding box:  xmin: -148.2967 ymin: 64.70395 xmax: -148.2967 ymax: 64.70396\n",
      "Geodetic CRS:  GCS_unknown\n",
      "  CLASS_NAME CLASS_ID CLASS_CLRS                       geometry\n",
      "5  Bonanza50        6  255,0,255 POLYGON ((-148.2967 64.7039...\n"
     ]
    },
    {
     "name": "stderr",
     "output_type": "stream",
     "text": [
      "Saving 6.67 x 6.67 in image\n",
      "\n"
     ]
    },
    {
     "name": "stdout",
     "output_type": "stream",
     "text": [
      "Simple feature collection with 1 feature and 3 fields\n",
      "Geometry type: POLYGON\n",
      "Dimension:     XY\n",
      "Bounding box:  xmin: -148.2968 ymin: 64.70387 xmax: -148.2968 ymax: 64.70388\n",
      "Geodetic CRS:  GCS_unknown\n",
      "  CLASS_NAME CLASS_ID CLASS_CLRS                       geometry\n",
      "6  Bonanza40        5  0,255,255 POLYGON ((-148.2968 64.7038...\n"
     ]
    },
    {
     "name": "stderr",
     "output_type": "stream",
     "text": [
      "Saving 6.67 x 6.67 in image\n",
      "\n"
     ]
    },
    {
     "name": "stdout",
     "output_type": "stream",
     "text": [
      "Simple feature collection with 1 feature and 3 fields\n",
      "Geometry type: POLYGON\n",
      "Dimension:     XY\n",
      "Bounding box:  xmin: -148.2969 ymin: 64.70379 xmax: -148.2969 ymax: 64.7038\n",
      "Geodetic CRS:  GCS_unknown\n",
      "  CLASS_NAME CLASS_ID CLASS_CLRS                       geometry\n",
      "7  Bonanza30        4  255,255,0 POLYGON ((-148.2969 64.7038...\n"
     ]
    },
    {
     "name": "stderr",
     "output_type": "stream",
     "text": [
      "Saving 6.67 x 6.67 in image\n",
      "\n"
     ]
    },
    {
     "name": "stdout",
     "output_type": "stream",
     "text": [
      "Simple feature collection with 1 feature and 3 fields\n",
      "Geometry type: POLYGON\n",
      "Dimension:     XY\n",
      "Bounding box:  xmin: -148.297 ymin: 64.70371 xmax: -148.297 ymax: 64.70373\n",
      "Geodetic CRS:  GCS_unknown\n",
      "  CLASS_NAME CLASS_ID CLASS_CLRS                       geometry\n",
      "8  Bonanza20        3    0,0,255 POLYGON ((-148.297 64.70373...\n"
     ]
    },
    {
     "name": "stderr",
     "output_type": "stream",
     "text": [
      "Saving 6.67 x 6.67 in image\n",
      "\n"
     ]
    },
    {
     "name": "stdout",
     "output_type": "stream",
     "text": [
      "Simple feature collection with 1 feature and 3 fields\n",
      "Geometry type: POLYGON\n",
      "Dimension:     XY\n",
      "Bounding box:  xmin: -148.2971 ymin: 64.70364 xmax: -148.2971 ymax: 64.70365\n",
      "Geodetic CRS:  GCS_unknown\n",
      "  CLASS_NAME CLASS_ID CLASS_CLRS                       geometry\n",
      "9  Bonanza10        2    0,128,0 POLYGON ((-148.2971 64.7036...\n"
     ]
    },
    {
     "name": "stderr",
     "output_type": "stream",
     "text": [
      "Saving 6.67 x 6.67 in image\n",
      "\n"
     ]
    },
    {
     "name": "stdout",
     "output_type": "stream",
     "text": [
      "Simple feature collection with 1 feature and 3 fields\n",
      "Geometry type: POLYGON\n",
      "Dimension:     XY\n",
      "Bounding box:  xmin: -148.2972 ymin: 64.70356 xmax: -148.2972 ymax: 64.70357\n",
      "Geodetic CRS:  GCS_unknown\n",
      "   CLASS_NAME CLASS_ID CLASS_CLRS                       geometry\n",
      "10   Bonanza0        1    255,0,0 POLYGON ((-148.2972 64.7035...\n"
     ]
    },
    {
     "name": "stderr",
     "output_type": "stream",
     "text": [
      "Saving 6.67 x 6.67 in image\n",
      "\n"
     ]
    },
    {
     "name": "stdout",
     "output_type": "stream",
     "text": [
      "Simple feature collection with 1 feature and 3 fields\n",
      "Geometry type: POLYGON\n",
      "Dimension:     XY\n",
      "Bounding box:  xmin: -148.2965 ymin: 64.70411 xmax: -148.2965 ymax: 64.70412\n",
      "Geodetic CRS:  GCS_unknown\n",
      "   CLASS_NAME CLASS_ID CLASS_CLRS                       geometry\n",
      "11  Bonanza70        8    0,255,0 POLYGON ((-148.2965 64.7041...\n"
     ]
    },
    {
     "name": "stderr",
     "output_type": "stream",
     "text": [
      "Saving 6.67 x 6.67 in image\n",
      "\n",
      "Saving 6.67 x 6.67 in image\n",
      "\n",
      "Saving 6.67 x 6.67 in image\n",
      "\n",
      "Saving 6.67 x 6.67 in image\n",
      "\n",
      "Saving 6.67 x 6.67 in image\n",
      "\n",
      "Saving 6.67 x 6.67 in image\n",
      "\n",
      "Saving 6.67 x 6.67 in image\n",
      "\n",
      "Saving 6.67 x 6.67 in image\n",
      "\n",
      "Saving 6.67 x 6.67 in image\n",
      "\n",
      "Saving 6.67 x 6.67 in image\n",
      "\n",
      "Saving 6.67 x 6.67 in image\n",
      "\n",
      "Saving 6.67 x 6.67 in image\n",
      "\n",
      "Warning message in confusionMatrix.default(model_predictions, test_labels, mode = \"everything\"):\n",
      "“Levels are not in the same order for reference and data. Refactoring data to match.”\n"
     ]
    },
    {
     "name": "stdout",
     "output_type": "stream",
     "text": [
      "[1] \"preprocessing raster at Data/Ground_Validation/Imagery/BisonGulchQuads.envi\"\n",
      "[1] \"Converted to Data frame?\"\n",
      "[1] TRUE\n",
      "[1] \"Noisy columns removed\"\n",
      "[1] TRUE\n",
      "[1] \"Filtered\"\n",
      "[1] TRUE\n"
     ]
    },
    {
     "name": "stderr",
     "output_type": "stream",
     "text": [
      "Using spline to predict value at new bands...\n",
      "\n",
      "Beware the spectra are now partially smoothed.\n",
      "\n"
     ]
    },
    {
     "name": "stdout",
     "output_type": "stream",
     "text": [
      "[1] \"Imputing...\"\n",
      "[1] \"Handling Outliers with method: none\"\n",
      "[1] \"Transforming the data with transform: none\"\n",
      "          x        y z\n",
      "1 -148.9508 63.80701 3\n",
      "2 -148.9508 63.80701 3\n",
      "3 -148.9508 63.80701 3\n",
      "4 -148.9508 63.80701 3\n",
      "5 -148.9508 63.80701 5\n",
      "6 -148.9508 63.80701 5\n",
      "          x        y z\n",
      "1 -148.9508 63.80701 3\n",
      "2 -148.9508 63.80701 3\n",
      "3 -148.9508 63.80701 3\n",
      "4 -148.9508 63.80701 3\n",
      "5 -148.9508 63.80701 5\n",
      "6 -148.9508 63.80701 5\n",
      "[1] \"Attempting to save to ./validation_saved_output.grd\"\n",
      "[1] \"Converted to Raster\"\n",
      "Reading layer `Bisoon_Quadrats_georeferenced' from data source \n",
      "  `/home/krbundy/GitHub/lecospec/Data/Vectors/Bisoon_Quadrats_georeferenced.shp' \n",
      "  using driver `ESRI Shapefile'\n",
      "Simple feature collection with 9 features and 3 fields\n",
      "Geometry type: POLYGON\n",
      "Dimension:     XY\n",
      "Bounding box:  xmin: -148.9524 ymin: 63.80698 xmax: -148.9508 ymax: 63.80701\n",
      "Geodetic CRS:  WGS 84\n",
      "Simple feature collection with 1 feature and 3 fields\n",
      "Geometry type: POLYGON\n",
      "Dimension:     XY\n",
      "Bounding box:  xmin: -148.9508 ymin: 63.807 xmax: -148.9508 ymax: 63.80701\n",
      "Geodetic CRS:  GCS_unknown\n",
      "  CLASS_ID  CLASS_NAME AREA                       geometry\n",
      "1        1 Bisongulch0  612 POLYGON ((-148.9508 63.807,...\n"
     ]
    },
    {
     "name": "stderr",
     "output_type": "stream",
     "text": [
      "Saving 6.67 x 6.67 in image\n",
      "\n"
     ]
    },
    {
     "name": "stdout",
     "output_type": "stream",
     "text": [
      "Simple feature collection with 1 feature and 3 fields\n",
      "Geometry type: POLYGON\n",
      "Dimension:     XY\n",
      "Bounding box:  xmin: -148.952 ymin: 63.80699 xmax: -148.952 ymax: 63.807\n",
      "Geodetic CRS:  GCS_unknown\n",
      "  CLASS_ID   CLASS_NAME AREA                       geometry\n",
      "2        7 Bisongulch70  649 POLYGON ((-148.952 63.80699...\n"
     ]
    },
    {
     "name": "stderr",
     "output_type": "stream",
     "text": [
      "Saving 6.67 x 6.67 in image\n",
      "\n"
     ]
    },
    {
     "name": "stdout",
     "output_type": "stream",
     "text": [
      "Simple feature collection with 1 feature and 3 fields\n",
      "Geometry type: POLYGON\n",
      "Dimension:     XY\n",
      "Bounding box:  xmin: -148.9522 ymin: 63.80699 xmax: -148.9522 ymax: 63.807\n",
      "Geodetic CRS:  GCS_unknown\n",
      "  CLASS_ID   CLASS_NAME AREA                       geometry\n",
      "3        8 Bisongulch80  661 POLYGON ((-148.9522 63.8069...\n"
     ]
    },
    {
     "name": "stderr",
     "output_type": "stream",
     "text": [
      "Saving 6.67 x 6.67 in image\n",
      "\n"
     ]
    },
    {
     "name": "stdout",
     "output_type": "stream",
     "text": [
      "Simple feature collection with 1 feature and 3 fields\n",
      "Geometry type: POLYGON\n",
      "Dimension:     XY\n",
      "Bounding box:  xmin: -148.951 ymin: 63.80699 xmax: -148.9509 ymax: 63.807\n",
      "Geodetic CRS:  GCS_unknown\n",
      "  CLASS_ID   CLASS_NAME AREA                       geometry\n",
      "4        2 Bisongulch10  649 POLYGON ((-148.9509 63.8069...\n"
     ]
    },
    {
     "name": "stderr",
     "output_type": "stream",
     "text": [
      "Saving 6.67 x 6.67 in image\n",
      "\n"
     ]
    },
    {
     "name": "stdout",
     "output_type": "stream",
     "text": [
      "Simple feature collection with 1 feature and 3 fields\n",
      "Geometry type: POLYGON\n",
      "Dimension:     XY\n",
      "Bounding box:  xmin: -148.9524 ymin: 63.80699 xmax: -148.9524 ymax: 63.807\n",
      "Geodetic CRS:  GCS_unknown\n",
      "  CLASS_ID   CLASS_NAME AREA                       geometry\n",
      "5        9 Bisongulch90  648 POLYGON ((-148.9524 63.8069...\n"
     ]
    },
    {
     "name": "stderr",
     "output_type": "stream",
     "text": [
      "Saving 6.67 x 6.67 in image\n",
      "\n"
     ]
    },
    {
     "name": "stdout",
     "output_type": "stream",
     "text": [
      "Simple feature collection with 1 feature and 3 fields\n",
      "Geometry type: POLYGON\n",
      "Dimension:     XY\n",
      "Bounding box:  xmin: -148.9512 ymin: 63.80699 xmax: -148.9512 ymax: 63.807\n",
      "Geodetic CRS:  GCS_unknown\n",
      "  CLASS_ID   CLASS_NAME AREA                       geometry\n",
      "6        3 Bisongulch20  574 POLYGON ((-148.9512 63.8069...\n"
     ]
    },
    {
     "name": "stderr",
     "output_type": "stream",
     "text": [
      "Saving 6.67 x 6.67 in image\n",
      "\n"
     ]
    },
    {
     "name": "stdout",
     "output_type": "stream",
     "text": [
      "Simple feature collection with 1 feature and 3 fields\n",
      "Geometry type: POLYGON\n",
      "Dimension:     XY\n",
      "Bounding box:  xmin: -148.9518 ymin: 63.80699 xmax: -148.9518 ymax: 63.807\n",
      "Geodetic CRS:  GCS_unknown\n",
      "  CLASS_ID   CLASS_NAME AREA                       geometry\n",
      "7        6 Bisongulch50  673 POLYGON ((-148.9518 63.8069...\n"
     ]
    },
    {
     "name": "stderr",
     "output_type": "stream",
     "text": [
      "Saving 6.67 x 6.67 in image\n",
      "\n"
     ]
    },
    {
     "name": "stdout",
     "output_type": "stream",
     "text": [
      "Simple feature collection with 1 feature and 3 fields\n",
      "Geometry type: POLYGON\n",
      "Dimension:     XY\n",
      "Bounding box:  xmin: -148.9514 ymin: 63.80699 xmax: -148.9514 ymax: 63.807\n",
      "Geodetic CRS:  GCS_unknown\n",
      "  CLASS_ID   CLASS_NAME AREA                       geometry\n",
      "8        4 Bisongulch30  673 POLYGON ((-148.9514 63.8069...\n"
     ]
    },
    {
     "name": "stderr",
     "output_type": "stream",
     "text": [
      "Saving 6.67 x 6.67 in image\n",
      "\n"
     ]
    },
    {
     "name": "stdout",
     "output_type": "stream",
     "text": [
      "Simple feature collection with 1 feature and 3 fields\n",
      "Geometry type: POLYGON\n",
      "Dimension:     XY\n",
      "Bounding box:  xmin: -148.9516 ymin: 63.80698 xmax: -148.9516 ymax: 63.80699\n",
      "Geodetic CRS:  GCS_unknown\n",
      "  CLASS_ID   CLASS_NAME AREA                       geometry\n",
      "9        5 Bisongulch40  674 POLYGON ((-148.9516 63.8069...\n"
     ]
    },
    {
     "name": "stderr",
     "output_type": "stream",
     "text": [
      "Saving 6.67 x 6.67 in image\n",
      "\n",
      "Saving 6.67 x 6.67 in image\n",
      "\n",
      "Saving 6.67 x 6.67 in image\n",
      "\n",
      "Saving 6.67 x 6.67 in image\n",
      "\n",
      "Saving 6.67 x 6.67 in image\n",
      "\n",
      "Saving 6.67 x 6.67 in image\n",
      "\n",
      "Saving 6.67 x 6.67 in image\n",
      "\n",
      "Saving 6.67 x 6.67 in image\n",
      "\n",
      "Saving 6.67 x 6.67 in image\n",
      "\n",
      "Saving 6.67 x 6.67 in image\n",
      "\n"
     ]
    },
    {
     "name": "stdout",
     "output_type": "stream",
     "text": [
      "[1] \"preprocessing raster at Data/Ground_Validation/Imagery/ChatanikaQuads.envi\"\n",
      "[1] \"Converted to Data frame?\"\n",
      "[1] TRUE\n",
      "[1] \"Noisy columns removed\"\n",
      "[1] TRUE\n",
      "[1] \"Filtered\"\n",
      "[1] TRUE\n"
     ]
    },
    {
     "name": "stderr",
     "output_type": "stream",
     "text": [
      "Using spline to predict value at new bands...\n",
      "\n",
      "Beware the spectra are now partially smoothed.\n",
      "\n"
     ]
    },
    {
     "name": "stdout",
     "output_type": "stream",
     "text": [
      "[1] \"Imputing...\"\n",
      "[1] \"Handling Outliers with method: none\"\n",
      "[1] \"Transforming the data with transform: none\"\n",
      "          x        y z\n",
      "1 -147.4827 65.15287 3\n",
      "2 -147.4827 65.15287 2\n",
      "3 -147.4827 65.15287 3\n",
      "4 -147.4827 65.15287 2\n",
      "5 -147.4827 65.15287 2\n",
      "6 -147.4827 65.15287 2\n",
      "          x        y z\n",
      "1 -147.4827 65.15287 3\n",
      "2 -147.4827 65.15287 2\n",
      "3 -147.4827 65.15287 3\n",
      "4 -147.4827 65.15287 2\n",
      "5 -147.4827 65.15287 2\n",
      "6 -147.4827 65.15287 2\n",
      "[1] \"Attempting to save to ./validation_saved_output.grd\"\n",
      "[1] \"Converted to Raster\"\n",
      "Reading layer `ChatanikaQuads_georeferenced' from data source \n",
      "  `/home/krbundy/GitHub/lecospec/Data/Vectors/ChatanikaQuads_georeferenced.shp' \n",
      "  using driver `ESRI Shapefile'\n",
      "Simple feature collection with 11 features and 3 fields\n",
      "Geometry type: POLYGON\n",
      "Dimension:     XY\n",
      "Bounding box:  xmin: -147.4827 ymin: 65.15281 xmax: -147.4806 ymax: 65.15287\n",
      "Geodetic CRS:  WGS 84\n",
      "Simple feature collection with 1 feature and 3 fields\n",
      "Geometry type: POLYGON\n",
      "Dimension:     XY\n",
      "Bounding box:  xmin: -147.4827 ymin: 65.15286 xmax: -147.4827 ymax: 65.15287\n",
      "Geodetic CRS:  GCS_unknown\n",
      "    CLASS_NAME CLASS_ID CLASS_CLRS                       geometry\n",
      "1 Chatanika100       11    0,0,128 POLYGON ((-147.4827 65.1528...\n"
     ]
    },
    {
     "name": "stderr",
     "output_type": "stream",
     "text": [
      "Saving 6.67 x 6.67 in image\n",
      "\n"
     ]
    },
    {
     "name": "stdout",
     "output_type": "stream",
     "text": [
      "Simple feature collection with 1 feature and 3 fields\n",
      "Geometry type: POLYGON\n",
      "Dimension:     XY\n",
      "Bounding box:  xmin: -147.4825 ymin: 65.15285 xmax: -147.4825 ymax: 65.15286\n",
      "Geodetic CRS:  GCS_unknown\n",
      "   CLASS_NAME CLASS_ID CLASS_CLRS                       geometry\n",
      "2 Chatanika90       10    0,255,0 POLYGON ((-147.4825 65.1528...\n"
     ]
    },
    {
     "name": "stderr",
     "output_type": "stream",
     "text": [
      "Saving 6.67 x 6.67 in image\n",
      "\n"
     ]
    },
    {
     "name": "stdout",
     "output_type": "stream",
     "text": [
      "Simple feature collection with 1 feature and 3 fields\n",
      "Geometry type: POLYGON\n",
      "Dimension:     XY\n",
      "Bounding box:  xmin: -147.4821 ymin: 65.15285 xmax: -147.4821 ymax: 65.15286\n",
      "Geodetic CRS:  GCS_unknown\n",
      "   CLASS_NAME CLASS_ID CLASS_CLRS                       geometry\n",
      "3 Chatanika70        8  0,128,128 POLYGON ((-147.4821 65.1528...\n"
     ]
    },
    {
     "name": "stderr",
     "output_type": "stream",
     "text": [
      "Saving 6.67 x 6.67 in image\n",
      "\n"
     ]
    },
    {
     "name": "stdout",
     "output_type": "stream",
     "text": [
      "Simple feature collection with 1 feature and 3 fields\n",
      "Geometry type: POLYGON\n",
      "Dimension:     XY\n",
      "Bounding box:  xmin: -147.4823 ymin: 65.15285 xmax: -147.4823 ymax: 65.15286\n",
      "Geodetic CRS:  GCS_unknown\n",
      "   CLASS_NAME CLASS_ID CLASS_CLRS                       geometry\n",
      "4 Chatanika80        9    128,0,0 POLYGON ((-147.4823 65.1528...\n"
     ]
    },
    {
     "name": "stderr",
     "output_type": "stream",
     "text": [
      "Saving 6.67 x 6.67 in image\n",
      "\n"
     ]
    },
    {
     "name": "stdout",
     "output_type": "stream",
     "text": [
      "Simple feature collection with 1 feature and 3 fields\n",
      "Geometry type: POLYGON\n",
      "Dimension:     XY\n",
      "Bounding box:  xmin: -147.4819 ymin: 65.15285 xmax: -147.4819 ymax: 65.15286\n",
      "Geodetic CRS:  GCS_unknown\n",
      "   CLASS_NAME CLASS_ID CLASS_CLRS                       geometry\n",
      "5 Chatanika60        7  128,128,0 POLYGON ((-147.4819 65.1528...\n"
     ]
    },
    {
     "name": "stderr",
     "output_type": "stream",
     "text": [
      "Saving 6.67 x 6.67 in image\n",
      "\n"
     ]
    },
    {
     "name": "stdout",
     "output_type": "stream",
     "text": [
      "Simple feature collection with 1 feature and 3 fields\n",
      "Geometry type: POLYGON\n",
      "Dimension:     XY\n",
      "Bounding box:  xmin: -147.4817 ymin: 65.15284 xmax: -147.4816 ymax: 65.15285\n",
      "Geodetic CRS:  GCS_unknown\n",
      "   CLASS_NAME CLASS_ID CLASS_CLRS                       geometry\n",
      "6 Chatanika50        6  255,0,255 POLYGON ((-147.4816 65.1528...\n"
     ]
    },
    {
     "name": "stderr",
     "output_type": "stream",
     "text": [
      "Saving 6.67 x 6.67 in image\n",
      "\n"
     ]
    },
    {
     "name": "stdout",
     "output_type": "stream",
     "text": [
      "Simple feature collection with 1 feature and 3 fields\n",
      "Geometry type: POLYGON\n",
      "Dimension:     XY\n",
      "Bounding box:  xmin: -147.4815 ymin: 65.15283 xmax: -147.4814 ymax: 65.15284\n",
      "Geodetic CRS:  GCS_unknown\n",
      "   CLASS_NAME CLASS_ID CLASS_CLRS                       geometry\n",
      "7 Chatanika40        5  0,255,255 POLYGON ((-147.4814 65.1528...\n"
     ]
    },
    {
     "name": "stderr",
     "output_type": "stream",
     "text": [
      "Saving 6.67 x 6.67 in image\n",
      "\n"
     ]
    },
    {
     "name": "stdout",
     "output_type": "stream",
     "text": [
      "Simple feature collection with 1 feature and 3 fields\n",
      "Geometry type: POLYGON\n",
      "Dimension:     XY\n",
      "Bounding box:  xmin: -147.4812 ymin: 65.15282 xmax: -147.4812 ymax: 65.15283\n",
      "Geodetic CRS:  GCS_unknown\n",
      "   CLASS_NAME CLASS_ID CLASS_CLRS                       geometry\n",
      "8 Chatanika30        4  255,255,0 POLYGON ((-147.4812 65.1528...\n"
     ]
    },
    {
     "name": "stderr",
     "output_type": "stream",
     "text": [
      "Saving 6.67 x 6.67 in image\n",
      "\n"
     ]
    },
    {
     "name": "stdout",
     "output_type": "stream",
     "text": [
      "Simple feature collection with 1 feature and 3 fields\n",
      "Geometry type: POLYGON\n",
      "Dimension:     XY\n",
      "Bounding box:  xmin: -147.481 ymin: 65.15281 xmax: -147.481 ymax: 65.15282\n",
      "Geodetic CRS:  GCS_unknown\n",
      "   CLASS_NAME CLASS_ID CLASS_CLRS                       geometry\n",
      "9 Chatanika20        3    0,0,255 POLYGON ((-147.481 65.15282...\n"
     ]
    },
    {
     "name": "stderr",
     "output_type": "stream",
     "text": [
      "Saving 6.67 x 6.67 in image\n",
      "\n"
     ]
    },
    {
     "name": "stdout",
     "output_type": "stream",
     "text": [
      "Simple feature collection with 1 feature and 3 fields\n",
      "Geometry type: POLYGON\n",
      "Dimension:     XY\n",
      "Bounding box:  xmin: -147.4808 ymin: 65.15281 xmax: -147.4808 ymax: 65.15282\n",
      "Geodetic CRS:  GCS_unknown\n",
      "    CLASS_NAME CLASS_ID CLASS_CLRS                       geometry\n",
      "10 Chatanika10        2    0,128,0 POLYGON ((-147.4808 65.1528...\n"
     ]
    },
    {
     "name": "stderr",
     "output_type": "stream",
     "text": [
      "Saving 6.67 x 6.67 in image\n",
      "\n"
     ]
    },
    {
     "name": "stdout",
     "output_type": "stream",
     "text": [
      "Simple feature collection with 1 feature and 3 fields\n",
      "Geometry type: POLYGON\n",
      "Dimension:     XY\n",
      "Bounding box:  xmin: -147.4806 ymin: 65.15281 xmax: -147.4806 ymax: 65.15281\n",
      "Geodetic CRS:  GCS_unknown\n",
      "   CLASS_NAME CLASS_ID CLASS_CLRS                       geometry\n",
      "11 Chatanika0        1    255,0,0 POLYGON ((-147.4806 65.1528...\n"
     ]
    },
    {
     "name": "stderr",
     "output_type": "stream",
     "text": [
      "Saving 6.67 x 6.67 in image\n",
      "\n",
      "Saving 6.67 x 6.67 in image\n",
      "\n",
      "Saving 6.67 x 6.67 in image\n",
      "\n",
      "Saving 6.67 x 6.67 in image\n",
      "\n",
      "Saving 6.67 x 6.67 in image\n",
      "\n",
      "Saving 6.67 x 6.67 in image\n",
      "\n",
      "Saving 6.67 x 6.67 in image\n",
      "\n",
      "Saving 6.67 x 6.67 in image\n",
      "\n",
      "Saving 6.67 x 6.67 in image\n",
      "\n",
      "Saving 6.67 x 6.67 in image\n",
      "\n",
      "Saving 6.67 x 6.67 in image\n",
      "\n",
      "Saving 6.67 x 6.67 in image\n",
      "\n"
     ]
    },
    {
     "name": "stdout",
     "output_type": "stream",
     "text": [
      "[1] \"preprocessing raster at Data/Ground_Validation/Imagery/TwelveMileGulchQuads1.envi\"\n",
      "[1] \"Converted to Data frame?\"\n",
      "[1] TRUE\n",
      "[1] \"Noisy columns removed\"\n",
      "[1] TRUE\n",
      "[1] \"Filtered\"\n",
      "[1] TRUE\n"
     ]
    },
    {
     "name": "stderr",
     "output_type": "stream",
     "text": [
      "Using spline to predict value at new bands...\n",
      "\n",
      "Beware the spectra are now partially smoothed.\n",
      "\n"
     ]
    },
    {
     "name": "stdout",
     "output_type": "stream",
     "text": [
      "[1] \"Imputing...\"\n",
      "[1] \"Handling Outliers with method: none\"\n",
      "[1] \"Transforming the data with transform: none\"\n",
      "         x        y z\n",
      "1 -145.979 65.40191 3\n",
      "2 -145.979 65.40191 3\n",
      "3 -145.979 65.40191 3\n",
      "4 -145.979 65.40191 3\n",
      "5 -145.979 65.40191 3\n",
      "6 -145.979 65.40191 3\n",
      "         x        y z\n",
      "1 -145.979 65.40191 3\n",
      "2 -145.979 65.40191 3\n",
      "3 -145.979 65.40191 3\n",
      "4 -145.979 65.40191 3\n",
      "5 -145.979 65.40191 3\n",
      "6 -145.979 65.40191 3\n",
      "[1] \"Attempting to save to ./validation_saved_output.grd\"\n",
      "[1] \"Converted to Raster\"\n",
      "Reading layer `TwelveMileQ0_10_20_30_40m' from data source \n",
      "  `/home/krbundy/GitHub/lecospec/Data/Vectors/TwelveMileQ0_10_20_30_40m.shp' \n",
      "  using driver `ESRI Shapefile'\n",
      "Simple feature collection with 5 features and 3 fields\n",
      "Geometry type: POLYGON\n",
      "Dimension:     XY\n",
      "Bounding box:  xmin: -145.979 ymin: 65.4018 xmax: -145.9782 ymax: 65.40191\n",
      "Geodetic CRS:  WGS 84\n",
      "Simple feature collection with 1 feature and 3 fields\n",
      "Geometry type: POLYGON\n",
      "Dimension:     XY\n",
      "Bounding box:  xmin: -145.979 ymin: 65.4019 xmax: -145.979 ymax: 65.40191\n",
      "Geodetic CRS:  GCS_unknown\n",
      "  CLASS_ID   CLASS_NAME AREA                       geometry\n",
      "1        4 Twelvemile40  288 POLYGON ((-145.979 65.4019,...\n"
     ]
    },
    {
     "name": "stderr",
     "output_type": "stream",
     "text": [
      "Saving 6.67 x 6.67 in image\n",
      "\n"
     ]
    },
    {
     "name": "stdout",
     "output_type": "stream",
     "text": [
      "Simple feature collection with 1 feature and 3 fields\n",
      "Geometry type: POLYGON\n",
      "Dimension:     XY\n",
      "Bounding box:  xmin: -145.9788 ymin: 65.40187 xmax: -145.9788 ymax: 65.40188\n",
      "Geodetic CRS:  GCS_unknown\n",
      "  CLASS_ID   CLASS_NAME AREA                       geometry\n",
      "2        1 Twelvemile30  281 POLYGON ((-145.9788 65.4018...\n"
     ]
    },
    {
     "name": "stderr",
     "output_type": "stream",
     "text": [
      "Saving 6.67 x 6.67 in image\n",
      "\n"
     ]
    },
    {
     "name": "stdout",
     "output_type": "stream",
     "text": [
      "Simple feature collection with 1 feature and 3 fields\n",
      "Geometry type: POLYGON\n",
      "Dimension:     XY\n",
      "Bounding box:  xmin: -145.9786 ymin: 65.40185 xmax: -145.9786 ymax: 65.40186\n",
      "Geodetic CRS:  GCS_unknown\n",
      "  CLASS_ID   CLASS_NAME AREA                       geometry\n",
      "3        2 Twelvemile20  328 POLYGON ((-145.9786 65.4018...\n"
     ]
    },
    {
     "name": "stderr",
     "output_type": "stream",
     "text": [
      "Saving 6.67 x 6.67 in image\n",
      "\n"
     ]
    },
    {
     "name": "stdout",
     "output_type": "stream",
     "text": [
      "Simple feature collection with 1 feature and 3 fields\n",
      "Geometry type: POLYGON\n",
      "Dimension:     XY\n",
      "Bounding box:  xmin: -145.9784 ymin: 65.40183 xmax: -145.9784 ymax: 65.40184\n",
      "Geodetic CRS:  GCS_unknown\n",
      "  CLASS_ID   CLASS_NAME AREA                       geometry\n",
      "4        3 Twelvemile10  308 POLYGON ((-145.9784 65.4018...\n"
     ]
    },
    {
     "name": "stderr",
     "output_type": "stream",
     "text": [
      "Saving 6.67 x 6.67 in image\n",
      "\n"
     ]
    },
    {
     "name": "stdout",
     "output_type": "stream",
     "text": [
      "Simple feature collection with 1 feature and 3 fields\n",
      "Geometry type: POLYGON\n",
      "Dimension:     XY\n",
      "Bounding box:  xmin: -145.9782 ymin: 65.4018 xmax: -145.9782 ymax: 65.40181\n",
      "Geodetic CRS:  GCS_unknown\n",
      "  CLASS_ID  CLASS_NAME AREA                       geometry\n",
      "5        5 Twelvemile0  336 POLYGON ((-145.9782 65.4018...\n"
     ]
    },
    {
     "name": "stderr",
     "output_type": "stream",
     "text": [
      "Saving 6.67 x 6.67 in image\n",
      "\n",
      "Saving 6.67 x 6.67 in image\n",
      "\n",
      "Saving 6.67 x 6.67 in image\n",
      "\n",
      "Saving 6.67 x 6.67 in image\n",
      "\n",
      "Saving 6.67 x 6.67 in image\n",
      "\n",
      "Saving 6.67 x 6.67 in image\n",
      "\n"
     ]
    },
    {
     "name": "stdout",
     "output_type": "stream",
     "text": [
      "[1] \"preprocessing raster at Data/Ground_Validation/Imagery/TwelveMileGulchQuads2.envi\"\n",
      "[1] \"Converted to Data frame?\"\n",
      "[1] TRUE\n",
      "[1] \"Noisy columns removed\"\n",
      "[1] TRUE\n",
      "[1] \"Filtered\"\n",
      "[1] TRUE\n"
     ]
    },
    {
     "name": "stderr",
     "output_type": "stream",
     "text": [
      "Using spline to predict value at new bands...\n",
      "\n",
      "Beware the spectra are now partially smoothed.\n",
      "\n"
     ]
    },
    {
     "name": "stdout",
     "output_type": "stream",
     "text": [
      "[1] \"Imputing...\"\n",
      "[1] \"Handling Outliers with method: none\"\n",
      "[1] \"Transforming the data with transform: none\"\n",
      "          x        y z\n",
      "1 -145.9802 65.40203 3\n",
      "2 -145.9802 65.40203 3\n",
      "3 -145.9802 65.40203 3\n",
      "4 -145.9802 65.40203 3\n",
      "5 -145.9802 65.40203 3\n",
      "6 -145.9802 65.40203 3\n",
      "          x        y z\n",
      "1 -145.9802 65.40203 3\n",
      "2 -145.9802 65.40203 3\n",
      "3 -145.9802 65.40203 3\n",
      "4 -145.9802 65.40203 3\n",
      "5 -145.9802 65.40203 3\n",
      "6 -145.9802 65.40203 3\n",
      "[1] \"Attempting to save to ./validation_saved_output.grd\"\n",
      "[1] \"Converted to Raster\"\n",
      "Reading layer `TwelveMileQ70_80_90_100m' from data source \n",
      "  `/home/krbundy/GitHub/lecospec/Data/Vectors/TwelveMileQ70_80_90_100m.shp' \n",
      "  using driver `ESRI Shapefile'\n",
      "Simple feature collection with 4 features and 3 fields\n",
      "Geometry type: POLYGON\n",
      "Dimension:     XY\n",
      "Bounding box:  xmin: -145.9802 ymin: 65.40196 xmax: -145.9796 ymax: 65.40203\n",
      "Geodetic CRS:  WGS 84\n",
      "Simple feature collection with 1 feature and 3 fields\n",
      "Geometry type: POLYGON\n",
      "Dimension:     XY\n",
      "Bounding box:  xmin: -145.9802 ymin: 65.40202 xmax: -145.9802 ymax: 65.40203\n",
      "Geodetic CRS:  GCS_unknown\n",
      "  CLASS_ID    CLASS_NAME AREA                       geometry\n",
      "1        4 Twelvemile100  492 POLYGON ((-145.9802 65.4020...\n"
     ]
    },
    {
     "name": "stderr",
     "output_type": "stream",
     "text": [
      "Saving 6.67 x 6.67 in image\n",
      "\n"
     ]
    },
    {
     "name": "stdout",
     "output_type": "stream",
     "text": [
      "Simple feature collection with 1 feature and 3 fields\n",
      "Geometry type: POLYGON\n",
      "Dimension:     XY\n",
      "Bounding box:  xmin: -145.98 ymin: 65.402 xmax: -145.98 ymax: 65.40201\n",
      "Geodetic CRS:  GCS_unknown\n",
      "  CLASS_ID   CLASS_NAME AREA                       geometry\n",
      "2        3 Twelvemile90  473 POLYGON ((-145.98 65.402, -...\n"
     ]
    },
    {
     "name": "stderr",
     "output_type": "stream",
     "text": [
      "Saving 6.67 x 6.67 in image\n",
      "\n"
     ]
    },
    {
     "name": "stdout",
     "output_type": "stream",
     "text": [
      "Simple feature collection with 1 feature and 3 fields\n",
      "Geometry type: POLYGON\n",
      "Dimension:     XY\n",
      "Bounding box:  xmin: -145.9798 ymin: 65.40198 xmax: -145.9798 ymax: 65.40199\n",
      "Geodetic CRS:  GCS_unknown\n",
      "  CLASS_ID   CLASS_NAME AREA                       geometry\n",
      "3        2 Twelvemile80  631 POLYGON ((-145.9798 65.4019...\n"
     ]
    },
    {
     "name": "stderr",
     "output_type": "stream",
     "text": [
      "Saving 6.67 x 6.67 in image\n",
      "\n"
     ]
    },
    {
     "name": "stdout",
     "output_type": "stream",
     "text": [
      "Simple feature collection with 1 feature and 3 fields\n",
      "Geometry type: POLYGON\n",
      "Dimension:     XY\n",
      "Bounding box:  xmin: -145.9796 ymin: 65.40196 xmax: -145.9796 ymax: 65.40197\n",
      "Geodetic CRS:  GCS_unknown\n",
      "  CLASS_ID   CLASS_NAME AREA                       geometry\n",
      "4        1 Twelvemile70  518 POLYGON ((-145.9796 65.4019...\n"
     ]
    },
    {
     "name": "stderr",
     "output_type": "stream",
     "text": [
      "Saving 6.67 x 6.67 in image\n",
      "\n",
      "Saving 6.67 x 6.67 in image\n",
      "\n",
      "Saving 6.67 x 6.67 in image\n",
      "\n",
      "Saving 6.67 x 6.67 in image\n",
      "\n",
      "Saving 6.67 x 6.67 in image\n",
      "\n"
     ]
    },
    {
     "name": "stdout",
     "output_type": "stream",
     "text": [
      "[1] \"preprocessing raster at Data/Ground_Validation/Imagery/EightMileQuads.envi\"\n",
      "[1] \"Converted to Data frame?\"\n",
      "[1] TRUE\n",
      "[1] \"Noisy columns removed\"\n",
      "[1] TRUE\n",
      "[1] \"Filtered\"\n",
      "[1] TRUE\n"
     ]
    },
    {
     "name": "stderr",
     "output_type": "stream",
     "text": [
      "Using spline to predict value at new bands...\n",
      "\n",
      "Beware the spectra are now partially smoothed.\n",
      "\n"
     ]
    },
    {
     "name": "stdout",
     "output_type": "stream",
     "text": [
      "[1] \"Imputing...\"\n",
      "[1] \"Handling Outliers with method: none\"\n",
      "[1] \"Transforming the data with transform: none\"\n",
      "          x        y z\n",
      "1 -149.2529 63.87686 3\n",
      "2 -149.2529 63.87686 3\n",
      "3 -149.2529 63.87686 3\n",
      "4 -149.2529 63.87686 3\n",
      "5 -149.2529 63.87686 3\n",
      "6 -149.2529 63.87686 3\n",
      "          x        y z\n",
      "1 -149.2529 63.87686 3\n",
      "2 -149.2529 63.87686 3\n",
      "3 -149.2529 63.87686 3\n",
      "4 -149.2529 63.87686 3\n",
      "5 -149.2529 63.87686 3\n",
      "6 -149.2529 63.87686 3\n",
      "[1] \"Attempting to save to ./validation_saved_output.grd\"\n",
      "[1] \"Converted to Raster\"\n",
      "Reading layer `EightMile_Quadrats_revised' from data source \n",
      "  `/home/krbundy/GitHub/lecospec/Data/Vectors/EightMile_Quadrats_revised.shp' \n",
      "  using driver `ESRI Shapefile'\n",
      "Simple feature collection with 11 features and 3 fields\n",
      "Geometry type: POLYGON\n",
      "Dimension:     XY\n",
      "Bounding box:  xmin: -149.2549 ymin: 63.87666 xmax: -149.2529 ymax: 63.87686\n",
      "Geodetic CRS:  WGS 84\n",
      "Simple feature collection with 1 feature and 3 fields\n",
      "Geometry type: POLYGON\n",
      "Dimension:     XY\n",
      "Bounding box:  xmin: -149.2547 ymin: 63.87667 xmax: -149.2546 ymax: 63.87669\n",
      "Geodetic CRS:  GCS_unknown\n",
      "   CLASS_NAME CLASS_ID CLASS_CLRS                       geometry\n",
      "1 Eightmile10        2    0,128,0 POLYGON ((-149.2547 63.8766...\n"
     ]
    },
    {
     "name": "stderr",
     "output_type": "stream",
     "text": [
      "Saving 6.67 x 6.67 in image\n",
      "\n"
     ]
    },
    {
     "name": "stdout",
     "output_type": "stream",
     "text": [
      "Simple feature collection with 1 feature and 3 fields\n",
      "Geometry type: POLYGON\n",
      "Dimension:     XY\n",
      "Bounding box:  xmin: -149.2549 ymin: 63.87666 xmax: -149.2548 ymax: 63.87667\n",
      "Geodetic CRS:  GCS_unknown\n",
      "  CLASS_NAME CLASS_ID CLASS_CLRS                       geometry\n",
      "2 Eightmile0        1    255,0,0 POLYGON ((-149.2548 63.8766...\n"
     ]
    },
    {
     "name": "stderr",
     "output_type": "stream",
     "text": [
      "Saving 6.67 x 6.67 in image\n",
      "\n"
     ]
    },
    {
     "name": "stdout",
     "output_type": "stream",
     "text": [
      "Simple feature collection with 1 feature and 3 fields\n",
      "Geometry type: POLYGON\n",
      "Dimension:     XY\n",
      "Bounding box:  xmin: -149.2537 ymin: 63.87675 xmax: -149.2537 ymax: 63.87677\n",
      "Geodetic CRS:  GCS_unknown\n",
      "   CLASS_NAME CLASS_ID CLASS_CLRS                       geometry\n",
      "3 Eightmile60        7  128,128,0 POLYGON ((-149.2537 63.8767...\n"
     ]
    },
    {
     "name": "stderr",
     "output_type": "stream",
     "text": [
      "Saving 6.67 x 6.67 in image\n",
      "\n"
     ]
    },
    {
     "name": "stdout",
     "output_type": "stream",
     "text": [
      "Simple feature collection with 1 feature and 3 fields\n",
      "Geometry type: POLYGON\n",
      "Dimension:     XY\n",
      "Bounding box:  xmin: -149.2539 ymin: 63.87673 xmax: -149.2539 ymax: 63.87674\n",
      "Geodetic CRS:  GCS_unknown\n",
      "   CLASS_NAME CLASS_ID CLASS_CLRS                       geometry\n",
      "4 Eightmile50        6  255,0,255 POLYGON ((-149.2539 63.8767...\n"
     ]
    },
    {
     "name": "stderr",
     "output_type": "stream",
     "text": [
      "Saving 6.67 x 6.67 in image\n",
      "\n"
     ]
    },
    {
     "name": "stdout",
     "output_type": "stream",
     "text": [
      "Simple feature collection with 1 feature and 3 fields\n",
      "Geometry type: POLYGON\n",
      "Dimension:     XY\n",
      "Bounding box:  xmin: -149.2541 ymin: 63.87672 xmax: -149.254 ymax: 63.87673\n",
      "Geodetic CRS:  GCS_unknown\n",
      "   CLASS_NAME CLASS_ID CLASS_CLRS                       geometry\n",
      "5 Eightmile40        5  0,255,255 POLYGON ((-149.254 63.87673...\n"
     ]
    },
    {
     "name": "stderr",
     "output_type": "stream",
     "text": [
      "Saving 6.67 x 6.67 in image\n",
      "\n"
     ]
    },
    {
     "name": "stdout",
     "output_type": "stream",
     "text": [
      "Simple feature collection with 1 feature and 3 fields\n",
      "Geometry type: POLYGON\n",
      "Dimension:     XY\n",
      "Bounding box:  xmin: -149.2543 ymin: 63.87671 xmax: -149.2542 ymax: 63.87672\n",
      "Geodetic CRS:  GCS_unknown\n",
      "   CLASS_NAME CLASS_ID CLASS_CLRS                       geometry\n",
      "6 Eightmile30        4  255,255,0 POLYGON ((-149.2542 63.8767...\n"
     ]
    },
    {
     "name": "stderr",
     "output_type": "stream",
     "text": [
      "Saving 6.67 x 6.67 in image\n",
      "\n"
     ]
    },
    {
     "name": "stdout",
     "output_type": "stream",
     "text": [
      "Simple feature collection with 1 feature and 3 fields\n",
      "Geometry type: POLYGON\n",
      "Dimension:     XY\n",
      "Bounding box:  xmin: -149.2545 ymin: 63.87669 xmax: -149.2544 ymax: 63.8767\n",
      "Geodetic CRS:  GCS_unknown\n",
      "   CLASS_NAME CLASS_ID CLASS_CLRS                       geometry\n",
      "7 Eightmile20        3    0,0,255 POLYGON ((-149.2544 63.8767...\n"
     ]
    },
    {
     "name": "stderr",
     "output_type": "stream",
     "text": [
      "Saving 6.67 x 6.67 in image\n",
      "\n"
     ]
    },
    {
     "name": "stdout",
     "output_type": "stream",
     "text": [
      "Simple feature collection with 1 feature and 3 fields\n",
      "Geometry type: POLYGON\n",
      "Dimension:     XY\n",
      "Bounding box:  xmin: -149.2529 ymin: 63.87685 xmax: -149.2529 ymax: 63.87686\n",
      "Geodetic CRS:  GCS_unknown\n",
      "    CLASS_NAME CLASS_ID CLASS_CLRS                       geometry\n",
      "8 Eightmile100       11    0,255,0 POLYGON ((-149.2529 63.8768...\n"
     ]
    },
    {
     "name": "stderr",
     "output_type": "stream",
     "text": [
      "Saving 6.67 x 6.67 in image\n",
      "\n"
     ]
    },
    {
     "name": "stdout",
     "output_type": "stream",
     "text": [
      "Simple feature collection with 1 feature and 3 fields\n",
      "Geometry type: POLYGON\n",
      "Dimension:     XY\n",
      "Bounding box:  xmin: -149.2531 ymin: 63.87682 xmax: -149.2531 ymax: 63.87684\n",
      "Geodetic CRS:  GCS_unknown\n",
      "   CLASS_NAME CLASS_ID CLASS_CLRS                       geometry\n",
      "9 Eightmile90       10    128,0,0 POLYGON ((-149.2531 63.8768...\n"
     ]
    },
    {
     "name": "stderr",
     "output_type": "stream",
     "text": [
      "Saving 6.67 x 6.67 in image\n",
      "\n"
     ]
    },
    {
     "name": "stdout",
     "output_type": "stream",
     "text": [
      "Simple feature collection with 1 feature and 3 fields\n",
      "Geometry type: POLYGON\n",
      "Dimension:     XY\n",
      "Bounding box:  xmin: -149.2533 ymin: 63.8768 xmax: -149.2533 ymax: 63.87681\n",
      "Geodetic CRS:  GCS_unknown\n",
      "    CLASS_NAME CLASS_ID CLASS_CLRS                       geometry\n",
      "10 Eightmile80        9  255,255,0 POLYGON ((-149.2533 63.8768...\n"
     ]
    },
    {
     "name": "stderr",
     "output_type": "stream",
     "text": [
      "Saving 6.67 x 6.67 in image\n",
      "\n"
     ]
    },
    {
     "name": "stdout",
     "output_type": "stream",
     "text": [
      "Simple feature collection with 1 feature and 3 fields\n",
      "Geometry type: POLYGON\n",
      "Dimension:     XY\n",
      "Bounding box:  xmin: -149.2535 ymin: 63.87678 xmax: -149.2535 ymax: 63.87679\n",
      "Geodetic CRS:  GCS_unknown\n",
      "    CLASS_NAME CLASS_ID CLASS_CLRS                       geometry\n",
      "11 Eightmile70        8  0,128,128 POLYGON ((-149.2535 63.8767...\n"
     ]
    },
    {
     "name": "stderr",
     "output_type": "stream",
     "text": [
      "Saving 6.67 x 6.67 in image\n",
      "\n",
      "Saving 6.67 x 6.67 in image\n",
      "\n",
      "Saving 6.67 x 6.67 in image\n",
      "\n",
      "Saving 6.67 x 6.67 in image\n",
      "\n",
      "Saving 6.67 x 6.67 in image\n",
      "\n",
      "Saving 6.67 x 6.67 in image\n",
      "\n",
      "Saving 6.67 x 6.67 in image\n",
      "\n",
      "Saving 6.67 x 6.67 in image\n",
      "\n",
      "Saving 6.67 x 6.67 in image\n",
      "\n",
      "Saving 6.67 x 6.67 in image\n",
      "\n",
      "Saving 6.67 x 6.67 in image\n",
      "\n",
      "Saving 6.67 x 6.67 in image\n",
      "\n"
     ]
    },
    {
     "name": "stdout",
     "output_type": "stream",
     "text": [
      "[1] \"preprocessing raster at Data/Ground_Validation/Imagery/MurphDomeQuads0_10.envi\"\n",
      "[1] \"Converted to Data frame?\"\n",
      "[1] TRUE\n",
      "[1] \"Noisy columns removed\"\n",
      "[1] TRUE\n",
      "[1] \"Filtered\"\n",
      "[1] TRUE\n"
     ]
    },
    {
     "name": "stderr",
     "output_type": "stream",
     "text": [
      "Using spline to predict value at new bands...\n",
      "\n",
      "Beware the spectra are now partially smoothed.\n",
      "\n"
     ]
    },
    {
     "name": "stdout",
     "output_type": "stream",
     "text": [
      "[1] \"Imputing...\"\n",
      "[1] \"Handling Outliers with method: none\"\n",
      "[1] \"Transforming the data with transform: none\"\n",
      "          x       y z\n",
      "1 -148.3535 64.9538 3\n",
      "2 -148.3535 64.9538 3\n",
      "3 -148.3535 64.9538 3\n",
      "4 -148.3535 64.9538 3\n",
      "5 -148.3535 64.9538 3\n",
      "6 -148.3535 64.9538 3\n",
      "          x       y z\n",
      "1 -148.3535 64.9538 3\n",
      "2 -148.3535 64.9538 3\n",
      "3 -148.3535 64.9538 3\n",
      "4 -148.3535 64.9538 3\n",
      "5 -148.3535 64.9538 3\n",
      "6 -148.3535 64.9538 3\n",
      "[1] \"Attempting to save to ./validation_saved_output.grd\"\n",
      "[1] \"Converted to Raster\"\n",
      "Reading layer `MurphyQuads0_10m' from data source \n",
      "  `/home/krbundy/GitHub/lecospec/Data/Vectors/MurphyQuads0_10m.shp' \n",
      "  using driver `ESRI Shapefile'\n",
      "Simple feature collection with 2 features and 3 fields\n",
      "Geometry type: POLYGON\n",
      "Dimension:     XY\n",
      "Bounding box:  xmin: -148.3535 ymin: 64.95372 xmax: -148.3533 ymax: 64.9538\n",
      "Geodetic CRS:  WGS 84\n",
      "Simple feature collection with 1 feature and 3 fields\n",
      "Geometry type: POLYGON\n",
      "Dimension:     XY\n",
      "Bounding box:  xmin: -148.3535 ymin: 64.95379 xmax: -148.3535 ymax: 64.9538\n",
      "Geodetic CRS:  GCS_unknown\n",
      "    CLASS_NAME CLASS_ID CLASS_CLRS                       geometry\n",
      "1 Murphydome10        1    0,0,255 POLYGON ((-148.3535 64.9538...\n"
     ]
    },
    {
     "name": "stderr",
     "output_type": "stream",
     "text": [
      "Saving 6.67 x 6.67 in image\n",
      "\n"
     ]
    },
    {
     "name": "stdout",
     "output_type": "stream",
     "text": [
      "Simple feature collection with 1 feature and 3 fields\n",
      "Geometry type: POLYGON\n",
      "Dimension:     XY\n",
      "Bounding box:  xmin: -148.3534 ymin: 64.95372 xmax: -148.3533 ymax: 64.95373\n",
      "Geodetic CRS:  GCS_unknown\n",
      "   CLASS_NAME CLASS_ID CLASS_CLRS                       geometry\n",
      "2 Murphydome0        2    0,128,0 POLYGON ((-148.3534 64.9537...\n"
     ]
    },
    {
     "name": "stderr",
     "output_type": "stream",
     "text": [
      "Saving 6.67 x 6.67 in image\n",
      "\n",
      "Saving 6.67 x 6.67 in image\n",
      "\n",
      "Saving 6.67 x 6.67 in image\n",
      "\n"
     ]
    },
    {
     "name": "stdout",
     "output_type": "stream",
     "text": [
      "[1] \"preprocessing raster at Data/Ground_Validation/Imagery/MurphDomeQuads20_50.envi\"\n",
      "[1] \"Converted to Data frame?\"\n",
      "[1] TRUE\n",
      "[1] \"Noisy columns removed\"\n",
      "[1] TRUE\n",
      "[1] \"Filtered\"\n",
      "[1] TRUE\n"
     ]
    },
    {
     "name": "stderr",
     "output_type": "stream",
     "text": [
      "Using spline to predict value at new bands...\n",
      "\n",
      "Beware the spectra are now partially smoothed.\n",
      "\n"
     ]
    },
    {
     "name": "stdout",
     "output_type": "stream",
     "text": [
      "[1] \"Imputing...\"\n",
      "[1] \"Handling Outliers with method: none\"\n",
      "[1] \"Transforming the data with transform: none\"\n",
      "          x        y z\n",
      "1 -148.3540 64.95407 3\n",
      "2 -148.3541 64.95407 2\n",
      "3 -148.3540 64.95407 3\n",
      "4 -148.3540 64.95407 3\n",
      "5 -148.3541 64.95407 3\n",
      "6 -148.3541 64.95407 2\n",
      "          x        y z\n",
      "1 -148.3540 64.95407 3\n",
      "2 -148.3541 64.95407 2\n",
      "3 -148.3540 64.95407 3\n",
      "4 -148.3540 64.95407 3\n",
      "5 -148.3541 64.95407 3\n",
      "6 -148.3541 64.95407 2\n",
      "[1] \"Attempting to save to ./validation_saved_output.grd\"\n",
      "[1] \"Converted to Raster\"\n",
      "Reading layer `MurphyQuads20_50m' from data source \n",
      "  `/home/krbundy/GitHub/lecospec/Data/Vectors/MurphyQuads20_50m.shp' \n",
      "  using driver `ESRI Shapefile'\n",
      "Simple feature collection with 4 features and 3 fields\n",
      "Geometry type: POLYGON\n",
      "Dimension:     XY\n",
      "Bounding box:  xmin: -148.3541 ymin: 64.95384 xmax: -148.3536 ymax: 64.95407\n",
      "Geodetic CRS:  WGS 84\n",
      "Simple feature collection with 1 feature and 3 fields\n",
      "Geometry type: POLYGON\n",
      "Dimension:     XY\n",
      "Bounding box:  xmin: -148.3541 ymin: 64.95406 xmax: -148.354 ymax: 64.95407\n",
      "Geodetic CRS:  GCS_unknown\n",
      "    CLASS_NAME CLASS_ID CLASS_CLRS                       geometry\n",
      "1 Murphydome50        1  128,128,0 POLYGON ((-148.354 64.95407...\n"
     ]
    },
    {
     "name": "stderr",
     "output_type": "stream",
     "text": [
      "Saving 6.67 x 6.67 in image\n",
      "\n"
     ]
    },
    {
     "name": "stdout",
     "output_type": "stream",
     "text": [
      "Simple feature collection with 1 feature and 3 fields\n",
      "Geometry type: POLYGON\n",
      "Dimension:     XY\n",
      "Bounding box:  xmin: -148.3539 ymin: 64.95399 xmax: -148.3539 ymax: 64.954\n",
      "Geodetic CRS:  GCS_unknown\n",
      "    CLASS_NAME CLASS_ID CLASS_CLRS                       geometry\n",
      "2 Murphydome40        2  255,0,255 POLYGON ((-148.3539 64.954,...\n"
     ]
    },
    {
     "name": "stderr",
     "output_type": "stream",
     "text": [
      "Saving 6.67 x 6.67 in image\n",
      "\n"
     ]
    },
    {
     "name": "stdout",
     "output_type": "stream",
     "text": [
      "Simple feature collection with 1 feature and 3 fields\n",
      "Geometry type: POLYGON\n",
      "Dimension:     XY\n",
      "Bounding box:  xmin: -148.3538 ymin: 64.95392 xmax: -148.3537 ymax: 64.95393\n",
      "Geodetic CRS:  GCS_unknown\n",
      "    CLASS_NAME CLASS_ID CLASS_CLRS                       geometry\n",
      "3 Murphydome30        3  0,255,255 POLYGON ((-148.3538 64.9539...\n"
     ]
    },
    {
     "name": "stderr",
     "output_type": "stream",
     "text": [
      "Saving 6.67 x 6.67 in image\n",
      "\n"
     ]
    },
    {
     "name": "stdout",
     "output_type": "stream",
     "text": [
      "Simple feature collection with 1 feature and 3 fields\n",
      "Geometry type: POLYGON\n",
      "Dimension:     XY\n",
      "Bounding box:  xmin: -148.3537 ymin: 64.95384 xmax: -148.3536 ymax: 64.95386\n",
      "Geodetic CRS:  GCS_unknown\n",
      "    CLASS_NAME CLASS_ID CLASS_CLRS                       geometry\n",
      "4 Murphydome20        4  255,255,0 POLYGON ((-148.3536 64.9538...\n"
     ]
    },
    {
     "name": "stderr",
     "output_type": "stream",
     "text": [
      "Saving 6.67 x 6.67 in image\n",
      "\n",
      "Saving 6.67 x 6.67 in image\n",
      "\n",
      "Saving 6.67 x 6.67 in image\n",
      "\n",
      "Saving 6.67 x 6.67 in image\n",
      "\n",
      "Saving 6.67 x 6.67 in image\n",
      "\n"
     ]
    },
    {
     "name": "stdout",
     "output_type": "stream",
     "text": [
      "[1] \"preprocessing raster at Data/Ground_Validation/Imagery/MurphDomeQuads60_100.envi\"\n",
      "[1] \"Converted to Data frame?\"\n",
      "[1] TRUE\n",
      "[1] \"Noisy columns removed\"\n",
      "[1] TRUE\n",
      "[1] \"Filtered\"\n",
      "[1] TRUE\n"
     ]
    },
    {
     "name": "stderr",
     "output_type": "stream",
     "text": [
      "Using spline to predict value at new bands...\n",
      "\n",
      "Beware the spectra are now partially smoothed.\n",
      "\n"
     ]
    },
    {
     "name": "stdout",
     "output_type": "stream",
     "text": [
      "[1] \"Imputing...\"\n",
      "[1] \"Handling Outliers with method: none\"\n",
      "[1] \"Transforming the data with transform: none\"\n",
      "          x        y z\n",
      "1 -148.3548 64.95441 3\n",
      "2 -148.3548 64.95441 3\n",
      "3 -148.3548 64.95441 3\n",
      "4 -148.3548 64.95441 3\n",
      "5 -148.3548 64.95441 3\n",
      "6 -148.3548 64.95441 3\n",
      "          x        y z\n",
      "1 -148.3548 64.95441 3\n",
      "2 -148.3548 64.95441 3\n",
      "3 -148.3548 64.95441 3\n",
      "4 -148.3548 64.95441 3\n",
      "5 -148.3548 64.95441 3\n",
      "6 -148.3548 64.95441 3\n",
      "[1] \"Attempting to save to ./validation_saved_output.grd\"\n",
      "[1] \"Converted to Raster\"\n",
      "Reading layer `MurphyQuads60_100m' from data source \n",
      "  `/home/krbundy/GitHub/lecospec/Data/Vectors/MurphyQuads60_100m.shp' \n",
      "  using driver `ESRI Shapefile'\n",
      "Simple feature collection with 5 features and 3 fields\n",
      "Geometry type: POLYGON\n",
      "Dimension:     XY\n",
      "Bounding box:  xmin: -148.3548 ymin: 64.95413 xmax: -148.3542 ymax: 64.95441\n",
      "Geodetic CRS:  WGS 84\n",
      "Simple feature collection with 1 feature and 3 fields\n",
      "Geometry type: POLYGON\n",
      "Dimension:     XY\n",
      "Bounding box:  xmin: -148.3548 ymin: 64.9544 xmax: -148.3547 ymax: 64.95441\n",
      "Geodetic CRS:  GCS_unknown\n",
      "     CLASS_NAME CLASS_ID CLASS_CLRS                       geometry\n",
      "1 Murphydome100        1 255,127,80 POLYGON ((-148.3548 64.9544...\n"
     ]
    },
    {
     "name": "stderr",
     "output_type": "stream",
     "text": [
      "Saving 6.67 x 6.67 in image\n",
      "\n"
     ]
    },
    {
     "name": "stdout",
     "output_type": "stream",
     "text": [
      "Simple feature collection with 1 feature and 3 fields\n",
      "Geometry type: POLYGON\n",
      "Dimension:     XY\n",
      "Bounding box:  xmin: -148.3546 ymin: 64.95433 xmax: -148.3546 ymax: 64.95434\n",
      "Geodetic CRS:  GCS_unknown\n",
      "    CLASS_NAME CLASS_ID CLASS_CLRS                       geometry\n",
      "2 Murphydome90        2    0,0,128 POLYGON ((-148.3546 64.9543...\n"
     ]
    },
    {
     "name": "stderr",
     "output_type": "stream",
     "text": [
      "Saving 6.67 x 6.67 in image\n",
      "\n"
     ]
    },
    {
     "name": "stdout",
     "output_type": "stream",
     "text": [
      "Simple feature collection with 1 feature and 3 fields\n",
      "Geometry type: POLYGON\n",
      "Dimension:     XY\n",
      "Bounding box:  xmin: -148.3545 ymin: 64.95426 xmax: -148.3544 ymax: 64.95427\n",
      "Geodetic CRS:  GCS_unknown\n",
      "    CLASS_NAME CLASS_ID CLASS_CLRS                       geometry\n",
      "3 Murphydome80        3    0,255,0 POLYGON ((-148.3545 64.9542...\n"
     ]
    },
    {
     "name": "stderr",
     "output_type": "stream",
     "text": [
      "Saving 6.67 x 6.67 in image\n",
      "\n"
     ]
    },
    {
     "name": "stdout",
     "output_type": "stream",
     "text": [
      "Simple feature collection with 1 feature and 3 fields\n",
      "Geometry type: POLYGON\n",
      "Dimension:     XY\n",
      "Bounding box:  xmin: -148.3543 ymin: 64.95419 xmax: -148.3543 ymax: 64.9542\n",
      "Geodetic CRS:  GCS_unknown\n",
      "    CLASS_NAME CLASS_ID CLASS_CLRS                       geometry\n",
      "4 Murphydome70        4    128,0,0 POLYGON ((-148.3543 64.9542...\n"
     ]
    },
    {
     "name": "stderr",
     "output_type": "stream",
     "text": [
      "Saving 6.67 x 6.67 in image\n",
      "\n"
     ]
    },
    {
     "name": "stdout",
     "output_type": "stream",
     "text": [
      "Simple feature collection with 1 feature and 3 fields\n",
      "Geometry type: POLYGON\n",
      "Dimension:     XY\n",
      "Bounding box:  xmin: -148.3542 ymin: 64.95413 xmax: -148.3542 ymax: 64.95414\n",
      "Geodetic CRS:  GCS_unknown\n",
      "    CLASS_NAME CLASS_ID CLASS_CLRS                       geometry\n",
      "5 Murphydome60        5  0,128,128 POLYGON ((-148.3542 64.9541...\n"
     ]
    },
    {
     "name": "stderr",
     "output_type": "stream",
     "text": [
      "Saving 6.67 x 6.67 in image\n",
      "\n",
      "Saving 6.67 x 6.67 in image\n",
      "\n",
      "Saving 6.67 x 6.67 in image\n",
      "\n",
      "Saving 6.67 x 6.67 in image\n",
      "\n",
      "Saving 6.67 x 6.67 in image\n",
      "\n",
      "Saving 6.67 x 6.67 in image\n",
      "\n"
     ]
    },
    {
     "name": "stdout",
     "output_type": "stream",
     "text": [
      "[1] \"preprocessing raster at Data/Ground_Validation/Imagery/BonanzaQuads.envi\"\n",
      "[1] \"Converted to Data frame?\"\n",
      "[1] TRUE\n",
      "[1] \"Noisy columns removed\"\n",
      "[1] TRUE\n",
      "[1] \"Filtered\"\n",
      "[1] TRUE\n"
     ]
    },
    {
     "name": "stderr",
     "output_type": "stream",
     "text": [
      "Using spline to predict value at new bands...\n",
      "\n",
      "Beware the spectra are now partially smoothed.\n",
      "\n"
     ]
    },
    {
     "name": "stdout",
     "output_type": "stream",
     "text": [
      "[1] \"Imputing...\"\n",
      "[1] \"Handling Outliers with method: none\"\n",
      "[1] \"Transforming the data with transform: none\"\n",
      "          x        y z\n",
      "1 -148.2962 64.70435 3\n",
      "2 -148.2962 64.70435 3\n",
      "3 -148.2962 64.70435 3\n",
      "4 -148.2962 64.70435 3\n",
      "5 -148.2962 64.70435 3\n",
      "6 -148.2962 64.70435 3\n",
      "          x        y z\n",
      "1 -148.2962 64.70435 3\n",
      "2 -148.2962 64.70435 3\n",
      "3 -148.2962 64.70435 3\n",
      "4 -148.2962 64.70435 3\n",
      "5 -148.2962 64.70435 3\n",
      "6 -148.2962 64.70435 3\n",
      "[1] \"Attempting to save to ./validation_saved_output.grd\"\n",
      "[1] \"Converted to Raster\"\n",
      "Reading layer `Bonanza_N_Quads' from data source \n",
      "  `/home/krbundy/GitHub/lecospec/Data/Vectors/Bonanza_N_Quads.shp' \n",
      "  using driver `ESRI Shapefile'\n",
      "Simple feature collection with 11 features and 3 fields\n",
      "Geometry type: POLYGON\n",
      "Dimension:     XY\n",
      "Bounding box:  xmin: 438153.7 ymin: 7176051 xmax: 438205.6 ymax: 7176138\n",
      "Projected CRS: WGS 84 / UTM zone 6N\n",
      "Simple feature collection with 1 feature and 3 fields\n",
      "Geometry type: POLYGON\n",
      "Dimension:     XY\n",
      "Bounding box:  xmin: -148.2966 ymin: 64.70403 xmax: -148.2966 ymax: 64.70404\n",
      "Geodetic CRS:  GCS_unknown\n",
      "  CLASS_NAME CLASS_ID CLASS_CLRS                       geometry\n",
      "1  Bonanza60        7    128,0,0 POLYGON ((-148.2966 64.7040...\n"
     ]
    },
    {
     "name": "stderr",
     "output_type": "stream",
     "text": [
      "Saving 6.67 x 6.67 in image\n",
      "\n"
     ]
    },
    {
     "name": "stdout",
     "output_type": "stream",
     "text": [
      "Simple feature collection with 1 feature and 3 fields\n",
      "Geometry type: POLYGON\n",
      "Dimension:     XY\n",
      "Bounding box:  xmin: -148.2962 ymin: 64.70434 xmax: -148.2962 ymax: 64.70435\n",
      "Geodetic CRS:  GCS_unknown\n",
      "  CLASS_NAME CLASS_ID CLASS_CLRS                       geometry\n",
      "2 Bonanza100       11  127,255,0 POLYGON ((-148.2962 64.7043...\n"
     ]
    },
    {
     "name": "stderr",
     "output_type": "stream",
     "text": [
      "Saving 6.67 x 6.67 in image\n",
      "\n"
     ]
    },
    {
     "name": "stdout",
     "output_type": "stream",
     "text": [
      "Simple feature collection with 1 feature and 3 fields\n",
      "Geometry type: POLYGON\n",
      "Dimension:     XY\n",
      "Bounding box:  xmin: -148.2963 ymin: 64.70426 xmax: -148.2963 ymax: 64.70428\n",
      "Geodetic CRS:  GCS_unknown\n",
      "  CLASS_NAME CLASS_ID CLASS_CLRS                       geometry\n",
      "3  Bonanza90       10 255,127,80 POLYGON ((-148.2963 64.7042...\n"
     ]
    },
    {
     "name": "stderr",
     "output_type": "stream",
     "text": [
      "Saving 6.67 x 6.67 in image\n",
      "\n"
     ]
    },
    {
     "name": "stdout",
     "output_type": "stream",
     "text": [
      "Simple feature collection with 1 feature and 3 fields\n",
      "Geometry type: POLYGON\n",
      "Dimension:     XY\n",
      "Bounding box:  xmin: -148.2964 ymin: 64.70418 xmax: -148.2964 ymax: 64.7042\n",
      "Geodetic CRS:  GCS_unknown\n",
      "  CLASS_NAME CLASS_ID CLASS_CLRS                       geometry\n",
      "4  Bonanza80        9    0,0,128 POLYGON ((-148.2964 64.7042...\n"
     ]
    },
    {
     "name": "stderr",
     "output_type": "stream",
     "text": [
      "Saving 6.67 x 6.67 in image\n",
      "\n"
     ]
    },
    {
     "name": "stdout",
     "output_type": "stream",
     "text": [
      "Simple feature collection with 1 feature and 3 fields\n",
      "Geometry type: POLYGON\n",
      "Dimension:     XY\n",
      "Bounding box:  xmin: -148.2967 ymin: 64.70395 xmax: -148.2967 ymax: 64.70396\n",
      "Geodetic CRS:  GCS_unknown\n",
      "  CLASS_NAME CLASS_ID CLASS_CLRS                       geometry\n",
      "5  Bonanza50        6  255,0,255 POLYGON ((-148.2967 64.7039...\n"
     ]
    },
    {
     "name": "stderr",
     "output_type": "stream",
     "text": [
      "Saving 6.67 x 6.67 in image\n",
      "\n"
     ]
    },
    {
     "name": "stdout",
     "output_type": "stream",
     "text": [
      "Simple feature collection with 1 feature and 3 fields\n",
      "Geometry type: POLYGON\n",
      "Dimension:     XY\n",
      "Bounding box:  xmin: -148.2968 ymin: 64.70387 xmax: -148.2968 ymax: 64.70388\n",
      "Geodetic CRS:  GCS_unknown\n",
      "  CLASS_NAME CLASS_ID CLASS_CLRS                       geometry\n",
      "6  Bonanza40        5  0,255,255 POLYGON ((-148.2968 64.7038...\n"
     ]
    },
    {
     "name": "stderr",
     "output_type": "stream",
     "text": [
      "Saving 6.67 x 6.67 in image\n",
      "\n"
     ]
    },
    {
     "name": "stdout",
     "output_type": "stream",
     "text": [
      "Simple feature collection with 1 feature and 3 fields\n",
      "Geometry type: POLYGON\n",
      "Dimension:     XY\n",
      "Bounding box:  xmin: -148.2969 ymin: 64.70379 xmax: -148.2969 ymax: 64.7038\n",
      "Geodetic CRS:  GCS_unknown\n",
      "  CLASS_NAME CLASS_ID CLASS_CLRS                       geometry\n",
      "7  Bonanza30        4  255,255,0 POLYGON ((-148.2969 64.7038...\n"
     ]
    },
    {
     "name": "stderr",
     "output_type": "stream",
     "text": [
      "Saving 6.67 x 6.67 in image\n",
      "\n"
     ]
    },
    {
     "name": "stdout",
     "output_type": "stream",
     "text": [
      "Simple feature collection with 1 feature and 3 fields\n",
      "Geometry type: POLYGON\n",
      "Dimension:     XY\n",
      "Bounding box:  xmin: -148.297 ymin: 64.70371 xmax: -148.297 ymax: 64.70373\n",
      "Geodetic CRS:  GCS_unknown\n",
      "  CLASS_NAME CLASS_ID CLASS_CLRS                       geometry\n",
      "8  Bonanza20        3    0,0,255 POLYGON ((-148.297 64.70373...\n"
     ]
    },
    {
     "name": "stderr",
     "output_type": "stream",
     "text": [
      "Saving 6.67 x 6.67 in image\n",
      "\n"
     ]
    },
    {
     "name": "stdout",
     "output_type": "stream",
     "text": [
      "Simple feature collection with 1 feature and 3 fields\n",
      "Geometry type: POLYGON\n",
      "Dimension:     XY\n",
      "Bounding box:  xmin: -148.2971 ymin: 64.70364 xmax: -148.2971 ymax: 64.70365\n",
      "Geodetic CRS:  GCS_unknown\n",
      "  CLASS_NAME CLASS_ID CLASS_CLRS                       geometry\n",
      "9  Bonanza10        2    0,128,0 POLYGON ((-148.2971 64.7036...\n"
     ]
    },
    {
     "name": "stderr",
     "output_type": "stream",
     "text": [
      "Saving 6.67 x 6.67 in image\n",
      "\n"
     ]
    },
    {
     "name": "stdout",
     "output_type": "stream",
     "text": [
      "Simple feature collection with 1 feature and 3 fields\n",
      "Geometry type: POLYGON\n",
      "Dimension:     XY\n",
      "Bounding box:  xmin: -148.2972 ymin: 64.70356 xmax: -148.2972 ymax: 64.70357\n",
      "Geodetic CRS:  GCS_unknown\n",
      "   CLASS_NAME CLASS_ID CLASS_CLRS                       geometry\n",
      "10   Bonanza0        1    255,0,0 POLYGON ((-148.2972 64.7035...\n"
     ]
    },
    {
     "name": "stderr",
     "output_type": "stream",
     "text": [
      "Saving 6.67 x 6.67 in image\n",
      "\n"
     ]
    },
    {
     "name": "stdout",
     "output_type": "stream",
     "text": [
      "Simple feature collection with 1 feature and 3 fields\n",
      "Geometry type: POLYGON\n",
      "Dimension:     XY\n",
      "Bounding box:  xmin: -148.2965 ymin: 64.70411 xmax: -148.2965 ymax: 64.70412\n",
      "Geodetic CRS:  GCS_unknown\n",
      "   CLASS_NAME CLASS_ID CLASS_CLRS                       geometry\n",
      "11  Bonanza70        8    0,255,0 POLYGON ((-148.2965 64.7041...\n"
     ]
    },
    {
     "name": "stderr",
     "output_type": "stream",
     "text": [
      "Saving 6.67 x 6.67 in image\n",
      "\n",
      "Saving 6.67 x 6.67 in image\n",
      "\n",
      "Saving 6.67 x 6.67 in image\n",
      "\n",
      "Saving 6.67 x 6.67 in image\n",
      "\n",
      "Saving 6.67 x 6.67 in image\n",
      "\n",
      "Saving 6.67 x 6.67 in image\n",
      "\n",
      "Saving 6.67 x 6.67 in image\n",
      "\n",
      "Saving 6.67 x 6.67 in image\n",
      "\n",
      "Saving 6.67 x 6.67 in image\n",
      "\n",
      "Saving 6.67 x 6.67 in image\n",
      "\n",
      "Saving 6.67 x 6.67 in image\n",
      "\n",
      "Saving 6.67 x 6.67 in image\n",
      "\n",
      "Warning message in confusionMatrix.default(model_predictions, test_labels, mode = \"everything\"):\n",
      "“Levels are not in the same order for reference and data. Refactoring data to match.”\n"
     ]
    },
    {
     "name": "stdout",
     "output_type": "stream",
     "text": [
      "[1] \"preprocessing raster at Data/Ground_Validation/Imagery/BisonGulchQuads.envi\"\n",
      "[1] \"Converted to Data frame?\"\n",
      "[1] TRUE\n",
      "[1] \"Noisy columns removed\"\n",
      "[1] TRUE\n",
      "[1] \"Filtered\"\n",
      "[1] TRUE\n"
     ]
    },
    {
     "name": "stderr",
     "output_type": "stream",
     "text": [
      "Using spline to predict value at new bands...\n",
      "\n",
      "Beware the spectra are now partially smoothed.\n",
      "\n"
     ]
    },
    {
     "name": "stdout",
     "output_type": "stream",
     "text": [
      "[1] \"Imputing...\"\n",
      "[1] \"Handling Outliers with method: none\"\n",
      "[1] \"Transforming the data with transform: none\"\n",
      "          x        y z\n",
      "1 -148.9508 63.80701 5\n",
      "2 -148.9508 63.80701 5\n",
      "3 -148.9508 63.80701 5\n",
      "4 -148.9508 63.80701 1\n",
      "5 -148.9508 63.80701 5\n",
      "6 -148.9508 63.80701 5\n",
      "          x        y z\n",
      "1 -148.9508 63.80701 5\n",
      "2 -148.9508 63.80701 5\n",
      "3 -148.9508 63.80701 5\n",
      "4 -148.9508 63.80701 1\n",
      "5 -148.9508 63.80701 5\n",
      "6 -148.9508 63.80701 5\n",
      "[1] \"Attempting to save to ./validation_saved_output.grd\"\n",
      "[1] \"Converted to Raster\"\n",
      "Reading layer `Bisoon_Quadrats_georeferenced' from data source \n",
      "  `/home/krbundy/GitHub/lecospec/Data/Vectors/Bisoon_Quadrats_georeferenced.shp' \n",
      "  using driver `ESRI Shapefile'\n",
      "Simple feature collection with 9 features and 3 fields\n",
      "Geometry type: POLYGON\n",
      "Dimension:     XY\n",
      "Bounding box:  xmin: -148.9524 ymin: 63.80698 xmax: -148.9508 ymax: 63.80701\n",
      "Geodetic CRS:  WGS 84\n",
      "Simple feature collection with 1 feature and 3 fields\n",
      "Geometry type: POLYGON\n",
      "Dimension:     XY\n",
      "Bounding box:  xmin: -148.9508 ymin: 63.807 xmax: -148.9508 ymax: 63.80701\n",
      "Geodetic CRS:  GCS_unknown\n",
      "  CLASS_ID  CLASS_NAME AREA                       geometry\n",
      "1        1 Bisongulch0  612 POLYGON ((-148.9508 63.807,...\n"
     ]
    },
    {
     "name": "stderr",
     "output_type": "stream",
     "text": [
      "Saving 6.67 x 6.67 in image\n",
      "\n"
     ]
    },
    {
     "name": "stdout",
     "output_type": "stream",
     "text": [
      "Simple feature collection with 1 feature and 3 fields\n",
      "Geometry type: POLYGON\n",
      "Dimension:     XY\n",
      "Bounding box:  xmin: -148.952 ymin: 63.80699 xmax: -148.952 ymax: 63.807\n",
      "Geodetic CRS:  GCS_unknown\n",
      "  CLASS_ID   CLASS_NAME AREA                       geometry\n",
      "2        7 Bisongulch70  649 POLYGON ((-148.952 63.80699...\n"
     ]
    },
    {
     "name": "stderr",
     "output_type": "stream",
     "text": [
      "Saving 6.67 x 6.67 in image\n",
      "\n"
     ]
    },
    {
     "name": "stdout",
     "output_type": "stream",
     "text": [
      "Simple feature collection with 1 feature and 3 fields\n",
      "Geometry type: POLYGON\n",
      "Dimension:     XY\n",
      "Bounding box:  xmin: -148.9522 ymin: 63.80699 xmax: -148.9522 ymax: 63.807\n",
      "Geodetic CRS:  GCS_unknown\n",
      "  CLASS_ID   CLASS_NAME AREA                       geometry\n",
      "3        8 Bisongulch80  661 POLYGON ((-148.9522 63.8069...\n"
     ]
    },
    {
     "name": "stderr",
     "output_type": "stream",
     "text": [
      "Saving 6.67 x 6.67 in image\n",
      "\n"
     ]
    },
    {
     "name": "stdout",
     "output_type": "stream",
     "text": [
      "Simple feature collection with 1 feature and 3 fields\n",
      "Geometry type: POLYGON\n",
      "Dimension:     XY\n",
      "Bounding box:  xmin: -148.951 ymin: 63.80699 xmax: -148.9509 ymax: 63.807\n",
      "Geodetic CRS:  GCS_unknown\n",
      "  CLASS_ID   CLASS_NAME AREA                       geometry\n",
      "4        2 Bisongulch10  649 POLYGON ((-148.9509 63.8069...\n"
     ]
    },
    {
     "name": "stderr",
     "output_type": "stream",
     "text": [
      "Saving 6.67 x 6.67 in image\n",
      "\n"
     ]
    },
    {
     "name": "stdout",
     "output_type": "stream",
     "text": [
      "Simple feature collection with 1 feature and 3 fields\n",
      "Geometry type: POLYGON\n",
      "Dimension:     XY\n",
      "Bounding box:  xmin: -148.9524 ymin: 63.80699 xmax: -148.9524 ymax: 63.807\n",
      "Geodetic CRS:  GCS_unknown\n",
      "  CLASS_ID   CLASS_NAME AREA                       geometry\n",
      "5        9 Bisongulch90  648 POLYGON ((-148.9524 63.8069...\n"
     ]
    },
    {
     "name": "stderr",
     "output_type": "stream",
     "text": [
      "Saving 6.67 x 6.67 in image\n",
      "\n"
     ]
    },
    {
     "name": "stdout",
     "output_type": "stream",
     "text": [
      "Simple feature collection with 1 feature and 3 fields\n",
      "Geometry type: POLYGON\n",
      "Dimension:     XY\n",
      "Bounding box:  xmin: -148.9512 ymin: 63.80699 xmax: -148.9512 ymax: 63.807\n",
      "Geodetic CRS:  GCS_unknown\n",
      "  CLASS_ID   CLASS_NAME AREA                       geometry\n",
      "6        3 Bisongulch20  574 POLYGON ((-148.9512 63.8069...\n"
     ]
    },
    {
     "name": "stderr",
     "output_type": "stream",
     "text": [
      "Saving 6.67 x 6.67 in image\n",
      "\n"
     ]
    },
    {
     "name": "stdout",
     "output_type": "stream",
     "text": [
      "Simple feature collection with 1 feature and 3 fields\n",
      "Geometry type: POLYGON\n",
      "Dimension:     XY\n",
      "Bounding box:  xmin: -148.9518 ymin: 63.80699 xmax: -148.9518 ymax: 63.807\n",
      "Geodetic CRS:  GCS_unknown\n",
      "  CLASS_ID   CLASS_NAME AREA                       geometry\n",
      "7        6 Bisongulch50  673 POLYGON ((-148.9518 63.8069...\n"
     ]
    },
    {
     "name": "stderr",
     "output_type": "stream",
     "text": [
      "Saving 6.67 x 6.67 in image\n",
      "\n"
     ]
    },
    {
     "name": "stdout",
     "output_type": "stream",
     "text": [
      "Simple feature collection with 1 feature and 3 fields\n",
      "Geometry type: POLYGON\n",
      "Dimension:     XY\n",
      "Bounding box:  xmin: -148.9514 ymin: 63.80699 xmax: -148.9514 ymax: 63.807\n",
      "Geodetic CRS:  GCS_unknown\n",
      "  CLASS_ID   CLASS_NAME AREA                       geometry\n",
      "8        4 Bisongulch30  673 POLYGON ((-148.9514 63.8069...\n"
     ]
    },
    {
     "name": "stderr",
     "output_type": "stream",
     "text": [
      "Saving 6.67 x 6.67 in image\n",
      "\n"
     ]
    },
    {
     "name": "stdout",
     "output_type": "stream",
     "text": [
      "Simple feature collection with 1 feature and 3 fields\n",
      "Geometry type: POLYGON\n",
      "Dimension:     XY\n",
      "Bounding box:  xmin: -148.9516 ymin: 63.80698 xmax: -148.9516 ymax: 63.80699\n",
      "Geodetic CRS:  GCS_unknown\n",
      "  CLASS_ID   CLASS_NAME AREA                       geometry\n",
      "9        5 Bisongulch40  674 POLYGON ((-148.9516 63.8069...\n"
     ]
    },
    {
     "name": "stderr",
     "output_type": "stream",
     "text": [
      "Saving 6.67 x 6.67 in image\n",
      "\n",
      "Saving 6.67 x 6.67 in image\n",
      "\n",
      "Saving 6.67 x 6.67 in image\n",
      "\n",
      "Saving 6.67 x 6.67 in image\n",
      "\n",
      "Saving 6.67 x 6.67 in image\n",
      "\n",
      "Saving 6.67 x 6.67 in image\n",
      "\n",
      "Saving 6.67 x 6.67 in image\n",
      "\n",
      "Saving 6.67 x 6.67 in image\n",
      "\n",
      "Saving 6.67 x 6.67 in image\n",
      "\n",
      "Saving 6.67 x 6.67 in image\n",
      "\n"
     ]
    },
    {
     "name": "stdout",
     "output_type": "stream",
     "text": [
      "[1] \"preprocessing raster at Data/Ground_Validation/Imagery/ChatanikaQuads.envi\"\n",
      "[1] \"Converted to Data frame?\"\n",
      "[1] TRUE\n",
      "[1] \"Noisy columns removed\"\n",
      "[1] TRUE\n",
      "[1] \"Filtered\"\n",
      "[1] TRUE\n"
     ]
    },
    {
     "name": "stderr",
     "output_type": "stream",
     "text": [
      "Using spline to predict value at new bands...\n",
      "\n",
      "Beware the spectra are now partially smoothed.\n",
      "\n"
     ]
    },
    {
     "name": "stdout",
     "output_type": "stream",
     "text": [
      "[1] \"Imputing...\"\n",
      "[1] \"Handling Outliers with method: none\"\n",
      "[1] \"Transforming the data with transform: none\"\n",
      "          x        y z\n",
      "1 -147.4827 65.15287 5\n",
      "2 -147.4827 65.15287 2\n",
      "3 -147.4827 65.15287 2\n",
      "4 -147.4827 65.15287 2\n",
      "5 -147.4827 65.15287 2\n",
      "6 -147.4827 65.15287 2\n",
      "          x        y z\n",
      "1 -147.4827 65.15287 5\n",
      "2 -147.4827 65.15287 2\n",
      "3 -147.4827 65.15287 2\n",
      "4 -147.4827 65.15287 2\n",
      "5 -147.4827 65.15287 2\n",
      "6 -147.4827 65.15287 2\n",
      "[1] \"Attempting to save to ./validation_saved_output.grd\"\n",
      "[1] \"Converted to Raster\"\n",
      "Reading layer `ChatanikaQuads_georeferenced' from data source \n",
      "  `/home/krbundy/GitHub/lecospec/Data/Vectors/ChatanikaQuads_georeferenced.shp' \n",
      "  using driver `ESRI Shapefile'\n",
      "Simple feature collection with 11 features and 3 fields\n",
      "Geometry type: POLYGON\n",
      "Dimension:     XY\n",
      "Bounding box:  xmin: -147.4827 ymin: 65.15281 xmax: -147.4806 ymax: 65.15287\n",
      "Geodetic CRS:  WGS 84\n",
      "Simple feature collection with 1 feature and 3 fields\n",
      "Geometry type: POLYGON\n",
      "Dimension:     XY\n",
      "Bounding box:  xmin: -147.4827 ymin: 65.15286 xmax: -147.4827 ymax: 65.15287\n",
      "Geodetic CRS:  GCS_unknown\n",
      "    CLASS_NAME CLASS_ID CLASS_CLRS                       geometry\n",
      "1 Chatanika100       11    0,0,128 POLYGON ((-147.4827 65.1528...\n"
     ]
    },
    {
     "name": "stderr",
     "output_type": "stream",
     "text": [
      "Saving 6.67 x 6.67 in image\n",
      "\n"
     ]
    },
    {
     "name": "stdout",
     "output_type": "stream",
     "text": [
      "Simple feature collection with 1 feature and 3 fields\n",
      "Geometry type: POLYGON\n",
      "Dimension:     XY\n",
      "Bounding box:  xmin: -147.4825 ymin: 65.15285 xmax: -147.4825 ymax: 65.15286\n",
      "Geodetic CRS:  GCS_unknown\n",
      "   CLASS_NAME CLASS_ID CLASS_CLRS                       geometry\n",
      "2 Chatanika90       10    0,255,0 POLYGON ((-147.4825 65.1528...\n"
     ]
    },
    {
     "name": "stderr",
     "output_type": "stream",
     "text": [
      "Saving 6.67 x 6.67 in image\n",
      "\n"
     ]
    },
    {
     "name": "stdout",
     "output_type": "stream",
     "text": [
      "Simple feature collection with 1 feature and 3 fields\n",
      "Geometry type: POLYGON\n",
      "Dimension:     XY\n",
      "Bounding box:  xmin: -147.4821 ymin: 65.15285 xmax: -147.4821 ymax: 65.15286\n",
      "Geodetic CRS:  GCS_unknown\n",
      "   CLASS_NAME CLASS_ID CLASS_CLRS                       geometry\n",
      "3 Chatanika70        8  0,128,128 POLYGON ((-147.4821 65.1528...\n"
     ]
    },
    {
     "name": "stderr",
     "output_type": "stream",
     "text": [
      "Saving 6.67 x 6.67 in image\n",
      "\n"
     ]
    },
    {
     "name": "stdout",
     "output_type": "stream",
     "text": [
      "Simple feature collection with 1 feature and 3 fields\n",
      "Geometry type: POLYGON\n",
      "Dimension:     XY\n",
      "Bounding box:  xmin: -147.4823 ymin: 65.15285 xmax: -147.4823 ymax: 65.15286\n",
      "Geodetic CRS:  GCS_unknown\n",
      "   CLASS_NAME CLASS_ID CLASS_CLRS                       geometry\n",
      "4 Chatanika80        9    128,0,0 POLYGON ((-147.4823 65.1528...\n"
     ]
    },
    {
     "name": "stderr",
     "output_type": "stream",
     "text": [
      "Saving 6.67 x 6.67 in image\n",
      "\n"
     ]
    },
    {
     "name": "stdout",
     "output_type": "stream",
     "text": [
      "Simple feature collection with 1 feature and 3 fields\n",
      "Geometry type: POLYGON\n",
      "Dimension:     XY\n",
      "Bounding box:  xmin: -147.4819 ymin: 65.15285 xmax: -147.4819 ymax: 65.15286\n",
      "Geodetic CRS:  GCS_unknown\n",
      "   CLASS_NAME CLASS_ID CLASS_CLRS                       geometry\n",
      "5 Chatanika60        7  128,128,0 POLYGON ((-147.4819 65.1528...\n"
     ]
    },
    {
     "name": "stderr",
     "output_type": "stream",
     "text": [
      "Saving 6.67 x 6.67 in image\n",
      "\n"
     ]
    },
    {
     "name": "stdout",
     "output_type": "stream",
     "text": [
      "Simple feature collection with 1 feature and 3 fields\n",
      "Geometry type: POLYGON\n",
      "Dimension:     XY\n",
      "Bounding box:  xmin: -147.4817 ymin: 65.15284 xmax: -147.4816 ymax: 65.15285\n",
      "Geodetic CRS:  GCS_unknown\n",
      "   CLASS_NAME CLASS_ID CLASS_CLRS                       geometry\n",
      "6 Chatanika50        6  255,0,255 POLYGON ((-147.4816 65.1528...\n"
     ]
    },
    {
     "name": "stderr",
     "output_type": "stream",
     "text": [
      "Saving 6.67 x 6.67 in image\n",
      "\n"
     ]
    },
    {
     "name": "stdout",
     "output_type": "stream",
     "text": [
      "Simple feature collection with 1 feature and 3 fields\n",
      "Geometry type: POLYGON\n",
      "Dimension:     XY\n",
      "Bounding box:  xmin: -147.4815 ymin: 65.15283 xmax: -147.4814 ymax: 65.15284\n",
      "Geodetic CRS:  GCS_unknown\n",
      "   CLASS_NAME CLASS_ID CLASS_CLRS                       geometry\n",
      "7 Chatanika40        5  0,255,255 POLYGON ((-147.4814 65.1528...\n"
     ]
    },
    {
     "name": "stderr",
     "output_type": "stream",
     "text": [
      "Saving 6.67 x 6.67 in image\n",
      "\n"
     ]
    },
    {
     "name": "stdout",
     "output_type": "stream",
     "text": [
      "Simple feature collection with 1 feature and 3 fields\n",
      "Geometry type: POLYGON\n",
      "Dimension:     XY\n",
      "Bounding box:  xmin: -147.4812 ymin: 65.15282 xmax: -147.4812 ymax: 65.15283\n",
      "Geodetic CRS:  GCS_unknown\n",
      "   CLASS_NAME CLASS_ID CLASS_CLRS                       geometry\n",
      "8 Chatanika30        4  255,255,0 POLYGON ((-147.4812 65.1528...\n"
     ]
    },
    {
     "name": "stderr",
     "output_type": "stream",
     "text": [
      "Saving 6.67 x 6.67 in image\n",
      "\n"
     ]
    },
    {
     "name": "stdout",
     "output_type": "stream",
     "text": [
      "Simple feature collection with 1 feature and 3 fields\n",
      "Geometry type: POLYGON\n",
      "Dimension:     XY\n",
      "Bounding box:  xmin: -147.481 ymin: 65.15281 xmax: -147.481 ymax: 65.15282\n",
      "Geodetic CRS:  GCS_unknown\n",
      "   CLASS_NAME CLASS_ID CLASS_CLRS                       geometry\n",
      "9 Chatanika20        3    0,0,255 POLYGON ((-147.481 65.15282...\n"
     ]
    },
    {
     "name": "stderr",
     "output_type": "stream",
     "text": [
      "Saving 6.67 x 6.67 in image\n",
      "\n"
     ]
    },
    {
     "name": "stdout",
     "output_type": "stream",
     "text": [
      "Simple feature collection with 1 feature and 3 fields\n",
      "Geometry type: POLYGON\n",
      "Dimension:     XY\n",
      "Bounding box:  xmin: -147.4808 ymin: 65.15281 xmax: -147.4808 ymax: 65.15282\n",
      "Geodetic CRS:  GCS_unknown\n",
      "    CLASS_NAME CLASS_ID CLASS_CLRS                       geometry\n",
      "10 Chatanika10        2    0,128,0 POLYGON ((-147.4808 65.1528...\n"
     ]
    },
    {
     "name": "stderr",
     "output_type": "stream",
     "text": [
      "Saving 6.67 x 6.67 in image\n",
      "\n"
     ]
    },
    {
     "name": "stdout",
     "output_type": "stream",
     "text": [
      "Simple feature collection with 1 feature and 3 fields\n",
      "Geometry type: POLYGON\n",
      "Dimension:     XY\n",
      "Bounding box:  xmin: -147.4806 ymin: 65.15281 xmax: -147.4806 ymax: 65.15281\n",
      "Geodetic CRS:  GCS_unknown\n",
      "   CLASS_NAME CLASS_ID CLASS_CLRS                       geometry\n",
      "11 Chatanika0        1    255,0,0 POLYGON ((-147.4806 65.1528...\n"
     ]
    },
    {
     "name": "stderr",
     "output_type": "stream",
     "text": [
      "Saving 6.67 x 6.67 in image\n",
      "\n",
      "Saving 6.67 x 6.67 in image\n",
      "\n",
      "Saving 6.67 x 6.67 in image\n",
      "\n",
      "Saving 6.67 x 6.67 in image\n",
      "\n",
      "Saving 6.67 x 6.67 in image\n",
      "\n",
      "Saving 6.67 x 6.67 in image\n",
      "\n",
      "Saving 6.67 x 6.67 in image\n",
      "\n",
      "Saving 6.67 x 6.67 in image\n",
      "\n",
      "Saving 6.67 x 6.67 in image\n",
      "\n",
      "Saving 6.67 x 6.67 in image\n",
      "\n",
      "Saving 6.67 x 6.67 in image\n",
      "\n",
      "Saving 6.67 x 6.67 in image\n",
      "\n"
     ]
    },
    {
     "name": "stdout",
     "output_type": "stream",
     "text": [
      "[1] \"preprocessing raster at Data/Ground_Validation/Imagery/TwelveMileGulchQuads1.envi\"\n",
      "[1] \"Converted to Data frame?\"\n",
      "[1] TRUE\n",
      "[1] \"Noisy columns removed\"\n",
      "[1] TRUE\n",
      "[1] \"Filtered\"\n",
      "[1] TRUE\n"
     ]
    },
    {
     "name": "stderr",
     "output_type": "stream",
     "text": [
      "Using spline to predict value at new bands...\n",
      "\n",
      "Beware the spectra are now partially smoothed.\n",
      "\n"
     ]
    },
    {
     "name": "stdout",
     "output_type": "stream",
     "text": [
      "[1] \"Imputing...\"\n",
      "[1] \"Handling Outliers with method: none\"\n",
      "[1] \"Transforming the data with transform: none\"\n",
      "         x        y z\n",
      "1 -145.979 65.40191 3\n",
      "2 -145.979 65.40191 3\n",
      "3 -145.979 65.40191 3\n",
      "4 -145.979 65.40191 5\n",
      "5 -145.979 65.40191 3\n",
      "6 -145.979 65.40191 5\n",
      "         x        y z\n",
      "1 -145.979 65.40191 3\n",
      "2 -145.979 65.40191 3\n",
      "3 -145.979 65.40191 3\n",
      "4 -145.979 65.40191 5\n",
      "5 -145.979 65.40191 3\n",
      "6 -145.979 65.40191 5\n",
      "[1] \"Attempting to save to ./validation_saved_output.grd\"\n",
      "[1] \"Converted to Raster\"\n",
      "Reading layer `TwelveMileQ0_10_20_30_40m' from data source \n",
      "  `/home/krbundy/GitHub/lecospec/Data/Vectors/TwelveMileQ0_10_20_30_40m.shp' \n",
      "  using driver `ESRI Shapefile'\n",
      "Simple feature collection with 5 features and 3 fields\n",
      "Geometry type: POLYGON\n",
      "Dimension:     XY\n",
      "Bounding box:  xmin: -145.979 ymin: 65.4018 xmax: -145.9782 ymax: 65.40191\n",
      "Geodetic CRS:  WGS 84\n",
      "Simple feature collection with 1 feature and 3 fields\n",
      "Geometry type: POLYGON\n",
      "Dimension:     XY\n",
      "Bounding box:  xmin: -145.979 ymin: 65.4019 xmax: -145.979 ymax: 65.40191\n",
      "Geodetic CRS:  GCS_unknown\n",
      "  CLASS_ID   CLASS_NAME AREA                       geometry\n",
      "1        4 Twelvemile40  288 POLYGON ((-145.979 65.4019,...\n"
     ]
    },
    {
     "name": "stderr",
     "output_type": "stream",
     "text": [
      "Saving 6.67 x 6.67 in image\n",
      "\n"
     ]
    },
    {
     "name": "stdout",
     "output_type": "stream",
     "text": [
      "Simple feature collection with 1 feature and 3 fields\n",
      "Geometry type: POLYGON\n",
      "Dimension:     XY\n",
      "Bounding box:  xmin: -145.9788 ymin: 65.40187 xmax: -145.9788 ymax: 65.40188\n",
      "Geodetic CRS:  GCS_unknown\n",
      "  CLASS_ID   CLASS_NAME AREA                       geometry\n",
      "2        1 Twelvemile30  281 POLYGON ((-145.9788 65.4018...\n"
     ]
    },
    {
     "name": "stderr",
     "output_type": "stream",
     "text": [
      "Saving 6.67 x 6.67 in image\n",
      "\n"
     ]
    },
    {
     "name": "stdout",
     "output_type": "stream",
     "text": [
      "Simple feature collection with 1 feature and 3 fields\n",
      "Geometry type: POLYGON\n",
      "Dimension:     XY\n",
      "Bounding box:  xmin: -145.9786 ymin: 65.40185 xmax: -145.9786 ymax: 65.40186\n",
      "Geodetic CRS:  GCS_unknown\n",
      "  CLASS_ID   CLASS_NAME AREA                       geometry\n",
      "3        2 Twelvemile20  328 POLYGON ((-145.9786 65.4018...\n"
     ]
    },
    {
     "name": "stderr",
     "output_type": "stream",
     "text": [
      "Saving 6.67 x 6.67 in image\n",
      "\n"
     ]
    },
    {
     "name": "stdout",
     "output_type": "stream",
     "text": [
      "Simple feature collection with 1 feature and 3 fields\n",
      "Geometry type: POLYGON\n",
      "Dimension:     XY\n",
      "Bounding box:  xmin: -145.9784 ymin: 65.40183 xmax: -145.9784 ymax: 65.40184\n",
      "Geodetic CRS:  GCS_unknown\n",
      "  CLASS_ID   CLASS_NAME AREA                       geometry\n",
      "4        3 Twelvemile10  308 POLYGON ((-145.9784 65.4018...\n"
     ]
    },
    {
     "name": "stderr",
     "output_type": "stream",
     "text": [
      "Saving 6.67 x 6.67 in image\n",
      "\n"
     ]
    },
    {
     "name": "stdout",
     "output_type": "stream",
     "text": [
      "Simple feature collection with 1 feature and 3 fields\n",
      "Geometry type: POLYGON\n",
      "Dimension:     XY\n",
      "Bounding box:  xmin: -145.9782 ymin: 65.4018 xmax: -145.9782 ymax: 65.40181\n",
      "Geodetic CRS:  GCS_unknown\n",
      "  CLASS_ID  CLASS_NAME AREA                       geometry\n",
      "5        5 Twelvemile0  336 POLYGON ((-145.9782 65.4018...\n"
     ]
    },
    {
     "name": "stderr",
     "output_type": "stream",
     "text": [
      "Saving 6.67 x 6.67 in image\n",
      "\n",
      "Saving 6.67 x 6.67 in image\n",
      "\n",
      "Saving 6.67 x 6.67 in image\n",
      "\n",
      "Saving 6.67 x 6.67 in image\n",
      "\n",
      "Saving 6.67 x 6.67 in image\n",
      "\n",
      "Saving 6.67 x 6.67 in image\n",
      "\n"
     ]
    },
    {
     "name": "stdout",
     "output_type": "stream",
     "text": [
      "[1] \"preprocessing raster at Data/Ground_Validation/Imagery/TwelveMileGulchQuads2.envi\"\n",
      "[1] \"Converted to Data frame?\"\n",
      "[1] TRUE\n",
      "[1] \"Noisy columns removed\"\n",
      "[1] TRUE\n",
      "[1] \"Filtered\"\n",
      "[1] TRUE\n"
     ]
    },
    {
     "name": "stderr",
     "output_type": "stream",
     "text": [
      "Using spline to predict value at new bands...\n",
      "\n",
      "Beware the spectra are now partially smoothed.\n",
      "\n"
     ]
    },
    {
     "name": "stdout",
     "output_type": "stream",
     "text": [
      "[1] \"Imputing...\"\n",
      "[1] \"Handling Outliers with method: none\"\n",
      "[1] \"Transforming the data with transform: none\"\n",
      "          x        y z\n",
      "1 -145.9802 65.40203 3\n",
      "2 -145.9802 65.40203 3\n",
      "3 -145.9802 65.40203 3\n",
      "4 -145.9802 65.40203 3\n",
      "5 -145.9802 65.40203 3\n",
      "6 -145.9802 65.40203 3\n",
      "          x        y z\n",
      "1 -145.9802 65.40203 3\n",
      "2 -145.9802 65.40203 3\n",
      "3 -145.9802 65.40203 3\n",
      "4 -145.9802 65.40203 3\n",
      "5 -145.9802 65.40203 3\n",
      "6 -145.9802 65.40203 3\n",
      "[1] \"Attempting to save to ./validation_saved_output.grd\"\n",
      "[1] \"Converted to Raster\"\n",
      "Reading layer `TwelveMileQ70_80_90_100m' from data source \n",
      "  `/home/krbundy/GitHub/lecospec/Data/Vectors/TwelveMileQ70_80_90_100m.shp' \n",
      "  using driver `ESRI Shapefile'\n",
      "Simple feature collection with 4 features and 3 fields\n",
      "Geometry type: POLYGON\n",
      "Dimension:     XY\n",
      "Bounding box:  xmin: -145.9802 ymin: 65.40196 xmax: -145.9796 ymax: 65.40203\n",
      "Geodetic CRS:  WGS 84\n",
      "Simple feature collection with 1 feature and 3 fields\n",
      "Geometry type: POLYGON\n",
      "Dimension:     XY\n",
      "Bounding box:  xmin: -145.9802 ymin: 65.40202 xmax: -145.9802 ymax: 65.40203\n",
      "Geodetic CRS:  GCS_unknown\n",
      "  CLASS_ID    CLASS_NAME AREA                       geometry\n",
      "1        4 Twelvemile100  492 POLYGON ((-145.9802 65.4020...\n"
     ]
    },
    {
     "name": "stderr",
     "output_type": "stream",
     "text": [
      "Saving 6.67 x 6.67 in image\n",
      "\n"
     ]
    },
    {
     "name": "stdout",
     "output_type": "stream",
     "text": [
      "Simple feature collection with 1 feature and 3 fields\n",
      "Geometry type: POLYGON\n",
      "Dimension:     XY\n",
      "Bounding box:  xmin: -145.98 ymin: 65.402 xmax: -145.98 ymax: 65.40201\n",
      "Geodetic CRS:  GCS_unknown\n",
      "  CLASS_ID   CLASS_NAME AREA                       geometry\n",
      "2        3 Twelvemile90  473 POLYGON ((-145.98 65.402, -...\n"
     ]
    },
    {
     "name": "stderr",
     "output_type": "stream",
     "text": [
      "Saving 6.67 x 6.67 in image\n",
      "\n"
     ]
    },
    {
     "name": "stdout",
     "output_type": "stream",
     "text": [
      "Simple feature collection with 1 feature and 3 fields\n",
      "Geometry type: POLYGON\n",
      "Dimension:     XY\n",
      "Bounding box:  xmin: -145.9798 ymin: 65.40198 xmax: -145.9798 ymax: 65.40199\n",
      "Geodetic CRS:  GCS_unknown\n",
      "  CLASS_ID   CLASS_NAME AREA                       geometry\n",
      "3        2 Twelvemile80  631 POLYGON ((-145.9798 65.4019...\n"
     ]
    },
    {
     "name": "stderr",
     "output_type": "stream",
     "text": [
      "Saving 6.67 x 6.67 in image\n",
      "\n"
     ]
    },
    {
     "name": "stdout",
     "output_type": "stream",
     "text": [
      "Simple feature collection with 1 feature and 3 fields\n",
      "Geometry type: POLYGON\n",
      "Dimension:     XY\n",
      "Bounding box:  xmin: -145.9796 ymin: 65.40196 xmax: -145.9796 ymax: 65.40197\n",
      "Geodetic CRS:  GCS_unknown\n",
      "  CLASS_ID   CLASS_NAME AREA                       geometry\n",
      "4        1 Twelvemile70  518 POLYGON ((-145.9796 65.4019...\n"
     ]
    },
    {
     "name": "stderr",
     "output_type": "stream",
     "text": [
      "Saving 6.67 x 6.67 in image\n",
      "\n",
      "Saving 6.67 x 6.67 in image\n",
      "\n",
      "Saving 6.67 x 6.67 in image\n",
      "\n",
      "Saving 6.67 x 6.67 in image\n",
      "\n",
      "Saving 6.67 x 6.67 in image\n",
      "\n"
     ]
    },
    {
     "name": "stdout",
     "output_type": "stream",
     "text": [
      "[1] \"preprocessing raster at Data/Ground_Validation/Imagery/EightMileQuads.envi\"\n",
      "[1] \"Converted to Data frame?\"\n",
      "[1] TRUE\n",
      "[1] \"Noisy columns removed\"\n",
      "[1] TRUE\n",
      "[1] \"Filtered\"\n",
      "[1] TRUE\n"
     ]
    },
    {
     "name": "stderr",
     "output_type": "stream",
     "text": [
      "Using spline to predict value at new bands...\n",
      "\n",
      "Beware the spectra are now partially smoothed.\n",
      "\n"
     ]
    },
    {
     "name": "stdout",
     "output_type": "stream",
     "text": [
      "[1] \"Imputing...\"\n",
      "[1] \"Handling Outliers with method: none\"\n",
      "[1] \"Transforming the data with transform: none\"\n",
      "          x        y z\n",
      "1 -149.2529 63.87686 3\n",
      "2 -149.2529 63.87686 3\n",
      "3 -149.2529 63.87686 3\n",
      "4 -149.2529 63.87686 3\n",
      "5 -149.2529 63.87686 3\n",
      "6 -149.2529 63.87686 3\n",
      "          x        y z\n",
      "1 -149.2529 63.87686 3\n",
      "2 -149.2529 63.87686 3\n",
      "3 -149.2529 63.87686 3\n",
      "4 -149.2529 63.87686 3\n",
      "5 -149.2529 63.87686 3\n",
      "6 -149.2529 63.87686 3\n",
      "[1] \"Attempting to save to ./validation_saved_output.grd\"\n",
      "[1] \"Converted to Raster\"\n",
      "Reading layer `EightMile_Quadrats_revised' from data source \n",
      "  `/home/krbundy/GitHub/lecospec/Data/Vectors/EightMile_Quadrats_revised.shp' \n",
      "  using driver `ESRI Shapefile'\n",
      "Simple feature collection with 11 features and 3 fields\n",
      "Geometry type: POLYGON\n",
      "Dimension:     XY\n",
      "Bounding box:  xmin: -149.2549 ymin: 63.87666 xmax: -149.2529 ymax: 63.87686\n",
      "Geodetic CRS:  WGS 84\n",
      "Simple feature collection with 1 feature and 3 fields\n",
      "Geometry type: POLYGON\n",
      "Dimension:     XY\n",
      "Bounding box:  xmin: -149.2547 ymin: 63.87667 xmax: -149.2546 ymax: 63.87669\n",
      "Geodetic CRS:  GCS_unknown\n",
      "   CLASS_NAME CLASS_ID CLASS_CLRS                       geometry\n",
      "1 Eightmile10        2    0,128,0 POLYGON ((-149.2547 63.8766...\n"
     ]
    },
    {
     "name": "stderr",
     "output_type": "stream",
     "text": [
      "Saving 6.67 x 6.67 in image\n",
      "\n"
     ]
    },
    {
     "name": "stdout",
     "output_type": "stream",
     "text": [
      "Simple feature collection with 1 feature and 3 fields\n",
      "Geometry type: POLYGON\n",
      "Dimension:     XY\n",
      "Bounding box:  xmin: -149.2549 ymin: 63.87666 xmax: -149.2548 ymax: 63.87667\n",
      "Geodetic CRS:  GCS_unknown\n",
      "  CLASS_NAME CLASS_ID CLASS_CLRS                       geometry\n",
      "2 Eightmile0        1    255,0,0 POLYGON ((-149.2548 63.8766...\n"
     ]
    },
    {
     "name": "stderr",
     "output_type": "stream",
     "text": [
      "Saving 6.67 x 6.67 in image\n",
      "\n"
     ]
    },
    {
     "name": "stdout",
     "output_type": "stream",
     "text": [
      "Simple feature collection with 1 feature and 3 fields\n",
      "Geometry type: POLYGON\n",
      "Dimension:     XY\n",
      "Bounding box:  xmin: -149.2537 ymin: 63.87675 xmax: -149.2537 ymax: 63.87677\n",
      "Geodetic CRS:  GCS_unknown\n",
      "   CLASS_NAME CLASS_ID CLASS_CLRS                       geometry\n",
      "3 Eightmile60        7  128,128,0 POLYGON ((-149.2537 63.8767...\n"
     ]
    },
    {
     "name": "stderr",
     "output_type": "stream",
     "text": [
      "Saving 6.67 x 6.67 in image\n",
      "\n"
     ]
    },
    {
     "name": "stdout",
     "output_type": "stream",
     "text": [
      "Simple feature collection with 1 feature and 3 fields\n",
      "Geometry type: POLYGON\n",
      "Dimension:     XY\n",
      "Bounding box:  xmin: -149.2539 ymin: 63.87673 xmax: -149.2539 ymax: 63.87674\n",
      "Geodetic CRS:  GCS_unknown\n",
      "   CLASS_NAME CLASS_ID CLASS_CLRS                       geometry\n",
      "4 Eightmile50        6  255,0,255 POLYGON ((-149.2539 63.8767...\n"
     ]
    },
    {
     "name": "stderr",
     "output_type": "stream",
     "text": [
      "Saving 6.67 x 6.67 in image\n",
      "\n"
     ]
    },
    {
     "name": "stdout",
     "output_type": "stream",
     "text": [
      "Simple feature collection with 1 feature and 3 fields\n",
      "Geometry type: POLYGON\n",
      "Dimension:     XY\n",
      "Bounding box:  xmin: -149.2541 ymin: 63.87672 xmax: -149.254 ymax: 63.87673\n",
      "Geodetic CRS:  GCS_unknown\n",
      "   CLASS_NAME CLASS_ID CLASS_CLRS                       geometry\n",
      "5 Eightmile40        5  0,255,255 POLYGON ((-149.254 63.87673...\n"
     ]
    },
    {
     "name": "stderr",
     "output_type": "stream",
     "text": [
      "Saving 6.67 x 6.67 in image\n",
      "\n"
     ]
    },
    {
     "name": "stdout",
     "output_type": "stream",
     "text": [
      "Simple feature collection with 1 feature and 3 fields\n",
      "Geometry type: POLYGON\n",
      "Dimension:     XY\n",
      "Bounding box:  xmin: -149.2543 ymin: 63.87671 xmax: -149.2542 ymax: 63.87672\n",
      "Geodetic CRS:  GCS_unknown\n",
      "   CLASS_NAME CLASS_ID CLASS_CLRS                       geometry\n",
      "6 Eightmile30        4  255,255,0 POLYGON ((-149.2542 63.8767...\n"
     ]
    },
    {
     "name": "stderr",
     "output_type": "stream",
     "text": [
      "Saving 6.67 x 6.67 in image\n",
      "\n"
     ]
    },
    {
     "name": "stdout",
     "output_type": "stream",
     "text": [
      "Simple feature collection with 1 feature and 3 fields\n",
      "Geometry type: POLYGON\n",
      "Dimension:     XY\n",
      "Bounding box:  xmin: -149.2545 ymin: 63.87669 xmax: -149.2544 ymax: 63.8767\n",
      "Geodetic CRS:  GCS_unknown\n",
      "   CLASS_NAME CLASS_ID CLASS_CLRS                       geometry\n",
      "7 Eightmile20        3    0,0,255 POLYGON ((-149.2544 63.8767...\n"
     ]
    },
    {
     "name": "stderr",
     "output_type": "stream",
     "text": [
      "Saving 6.67 x 6.67 in image\n",
      "\n"
     ]
    },
    {
     "name": "stdout",
     "output_type": "stream",
     "text": [
      "Simple feature collection with 1 feature and 3 fields\n",
      "Geometry type: POLYGON\n",
      "Dimension:     XY\n",
      "Bounding box:  xmin: -149.2529 ymin: 63.87685 xmax: -149.2529 ymax: 63.87686\n",
      "Geodetic CRS:  GCS_unknown\n",
      "    CLASS_NAME CLASS_ID CLASS_CLRS                       geometry\n",
      "8 Eightmile100       11    0,255,0 POLYGON ((-149.2529 63.8768...\n"
     ]
    },
    {
     "name": "stderr",
     "output_type": "stream",
     "text": [
      "Saving 6.67 x 6.67 in image\n",
      "\n"
     ]
    },
    {
     "name": "stdout",
     "output_type": "stream",
     "text": [
      "Simple feature collection with 1 feature and 3 fields\n",
      "Geometry type: POLYGON\n",
      "Dimension:     XY\n",
      "Bounding box:  xmin: -149.2531 ymin: 63.87682 xmax: -149.2531 ymax: 63.87684\n",
      "Geodetic CRS:  GCS_unknown\n",
      "   CLASS_NAME CLASS_ID CLASS_CLRS                       geometry\n",
      "9 Eightmile90       10    128,0,0 POLYGON ((-149.2531 63.8768...\n"
     ]
    },
    {
     "name": "stderr",
     "output_type": "stream",
     "text": [
      "Saving 6.67 x 6.67 in image\n",
      "\n"
     ]
    },
    {
     "name": "stdout",
     "output_type": "stream",
     "text": [
      "Simple feature collection with 1 feature and 3 fields\n",
      "Geometry type: POLYGON\n",
      "Dimension:     XY\n",
      "Bounding box:  xmin: -149.2533 ymin: 63.8768 xmax: -149.2533 ymax: 63.87681\n",
      "Geodetic CRS:  GCS_unknown\n",
      "    CLASS_NAME CLASS_ID CLASS_CLRS                       geometry\n",
      "10 Eightmile80        9  255,255,0 POLYGON ((-149.2533 63.8768...\n"
     ]
    },
    {
     "name": "stderr",
     "output_type": "stream",
     "text": [
      "Saving 6.67 x 6.67 in image\n",
      "\n"
     ]
    },
    {
     "name": "stdout",
     "output_type": "stream",
     "text": [
      "Simple feature collection with 1 feature and 3 fields\n",
      "Geometry type: POLYGON\n",
      "Dimension:     XY\n",
      "Bounding box:  xmin: -149.2535 ymin: 63.87678 xmax: -149.2535 ymax: 63.87679\n",
      "Geodetic CRS:  GCS_unknown\n",
      "    CLASS_NAME CLASS_ID CLASS_CLRS                       geometry\n",
      "11 Eightmile70        8  0,128,128 POLYGON ((-149.2535 63.8767...\n"
     ]
    },
    {
     "name": "stderr",
     "output_type": "stream",
     "text": [
      "Saving 6.67 x 6.67 in image\n",
      "\n",
      "Saving 6.67 x 6.67 in image\n",
      "\n",
      "Saving 6.67 x 6.67 in image\n",
      "\n",
      "Saving 6.67 x 6.67 in image\n",
      "\n",
      "Saving 6.67 x 6.67 in image\n",
      "\n",
      "Saving 6.67 x 6.67 in image\n",
      "\n",
      "Saving 6.67 x 6.67 in image\n",
      "\n",
      "Saving 6.67 x 6.67 in image\n",
      "\n",
      "Saving 6.67 x 6.67 in image\n",
      "\n",
      "Saving 6.67 x 6.67 in image\n",
      "\n",
      "Saving 6.67 x 6.67 in image\n",
      "\n",
      "Saving 6.67 x 6.67 in image\n",
      "\n"
     ]
    },
    {
     "name": "stdout",
     "output_type": "stream",
     "text": [
      "[1] \"preprocessing raster at Data/Ground_Validation/Imagery/MurphDomeQuads0_10.envi\"\n",
      "[1] \"Converted to Data frame?\"\n",
      "[1] TRUE\n",
      "[1] \"Noisy columns removed\"\n",
      "[1] TRUE\n",
      "[1] \"Filtered\"\n",
      "[1] TRUE\n"
     ]
    },
    {
     "name": "stderr",
     "output_type": "stream",
     "text": [
      "Using spline to predict value at new bands...\n",
      "\n",
      "Beware the spectra are now partially smoothed.\n",
      "\n"
     ]
    },
    {
     "name": "stdout",
     "output_type": "stream",
     "text": [
      "[1] \"Imputing...\"\n",
      "[1] \"Handling Outliers with method: none\"\n",
      "[1] \"Transforming the data with transform: none\"\n",
      "          x       y z\n",
      "1 -148.3535 64.9538 2\n",
      "2 -148.3535 64.9538 1\n",
      "3 -148.3535 64.9538 2\n",
      "4 -148.3535 64.9538 3\n",
      "5 -148.3535 64.9538 2\n",
      "6 -148.3535 64.9538 1\n",
      "          x       y z\n",
      "1 -148.3535 64.9538 2\n",
      "2 -148.3535 64.9538 1\n",
      "3 -148.3535 64.9538 2\n",
      "4 -148.3535 64.9538 3\n",
      "5 -148.3535 64.9538 2\n",
      "6 -148.3535 64.9538 1\n",
      "[1] \"Attempting to save to ./validation_saved_output.grd\"\n",
      "[1] \"Converted to Raster\"\n",
      "Reading layer `MurphyQuads0_10m' from data source \n",
      "  `/home/krbundy/GitHub/lecospec/Data/Vectors/MurphyQuads0_10m.shp' \n",
      "  using driver `ESRI Shapefile'\n",
      "Simple feature collection with 2 features and 3 fields\n",
      "Geometry type: POLYGON\n",
      "Dimension:     XY\n",
      "Bounding box:  xmin: -148.3535 ymin: 64.95372 xmax: -148.3533 ymax: 64.9538\n",
      "Geodetic CRS:  WGS 84\n",
      "Simple feature collection with 1 feature and 3 fields\n",
      "Geometry type: POLYGON\n",
      "Dimension:     XY\n",
      "Bounding box:  xmin: -148.3535 ymin: 64.95379 xmax: -148.3535 ymax: 64.9538\n",
      "Geodetic CRS:  GCS_unknown\n",
      "    CLASS_NAME CLASS_ID CLASS_CLRS                       geometry\n",
      "1 Murphydome10        1    0,0,255 POLYGON ((-148.3535 64.9538...\n"
     ]
    },
    {
     "name": "stderr",
     "output_type": "stream",
     "text": [
      "Saving 6.67 x 6.67 in image\n",
      "\n"
     ]
    },
    {
     "name": "stdout",
     "output_type": "stream",
     "text": [
      "Simple feature collection with 1 feature and 3 fields\n",
      "Geometry type: POLYGON\n",
      "Dimension:     XY\n",
      "Bounding box:  xmin: -148.3534 ymin: 64.95372 xmax: -148.3533 ymax: 64.95373\n",
      "Geodetic CRS:  GCS_unknown\n",
      "   CLASS_NAME CLASS_ID CLASS_CLRS                       geometry\n",
      "2 Murphydome0        2    0,128,0 POLYGON ((-148.3534 64.9537...\n"
     ]
    },
    {
     "name": "stderr",
     "output_type": "stream",
     "text": [
      "Saving 6.67 x 6.67 in image\n",
      "\n",
      "Saving 6.67 x 6.67 in image\n",
      "\n",
      "Saving 6.67 x 6.67 in image\n",
      "\n"
     ]
    },
    {
     "name": "stdout",
     "output_type": "stream",
     "text": [
      "[1] \"preprocessing raster at Data/Ground_Validation/Imagery/MurphDomeQuads20_50.envi\"\n",
      "[1] \"Converted to Data frame?\"\n",
      "[1] TRUE\n",
      "[1] \"Noisy columns removed\"\n",
      "[1] TRUE\n",
      "[1] \"Filtered\"\n",
      "[1] TRUE\n"
     ]
    },
    {
     "name": "stderr",
     "output_type": "stream",
     "text": [
      "Using spline to predict value at new bands...\n",
      "\n",
      "Beware the spectra are now partially smoothed.\n",
      "\n"
     ]
    },
    {
     "name": "stdout",
     "output_type": "stream",
     "text": [
      "[1] \"Imputing...\"\n",
      "[1] \"Handling Outliers with method: none\"\n",
      "[1] \"Transforming the data with transform: none\"\n",
      "          x        y z\n",
      "1 -148.3540 64.95407 3\n",
      "2 -148.3541 64.95407 2\n",
      "3 -148.3540 64.95407 3\n",
      "4 -148.3540 64.95407 1\n",
      "5 -148.3541 64.95407 2\n",
      "6 -148.3541 64.95407 2\n",
      "          x        y z\n",
      "1 -148.3540 64.95407 3\n",
      "2 -148.3541 64.95407 2\n",
      "3 -148.3540 64.95407 3\n",
      "4 -148.3540 64.95407 1\n",
      "5 -148.3541 64.95407 2\n",
      "6 -148.3541 64.95407 2\n",
      "[1] \"Attempting to save to ./validation_saved_output.grd\"\n",
      "[1] \"Converted to Raster\"\n",
      "Reading layer `MurphyQuads20_50m' from data source \n",
      "  `/home/krbundy/GitHub/lecospec/Data/Vectors/MurphyQuads20_50m.shp' \n",
      "  using driver `ESRI Shapefile'\n",
      "Simple feature collection with 4 features and 3 fields\n",
      "Geometry type: POLYGON\n",
      "Dimension:     XY\n",
      "Bounding box:  xmin: -148.3541 ymin: 64.95384 xmax: -148.3536 ymax: 64.95407\n",
      "Geodetic CRS:  WGS 84\n",
      "Simple feature collection with 1 feature and 3 fields\n",
      "Geometry type: POLYGON\n",
      "Dimension:     XY\n",
      "Bounding box:  xmin: -148.3541 ymin: 64.95406 xmax: -148.354 ymax: 64.95407\n",
      "Geodetic CRS:  GCS_unknown\n",
      "    CLASS_NAME CLASS_ID CLASS_CLRS                       geometry\n",
      "1 Murphydome50        1  128,128,0 POLYGON ((-148.354 64.95407...\n"
     ]
    },
    {
     "name": "stderr",
     "output_type": "stream",
     "text": [
      "Saving 6.67 x 6.67 in image\n",
      "\n"
     ]
    },
    {
     "name": "stdout",
     "output_type": "stream",
     "text": [
      "Simple feature collection with 1 feature and 3 fields\n",
      "Geometry type: POLYGON\n",
      "Dimension:     XY\n",
      "Bounding box:  xmin: -148.3539 ymin: 64.95399 xmax: -148.3539 ymax: 64.954\n",
      "Geodetic CRS:  GCS_unknown\n",
      "    CLASS_NAME CLASS_ID CLASS_CLRS                       geometry\n",
      "2 Murphydome40        2  255,0,255 POLYGON ((-148.3539 64.954,...\n"
     ]
    },
    {
     "name": "stderr",
     "output_type": "stream",
     "text": [
      "Saving 6.67 x 6.67 in image\n",
      "\n"
     ]
    },
    {
     "name": "stdout",
     "output_type": "stream",
     "text": [
      "Simple feature collection with 1 feature and 3 fields\n",
      "Geometry type: POLYGON\n",
      "Dimension:     XY\n",
      "Bounding box:  xmin: -148.3538 ymin: 64.95392 xmax: -148.3537 ymax: 64.95393\n",
      "Geodetic CRS:  GCS_unknown\n",
      "    CLASS_NAME CLASS_ID CLASS_CLRS                       geometry\n",
      "3 Murphydome30        3  0,255,255 POLYGON ((-148.3538 64.9539...\n"
     ]
    },
    {
     "name": "stderr",
     "output_type": "stream",
     "text": [
      "Saving 6.67 x 6.67 in image\n",
      "\n"
     ]
    },
    {
     "name": "stdout",
     "output_type": "stream",
     "text": [
      "Simple feature collection with 1 feature and 3 fields\n",
      "Geometry type: POLYGON\n",
      "Dimension:     XY\n",
      "Bounding box:  xmin: -148.3537 ymin: 64.95384 xmax: -148.3536 ymax: 64.95386\n",
      "Geodetic CRS:  GCS_unknown\n",
      "    CLASS_NAME CLASS_ID CLASS_CLRS                       geometry\n",
      "4 Murphydome20        4  255,255,0 POLYGON ((-148.3536 64.9538...\n"
     ]
    },
    {
     "name": "stderr",
     "output_type": "stream",
     "text": [
      "Saving 6.67 x 6.67 in image\n",
      "\n",
      "Saving 6.67 x 6.67 in image\n",
      "\n",
      "Saving 6.67 x 6.67 in image\n",
      "\n",
      "Saving 6.67 x 6.67 in image\n",
      "\n",
      "Saving 6.67 x 6.67 in image\n",
      "\n"
     ]
    },
    {
     "name": "stdout",
     "output_type": "stream",
     "text": [
      "[1] \"preprocessing raster at Data/Ground_Validation/Imagery/MurphDomeQuads60_100.envi\"\n",
      "[1] \"Converted to Data frame?\"\n",
      "[1] TRUE\n",
      "[1] \"Noisy columns removed\"\n",
      "[1] TRUE\n",
      "[1] \"Filtered\"\n",
      "[1] TRUE\n"
     ]
    },
    {
     "name": "stderr",
     "output_type": "stream",
     "text": [
      "Using spline to predict value at new bands...\n",
      "\n",
      "Beware the spectra are now partially smoothed.\n",
      "\n"
     ]
    },
    {
     "name": "stdout",
     "output_type": "stream",
     "text": [
      "[1] \"Imputing...\"\n",
      "[1] \"Handling Outliers with method: none\"\n",
      "[1] \"Transforming the data with transform: none\"\n",
      "          x        y z\n",
      "1 -148.3548 64.95441 3\n",
      "2 -148.3548 64.95441 6\n",
      "3 -148.3548 64.95441 3\n",
      "4 -148.3548 64.95441 1\n",
      "5 -148.3548 64.95441 3\n",
      "6 -148.3548 64.95441 3\n",
      "          x        y z\n",
      "1 -148.3548 64.95441 3\n",
      "2 -148.3548 64.95441 6\n",
      "3 -148.3548 64.95441 3\n",
      "4 -148.3548 64.95441 1\n",
      "5 -148.3548 64.95441 3\n",
      "6 -148.3548 64.95441 3\n",
      "[1] \"Attempting to save to ./validation_saved_output.grd\"\n",
      "[1] \"Converted to Raster\"\n",
      "Reading layer `MurphyQuads60_100m' from data source \n",
      "  `/home/krbundy/GitHub/lecospec/Data/Vectors/MurphyQuads60_100m.shp' \n",
      "  using driver `ESRI Shapefile'\n",
      "Simple feature collection with 5 features and 3 fields\n",
      "Geometry type: POLYGON\n",
      "Dimension:     XY\n",
      "Bounding box:  xmin: -148.3548 ymin: 64.95413 xmax: -148.3542 ymax: 64.95441\n",
      "Geodetic CRS:  WGS 84\n",
      "Simple feature collection with 1 feature and 3 fields\n",
      "Geometry type: POLYGON\n",
      "Dimension:     XY\n",
      "Bounding box:  xmin: -148.3548 ymin: 64.9544 xmax: -148.3547 ymax: 64.95441\n",
      "Geodetic CRS:  GCS_unknown\n",
      "     CLASS_NAME CLASS_ID CLASS_CLRS                       geometry\n",
      "1 Murphydome100        1 255,127,80 POLYGON ((-148.3548 64.9544...\n"
     ]
    },
    {
     "name": "stderr",
     "output_type": "stream",
     "text": [
      "Saving 6.67 x 6.67 in image\n",
      "\n"
     ]
    },
    {
     "name": "stdout",
     "output_type": "stream",
     "text": [
      "Simple feature collection with 1 feature and 3 fields\n",
      "Geometry type: POLYGON\n",
      "Dimension:     XY\n",
      "Bounding box:  xmin: -148.3546 ymin: 64.95433 xmax: -148.3546 ymax: 64.95434\n",
      "Geodetic CRS:  GCS_unknown\n",
      "    CLASS_NAME CLASS_ID CLASS_CLRS                       geometry\n",
      "2 Murphydome90        2    0,0,128 POLYGON ((-148.3546 64.9543...\n"
     ]
    },
    {
     "name": "stderr",
     "output_type": "stream",
     "text": [
      "Saving 6.67 x 6.67 in image\n",
      "\n"
     ]
    },
    {
     "name": "stdout",
     "output_type": "stream",
     "text": [
      "Simple feature collection with 1 feature and 3 fields\n",
      "Geometry type: POLYGON\n",
      "Dimension:     XY\n",
      "Bounding box:  xmin: -148.3545 ymin: 64.95426 xmax: -148.3544 ymax: 64.95427\n",
      "Geodetic CRS:  GCS_unknown\n",
      "    CLASS_NAME CLASS_ID CLASS_CLRS                       geometry\n",
      "3 Murphydome80        3    0,255,0 POLYGON ((-148.3545 64.9542...\n"
     ]
    },
    {
     "name": "stderr",
     "output_type": "stream",
     "text": [
      "Saving 6.67 x 6.67 in image\n",
      "\n"
     ]
    },
    {
     "name": "stdout",
     "output_type": "stream",
     "text": [
      "Simple feature collection with 1 feature and 3 fields\n",
      "Geometry type: POLYGON\n",
      "Dimension:     XY\n",
      "Bounding box:  xmin: -148.3543 ymin: 64.95419 xmax: -148.3543 ymax: 64.9542\n",
      "Geodetic CRS:  GCS_unknown\n",
      "    CLASS_NAME CLASS_ID CLASS_CLRS                       geometry\n",
      "4 Murphydome70        4    128,0,0 POLYGON ((-148.3543 64.9542...\n"
     ]
    },
    {
     "name": "stderr",
     "output_type": "stream",
     "text": [
      "Saving 6.67 x 6.67 in image\n",
      "\n"
     ]
    },
    {
     "name": "stdout",
     "output_type": "stream",
     "text": [
      "Simple feature collection with 1 feature and 3 fields\n",
      "Geometry type: POLYGON\n",
      "Dimension:     XY\n",
      "Bounding box:  xmin: -148.3542 ymin: 64.95413 xmax: -148.3542 ymax: 64.95414\n",
      "Geodetic CRS:  GCS_unknown\n",
      "    CLASS_NAME CLASS_ID CLASS_CLRS                       geometry\n",
      "5 Murphydome60        5  0,128,128 POLYGON ((-148.3542 64.9541...\n"
     ]
    },
    {
     "name": "stderr",
     "output_type": "stream",
     "text": [
      "Saving 6.67 x 6.67 in image\n",
      "\n",
      "Saving 6.67 x 6.67 in image\n",
      "\n",
      "Saving 6.67 x 6.67 in image\n",
      "\n",
      "Saving 6.67 x 6.67 in image\n",
      "\n",
      "Saving 6.67 x 6.67 in image\n",
      "\n",
      "Saving 6.67 x 6.67 in image\n",
      "\n"
     ]
    },
    {
     "name": "stdout",
     "output_type": "stream",
     "text": [
      "[1] \"preprocessing raster at Data/Ground_Validation/Imagery/BonanzaQuads.envi\"\n",
      "[1] \"Converted to Data frame?\"\n",
      "[1] TRUE\n",
      "[1] \"Noisy columns removed\"\n",
      "[1] TRUE\n",
      "[1] \"Filtered\"\n",
      "[1] TRUE\n"
     ]
    },
    {
     "name": "stderr",
     "output_type": "stream",
     "text": [
      "Using spline to predict value at new bands...\n",
      "\n",
      "Beware the spectra are now partially smoothed.\n",
      "\n"
     ]
    },
    {
     "name": "stdout",
     "output_type": "stream",
     "text": [
      "[1] \"Imputing...\"\n",
      "[1] \"Handling Outliers with method: none\"\n",
      "[1] \"Transforming the data with transform: none\"\n",
      "          x        y z\n",
      "1 -148.2962 64.70435 3\n",
      "2 -148.2962 64.70435 3\n",
      "3 -148.2962 64.70435 3\n",
      "4 -148.2962 64.70435 3\n",
      "5 -148.2962 64.70435 3\n",
      "6 -148.2962 64.70435 6\n",
      "          x        y z\n",
      "1 -148.2962 64.70435 3\n",
      "2 -148.2962 64.70435 3\n",
      "3 -148.2962 64.70435 3\n",
      "4 -148.2962 64.70435 3\n",
      "5 -148.2962 64.70435 3\n",
      "6 -148.2962 64.70435 6\n",
      "[1] \"Attempting to save to ./validation_saved_output.grd\"\n",
      "[1] \"Converted to Raster\"\n",
      "Reading layer `Bonanza_N_Quads' from data source \n",
      "  `/home/krbundy/GitHub/lecospec/Data/Vectors/Bonanza_N_Quads.shp' \n",
      "  using driver `ESRI Shapefile'\n",
      "Simple feature collection with 11 features and 3 fields\n",
      "Geometry type: POLYGON\n",
      "Dimension:     XY\n",
      "Bounding box:  xmin: 438153.7 ymin: 7176051 xmax: 438205.6 ymax: 7176138\n",
      "Projected CRS: WGS 84 / UTM zone 6N\n",
      "Simple feature collection with 1 feature and 3 fields\n",
      "Geometry type: POLYGON\n",
      "Dimension:     XY\n",
      "Bounding box:  xmin: -148.2966 ymin: 64.70403 xmax: -148.2966 ymax: 64.70404\n",
      "Geodetic CRS:  GCS_unknown\n",
      "  CLASS_NAME CLASS_ID CLASS_CLRS                       geometry\n",
      "1  Bonanza60        7    128,0,0 POLYGON ((-148.2966 64.7040...\n"
     ]
    },
    {
     "name": "stderr",
     "output_type": "stream",
     "text": [
      "Saving 6.67 x 6.67 in image\n",
      "\n"
     ]
    },
    {
     "name": "stdout",
     "output_type": "stream",
     "text": [
      "Simple feature collection with 1 feature and 3 fields\n",
      "Geometry type: POLYGON\n",
      "Dimension:     XY\n",
      "Bounding box:  xmin: -148.2962 ymin: 64.70434 xmax: -148.2962 ymax: 64.70435\n",
      "Geodetic CRS:  GCS_unknown\n",
      "  CLASS_NAME CLASS_ID CLASS_CLRS                       geometry\n",
      "2 Bonanza100       11  127,255,0 POLYGON ((-148.2962 64.7043...\n"
     ]
    },
    {
     "name": "stderr",
     "output_type": "stream",
     "text": [
      "Saving 6.67 x 6.67 in image\n",
      "\n"
     ]
    },
    {
     "name": "stdout",
     "output_type": "stream",
     "text": [
      "Simple feature collection with 1 feature and 3 fields\n",
      "Geometry type: POLYGON\n",
      "Dimension:     XY\n",
      "Bounding box:  xmin: -148.2963 ymin: 64.70426 xmax: -148.2963 ymax: 64.70428\n",
      "Geodetic CRS:  GCS_unknown\n",
      "  CLASS_NAME CLASS_ID CLASS_CLRS                       geometry\n",
      "3  Bonanza90       10 255,127,80 POLYGON ((-148.2963 64.7042...\n"
     ]
    },
    {
     "name": "stderr",
     "output_type": "stream",
     "text": [
      "Saving 6.67 x 6.67 in image\n",
      "\n"
     ]
    },
    {
     "name": "stdout",
     "output_type": "stream",
     "text": [
      "Simple feature collection with 1 feature and 3 fields\n",
      "Geometry type: POLYGON\n",
      "Dimension:     XY\n",
      "Bounding box:  xmin: -148.2964 ymin: 64.70418 xmax: -148.2964 ymax: 64.7042\n",
      "Geodetic CRS:  GCS_unknown\n",
      "  CLASS_NAME CLASS_ID CLASS_CLRS                       geometry\n",
      "4  Bonanza80        9    0,0,128 POLYGON ((-148.2964 64.7042...\n"
     ]
    },
    {
     "name": "stderr",
     "output_type": "stream",
     "text": [
      "Saving 6.67 x 6.67 in image\n",
      "\n"
     ]
    },
    {
     "name": "stdout",
     "output_type": "stream",
     "text": [
      "Simple feature collection with 1 feature and 3 fields\n",
      "Geometry type: POLYGON\n",
      "Dimension:     XY\n",
      "Bounding box:  xmin: -148.2967 ymin: 64.70395 xmax: -148.2967 ymax: 64.70396\n",
      "Geodetic CRS:  GCS_unknown\n",
      "  CLASS_NAME CLASS_ID CLASS_CLRS                       geometry\n",
      "5  Bonanza50        6  255,0,255 POLYGON ((-148.2967 64.7039...\n"
     ]
    },
    {
     "name": "stderr",
     "output_type": "stream",
     "text": [
      "Saving 6.67 x 6.67 in image\n",
      "\n"
     ]
    },
    {
     "name": "stdout",
     "output_type": "stream",
     "text": [
      "Simple feature collection with 1 feature and 3 fields\n",
      "Geometry type: POLYGON\n",
      "Dimension:     XY\n",
      "Bounding box:  xmin: -148.2968 ymin: 64.70387 xmax: -148.2968 ymax: 64.70388\n",
      "Geodetic CRS:  GCS_unknown\n",
      "  CLASS_NAME CLASS_ID CLASS_CLRS                       geometry\n",
      "6  Bonanza40        5  0,255,255 POLYGON ((-148.2968 64.7038...\n"
     ]
    },
    {
     "name": "stderr",
     "output_type": "stream",
     "text": [
      "Saving 6.67 x 6.67 in image\n",
      "\n"
     ]
    },
    {
     "name": "stdout",
     "output_type": "stream",
     "text": [
      "Simple feature collection with 1 feature and 3 fields\n",
      "Geometry type: POLYGON\n",
      "Dimension:     XY\n",
      "Bounding box:  xmin: -148.2969 ymin: 64.70379 xmax: -148.2969 ymax: 64.7038\n",
      "Geodetic CRS:  GCS_unknown\n",
      "  CLASS_NAME CLASS_ID CLASS_CLRS                       geometry\n",
      "7  Bonanza30        4  255,255,0 POLYGON ((-148.2969 64.7038...\n"
     ]
    },
    {
     "name": "stderr",
     "output_type": "stream",
     "text": [
      "Saving 6.67 x 6.67 in image\n",
      "\n"
     ]
    },
    {
     "name": "stdout",
     "output_type": "stream",
     "text": [
      "Simple feature collection with 1 feature and 3 fields\n",
      "Geometry type: POLYGON\n",
      "Dimension:     XY\n",
      "Bounding box:  xmin: -148.297 ymin: 64.70371 xmax: -148.297 ymax: 64.70373\n",
      "Geodetic CRS:  GCS_unknown\n",
      "  CLASS_NAME CLASS_ID CLASS_CLRS                       geometry\n",
      "8  Bonanza20        3    0,0,255 POLYGON ((-148.297 64.70373...\n"
     ]
    },
    {
     "name": "stderr",
     "output_type": "stream",
     "text": [
      "Saving 6.67 x 6.67 in image\n",
      "\n"
     ]
    },
    {
     "name": "stdout",
     "output_type": "stream",
     "text": [
      "Simple feature collection with 1 feature and 3 fields\n",
      "Geometry type: POLYGON\n",
      "Dimension:     XY\n",
      "Bounding box:  xmin: -148.2971 ymin: 64.70364 xmax: -148.2971 ymax: 64.70365\n",
      "Geodetic CRS:  GCS_unknown\n",
      "  CLASS_NAME CLASS_ID CLASS_CLRS                       geometry\n",
      "9  Bonanza10        2    0,128,0 POLYGON ((-148.2971 64.7036...\n"
     ]
    },
    {
     "name": "stderr",
     "output_type": "stream",
     "text": [
      "Saving 6.67 x 6.67 in image\n",
      "\n"
     ]
    },
    {
     "name": "stdout",
     "output_type": "stream",
     "text": [
      "Simple feature collection with 1 feature and 3 fields\n",
      "Geometry type: POLYGON\n",
      "Dimension:     XY\n",
      "Bounding box:  xmin: -148.2972 ymin: 64.70356 xmax: -148.2972 ymax: 64.70357\n",
      "Geodetic CRS:  GCS_unknown\n",
      "   CLASS_NAME CLASS_ID CLASS_CLRS                       geometry\n",
      "10   Bonanza0        1    255,0,0 POLYGON ((-148.2972 64.7035...\n"
     ]
    },
    {
     "name": "stderr",
     "output_type": "stream",
     "text": [
      "Saving 6.67 x 6.67 in image\n",
      "\n"
     ]
    },
    {
     "name": "stdout",
     "output_type": "stream",
     "text": [
      "Simple feature collection with 1 feature and 3 fields\n",
      "Geometry type: POLYGON\n",
      "Dimension:     XY\n",
      "Bounding box:  xmin: -148.2965 ymin: 64.70411 xmax: -148.2965 ymax: 64.70412\n",
      "Geodetic CRS:  GCS_unknown\n",
      "   CLASS_NAME CLASS_ID CLASS_CLRS                       geometry\n",
      "11  Bonanza70        8    0,255,0 POLYGON ((-148.2965 64.7041...\n"
     ]
    },
    {
     "name": "stderr",
     "output_type": "stream",
     "text": [
      "Saving 6.67 x 6.67 in image\n",
      "\n",
      "Saving 6.67 x 6.67 in image\n",
      "\n",
      "Saving 6.67 x 6.67 in image\n",
      "\n",
      "Saving 6.67 x 6.67 in image\n",
      "\n",
      "Saving 6.67 x 6.67 in image\n",
      "\n",
      "Saving 6.67 x 6.67 in image\n",
      "\n",
      "Saving 6.67 x 6.67 in image\n",
      "\n",
      "Saving 6.67 x 6.67 in image\n",
      "\n",
      "Saving 6.67 x 6.67 in image\n",
      "\n",
      "Saving 6.67 x 6.67 in image\n",
      "\n",
      "Saving 6.67 x 6.67 in image\n",
      "\n",
      "Saving 6.67 x 6.67 in image\n",
      "\n",
      "Warning message in confusionMatrix.default(model_predictions, test_labels, mode = \"everything\"):\n",
      "“Levels are not in the same order for reference and data. Refactoring data to match.”\n"
     ]
    },
    {
     "name": "stdout",
     "output_type": "stream",
     "text": [
      "[1] \"preprocessing raster at Data/Ground_Validation/Imagery/BisonGulchQuads.envi\"\n",
      "[1] \"Converted to Data frame?\"\n",
      "[1] TRUE\n",
      "[1] \"Noisy columns removed\"\n",
      "[1] TRUE\n",
      "[1] \"Filtered\"\n",
      "[1] TRUE\n"
     ]
    },
    {
     "name": "stderr",
     "output_type": "stream",
     "text": [
      "Using spline to predict value at new bands...\n",
      "\n",
      "Beware the spectra are now partially smoothed.\n",
      "\n"
     ]
    },
    {
     "name": "stdout",
     "output_type": "stream",
     "text": [
      "[1] \"Imputing...\"\n",
      "[1] \"Handling Outliers with method: none\"\n",
      "[1] \"Transforming the data with transform: none\"\n",
      "          x        y z\n",
      "1 -148.9508 63.80701 5\n",
      "2 -148.9508 63.80701 3\n",
      "3 -148.9508 63.80701 5\n",
      "4 -148.9508 63.80701 1\n",
      "5 -148.9508 63.80701 5\n",
      "6 -148.9508 63.80701 5\n",
      "          x        y z\n",
      "1 -148.9508 63.80701 5\n",
      "2 -148.9508 63.80701 3\n",
      "3 -148.9508 63.80701 5\n",
      "4 -148.9508 63.80701 1\n",
      "5 -148.9508 63.80701 5\n",
      "6 -148.9508 63.80701 5\n",
      "[1] \"Attempting to save to ./validation_saved_output.grd\"\n",
      "[1] \"Converted to Raster\"\n",
      "Reading layer `Bisoon_Quadrats_georeferenced' from data source \n",
      "  `/home/krbundy/GitHub/lecospec/Data/Vectors/Bisoon_Quadrats_georeferenced.shp' \n",
      "  using driver `ESRI Shapefile'\n",
      "Simple feature collection with 9 features and 3 fields\n",
      "Geometry type: POLYGON\n",
      "Dimension:     XY\n",
      "Bounding box:  xmin: -148.9524 ymin: 63.80698 xmax: -148.9508 ymax: 63.80701\n",
      "Geodetic CRS:  WGS 84\n",
      "Simple feature collection with 1 feature and 3 fields\n",
      "Geometry type: POLYGON\n",
      "Dimension:     XY\n",
      "Bounding box:  xmin: -148.9508 ymin: 63.807 xmax: -148.9508 ymax: 63.80701\n",
      "Geodetic CRS:  GCS_unknown\n",
      "  CLASS_ID  CLASS_NAME AREA                       geometry\n",
      "1        1 Bisongulch0  612 POLYGON ((-148.9508 63.807,...\n"
     ]
    },
    {
     "name": "stderr",
     "output_type": "stream",
     "text": [
      "Saving 6.67 x 6.67 in image\n",
      "\n"
     ]
    },
    {
     "name": "stdout",
     "output_type": "stream",
     "text": [
      "Simple feature collection with 1 feature and 3 fields\n",
      "Geometry type: POLYGON\n",
      "Dimension:     XY\n",
      "Bounding box:  xmin: -148.952 ymin: 63.80699 xmax: -148.952 ymax: 63.807\n",
      "Geodetic CRS:  GCS_unknown\n",
      "  CLASS_ID   CLASS_NAME AREA                       geometry\n",
      "2        7 Bisongulch70  649 POLYGON ((-148.952 63.80699...\n"
     ]
    },
    {
     "name": "stderr",
     "output_type": "stream",
     "text": [
      "Saving 6.67 x 6.67 in image\n",
      "\n"
     ]
    },
    {
     "name": "stdout",
     "output_type": "stream",
     "text": [
      "Simple feature collection with 1 feature and 3 fields\n",
      "Geometry type: POLYGON\n",
      "Dimension:     XY\n",
      "Bounding box:  xmin: -148.9522 ymin: 63.80699 xmax: -148.9522 ymax: 63.807\n",
      "Geodetic CRS:  GCS_unknown\n",
      "  CLASS_ID   CLASS_NAME AREA                       geometry\n",
      "3        8 Bisongulch80  661 POLYGON ((-148.9522 63.8069...\n"
     ]
    },
    {
     "name": "stderr",
     "output_type": "stream",
     "text": [
      "Saving 6.67 x 6.67 in image\n",
      "\n"
     ]
    },
    {
     "name": "stdout",
     "output_type": "stream",
     "text": [
      "Simple feature collection with 1 feature and 3 fields\n",
      "Geometry type: POLYGON\n",
      "Dimension:     XY\n",
      "Bounding box:  xmin: -148.951 ymin: 63.80699 xmax: -148.9509 ymax: 63.807\n",
      "Geodetic CRS:  GCS_unknown\n",
      "  CLASS_ID   CLASS_NAME AREA                       geometry\n",
      "4        2 Bisongulch10  649 POLYGON ((-148.9509 63.8069...\n"
     ]
    },
    {
     "name": "stderr",
     "output_type": "stream",
     "text": [
      "Saving 6.67 x 6.67 in image\n",
      "\n"
     ]
    },
    {
     "name": "stdout",
     "output_type": "stream",
     "text": [
      "Simple feature collection with 1 feature and 3 fields\n",
      "Geometry type: POLYGON\n",
      "Dimension:     XY\n",
      "Bounding box:  xmin: -148.9524 ymin: 63.80699 xmax: -148.9524 ymax: 63.807\n",
      "Geodetic CRS:  GCS_unknown\n",
      "  CLASS_ID   CLASS_NAME AREA                       geometry\n",
      "5        9 Bisongulch90  648 POLYGON ((-148.9524 63.8069...\n"
     ]
    },
    {
     "name": "stderr",
     "output_type": "stream",
     "text": [
      "Saving 6.67 x 6.67 in image\n",
      "\n"
     ]
    },
    {
     "name": "stdout",
     "output_type": "stream",
     "text": [
      "Simple feature collection with 1 feature and 3 fields\n",
      "Geometry type: POLYGON\n",
      "Dimension:     XY\n",
      "Bounding box:  xmin: -148.9512 ymin: 63.80699 xmax: -148.9512 ymax: 63.807\n",
      "Geodetic CRS:  GCS_unknown\n",
      "  CLASS_ID   CLASS_NAME AREA                       geometry\n",
      "6        3 Bisongulch20  574 POLYGON ((-148.9512 63.8069...\n"
     ]
    },
    {
     "name": "stderr",
     "output_type": "stream",
     "text": [
      "Saving 6.67 x 6.67 in image\n",
      "\n"
     ]
    },
    {
     "name": "stdout",
     "output_type": "stream",
     "text": [
      "Simple feature collection with 1 feature and 3 fields\n",
      "Geometry type: POLYGON\n",
      "Dimension:     XY\n",
      "Bounding box:  xmin: -148.9518 ymin: 63.80699 xmax: -148.9518 ymax: 63.807\n",
      "Geodetic CRS:  GCS_unknown\n",
      "  CLASS_ID   CLASS_NAME AREA                       geometry\n",
      "7        6 Bisongulch50  673 POLYGON ((-148.9518 63.8069...\n"
     ]
    },
    {
     "name": "stderr",
     "output_type": "stream",
     "text": [
      "Saving 6.67 x 6.67 in image\n",
      "\n"
     ]
    },
    {
     "name": "stdout",
     "output_type": "stream",
     "text": [
      "Simple feature collection with 1 feature and 3 fields\n",
      "Geometry type: POLYGON\n",
      "Dimension:     XY\n",
      "Bounding box:  xmin: -148.9514 ymin: 63.80699 xmax: -148.9514 ymax: 63.807\n",
      "Geodetic CRS:  GCS_unknown\n",
      "  CLASS_ID   CLASS_NAME AREA                       geometry\n",
      "8        4 Bisongulch30  673 POLYGON ((-148.9514 63.8069...\n"
     ]
    },
    {
     "name": "stderr",
     "output_type": "stream",
     "text": [
      "Saving 6.67 x 6.67 in image\n",
      "\n"
     ]
    },
    {
     "name": "stdout",
     "output_type": "stream",
     "text": [
      "Simple feature collection with 1 feature and 3 fields\n",
      "Geometry type: POLYGON\n",
      "Dimension:     XY\n",
      "Bounding box:  xmin: -148.9516 ymin: 63.80698 xmax: -148.9516 ymax: 63.80699\n",
      "Geodetic CRS:  GCS_unknown\n",
      "  CLASS_ID   CLASS_NAME AREA                       geometry\n",
      "9        5 Bisongulch40  674 POLYGON ((-148.9516 63.8069...\n"
     ]
    },
    {
     "name": "stderr",
     "output_type": "stream",
     "text": [
      "Saving 6.67 x 6.67 in image\n",
      "\n",
      "Saving 6.67 x 6.67 in image\n",
      "\n",
      "Saving 6.67 x 6.67 in image\n",
      "\n",
      "Saving 6.67 x 6.67 in image\n",
      "\n",
      "Saving 6.67 x 6.67 in image\n",
      "\n",
      "Saving 6.67 x 6.67 in image\n",
      "\n",
      "Saving 6.67 x 6.67 in image\n",
      "\n",
      "Saving 6.67 x 6.67 in image\n",
      "\n",
      "Saving 6.67 x 6.67 in image\n",
      "\n",
      "Saving 6.67 x 6.67 in image\n",
      "\n"
     ]
    },
    {
     "name": "stdout",
     "output_type": "stream",
     "text": [
      "[1] \"preprocessing raster at Data/Ground_Validation/Imagery/ChatanikaQuads.envi\"\n",
      "[1] \"Converted to Data frame?\"\n",
      "[1] TRUE\n",
      "[1] \"Noisy columns removed\"\n",
      "[1] TRUE\n",
      "[1] \"Filtered\"\n",
      "[1] TRUE\n"
     ]
    },
    {
     "name": "stderr",
     "output_type": "stream",
     "text": [
      "Using spline to predict value at new bands...\n",
      "\n",
      "Beware the spectra are now partially smoothed.\n",
      "\n"
     ]
    },
    {
     "name": "stdout",
     "output_type": "stream",
     "text": [
      "[1] \"Imputing...\"\n",
      "[1] \"Handling Outliers with method: none\"\n",
      "[1] \"Transforming the data with transform: none\"\n",
      "          x        y z\n",
      "1 -147.4827 65.15287 3\n",
      "2 -147.4827 65.15287 2\n",
      "3 -147.4827 65.15287 3\n",
      "4 -147.4827 65.15287 3\n",
      "5 -147.4827 65.15287 5\n",
      "6 -147.4827 65.15287 3\n",
      "          x        y z\n",
      "1 -147.4827 65.15287 3\n",
      "2 -147.4827 65.15287 2\n",
      "3 -147.4827 65.15287 3\n",
      "4 -147.4827 65.15287 3\n",
      "5 -147.4827 65.15287 5\n",
      "6 -147.4827 65.15287 3\n",
      "[1] \"Attempting to save to ./validation_saved_output.grd\"\n",
      "[1] \"Converted to Raster\"\n",
      "Reading layer `ChatanikaQuads_georeferenced' from data source \n",
      "  `/home/krbundy/GitHub/lecospec/Data/Vectors/ChatanikaQuads_georeferenced.shp' \n",
      "  using driver `ESRI Shapefile'\n",
      "Simple feature collection with 11 features and 3 fields\n",
      "Geometry type: POLYGON\n",
      "Dimension:     XY\n",
      "Bounding box:  xmin: -147.4827 ymin: 65.15281 xmax: -147.4806 ymax: 65.15287\n",
      "Geodetic CRS:  WGS 84\n",
      "Simple feature collection with 1 feature and 3 fields\n",
      "Geometry type: POLYGON\n",
      "Dimension:     XY\n",
      "Bounding box:  xmin: -147.4827 ymin: 65.15286 xmax: -147.4827 ymax: 65.15287\n",
      "Geodetic CRS:  GCS_unknown\n",
      "    CLASS_NAME CLASS_ID CLASS_CLRS                       geometry\n",
      "1 Chatanika100       11    0,0,128 POLYGON ((-147.4827 65.1528...\n"
     ]
    },
    {
     "name": "stderr",
     "output_type": "stream",
     "text": [
      "Saving 6.67 x 6.67 in image\n",
      "\n"
     ]
    },
    {
     "name": "stdout",
     "output_type": "stream",
     "text": [
      "Simple feature collection with 1 feature and 3 fields\n",
      "Geometry type: POLYGON\n",
      "Dimension:     XY\n",
      "Bounding box:  xmin: -147.4825 ymin: 65.15285 xmax: -147.4825 ymax: 65.15286\n",
      "Geodetic CRS:  GCS_unknown\n",
      "   CLASS_NAME CLASS_ID CLASS_CLRS                       geometry\n",
      "2 Chatanika90       10    0,255,0 POLYGON ((-147.4825 65.1528...\n"
     ]
    },
    {
     "name": "stderr",
     "output_type": "stream",
     "text": [
      "Saving 6.67 x 6.67 in image\n",
      "\n"
     ]
    },
    {
     "name": "stdout",
     "output_type": "stream",
     "text": [
      "Simple feature collection with 1 feature and 3 fields\n",
      "Geometry type: POLYGON\n",
      "Dimension:     XY\n",
      "Bounding box:  xmin: -147.4821 ymin: 65.15285 xmax: -147.4821 ymax: 65.15286\n",
      "Geodetic CRS:  GCS_unknown\n",
      "   CLASS_NAME CLASS_ID CLASS_CLRS                       geometry\n",
      "3 Chatanika70        8  0,128,128 POLYGON ((-147.4821 65.1528...\n"
     ]
    },
    {
     "name": "stderr",
     "output_type": "stream",
     "text": [
      "Saving 6.67 x 6.67 in image\n",
      "\n"
     ]
    },
    {
     "name": "stdout",
     "output_type": "stream",
     "text": [
      "Simple feature collection with 1 feature and 3 fields\n",
      "Geometry type: POLYGON\n",
      "Dimension:     XY\n",
      "Bounding box:  xmin: -147.4823 ymin: 65.15285 xmax: -147.4823 ymax: 65.15286\n",
      "Geodetic CRS:  GCS_unknown\n",
      "   CLASS_NAME CLASS_ID CLASS_CLRS                       geometry\n",
      "4 Chatanika80        9    128,0,0 POLYGON ((-147.4823 65.1528...\n"
     ]
    },
    {
     "name": "stderr",
     "output_type": "stream",
     "text": [
      "Saving 6.67 x 6.67 in image\n",
      "\n"
     ]
    },
    {
     "name": "stdout",
     "output_type": "stream",
     "text": [
      "Simple feature collection with 1 feature and 3 fields\n",
      "Geometry type: POLYGON\n",
      "Dimension:     XY\n",
      "Bounding box:  xmin: -147.4819 ymin: 65.15285 xmax: -147.4819 ymax: 65.15286\n",
      "Geodetic CRS:  GCS_unknown\n",
      "   CLASS_NAME CLASS_ID CLASS_CLRS                       geometry\n",
      "5 Chatanika60        7  128,128,0 POLYGON ((-147.4819 65.1528...\n"
     ]
    },
    {
     "name": "stderr",
     "output_type": "stream",
     "text": [
      "Saving 6.67 x 6.67 in image\n",
      "\n"
     ]
    },
    {
     "name": "stdout",
     "output_type": "stream",
     "text": [
      "Simple feature collection with 1 feature and 3 fields\n",
      "Geometry type: POLYGON\n",
      "Dimension:     XY\n",
      "Bounding box:  xmin: -147.4817 ymin: 65.15284 xmax: -147.4816 ymax: 65.15285\n",
      "Geodetic CRS:  GCS_unknown\n",
      "   CLASS_NAME CLASS_ID CLASS_CLRS                       geometry\n",
      "6 Chatanika50        6  255,0,255 POLYGON ((-147.4816 65.1528...\n"
     ]
    },
    {
     "name": "stderr",
     "output_type": "stream",
     "text": [
      "Saving 6.67 x 6.67 in image\n",
      "\n"
     ]
    },
    {
     "name": "stdout",
     "output_type": "stream",
     "text": [
      "Simple feature collection with 1 feature and 3 fields\n",
      "Geometry type: POLYGON\n",
      "Dimension:     XY\n",
      "Bounding box:  xmin: -147.4815 ymin: 65.15283 xmax: -147.4814 ymax: 65.15284\n",
      "Geodetic CRS:  GCS_unknown\n",
      "   CLASS_NAME CLASS_ID CLASS_CLRS                       geometry\n",
      "7 Chatanika40        5  0,255,255 POLYGON ((-147.4814 65.1528...\n"
     ]
    },
    {
     "name": "stderr",
     "output_type": "stream",
     "text": [
      "Saving 6.67 x 6.67 in image\n",
      "\n"
     ]
    },
    {
     "name": "stdout",
     "output_type": "stream",
     "text": [
      "Simple feature collection with 1 feature and 3 fields\n",
      "Geometry type: POLYGON\n",
      "Dimension:     XY\n",
      "Bounding box:  xmin: -147.4812 ymin: 65.15282 xmax: -147.4812 ymax: 65.15283\n",
      "Geodetic CRS:  GCS_unknown\n",
      "   CLASS_NAME CLASS_ID CLASS_CLRS                       geometry\n",
      "8 Chatanika30        4  255,255,0 POLYGON ((-147.4812 65.1528...\n"
     ]
    },
    {
     "name": "stderr",
     "output_type": "stream",
     "text": [
      "Saving 6.67 x 6.67 in image\n",
      "\n"
     ]
    },
    {
     "name": "stdout",
     "output_type": "stream",
     "text": [
      "Simple feature collection with 1 feature and 3 fields\n",
      "Geometry type: POLYGON\n",
      "Dimension:     XY\n",
      "Bounding box:  xmin: -147.481 ymin: 65.15281 xmax: -147.481 ymax: 65.15282\n",
      "Geodetic CRS:  GCS_unknown\n",
      "   CLASS_NAME CLASS_ID CLASS_CLRS                       geometry\n",
      "9 Chatanika20        3    0,0,255 POLYGON ((-147.481 65.15282...\n"
     ]
    },
    {
     "name": "stderr",
     "output_type": "stream",
     "text": [
      "Saving 6.67 x 6.67 in image\n",
      "\n"
     ]
    },
    {
     "name": "stdout",
     "output_type": "stream",
     "text": [
      "Simple feature collection with 1 feature and 3 fields\n",
      "Geometry type: POLYGON\n",
      "Dimension:     XY\n",
      "Bounding box:  xmin: -147.4808 ymin: 65.15281 xmax: -147.4808 ymax: 65.15282\n",
      "Geodetic CRS:  GCS_unknown\n",
      "    CLASS_NAME CLASS_ID CLASS_CLRS                       geometry\n",
      "10 Chatanika10        2    0,128,0 POLYGON ((-147.4808 65.1528...\n"
     ]
    },
    {
     "name": "stderr",
     "output_type": "stream",
     "text": [
      "Saving 6.67 x 6.67 in image\n",
      "\n"
     ]
    },
    {
     "name": "stdout",
     "output_type": "stream",
     "text": [
      "Simple feature collection with 1 feature and 3 fields\n",
      "Geometry type: POLYGON\n",
      "Dimension:     XY\n",
      "Bounding box:  xmin: -147.4806 ymin: 65.15281 xmax: -147.4806 ymax: 65.15281\n",
      "Geodetic CRS:  GCS_unknown\n",
      "   CLASS_NAME CLASS_ID CLASS_CLRS                       geometry\n",
      "11 Chatanika0        1    255,0,0 POLYGON ((-147.4806 65.1528...\n"
     ]
    },
    {
     "name": "stderr",
     "output_type": "stream",
     "text": [
      "Saving 6.67 x 6.67 in image\n",
      "\n",
      "Saving 6.67 x 6.67 in image\n",
      "\n",
      "Saving 6.67 x 6.67 in image\n",
      "\n",
      "Saving 6.67 x 6.67 in image\n",
      "\n",
      "Saving 6.67 x 6.67 in image\n",
      "\n",
      "Saving 6.67 x 6.67 in image\n",
      "\n",
      "Saving 6.67 x 6.67 in image\n",
      "\n",
      "Saving 6.67 x 6.67 in image\n",
      "\n",
      "Saving 6.67 x 6.67 in image\n",
      "\n",
      "Saving 6.67 x 6.67 in image\n",
      "\n",
      "Saving 6.67 x 6.67 in image\n",
      "\n",
      "Saving 6.67 x 6.67 in image\n",
      "\n"
     ]
    },
    {
     "name": "stdout",
     "output_type": "stream",
     "text": [
      "[1] \"preprocessing raster at Data/Ground_Validation/Imagery/TwelveMileGulchQuads1.envi\"\n",
      "[1] \"Converted to Data frame?\"\n",
      "[1] TRUE\n",
      "[1] \"Noisy columns removed\"\n",
      "[1] TRUE\n",
      "[1] \"Filtered\"\n",
      "[1] TRUE\n"
     ]
    },
    {
     "name": "stderr",
     "output_type": "stream",
     "text": [
      "Using spline to predict value at new bands...\n",
      "\n",
      "Beware the spectra are now partially smoothed.\n",
      "\n"
     ]
    },
    {
     "name": "stdout",
     "output_type": "stream",
     "text": [
      "[1] \"Imputing...\"\n",
      "[1] \"Handling Outliers with method: none\"\n",
      "[1] \"Transforming the data with transform: none\"\n",
      "         x        y z\n",
      "1 -145.979 65.40191 3\n",
      "2 -145.979 65.40191 3\n",
      "3 -145.979 65.40191 1\n",
      "4 -145.979 65.40191 1\n",
      "5 -145.979 65.40191 3\n",
      "6 -145.979 65.40191 5\n",
      "         x        y z\n",
      "1 -145.979 65.40191 3\n",
      "2 -145.979 65.40191 3\n",
      "3 -145.979 65.40191 1\n",
      "4 -145.979 65.40191 1\n",
      "5 -145.979 65.40191 3\n",
      "6 -145.979 65.40191 5\n",
      "[1] \"Attempting to save to ./validation_saved_output.grd\"\n",
      "[1] \"Converted to Raster\"\n",
      "Reading layer `TwelveMileQ0_10_20_30_40m' from data source \n",
      "  `/home/krbundy/GitHub/lecospec/Data/Vectors/TwelveMileQ0_10_20_30_40m.shp' \n",
      "  using driver `ESRI Shapefile'\n",
      "Simple feature collection with 5 features and 3 fields\n",
      "Geometry type: POLYGON\n",
      "Dimension:     XY\n",
      "Bounding box:  xmin: -145.979 ymin: 65.4018 xmax: -145.9782 ymax: 65.40191\n",
      "Geodetic CRS:  WGS 84\n",
      "Simple feature collection with 1 feature and 3 fields\n",
      "Geometry type: POLYGON\n",
      "Dimension:     XY\n",
      "Bounding box:  xmin: -145.979 ymin: 65.4019 xmax: -145.979 ymax: 65.40191\n",
      "Geodetic CRS:  GCS_unknown\n",
      "  CLASS_ID   CLASS_NAME AREA                       geometry\n",
      "1        4 Twelvemile40  288 POLYGON ((-145.979 65.4019,...\n"
     ]
    },
    {
     "name": "stderr",
     "output_type": "stream",
     "text": [
      "Saving 6.67 x 6.67 in image\n",
      "\n"
     ]
    },
    {
     "name": "stdout",
     "output_type": "stream",
     "text": [
      "Simple feature collection with 1 feature and 3 fields\n",
      "Geometry type: POLYGON\n",
      "Dimension:     XY\n",
      "Bounding box:  xmin: -145.9788 ymin: 65.40187 xmax: -145.9788 ymax: 65.40188\n",
      "Geodetic CRS:  GCS_unknown\n",
      "  CLASS_ID   CLASS_NAME AREA                       geometry\n",
      "2        1 Twelvemile30  281 POLYGON ((-145.9788 65.4018...\n"
     ]
    },
    {
     "name": "stderr",
     "output_type": "stream",
     "text": [
      "Saving 6.67 x 6.67 in image\n",
      "\n"
     ]
    },
    {
     "name": "stdout",
     "output_type": "stream",
     "text": [
      "Simple feature collection with 1 feature and 3 fields\n",
      "Geometry type: POLYGON\n",
      "Dimension:     XY\n",
      "Bounding box:  xmin: -145.9786 ymin: 65.40185 xmax: -145.9786 ymax: 65.40186\n",
      "Geodetic CRS:  GCS_unknown\n",
      "  CLASS_ID   CLASS_NAME AREA                       geometry\n",
      "3        2 Twelvemile20  328 POLYGON ((-145.9786 65.4018...\n"
     ]
    },
    {
     "name": "stderr",
     "output_type": "stream",
     "text": [
      "Saving 6.67 x 6.67 in image\n",
      "\n"
     ]
    },
    {
     "name": "stdout",
     "output_type": "stream",
     "text": [
      "Simple feature collection with 1 feature and 3 fields\n",
      "Geometry type: POLYGON\n",
      "Dimension:     XY\n",
      "Bounding box:  xmin: -145.9784 ymin: 65.40183 xmax: -145.9784 ymax: 65.40184\n",
      "Geodetic CRS:  GCS_unknown\n",
      "  CLASS_ID   CLASS_NAME AREA                       geometry\n",
      "4        3 Twelvemile10  308 POLYGON ((-145.9784 65.4018...\n"
     ]
    },
    {
     "name": "stderr",
     "output_type": "stream",
     "text": [
      "Saving 6.67 x 6.67 in image\n",
      "\n"
     ]
    },
    {
     "name": "stdout",
     "output_type": "stream",
     "text": [
      "Simple feature collection with 1 feature and 3 fields\n",
      "Geometry type: POLYGON\n",
      "Dimension:     XY\n",
      "Bounding box:  xmin: -145.9782 ymin: 65.4018 xmax: -145.9782 ymax: 65.40181\n",
      "Geodetic CRS:  GCS_unknown\n",
      "  CLASS_ID  CLASS_NAME AREA                       geometry\n",
      "5        5 Twelvemile0  336 POLYGON ((-145.9782 65.4018...\n"
     ]
    },
    {
     "name": "stderr",
     "output_type": "stream",
     "text": [
      "Saving 6.67 x 6.67 in image\n",
      "\n",
      "Saving 6.67 x 6.67 in image\n",
      "\n",
      "Saving 6.67 x 6.67 in image\n",
      "\n",
      "Saving 6.67 x 6.67 in image\n",
      "\n",
      "Saving 6.67 x 6.67 in image\n",
      "\n",
      "Saving 6.67 x 6.67 in image\n",
      "\n"
     ]
    },
    {
     "name": "stdout",
     "output_type": "stream",
     "text": [
      "[1] \"preprocessing raster at Data/Ground_Validation/Imagery/TwelveMileGulchQuads2.envi\"\n",
      "[1] \"Converted to Data frame?\"\n",
      "[1] TRUE\n",
      "[1] \"Noisy columns removed\"\n",
      "[1] TRUE\n",
      "[1] \"Filtered\"\n",
      "[1] TRUE\n"
     ]
    },
    {
     "name": "stderr",
     "output_type": "stream",
     "text": [
      "Using spline to predict value at new bands...\n",
      "\n",
      "Beware the spectra are now partially smoothed.\n",
      "\n"
     ]
    },
    {
     "name": "stdout",
     "output_type": "stream",
     "text": [
      "[1] \"Imputing...\"\n",
      "[1] \"Handling Outliers with method: none\"\n",
      "[1] \"Transforming the data with transform: none\"\n",
      "          x        y z\n",
      "1 -145.9802 65.40203 3\n",
      "2 -145.9802 65.40203 3\n",
      "3 -145.9802 65.40203 3\n",
      "4 -145.9802 65.40203 3\n",
      "5 -145.9802 65.40203 3\n",
      "6 -145.9802 65.40203 3\n",
      "          x        y z\n",
      "1 -145.9802 65.40203 3\n",
      "2 -145.9802 65.40203 3\n",
      "3 -145.9802 65.40203 3\n",
      "4 -145.9802 65.40203 3\n",
      "5 -145.9802 65.40203 3\n",
      "6 -145.9802 65.40203 3\n",
      "[1] \"Attempting to save to ./validation_saved_output.grd\"\n",
      "[1] \"Converted to Raster\"\n",
      "Reading layer `TwelveMileQ70_80_90_100m' from data source \n",
      "  `/home/krbundy/GitHub/lecospec/Data/Vectors/TwelveMileQ70_80_90_100m.shp' \n",
      "  using driver `ESRI Shapefile'\n",
      "Simple feature collection with 4 features and 3 fields\n",
      "Geometry type: POLYGON\n",
      "Dimension:     XY\n",
      "Bounding box:  xmin: -145.9802 ymin: 65.40196 xmax: -145.9796 ymax: 65.40203\n",
      "Geodetic CRS:  WGS 84\n",
      "Simple feature collection with 1 feature and 3 fields\n",
      "Geometry type: POLYGON\n",
      "Dimension:     XY\n",
      "Bounding box:  xmin: -145.9802 ymin: 65.40202 xmax: -145.9802 ymax: 65.40203\n",
      "Geodetic CRS:  GCS_unknown\n",
      "  CLASS_ID    CLASS_NAME AREA                       geometry\n",
      "1        4 Twelvemile100  492 POLYGON ((-145.9802 65.4020...\n"
     ]
    },
    {
     "name": "stderr",
     "output_type": "stream",
     "text": [
      "Saving 6.67 x 6.67 in image\n",
      "\n"
     ]
    },
    {
     "name": "stdout",
     "output_type": "stream",
     "text": [
      "Simple feature collection with 1 feature and 3 fields\n",
      "Geometry type: POLYGON\n",
      "Dimension:     XY\n",
      "Bounding box:  xmin: -145.98 ymin: 65.402 xmax: -145.98 ymax: 65.40201\n",
      "Geodetic CRS:  GCS_unknown\n",
      "  CLASS_ID   CLASS_NAME AREA                       geometry\n",
      "2        3 Twelvemile90  473 POLYGON ((-145.98 65.402, -...\n"
     ]
    },
    {
     "name": "stderr",
     "output_type": "stream",
     "text": [
      "Saving 6.67 x 6.67 in image\n",
      "\n"
     ]
    },
    {
     "name": "stdout",
     "output_type": "stream",
     "text": [
      "Simple feature collection with 1 feature and 3 fields\n",
      "Geometry type: POLYGON\n",
      "Dimension:     XY\n",
      "Bounding box:  xmin: -145.9798 ymin: 65.40198 xmax: -145.9798 ymax: 65.40199\n",
      "Geodetic CRS:  GCS_unknown\n",
      "  CLASS_ID   CLASS_NAME AREA                       geometry\n",
      "3        2 Twelvemile80  631 POLYGON ((-145.9798 65.4019...\n"
     ]
    },
    {
     "name": "stderr",
     "output_type": "stream",
     "text": [
      "Saving 6.67 x 6.67 in image\n",
      "\n"
     ]
    },
    {
     "name": "stdout",
     "output_type": "stream",
     "text": [
      "Simple feature collection with 1 feature and 3 fields\n",
      "Geometry type: POLYGON\n",
      "Dimension:     XY\n",
      "Bounding box:  xmin: -145.9796 ymin: 65.40196 xmax: -145.9796 ymax: 65.40197\n",
      "Geodetic CRS:  GCS_unknown\n",
      "  CLASS_ID   CLASS_NAME AREA                       geometry\n",
      "4        1 Twelvemile70  518 POLYGON ((-145.9796 65.4019...\n"
     ]
    },
    {
     "name": "stderr",
     "output_type": "stream",
     "text": [
      "Saving 6.67 x 6.67 in image\n",
      "\n",
      "Saving 6.67 x 6.67 in image\n",
      "\n",
      "Saving 6.67 x 6.67 in image\n",
      "\n",
      "Saving 6.67 x 6.67 in image\n",
      "\n",
      "Saving 6.67 x 6.67 in image\n",
      "\n"
     ]
    },
    {
     "name": "stdout",
     "output_type": "stream",
     "text": [
      "[1] \"preprocessing raster at Data/Ground_Validation/Imagery/EightMileQuads.envi\"\n",
      "[1] \"Converted to Data frame?\"\n",
      "[1] TRUE\n",
      "[1] \"Noisy columns removed\"\n",
      "[1] TRUE\n",
      "[1] \"Filtered\"\n",
      "[1] TRUE\n"
     ]
    },
    {
     "name": "stderr",
     "output_type": "stream",
     "text": [
      "Using spline to predict value at new bands...\n",
      "\n",
      "Beware the spectra are now partially smoothed.\n",
      "\n"
     ]
    },
    {
     "name": "stdout",
     "output_type": "stream",
     "text": [
      "[1] \"Imputing...\"\n",
      "[1] \"Handling Outliers with method: none\"\n",
      "[1] \"Transforming the data with transform: none\"\n",
      "          x        y z\n",
      "1 -149.2529 63.87686 3\n",
      "2 -149.2529 63.87686 3\n",
      "3 -149.2529 63.87686 3\n",
      "4 -149.2529 63.87686 3\n",
      "5 -149.2529 63.87686 3\n",
      "6 -149.2529 63.87686 3\n",
      "          x        y z\n",
      "1 -149.2529 63.87686 3\n",
      "2 -149.2529 63.87686 3\n",
      "3 -149.2529 63.87686 3\n",
      "4 -149.2529 63.87686 3\n",
      "5 -149.2529 63.87686 3\n",
      "6 -149.2529 63.87686 3\n",
      "[1] \"Attempting to save to ./validation_saved_output.grd\"\n",
      "[1] \"Converted to Raster\"\n",
      "Reading layer `EightMile_Quadrats_revised' from data source \n",
      "  `/home/krbundy/GitHub/lecospec/Data/Vectors/EightMile_Quadrats_revised.shp' \n",
      "  using driver `ESRI Shapefile'\n",
      "Simple feature collection with 11 features and 3 fields\n",
      "Geometry type: POLYGON\n",
      "Dimension:     XY\n",
      "Bounding box:  xmin: -149.2549 ymin: 63.87666 xmax: -149.2529 ymax: 63.87686\n",
      "Geodetic CRS:  WGS 84\n",
      "Simple feature collection with 1 feature and 3 fields\n",
      "Geometry type: POLYGON\n",
      "Dimension:     XY\n",
      "Bounding box:  xmin: -149.2547 ymin: 63.87667 xmax: -149.2546 ymax: 63.87669\n",
      "Geodetic CRS:  GCS_unknown\n",
      "   CLASS_NAME CLASS_ID CLASS_CLRS                       geometry\n",
      "1 Eightmile10        2    0,128,0 POLYGON ((-149.2547 63.8766...\n"
     ]
    },
    {
     "name": "stderr",
     "output_type": "stream",
     "text": [
      "Saving 6.67 x 6.67 in image\n",
      "\n"
     ]
    },
    {
     "name": "stdout",
     "output_type": "stream",
     "text": [
      "Simple feature collection with 1 feature and 3 fields\n",
      "Geometry type: POLYGON\n",
      "Dimension:     XY\n",
      "Bounding box:  xmin: -149.2549 ymin: 63.87666 xmax: -149.2548 ymax: 63.87667\n",
      "Geodetic CRS:  GCS_unknown\n",
      "  CLASS_NAME CLASS_ID CLASS_CLRS                       geometry\n",
      "2 Eightmile0        1    255,0,0 POLYGON ((-149.2548 63.8766...\n"
     ]
    },
    {
     "name": "stderr",
     "output_type": "stream",
     "text": [
      "Saving 6.67 x 6.67 in image\n",
      "\n"
     ]
    },
    {
     "name": "stdout",
     "output_type": "stream",
     "text": [
      "Simple feature collection with 1 feature and 3 fields\n",
      "Geometry type: POLYGON\n",
      "Dimension:     XY\n",
      "Bounding box:  xmin: -149.2537 ymin: 63.87675 xmax: -149.2537 ymax: 63.87677\n",
      "Geodetic CRS:  GCS_unknown\n",
      "   CLASS_NAME CLASS_ID CLASS_CLRS                       geometry\n",
      "3 Eightmile60        7  128,128,0 POLYGON ((-149.2537 63.8767...\n"
     ]
    },
    {
     "name": "stderr",
     "output_type": "stream",
     "text": [
      "Saving 6.67 x 6.67 in image\n",
      "\n"
     ]
    },
    {
     "name": "stdout",
     "output_type": "stream",
     "text": [
      "Simple feature collection with 1 feature and 3 fields\n",
      "Geometry type: POLYGON\n",
      "Dimension:     XY\n",
      "Bounding box:  xmin: -149.2539 ymin: 63.87673 xmax: -149.2539 ymax: 63.87674\n",
      "Geodetic CRS:  GCS_unknown\n",
      "   CLASS_NAME CLASS_ID CLASS_CLRS                       geometry\n",
      "4 Eightmile50        6  255,0,255 POLYGON ((-149.2539 63.8767...\n"
     ]
    },
    {
     "name": "stderr",
     "output_type": "stream",
     "text": [
      "Saving 6.67 x 6.67 in image\n",
      "\n"
     ]
    },
    {
     "name": "stdout",
     "output_type": "stream",
     "text": [
      "Simple feature collection with 1 feature and 3 fields\n",
      "Geometry type: POLYGON\n",
      "Dimension:     XY\n",
      "Bounding box:  xmin: -149.2541 ymin: 63.87672 xmax: -149.254 ymax: 63.87673\n",
      "Geodetic CRS:  GCS_unknown\n",
      "   CLASS_NAME CLASS_ID CLASS_CLRS                       geometry\n",
      "5 Eightmile40        5  0,255,255 POLYGON ((-149.254 63.87673...\n"
     ]
    },
    {
     "name": "stderr",
     "output_type": "stream",
     "text": [
      "Saving 6.67 x 6.67 in image\n",
      "\n"
     ]
    },
    {
     "name": "stdout",
     "output_type": "stream",
     "text": [
      "Simple feature collection with 1 feature and 3 fields\n",
      "Geometry type: POLYGON\n",
      "Dimension:     XY\n",
      "Bounding box:  xmin: -149.2543 ymin: 63.87671 xmax: -149.2542 ymax: 63.87672\n",
      "Geodetic CRS:  GCS_unknown\n",
      "   CLASS_NAME CLASS_ID CLASS_CLRS                       geometry\n",
      "6 Eightmile30        4  255,255,0 POLYGON ((-149.2542 63.8767...\n"
     ]
    },
    {
     "name": "stderr",
     "output_type": "stream",
     "text": [
      "Saving 6.67 x 6.67 in image\n",
      "\n"
     ]
    },
    {
     "name": "stdout",
     "output_type": "stream",
     "text": [
      "Simple feature collection with 1 feature and 3 fields\n",
      "Geometry type: POLYGON\n",
      "Dimension:     XY\n",
      "Bounding box:  xmin: -149.2545 ymin: 63.87669 xmax: -149.2544 ymax: 63.8767\n",
      "Geodetic CRS:  GCS_unknown\n",
      "   CLASS_NAME CLASS_ID CLASS_CLRS                       geometry\n",
      "7 Eightmile20        3    0,0,255 POLYGON ((-149.2544 63.8767...\n"
     ]
    },
    {
     "name": "stderr",
     "output_type": "stream",
     "text": [
      "Saving 6.67 x 6.67 in image\n",
      "\n"
     ]
    },
    {
     "name": "stdout",
     "output_type": "stream",
     "text": [
      "Simple feature collection with 1 feature and 3 fields\n",
      "Geometry type: POLYGON\n",
      "Dimension:     XY\n",
      "Bounding box:  xmin: -149.2529 ymin: 63.87685 xmax: -149.2529 ymax: 63.87686\n",
      "Geodetic CRS:  GCS_unknown\n",
      "    CLASS_NAME CLASS_ID CLASS_CLRS                       geometry\n",
      "8 Eightmile100       11    0,255,0 POLYGON ((-149.2529 63.8768...\n"
     ]
    },
    {
     "name": "stderr",
     "output_type": "stream",
     "text": [
      "Saving 6.67 x 6.67 in image\n",
      "\n"
     ]
    },
    {
     "name": "stdout",
     "output_type": "stream",
     "text": [
      "Simple feature collection with 1 feature and 3 fields\n",
      "Geometry type: POLYGON\n",
      "Dimension:     XY\n",
      "Bounding box:  xmin: -149.2531 ymin: 63.87682 xmax: -149.2531 ymax: 63.87684\n",
      "Geodetic CRS:  GCS_unknown\n",
      "   CLASS_NAME CLASS_ID CLASS_CLRS                       geometry\n",
      "9 Eightmile90       10    128,0,0 POLYGON ((-149.2531 63.8768...\n"
     ]
    },
    {
     "name": "stderr",
     "output_type": "stream",
     "text": [
      "Saving 6.67 x 6.67 in image\n",
      "\n"
     ]
    },
    {
     "name": "stdout",
     "output_type": "stream",
     "text": [
      "Simple feature collection with 1 feature and 3 fields\n",
      "Geometry type: POLYGON\n",
      "Dimension:     XY\n",
      "Bounding box:  xmin: -149.2533 ymin: 63.8768 xmax: -149.2533 ymax: 63.87681\n",
      "Geodetic CRS:  GCS_unknown\n",
      "    CLASS_NAME CLASS_ID CLASS_CLRS                       geometry\n",
      "10 Eightmile80        9  255,255,0 POLYGON ((-149.2533 63.8768...\n"
     ]
    },
    {
     "name": "stderr",
     "output_type": "stream",
     "text": [
      "Saving 6.67 x 6.67 in image\n",
      "\n"
     ]
    },
    {
     "name": "stdout",
     "output_type": "stream",
     "text": [
      "Simple feature collection with 1 feature and 3 fields\n",
      "Geometry type: POLYGON\n",
      "Dimension:     XY\n",
      "Bounding box:  xmin: -149.2535 ymin: 63.87678 xmax: -149.2535 ymax: 63.87679\n",
      "Geodetic CRS:  GCS_unknown\n",
      "    CLASS_NAME CLASS_ID CLASS_CLRS                       geometry\n",
      "11 Eightmile70        8  0,128,128 POLYGON ((-149.2535 63.8767...\n"
     ]
    },
    {
     "name": "stderr",
     "output_type": "stream",
     "text": [
      "Saving 6.67 x 6.67 in image\n",
      "\n",
      "Saving 6.67 x 6.67 in image\n",
      "\n",
      "Saving 6.67 x 6.67 in image\n",
      "\n",
      "Saving 6.67 x 6.67 in image\n",
      "\n",
      "Saving 6.67 x 6.67 in image\n",
      "\n",
      "Saving 6.67 x 6.67 in image\n",
      "\n",
      "Saving 6.67 x 6.67 in image\n",
      "\n",
      "Saving 6.67 x 6.67 in image\n",
      "\n",
      "Saving 6.67 x 6.67 in image\n",
      "\n",
      "Saving 6.67 x 6.67 in image\n",
      "\n",
      "Saving 6.67 x 6.67 in image\n",
      "\n",
      "Saving 6.67 x 6.67 in image\n",
      "\n"
     ]
    },
    {
     "name": "stdout",
     "output_type": "stream",
     "text": [
      "[1] \"preprocessing raster at Data/Ground_Validation/Imagery/MurphDomeQuads0_10.envi\"\n",
      "[1] \"Converted to Data frame?\"\n",
      "[1] TRUE\n",
      "[1] \"Noisy columns removed\"\n",
      "[1] TRUE\n",
      "[1] \"Filtered\"\n",
      "[1] TRUE\n"
     ]
    },
    {
     "name": "stderr",
     "output_type": "stream",
     "text": [
      "Using spline to predict value at new bands...\n",
      "\n",
      "Beware the spectra are now partially smoothed.\n",
      "\n"
     ]
    },
    {
     "name": "stdout",
     "output_type": "stream",
     "text": [
      "[1] \"Imputing...\"\n",
      "[1] \"Handling Outliers with method: none\"\n",
      "[1] \"Transforming the data with transform: none\"\n",
      "          x       y z\n",
      "1 -148.3535 64.9538 3\n",
      "2 -148.3535 64.9538 3\n",
      "3 -148.3535 64.9538 3\n",
      "4 -148.3535 64.9538 3\n",
      "5 -148.3535 64.9538 3\n",
      "6 -148.3535 64.9538 3\n",
      "          x       y z\n",
      "1 -148.3535 64.9538 3\n",
      "2 -148.3535 64.9538 3\n",
      "3 -148.3535 64.9538 3\n",
      "4 -148.3535 64.9538 3\n",
      "5 -148.3535 64.9538 3\n",
      "6 -148.3535 64.9538 3\n",
      "[1] \"Attempting to save to ./validation_saved_output.grd\"\n",
      "[1] \"Converted to Raster\"\n",
      "Reading layer `MurphyQuads0_10m' from data source \n",
      "  `/home/krbundy/GitHub/lecospec/Data/Vectors/MurphyQuads0_10m.shp' \n",
      "  using driver `ESRI Shapefile'\n",
      "Simple feature collection with 2 features and 3 fields\n",
      "Geometry type: POLYGON\n",
      "Dimension:     XY\n",
      "Bounding box:  xmin: -148.3535 ymin: 64.95372 xmax: -148.3533 ymax: 64.9538\n",
      "Geodetic CRS:  WGS 84\n",
      "Simple feature collection with 1 feature and 3 fields\n",
      "Geometry type: POLYGON\n",
      "Dimension:     XY\n",
      "Bounding box:  xmin: -148.3535 ymin: 64.95379 xmax: -148.3535 ymax: 64.9538\n",
      "Geodetic CRS:  GCS_unknown\n",
      "    CLASS_NAME CLASS_ID CLASS_CLRS                       geometry\n",
      "1 Murphydome10        1    0,0,255 POLYGON ((-148.3535 64.9538...\n"
     ]
    },
    {
     "name": "stderr",
     "output_type": "stream",
     "text": [
      "Saving 6.67 x 6.67 in image\n",
      "\n"
     ]
    },
    {
     "name": "stdout",
     "output_type": "stream",
     "text": [
      "Simple feature collection with 1 feature and 3 fields\n",
      "Geometry type: POLYGON\n",
      "Dimension:     XY\n",
      "Bounding box:  xmin: -148.3534 ymin: 64.95372 xmax: -148.3533 ymax: 64.95373\n",
      "Geodetic CRS:  GCS_unknown\n",
      "   CLASS_NAME CLASS_ID CLASS_CLRS                       geometry\n",
      "2 Murphydome0        2    0,128,0 POLYGON ((-148.3534 64.9537...\n"
     ]
    },
    {
     "name": "stderr",
     "output_type": "stream",
     "text": [
      "Saving 6.67 x 6.67 in image\n",
      "\n",
      "Saving 6.67 x 6.67 in image\n",
      "\n",
      "Saving 6.67 x 6.67 in image\n",
      "\n"
     ]
    },
    {
     "name": "stdout",
     "output_type": "stream",
     "text": [
      "[1] \"preprocessing raster at Data/Ground_Validation/Imagery/MurphDomeQuads20_50.envi\"\n",
      "[1] \"Converted to Data frame?\"\n",
      "[1] TRUE\n",
      "[1] \"Noisy columns removed\"\n",
      "[1] TRUE\n",
      "[1] \"Filtered\"\n",
      "[1] TRUE\n"
     ]
    },
    {
     "name": "stderr",
     "output_type": "stream",
     "text": [
      "Using spline to predict value at new bands...\n",
      "\n",
      "Beware the spectra are now partially smoothed.\n",
      "\n"
     ]
    },
    {
     "name": "stdout",
     "output_type": "stream",
     "text": [
      "[1] \"Imputing...\"\n",
      "[1] \"Handling Outliers with method: none\"\n",
      "[1] \"Transforming the data with transform: none\"\n",
      "          x        y z\n",
      "1 -148.3540 64.95407 3\n",
      "2 -148.3541 64.95407 2\n",
      "3 -148.3540 64.95407 3\n",
      "4 -148.3540 64.95407 3\n",
      "5 -148.3541 64.95407 3\n",
      "6 -148.3541 64.95407 2\n",
      "          x        y z\n",
      "1 -148.3540 64.95407 3\n",
      "2 -148.3541 64.95407 2\n",
      "3 -148.3540 64.95407 3\n",
      "4 -148.3540 64.95407 3\n",
      "5 -148.3541 64.95407 3\n",
      "6 -148.3541 64.95407 2\n",
      "[1] \"Attempting to save to ./validation_saved_output.grd\"\n",
      "[1] \"Converted to Raster\"\n",
      "Reading layer `MurphyQuads20_50m' from data source \n",
      "  `/home/krbundy/GitHub/lecospec/Data/Vectors/MurphyQuads20_50m.shp' \n",
      "  using driver `ESRI Shapefile'\n",
      "Simple feature collection with 4 features and 3 fields\n",
      "Geometry type: POLYGON\n",
      "Dimension:     XY\n",
      "Bounding box:  xmin: -148.3541 ymin: 64.95384 xmax: -148.3536 ymax: 64.95407\n",
      "Geodetic CRS:  WGS 84\n",
      "Simple feature collection with 1 feature and 3 fields\n",
      "Geometry type: POLYGON\n",
      "Dimension:     XY\n",
      "Bounding box:  xmin: -148.3541 ymin: 64.95406 xmax: -148.354 ymax: 64.95407\n",
      "Geodetic CRS:  GCS_unknown\n",
      "    CLASS_NAME CLASS_ID CLASS_CLRS                       geometry\n",
      "1 Murphydome50        1  128,128,0 POLYGON ((-148.354 64.95407...\n"
     ]
    },
    {
     "name": "stderr",
     "output_type": "stream",
     "text": [
      "Saving 6.67 x 6.67 in image\n",
      "\n"
     ]
    },
    {
     "name": "stdout",
     "output_type": "stream",
     "text": [
      "Simple feature collection with 1 feature and 3 fields\n",
      "Geometry type: POLYGON\n",
      "Dimension:     XY\n",
      "Bounding box:  xmin: -148.3539 ymin: 64.95399 xmax: -148.3539 ymax: 64.954\n",
      "Geodetic CRS:  GCS_unknown\n",
      "    CLASS_NAME CLASS_ID CLASS_CLRS                       geometry\n",
      "2 Murphydome40        2  255,0,255 POLYGON ((-148.3539 64.954,...\n"
     ]
    },
    {
     "name": "stderr",
     "output_type": "stream",
     "text": [
      "Saving 6.67 x 6.67 in image\n",
      "\n"
     ]
    },
    {
     "name": "stdout",
     "output_type": "stream",
     "text": [
      "Simple feature collection with 1 feature and 3 fields\n",
      "Geometry type: POLYGON\n",
      "Dimension:     XY\n",
      "Bounding box:  xmin: -148.3538 ymin: 64.95392 xmax: -148.3537 ymax: 64.95393\n",
      "Geodetic CRS:  GCS_unknown\n",
      "    CLASS_NAME CLASS_ID CLASS_CLRS                       geometry\n",
      "3 Murphydome30        3  0,255,255 POLYGON ((-148.3538 64.9539...\n"
     ]
    },
    {
     "name": "stderr",
     "output_type": "stream",
     "text": [
      "Saving 6.67 x 6.67 in image\n",
      "\n"
     ]
    },
    {
     "name": "stdout",
     "output_type": "stream",
     "text": [
      "Simple feature collection with 1 feature and 3 fields\n",
      "Geometry type: POLYGON\n",
      "Dimension:     XY\n",
      "Bounding box:  xmin: -148.3537 ymin: 64.95384 xmax: -148.3536 ymax: 64.95386\n",
      "Geodetic CRS:  GCS_unknown\n",
      "    CLASS_NAME CLASS_ID CLASS_CLRS                       geometry\n",
      "4 Murphydome20        4  255,255,0 POLYGON ((-148.3536 64.9538...\n"
     ]
    },
    {
     "name": "stderr",
     "output_type": "stream",
     "text": [
      "Saving 6.67 x 6.67 in image\n",
      "\n",
      "Saving 6.67 x 6.67 in image\n",
      "\n",
      "Saving 6.67 x 6.67 in image\n",
      "\n",
      "Saving 6.67 x 6.67 in image\n",
      "\n",
      "Saving 6.67 x 6.67 in image\n",
      "\n"
     ]
    },
    {
     "name": "stdout",
     "output_type": "stream",
     "text": [
      "[1] \"preprocessing raster at Data/Ground_Validation/Imagery/MurphDomeQuads60_100.envi\"\n",
      "[1] \"Converted to Data frame?\"\n",
      "[1] TRUE\n",
      "[1] \"Noisy columns removed\"\n",
      "[1] TRUE\n",
      "[1] \"Filtered\"\n",
      "[1] TRUE\n"
     ]
    },
    {
     "name": "stderr",
     "output_type": "stream",
     "text": [
      "Using spline to predict value at new bands...\n",
      "\n",
      "Beware the spectra are now partially smoothed.\n",
      "\n"
     ]
    },
    {
     "name": "stdout",
     "output_type": "stream",
     "text": [
      "[1] \"Imputing...\"\n",
      "[1] \"Handling Outliers with method: none\"\n",
      "[1] \"Transforming the data with transform: none\"\n",
      "          x        y z\n",
      "1 -148.3548 64.95441 3\n",
      "2 -148.3548 64.95441 3\n",
      "3 -148.3548 64.95441 3\n",
      "4 -148.3548 64.95441 3\n",
      "5 -148.3548 64.95441 3\n",
      "6 -148.3548 64.95441 3\n",
      "          x        y z\n",
      "1 -148.3548 64.95441 3\n",
      "2 -148.3548 64.95441 3\n",
      "3 -148.3548 64.95441 3\n",
      "4 -148.3548 64.95441 3\n",
      "5 -148.3548 64.95441 3\n",
      "6 -148.3548 64.95441 3\n",
      "[1] \"Attempting to save to ./validation_saved_output.grd\"\n",
      "[1] \"Converted to Raster\"\n",
      "Reading layer `MurphyQuads60_100m' from data source \n",
      "  `/home/krbundy/GitHub/lecospec/Data/Vectors/MurphyQuads60_100m.shp' \n",
      "  using driver `ESRI Shapefile'\n",
      "Simple feature collection with 5 features and 3 fields\n",
      "Geometry type: POLYGON\n",
      "Dimension:     XY\n",
      "Bounding box:  xmin: -148.3548 ymin: 64.95413 xmax: -148.3542 ymax: 64.95441\n",
      "Geodetic CRS:  WGS 84\n",
      "Simple feature collection with 1 feature and 3 fields\n",
      "Geometry type: POLYGON\n",
      "Dimension:     XY\n",
      "Bounding box:  xmin: -148.3548 ymin: 64.9544 xmax: -148.3547 ymax: 64.95441\n",
      "Geodetic CRS:  GCS_unknown\n",
      "     CLASS_NAME CLASS_ID CLASS_CLRS                       geometry\n",
      "1 Murphydome100        1 255,127,80 POLYGON ((-148.3548 64.9544...\n"
     ]
    },
    {
     "name": "stderr",
     "output_type": "stream",
     "text": [
      "Saving 6.67 x 6.67 in image\n",
      "\n"
     ]
    },
    {
     "name": "stdout",
     "output_type": "stream",
     "text": [
      "Simple feature collection with 1 feature and 3 fields\n",
      "Geometry type: POLYGON\n",
      "Dimension:     XY\n",
      "Bounding box:  xmin: -148.3546 ymin: 64.95433 xmax: -148.3546 ymax: 64.95434\n",
      "Geodetic CRS:  GCS_unknown\n",
      "    CLASS_NAME CLASS_ID CLASS_CLRS                       geometry\n",
      "2 Murphydome90        2    0,0,128 POLYGON ((-148.3546 64.9543...\n"
     ]
    },
    {
     "name": "stderr",
     "output_type": "stream",
     "text": [
      "Saving 6.67 x 6.67 in image\n",
      "\n"
     ]
    },
    {
     "name": "stdout",
     "output_type": "stream",
     "text": [
      "Simple feature collection with 1 feature and 3 fields\n",
      "Geometry type: POLYGON\n",
      "Dimension:     XY\n",
      "Bounding box:  xmin: -148.3545 ymin: 64.95426 xmax: -148.3544 ymax: 64.95427\n",
      "Geodetic CRS:  GCS_unknown\n",
      "    CLASS_NAME CLASS_ID CLASS_CLRS                       geometry\n",
      "3 Murphydome80        3    0,255,0 POLYGON ((-148.3545 64.9542...\n"
     ]
    },
    {
     "name": "stderr",
     "output_type": "stream",
     "text": [
      "Saving 6.67 x 6.67 in image\n",
      "\n"
     ]
    },
    {
     "name": "stdout",
     "output_type": "stream",
     "text": [
      "Simple feature collection with 1 feature and 3 fields\n",
      "Geometry type: POLYGON\n",
      "Dimension:     XY\n",
      "Bounding box:  xmin: -148.3543 ymin: 64.95419 xmax: -148.3543 ymax: 64.9542\n",
      "Geodetic CRS:  GCS_unknown\n",
      "    CLASS_NAME CLASS_ID CLASS_CLRS                       geometry\n",
      "4 Murphydome70        4    128,0,0 POLYGON ((-148.3543 64.9542...\n"
     ]
    },
    {
     "name": "stderr",
     "output_type": "stream",
     "text": [
      "Saving 6.67 x 6.67 in image\n",
      "\n"
     ]
    },
    {
     "name": "stdout",
     "output_type": "stream",
     "text": [
      "Simple feature collection with 1 feature and 3 fields\n",
      "Geometry type: POLYGON\n",
      "Dimension:     XY\n",
      "Bounding box:  xmin: -148.3542 ymin: 64.95413 xmax: -148.3542 ymax: 64.95414\n",
      "Geodetic CRS:  GCS_unknown\n",
      "    CLASS_NAME CLASS_ID CLASS_CLRS                       geometry\n",
      "5 Murphydome60        5  0,128,128 POLYGON ((-148.3542 64.9541...\n"
     ]
    },
    {
     "name": "stderr",
     "output_type": "stream",
     "text": [
      "Saving 6.67 x 6.67 in image\n",
      "\n",
      "Saving 6.67 x 6.67 in image\n",
      "\n",
      "Saving 6.67 x 6.67 in image\n",
      "\n",
      "Saving 6.67 x 6.67 in image\n",
      "\n",
      "Saving 6.67 x 6.67 in image\n",
      "\n",
      "Saving 6.67 x 6.67 in image\n",
      "\n"
     ]
    },
    {
     "name": "stdout",
     "output_type": "stream",
     "text": [
      "[1] \"preprocessing raster at Data/Ground_Validation/Imagery/BonanzaQuads.envi\"\n",
      "[1] \"Converted to Data frame?\"\n",
      "[1] TRUE\n",
      "[1] \"Noisy columns removed\"\n",
      "[1] TRUE\n",
      "[1] \"Filtered\"\n",
      "[1] TRUE\n"
     ]
    },
    {
     "name": "stderr",
     "output_type": "stream",
     "text": [
      "Using spline to predict value at new bands...\n",
      "\n",
      "Beware the spectra are now partially smoothed.\n",
      "\n"
     ]
    },
    {
     "name": "stdout",
     "output_type": "stream",
     "text": [
      "[1] \"Imputing...\"\n",
      "[1] \"Handling Outliers with method: none\"\n",
      "[1] \"Transforming the data with transform: none\"\n",
      "          x        y z\n",
      "1 -148.2962 64.70435 3\n",
      "2 -148.2962 64.70435 3\n",
      "3 -148.2962 64.70435 3\n",
      "4 -148.2962 64.70435 3\n",
      "5 -148.2962 64.70435 3\n",
      "6 -148.2962 64.70435 3\n",
      "          x        y z\n",
      "1 -148.2962 64.70435 3\n",
      "2 -148.2962 64.70435 3\n",
      "3 -148.2962 64.70435 3\n",
      "4 -148.2962 64.70435 3\n",
      "5 -148.2962 64.70435 3\n",
      "6 -148.2962 64.70435 3\n",
      "[1] \"Attempting to save to ./validation_saved_output.grd\"\n",
      "[1] \"Converted to Raster\"\n",
      "Reading layer `Bonanza_N_Quads' from data source \n",
      "  `/home/krbundy/GitHub/lecospec/Data/Vectors/Bonanza_N_Quads.shp' \n",
      "  using driver `ESRI Shapefile'\n",
      "Simple feature collection with 11 features and 3 fields\n",
      "Geometry type: POLYGON\n",
      "Dimension:     XY\n",
      "Bounding box:  xmin: 438153.7 ymin: 7176051 xmax: 438205.6 ymax: 7176138\n",
      "Projected CRS: WGS 84 / UTM zone 6N\n",
      "Simple feature collection with 1 feature and 3 fields\n",
      "Geometry type: POLYGON\n",
      "Dimension:     XY\n",
      "Bounding box:  xmin: -148.2966 ymin: 64.70403 xmax: -148.2966 ymax: 64.70404\n",
      "Geodetic CRS:  GCS_unknown\n",
      "  CLASS_NAME CLASS_ID CLASS_CLRS                       geometry\n",
      "1  Bonanza60        7    128,0,0 POLYGON ((-148.2966 64.7040...\n"
     ]
    },
    {
     "name": "stderr",
     "output_type": "stream",
     "text": [
      "Saving 6.67 x 6.67 in image\n",
      "\n"
     ]
    },
    {
     "name": "stdout",
     "output_type": "stream",
     "text": [
      "Simple feature collection with 1 feature and 3 fields\n",
      "Geometry type: POLYGON\n",
      "Dimension:     XY\n",
      "Bounding box:  xmin: -148.2962 ymin: 64.70434 xmax: -148.2962 ymax: 64.70435\n",
      "Geodetic CRS:  GCS_unknown\n",
      "  CLASS_NAME CLASS_ID CLASS_CLRS                       geometry\n",
      "2 Bonanza100       11  127,255,0 POLYGON ((-148.2962 64.7043...\n"
     ]
    },
    {
     "name": "stderr",
     "output_type": "stream",
     "text": [
      "Saving 6.67 x 6.67 in image\n",
      "\n"
     ]
    },
    {
     "name": "stdout",
     "output_type": "stream",
     "text": [
      "Simple feature collection with 1 feature and 3 fields\n",
      "Geometry type: POLYGON\n",
      "Dimension:     XY\n",
      "Bounding box:  xmin: -148.2963 ymin: 64.70426 xmax: -148.2963 ymax: 64.70428\n",
      "Geodetic CRS:  GCS_unknown\n",
      "  CLASS_NAME CLASS_ID CLASS_CLRS                       geometry\n",
      "3  Bonanza90       10 255,127,80 POLYGON ((-148.2963 64.7042...\n"
     ]
    },
    {
     "name": "stderr",
     "output_type": "stream",
     "text": [
      "Saving 6.67 x 6.67 in image\n",
      "\n"
     ]
    },
    {
     "name": "stdout",
     "output_type": "stream",
     "text": [
      "Simple feature collection with 1 feature and 3 fields\n",
      "Geometry type: POLYGON\n",
      "Dimension:     XY\n",
      "Bounding box:  xmin: -148.2964 ymin: 64.70418 xmax: -148.2964 ymax: 64.7042\n",
      "Geodetic CRS:  GCS_unknown\n",
      "  CLASS_NAME CLASS_ID CLASS_CLRS                       geometry\n",
      "4  Bonanza80        9    0,0,128 POLYGON ((-148.2964 64.7042...\n"
     ]
    },
    {
     "name": "stderr",
     "output_type": "stream",
     "text": [
      "Saving 6.67 x 6.67 in image\n",
      "\n"
     ]
    },
    {
     "name": "stdout",
     "output_type": "stream",
     "text": [
      "Simple feature collection with 1 feature and 3 fields\n",
      "Geometry type: POLYGON\n",
      "Dimension:     XY\n",
      "Bounding box:  xmin: -148.2967 ymin: 64.70395 xmax: -148.2967 ymax: 64.70396\n",
      "Geodetic CRS:  GCS_unknown\n",
      "  CLASS_NAME CLASS_ID CLASS_CLRS                       geometry\n",
      "5  Bonanza50        6  255,0,255 POLYGON ((-148.2967 64.7039...\n"
     ]
    },
    {
     "name": "stderr",
     "output_type": "stream",
     "text": [
      "Saving 6.67 x 6.67 in image\n",
      "\n"
     ]
    },
    {
     "name": "stdout",
     "output_type": "stream",
     "text": [
      "Simple feature collection with 1 feature and 3 fields\n",
      "Geometry type: POLYGON\n",
      "Dimension:     XY\n",
      "Bounding box:  xmin: -148.2968 ymin: 64.70387 xmax: -148.2968 ymax: 64.70388\n",
      "Geodetic CRS:  GCS_unknown\n",
      "  CLASS_NAME CLASS_ID CLASS_CLRS                       geometry\n",
      "6  Bonanza40        5  0,255,255 POLYGON ((-148.2968 64.7038...\n"
     ]
    },
    {
     "name": "stderr",
     "output_type": "stream",
     "text": [
      "Saving 6.67 x 6.67 in image\n",
      "\n"
     ]
    },
    {
     "name": "stdout",
     "output_type": "stream",
     "text": [
      "Simple feature collection with 1 feature and 3 fields\n",
      "Geometry type: POLYGON\n",
      "Dimension:     XY\n",
      "Bounding box:  xmin: -148.2969 ymin: 64.70379 xmax: -148.2969 ymax: 64.7038\n",
      "Geodetic CRS:  GCS_unknown\n",
      "  CLASS_NAME CLASS_ID CLASS_CLRS                       geometry\n",
      "7  Bonanza30        4  255,255,0 POLYGON ((-148.2969 64.7038...\n"
     ]
    },
    {
     "name": "stderr",
     "output_type": "stream",
     "text": [
      "Saving 6.67 x 6.67 in image\n",
      "\n"
     ]
    },
    {
     "name": "stdout",
     "output_type": "stream",
     "text": [
      "Simple feature collection with 1 feature and 3 fields\n",
      "Geometry type: POLYGON\n",
      "Dimension:     XY\n",
      "Bounding box:  xmin: -148.297 ymin: 64.70371 xmax: -148.297 ymax: 64.70373\n",
      "Geodetic CRS:  GCS_unknown\n",
      "  CLASS_NAME CLASS_ID CLASS_CLRS                       geometry\n",
      "8  Bonanza20        3    0,0,255 POLYGON ((-148.297 64.70373...\n"
     ]
    },
    {
     "name": "stderr",
     "output_type": "stream",
     "text": [
      "Saving 6.67 x 6.67 in image\n",
      "\n"
     ]
    },
    {
     "name": "stdout",
     "output_type": "stream",
     "text": [
      "Simple feature collection with 1 feature and 3 fields\n",
      "Geometry type: POLYGON\n",
      "Dimension:     XY\n",
      "Bounding box:  xmin: -148.2971 ymin: 64.70364 xmax: -148.2971 ymax: 64.70365\n",
      "Geodetic CRS:  GCS_unknown\n",
      "  CLASS_NAME CLASS_ID CLASS_CLRS                       geometry\n",
      "9  Bonanza10        2    0,128,0 POLYGON ((-148.2971 64.7036...\n"
     ]
    },
    {
     "name": "stderr",
     "output_type": "stream",
     "text": [
      "Saving 6.67 x 6.67 in image\n",
      "\n"
     ]
    },
    {
     "name": "stdout",
     "output_type": "stream",
     "text": [
      "Simple feature collection with 1 feature and 3 fields\n",
      "Geometry type: POLYGON\n",
      "Dimension:     XY\n",
      "Bounding box:  xmin: -148.2972 ymin: 64.70356 xmax: -148.2972 ymax: 64.70357\n",
      "Geodetic CRS:  GCS_unknown\n",
      "   CLASS_NAME CLASS_ID CLASS_CLRS                       geometry\n",
      "10   Bonanza0        1    255,0,0 POLYGON ((-148.2972 64.7035...\n"
     ]
    },
    {
     "name": "stderr",
     "output_type": "stream",
     "text": [
      "Saving 6.67 x 6.67 in image\n",
      "\n"
     ]
    },
    {
     "name": "stdout",
     "output_type": "stream",
     "text": [
      "Simple feature collection with 1 feature and 3 fields\n",
      "Geometry type: POLYGON\n",
      "Dimension:     XY\n",
      "Bounding box:  xmin: -148.2965 ymin: 64.70411 xmax: -148.2965 ymax: 64.70412\n",
      "Geodetic CRS:  GCS_unknown\n",
      "   CLASS_NAME CLASS_ID CLASS_CLRS                       geometry\n",
      "11  Bonanza70        8    0,255,0 POLYGON ((-148.2965 64.7041...\n"
     ]
    },
    {
     "name": "stderr",
     "output_type": "stream",
     "text": [
      "Saving 6.67 x 6.67 in image\n",
      "\n",
      "Saving 6.67 x 6.67 in image\n",
      "\n",
      "Saving 6.67 x 6.67 in image\n",
      "\n",
      "Saving 6.67 x 6.67 in image\n",
      "\n",
      "Saving 6.67 x 6.67 in image\n",
      "\n",
      "Saving 6.67 x 6.67 in image\n",
      "\n",
      "Saving 6.67 x 6.67 in image\n",
      "\n",
      "Saving 6.67 x 6.67 in image\n",
      "\n",
      "Saving 6.67 x 6.67 in image\n",
      "\n",
      "Saving 6.67 x 6.67 in image\n",
      "\n",
      "Saving 6.67 x 6.67 in image\n",
      "\n",
      "Saving 6.67 x 6.67 in image\n",
      "\n",
      "Warning message in confusionMatrix.default(model_predictions, test_labels, mode = \"everything\"):\n",
      "“Levels are not in the same order for reference and data. Refactoring data to match.”\n"
     ]
    },
    {
     "name": "stdout",
     "output_type": "stream",
     "text": [
      "[1] \"preprocessing raster at Data/Ground_Validation/Imagery/BisonGulchQuads.envi\"\n",
      "[1] \"Converted to Data frame?\"\n",
      "[1] TRUE\n",
      "[1] \"Noisy columns removed\"\n",
      "[1] TRUE\n",
      "[1] \"Filtered\"\n",
      "[1] TRUE\n"
     ]
    },
    {
     "name": "stderr",
     "output_type": "stream",
     "text": [
      "Using spline to predict value at new bands...\n",
      "\n",
      "Beware the spectra are now partially smoothed.\n",
      "\n"
     ]
    },
    {
     "name": "stdout",
     "output_type": "stream",
     "text": [
      "[1] \"Imputing...\"\n",
      "[1] \"Handling Outliers with method: none\"\n",
      "[1] \"Transforming the data with transform: none\"\n",
      "          x        y z\n",
      "1 -148.9508 63.80701 3\n",
      "2 -148.9508 63.80701 3\n",
      "3 -148.9508 63.80701 5\n",
      "4 -148.9508 63.80701 1\n",
      "5 -148.9508 63.80701 5\n",
      "6 -148.9508 63.80701 5\n",
      "          x        y z\n",
      "1 -148.9508 63.80701 3\n",
      "2 -148.9508 63.80701 3\n",
      "3 -148.9508 63.80701 5\n",
      "4 -148.9508 63.80701 1\n",
      "5 -148.9508 63.80701 5\n",
      "6 -148.9508 63.80701 5\n",
      "[1] \"Attempting to save to ./validation_saved_output.grd\"\n",
      "[1] \"Converted to Raster\"\n",
      "Reading layer `Bisoon_Quadrats_georeferenced' from data source \n",
      "  `/home/krbundy/GitHub/lecospec/Data/Vectors/Bisoon_Quadrats_georeferenced.shp' \n",
      "  using driver `ESRI Shapefile'\n",
      "Simple feature collection with 9 features and 3 fields\n",
      "Geometry type: POLYGON\n",
      "Dimension:     XY\n",
      "Bounding box:  xmin: -148.9524 ymin: 63.80698 xmax: -148.9508 ymax: 63.80701\n",
      "Geodetic CRS:  WGS 84\n",
      "Simple feature collection with 1 feature and 3 fields\n",
      "Geometry type: POLYGON\n",
      "Dimension:     XY\n",
      "Bounding box:  xmin: -148.9508 ymin: 63.807 xmax: -148.9508 ymax: 63.80701\n",
      "Geodetic CRS:  GCS_unknown\n",
      "  CLASS_ID  CLASS_NAME AREA                       geometry\n",
      "1        1 Bisongulch0  612 POLYGON ((-148.9508 63.807,...\n"
     ]
    },
    {
     "name": "stderr",
     "output_type": "stream",
     "text": [
      "Saving 6.67 x 6.67 in image\n",
      "\n"
     ]
    },
    {
     "name": "stdout",
     "output_type": "stream",
     "text": [
      "Simple feature collection with 1 feature and 3 fields\n",
      "Geometry type: POLYGON\n",
      "Dimension:     XY\n",
      "Bounding box:  xmin: -148.952 ymin: 63.80699 xmax: -148.952 ymax: 63.807\n",
      "Geodetic CRS:  GCS_unknown\n",
      "  CLASS_ID   CLASS_NAME AREA                       geometry\n",
      "2        7 Bisongulch70  649 POLYGON ((-148.952 63.80699...\n"
     ]
    },
    {
     "name": "stderr",
     "output_type": "stream",
     "text": [
      "Saving 6.67 x 6.67 in image\n",
      "\n"
     ]
    },
    {
     "name": "stdout",
     "output_type": "stream",
     "text": [
      "Simple feature collection with 1 feature and 3 fields\n",
      "Geometry type: POLYGON\n",
      "Dimension:     XY\n",
      "Bounding box:  xmin: -148.9522 ymin: 63.80699 xmax: -148.9522 ymax: 63.807\n",
      "Geodetic CRS:  GCS_unknown\n",
      "  CLASS_ID   CLASS_NAME AREA                       geometry\n",
      "3        8 Bisongulch80  661 POLYGON ((-148.9522 63.8069...\n"
     ]
    },
    {
     "name": "stderr",
     "output_type": "stream",
     "text": [
      "Saving 6.67 x 6.67 in image\n",
      "\n"
     ]
    },
    {
     "name": "stdout",
     "output_type": "stream",
     "text": [
      "Simple feature collection with 1 feature and 3 fields\n",
      "Geometry type: POLYGON\n",
      "Dimension:     XY\n",
      "Bounding box:  xmin: -148.951 ymin: 63.80699 xmax: -148.9509 ymax: 63.807\n",
      "Geodetic CRS:  GCS_unknown\n",
      "  CLASS_ID   CLASS_NAME AREA                       geometry\n",
      "4        2 Bisongulch10  649 POLYGON ((-148.9509 63.8069...\n"
     ]
    },
    {
     "name": "stderr",
     "output_type": "stream",
     "text": [
      "Saving 6.67 x 6.67 in image\n",
      "\n"
     ]
    },
    {
     "name": "stdout",
     "output_type": "stream",
     "text": [
      "Simple feature collection with 1 feature and 3 fields\n",
      "Geometry type: POLYGON\n",
      "Dimension:     XY\n",
      "Bounding box:  xmin: -148.9524 ymin: 63.80699 xmax: -148.9524 ymax: 63.807\n",
      "Geodetic CRS:  GCS_unknown\n",
      "  CLASS_ID   CLASS_NAME AREA                       geometry\n",
      "5        9 Bisongulch90  648 POLYGON ((-148.9524 63.8069...\n"
     ]
    },
    {
     "name": "stderr",
     "output_type": "stream",
     "text": [
      "Saving 6.67 x 6.67 in image\n",
      "\n"
     ]
    },
    {
     "name": "stdout",
     "output_type": "stream",
     "text": [
      "Simple feature collection with 1 feature and 3 fields\n",
      "Geometry type: POLYGON\n",
      "Dimension:     XY\n",
      "Bounding box:  xmin: -148.9512 ymin: 63.80699 xmax: -148.9512 ymax: 63.807\n",
      "Geodetic CRS:  GCS_unknown\n",
      "  CLASS_ID   CLASS_NAME AREA                       geometry\n",
      "6        3 Bisongulch20  574 POLYGON ((-148.9512 63.8069...\n"
     ]
    },
    {
     "name": "stderr",
     "output_type": "stream",
     "text": [
      "Saving 6.67 x 6.67 in image\n",
      "\n"
     ]
    },
    {
     "name": "stdout",
     "output_type": "stream",
     "text": [
      "Simple feature collection with 1 feature and 3 fields\n",
      "Geometry type: POLYGON\n",
      "Dimension:     XY\n",
      "Bounding box:  xmin: -148.9518 ymin: 63.80699 xmax: -148.9518 ymax: 63.807\n",
      "Geodetic CRS:  GCS_unknown\n",
      "  CLASS_ID   CLASS_NAME AREA                       geometry\n",
      "7        6 Bisongulch50  673 POLYGON ((-148.9518 63.8069...\n"
     ]
    },
    {
     "name": "stderr",
     "output_type": "stream",
     "text": [
      "Saving 6.67 x 6.67 in image\n",
      "\n"
     ]
    },
    {
     "name": "stdout",
     "output_type": "stream",
     "text": [
      "Simple feature collection with 1 feature and 3 fields\n",
      "Geometry type: POLYGON\n",
      "Dimension:     XY\n",
      "Bounding box:  xmin: -148.9514 ymin: 63.80699 xmax: -148.9514 ymax: 63.807\n",
      "Geodetic CRS:  GCS_unknown\n",
      "  CLASS_ID   CLASS_NAME AREA                       geometry\n",
      "8        4 Bisongulch30  673 POLYGON ((-148.9514 63.8069...\n"
     ]
    },
    {
     "name": "stderr",
     "output_type": "stream",
     "text": [
      "Saving 6.67 x 6.67 in image\n",
      "\n"
     ]
    },
    {
     "name": "stdout",
     "output_type": "stream",
     "text": [
      "Simple feature collection with 1 feature and 3 fields\n",
      "Geometry type: POLYGON\n",
      "Dimension:     XY\n",
      "Bounding box:  xmin: -148.9516 ymin: 63.80698 xmax: -148.9516 ymax: 63.80699\n",
      "Geodetic CRS:  GCS_unknown\n",
      "  CLASS_ID   CLASS_NAME AREA                       geometry\n",
      "9        5 Bisongulch40  674 POLYGON ((-148.9516 63.8069...\n"
     ]
    },
    {
     "name": "stderr",
     "output_type": "stream",
     "text": [
      "Saving 6.67 x 6.67 in image\n",
      "\n",
      "Saving 6.67 x 6.67 in image\n",
      "\n",
      "Saving 6.67 x 6.67 in image\n",
      "\n",
      "Saving 6.67 x 6.67 in image\n",
      "\n",
      "Saving 6.67 x 6.67 in image\n",
      "\n",
      "Saving 6.67 x 6.67 in image\n",
      "\n",
      "Saving 6.67 x 6.67 in image\n",
      "\n",
      "Saving 6.67 x 6.67 in image\n",
      "\n",
      "Saving 6.67 x 6.67 in image\n",
      "\n",
      "Saving 6.67 x 6.67 in image\n",
      "\n"
     ]
    },
    {
     "name": "stdout",
     "output_type": "stream",
     "text": [
      "[1] \"preprocessing raster at Data/Ground_Validation/Imagery/ChatanikaQuads.envi\"\n",
      "[1] \"Converted to Data frame?\"\n",
      "[1] TRUE\n",
      "[1] \"Noisy columns removed\"\n",
      "[1] TRUE\n",
      "[1] \"Filtered\"\n",
      "[1] TRUE\n"
     ]
    },
    {
     "name": "stderr",
     "output_type": "stream",
     "text": [
      "Using spline to predict value at new bands...\n",
      "\n",
      "Beware the spectra are now partially smoothed.\n",
      "\n"
     ]
    },
    {
     "name": "stdout",
     "output_type": "stream",
     "text": [
      "[1] \"Imputing...\"\n",
      "[1] \"Handling Outliers with method: none\"\n",
      "[1] \"Transforming the data with transform: none\"\n",
      "          x        y z\n",
      "1 -147.4827 65.15287 5\n",
      "2 -147.4827 65.15287 2\n",
      "3 -147.4827 65.15287 3\n",
      "4 -147.4827 65.15287 2\n",
      "5 -147.4827 65.15287 2\n",
      "6 -147.4827 65.15287 3\n",
      "          x        y z\n",
      "1 -147.4827 65.15287 5\n",
      "2 -147.4827 65.15287 2\n",
      "3 -147.4827 65.15287 3\n",
      "4 -147.4827 65.15287 2\n",
      "5 -147.4827 65.15287 2\n",
      "6 -147.4827 65.15287 3\n",
      "[1] \"Attempting to save to ./validation_saved_output.grd\"\n",
      "[1] \"Converted to Raster\"\n",
      "Reading layer `ChatanikaQuads_georeferenced' from data source \n",
      "  `/home/krbundy/GitHub/lecospec/Data/Vectors/ChatanikaQuads_georeferenced.shp' \n",
      "  using driver `ESRI Shapefile'\n",
      "Simple feature collection with 11 features and 3 fields\n",
      "Geometry type: POLYGON\n",
      "Dimension:     XY\n",
      "Bounding box:  xmin: -147.4827 ymin: 65.15281 xmax: -147.4806 ymax: 65.15287\n",
      "Geodetic CRS:  WGS 84\n",
      "Simple feature collection with 1 feature and 3 fields\n",
      "Geometry type: POLYGON\n",
      "Dimension:     XY\n",
      "Bounding box:  xmin: -147.4827 ymin: 65.15286 xmax: -147.4827 ymax: 65.15287\n",
      "Geodetic CRS:  GCS_unknown\n",
      "    CLASS_NAME CLASS_ID CLASS_CLRS                       geometry\n",
      "1 Chatanika100       11    0,0,128 POLYGON ((-147.4827 65.1528...\n"
     ]
    },
    {
     "name": "stderr",
     "output_type": "stream",
     "text": [
      "Saving 6.67 x 6.67 in image\n",
      "\n"
     ]
    },
    {
     "name": "stdout",
     "output_type": "stream",
     "text": [
      "Simple feature collection with 1 feature and 3 fields\n",
      "Geometry type: POLYGON\n",
      "Dimension:     XY\n",
      "Bounding box:  xmin: -147.4825 ymin: 65.15285 xmax: -147.4825 ymax: 65.15286\n",
      "Geodetic CRS:  GCS_unknown\n",
      "   CLASS_NAME CLASS_ID CLASS_CLRS                       geometry\n",
      "2 Chatanika90       10    0,255,0 POLYGON ((-147.4825 65.1528...\n"
     ]
    },
    {
     "name": "stderr",
     "output_type": "stream",
     "text": [
      "Saving 6.67 x 6.67 in image\n",
      "\n"
     ]
    },
    {
     "name": "stdout",
     "output_type": "stream",
     "text": [
      "Simple feature collection with 1 feature and 3 fields\n",
      "Geometry type: POLYGON\n",
      "Dimension:     XY\n",
      "Bounding box:  xmin: -147.4821 ymin: 65.15285 xmax: -147.4821 ymax: 65.15286\n",
      "Geodetic CRS:  GCS_unknown\n",
      "   CLASS_NAME CLASS_ID CLASS_CLRS                       geometry\n",
      "3 Chatanika70        8  0,128,128 POLYGON ((-147.4821 65.1528...\n"
     ]
    },
    {
     "name": "stderr",
     "output_type": "stream",
     "text": [
      "Saving 6.67 x 6.67 in image\n",
      "\n"
     ]
    },
    {
     "name": "stdout",
     "output_type": "stream",
     "text": [
      "Simple feature collection with 1 feature and 3 fields\n",
      "Geometry type: POLYGON\n",
      "Dimension:     XY\n",
      "Bounding box:  xmin: -147.4823 ymin: 65.15285 xmax: -147.4823 ymax: 65.15286\n",
      "Geodetic CRS:  GCS_unknown\n",
      "   CLASS_NAME CLASS_ID CLASS_CLRS                       geometry\n",
      "4 Chatanika80        9    128,0,0 POLYGON ((-147.4823 65.1528...\n"
     ]
    },
    {
     "name": "stderr",
     "output_type": "stream",
     "text": [
      "Saving 6.67 x 6.67 in image\n",
      "\n"
     ]
    },
    {
     "name": "stdout",
     "output_type": "stream",
     "text": [
      "Simple feature collection with 1 feature and 3 fields\n",
      "Geometry type: POLYGON\n",
      "Dimension:     XY\n",
      "Bounding box:  xmin: -147.4819 ymin: 65.15285 xmax: -147.4819 ymax: 65.15286\n",
      "Geodetic CRS:  GCS_unknown\n",
      "   CLASS_NAME CLASS_ID CLASS_CLRS                       geometry\n",
      "5 Chatanika60        7  128,128,0 POLYGON ((-147.4819 65.1528...\n"
     ]
    },
    {
     "name": "stderr",
     "output_type": "stream",
     "text": [
      "Saving 6.67 x 6.67 in image\n",
      "\n"
     ]
    },
    {
     "name": "stdout",
     "output_type": "stream",
     "text": [
      "Simple feature collection with 1 feature and 3 fields\n",
      "Geometry type: POLYGON\n",
      "Dimension:     XY\n",
      "Bounding box:  xmin: -147.4817 ymin: 65.15284 xmax: -147.4816 ymax: 65.15285\n",
      "Geodetic CRS:  GCS_unknown\n",
      "   CLASS_NAME CLASS_ID CLASS_CLRS                       geometry\n",
      "6 Chatanika50        6  255,0,255 POLYGON ((-147.4816 65.1528...\n"
     ]
    },
    {
     "name": "stderr",
     "output_type": "stream",
     "text": [
      "Saving 6.67 x 6.67 in image\n",
      "\n"
     ]
    },
    {
     "name": "stdout",
     "output_type": "stream",
     "text": [
      "Simple feature collection with 1 feature and 3 fields\n",
      "Geometry type: POLYGON\n",
      "Dimension:     XY\n",
      "Bounding box:  xmin: -147.4815 ymin: 65.15283 xmax: -147.4814 ymax: 65.15284\n",
      "Geodetic CRS:  GCS_unknown\n",
      "   CLASS_NAME CLASS_ID CLASS_CLRS                       geometry\n",
      "7 Chatanika40        5  0,255,255 POLYGON ((-147.4814 65.1528...\n"
     ]
    },
    {
     "name": "stderr",
     "output_type": "stream",
     "text": [
      "Saving 6.67 x 6.67 in image\n",
      "\n"
     ]
    },
    {
     "name": "stdout",
     "output_type": "stream",
     "text": [
      "Simple feature collection with 1 feature and 3 fields\n",
      "Geometry type: POLYGON\n",
      "Dimension:     XY\n",
      "Bounding box:  xmin: -147.4812 ymin: 65.15282 xmax: -147.4812 ymax: 65.15283\n",
      "Geodetic CRS:  GCS_unknown\n",
      "   CLASS_NAME CLASS_ID CLASS_CLRS                       geometry\n",
      "8 Chatanika30        4  255,255,0 POLYGON ((-147.4812 65.1528...\n"
     ]
    },
    {
     "name": "stderr",
     "output_type": "stream",
     "text": [
      "Saving 6.67 x 6.67 in image\n",
      "\n"
     ]
    },
    {
     "name": "stdout",
     "output_type": "stream",
     "text": [
      "Simple feature collection with 1 feature and 3 fields\n",
      "Geometry type: POLYGON\n",
      "Dimension:     XY\n",
      "Bounding box:  xmin: -147.481 ymin: 65.15281 xmax: -147.481 ymax: 65.15282\n",
      "Geodetic CRS:  GCS_unknown\n",
      "   CLASS_NAME CLASS_ID CLASS_CLRS                       geometry\n",
      "9 Chatanika20        3    0,0,255 POLYGON ((-147.481 65.15282...\n"
     ]
    },
    {
     "name": "stderr",
     "output_type": "stream",
     "text": [
      "Saving 6.67 x 6.67 in image\n",
      "\n"
     ]
    },
    {
     "name": "stdout",
     "output_type": "stream",
     "text": [
      "Simple feature collection with 1 feature and 3 fields\n",
      "Geometry type: POLYGON\n",
      "Dimension:     XY\n",
      "Bounding box:  xmin: -147.4808 ymin: 65.15281 xmax: -147.4808 ymax: 65.15282\n",
      "Geodetic CRS:  GCS_unknown\n",
      "    CLASS_NAME CLASS_ID CLASS_CLRS                       geometry\n",
      "10 Chatanika10        2    0,128,0 POLYGON ((-147.4808 65.1528...\n"
     ]
    },
    {
     "name": "stderr",
     "output_type": "stream",
     "text": [
      "Saving 6.67 x 6.67 in image\n",
      "\n"
     ]
    },
    {
     "name": "stdout",
     "output_type": "stream",
     "text": [
      "Simple feature collection with 1 feature and 3 fields\n",
      "Geometry type: POLYGON\n",
      "Dimension:     XY\n",
      "Bounding box:  xmin: -147.4806 ymin: 65.15281 xmax: -147.4806 ymax: 65.15281\n",
      "Geodetic CRS:  GCS_unknown\n",
      "   CLASS_NAME CLASS_ID CLASS_CLRS                       geometry\n",
      "11 Chatanika0        1    255,0,0 POLYGON ((-147.4806 65.1528...\n"
     ]
    },
    {
     "name": "stderr",
     "output_type": "stream",
     "text": [
      "Saving 6.67 x 6.67 in image\n",
      "\n",
      "Saving 6.67 x 6.67 in image\n",
      "\n",
      "Saving 6.67 x 6.67 in image\n",
      "\n",
      "Saving 6.67 x 6.67 in image\n",
      "\n",
      "Saving 6.67 x 6.67 in image\n",
      "\n",
      "Saving 6.67 x 6.67 in image\n",
      "\n",
      "Saving 6.67 x 6.67 in image\n",
      "\n",
      "Saving 6.67 x 6.67 in image\n",
      "\n",
      "Saving 6.67 x 6.67 in image\n",
      "\n",
      "Saving 6.67 x 6.67 in image\n",
      "\n",
      "Saving 6.67 x 6.67 in image\n",
      "\n",
      "Saving 6.67 x 6.67 in image\n",
      "\n"
     ]
    },
    {
     "name": "stdout",
     "output_type": "stream",
     "text": [
      "[1] \"preprocessing raster at Data/Ground_Validation/Imagery/TwelveMileGulchQuads1.envi\"\n",
      "[1] \"Converted to Data frame?\"\n",
      "[1] TRUE\n",
      "[1] \"Noisy columns removed\"\n",
      "[1] TRUE\n",
      "[1] \"Filtered\"\n",
      "[1] TRUE\n"
     ]
    },
    {
     "name": "stderr",
     "output_type": "stream",
     "text": [
      "Using spline to predict value at new bands...\n",
      "\n",
      "Beware the spectra are now partially smoothed.\n",
      "\n"
     ]
    },
    {
     "name": "stdout",
     "output_type": "stream",
     "text": [
      "[1] \"Imputing...\"\n",
      "[1] \"Handling Outliers with method: none\"\n",
      "[1] \"Transforming the data with transform: none\"\n",
      "         x        y z\n",
      "1 -145.979 65.40191 3\n",
      "2 -145.979 65.40191 3\n",
      "3 -145.979 65.40191 3\n",
      "4 -145.979 65.40191 3\n",
      "5 -145.979 65.40191 3\n",
      "6 -145.979 65.40191 3\n",
      "         x        y z\n",
      "1 -145.979 65.40191 3\n",
      "2 -145.979 65.40191 3\n",
      "3 -145.979 65.40191 3\n",
      "4 -145.979 65.40191 3\n",
      "5 -145.979 65.40191 3\n",
      "6 -145.979 65.40191 3\n",
      "[1] \"Attempting to save to ./validation_saved_output.grd\"\n",
      "[1] \"Converted to Raster\"\n",
      "Reading layer `TwelveMileQ0_10_20_30_40m' from data source \n",
      "  `/home/krbundy/GitHub/lecospec/Data/Vectors/TwelveMileQ0_10_20_30_40m.shp' \n",
      "  using driver `ESRI Shapefile'\n",
      "Simple feature collection with 5 features and 3 fields\n",
      "Geometry type: POLYGON\n",
      "Dimension:     XY\n",
      "Bounding box:  xmin: -145.979 ymin: 65.4018 xmax: -145.9782 ymax: 65.40191\n",
      "Geodetic CRS:  WGS 84\n",
      "Simple feature collection with 1 feature and 3 fields\n",
      "Geometry type: POLYGON\n",
      "Dimension:     XY\n",
      "Bounding box:  xmin: -145.979 ymin: 65.4019 xmax: -145.979 ymax: 65.40191\n",
      "Geodetic CRS:  GCS_unknown\n",
      "  CLASS_ID   CLASS_NAME AREA                       geometry\n",
      "1        4 Twelvemile40  288 POLYGON ((-145.979 65.4019,...\n"
     ]
    },
    {
     "name": "stderr",
     "output_type": "stream",
     "text": [
      "Saving 6.67 x 6.67 in image\n",
      "\n"
     ]
    },
    {
     "name": "stdout",
     "output_type": "stream",
     "text": [
      "Simple feature collection with 1 feature and 3 fields\n",
      "Geometry type: POLYGON\n",
      "Dimension:     XY\n",
      "Bounding box:  xmin: -145.9788 ymin: 65.40187 xmax: -145.9788 ymax: 65.40188\n",
      "Geodetic CRS:  GCS_unknown\n",
      "  CLASS_ID   CLASS_NAME AREA                       geometry\n",
      "2        1 Twelvemile30  281 POLYGON ((-145.9788 65.4018...\n"
     ]
    },
    {
     "name": "stderr",
     "output_type": "stream",
     "text": [
      "Saving 6.67 x 6.67 in image\n",
      "\n"
     ]
    },
    {
     "name": "stdout",
     "output_type": "stream",
     "text": [
      "Simple feature collection with 1 feature and 3 fields\n",
      "Geometry type: POLYGON\n",
      "Dimension:     XY\n",
      "Bounding box:  xmin: -145.9786 ymin: 65.40185 xmax: -145.9786 ymax: 65.40186\n",
      "Geodetic CRS:  GCS_unknown\n",
      "  CLASS_ID   CLASS_NAME AREA                       geometry\n",
      "3        2 Twelvemile20  328 POLYGON ((-145.9786 65.4018...\n"
     ]
    },
    {
     "name": "stderr",
     "output_type": "stream",
     "text": [
      "Saving 6.67 x 6.67 in image\n",
      "\n"
     ]
    },
    {
     "name": "stdout",
     "output_type": "stream",
     "text": [
      "Simple feature collection with 1 feature and 3 fields\n",
      "Geometry type: POLYGON\n",
      "Dimension:     XY\n",
      "Bounding box:  xmin: -145.9784 ymin: 65.40183 xmax: -145.9784 ymax: 65.40184\n",
      "Geodetic CRS:  GCS_unknown\n",
      "  CLASS_ID   CLASS_NAME AREA                       geometry\n",
      "4        3 Twelvemile10  308 POLYGON ((-145.9784 65.4018...\n"
     ]
    },
    {
     "name": "stderr",
     "output_type": "stream",
     "text": [
      "Saving 6.67 x 6.67 in image\n",
      "\n"
     ]
    },
    {
     "name": "stdout",
     "output_type": "stream",
     "text": [
      "Simple feature collection with 1 feature and 3 fields\n",
      "Geometry type: POLYGON\n",
      "Dimension:     XY\n",
      "Bounding box:  xmin: -145.9782 ymin: 65.4018 xmax: -145.9782 ymax: 65.40181\n",
      "Geodetic CRS:  GCS_unknown\n",
      "  CLASS_ID  CLASS_NAME AREA                       geometry\n",
      "5        5 Twelvemile0  336 POLYGON ((-145.9782 65.4018...\n"
     ]
    },
    {
     "name": "stderr",
     "output_type": "stream",
     "text": [
      "Saving 6.67 x 6.67 in image\n",
      "\n",
      "Saving 6.67 x 6.67 in image\n",
      "\n",
      "Saving 6.67 x 6.67 in image\n",
      "\n",
      "Saving 6.67 x 6.67 in image\n",
      "\n",
      "Saving 6.67 x 6.67 in image\n",
      "\n",
      "Saving 6.67 x 6.67 in image\n",
      "\n"
     ]
    },
    {
     "name": "stdout",
     "output_type": "stream",
     "text": [
      "[1] \"preprocessing raster at Data/Ground_Validation/Imagery/TwelveMileGulchQuads2.envi\"\n",
      "[1] \"Converted to Data frame?\"\n",
      "[1] TRUE\n",
      "[1] \"Noisy columns removed\"\n",
      "[1] TRUE\n",
      "[1] \"Filtered\"\n",
      "[1] TRUE\n"
     ]
    },
    {
     "name": "stderr",
     "output_type": "stream",
     "text": [
      "Using spline to predict value at new bands...\n",
      "\n",
      "Beware the spectra are now partially smoothed.\n",
      "\n"
     ]
    },
    {
     "name": "stdout",
     "output_type": "stream",
     "text": [
      "[1] \"Imputing...\"\n",
      "[1] \"Handling Outliers with method: none\"\n",
      "[1] \"Transforming the data with transform: none\"\n",
      "          x        y z\n",
      "1 -145.9802 65.40203 3\n",
      "2 -145.9802 65.40203 3\n",
      "3 -145.9802 65.40203 3\n",
      "4 -145.9802 65.40203 3\n",
      "5 -145.9802 65.40203 3\n",
      "6 -145.9802 65.40203 3\n",
      "          x        y z\n",
      "1 -145.9802 65.40203 3\n",
      "2 -145.9802 65.40203 3\n",
      "3 -145.9802 65.40203 3\n",
      "4 -145.9802 65.40203 3\n",
      "5 -145.9802 65.40203 3\n",
      "6 -145.9802 65.40203 3\n",
      "[1] \"Attempting to save to ./validation_saved_output.grd\"\n",
      "[1] \"Converted to Raster\"\n",
      "Reading layer `TwelveMileQ70_80_90_100m' from data source \n",
      "  `/home/krbundy/GitHub/lecospec/Data/Vectors/TwelveMileQ70_80_90_100m.shp' \n",
      "  using driver `ESRI Shapefile'\n",
      "Simple feature collection with 4 features and 3 fields\n",
      "Geometry type: POLYGON\n",
      "Dimension:     XY\n",
      "Bounding box:  xmin: -145.9802 ymin: 65.40196 xmax: -145.9796 ymax: 65.40203\n",
      "Geodetic CRS:  WGS 84\n",
      "Simple feature collection with 1 feature and 3 fields\n",
      "Geometry type: POLYGON\n",
      "Dimension:     XY\n",
      "Bounding box:  xmin: -145.9802 ymin: 65.40202 xmax: -145.9802 ymax: 65.40203\n",
      "Geodetic CRS:  GCS_unknown\n",
      "  CLASS_ID    CLASS_NAME AREA                       geometry\n",
      "1        4 Twelvemile100  492 POLYGON ((-145.9802 65.4020...\n"
     ]
    },
    {
     "name": "stderr",
     "output_type": "stream",
     "text": [
      "Saving 6.67 x 6.67 in image\n",
      "\n"
     ]
    },
    {
     "name": "stdout",
     "output_type": "stream",
     "text": [
      "Simple feature collection with 1 feature and 3 fields\n",
      "Geometry type: POLYGON\n",
      "Dimension:     XY\n",
      "Bounding box:  xmin: -145.98 ymin: 65.402 xmax: -145.98 ymax: 65.40201\n",
      "Geodetic CRS:  GCS_unknown\n",
      "  CLASS_ID   CLASS_NAME AREA                       geometry\n",
      "2        3 Twelvemile90  473 POLYGON ((-145.98 65.402, -...\n"
     ]
    },
    {
     "name": "stderr",
     "output_type": "stream",
     "text": [
      "Saving 6.67 x 6.67 in image\n",
      "\n"
     ]
    },
    {
     "name": "stdout",
     "output_type": "stream",
     "text": [
      "Simple feature collection with 1 feature and 3 fields\n",
      "Geometry type: POLYGON\n",
      "Dimension:     XY\n",
      "Bounding box:  xmin: -145.9798 ymin: 65.40198 xmax: -145.9798 ymax: 65.40199\n",
      "Geodetic CRS:  GCS_unknown\n",
      "  CLASS_ID   CLASS_NAME AREA                       geometry\n",
      "3        2 Twelvemile80  631 POLYGON ((-145.9798 65.4019...\n"
     ]
    },
    {
     "name": "stderr",
     "output_type": "stream",
     "text": [
      "Saving 6.67 x 6.67 in image\n",
      "\n"
     ]
    },
    {
     "name": "stdout",
     "output_type": "stream",
     "text": [
      "Simple feature collection with 1 feature and 3 fields\n",
      "Geometry type: POLYGON\n",
      "Dimension:     XY\n",
      "Bounding box:  xmin: -145.9796 ymin: 65.40196 xmax: -145.9796 ymax: 65.40197\n",
      "Geodetic CRS:  GCS_unknown\n",
      "  CLASS_ID   CLASS_NAME AREA                       geometry\n",
      "4        1 Twelvemile70  518 POLYGON ((-145.9796 65.4019...\n"
     ]
    },
    {
     "name": "stderr",
     "output_type": "stream",
     "text": [
      "Saving 6.67 x 6.67 in image\n",
      "\n",
      "Saving 6.67 x 6.67 in image\n",
      "\n",
      "Saving 6.67 x 6.67 in image\n",
      "\n",
      "Saving 6.67 x 6.67 in image\n",
      "\n",
      "Saving 6.67 x 6.67 in image\n",
      "\n"
     ]
    },
    {
     "name": "stdout",
     "output_type": "stream",
     "text": [
      "[1] \"preprocessing raster at Data/Ground_Validation/Imagery/EightMileQuads.envi\"\n",
      "[1] \"Converted to Data frame?\"\n",
      "[1] TRUE\n",
      "[1] \"Noisy columns removed\"\n",
      "[1] TRUE\n",
      "[1] \"Filtered\"\n",
      "[1] TRUE\n"
     ]
    },
    {
     "name": "stderr",
     "output_type": "stream",
     "text": [
      "Using spline to predict value at new bands...\n",
      "\n",
      "Beware the spectra are now partially smoothed.\n",
      "\n"
     ]
    },
    {
     "name": "stdout",
     "output_type": "stream",
     "text": [
      "[1] \"Imputing...\"\n",
      "[1] \"Handling Outliers with method: none\"\n",
      "[1] \"Transforming the data with transform: none\"\n",
      "          x        y z\n",
      "1 -149.2529 63.87686 3\n",
      "2 -149.2529 63.87686 3\n",
      "3 -149.2529 63.87686 3\n",
      "4 -149.2529 63.87686 3\n",
      "5 -149.2529 63.87686 3\n",
      "6 -149.2529 63.87686 3\n",
      "          x        y z\n",
      "1 -149.2529 63.87686 3\n",
      "2 -149.2529 63.87686 3\n",
      "3 -149.2529 63.87686 3\n",
      "4 -149.2529 63.87686 3\n",
      "5 -149.2529 63.87686 3\n",
      "6 -149.2529 63.87686 3\n",
      "[1] \"Attempting to save to ./validation_saved_output.grd\"\n",
      "[1] \"Converted to Raster\"\n",
      "Reading layer `EightMile_Quadrats_revised' from data source \n",
      "  `/home/krbundy/GitHub/lecospec/Data/Vectors/EightMile_Quadrats_revised.shp' \n",
      "  using driver `ESRI Shapefile'\n",
      "Simple feature collection with 11 features and 3 fields\n",
      "Geometry type: POLYGON\n",
      "Dimension:     XY\n",
      "Bounding box:  xmin: -149.2549 ymin: 63.87666 xmax: -149.2529 ymax: 63.87686\n",
      "Geodetic CRS:  WGS 84\n",
      "Simple feature collection with 1 feature and 3 fields\n",
      "Geometry type: POLYGON\n",
      "Dimension:     XY\n",
      "Bounding box:  xmin: -149.2547 ymin: 63.87667 xmax: -149.2546 ymax: 63.87669\n",
      "Geodetic CRS:  GCS_unknown\n",
      "   CLASS_NAME CLASS_ID CLASS_CLRS                       geometry\n",
      "1 Eightmile10        2    0,128,0 POLYGON ((-149.2547 63.8766...\n"
     ]
    },
    {
     "name": "stderr",
     "output_type": "stream",
     "text": [
      "Saving 6.67 x 6.67 in image\n",
      "\n"
     ]
    },
    {
     "name": "stdout",
     "output_type": "stream",
     "text": [
      "Simple feature collection with 1 feature and 3 fields\n",
      "Geometry type: POLYGON\n",
      "Dimension:     XY\n",
      "Bounding box:  xmin: -149.2549 ymin: 63.87666 xmax: -149.2548 ymax: 63.87667\n",
      "Geodetic CRS:  GCS_unknown\n",
      "  CLASS_NAME CLASS_ID CLASS_CLRS                       geometry\n",
      "2 Eightmile0        1    255,0,0 POLYGON ((-149.2548 63.8766...\n"
     ]
    },
    {
     "name": "stderr",
     "output_type": "stream",
     "text": [
      "Saving 6.67 x 6.67 in image\n",
      "\n"
     ]
    },
    {
     "name": "stdout",
     "output_type": "stream",
     "text": [
      "Simple feature collection with 1 feature and 3 fields\n",
      "Geometry type: POLYGON\n",
      "Dimension:     XY\n",
      "Bounding box:  xmin: -149.2537 ymin: 63.87675 xmax: -149.2537 ymax: 63.87677\n",
      "Geodetic CRS:  GCS_unknown\n",
      "   CLASS_NAME CLASS_ID CLASS_CLRS                       geometry\n",
      "3 Eightmile60        7  128,128,0 POLYGON ((-149.2537 63.8767...\n"
     ]
    },
    {
     "name": "stderr",
     "output_type": "stream",
     "text": [
      "Saving 6.67 x 6.67 in image\n",
      "\n"
     ]
    },
    {
     "name": "stdout",
     "output_type": "stream",
     "text": [
      "Simple feature collection with 1 feature and 3 fields\n",
      "Geometry type: POLYGON\n",
      "Dimension:     XY\n",
      "Bounding box:  xmin: -149.2539 ymin: 63.87673 xmax: -149.2539 ymax: 63.87674\n",
      "Geodetic CRS:  GCS_unknown\n",
      "   CLASS_NAME CLASS_ID CLASS_CLRS                       geometry\n",
      "4 Eightmile50        6  255,0,255 POLYGON ((-149.2539 63.8767...\n"
     ]
    },
    {
     "name": "stderr",
     "output_type": "stream",
     "text": [
      "Saving 6.67 x 6.67 in image\n",
      "\n"
     ]
    },
    {
     "name": "stdout",
     "output_type": "stream",
     "text": [
      "Simple feature collection with 1 feature and 3 fields\n",
      "Geometry type: POLYGON\n",
      "Dimension:     XY\n",
      "Bounding box:  xmin: -149.2541 ymin: 63.87672 xmax: -149.254 ymax: 63.87673\n",
      "Geodetic CRS:  GCS_unknown\n",
      "   CLASS_NAME CLASS_ID CLASS_CLRS                       geometry\n",
      "5 Eightmile40        5  0,255,255 POLYGON ((-149.254 63.87673...\n"
     ]
    },
    {
     "name": "stderr",
     "output_type": "stream",
     "text": [
      "Saving 6.67 x 6.67 in image\n",
      "\n"
     ]
    },
    {
     "name": "stdout",
     "output_type": "stream",
     "text": [
      "Simple feature collection with 1 feature and 3 fields\n",
      "Geometry type: POLYGON\n",
      "Dimension:     XY\n",
      "Bounding box:  xmin: -149.2543 ymin: 63.87671 xmax: -149.2542 ymax: 63.87672\n",
      "Geodetic CRS:  GCS_unknown\n",
      "   CLASS_NAME CLASS_ID CLASS_CLRS                       geometry\n",
      "6 Eightmile30        4  255,255,0 POLYGON ((-149.2542 63.8767...\n"
     ]
    },
    {
     "name": "stderr",
     "output_type": "stream",
     "text": [
      "Saving 6.67 x 6.67 in image\n",
      "\n"
     ]
    },
    {
     "name": "stdout",
     "output_type": "stream",
     "text": [
      "Simple feature collection with 1 feature and 3 fields\n",
      "Geometry type: POLYGON\n",
      "Dimension:     XY\n",
      "Bounding box:  xmin: -149.2545 ymin: 63.87669 xmax: -149.2544 ymax: 63.8767\n",
      "Geodetic CRS:  GCS_unknown\n",
      "   CLASS_NAME CLASS_ID CLASS_CLRS                       geometry\n",
      "7 Eightmile20        3    0,0,255 POLYGON ((-149.2544 63.8767...\n"
     ]
    },
    {
     "name": "stderr",
     "output_type": "stream",
     "text": [
      "Saving 6.67 x 6.67 in image\n",
      "\n"
     ]
    },
    {
     "name": "stdout",
     "output_type": "stream",
     "text": [
      "Simple feature collection with 1 feature and 3 fields\n",
      "Geometry type: POLYGON\n",
      "Dimension:     XY\n",
      "Bounding box:  xmin: -149.2529 ymin: 63.87685 xmax: -149.2529 ymax: 63.87686\n",
      "Geodetic CRS:  GCS_unknown\n",
      "    CLASS_NAME CLASS_ID CLASS_CLRS                       geometry\n",
      "8 Eightmile100       11    0,255,0 POLYGON ((-149.2529 63.8768...\n"
     ]
    },
    {
     "name": "stderr",
     "output_type": "stream",
     "text": [
      "Saving 6.67 x 6.67 in image\n",
      "\n"
     ]
    },
    {
     "name": "stdout",
     "output_type": "stream",
     "text": [
      "Simple feature collection with 1 feature and 3 fields\n",
      "Geometry type: POLYGON\n",
      "Dimension:     XY\n",
      "Bounding box:  xmin: -149.2531 ymin: 63.87682 xmax: -149.2531 ymax: 63.87684\n",
      "Geodetic CRS:  GCS_unknown\n",
      "   CLASS_NAME CLASS_ID CLASS_CLRS                       geometry\n",
      "9 Eightmile90       10    128,0,0 POLYGON ((-149.2531 63.8768...\n"
     ]
    },
    {
     "name": "stderr",
     "output_type": "stream",
     "text": [
      "Saving 6.67 x 6.67 in image\n",
      "\n"
     ]
    },
    {
     "name": "stdout",
     "output_type": "stream",
     "text": [
      "Simple feature collection with 1 feature and 3 fields\n",
      "Geometry type: POLYGON\n",
      "Dimension:     XY\n",
      "Bounding box:  xmin: -149.2533 ymin: 63.8768 xmax: -149.2533 ymax: 63.87681\n",
      "Geodetic CRS:  GCS_unknown\n",
      "    CLASS_NAME CLASS_ID CLASS_CLRS                       geometry\n",
      "10 Eightmile80        9  255,255,0 POLYGON ((-149.2533 63.8768...\n"
     ]
    },
    {
     "name": "stderr",
     "output_type": "stream",
     "text": [
      "Saving 6.67 x 6.67 in image\n",
      "\n"
     ]
    },
    {
     "name": "stdout",
     "output_type": "stream",
     "text": [
      "Simple feature collection with 1 feature and 3 fields\n",
      "Geometry type: POLYGON\n",
      "Dimension:     XY\n",
      "Bounding box:  xmin: -149.2535 ymin: 63.87678 xmax: -149.2535 ymax: 63.87679\n",
      "Geodetic CRS:  GCS_unknown\n",
      "    CLASS_NAME CLASS_ID CLASS_CLRS                       geometry\n",
      "11 Eightmile70        8  0,128,128 POLYGON ((-149.2535 63.8767...\n"
     ]
    },
    {
     "name": "stderr",
     "output_type": "stream",
     "text": [
      "Saving 6.67 x 6.67 in image\n",
      "\n",
      "Saving 6.67 x 6.67 in image\n",
      "\n",
      "Saving 6.67 x 6.67 in image\n",
      "\n",
      "Saving 6.67 x 6.67 in image\n",
      "\n",
      "Saving 6.67 x 6.67 in image\n",
      "\n",
      "Saving 6.67 x 6.67 in image\n",
      "\n",
      "Saving 6.67 x 6.67 in image\n",
      "\n",
      "Saving 6.67 x 6.67 in image\n",
      "\n",
      "Saving 6.67 x 6.67 in image\n",
      "\n",
      "Saving 6.67 x 6.67 in image\n",
      "\n",
      "Saving 6.67 x 6.67 in image\n",
      "\n",
      "Saving 6.67 x 6.67 in image\n",
      "\n"
     ]
    },
    {
     "name": "stdout",
     "output_type": "stream",
     "text": [
      "[1] \"preprocessing raster at Data/Ground_Validation/Imagery/MurphDomeQuads0_10.envi\"\n",
      "[1] \"Converted to Data frame?\"\n",
      "[1] TRUE\n",
      "[1] \"Noisy columns removed\"\n",
      "[1] TRUE\n",
      "[1] \"Filtered\"\n",
      "[1] TRUE\n"
     ]
    },
    {
     "name": "stderr",
     "output_type": "stream",
     "text": [
      "Using spline to predict value at new bands...\n",
      "\n",
      "Beware the spectra are now partially smoothed.\n",
      "\n"
     ]
    },
    {
     "name": "stdout",
     "output_type": "stream",
     "text": [
      "[1] \"Imputing...\"\n",
      "[1] \"Handling Outliers with method: none\"\n",
      "[1] \"Transforming the data with transform: none\"\n",
      "          x       y z\n",
      "1 -148.3535 64.9538 3\n",
      "2 -148.3535 64.9538 1\n",
      "3 -148.3535 64.9538 3\n",
      "4 -148.3535 64.9538 3\n",
      "5 -148.3535 64.9538 3\n",
      "6 -148.3535 64.9538 3\n",
      "          x       y z\n",
      "1 -148.3535 64.9538 3\n",
      "2 -148.3535 64.9538 1\n",
      "3 -148.3535 64.9538 3\n",
      "4 -148.3535 64.9538 3\n",
      "5 -148.3535 64.9538 3\n",
      "6 -148.3535 64.9538 3\n",
      "[1] \"Attempting to save to ./validation_saved_output.grd\"\n",
      "[1] \"Converted to Raster\"\n",
      "Reading layer `MurphyQuads0_10m' from data source \n",
      "  `/home/krbundy/GitHub/lecospec/Data/Vectors/MurphyQuads0_10m.shp' \n",
      "  using driver `ESRI Shapefile'\n",
      "Simple feature collection with 2 features and 3 fields\n",
      "Geometry type: POLYGON\n",
      "Dimension:     XY\n",
      "Bounding box:  xmin: -148.3535 ymin: 64.95372 xmax: -148.3533 ymax: 64.9538\n",
      "Geodetic CRS:  WGS 84\n",
      "Simple feature collection with 1 feature and 3 fields\n",
      "Geometry type: POLYGON\n",
      "Dimension:     XY\n",
      "Bounding box:  xmin: -148.3535 ymin: 64.95379 xmax: -148.3535 ymax: 64.9538\n",
      "Geodetic CRS:  GCS_unknown\n",
      "    CLASS_NAME CLASS_ID CLASS_CLRS                       geometry\n",
      "1 Murphydome10        1    0,0,255 POLYGON ((-148.3535 64.9538...\n"
     ]
    },
    {
     "name": "stderr",
     "output_type": "stream",
     "text": [
      "Saving 6.67 x 6.67 in image\n",
      "\n"
     ]
    },
    {
     "name": "stdout",
     "output_type": "stream",
     "text": [
      "Simple feature collection with 1 feature and 3 fields\n",
      "Geometry type: POLYGON\n",
      "Dimension:     XY\n",
      "Bounding box:  xmin: -148.3534 ymin: 64.95372 xmax: -148.3533 ymax: 64.95373\n",
      "Geodetic CRS:  GCS_unknown\n",
      "   CLASS_NAME CLASS_ID CLASS_CLRS                       geometry\n",
      "2 Murphydome0        2    0,128,0 POLYGON ((-148.3534 64.9537...\n"
     ]
    },
    {
     "name": "stderr",
     "output_type": "stream",
     "text": [
      "Saving 6.67 x 6.67 in image\n",
      "\n",
      "Saving 6.67 x 6.67 in image\n",
      "\n",
      "Saving 6.67 x 6.67 in image\n",
      "\n"
     ]
    },
    {
     "name": "stdout",
     "output_type": "stream",
     "text": [
      "[1] \"preprocessing raster at Data/Ground_Validation/Imagery/MurphDomeQuads20_50.envi\"\n",
      "[1] \"Converted to Data frame?\"\n",
      "[1] TRUE\n",
      "[1] \"Noisy columns removed\"\n",
      "[1] TRUE\n",
      "[1] \"Filtered\"\n",
      "[1] TRUE\n"
     ]
    },
    {
     "name": "stderr",
     "output_type": "stream",
     "text": [
      "Using spline to predict value at new bands...\n",
      "\n",
      "Beware the spectra are now partially smoothed.\n",
      "\n"
     ]
    },
    {
     "name": "stdout",
     "output_type": "stream",
     "text": [
      "[1] \"Imputing...\"\n",
      "[1] \"Handling Outliers with method: none\"\n",
      "[1] \"Transforming the data with transform: none\"\n",
      "          x        y z\n",
      "1 -148.3540 64.95407 3\n",
      "2 -148.3541 64.95407 2\n",
      "3 -148.3540 64.95407 3\n",
      "4 -148.3540 64.95407 3\n",
      "5 -148.3541 64.95407 3\n",
      "6 -148.3541 64.95407 2\n",
      "          x        y z\n",
      "1 -148.3540 64.95407 3\n",
      "2 -148.3541 64.95407 2\n",
      "3 -148.3540 64.95407 3\n",
      "4 -148.3540 64.95407 3\n",
      "5 -148.3541 64.95407 3\n",
      "6 -148.3541 64.95407 2\n",
      "[1] \"Attempting to save to ./validation_saved_output.grd\"\n",
      "[1] \"Converted to Raster\"\n",
      "Reading layer `MurphyQuads20_50m' from data source \n",
      "  `/home/krbundy/GitHub/lecospec/Data/Vectors/MurphyQuads20_50m.shp' \n",
      "  using driver `ESRI Shapefile'\n",
      "Simple feature collection with 4 features and 3 fields\n",
      "Geometry type: POLYGON\n",
      "Dimension:     XY\n",
      "Bounding box:  xmin: -148.3541 ymin: 64.95384 xmax: -148.3536 ymax: 64.95407\n",
      "Geodetic CRS:  WGS 84\n",
      "Simple feature collection with 1 feature and 3 fields\n",
      "Geometry type: POLYGON\n",
      "Dimension:     XY\n",
      "Bounding box:  xmin: -148.3541 ymin: 64.95406 xmax: -148.354 ymax: 64.95407\n",
      "Geodetic CRS:  GCS_unknown\n",
      "    CLASS_NAME CLASS_ID CLASS_CLRS                       geometry\n",
      "1 Murphydome50        1  128,128,0 POLYGON ((-148.354 64.95407...\n"
     ]
    },
    {
     "name": "stderr",
     "output_type": "stream",
     "text": [
      "Saving 6.67 x 6.67 in image\n",
      "\n"
     ]
    },
    {
     "name": "stdout",
     "output_type": "stream",
     "text": [
      "Simple feature collection with 1 feature and 3 fields\n",
      "Geometry type: POLYGON\n",
      "Dimension:     XY\n",
      "Bounding box:  xmin: -148.3539 ymin: 64.95399 xmax: -148.3539 ymax: 64.954\n",
      "Geodetic CRS:  GCS_unknown\n",
      "    CLASS_NAME CLASS_ID CLASS_CLRS                       geometry\n",
      "2 Murphydome40        2  255,0,255 POLYGON ((-148.3539 64.954,...\n"
     ]
    },
    {
     "name": "stderr",
     "output_type": "stream",
     "text": [
      "Saving 6.67 x 6.67 in image\n",
      "\n"
     ]
    },
    {
     "name": "stdout",
     "output_type": "stream",
     "text": [
      "Simple feature collection with 1 feature and 3 fields\n",
      "Geometry type: POLYGON\n",
      "Dimension:     XY\n",
      "Bounding box:  xmin: -148.3538 ymin: 64.95392 xmax: -148.3537 ymax: 64.95393\n",
      "Geodetic CRS:  GCS_unknown\n",
      "    CLASS_NAME CLASS_ID CLASS_CLRS                       geometry\n",
      "3 Murphydome30        3  0,255,255 POLYGON ((-148.3538 64.9539...\n"
     ]
    },
    {
     "name": "stderr",
     "output_type": "stream",
     "text": [
      "Saving 6.67 x 6.67 in image\n",
      "\n"
     ]
    },
    {
     "name": "stdout",
     "output_type": "stream",
     "text": [
      "Simple feature collection with 1 feature and 3 fields\n",
      "Geometry type: POLYGON\n",
      "Dimension:     XY\n",
      "Bounding box:  xmin: -148.3537 ymin: 64.95384 xmax: -148.3536 ymax: 64.95386\n",
      "Geodetic CRS:  GCS_unknown\n",
      "    CLASS_NAME CLASS_ID CLASS_CLRS                       geometry\n",
      "4 Murphydome20        4  255,255,0 POLYGON ((-148.3536 64.9538...\n"
     ]
    },
    {
     "name": "stderr",
     "output_type": "stream",
     "text": [
      "Saving 6.67 x 6.67 in image\n",
      "\n",
      "Saving 6.67 x 6.67 in image\n",
      "\n",
      "Saving 6.67 x 6.67 in image\n",
      "\n",
      "Saving 6.67 x 6.67 in image\n",
      "\n",
      "Saving 6.67 x 6.67 in image\n",
      "\n"
     ]
    },
    {
     "name": "stdout",
     "output_type": "stream",
     "text": [
      "[1] \"preprocessing raster at Data/Ground_Validation/Imagery/MurphDomeQuads60_100.envi\"\n",
      "[1] \"Converted to Data frame?\"\n",
      "[1] TRUE\n",
      "[1] \"Noisy columns removed\"\n",
      "[1] TRUE\n",
      "[1] \"Filtered\"\n",
      "[1] TRUE\n"
     ]
    },
    {
     "name": "stderr",
     "output_type": "stream",
     "text": [
      "Using spline to predict value at new bands...\n",
      "\n",
      "Beware the spectra are now partially smoothed.\n",
      "\n"
     ]
    },
    {
     "name": "stdout",
     "output_type": "stream",
     "text": [
      "[1] \"Imputing...\"\n",
      "[1] \"Handling Outliers with method: none\"\n",
      "[1] \"Transforming the data with transform: none\"\n",
      "          x        y z\n",
      "1 -148.3548 64.95441 3\n",
      "2 -148.3548 64.95441 3\n",
      "3 -148.3548 64.95441 3\n",
      "4 -148.3548 64.95441 3\n",
      "5 -148.3548 64.95441 3\n",
      "6 -148.3548 64.95441 3\n",
      "          x        y z\n",
      "1 -148.3548 64.95441 3\n",
      "2 -148.3548 64.95441 3\n",
      "3 -148.3548 64.95441 3\n",
      "4 -148.3548 64.95441 3\n",
      "5 -148.3548 64.95441 3\n",
      "6 -148.3548 64.95441 3\n",
      "[1] \"Attempting to save to ./validation_saved_output.grd\"\n",
      "[1] \"Converted to Raster\"\n",
      "Reading layer `MurphyQuads60_100m' from data source \n",
      "  `/home/krbundy/GitHub/lecospec/Data/Vectors/MurphyQuads60_100m.shp' \n",
      "  using driver `ESRI Shapefile'\n",
      "Simple feature collection with 5 features and 3 fields\n",
      "Geometry type: POLYGON\n",
      "Dimension:     XY\n",
      "Bounding box:  xmin: -148.3548 ymin: 64.95413 xmax: -148.3542 ymax: 64.95441\n",
      "Geodetic CRS:  WGS 84\n",
      "Simple feature collection with 1 feature and 3 fields\n",
      "Geometry type: POLYGON\n",
      "Dimension:     XY\n",
      "Bounding box:  xmin: -148.3548 ymin: 64.9544 xmax: -148.3547 ymax: 64.95441\n",
      "Geodetic CRS:  GCS_unknown\n",
      "     CLASS_NAME CLASS_ID CLASS_CLRS                       geometry\n",
      "1 Murphydome100        1 255,127,80 POLYGON ((-148.3548 64.9544...\n"
     ]
    },
    {
     "name": "stderr",
     "output_type": "stream",
     "text": [
      "Saving 6.67 x 6.67 in image\n",
      "\n"
     ]
    },
    {
     "name": "stdout",
     "output_type": "stream",
     "text": [
      "Simple feature collection with 1 feature and 3 fields\n",
      "Geometry type: POLYGON\n",
      "Dimension:     XY\n",
      "Bounding box:  xmin: -148.3546 ymin: 64.95433 xmax: -148.3546 ymax: 64.95434\n",
      "Geodetic CRS:  GCS_unknown\n",
      "    CLASS_NAME CLASS_ID CLASS_CLRS                       geometry\n",
      "2 Murphydome90        2    0,0,128 POLYGON ((-148.3546 64.9543...\n"
     ]
    },
    {
     "name": "stderr",
     "output_type": "stream",
     "text": [
      "Saving 6.67 x 6.67 in image\n",
      "\n"
     ]
    },
    {
     "name": "stdout",
     "output_type": "stream",
     "text": [
      "Simple feature collection with 1 feature and 3 fields\n",
      "Geometry type: POLYGON\n",
      "Dimension:     XY\n",
      "Bounding box:  xmin: -148.3545 ymin: 64.95426 xmax: -148.3544 ymax: 64.95427\n",
      "Geodetic CRS:  GCS_unknown\n",
      "    CLASS_NAME CLASS_ID CLASS_CLRS                       geometry\n",
      "3 Murphydome80        3    0,255,0 POLYGON ((-148.3545 64.9542...\n"
     ]
    },
    {
     "name": "stderr",
     "output_type": "stream",
     "text": [
      "Saving 6.67 x 6.67 in image\n",
      "\n"
     ]
    },
    {
     "name": "stdout",
     "output_type": "stream",
     "text": [
      "Simple feature collection with 1 feature and 3 fields\n",
      "Geometry type: POLYGON\n",
      "Dimension:     XY\n",
      "Bounding box:  xmin: -148.3543 ymin: 64.95419 xmax: -148.3543 ymax: 64.9542\n",
      "Geodetic CRS:  GCS_unknown\n",
      "    CLASS_NAME CLASS_ID CLASS_CLRS                       geometry\n",
      "4 Murphydome70        4    128,0,0 POLYGON ((-148.3543 64.9542...\n"
     ]
    },
    {
     "name": "stderr",
     "output_type": "stream",
     "text": [
      "Saving 6.67 x 6.67 in image\n",
      "\n"
     ]
    },
    {
     "name": "stdout",
     "output_type": "stream",
     "text": [
      "Simple feature collection with 1 feature and 3 fields\n",
      "Geometry type: POLYGON\n",
      "Dimension:     XY\n",
      "Bounding box:  xmin: -148.3542 ymin: 64.95413 xmax: -148.3542 ymax: 64.95414\n",
      "Geodetic CRS:  GCS_unknown\n",
      "    CLASS_NAME CLASS_ID CLASS_CLRS                       geometry\n",
      "5 Murphydome60        5  0,128,128 POLYGON ((-148.3542 64.9541...\n"
     ]
    },
    {
     "name": "stderr",
     "output_type": "stream",
     "text": [
      "Saving 6.67 x 6.67 in image\n",
      "\n",
      "Saving 6.67 x 6.67 in image\n",
      "\n",
      "Saving 6.67 x 6.67 in image\n",
      "\n",
      "Saving 6.67 x 6.67 in image\n",
      "\n",
      "Saving 6.67 x 6.67 in image\n",
      "\n",
      "Saving 6.67 x 6.67 in image\n",
      "\n"
     ]
    },
    {
     "name": "stdout",
     "output_type": "stream",
     "text": [
      "[1] \"preprocessing raster at Data/Ground_Validation/Imagery/BonanzaQuads.envi\"\n",
      "[1] \"Converted to Data frame?\"\n",
      "[1] TRUE\n",
      "[1] \"Noisy columns removed\"\n",
      "[1] TRUE\n",
      "[1] \"Filtered\"\n",
      "[1] TRUE\n"
     ]
    },
    {
     "name": "stderr",
     "output_type": "stream",
     "text": [
      "Using spline to predict value at new bands...\n",
      "\n",
      "Beware the spectra are now partially smoothed.\n",
      "\n"
     ]
    },
    {
     "name": "stdout",
     "output_type": "stream",
     "text": [
      "[1] \"Imputing...\"\n",
      "[1] \"Handling Outliers with method: none\"\n",
      "[1] \"Transforming the data with transform: none\"\n",
      "          x        y z\n",
      "1 -148.2962 64.70435 3\n",
      "2 -148.2962 64.70435 3\n",
      "3 -148.2962 64.70435 3\n",
      "4 -148.2962 64.70435 3\n",
      "5 -148.2962 64.70435 3\n",
      "6 -148.2962 64.70435 3\n",
      "          x        y z\n",
      "1 -148.2962 64.70435 3\n",
      "2 -148.2962 64.70435 3\n",
      "3 -148.2962 64.70435 3\n",
      "4 -148.2962 64.70435 3\n",
      "5 -148.2962 64.70435 3\n",
      "6 -148.2962 64.70435 3\n",
      "[1] \"Attempting to save to ./validation_saved_output.grd\"\n",
      "[1] \"Converted to Raster\"\n",
      "Reading layer `Bonanza_N_Quads' from data source \n",
      "  `/home/krbundy/GitHub/lecospec/Data/Vectors/Bonanza_N_Quads.shp' \n",
      "  using driver `ESRI Shapefile'\n",
      "Simple feature collection with 11 features and 3 fields\n",
      "Geometry type: POLYGON\n",
      "Dimension:     XY\n",
      "Bounding box:  xmin: 438153.7 ymin: 7176051 xmax: 438205.6 ymax: 7176138\n",
      "Projected CRS: WGS 84 / UTM zone 6N\n",
      "Simple feature collection with 1 feature and 3 fields\n",
      "Geometry type: POLYGON\n",
      "Dimension:     XY\n",
      "Bounding box:  xmin: -148.2966 ymin: 64.70403 xmax: -148.2966 ymax: 64.70404\n",
      "Geodetic CRS:  GCS_unknown\n",
      "  CLASS_NAME CLASS_ID CLASS_CLRS                       geometry\n",
      "1  Bonanza60        7    128,0,0 POLYGON ((-148.2966 64.7040...\n"
     ]
    },
    {
     "name": "stderr",
     "output_type": "stream",
     "text": [
      "Saving 6.67 x 6.67 in image\n",
      "\n"
     ]
    },
    {
     "name": "stdout",
     "output_type": "stream",
     "text": [
      "Simple feature collection with 1 feature and 3 fields\n",
      "Geometry type: POLYGON\n",
      "Dimension:     XY\n",
      "Bounding box:  xmin: -148.2962 ymin: 64.70434 xmax: -148.2962 ymax: 64.70435\n",
      "Geodetic CRS:  GCS_unknown\n",
      "  CLASS_NAME CLASS_ID CLASS_CLRS                       geometry\n",
      "2 Bonanza100       11  127,255,0 POLYGON ((-148.2962 64.7043...\n"
     ]
    },
    {
     "name": "stderr",
     "output_type": "stream",
     "text": [
      "Saving 6.67 x 6.67 in image\n",
      "\n"
     ]
    },
    {
     "name": "stdout",
     "output_type": "stream",
     "text": [
      "Simple feature collection with 1 feature and 3 fields\n",
      "Geometry type: POLYGON\n",
      "Dimension:     XY\n",
      "Bounding box:  xmin: -148.2963 ymin: 64.70426 xmax: -148.2963 ymax: 64.70428\n",
      "Geodetic CRS:  GCS_unknown\n",
      "  CLASS_NAME CLASS_ID CLASS_CLRS                       geometry\n",
      "3  Bonanza90       10 255,127,80 POLYGON ((-148.2963 64.7042...\n"
     ]
    },
    {
     "name": "stderr",
     "output_type": "stream",
     "text": [
      "Saving 6.67 x 6.67 in image\n",
      "\n"
     ]
    },
    {
     "name": "stdout",
     "output_type": "stream",
     "text": [
      "Simple feature collection with 1 feature and 3 fields\n",
      "Geometry type: POLYGON\n",
      "Dimension:     XY\n",
      "Bounding box:  xmin: -148.2964 ymin: 64.70418 xmax: -148.2964 ymax: 64.7042\n",
      "Geodetic CRS:  GCS_unknown\n",
      "  CLASS_NAME CLASS_ID CLASS_CLRS                       geometry\n",
      "4  Bonanza80        9    0,0,128 POLYGON ((-148.2964 64.7042...\n"
     ]
    },
    {
     "name": "stderr",
     "output_type": "stream",
     "text": [
      "Saving 6.67 x 6.67 in image\n",
      "\n"
     ]
    },
    {
     "name": "stdout",
     "output_type": "stream",
     "text": [
      "Simple feature collection with 1 feature and 3 fields\n",
      "Geometry type: POLYGON\n",
      "Dimension:     XY\n",
      "Bounding box:  xmin: -148.2967 ymin: 64.70395 xmax: -148.2967 ymax: 64.70396\n",
      "Geodetic CRS:  GCS_unknown\n",
      "  CLASS_NAME CLASS_ID CLASS_CLRS                       geometry\n",
      "5  Bonanza50        6  255,0,255 POLYGON ((-148.2967 64.7039...\n"
     ]
    },
    {
     "name": "stderr",
     "output_type": "stream",
     "text": [
      "Saving 6.67 x 6.67 in image\n",
      "\n"
     ]
    },
    {
     "name": "stdout",
     "output_type": "stream",
     "text": [
      "Simple feature collection with 1 feature and 3 fields\n",
      "Geometry type: POLYGON\n",
      "Dimension:     XY\n",
      "Bounding box:  xmin: -148.2968 ymin: 64.70387 xmax: -148.2968 ymax: 64.70388\n",
      "Geodetic CRS:  GCS_unknown\n",
      "  CLASS_NAME CLASS_ID CLASS_CLRS                       geometry\n",
      "6  Bonanza40        5  0,255,255 POLYGON ((-148.2968 64.7038...\n"
     ]
    },
    {
     "name": "stderr",
     "output_type": "stream",
     "text": [
      "Saving 6.67 x 6.67 in image\n",
      "\n"
     ]
    },
    {
     "name": "stdout",
     "output_type": "stream",
     "text": [
      "Simple feature collection with 1 feature and 3 fields\n",
      "Geometry type: POLYGON\n",
      "Dimension:     XY\n",
      "Bounding box:  xmin: -148.2969 ymin: 64.70379 xmax: -148.2969 ymax: 64.7038\n",
      "Geodetic CRS:  GCS_unknown\n",
      "  CLASS_NAME CLASS_ID CLASS_CLRS                       geometry\n",
      "7  Bonanza30        4  255,255,0 POLYGON ((-148.2969 64.7038...\n"
     ]
    },
    {
     "name": "stderr",
     "output_type": "stream",
     "text": [
      "Saving 6.67 x 6.67 in image\n",
      "\n"
     ]
    },
    {
     "name": "stdout",
     "output_type": "stream",
     "text": [
      "Simple feature collection with 1 feature and 3 fields\n",
      "Geometry type: POLYGON\n",
      "Dimension:     XY\n",
      "Bounding box:  xmin: -148.297 ymin: 64.70371 xmax: -148.297 ymax: 64.70373\n",
      "Geodetic CRS:  GCS_unknown\n",
      "  CLASS_NAME CLASS_ID CLASS_CLRS                       geometry\n",
      "8  Bonanza20        3    0,0,255 POLYGON ((-148.297 64.70373...\n"
     ]
    },
    {
     "name": "stderr",
     "output_type": "stream",
     "text": [
      "Saving 6.67 x 6.67 in image\n",
      "\n"
     ]
    },
    {
     "name": "stdout",
     "output_type": "stream",
     "text": [
      "Simple feature collection with 1 feature and 3 fields\n",
      "Geometry type: POLYGON\n",
      "Dimension:     XY\n",
      "Bounding box:  xmin: -148.2971 ymin: 64.70364 xmax: -148.2971 ymax: 64.70365\n",
      "Geodetic CRS:  GCS_unknown\n",
      "  CLASS_NAME CLASS_ID CLASS_CLRS                       geometry\n",
      "9  Bonanza10        2    0,128,0 POLYGON ((-148.2971 64.7036...\n"
     ]
    },
    {
     "name": "stderr",
     "output_type": "stream",
     "text": [
      "Saving 6.67 x 6.67 in image\n",
      "\n"
     ]
    },
    {
     "name": "stdout",
     "output_type": "stream",
     "text": [
      "Simple feature collection with 1 feature and 3 fields\n",
      "Geometry type: POLYGON\n",
      "Dimension:     XY\n",
      "Bounding box:  xmin: -148.2972 ymin: 64.70356 xmax: -148.2972 ymax: 64.70357\n",
      "Geodetic CRS:  GCS_unknown\n",
      "   CLASS_NAME CLASS_ID CLASS_CLRS                       geometry\n",
      "10   Bonanza0        1    255,0,0 POLYGON ((-148.2972 64.7035...\n"
     ]
    },
    {
     "name": "stderr",
     "output_type": "stream",
     "text": [
      "Saving 6.67 x 6.67 in image\n",
      "\n"
     ]
    },
    {
     "name": "stdout",
     "output_type": "stream",
     "text": [
      "Simple feature collection with 1 feature and 3 fields\n",
      "Geometry type: POLYGON\n",
      "Dimension:     XY\n",
      "Bounding box:  xmin: -148.2965 ymin: 64.70411 xmax: -148.2965 ymax: 64.70412\n",
      "Geodetic CRS:  GCS_unknown\n",
      "   CLASS_NAME CLASS_ID CLASS_CLRS                       geometry\n",
      "11  Bonanza70        8    0,255,0 POLYGON ((-148.2965 64.7041...\n"
     ]
    },
    {
     "name": "stderr",
     "output_type": "stream",
     "text": [
      "Saving 6.67 x 6.67 in image\n",
      "\n",
      "Saving 6.67 x 6.67 in image\n",
      "\n",
      "Saving 6.67 x 6.67 in image\n",
      "\n",
      "Saving 6.67 x 6.67 in image\n",
      "\n",
      "Saving 6.67 x 6.67 in image\n",
      "\n",
      "Saving 6.67 x 6.67 in image\n",
      "\n",
      "Saving 6.67 x 6.67 in image\n",
      "\n",
      "Saving 6.67 x 6.67 in image\n",
      "\n",
      "Saving 6.67 x 6.67 in image\n",
      "\n",
      "Saving 6.67 x 6.67 in image\n",
      "\n",
      "Saving 6.67 x 6.67 in image\n",
      "\n",
      "Saving 6.67 x 6.67 in image\n",
      "\n",
      "Warning message in confusionMatrix.default(model_predictions, test_labels, mode = \"everything\"):\n",
      "“Levels are not in the same order for reference and data. Refactoring data to match.”\n"
     ]
    },
    {
     "name": "stdout",
     "output_type": "stream",
     "text": [
      "[1] \"preprocessing raster at Data/Ground_Validation/Imagery/BisonGulchQuads.envi\"\n",
      "[1] \"Converted to Data frame?\"\n",
      "[1] TRUE\n",
      "[1] \"Noisy columns removed\"\n",
      "[1] TRUE\n",
      "[1] \"Filtered\"\n",
      "[1] TRUE\n"
     ]
    },
    {
     "name": "stderr",
     "output_type": "stream",
     "text": [
      "Using spline to predict value at new bands...\n",
      "\n",
      "Beware the spectra are now partially smoothed.\n",
      "\n"
     ]
    },
    {
     "name": "stdout",
     "output_type": "stream",
     "text": [
      "[1] \"Imputing...\"\n",
      "[1] \"Handling Outliers with method: none\"\n",
      "[1] \"Transforming the data with transform: none\"\n",
      "          x        y z\n",
      "1 -148.9508 63.80701 5\n",
      "2 -148.9508 63.80701 3\n",
      "3 -148.9508 63.80701 5\n",
      "4 -148.9508 63.80701 1\n",
      "5 -148.9508 63.80701 1\n",
      "6 -148.9508 63.80701 5\n",
      "          x        y z\n",
      "1 -148.9508 63.80701 5\n",
      "2 -148.9508 63.80701 3\n",
      "3 -148.9508 63.80701 5\n",
      "4 -148.9508 63.80701 1\n",
      "5 -148.9508 63.80701 1\n",
      "6 -148.9508 63.80701 5\n",
      "[1] \"Attempting to save to ./validation_saved_output.grd\"\n",
      "[1] \"Converted to Raster\"\n",
      "Reading layer `Bisoon_Quadrats_georeferenced' from data source \n",
      "  `/home/krbundy/GitHub/lecospec/Data/Vectors/Bisoon_Quadrats_georeferenced.shp' \n",
      "  using driver `ESRI Shapefile'\n",
      "Simple feature collection with 9 features and 3 fields\n",
      "Geometry type: POLYGON\n",
      "Dimension:     XY\n",
      "Bounding box:  xmin: -148.9524 ymin: 63.80698 xmax: -148.9508 ymax: 63.80701\n",
      "Geodetic CRS:  WGS 84\n",
      "Simple feature collection with 1 feature and 3 fields\n",
      "Geometry type: POLYGON\n",
      "Dimension:     XY\n",
      "Bounding box:  xmin: -148.9508 ymin: 63.807 xmax: -148.9508 ymax: 63.80701\n",
      "Geodetic CRS:  GCS_unknown\n",
      "  CLASS_ID  CLASS_NAME AREA                       geometry\n",
      "1        1 Bisongulch0  612 POLYGON ((-148.9508 63.807,...\n"
     ]
    },
    {
     "name": "stderr",
     "output_type": "stream",
     "text": [
      "Saving 6.67 x 6.67 in image\n",
      "\n"
     ]
    },
    {
     "name": "stdout",
     "output_type": "stream",
     "text": [
      "Simple feature collection with 1 feature and 3 fields\n",
      "Geometry type: POLYGON\n",
      "Dimension:     XY\n",
      "Bounding box:  xmin: -148.952 ymin: 63.80699 xmax: -148.952 ymax: 63.807\n",
      "Geodetic CRS:  GCS_unknown\n",
      "  CLASS_ID   CLASS_NAME AREA                       geometry\n",
      "2        7 Bisongulch70  649 POLYGON ((-148.952 63.80699...\n"
     ]
    },
    {
     "name": "stderr",
     "output_type": "stream",
     "text": [
      "Saving 6.67 x 6.67 in image\n",
      "\n"
     ]
    },
    {
     "name": "stdout",
     "output_type": "stream",
     "text": [
      "Simple feature collection with 1 feature and 3 fields\n",
      "Geometry type: POLYGON\n",
      "Dimension:     XY\n",
      "Bounding box:  xmin: -148.9522 ymin: 63.80699 xmax: -148.9522 ymax: 63.807\n",
      "Geodetic CRS:  GCS_unknown\n",
      "  CLASS_ID   CLASS_NAME AREA                       geometry\n",
      "3        8 Bisongulch80  661 POLYGON ((-148.9522 63.8069...\n"
     ]
    },
    {
     "name": "stderr",
     "output_type": "stream",
     "text": [
      "Saving 6.67 x 6.67 in image\n",
      "\n"
     ]
    },
    {
     "name": "stdout",
     "output_type": "stream",
     "text": [
      "Simple feature collection with 1 feature and 3 fields\n",
      "Geometry type: POLYGON\n",
      "Dimension:     XY\n",
      "Bounding box:  xmin: -148.951 ymin: 63.80699 xmax: -148.9509 ymax: 63.807\n",
      "Geodetic CRS:  GCS_unknown\n",
      "  CLASS_ID   CLASS_NAME AREA                       geometry\n",
      "4        2 Bisongulch10  649 POLYGON ((-148.9509 63.8069...\n"
     ]
    },
    {
     "name": "stderr",
     "output_type": "stream",
     "text": [
      "Saving 6.67 x 6.67 in image\n",
      "\n"
     ]
    },
    {
     "name": "stdout",
     "output_type": "stream",
     "text": [
      "Simple feature collection with 1 feature and 3 fields\n",
      "Geometry type: POLYGON\n",
      "Dimension:     XY\n",
      "Bounding box:  xmin: -148.9524 ymin: 63.80699 xmax: -148.9524 ymax: 63.807\n",
      "Geodetic CRS:  GCS_unknown\n",
      "  CLASS_ID   CLASS_NAME AREA                       geometry\n",
      "5        9 Bisongulch90  648 POLYGON ((-148.9524 63.8069...\n"
     ]
    },
    {
     "name": "stderr",
     "output_type": "stream",
     "text": [
      "Saving 6.67 x 6.67 in image\n",
      "\n"
     ]
    },
    {
     "name": "stdout",
     "output_type": "stream",
     "text": [
      "Simple feature collection with 1 feature and 3 fields\n",
      "Geometry type: POLYGON\n",
      "Dimension:     XY\n",
      "Bounding box:  xmin: -148.9512 ymin: 63.80699 xmax: -148.9512 ymax: 63.807\n",
      "Geodetic CRS:  GCS_unknown\n",
      "  CLASS_ID   CLASS_NAME AREA                       geometry\n",
      "6        3 Bisongulch20  574 POLYGON ((-148.9512 63.8069...\n"
     ]
    },
    {
     "name": "stderr",
     "output_type": "stream",
     "text": [
      "Saving 6.67 x 6.67 in image\n",
      "\n"
     ]
    },
    {
     "name": "stdout",
     "output_type": "stream",
     "text": [
      "Simple feature collection with 1 feature and 3 fields\n",
      "Geometry type: POLYGON\n",
      "Dimension:     XY\n",
      "Bounding box:  xmin: -148.9518 ymin: 63.80699 xmax: -148.9518 ymax: 63.807\n",
      "Geodetic CRS:  GCS_unknown\n",
      "  CLASS_ID   CLASS_NAME AREA                       geometry\n",
      "7        6 Bisongulch50  673 POLYGON ((-148.9518 63.8069...\n"
     ]
    },
    {
     "name": "stderr",
     "output_type": "stream",
     "text": [
      "Saving 6.67 x 6.67 in image\n",
      "\n"
     ]
    },
    {
     "name": "stdout",
     "output_type": "stream",
     "text": [
      "Simple feature collection with 1 feature and 3 fields\n",
      "Geometry type: POLYGON\n",
      "Dimension:     XY\n",
      "Bounding box:  xmin: -148.9514 ymin: 63.80699 xmax: -148.9514 ymax: 63.807\n",
      "Geodetic CRS:  GCS_unknown\n",
      "  CLASS_ID   CLASS_NAME AREA                       geometry\n",
      "8        4 Bisongulch30  673 POLYGON ((-148.9514 63.8069...\n"
     ]
    },
    {
     "name": "stderr",
     "output_type": "stream",
     "text": [
      "Saving 6.67 x 6.67 in image\n",
      "\n"
     ]
    },
    {
     "name": "stdout",
     "output_type": "stream",
     "text": [
      "Simple feature collection with 1 feature and 3 fields\n",
      "Geometry type: POLYGON\n",
      "Dimension:     XY\n",
      "Bounding box:  xmin: -148.9516 ymin: 63.80698 xmax: -148.9516 ymax: 63.80699\n",
      "Geodetic CRS:  GCS_unknown\n",
      "  CLASS_ID   CLASS_NAME AREA                       geometry\n",
      "9        5 Bisongulch40  674 POLYGON ((-148.9516 63.8069...\n"
     ]
    },
    {
     "name": "stderr",
     "output_type": "stream",
     "text": [
      "Saving 6.67 x 6.67 in image\n",
      "\n",
      "Saving 6.67 x 6.67 in image\n",
      "\n",
      "Saving 6.67 x 6.67 in image\n",
      "\n",
      "Saving 6.67 x 6.67 in image\n",
      "\n",
      "Saving 6.67 x 6.67 in image\n",
      "\n",
      "Saving 6.67 x 6.67 in image\n",
      "\n",
      "Saving 6.67 x 6.67 in image\n",
      "\n",
      "Saving 6.67 x 6.67 in image\n",
      "\n",
      "Saving 6.67 x 6.67 in image\n",
      "\n",
      "Saving 6.67 x 6.67 in image\n",
      "\n"
     ]
    },
    {
     "name": "stdout",
     "output_type": "stream",
     "text": [
      "[1] \"preprocessing raster at Data/Ground_Validation/Imagery/ChatanikaQuads.envi\"\n",
      "[1] \"Converted to Data frame?\"\n",
      "[1] TRUE\n",
      "[1] \"Noisy columns removed\"\n",
      "[1] TRUE\n",
      "[1] \"Filtered\"\n",
      "[1] TRUE\n"
     ]
    },
    {
     "name": "stderr",
     "output_type": "stream",
     "text": [
      "Using spline to predict value at new bands...\n",
      "\n",
      "Beware the spectra are now partially smoothed.\n",
      "\n"
     ]
    },
    {
     "name": "stdout",
     "output_type": "stream",
     "text": [
      "[1] \"Imputing...\"\n",
      "[1] \"Handling Outliers with method: none\"\n",
      "[1] \"Transforming the data with transform: none\"\n",
      "          x        y z\n",
      "1 -147.4827 65.15287 3\n",
      "2 -147.4827 65.15287 2\n",
      "3 -147.4827 65.15287 3\n",
      "4 -147.4827 65.15287 2\n",
      "5 -147.4827 65.15287 2\n",
      "6 -147.4827 65.15287 2\n",
      "          x        y z\n",
      "1 -147.4827 65.15287 3\n",
      "2 -147.4827 65.15287 2\n",
      "3 -147.4827 65.15287 3\n",
      "4 -147.4827 65.15287 2\n",
      "5 -147.4827 65.15287 2\n",
      "6 -147.4827 65.15287 2\n",
      "[1] \"Attempting to save to ./validation_saved_output.grd\"\n",
      "[1] \"Converted to Raster\"\n",
      "Reading layer `ChatanikaQuads_georeferenced' from data source \n",
      "  `/home/krbundy/GitHub/lecospec/Data/Vectors/ChatanikaQuads_georeferenced.shp' \n",
      "  using driver `ESRI Shapefile'\n",
      "Simple feature collection with 11 features and 3 fields\n",
      "Geometry type: POLYGON\n",
      "Dimension:     XY\n",
      "Bounding box:  xmin: -147.4827 ymin: 65.15281 xmax: -147.4806 ymax: 65.15287\n",
      "Geodetic CRS:  WGS 84\n",
      "Simple feature collection with 1 feature and 3 fields\n",
      "Geometry type: POLYGON\n",
      "Dimension:     XY\n",
      "Bounding box:  xmin: -147.4827 ymin: 65.15286 xmax: -147.4827 ymax: 65.15287\n",
      "Geodetic CRS:  GCS_unknown\n",
      "    CLASS_NAME CLASS_ID CLASS_CLRS                       geometry\n",
      "1 Chatanika100       11    0,0,128 POLYGON ((-147.4827 65.1528...\n"
     ]
    },
    {
     "name": "stderr",
     "output_type": "stream",
     "text": [
      "Saving 6.67 x 6.67 in image\n",
      "\n"
     ]
    },
    {
     "name": "stdout",
     "output_type": "stream",
     "text": [
      "Simple feature collection with 1 feature and 3 fields\n",
      "Geometry type: POLYGON\n",
      "Dimension:     XY\n",
      "Bounding box:  xmin: -147.4825 ymin: 65.15285 xmax: -147.4825 ymax: 65.15286\n",
      "Geodetic CRS:  GCS_unknown\n",
      "   CLASS_NAME CLASS_ID CLASS_CLRS                       geometry\n",
      "2 Chatanika90       10    0,255,0 POLYGON ((-147.4825 65.1528...\n"
     ]
    },
    {
     "name": "stderr",
     "output_type": "stream",
     "text": [
      "Saving 6.67 x 6.67 in image\n",
      "\n"
     ]
    },
    {
     "name": "stdout",
     "output_type": "stream",
     "text": [
      "Simple feature collection with 1 feature and 3 fields\n",
      "Geometry type: POLYGON\n",
      "Dimension:     XY\n",
      "Bounding box:  xmin: -147.4821 ymin: 65.15285 xmax: -147.4821 ymax: 65.15286\n",
      "Geodetic CRS:  GCS_unknown\n",
      "   CLASS_NAME CLASS_ID CLASS_CLRS                       geometry\n",
      "3 Chatanika70        8  0,128,128 POLYGON ((-147.4821 65.1528...\n"
     ]
    },
    {
     "name": "stderr",
     "output_type": "stream",
     "text": [
      "Saving 6.67 x 6.67 in image\n",
      "\n"
     ]
    },
    {
     "name": "stdout",
     "output_type": "stream",
     "text": [
      "Simple feature collection with 1 feature and 3 fields\n",
      "Geometry type: POLYGON\n",
      "Dimension:     XY\n",
      "Bounding box:  xmin: -147.4823 ymin: 65.15285 xmax: -147.4823 ymax: 65.15286\n",
      "Geodetic CRS:  GCS_unknown\n",
      "   CLASS_NAME CLASS_ID CLASS_CLRS                       geometry\n",
      "4 Chatanika80        9    128,0,0 POLYGON ((-147.4823 65.1528...\n"
     ]
    },
    {
     "name": "stderr",
     "output_type": "stream",
     "text": [
      "Saving 6.67 x 6.67 in image\n",
      "\n"
     ]
    },
    {
     "name": "stdout",
     "output_type": "stream",
     "text": [
      "Simple feature collection with 1 feature and 3 fields\n",
      "Geometry type: POLYGON\n",
      "Dimension:     XY\n",
      "Bounding box:  xmin: -147.4819 ymin: 65.15285 xmax: -147.4819 ymax: 65.15286\n",
      "Geodetic CRS:  GCS_unknown\n",
      "   CLASS_NAME CLASS_ID CLASS_CLRS                       geometry\n",
      "5 Chatanika60        7  128,128,0 POLYGON ((-147.4819 65.1528...\n"
     ]
    },
    {
     "name": "stderr",
     "output_type": "stream",
     "text": [
      "Saving 6.67 x 6.67 in image\n",
      "\n"
     ]
    },
    {
     "name": "stdout",
     "output_type": "stream",
     "text": [
      "Simple feature collection with 1 feature and 3 fields\n",
      "Geometry type: POLYGON\n",
      "Dimension:     XY\n",
      "Bounding box:  xmin: -147.4817 ymin: 65.15284 xmax: -147.4816 ymax: 65.15285\n",
      "Geodetic CRS:  GCS_unknown\n",
      "   CLASS_NAME CLASS_ID CLASS_CLRS                       geometry\n",
      "6 Chatanika50        6  255,0,255 POLYGON ((-147.4816 65.1528...\n"
     ]
    },
    {
     "name": "stderr",
     "output_type": "stream",
     "text": [
      "Saving 6.67 x 6.67 in image\n",
      "\n"
     ]
    },
    {
     "name": "stdout",
     "output_type": "stream",
     "text": [
      "Simple feature collection with 1 feature and 3 fields\n",
      "Geometry type: POLYGON\n",
      "Dimension:     XY\n",
      "Bounding box:  xmin: -147.4815 ymin: 65.15283 xmax: -147.4814 ymax: 65.15284\n",
      "Geodetic CRS:  GCS_unknown\n",
      "   CLASS_NAME CLASS_ID CLASS_CLRS                       geometry\n",
      "7 Chatanika40        5  0,255,255 POLYGON ((-147.4814 65.1528...\n"
     ]
    },
    {
     "name": "stderr",
     "output_type": "stream",
     "text": [
      "Saving 6.67 x 6.67 in image\n",
      "\n"
     ]
    },
    {
     "name": "stdout",
     "output_type": "stream",
     "text": [
      "Simple feature collection with 1 feature and 3 fields\n",
      "Geometry type: POLYGON\n",
      "Dimension:     XY\n",
      "Bounding box:  xmin: -147.4812 ymin: 65.15282 xmax: -147.4812 ymax: 65.15283\n",
      "Geodetic CRS:  GCS_unknown\n",
      "   CLASS_NAME CLASS_ID CLASS_CLRS                       geometry\n",
      "8 Chatanika30        4  255,255,0 POLYGON ((-147.4812 65.1528...\n"
     ]
    },
    {
     "name": "stderr",
     "output_type": "stream",
     "text": [
      "Saving 6.67 x 6.67 in image\n",
      "\n"
     ]
    },
    {
     "name": "stdout",
     "output_type": "stream",
     "text": [
      "Simple feature collection with 1 feature and 3 fields\n",
      "Geometry type: POLYGON\n",
      "Dimension:     XY\n",
      "Bounding box:  xmin: -147.481 ymin: 65.15281 xmax: -147.481 ymax: 65.15282\n",
      "Geodetic CRS:  GCS_unknown\n",
      "   CLASS_NAME CLASS_ID CLASS_CLRS                       geometry\n",
      "9 Chatanika20        3    0,0,255 POLYGON ((-147.481 65.15282...\n"
     ]
    },
    {
     "name": "stderr",
     "output_type": "stream",
     "text": [
      "Saving 6.67 x 6.67 in image\n",
      "\n"
     ]
    },
    {
     "name": "stdout",
     "output_type": "stream",
     "text": [
      "Simple feature collection with 1 feature and 3 fields\n",
      "Geometry type: POLYGON\n",
      "Dimension:     XY\n",
      "Bounding box:  xmin: -147.4808 ymin: 65.15281 xmax: -147.4808 ymax: 65.15282\n",
      "Geodetic CRS:  GCS_unknown\n",
      "    CLASS_NAME CLASS_ID CLASS_CLRS                       geometry\n",
      "10 Chatanika10        2    0,128,0 POLYGON ((-147.4808 65.1528...\n"
     ]
    },
    {
     "name": "stderr",
     "output_type": "stream",
     "text": [
      "Saving 6.67 x 6.67 in image\n",
      "\n"
     ]
    },
    {
     "name": "stdout",
     "output_type": "stream",
     "text": [
      "Simple feature collection with 1 feature and 3 fields\n",
      "Geometry type: POLYGON\n",
      "Dimension:     XY\n",
      "Bounding box:  xmin: -147.4806 ymin: 65.15281 xmax: -147.4806 ymax: 65.15281\n",
      "Geodetic CRS:  GCS_unknown\n",
      "   CLASS_NAME CLASS_ID CLASS_CLRS                       geometry\n",
      "11 Chatanika0        1    255,0,0 POLYGON ((-147.4806 65.1528...\n"
     ]
    },
    {
     "name": "stderr",
     "output_type": "stream",
     "text": [
      "Saving 6.67 x 6.67 in image\n",
      "\n",
      "Saving 6.67 x 6.67 in image\n",
      "\n",
      "Saving 6.67 x 6.67 in image\n",
      "\n",
      "Saving 6.67 x 6.67 in image\n",
      "\n",
      "Saving 6.67 x 6.67 in image\n",
      "\n",
      "Saving 6.67 x 6.67 in image\n",
      "\n",
      "Saving 6.67 x 6.67 in image\n",
      "\n",
      "Saving 6.67 x 6.67 in image\n",
      "\n",
      "Saving 6.67 x 6.67 in image\n",
      "\n",
      "Saving 6.67 x 6.67 in image\n",
      "\n",
      "Saving 6.67 x 6.67 in image\n",
      "\n",
      "Saving 6.67 x 6.67 in image\n",
      "\n"
     ]
    },
    {
     "name": "stdout",
     "output_type": "stream",
     "text": [
      "[1] \"preprocessing raster at Data/Ground_Validation/Imagery/TwelveMileGulchQuads1.envi\"\n",
      "[1] \"Converted to Data frame?\"\n",
      "[1] TRUE\n",
      "[1] \"Noisy columns removed\"\n",
      "[1] TRUE\n",
      "[1] \"Filtered\"\n",
      "[1] TRUE\n"
     ]
    },
    {
     "name": "stderr",
     "output_type": "stream",
     "text": [
      "Using spline to predict value at new bands...\n",
      "\n",
      "Beware the spectra are now partially smoothed.\n",
      "\n"
     ]
    },
    {
     "name": "stdout",
     "output_type": "stream",
     "text": [
      "[1] \"Imputing...\"\n",
      "[1] \"Handling Outliers with method: none\"\n",
      "[1] \"Transforming the data with transform: none\"\n",
      "         x        y z\n",
      "1 -145.979 65.40191 3\n",
      "2 -145.979 65.40191 3\n",
      "3 -145.979 65.40191 3\n",
      "4 -145.979 65.40191 1\n",
      "5 -145.979 65.40191 3\n",
      "6 -145.979 65.40191 3\n",
      "         x        y z\n",
      "1 -145.979 65.40191 3\n",
      "2 -145.979 65.40191 3\n",
      "3 -145.979 65.40191 3\n",
      "4 -145.979 65.40191 1\n",
      "5 -145.979 65.40191 3\n",
      "6 -145.979 65.40191 3\n",
      "[1] \"Attempting to save to ./validation_saved_output.grd\"\n",
      "[1] \"Converted to Raster\"\n",
      "Reading layer `TwelveMileQ0_10_20_30_40m' from data source \n",
      "  `/home/krbundy/GitHub/lecospec/Data/Vectors/TwelveMileQ0_10_20_30_40m.shp' \n",
      "  using driver `ESRI Shapefile'\n",
      "Simple feature collection with 5 features and 3 fields\n",
      "Geometry type: POLYGON\n",
      "Dimension:     XY\n",
      "Bounding box:  xmin: -145.979 ymin: 65.4018 xmax: -145.9782 ymax: 65.40191\n",
      "Geodetic CRS:  WGS 84\n",
      "Simple feature collection with 1 feature and 3 fields\n",
      "Geometry type: POLYGON\n",
      "Dimension:     XY\n",
      "Bounding box:  xmin: -145.979 ymin: 65.4019 xmax: -145.979 ymax: 65.40191\n",
      "Geodetic CRS:  GCS_unknown\n",
      "  CLASS_ID   CLASS_NAME AREA                       geometry\n",
      "1        4 Twelvemile40  288 POLYGON ((-145.979 65.4019,...\n"
     ]
    },
    {
     "name": "stderr",
     "output_type": "stream",
     "text": [
      "Saving 6.67 x 6.67 in image\n",
      "\n"
     ]
    },
    {
     "name": "stdout",
     "output_type": "stream",
     "text": [
      "Simple feature collection with 1 feature and 3 fields\n",
      "Geometry type: POLYGON\n",
      "Dimension:     XY\n",
      "Bounding box:  xmin: -145.9788 ymin: 65.40187 xmax: -145.9788 ymax: 65.40188\n",
      "Geodetic CRS:  GCS_unknown\n",
      "  CLASS_ID   CLASS_NAME AREA                       geometry\n",
      "2        1 Twelvemile30  281 POLYGON ((-145.9788 65.4018...\n"
     ]
    },
    {
     "name": "stderr",
     "output_type": "stream",
     "text": [
      "Saving 6.67 x 6.67 in image\n",
      "\n"
     ]
    },
    {
     "name": "stdout",
     "output_type": "stream",
     "text": [
      "Simple feature collection with 1 feature and 3 fields\n",
      "Geometry type: POLYGON\n",
      "Dimension:     XY\n",
      "Bounding box:  xmin: -145.9786 ymin: 65.40185 xmax: -145.9786 ymax: 65.40186\n",
      "Geodetic CRS:  GCS_unknown\n",
      "  CLASS_ID   CLASS_NAME AREA                       geometry\n",
      "3        2 Twelvemile20  328 POLYGON ((-145.9786 65.4018...\n"
     ]
    },
    {
     "name": "stderr",
     "output_type": "stream",
     "text": [
      "Saving 6.67 x 6.67 in image\n",
      "\n"
     ]
    },
    {
     "name": "stdout",
     "output_type": "stream",
     "text": [
      "Simple feature collection with 1 feature and 3 fields\n",
      "Geometry type: POLYGON\n",
      "Dimension:     XY\n",
      "Bounding box:  xmin: -145.9784 ymin: 65.40183 xmax: -145.9784 ymax: 65.40184\n",
      "Geodetic CRS:  GCS_unknown\n",
      "  CLASS_ID   CLASS_NAME AREA                       geometry\n",
      "4        3 Twelvemile10  308 POLYGON ((-145.9784 65.4018...\n"
     ]
    },
    {
     "name": "stderr",
     "output_type": "stream",
     "text": [
      "Saving 6.67 x 6.67 in image\n",
      "\n"
     ]
    },
    {
     "name": "stdout",
     "output_type": "stream",
     "text": [
      "Simple feature collection with 1 feature and 3 fields\n",
      "Geometry type: POLYGON\n",
      "Dimension:     XY\n",
      "Bounding box:  xmin: -145.9782 ymin: 65.4018 xmax: -145.9782 ymax: 65.40181\n",
      "Geodetic CRS:  GCS_unknown\n",
      "  CLASS_ID  CLASS_NAME AREA                       geometry\n",
      "5        5 Twelvemile0  336 POLYGON ((-145.9782 65.4018...\n"
     ]
    },
    {
     "name": "stderr",
     "output_type": "stream",
     "text": [
      "Saving 6.67 x 6.67 in image\n",
      "\n",
      "Saving 6.67 x 6.67 in image\n",
      "\n",
      "Saving 6.67 x 6.67 in image\n",
      "\n",
      "Saving 6.67 x 6.67 in image\n",
      "\n",
      "Saving 6.67 x 6.67 in image\n",
      "\n",
      "Saving 6.67 x 6.67 in image\n",
      "\n"
     ]
    },
    {
     "name": "stdout",
     "output_type": "stream",
     "text": [
      "[1] \"preprocessing raster at Data/Ground_Validation/Imagery/TwelveMileGulchQuads2.envi\"\n",
      "[1] \"Converted to Data frame?\"\n",
      "[1] TRUE\n",
      "[1] \"Noisy columns removed\"\n",
      "[1] TRUE\n",
      "[1] \"Filtered\"\n",
      "[1] TRUE\n"
     ]
    },
    {
     "name": "stderr",
     "output_type": "stream",
     "text": [
      "Using spline to predict value at new bands...\n",
      "\n",
      "Beware the spectra are now partially smoothed.\n",
      "\n"
     ]
    },
    {
     "name": "stdout",
     "output_type": "stream",
     "text": [
      "[1] \"Imputing...\"\n",
      "[1] \"Handling Outliers with method: none\"\n",
      "[1] \"Transforming the data with transform: none\"\n",
      "          x        y z\n",
      "1 -145.9802 65.40203 3\n",
      "2 -145.9802 65.40203 3\n",
      "3 -145.9802 65.40203 3\n",
      "4 -145.9802 65.40203 3\n",
      "5 -145.9802 65.40203 3\n",
      "6 -145.9802 65.40203 3\n",
      "          x        y z\n",
      "1 -145.9802 65.40203 3\n",
      "2 -145.9802 65.40203 3\n",
      "3 -145.9802 65.40203 3\n",
      "4 -145.9802 65.40203 3\n",
      "5 -145.9802 65.40203 3\n",
      "6 -145.9802 65.40203 3\n",
      "[1] \"Attempting to save to ./validation_saved_output.grd\"\n",
      "[1] \"Converted to Raster\"\n",
      "Reading layer `TwelveMileQ70_80_90_100m' from data source \n",
      "  `/home/krbundy/GitHub/lecospec/Data/Vectors/TwelveMileQ70_80_90_100m.shp' \n",
      "  using driver `ESRI Shapefile'\n",
      "Simple feature collection with 4 features and 3 fields\n",
      "Geometry type: POLYGON\n",
      "Dimension:     XY\n",
      "Bounding box:  xmin: -145.9802 ymin: 65.40196 xmax: -145.9796 ymax: 65.40203\n",
      "Geodetic CRS:  WGS 84\n",
      "Simple feature collection with 1 feature and 3 fields\n",
      "Geometry type: POLYGON\n",
      "Dimension:     XY\n",
      "Bounding box:  xmin: -145.9802 ymin: 65.40202 xmax: -145.9802 ymax: 65.40203\n",
      "Geodetic CRS:  GCS_unknown\n",
      "  CLASS_ID    CLASS_NAME AREA                       geometry\n",
      "1        4 Twelvemile100  492 POLYGON ((-145.9802 65.4020...\n"
     ]
    },
    {
     "name": "stderr",
     "output_type": "stream",
     "text": [
      "Saving 6.67 x 6.67 in image\n",
      "\n"
     ]
    },
    {
     "name": "stdout",
     "output_type": "stream",
     "text": [
      "Simple feature collection with 1 feature and 3 fields\n",
      "Geometry type: POLYGON\n",
      "Dimension:     XY\n",
      "Bounding box:  xmin: -145.98 ymin: 65.402 xmax: -145.98 ymax: 65.40201\n",
      "Geodetic CRS:  GCS_unknown\n",
      "  CLASS_ID   CLASS_NAME AREA                       geometry\n",
      "2        3 Twelvemile90  473 POLYGON ((-145.98 65.402, -...\n"
     ]
    },
    {
     "name": "stderr",
     "output_type": "stream",
     "text": [
      "Saving 6.67 x 6.67 in image\n",
      "\n"
     ]
    },
    {
     "name": "stdout",
     "output_type": "stream",
     "text": [
      "Simple feature collection with 1 feature and 3 fields\n",
      "Geometry type: POLYGON\n",
      "Dimension:     XY\n",
      "Bounding box:  xmin: -145.9798 ymin: 65.40198 xmax: -145.9798 ymax: 65.40199\n",
      "Geodetic CRS:  GCS_unknown\n",
      "  CLASS_ID   CLASS_NAME AREA                       geometry\n",
      "3        2 Twelvemile80  631 POLYGON ((-145.9798 65.4019...\n"
     ]
    },
    {
     "name": "stderr",
     "output_type": "stream",
     "text": [
      "Saving 6.67 x 6.67 in image\n",
      "\n"
     ]
    },
    {
     "name": "stdout",
     "output_type": "stream",
     "text": [
      "Simple feature collection with 1 feature and 3 fields\n",
      "Geometry type: POLYGON\n",
      "Dimension:     XY\n",
      "Bounding box:  xmin: -145.9796 ymin: 65.40196 xmax: -145.9796 ymax: 65.40197\n",
      "Geodetic CRS:  GCS_unknown\n",
      "  CLASS_ID   CLASS_NAME AREA                       geometry\n",
      "4        1 Twelvemile70  518 POLYGON ((-145.9796 65.4019...\n"
     ]
    },
    {
     "name": "stderr",
     "output_type": "stream",
     "text": [
      "Saving 6.67 x 6.67 in image\n",
      "\n",
      "Saving 6.67 x 6.67 in image\n",
      "\n",
      "Saving 6.67 x 6.67 in image\n",
      "\n",
      "Saving 6.67 x 6.67 in image\n",
      "\n",
      "Saving 6.67 x 6.67 in image\n",
      "\n"
     ]
    },
    {
     "name": "stdout",
     "output_type": "stream",
     "text": [
      "[1] \"preprocessing raster at Data/Ground_Validation/Imagery/EightMileQuads.envi\"\n",
      "[1] \"Converted to Data frame?\"\n",
      "[1] TRUE\n",
      "[1] \"Noisy columns removed\"\n",
      "[1] TRUE\n",
      "[1] \"Filtered\"\n",
      "[1] TRUE\n"
     ]
    },
    {
     "name": "stderr",
     "output_type": "stream",
     "text": [
      "Using spline to predict value at new bands...\n",
      "\n",
      "Beware the spectra are now partially smoothed.\n",
      "\n"
     ]
    },
    {
     "name": "stdout",
     "output_type": "stream",
     "text": [
      "[1] \"Imputing...\"\n",
      "[1] \"Handling Outliers with method: none\"\n",
      "[1] \"Transforming the data with transform: none\"\n",
      "          x        y z\n",
      "1 -149.2529 63.87686 3\n",
      "2 -149.2529 63.87686 3\n",
      "3 -149.2529 63.87686 3\n",
      "4 -149.2529 63.87686 3\n",
      "5 -149.2529 63.87686 3\n",
      "6 -149.2529 63.87686 3\n",
      "          x        y z\n",
      "1 -149.2529 63.87686 3\n",
      "2 -149.2529 63.87686 3\n",
      "3 -149.2529 63.87686 3\n",
      "4 -149.2529 63.87686 3\n",
      "5 -149.2529 63.87686 3\n",
      "6 -149.2529 63.87686 3\n",
      "[1] \"Attempting to save to ./validation_saved_output.grd\"\n",
      "[1] \"Converted to Raster\"\n",
      "Reading layer `EightMile_Quadrats_revised' from data source \n",
      "  `/home/krbundy/GitHub/lecospec/Data/Vectors/EightMile_Quadrats_revised.shp' \n",
      "  using driver `ESRI Shapefile'\n",
      "Simple feature collection with 11 features and 3 fields\n",
      "Geometry type: POLYGON\n",
      "Dimension:     XY\n",
      "Bounding box:  xmin: -149.2549 ymin: 63.87666 xmax: -149.2529 ymax: 63.87686\n",
      "Geodetic CRS:  WGS 84\n",
      "Simple feature collection with 1 feature and 3 fields\n",
      "Geometry type: POLYGON\n",
      "Dimension:     XY\n",
      "Bounding box:  xmin: -149.2547 ymin: 63.87667 xmax: -149.2546 ymax: 63.87669\n",
      "Geodetic CRS:  GCS_unknown\n",
      "   CLASS_NAME CLASS_ID CLASS_CLRS                       geometry\n",
      "1 Eightmile10        2    0,128,0 POLYGON ((-149.2547 63.8766...\n"
     ]
    },
    {
     "name": "stderr",
     "output_type": "stream",
     "text": [
      "Saving 6.67 x 6.67 in image\n",
      "\n"
     ]
    },
    {
     "name": "stdout",
     "output_type": "stream",
     "text": [
      "Simple feature collection with 1 feature and 3 fields\n",
      "Geometry type: POLYGON\n",
      "Dimension:     XY\n",
      "Bounding box:  xmin: -149.2549 ymin: 63.87666 xmax: -149.2548 ymax: 63.87667\n",
      "Geodetic CRS:  GCS_unknown\n",
      "  CLASS_NAME CLASS_ID CLASS_CLRS                       geometry\n",
      "2 Eightmile0        1    255,0,0 POLYGON ((-149.2548 63.8766...\n"
     ]
    },
    {
     "name": "stderr",
     "output_type": "stream",
     "text": [
      "Saving 6.67 x 6.67 in image\n",
      "\n"
     ]
    },
    {
     "name": "stdout",
     "output_type": "stream",
     "text": [
      "Simple feature collection with 1 feature and 3 fields\n",
      "Geometry type: POLYGON\n",
      "Dimension:     XY\n",
      "Bounding box:  xmin: -149.2537 ymin: 63.87675 xmax: -149.2537 ymax: 63.87677\n",
      "Geodetic CRS:  GCS_unknown\n",
      "   CLASS_NAME CLASS_ID CLASS_CLRS                       geometry\n",
      "3 Eightmile60        7  128,128,0 POLYGON ((-149.2537 63.8767...\n"
     ]
    },
    {
     "name": "stderr",
     "output_type": "stream",
     "text": [
      "Saving 6.67 x 6.67 in image\n",
      "\n"
     ]
    },
    {
     "name": "stdout",
     "output_type": "stream",
     "text": [
      "Simple feature collection with 1 feature and 3 fields\n",
      "Geometry type: POLYGON\n",
      "Dimension:     XY\n",
      "Bounding box:  xmin: -149.2539 ymin: 63.87673 xmax: -149.2539 ymax: 63.87674\n",
      "Geodetic CRS:  GCS_unknown\n",
      "   CLASS_NAME CLASS_ID CLASS_CLRS                       geometry\n",
      "4 Eightmile50        6  255,0,255 POLYGON ((-149.2539 63.8767...\n"
     ]
    },
    {
     "name": "stderr",
     "output_type": "stream",
     "text": [
      "Saving 6.67 x 6.67 in image\n",
      "\n"
     ]
    },
    {
     "name": "stdout",
     "output_type": "stream",
     "text": [
      "Simple feature collection with 1 feature and 3 fields\n",
      "Geometry type: POLYGON\n",
      "Dimension:     XY\n",
      "Bounding box:  xmin: -149.2541 ymin: 63.87672 xmax: -149.254 ymax: 63.87673\n",
      "Geodetic CRS:  GCS_unknown\n",
      "   CLASS_NAME CLASS_ID CLASS_CLRS                       geometry\n",
      "5 Eightmile40        5  0,255,255 POLYGON ((-149.254 63.87673...\n"
     ]
    },
    {
     "name": "stderr",
     "output_type": "stream",
     "text": [
      "Saving 6.67 x 6.67 in image\n",
      "\n"
     ]
    },
    {
     "name": "stdout",
     "output_type": "stream",
     "text": [
      "Simple feature collection with 1 feature and 3 fields\n",
      "Geometry type: POLYGON\n",
      "Dimension:     XY\n",
      "Bounding box:  xmin: -149.2543 ymin: 63.87671 xmax: -149.2542 ymax: 63.87672\n",
      "Geodetic CRS:  GCS_unknown\n",
      "   CLASS_NAME CLASS_ID CLASS_CLRS                       geometry\n",
      "6 Eightmile30        4  255,255,0 POLYGON ((-149.2542 63.8767...\n"
     ]
    },
    {
     "name": "stderr",
     "output_type": "stream",
     "text": [
      "Saving 6.67 x 6.67 in image\n",
      "\n"
     ]
    },
    {
     "name": "stdout",
     "output_type": "stream",
     "text": [
      "Simple feature collection with 1 feature and 3 fields\n",
      "Geometry type: POLYGON\n",
      "Dimension:     XY\n",
      "Bounding box:  xmin: -149.2545 ymin: 63.87669 xmax: -149.2544 ymax: 63.8767\n",
      "Geodetic CRS:  GCS_unknown\n",
      "   CLASS_NAME CLASS_ID CLASS_CLRS                       geometry\n",
      "7 Eightmile20        3    0,0,255 POLYGON ((-149.2544 63.8767...\n"
     ]
    },
    {
     "name": "stderr",
     "output_type": "stream",
     "text": [
      "Saving 6.67 x 6.67 in image\n",
      "\n"
     ]
    },
    {
     "name": "stdout",
     "output_type": "stream",
     "text": [
      "Simple feature collection with 1 feature and 3 fields\n",
      "Geometry type: POLYGON\n",
      "Dimension:     XY\n",
      "Bounding box:  xmin: -149.2529 ymin: 63.87685 xmax: -149.2529 ymax: 63.87686\n",
      "Geodetic CRS:  GCS_unknown\n",
      "    CLASS_NAME CLASS_ID CLASS_CLRS                       geometry\n",
      "8 Eightmile100       11    0,255,0 POLYGON ((-149.2529 63.8768...\n"
     ]
    },
    {
     "name": "stderr",
     "output_type": "stream",
     "text": [
      "Saving 6.67 x 6.67 in image\n",
      "\n"
     ]
    },
    {
     "name": "stdout",
     "output_type": "stream",
     "text": [
      "Simple feature collection with 1 feature and 3 fields\n",
      "Geometry type: POLYGON\n",
      "Dimension:     XY\n",
      "Bounding box:  xmin: -149.2531 ymin: 63.87682 xmax: -149.2531 ymax: 63.87684\n",
      "Geodetic CRS:  GCS_unknown\n",
      "   CLASS_NAME CLASS_ID CLASS_CLRS                       geometry\n",
      "9 Eightmile90       10    128,0,0 POLYGON ((-149.2531 63.8768...\n"
     ]
    },
    {
     "name": "stderr",
     "output_type": "stream",
     "text": [
      "Saving 6.67 x 6.67 in image\n",
      "\n"
     ]
    },
    {
     "name": "stdout",
     "output_type": "stream",
     "text": [
      "Simple feature collection with 1 feature and 3 fields\n",
      "Geometry type: POLYGON\n",
      "Dimension:     XY\n",
      "Bounding box:  xmin: -149.2533 ymin: 63.8768 xmax: -149.2533 ymax: 63.87681\n",
      "Geodetic CRS:  GCS_unknown\n",
      "    CLASS_NAME CLASS_ID CLASS_CLRS                       geometry\n",
      "10 Eightmile80        9  255,255,0 POLYGON ((-149.2533 63.8768...\n"
     ]
    },
    {
     "name": "stderr",
     "output_type": "stream",
     "text": [
      "Saving 6.67 x 6.67 in image\n",
      "\n"
     ]
    },
    {
     "name": "stdout",
     "output_type": "stream",
     "text": [
      "Simple feature collection with 1 feature and 3 fields\n",
      "Geometry type: POLYGON\n",
      "Dimension:     XY\n",
      "Bounding box:  xmin: -149.2535 ymin: 63.87678 xmax: -149.2535 ymax: 63.87679\n",
      "Geodetic CRS:  GCS_unknown\n",
      "    CLASS_NAME CLASS_ID CLASS_CLRS                       geometry\n",
      "11 Eightmile70        8  0,128,128 POLYGON ((-149.2535 63.8767...\n"
     ]
    },
    {
     "name": "stderr",
     "output_type": "stream",
     "text": [
      "Saving 6.67 x 6.67 in image\n",
      "\n",
      "Saving 6.67 x 6.67 in image\n",
      "\n",
      "Saving 6.67 x 6.67 in image\n",
      "\n",
      "Saving 6.67 x 6.67 in image\n",
      "\n",
      "Saving 6.67 x 6.67 in image\n",
      "\n",
      "Saving 6.67 x 6.67 in image\n",
      "\n",
      "Saving 6.67 x 6.67 in image\n",
      "\n",
      "Saving 6.67 x 6.67 in image\n",
      "\n",
      "Saving 6.67 x 6.67 in image\n",
      "\n",
      "Saving 6.67 x 6.67 in image\n",
      "\n",
      "Saving 6.67 x 6.67 in image\n",
      "\n",
      "Saving 6.67 x 6.67 in image\n",
      "\n"
     ]
    },
    {
     "name": "stdout",
     "output_type": "stream",
     "text": [
      "[1] \"preprocessing raster at Data/Ground_Validation/Imagery/MurphDomeQuads0_10.envi\"\n",
      "[1] \"Converted to Data frame?\"\n",
      "[1] TRUE\n",
      "[1] \"Noisy columns removed\"\n",
      "[1] TRUE\n",
      "[1] \"Filtered\"\n",
      "[1] TRUE\n"
     ]
    },
    {
     "name": "stderr",
     "output_type": "stream",
     "text": [
      "Using spline to predict value at new bands...\n",
      "\n",
      "Beware the spectra are now partially smoothed.\n",
      "\n"
     ]
    },
    {
     "name": "stdout",
     "output_type": "stream",
     "text": [
      "[1] \"Imputing...\"\n",
      "[1] \"Handling Outliers with method: none\"\n",
      "[1] \"Transforming the data with transform: none\"\n",
      "          x       y z\n",
      "1 -148.3535 64.9538 2\n",
      "2 -148.3535 64.9538 3\n",
      "3 -148.3535 64.9538 3\n",
      "4 -148.3535 64.9538 3\n",
      "5 -148.3535 64.9538 2\n",
      "6 -148.3535 64.9538 3\n",
      "          x       y z\n",
      "1 -148.3535 64.9538 2\n",
      "2 -148.3535 64.9538 3\n",
      "3 -148.3535 64.9538 3\n",
      "4 -148.3535 64.9538 3\n",
      "5 -148.3535 64.9538 2\n",
      "6 -148.3535 64.9538 3\n",
      "[1] \"Attempting to save to ./validation_saved_output.grd\"\n",
      "[1] \"Converted to Raster\"\n",
      "Reading layer `MurphyQuads0_10m' from data source \n",
      "  `/home/krbundy/GitHub/lecospec/Data/Vectors/MurphyQuads0_10m.shp' \n",
      "  using driver `ESRI Shapefile'\n",
      "Simple feature collection with 2 features and 3 fields\n",
      "Geometry type: POLYGON\n",
      "Dimension:     XY\n",
      "Bounding box:  xmin: -148.3535 ymin: 64.95372 xmax: -148.3533 ymax: 64.9538\n",
      "Geodetic CRS:  WGS 84\n",
      "Simple feature collection with 1 feature and 3 fields\n",
      "Geometry type: POLYGON\n",
      "Dimension:     XY\n",
      "Bounding box:  xmin: -148.3535 ymin: 64.95379 xmax: -148.3535 ymax: 64.9538\n",
      "Geodetic CRS:  GCS_unknown\n",
      "    CLASS_NAME CLASS_ID CLASS_CLRS                       geometry\n",
      "1 Murphydome10        1    0,0,255 POLYGON ((-148.3535 64.9538...\n"
     ]
    },
    {
     "name": "stderr",
     "output_type": "stream",
     "text": [
      "Saving 6.67 x 6.67 in image\n",
      "\n"
     ]
    },
    {
     "name": "stdout",
     "output_type": "stream",
     "text": [
      "Simple feature collection with 1 feature and 3 fields\n",
      "Geometry type: POLYGON\n",
      "Dimension:     XY\n",
      "Bounding box:  xmin: -148.3534 ymin: 64.95372 xmax: -148.3533 ymax: 64.95373\n",
      "Geodetic CRS:  GCS_unknown\n",
      "   CLASS_NAME CLASS_ID CLASS_CLRS                       geometry\n",
      "2 Murphydome0        2    0,128,0 POLYGON ((-148.3534 64.9537...\n"
     ]
    },
    {
     "name": "stderr",
     "output_type": "stream",
     "text": [
      "Saving 6.67 x 6.67 in image\n",
      "\n",
      "Saving 6.67 x 6.67 in image\n",
      "\n",
      "Saving 6.67 x 6.67 in image\n",
      "\n"
     ]
    },
    {
     "name": "stdout",
     "output_type": "stream",
     "text": [
      "[1] \"preprocessing raster at Data/Ground_Validation/Imagery/MurphDomeQuads20_50.envi\"\n",
      "[1] \"Converted to Data frame?\"\n",
      "[1] TRUE\n",
      "[1] \"Noisy columns removed\"\n",
      "[1] TRUE\n",
      "[1] \"Filtered\"\n",
      "[1] TRUE\n"
     ]
    },
    {
     "name": "stderr",
     "output_type": "stream",
     "text": [
      "Using spline to predict value at new bands...\n",
      "\n",
      "Beware the spectra are now partially smoothed.\n",
      "\n"
     ]
    },
    {
     "name": "stdout",
     "output_type": "stream",
     "text": [
      "[1] \"Imputing...\"\n",
      "[1] \"Handling Outliers with method: none\"\n",
      "[1] \"Transforming the data with transform: none\"\n",
      "          x        y z\n",
      "1 -148.3540 64.95407 3\n",
      "2 -148.3541 64.95407 2\n",
      "3 -148.3540 64.95407 3\n",
      "4 -148.3540 64.95407 3\n",
      "5 -148.3541 64.95407 3\n",
      "6 -148.3541 64.95407 2\n",
      "          x        y z\n",
      "1 -148.3540 64.95407 3\n",
      "2 -148.3541 64.95407 2\n",
      "3 -148.3540 64.95407 3\n",
      "4 -148.3540 64.95407 3\n",
      "5 -148.3541 64.95407 3\n",
      "6 -148.3541 64.95407 2\n",
      "[1] \"Attempting to save to ./validation_saved_output.grd\"\n",
      "[1] \"Converted to Raster\"\n",
      "Reading layer `MurphyQuads20_50m' from data source \n",
      "  `/home/krbundy/GitHub/lecospec/Data/Vectors/MurphyQuads20_50m.shp' \n",
      "  using driver `ESRI Shapefile'\n",
      "Simple feature collection with 4 features and 3 fields\n",
      "Geometry type: POLYGON\n",
      "Dimension:     XY\n",
      "Bounding box:  xmin: -148.3541 ymin: 64.95384 xmax: -148.3536 ymax: 64.95407\n",
      "Geodetic CRS:  WGS 84\n",
      "Simple feature collection with 1 feature and 3 fields\n",
      "Geometry type: POLYGON\n",
      "Dimension:     XY\n",
      "Bounding box:  xmin: -148.3541 ymin: 64.95406 xmax: -148.354 ymax: 64.95407\n",
      "Geodetic CRS:  GCS_unknown\n",
      "    CLASS_NAME CLASS_ID CLASS_CLRS                       geometry\n",
      "1 Murphydome50        1  128,128,0 POLYGON ((-148.354 64.95407...\n"
     ]
    },
    {
     "name": "stderr",
     "output_type": "stream",
     "text": [
      "Saving 6.67 x 6.67 in image\n",
      "\n"
     ]
    },
    {
     "name": "stdout",
     "output_type": "stream",
     "text": [
      "Simple feature collection with 1 feature and 3 fields\n",
      "Geometry type: POLYGON\n",
      "Dimension:     XY\n",
      "Bounding box:  xmin: -148.3539 ymin: 64.95399 xmax: -148.3539 ymax: 64.954\n",
      "Geodetic CRS:  GCS_unknown\n",
      "    CLASS_NAME CLASS_ID CLASS_CLRS                       geometry\n",
      "2 Murphydome40        2  255,0,255 POLYGON ((-148.3539 64.954,...\n"
     ]
    },
    {
     "name": "stderr",
     "output_type": "stream",
     "text": [
      "Saving 6.67 x 6.67 in image\n",
      "\n"
     ]
    },
    {
     "name": "stdout",
     "output_type": "stream",
     "text": [
      "Simple feature collection with 1 feature and 3 fields\n",
      "Geometry type: POLYGON\n",
      "Dimension:     XY\n",
      "Bounding box:  xmin: -148.3538 ymin: 64.95392 xmax: -148.3537 ymax: 64.95393\n",
      "Geodetic CRS:  GCS_unknown\n",
      "    CLASS_NAME CLASS_ID CLASS_CLRS                       geometry\n",
      "3 Murphydome30        3  0,255,255 POLYGON ((-148.3538 64.9539...\n"
     ]
    },
    {
     "name": "stderr",
     "output_type": "stream",
     "text": [
      "Saving 6.67 x 6.67 in image\n",
      "\n"
     ]
    },
    {
     "name": "stdout",
     "output_type": "stream",
     "text": [
      "Simple feature collection with 1 feature and 3 fields\n",
      "Geometry type: POLYGON\n",
      "Dimension:     XY\n",
      "Bounding box:  xmin: -148.3537 ymin: 64.95384 xmax: -148.3536 ymax: 64.95386\n",
      "Geodetic CRS:  GCS_unknown\n",
      "    CLASS_NAME CLASS_ID CLASS_CLRS                       geometry\n",
      "4 Murphydome20        4  255,255,0 POLYGON ((-148.3536 64.9538...\n"
     ]
    },
    {
     "name": "stderr",
     "output_type": "stream",
     "text": [
      "Saving 6.67 x 6.67 in image\n",
      "\n",
      "Saving 6.67 x 6.67 in image\n",
      "\n",
      "Saving 6.67 x 6.67 in image\n",
      "\n",
      "Saving 6.67 x 6.67 in image\n",
      "\n",
      "Saving 6.67 x 6.67 in image\n",
      "\n"
     ]
    },
    {
     "name": "stdout",
     "output_type": "stream",
     "text": [
      "[1] \"preprocessing raster at Data/Ground_Validation/Imagery/MurphDomeQuads60_100.envi\"\n",
      "[1] \"Converted to Data frame?\"\n",
      "[1] TRUE\n",
      "[1] \"Noisy columns removed\"\n",
      "[1] TRUE\n",
      "[1] \"Filtered\"\n",
      "[1] TRUE\n"
     ]
    },
    {
     "name": "stderr",
     "output_type": "stream",
     "text": [
      "Using spline to predict value at new bands...\n",
      "\n",
      "Beware the spectra are now partially smoothed.\n",
      "\n"
     ]
    },
    {
     "name": "stdout",
     "output_type": "stream",
     "text": [
      "[1] \"Imputing...\"\n",
      "[1] \"Handling Outliers with method: none\"\n",
      "[1] \"Transforming the data with transform: none\"\n",
      "          x        y z\n",
      "1 -148.3548 64.95441 3\n",
      "2 -148.3548 64.95441 3\n",
      "3 -148.3548 64.95441 3\n",
      "4 -148.3548 64.95441 1\n",
      "5 -148.3548 64.95441 3\n",
      "6 -148.3548 64.95441 3\n",
      "          x        y z\n",
      "1 -148.3548 64.95441 3\n",
      "2 -148.3548 64.95441 3\n",
      "3 -148.3548 64.95441 3\n",
      "4 -148.3548 64.95441 1\n",
      "5 -148.3548 64.95441 3\n",
      "6 -148.3548 64.95441 3\n",
      "[1] \"Attempting to save to ./validation_saved_output.grd\"\n",
      "[1] \"Converted to Raster\"\n",
      "Reading layer `MurphyQuads60_100m' from data source \n",
      "  `/home/krbundy/GitHub/lecospec/Data/Vectors/MurphyQuads60_100m.shp' \n",
      "  using driver `ESRI Shapefile'\n",
      "Simple feature collection with 5 features and 3 fields\n",
      "Geometry type: POLYGON\n",
      "Dimension:     XY\n",
      "Bounding box:  xmin: -148.3548 ymin: 64.95413 xmax: -148.3542 ymax: 64.95441\n",
      "Geodetic CRS:  WGS 84\n",
      "Simple feature collection with 1 feature and 3 fields\n",
      "Geometry type: POLYGON\n",
      "Dimension:     XY\n",
      "Bounding box:  xmin: -148.3548 ymin: 64.9544 xmax: -148.3547 ymax: 64.95441\n",
      "Geodetic CRS:  GCS_unknown\n",
      "     CLASS_NAME CLASS_ID CLASS_CLRS                       geometry\n",
      "1 Murphydome100        1 255,127,80 POLYGON ((-148.3548 64.9544...\n"
     ]
    },
    {
     "name": "stderr",
     "output_type": "stream",
     "text": [
      "Saving 6.67 x 6.67 in image\n",
      "\n"
     ]
    },
    {
     "name": "stdout",
     "output_type": "stream",
     "text": [
      "Simple feature collection with 1 feature and 3 fields\n",
      "Geometry type: POLYGON\n",
      "Dimension:     XY\n",
      "Bounding box:  xmin: -148.3546 ymin: 64.95433 xmax: -148.3546 ymax: 64.95434\n",
      "Geodetic CRS:  GCS_unknown\n",
      "    CLASS_NAME CLASS_ID CLASS_CLRS                       geometry\n",
      "2 Murphydome90        2    0,0,128 POLYGON ((-148.3546 64.9543...\n"
     ]
    },
    {
     "name": "stderr",
     "output_type": "stream",
     "text": [
      "Saving 6.67 x 6.67 in image\n",
      "\n"
     ]
    },
    {
     "name": "stdout",
     "output_type": "stream",
     "text": [
      "Simple feature collection with 1 feature and 3 fields\n",
      "Geometry type: POLYGON\n",
      "Dimension:     XY\n",
      "Bounding box:  xmin: -148.3545 ymin: 64.95426 xmax: -148.3544 ymax: 64.95427\n",
      "Geodetic CRS:  GCS_unknown\n",
      "    CLASS_NAME CLASS_ID CLASS_CLRS                       geometry\n",
      "3 Murphydome80        3    0,255,0 POLYGON ((-148.3545 64.9542...\n"
     ]
    },
    {
     "name": "stderr",
     "output_type": "stream",
     "text": [
      "Saving 6.67 x 6.67 in image\n",
      "\n"
     ]
    },
    {
     "name": "stdout",
     "output_type": "stream",
     "text": [
      "Simple feature collection with 1 feature and 3 fields\n",
      "Geometry type: POLYGON\n",
      "Dimension:     XY\n",
      "Bounding box:  xmin: -148.3543 ymin: 64.95419 xmax: -148.3543 ymax: 64.9542\n",
      "Geodetic CRS:  GCS_unknown\n",
      "    CLASS_NAME CLASS_ID CLASS_CLRS                       geometry\n",
      "4 Murphydome70        4    128,0,0 POLYGON ((-148.3543 64.9542...\n"
     ]
    },
    {
     "name": "stderr",
     "output_type": "stream",
     "text": [
      "Saving 6.67 x 6.67 in image\n",
      "\n"
     ]
    },
    {
     "name": "stdout",
     "output_type": "stream",
     "text": [
      "Simple feature collection with 1 feature and 3 fields\n",
      "Geometry type: POLYGON\n",
      "Dimension:     XY\n",
      "Bounding box:  xmin: -148.3542 ymin: 64.95413 xmax: -148.3542 ymax: 64.95414\n",
      "Geodetic CRS:  GCS_unknown\n",
      "    CLASS_NAME CLASS_ID CLASS_CLRS                       geometry\n",
      "5 Murphydome60        5  0,128,128 POLYGON ((-148.3542 64.9541...\n"
     ]
    },
    {
     "name": "stderr",
     "output_type": "stream",
     "text": [
      "Saving 6.67 x 6.67 in image\n",
      "\n",
      "Saving 6.67 x 6.67 in image\n",
      "\n",
      "Saving 6.67 x 6.67 in image\n",
      "\n",
      "Saving 6.67 x 6.67 in image\n",
      "\n",
      "Saving 6.67 x 6.67 in image\n",
      "\n",
      "Saving 6.67 x 6.67 in image\n",
      "\n"
     ]
    },
    {
     "name": "stdout",
     "output_type": "stream",
     "text": [
      "[1] \"preprocessing raster at Data/Ground_Validation/Imagery/BonanzaQuads.envi\"\n",
      "[1] \"Converted to Data frame?\"\n",
      "[1] TRUE\n",
      "[1] \"Noisy columns removed\"\n",
      "[1] TRUE\n",
      "[1] \"Filtered\"\n",
      "[1] TRUE\n"
     ]
    },
    {
     "name": "stderr",
     "output_type": "stream",
     "text": [
      "Using spline to predict value at new bands...\n",
      "\n",
      "Beware the spectra are now partially smoothed.\n",
      "\n"
     ]
    },
    {
     "name": "stdout",
     "output_type": "stream",
     "text": [
      "[1] \"Imputing...\"\n",
      "[1] \"Handling Outliers with method: none\"\n",
      "[1] \"Transforming the data with transform: none\"\n",
      "          x        y z\n",
      "1 -148.2962 64.70435 3\n",
      "2 -148.2962 64.70435 3\n",
      "3 -148.2962 64.70435 3\n",
      "4 -148.2962 64.70435 3\n",
      "5 -148.2962 64.70435 3\n",
      "6 -148.2962 64.70435 6\n",
      "          x        y z\n",
      "1 -148.2962 64.70435 3\n",
      "2 -148.2962 64.70435 3\n",
      "3 -148.2962 64.70435 3\n",
      "4 -148.2962 64.70435 3\n",
      "5 -148.2962 64.70435 3\n",
      "6 -148.2962 64.70435 6\n",
      "[1] \"Attempting to save to ./validation_saved_output.grd\"\n",
      "[1] \"Converted to Raster\"\n",
      "Reading layer `Bonanza_N_Quads' from data source \n",
      "  `/home/krbundy/GitHub/lecospec/Data/Vectors/Bonanza_N_Quads.shp' \n",
      "  using driver `ESRI Shapefile'\n",
      "Simple feature collection with 11 features and 3 fields\n",
      "Geometry type: POLYGON\n",
      "Dimension:     XY\n",
      "Bounding box:  xmin: 438153.7 ymin: 7176051 xmax: 438205.6 ymax: 7176138\n",
      "Projected CRS: WGS 84 / UTM zone 6N\n",
      "Simple feature collection with 1 feature and 3 fields\n",
      "Geometry type: POLYGON\n",
      "Dimension:     XY\n",
      "Bounding box:  xmin: -148.2966 ymin: 64.70403 xmax: -148.2966 ymax: 64.70404\n",
      "Geodetic CRS:  GCS_unknown\n",
      "  CLASS_NAME CLASS_ID CLASS_CLRS                       geometry\n",
      "1  Bonanza60        7    128,0,0 POLYGON ((-148.2966 64.7040...\n"
     ]
    },
    {
     "name": "stderr",
     "output_type": "stream",
     "text": [
      "Saving 6.67 x 6.67 in image\n",
      "\n"
     ]
    },
    {
     "name": "stdout",
     "output_type": "stream",
     "text": [
      "Simple feature collection with 1 feature and 3 fields\n",
      "Geometry type: POLYGON\n",
      "Dimension:     XY\n",
      "Bounding box:  xmin: -148.2962 ymin: 64.70434 xmax: -148.2962 ymax: 64.70435\n",
      "Geodetic CRS:  GCS_unknown\n",
      "  CLASS_NAME CLASS_ID CLASS_CLRS                       geometry\n",
      "2 Bonanza100       11  127,255,0 POLYGON ((-148.2962 64.7043...\n"
     ]
    },
    {
     "name": "stderr",
     "output_type": "stream",
     "text": [
      "Saving 6.67 x 6.67 in image\n",
      "\n"
     ]
    },
    {
     "name": "stdout",
     "output_type": "stream",
     "text": [
      "Simple feature collection with 1 feature and 3 fields\n",
      "Geometry type: POLYGON\n",
      "Dimension:     XY\n",
      "Bounding box:  xmin: -148.2963 ymin: 64.70426 xmax: -148.2963 ymax: 64.70428\n",
      "Geodetic CRS:  GCS_unknown\n",
      "  CLASS_NAME CLASS_ID CLASS_CLRS                       geometry\n",
      "3  Bonanza90       10 255,127,80 POLYGON ((-148.2963 64.7042...\n"
     ]
    },
    {
     "name": "stderr",
     "output_type": "stream",
     "text": [
      "Saving 6.67 x 6.67 in image\n",
      "\n"
     ]
    },
    {
     "name": "stdout",
     "output_type": "stream",
     "text": [
      "Simple feature collection with 1 feature and 3 fields\n",
      "Geometry type: POLYGON\n",
      "Dimension:     XY\n",
      "Bounding box:  xmin: -148.2964 ymin: 64.70418 xmax: -148.2964 ymax: 64.7042\n",
      "Geodetic CRS:  GCS_unknown\n",
      "  CLASS_NAME CLASS_ID CLASS_CLRS                       geometry\n",
      "4  Bonanza80        9    0,0,128 POLYGON ((-148.2964 64.7042...\n"
     ]
    },
    {
     "name": "stderr",
     "output_type": "stream",
     "text": [
      "Saving 6.67 x 6.67 in image\n",
      "\n"
     ]
    },
    {
     "name": "stdout",
     "output_type": "stream",
     "text": [
      "Simple feature collection with 1 feature and 3 fields\n",
      "Geometry type: POLYGON\n",
      "Dimension:     XY\n",
      "Bounding box:  xmin: -148.2967 ymin: 64.70395 xmax: -148.2967 ymax: 64.70396\n",
      "Geodetic CRS:  GCS_unknown\n",
      "  CLASS_NAME CLASS_ID CLASS_CLRS                       geometry\n",
      "5  Bonanza50        6  255,0,255 POLYGON ((-148.2967 64.7039...\n"
     ]
    },
    {
     "name": "stderr",
     "output_type": "stream",
     "text": [
      "Saving 6.67 x 6.67 in image\n",
      "\n"
     ]
    },
    {
     "name": "stdout",
     "output_type": "stream",
     "text": [
      "Simple feature collection with 1 feature and 3 fields\n",
      "Geometry type: POLYGON\n",
      "Dimension:     XY\n",
      "Bounding box:  xmin: -148.2968 ymin: 64.70387 xmax: -148.2968 ymax: 64.70388\n",
      "Geodetic CRS:  GCS_unknown\n",
      "  CLASS_NAME CLASS_ID CLASS_CLRS                       geometry\n",
      "6  Bonanza40        5  0,255,255 POLYGON ((-148.2968 64.7038...\n"
     ]
    },
    {
     "name": "stderr",
     "output_type": "stream",
     "text": [
      "Saving 6.67 x 6.67 in image\n",
      "\n"
     ]
    },
    {
     "name": "stdout",
     "output_type": "stream",
     "text": [
      "Simple feature collection with 1 feature and 3 fields\n",
      "Geometry type: POLYGON\n",
      "Dimension:     XY\n",
      "Bounding box:  xmin: -148.2969 ymin: 64.70379 xmax: -148.2969 ymax: 64.7038\n",
      "Geodetic CRS:  GCS_unknown\n",
      "  CLASS_NAME CLASS_ID CLASS_CLRS                       geometry\n",
      "7  Bonanza30        4  255,255,0 POLYGON ((-148.2969 64.7038...\n"
     ]
    },
    {
     "name": "stderr",
     "output_type": "stream",
     "text": [
      "Saving 6.67 x 6.67 in image\n",
      "\n"
     ]
    },
    {
     "name": "stdout",
     "output_type": "stream",
     "text": [
      "Simple feature collection with 1 feature and 3 fields\n",
      "Geometry type: POLYGON\n",
      "Dimension:     XY\n",
      "Bounding box:  xmin: -148.297 ymin: 64.70371 xmax: -148.297 ymax: 64.70373\n",
      "Geodetic CRS:  GCS_unknown\n",
      "  CLASS_NAME CLASS_ID CLASS_CLRS                       geometry\n",
      "8  Bonanza20        3    0,0,255 POLYGON ((-148.297 64.70373...\n"
     ]
    },
    {
     "name": "stderr",
     "output_type": "stream",
     "text": [
      "Saving 6.67 x 6.67 in image\n",
      "\n"
     ]
    },
    {
     "name": "stdout",
     "output_type": "stream",
     "text": [
      "Simple feature collection with 1 feature and 3 fields\n",
      "Geometry type: POLYGON\n",
      "Dimension:     XY\n",
      "Bounding box:  xmin: -148.2971 ymin: 64.70364 xmax: -148.2971 ymax: 64.70365\n",
      "Geodetic CRS:  GCS_unknown\n",
      "  CLASS_NAME CLASS_ID CLASS_CLRS                       geometry\n",
      "9  Bonanza10        2    0,128,0 POLYGON ((-148.2971 64.7036...\n"
     ]
    },
    {
     "name": "stderr",
     "output_type": "stream",
     "text": [
      "Saving 6.67 x 6.67 in image\n",
      "\n"
     ]
    },
    {
     "name": "stdout",
     "output_type": "stream",
     "text": [
      "Simple feature collection with 1 feature and 3 fields\n",
      "Geometry type: POLYGON\n",
      "Dimension:     XY\n",
      "Bounding box:  xmin: -148.2972 ymin: 64.70356 xmax: -148.2972 ymax: 64.70357\n",
      "Geodetic CRS:  GCS_unknown\n",
      "   CLASS_NAME CLASS_ID CLASS_CLRS                       geometry\n",
      "10   Bonanza0        1    255,0,0 POLYGON ((-148.2972 64.7035...\n"
     ]
    },
    {
     "name": "stderr",
     "output_type": "stream",
     "text": [
      "Saving 6.67 x 6.67 in image\n",
      "\n"
     ]
    },
    {
     "name": "stdout",
     "output_type": "stream",
     "text": [
      "Simple feature collection with 1 feature and 3 fields\n",
      "Geometry type: POLYGON\n",
      "Dimension:     XY\n",
      "Bounding box:  xmin: -148.2965 ymin: 64.70411 xmax: -148.2965 ymax: 64.70412\n",
      "Geodetic CRS:  GCS_unknown\n",
      "   CLASS_NAME CLASS_ID CLASS_CLRS                       geometry\n",
      "11  Bonanza70        8    0,255,0 POLYGON ((-148.2965 64.7041...\n"
     ]
    },
    {
     "name": "stderr",
     "output_type": "stream",
     "text": [
      "Saving 6.67 x 6.67 in image\n",
      "\n",
      "Saving 6.67 x 6.67 in image\n",
      "\n",
      "Saving 6.67 x 6.67 in image\n",
      "\n",
      "Saving 6.67 x 6.67 in image\n",
      "\n",
      "Saving 6.67 x 6.67 in image\n",
      "\n",
      "Saving 6.67 x 6.67 in image\n",
      "\n",
      "Saving 6.67 x 6.67 in image\n",
      "\n",
      "Saving 6.67 x 6.67 in image\n",
      "\n",
      "Saving 6.67 x 6.67 in image\n",
      "\n",
      "Saving 6.67 x 6.67 in image\n",
      "\n",
      "Saving 6.67 x 6.67 in image\n",
      "\n",
      "Saving 6.67 x 6.67 in image\n",
      "\n"
     ]
    }
   ],
   "source": [
    "for(filepath in base_paths){\n",
    "    train_data <- subset(read.csv(paste0(\"Data/gs/x_train/\", filepath)), select = -c(X))\n",
    "    labels <- read.csv(paste0(\"Data/gs/y_train/\", filepath))$x %>% as.factor()\n",
    "\n",
    "    for(o_treatment in outlier_treatments){\n",
    "        for(p_treatment in preprocessing_treatments){\n",
    "            for(w_treatment in weight_treatments){\n",
    "\n",
    "\n",
    "                model_id <- uuid::UUIDgenerate()\n",
    "                save_path <- paste0(\"mle/experiments/gs/\", model_id, \"/\")\n",
    "                if(!dir.exists(save_path)){\n",
    "                    dir.create(save_path)\n",
    "                } \n",
    "\n",
    "                rf_model <- train_model(\n",
    "                    train_data, \n",
    "                    labels, \n",
    "                    test_data,\n",
    "                    test_labels,\n",
    "                    outlier_fn = outlier_functions[[o_treatment]],\n",
    "                    preprocess_fn = preprocess_functions[[p_treatment]],\n",
    "                    weight_fn = weight_functions[[w_treatment]],\n",
    "                    model_id = model_id\n",
    "                )\n",
    "\n",
    "                add_model_to_manifest(\n",
    "                    model_id = model_id,\n",
    "                    outlier = o_treatment,\n",
    "                    preprocessing = p_treatment,\n",
    "                    source = filepath,\n",
    "                    weight = w_treatment,\n",
    "                    logpath=\"./gs_manifest_2.csv\"\n",
    "                )\n",
    "\n",
    "                results <- validate_model(\n",
    "                    rf_model, \n",
    "                    save_path, \n",
    "                    outlier_processing = \"none\",\n",
    "                    transform_type = \"none\",\n",
    "                )\n",
    "\n",
    "                aggregated_results <- aggregate_results(save_path)\n",
    "\n",
    "                plot_by_pft(\n",
    "                    aggregated_results,\n",
    "                    save_path = paste0(save_path, \"aggregate.html\"),\n",
    "                    open = FALSE\n",
    "                )\n",
    "            #\n",
    "                write_validation_table(\n",
    "                    aggregated_results,\n",
    "                    save_path = paste0(save_path, \"table.html\"),\n",
    "                    open = FALSE\n",
    "                )\n",
    "            }\n",
    "        }\n",
    "    }\n",
    "}"
   ]
  },
  {
   "cell_type": "code",
   "execution_count": null,
   "metadata": {
    "vscode": {
     "languageId": "r"
    }
   },
   "outputs": [],
   "source": []
  }
 ],
 "metadata": {
  "kernelspec": {
   "display_name": "R",
   "language": "R",
   "name": "ir"
  },
  "language_info": {
   "codemirror_mode": "r",
   "file_extension": ".r",
   "mimetype": "text/x-r-source",
   "name": "R",
   "pygments_lexer": "r",
   "version": "4.2.2"
  },
  "orig_nbformat": 4
 },
 "nbformat": 4,
 "nbformat_minor": 2
}
